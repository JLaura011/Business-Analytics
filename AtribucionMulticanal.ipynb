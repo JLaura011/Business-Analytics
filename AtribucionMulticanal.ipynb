{
  "nbformat": 4,
  "nbformat_minor": 0,
  "metadata": {
    "colab": {
      "name": "AtribucionMulticanal.ipynb",
      "provenance": [],
      "authorship_tag": "ABX9TyM5Tz5qmCNrVVlKyh/R8ESZ",
      "include_colab_link": true
    },
    "kernelspec": {
      "name": "python3",
      "display_name": "Python 3"
    }
  },
  "cells": [
    {
      "cell_type": "markdown",
      "metadata": {
        "id": "view-in-github",
        "colab_type": "text"
      },
      "source": [
        "<a href=\"https://colab.research.google.com/github/JLaura011/Business-Analytics/blob/master/AtribucionMulticanal.ipynb\" target=\"_parent\"><img src=\"https://colab.research.google.com/assets/colab-badge.svg\" alt=\"Open In Colab\"/></a>"
      ]
    },
    {
      "cell_type": "markdown",
      "metadata": {
        "id": "kJhqazjCiHcv",
        "colab_type": "text"
      },
      "source": [
        "1. Instalamos el paquete de atribución multicanal"
      ]
    },
    {
      "cell_type": "code",
      "metadata": {
        "id": "E-SaG6qdh_hs",
        "colab_type": "code",
        "colab": {
          "base_uri": "https://localhost:8080/",
          "height": 292
        },
        "outputId": "3bf6348e-db10-4cfd-bb75-786c77de02a6"
      },
      "source": [
        "pip  install  marketing_attribution_models"
      ],
      "execution_count": 1,
      "outputs": [
        {
          "output_type": "stream",
          "text": [
            "Collecting marketing_attribution_models\n",
            "  Downloading https://files.pythonhosted.org/packages/f9/81/b76f9f7aa2f1ceb2f5380012840363d37ff3cee72c0a497d3ec253430d59/marketing_attribution_models-1.0.7-py3-none-any.whl\n",
            "Requirement already satisfied: seaborn in /usr/local/lib/python3.6/dist-packages (from marketing_attribution_models) (0.10.1)\n",
            "Requirement already satisfied: matplotlib in /usr/local/lib/python3.6/dist-packages (from marketing_attribution_models) (3.2.2)\n",
            "Requirement already satisfied: numpy in /usr/local/lib/python3.6/dist-packages (from marketing_attribution_models) (1.18.5)\n",
            "Requirement already satisfied: pandas in /usr/local/lib/python3.6/dist-packages (from marketing_attribution_models) (1.0.5)\n",
            "Requirement already satisfied: scipy>=1.0.1 in /usr/local/lib/python3.6/dist-packages (from seaborn->marketing_attribution_models) (1.4.1)\n",
            "Requirement already satisfied: python-dateutil>=2.1 in /usr/local/lib/python3.6/dist-packages (from matplotlib->marketing_attribution_models) (2.8.1)\n",
            "Requirement already satisfied: pyparsing!=2.0.4,!=2.1.2,!=2.1.6,>=2.0.1 in /usr/local/lib/python3.6/dist-packages (from matplotlib->marketing_attribution_models) (2.4.7)\n",
            "Requirement already satisfied: kiwisolver>=1.0.1 in /usr/local/lib/python3.6/dist-packages (from matplotlib->marketing_attribution_models) (1.2.0)\n",
            "Requirement already satisfied: cycler>=0.10 in /usr/local/lib/python3.6/dist-packages (from matplotlib->marketing_attribution_models) (0.10.0)\n",
            "Requirement already satisfied: pytz>=2017.2 in /usr/local/lib/python3.6/dist-packages (from pandas->marketing_attribution_models) (2018.9)\n",
            "Requirement already satisfied: six>=1.5 in /usr/local/lib/python3.6/dist-packages (from python-dateutil>=2.1->matplotlib->marketing_attribution_models) (1.15.0)\n",
            "Installing collected packages: marketing-attribution-models\n",
            "Successfully installed marketing-attribution-models-1.0.7\n"
          ],
          "name": "stdout"
        }
      ]
    },
    {
      "cell_type": "code",
      "metadata": {
        "id": "4HJgY0R2iOq9",
        "colab_type": "code",
        "colab": {
          "base_uri": "https://localhost:8080/",
          "height": 71
        },
        "outputId": "c60d62ad-575a-433d-8b47-b6858a68831b"
      },
      "source": [
        "from marketing_attribution_models  import  MAM"
      ],
      "execution_count": 2,
      "outputs": [
        {
          "output_type": "stream",
          "text": [
            "/usr/local/lib/python3.6/dist-packages/statsmodels/tools/_testing.py:19: FutureWarning: pandas.util.testing is deprecated. Use the functions in the public API at pandas.testing instead.\n",
            "  import pandas.util.testing as tm\n"
          ],
          "name": "stderr"
        }
      ]
    },
    {
      "cell_type": "markdown",
      "metadata": {
        "id": "TfzZhuKzi_ic",
        "colab_type": "text"
      },
      "source": [
        "2. Generamos una base de datos "
      ]
    },
    {
      "cell_type": "code",
      "metadata": {
        "id": "TT9RRaiQiw8A",
        "colab_type": "code",
        "colab": {}
      },
      "source": [
        "attributions  =  MAM ( random_df = True )"
      ],
      "execution_count": 7,
      "outputs": []
    },
    {
      "cell_type": "code",
      "metadata": {
        "id": "QERJfHHSjHx9",
        "colab_type": "code",
        "colab": {
          "base_uri": "https://localhost:8080/",
          "height": 419
        },
        "outputId": "b3fa3c3e-3efb-4a2b-db7d-6756fa5827b3"
      },
      "source": [
        "attributions.DataFrame"
      ],
      "execution_count": 8,
      "outputs": [
        {
          "output_type": "execute_result",
          "data": {
            "text/html": [
              "<div>\n",
              "<style scoped>\n",
              "    .dataframe tbody tr th:only-of-type {\n",
              "        vertical-align: middle;\n",
              "    }\n",
              "\n",
              "    .dataframe tbody tr th {\n",
              "        vertical-align: top;\n",
              "    }\n",
              "\n",
              "    .dataframe thead th {\n",
              "        text-align: right;\n",
              "    }\n",
              "</style>\n",
              "<table border=\"1\" class=\"dataframe\">\n",
              "  <thead>\n",
              "    <tr style=\"text-align: right;\">\n",
              "      <th></th>\n",
              "      <th>journey_id</th>\n",
              "      <th>channels_agg</th>\n",
              "      <th>converted_agg</th>\n",
              "      <th>conversion_value</th>\n",
              "      <th>time_till_conv_agg</th>\n",
              "    </tr>\n",
              "  </thead>\n",
              "  <tbody>\n",
              "    <tr>\n",
              "      <th>0</th>\n",
              "      <td>id:0_J:0</td>\n",
              "      <td>Google Search &gt; Organic &gt; Google Search &gt; Goog...</td>\n",
              "      <td>True</td>\n",
              "      <td>1</td>\n",
              "      <td>408.0 &gt; 336.0 &gt; 216.0 &gt; 216.0 &gt; 120.0 &gt; 0.0</td>\n",
              "    </tr>\n",
              "    <tr>\n",
              "      <th>1</th>\n",
              "      <td>id:0_J:1</td>\n",
              "      <td>Direct &gt; Facebook &gt; Google Search &gt; Google Sea...</td>\n",
              "      <td>True</td>\n",
              "      <td>1</td>\n",
              "      <td>600.0 &gt; 432.0 &gt; 384.0 &gt; 96.0 &gt; 0.0</td>\n",
              "    </tr>\n",
              "    <tr>\n",
              "      <th>2</th>\n",
              "      <td>id:0_J:10</td>\n",
              "      <td>Google Search &gt; Facebook &gt; Organic</td>\n",
              "      <td>True</td>\n",
              "      <td>1</td>\n",
              "      <td>72.0 &gt; 0.0 &gt; 0.0</td>\n",
              "    </tr>\n",
              "    <tr>\n",
              "      <th>3</th>\n",
              "      <td>id:0_J:11</td>\n",
              "      <td>Organic &gt; Facebook &gt; Direct &gt; Google Search &gt; ...</td>\n",
              "      <td>True</td>\n",
              "      <td>1</td>\n",
              "      <td>1248.0 &gt; 1056.0 &gt; 960.0 &gt; 912.0 &gt; 792.0 &gt; 696....</td>\n",
              "    </tr>\n",
              "    <tr>\n",
              "      <th>4</th>\n",
              "      <td>id:0_J:12</td>\n",
              "      <td>Facebook &gt; Organic &gt; Google Search &gt; Organic &gt;...</td>\n",
              "      <td>True</td>\n",
              "      <td>1</td>\n",
              "      <td>1152.0 &gt; 720.0 &gt; 576.0 &gt; 480.0 &gt; 288.0 &gt; 72.0 ...</td>\n",
              "    </tr>\n",
              "    <tr>\n",
              "      <th>...</th>\n",
              "      <td>...</td>\n",
              "      <td>...</td>\n",
              "      <td>...</td>\n",
              "      <td>...</td>\n",
              "      <td>...</td>\n",
              "    </tr>\n",
              "    <tr>\n",
              "      <th>20578</th>\n",
              "      <td>id:9_J:5</td>\n",
              "      <td>Organic &gt; Direct &gt; Google Search</td>\n",
              "      <td>True</td>\n",
              "      <td>1</td>\n",
              "      <td>144.0 &gt; 48.0 &gt; 0.0</td>\n",
              "    </tr>\n",
              "    <tr>\n",
              "      <th>20579</th>\n",
              "      <td>id:9_J:6</td>\n",
              "      <td>Facebook</td>\n",
              "      <td>True</td>\n",
              "      <td>1</td>\n",
              "      <td>0.0</td>\n",
              "    </tr>\n",
              "    <tr>\n",
              "      <th>20580</th>\n",
              "      <td>id:9_J:7</td>\n",
              "      <td>Google Search &gt; Google Search &gt; Organic &gt; Goog...</td>\n",
              "      <td>True</td>\n",
              "      <td>1</td>\n",
              "      <td>408.0 &gt; 408.0 &gt; 312.0 &gt; 312.0 &gt; 144.0 &gt; 120.0 ...</td>\n",
              "    </tr>\n",
              "    <tr>\n",
              "      <th>20581</th>\n",
              "      <td>id:9_J:8</td>\n",
              "      <td>Google Search</td>\n",
              "      <td>True</td>\n",
              "      <td>1</td>\n",
              "      <td>0.0</td>\n",
              "    </tr>\n",
              "    <tr>\n",
              "      <th>20582</th>\n",
              "      <td>id:9_J:9</td>\n",
              "      <td>Organic &gt; Organic</td>\n",
              "      <td>True</td>\n",
              "      <td>1</td>\n",
              "      <td>24.0 &gt; 0.0</td>\n",
              "    </tr>\n",
              "  </tbody>\n",
              "</table>\n",
              "<p>20583 rows × 5 columns</p>\n",
              "</div>"
            ],
            "text/plain": [
              "      journey_id  ...                                 time_till_conv_agg\n",
              "0       id:0_J:0  ...        408.0 > 336.0 > 216.0 > 216.0 > 120.0 > 0.0\n",
              "1       id:0_J:1  ...                 600.0 > 432.0 > 384.0 > 96.0 > 0.0\n",
              "2      id:0_J:10  ...                                   72.0 > 0.0 > 0.0\n",
              "3      id:0_J:11  ...  1248.0 > 1056.0 > 960.0 > 912.0 > 792.0 > 696....\n",
              "4      id:0_J:12  ...  1152.0 > 720.0 > 576.0 > 480.0 > 288.0 > 72.0 ...\n",
              "...          ...  ...                                                ...\n",
              "20578   id:9_J:5  ...                                 144.0 > 48.0 > 0.0\n",
              "20579   id:9_J:6  ...                                                0.0\n",
              "20580   id:9_J:7  ...  408.0 > 408.0 > 312.0 > 312.0 > 144.0 > 120.0 ...\n",
              "20581   id:9_J:8  ...                                                0.0\n",
              "20582   id:9_J:9  ...                                         24.0 > 0.0\n",
              "\n",
              "[20583 rows x 5 columns]"
            ]
          },
          "metadata": {
            "tags": []
          },
          "execution_count": 8
        }
      ]
    },
    {
      "cell_type": "code",
      "metadata": {
        "id": "DO8-HBlEjZqL",
        "colab_type": "code",
        "colab": {
          "base_uri": "https://localhost:8080/",
          "height": 504
        },
        "outputId": "bb8538d9-02e9-4249-8c94-86517cda43e4"
      },
      "source": [
        "attributions.attribution_last_click()\n",
        "attributions.DataFrame"
      ],
      "execution_count": 9,
      "outputs": [
        {
          "output_type": "execute_result",
          "data": {
            "text/html": [
              "<div>\n",
              "<style scoped>\n",
              "    .dataframe tbody tr th:only-of-type {\n",
              "        vertical-align: middle;\n",
              "    }\n",
              "\n",
              "    .dataframe tbody tr th {\n",
              "        vertical-align: top;\n",
              "    }\n",
              "\n",
              "    .dataframe thead th {\n",
              "        text-align: right;\n",
              "    }\n",
              "</style>\n",
              "<table border=\"1\" class=\"dataframe\">\n",
              "  <thead>\n",
              "    <tr style=\"text-align: right;\">\n",
              "      <th></th>\n",
              "      <th>journey_id</th>\n",
              "      <th>channels_agg</th>\n",
              "      <th>converted_agg</th>\n",
              "      <th>conversion_value</th>\n",
              "      <th>time_till_conv_agg</th>\n",
              "      <th>attribution_last_click_heuristic</th>\n",
              "    </tr>\n",
              "  </thead>\n",
              "  <tbody>\n",
              "    <tr>\n",
              "      <th>0</th>\n",
              "      <td>id:0_J:0</td>\n",
              "      <td>Google Search &gt; Organic &gt; Google Search &gt; Goog...</td>\n",
              "      <td>True</td>\n",
              "      <td>1</td>\n",
              "      <td>408.0 &gt; 336.0 &gt; 216.0 &gt; 216.0 &gt; 120.0 &gt; 0.0</td>\n",
              "      <td>0 &gt; 0 &gt; 0 &gt; 0 &gt; 0 &gt; 1</td>\n",
              "    </tr>\n",
              "    <tr>\n",
              "      <th>1</th>\n",
              "      <td>id:0_J:1</td>\n",
              "      <td>Direct &gt; Facebook &gt; Google Search &gt; Google Sea...</td>\n",
              "      <td>True</td>\n",
              "      <td>1</td>\n",
              "      <td>600.0 &gt; 432.0 &gt; 384.0 &gt; 96.0 &gt; 0.0</td>\n",
              "      <td>0 &gt; 0 &gt; 0 &gt; 0 &gt; 1</td>\n",
              "    </tr>\n",
              "    <tr>\n",
              "      <th>2</th>\n",
              "      <td>id:0_J:10</td>\n",
              "      <td>Google Search &gt; Facebook &gt; Organic</td>\n",
              "      <td>True</td>\n",
              "      <td>1</td>\n",
              "      <td>72.0 &gt; 0.0 &gt; 0.0</td>\n",
              "      <td>0 &gt; 0 &gt; 1</td>\n",
              "    </tr>\n",
              "    <tr>\n",
              "      <th>3</th>\n",
              "      <td>id:0_J:11</td>\n",
              "      <td>Organic &gt; Facebook &gt; Direct &gt; Google Search &gt; ...</td>\n",
              "      <td>True</td>\n",
              "      <td>1</td>\n",
              "      <td>1248.0 &gt; 1056.0 &gt; 960.0 &gt; 912.0 &gt; 792.0 &gt; 696....</td>\n",
              "      <td>0 &gt; 0 &gt; 0 &gt; 0 &gt; 0 &gt; 0 &gt; 0 &gt; 0 &gt; 0 &gt; 1</td>\n",
              "    </tr>\n",
              "    <tr>\n",
              "      <th>4</th>\n",
              "      <td>id:0_J:12</td>\n",
              "      <td>Facebook &gt; Organic &gt; Google Search &gt; Organic &gt;...</td>\n",
              "      <td>True</td>\n",
              "      <td>1</td>\n",
              "      <td>1152.0 &gt; 720.0 &gt; 576.0 &gt; 480.0 &gt; 288.0 &gt; 72.0 ...</td>\n",
              "      <td>0 &gt; 0 &gt; 0 &gt; 0 &gt; 0 &gt; 0 &gt; 1</td>\n",
              "    </tr>\n",
              "    <tr>\n",
              "      <th>...</th>\n",
              "      <td>...</td>\n",
              "      <td>...</td>\n",
              "      <td>...</td>\n",
              "      <td>...</td>\n",
              "      <td>...</td>\n",
              "      <td>...</td>\n",
              "    </tr>\n",
              "    <tr>\n",
              "      <th>20578</th>\n",
              "      <td>id:9_J:5</td>\n",
              "      <td>Organic &gt; Direct &gt; Google Search</td>\n",
              "      <td>True</td>\n",
              "      <td>1</td>\n",
              "      <td>144.0 &gt; 48.0 &gt; 0.0</td>\n",
              "      <td>0 &gt; 0 &gt; 1</td>\n",
              "    </tr>\n",
              "    <tr>\n",
              "      <th>20579</th>\n",
              "      <td>id:9_J:6</td>\n",
              "      <td>Facebook</td>\n",
              "      <td>True</td>\n",
              "      <td>1</td>\n",
              "      <td>0.0</td>\n",
              "      <td>1</td>\n",
              "    </tr>\n",
              "    <tr>\n",
              "      <th>20580</th>\n",
              "      <td>id:9_J:7</td>\n",
              "      <td>Google Search &gt; Google Search &gt; Organic &gt; Goog...</td>\n",
              "      <td>True</td>\n",
              "      <td>1</td>\n",
              "      <td>408.0 &gt; 408.0 &gt; 312.0 &gt; 312.0 &gt; 144.0 &gt; 120.0 ...</td>\n",
              "      <td>0 &gt; 0 &gt; 0 &gt; 0 &gt; 0 &gt; 0 &gt; 1</td>\n",
              "    </tr>\n",
              "    <tr>\n",
              "      <th>20581</th>\n",
              "      <td>id:9_J:8</td>\n",
              "      <td>Google Search</td>\n",
              "      <td>True</td>\n",
              "      <td>1</td>\n",
              "      <td>0.0</td>\n",
              "      <td>1</td>\n",
              "    </tr>\n",
              "    <tr>\n",
              "      <th>20582</th>\n",
              "      <td>id:9_J:9</td>\n",
              "      <td>Organic &gt; Organic</td>\n",
              "      <td>True</td>\n",
              "      <td>1</td>\n",
              "      <td>24.0 &gt; 0.0</td>\n",
              "      <td>0 &gt; 1</td>\n",
              "    </tr>\n",
              "  </tbody>\n",
              "</table>\n",
              "<p>20583 rows × 6 columns</p>\n",
              "</div>"
            ],
            "text/plain": [
              "      journey_id  ...       attribution_last_click_heuristic\n",
              "0       id:0_J:0  ...                  0 > 0 > 0 > 0 > 0 > 1\n",
              "1       id:0_J:1  ...                      0 > 0 > 0 > 0 > 1\n",
              "2      id:0_J:10  ...                              0 > 0 > 1\n",
              "3      id:0_J:11  ...  0 > 0 > 0 > 0 > 0 > 0 > 0 > 0 > 0 > 1\n",
              "4      id:0_J:12  ...              0 > 0 > 0 > 0 > 0 > 0 > 1\n",
              "...          ...  ...                                    ...\n",
              "20578   id:9_J:5  ...                              0 > 0 > 1\n",
              "20579   id:9_J:6  ...                                      1\n",
              "20580   id:9_J:7  ...              0 > 0 > 0 > 0 > 0 > 0 > 1\n",
              "20581   id:9_J:8  ...                                      1\n",
              "20582   id:9_J:9  ...                                  0 > 1\n",
              "\n",
              "[20583 rows x 6 columns]"
            ]
          },
          "metadata": {
            "tags": []
          },
          "execution_count": 9
        }
      ]
    },
    {
      "cell_type": "code",
      "metadata": {
        "id": "RcsWLf13jj0F",
        "colab_type": "code",
        "colab": {
          "base_uri": "https://localhost:8080/",
          "height": 297
        },
        "outputId": "ddb63521-f2da-4904-c43b-636a19cfa126"
      },
      "source": [
        "attributions.group_by_channels_models"
      ],
      "execution_count": 10,
      "outputs": [
        {
          "output_type": "execute_result",
          "data": {
            "text/html": [
              "<div>\n",
              "<style scoped>\n",
              "    .dataframe tbody tr th:only-of-type {\n",
              "        vertical-align: middle;\n",
              "    }\n",
              "\n",
              "    .dataframe tbody tr th {\n",
              "        vertical-align: top;\n",
              "    }\n",
              "\n",
              "    .dataframe thead th {\n",
              "        text-align: right;\n",
              "    }\n",
              "</style>\n",
              "<table border=\"1\" class=\"dataframe\">\n",
              "  <thead>\n",
              "    <tr style=\"text-align: right;\">\n",
              "      <th></th>\n",
              "      <th>channels</th>\n",
              "      <th>attribution_last_click_heuristic</th>\n",
              "    </tr>\n",
              "  </thead>\n",
              "  <tbody>\n",
              "    <tr>\n",
              "      <th>0</th>\n",
              "      <td>Direct</td>\n",
              "      <td>2095</td>\n",
              "    </tr>\n",
              "    <tr>\n",
              "      <th>1</th>\n",
              "      <td>Email Marketing</td>\n",
              "      <td>1063</td>\n",
              "    </tr>\n",
              "    <tr>\n",
              "      <th>2</th>\n",
              "      <td>Facebook</td>\n",
              "      <td>3214</td>\n",
              "    </tr>\n",
              "    <tr>\n",
              "      <th>3</th>\n",
              "      <td>Google Display</td>\n",
              "      <td>1077</td>\n",
              "    </tr>\n",
              "    <tr>\n",
              "      <th>4</th>\n",
              "      <td>Google Search</td>\n",
              "      <td>4311</td>\n",
              "    </tr>\n",
              "    <tr>\n",
              "      <th>5</th>\n",
              "      <td>Instagram</td>\n",
              "      <td>1056</td>\n",
              "    </tr>\n",
              "    <tr>\n",
              "      <th>6</th>\n",
              "      <td>Organic</td>\n",
              "      <td>6351</td>\n",
              "    </tr>\n",
              "    <tr>\n",
              "      <th>7</th>\n",
              "      <td>Youtube</td>\n",
              "      <td>1011</td>\n",
              "    </tr>\n",
              "  </tbody>\n",
              "</table>\n",
              "</div>"
            ],
            "text/plain": [
              "          channels  attribution_last_click_heuristic\n",
              "0           Direct                              2095\n",
              "1  Email Marketing                              1063\n",
              "2         Facebook                              3214\n",
              "3   Google Display                              1077\n",
              "4    Google Search                              4311\n",
              "5        Instagram                              1056\n",
              "6          Organic                              6351\n",
              "7          Youtube                              1011"
            ]
          },
          "metadata": {
            "tags": []
          },
          "execution_count": 10
        }
      ]
    },
    {
      "cell_type": "code",
      "metadata": {
        "id": "ez5SAe1wj4zF",
        "colab_type": "code",
        "colab": {
          "base_uri": "https://localhost:8080/",
          "height": 297
        },
        "outputId": "756dc7a5-393e-47c5-9a97-9fb52ba86eaa"
      },
      "source": [
        "attributions.attribution_shapley()\n",
        "attributions.group_by_channels_models"
      ],
      "execution_count": 11,
      "outputs": [
        {
          "output_type": "execute_result",
          "data": {
            "text/html": [
              "<div>\n",
              "<style scoped>\n",
              "    .dataframe tbody tr th:only-of-type {\n",
              "        vertical-align: middle;\n",
              "    }\n",
              "\n",
              "    .dataframe tbody tr th {\n",
              "        vertical-align: top;\n",
              "    }\n",
              "\n",
              "    .dataframe thead th {\n",
              "        text-align: right;\n",
              "    }\n",
              "</style>\n",
              "<table border=\"1\" class=\"dataframe\">\n",
              "  <thead>\n",
              "    <tr style=\"text-align: right;\">\n",
              "      <th></th>\n",
              "      <th>channels</th>\n",
              "      <th>attribution_last_click_heuristic</th>\n",
              "      <th>attribution_shapley_size4_conv_rate_algorithmic</th>\n",
              "    </tr>\n",
              "  </thead>\n",
              "  <tbody>\n",
              "    <tr>\n",
              "      <th>0</th>\n",
              "      <td>Direct</td>\n",
              "      <td>2095</td>\n",
              "      <td>2119.239047</td>\n",
              "    </tr>\n",
              "    <tr>\n",
              "      <th>1</th>\n",
              "      <td>Email Marketing</td>\n",
              "      <td>1063</td>\n",
              "      <td>1088.496936</td>\n",
              "    </tr>\n",
              "    <tr>\n",
              "      <th>2</th>\n",
              "      <td>Facebook</td>\n",
              "      <td>3214</td>\n",
              "      <td>3196.823628</td>\n",
              "    </tr>\n",
              "    <tr>\n",
              "      <th>3</th>\n",
              "      <td>Google Display</td>\n",
              "      <td>1077</td>\n",
              "      <td>1166.054243</td>\n",
              "    </tr>\n",
              "    <tr>\n",
              "      <th>4</th>\n",
              "      <td>Google Search</td>\n",
              "      <td>4311</td>\n",
              "      <td>4292.527373</td>\n",
              "    </tr>\n",
              "    <tr>\n",
              "      <th>5</th>\n",
              "      <td>Instagram</td>\n",
              "      <td>1056</td>\n",
              "      <td>1137.628237</td>\n",
              "    </tr>\n",
              "    <tr>\n",
              "      <th>6</th>\n",
              "      <td>Organic</td>\n",
              "      <td>6351</td>\n",
              "      <td>6080.885387</td>\n",
              "    </tr>\n",
              "    <tr>\n",
              "      <th>7</th>\n",
              "      <td>Youtube</td>\n",
              "      <td>1011</td>\n",
              "      <td>1096.345147</td>\n",
              "    </tr>\n",
              "  </tbody>\n",
              "</table>\n",
              "</div>"
            ],
            "text/plain": [
              "          channels  ...  attribution_shapley_size4_conv_rate_algorithmic\n",
              "0           Direct  ...                                      2119.239047\n",
              "1  Email Marketing  ...                                      1088.496936\n",
              "2         Facebook  ...                                      3196.823628\n",
              "3   Google Display  ...                                      1166.054243\n",
              "4    Google Search  ...                                      4292.527373\n",
              "5        Instagram  ...                                      1137.628237\n",
              "6          Organic  ...                                      6080.885387\n",
              "7          Youtube  ...                                      1096.345147\n",
              "\n",
              "[8 rows x 3 columns]"
            ]
          },
          "metadata": {
            "tags": []
          },
          "execution_count": 11
        }
      ]
    },
    {
      "cell_type": "code",
      "metadata": {
        "id": "Dg182zRCkGZl",
        "colab_type": "code",
        "colab": {}
      },
      "source": [
        "attribution_first_click = attributions.attribution_first_click()"
      ],
      "execution_count": 12,
      "outputs": []
    },
    {
      "cell_type": "code",
      "metadata": {
        "id": "NG6lsaBJkMjM",
        "colab_type": "code",
        "colab": {
          "base_uri": "https://localhost:8080/",
          "height": 221
        },
        "outputId": "51aa40de-a6af-4f9e-c704-cfc120cf9d31"
      },
      "source": [
        "attribution_first_click[0]"
      ],
      "execution_count": 13,
      "outputs": [
        {
          "output_type": "execute_result",
          "data": {
            "text/plain": [
              "0                    [1, 0, 0, 0, 0, 0]\n",
              "1                       [1, 0, 0, 0, 0]\n",
              "2                             [1, 0, 0]\n",
              "3        [1, 0, 0, 0, 0, 0, 0, 0, 0, 0]\n",
              "4                 [1, 0, 0, 0, 0, 0, 0]\n",
              "                      ...              \n",
              "20578                         [1, 0, 0]\n",
              "20579                               [1]\n",
              "20580             [1, 0, 0, 0, 0, 0, 0]\n",
              "20581                               [1]\n",
              "20582                            [1, 0]\n",
              "Length: 20583, dtype: object"
            ]
          },
          "metadata": {
            "tags": []
          },
          "execution_count": 13
        }
      ]
    },
    {
      "cell_type": "code",
      "metadata": {
        "id": "dF00baJRkRck",
        "colab_type": "code",
        "colab": {
          "base_uri": "https://localhost:8080/",
          "height": 297
        },
        "outputId": "75820de2-74f6-4e46-e38c-2febc9d550b1"
      },
      "source": [
        "attribution_first_click[1]\n"
      ],
      "execution_count": 14,
      "outputs": [
        {
          "output_type": "execute_result",
          "data": {
            "text/html": [
              "<div>\n",
              "<style scoped>\n",
              "    .dataframe tbody tr th:only-of-type {\n",
              "        vertical-align: middle;\n",
              "    }\n",
              "\n",
              "    .dataframe tbody tr th {\n",
              "        vertical-align: top;\n",
              "    }\n",
              "\n",
              "    .dataframe thead th {\n",
              "        text-align: right;\n",
              "    }\n",
              "</style>\n",
              "<table border=\"1\" class=\"dataframe\">\n",
              "  <thead>\n",
              "    <tr style=\"text-align: right;\">\n",
              "      <th></th>\n",
              "      <th>channels</th>\n",
              "      <th>attribution_first_click_heuristic</th>\n",
              "    </tr>\n",
              "  </thead>\n",
              "  <tbody>\n",
              "    <tr>\n",
              "      <th>0</th>\n",
              "      <td>Direct</td>\n",
              "      <td>2183</td>\n",
              "    </tr>\n",
              "    <tr>\n",
              "      <th>1</th>\n",
              "      <td>Email Marketing</td>\n",
              "      <td>1069</td>\n",
              "    </tr>\n",
              "    <tr>\n",
              "      <th>2</th>\n",
              "      <td>Facebook</td>\n",
              "      <td>3171</td>\n",
              "    </tr>\n",
              "    <tr>\n",
              "      <th>3</th>\n",
              "      <td>Google Display</td>\n",
              "      <td>1095</td>\n",
              "    </tr>\n",
              "    <tr>\n",
              "      <th>4</th>\n",
              "      <td>Google Search</td>\n",
              "      <td>4274</td>\n",
              "    </tr>\n",
              "    <tr>\n",
              "      <th>5</th>\n",
              "      <td>Instagram</td>\n",
              "      <td>1048</td>\n",
              "    </tr>\n",
              "    <tr>\n",
              "      <th>6</th>\n",
              "      <td>Organic</td>\n",
              "      <td>6337</td>\n",
              "    </tr>\n",
              "    <tr>\n",
              "      <th>7</th>\n",
              "      <td>Youtube</td>\n",
              "      <td>1001</td>\n",
              "    </tr>\n",
              "  </tbody>\n",
              "</table>\n",
              "</div>"
            ],
            "text/plain": [
              "          channels  attribution_first_click_heuristic\n",
              "0           Direct                               2183\n",
              "1  Email Marketing                               1069\n",
              "2         Facebook                               3171\n",
              "3   Google Display                               1095\n",
              "4    Google Search                               4274\n",
              "5        Instagram                               1048\n",
              "6          Organic                               6337\n",
              "7          Youtube                               1001"
            ]
          },
          "metadata": {
            "tags": []
          },
          "execution_count": 14
        }
      ]
    },
    {
      "cell_type": "code",
      "metadata": {
        "id": "OKQC0EkwkS4c",
        "colab_type": "code",
        "colab": {
          "base_uri": "https://localhost:8080/",
          "height": 297
        },
        "outputId": "c31543f5-7202-4f35-db0c-d4833266b201"
      },
      "source": [
        "attributions.attribution_last_click_non(but_not_this_channel='Direct')[1]"
      ],
      "execution_count": 15,
      "outputs": [
        {
          "output_type": "execute_result",
          "data": {
            "text/html": [
              "<div>\n",
              "<style scoped>\n",
              "    .dataframe tbody tr th:only-of-type {\n",
              "        vertical-align: middle;\n",
              "    }\n",
              "\n",
              "    .dataframe tbody tr th {\n",
              "        vertical-align: top;\n",
              "    }\n",
              "\n",
              "    .dataframe thead th {\n",
              "        text-align: right;\n",
              "    }\n",
              "</style>\n",
              "<table border=\"1\" class=\"dataframe\">\n",
              "  <thead>\n",
              "    <tr style=\"text-align: right;\">\n",
              "      <th></th>\n",
              "      <th>channels</th>\n",
              "      <th>attribution_last_click_non_Direct_heuristic</th>\n",
              "    </tr>\n",
              "  </thead>\n",
              "  <tbody>\n",
              "    <tr>\n",
              "      <th>0</th>\n",
              "      <td>Direct</td>\n",
              "      <td>952</td>\n",
              "    </tr>\n",
              "    <tr>\n",
              "      <th>1</th>\n",
              "      <td>Email Marketing</td>\n",
              "      <td>1135</td>\n",
              "    </tr>\n",
              "    <tr>\n",
              "      <th>2</th>\n",
              "      <td>Facebook</td>\n",
              "      <td>3408</td>\n",
              "    </tr>\n",
              "    <tr>\n",
              "      <th>3</th>\n",
              "      <td>Google Display</td>\n",
              "      <td>1142</td>\n",
              "    </tr>\n",
              "    <tr>\n",
              "      <th>4</th>\n",
              "      <td>Google Search</td>\n",
              "      <td>4563</td>\n",
              "    </tr>\n",
              "    <tr>\n",
              "      <th>5</th>\n",
              "      <td>Instagram</td>\n",
              "      <td>1124</td>\n",
              "    </tr>\n",
              "    <tr>\n",
              "      <th>6</th>\n",
              "      <td>Organic</td>\n",
              "      <td>6766</td>\n",
              "    </tr>\n",
              "    <tr>\n",
              "      <th>7</th>\n",
              "      <td>Youtube</td>\n",
              "      <td>1088</td>\n",
              "    </tr>\n",
              "  </tbody>\n",
              "</table>\n",
              "</div>"
            ],
            "text/plain": [
              "          channels  attribution_last_click_non_Direct_heuristic\n",
              "0           Direct                                          952\n",
              "1  Email Marketing                                         1135\n",
              "2         Facebook                                         3408\n",
              "3   Google Display                                         1142\n",
              "4    Google Search                                         4563\n",
              "5        Instagram                                         1124\n",
              "6          Organic                                         6766\n",
              "7          Youtube                                         1088"
            ]
          },
          "metadata": {
            "tags": []
          },
          "execution_count": 15
        }
      ]
    },
    {
      "cell_type": "code",
      "metadata": {
        "id": "Tffy7l3LkXTU",
        "colab_type": "code",
        "colab": {
          "base_uri": "https://localhost:8080/",
          "height": 297
        },
        "outputId": "ca3b6112-7257-43d8-f129-f0486bd05578"
      },
      "source": [
        "attributions.attribution_time_decay(\n",
        "    decay_over_time=0.6,\n",
        "    frequency=7)[1]"
      ],
      "execution_count": 16,
      "outputs": [
        {
          "output_type": "execute_result",
          "data": {
            "text/html": [
              "<div>\n",
              "<style scoped>\n",
              "    .dataframe tbody tr th:only-of-type {\n",
              "        vertical-align: middle;\n",
              "    }\n",
              "\n",
              "    .dataframe tbody tr th {\n",
              "        vertical-align: top;\n",
              "    }\n",
              "\n",
              "    .dataframe thead th {\n",
              "        text-align: right;\n",
              "    }\n",
              "</style>\n",
              "<table border=\"1\" class=\"dataframe\">\n",
              "  <thead>\n",
              "    <tr style=\"text-align: right;\">\n",
              "      <th></th>\n",
              "      <th>channels</th>\n",
              "      <th>attribution_time_decay0.6_freq7_heuristic</th>\n",
              "    </tr>\n",
              "  </thead>\n",
              "  <tbody>\n",
              "    <tr>\n",
              "      <th>0</th>\n",
              "      <td>Direct</td>\n",
              "      <td>2101.938378</td>\n",
              "    </tr>\n",
              "    <tr>\n",
              "      <th>1</th>\n",
              "      <td>Email Marketing</td>\n",
              "      <td>1063.756321</td>\n",
              "    </tr>\n",
              "    <tr>\n",
              "      <th>2</th>\n",
              "      <td>Facebook</td>\n",
              "      <td>3183.272272</td>\n",
              "    </tr>\n",
              "    <tr>\n",
              "      <th>3</th>\n",
              "      <td>Google Display</td>\n",
              "      <td>1087.442748</td>\n",
              "    </tr>\n",
              "    <tr>\n",
              "      <th>4</th>\n",
              "      <td>Google Search</td>\n",
              "      <td>4302.524575</td>\n",
              "    </tr>\n",
              "    <tr>\n",
              "      <th>5</th>\n",
              "      <td>Instagram</td>\n",
              "      <td>1060.322754</td>\n",
              "    </tr>\n",
              "    <tr>\n",
              "      <th>6</th>\n",
              "      <td>Organic</td>\n",
              "      <td>6373.755333</td>\n",
              "    </tr>\n",
              "    <tr>\n",
              "      <th>7</th>\n",
              "      <td>Youtube</td>\n",
              "      <td>1004.987619</td>\n",
              "    </tr>\n",
              "  </tbody>\n",
              "</table>\n",
              "</div>"
            ],
            "text/plain": [
              "          channels  attribution_time_decay0.6_freq7_heuristic\n",
              "0           Direct                                2101.938378\n",
              "1  Email Marketing                                1063.756321\n",
              "2         Facebook                                3183.272272\n",
              "3   Google Display                                1087.442748\n",
              "4    Google Search                                4302.524575\n",
              "5        Instagram                                1060.322754\n",
              "6          Organic                                6373.755333\n",
              "7          Youtube                                1004.987619"
            ]
          },
          "metadata": {
            "tags": []
          },
          "execution_count": 16
        }
      ]
    },
    {
      "cell_type": "code",
      "metadata": {
        "id": "F84UwIOwkelk",
        "colab_type": "code",
        "colab": {}
      },
      "source": [
        "attribution_markov = attributions.attribution_markov(transition_to_same_state=False)"
      ],
      "execution_count": 17,
      "outputs": []
    },
    {
      "cell_type": "code",
      "metadata": {
        "id": "-VdRi-6cmN27",
        "colab_type": "code",
        "colab": {
          "base_uri": "https://localhost:8080/",
          "height": 765
        },
        "outputId": "3ebe9a22-7c16-4b82-c088-ada5c69eaa1a"
      },
      "source": [
        "attributions.attribution_markov(transition_to_same_state=False)"
      ],
      "execution_count": 32,
      "outputs": [
        {
          "output_type": "execute_result",
          "data": {
            "text/plain": [
              "(0        [0.149795259357432, 0.20040948128513608, 0.149...\n",
              " 1        [0.12034755029745343, 0.168771417126913, 0.212...\n",
              " 2        [0.31945380467970835, 0.2531523541196213, 0.42...\n",
              " 3        [0.15516494291398703, 0.09190673048812023, 0.0...\n",
              " 4        [0.10428977359290145, 0.1760710742304871, 0.13...\n",
              "                                ...                        \n",
              " 20578    [0.46086878311345736, 0.19465670174121216, 0.3...\n",
              " 20579                                                [1.0]\n",
              " 20580    [0.15256205390517766, 0.15256205390517766, 0.2...\n",
              " 20581                                                [1.0]\n",
              " 20582                                           [0.5, 0.5]\n",
              " Name: channels, Length: 20583, dtype: object,\n",
              "           channels  attribution_markov_algorithmic\n",
              " 0    Google Search                     4114.147297\n",
              " 1         Facebook                     3260.271307\n",
              " 2  Email Marketing                     1243.164647\n",
              " 3          Youtube                     1222.963902\n",
              " 4   Google Display                     1291.217524\n",
              " 5          Organic                     5504.273828\n",
              " 6        Instagram                     1217.126688\n",
              " 7           Direct                     2324.834808,\n",
              "                  (inicio)  Google Search  ...  (null)  (conversion)\n",
              " (inicio)              0.0       0.211815  ...     0.0      0.000000\n",
              " Google Search         0.0       0.000000  ...     0.0      0.475565\n",
              " Facebook              0.0       0.140779  ...     0.0      0.458422\n",
              " Email Marketing       0.0       0.130834  ...     0.0      0.424013\n",
              " Youtube               0.0       0.119385  ...     0.0      0.409146\n",
              " Google Display        0.0       0.130934  ...     0.0      0.412328\n",
              " Organic               0.0       0.150202  ...     0.0      0.503928\n",
              " Instagram             0.0       0.117911  ...     0.0      0.430845\n",
              " Direct                0.0       0.135324  ...     0.0      0.431514\n",
              " (null)                0.0       0.000000  ...     1.0      0.000000\n",
              " (conversion)          0.0       0.000000  ...     0.0      1.000000\n",
              " \n",
              " [11 rows x 11 columns],\n",
              "                  removal_effect\n",
              " Google Search          0.394614\n",
              " Facebook               0.312714\n",
              " Email Marketing        0.119240\n",
              " Youtube                0.117302\n",
              " Google Display         0.123849\n",
              " Organic                0.527950\n",
              " Instagram              0.116742\n",
              " Direct                 0.222990)"
            ]
          },
          "metadata": {
            "tags": []
          },
          "execution_count": 32
        }
      ]
    },
    {
      "cell_type": "code",
      "metadata": {
        "id": "_tyYM54NlrwB",
        "colab_type": "code",
        "colab": {}
      },
      "source": [
        "from matplotlib.pyplot import *\n",
        "import matplotlib.pyplot as plt"
      ],
      "execution_count": 22,
      "outputs": []
    },
    {
      "cell_type": "code",
      "metadata": {
        "id": "5qahSWwWl63C",
        "colab_type": "code",
        "colab": {}
      },
      "source": [
        "\n",
        "import seaborn as sns"
      ],
      "execution_count": 24,
      "outputs": []
    },
    {
      "cell_type": "code",
      "metadata": {
        "id": "odoNQ8tEkiQc",
        "colab_type": "code",
        "colab": {
          "base_uri": "https://localhost:8080/",
          "height": 609
        },
        "outputId": "ba8fe7ac-48d9-4f73-8b02-8fc32cb77dc0"
      },
      "source": [
        "ax, fig = plt.subplots(figsize=(15,10))\n",
        "sns.heatmap(attribution_markov[2].round(3), cmap=\"YlGnBu\", annot=True, linewidths=.5)"
      ],
      "execution_count": 25,
      "outputs": [
        {
          "output_type": "execute_result",
          "data": {
            "text/plain": [
              "<matplotlib.axes._subplots.AxesSubplot at 0x7f388efa4be0>"
            ]
          },
          "metadata": {
            "tags": []
          },
          "execution_count": 25
        },
        {
          "output_type": "display_data",
          "data": {
            "image/png": "[encoded data removed]",
            "text/plain": [
              "<Figure size 1080x720 with 2 Axes>"
            ]
          },
          "metadata": {
            "tags": []
          }
        }
      ]
    },
    {
      "cell_type": "code",
      "metadata": {
        "id": "hqMhl2V_mvdl",
        "colab_type": "code",
        "colab": {
          "base_uri": "https://localhost:8080/",
          "height": 333
        },
        "outputId": "c046918e-d84c-4e6f-adce-f2e06b7b313e"
      },
      "source": [
        "ax, fig = plt.subplots(figsize=(2,5))\n",
        "sns.heatmap(attribution_markov[3].round(3), cmap=\"YlGnBu\", annot=True, linewidths=.5)"
      ],
      "execution_count": 33,
      "outputs": [
        {
          "output_type": "execute_result",
          "data": {
            "text/plain": [
              "<matplotlib.axes._subplots.AxesSubplot at 0x7f388cba87f0>"
            ]
          },
          "metadata": {
            "tags": []
          },
          "execution_count": 33
        },
        {
          "output_type": "display_data",
          "data": {
            "image/png": "[encoded data removed]",
            "text/plain": [
              "<Figure size 144x360 with 2 Axes>"
            ]
          },
          "metadata": {
            "tags": []
          }
        }
      ]
    },
    {
      "cell_type": "code",
      "metadata": {
        "id": "wGwWvq8Sm1SY",
        "colab_type": "code",
        "colab": {
          "base_uri": "https://localhost:8080/",
          "height": 436
        },
        "outputId": "0145df59-5709-4198-fda7-df2e9675a814"
      },
      "source": [
        "attributions.attribution_shapley(size=4, order=True, values_col='conv_rate')[0]"
      ],
      "execution_count": 34,
      "outputs": [
        {
          "output_type": "execute_result",
          "data": {
            "text/html": [
              "<div>\n",
              "<style scoped>\n",
              "    .dataframe tbody tr th:only-of-type {\n",
              "        vertical-align: middle;\n",
              "    }\n",
              "\n",
              "    .dataframe tbody tr th {\n",
              "        vertical-align: top;\n",
              "    }\n",
              "\n",
              "    .dataframe thead th {\n",
              "        text-align: right;\n",
              "    }\n",
              "</style>\n",
              "<table border=\"1\" class=\"dataframe\">\n",
              "  <thead>\n",
              "    <tr style=\"text-align: right;\">\n",
              "      <th></th>\n",
              "      <th>combinations</th>\n",
              "      <th>conversions</th>\n",
              "      <th>total_sequences</th>\n",
              "      <th>conversion_value</th>\n",
              "      <th>conv_rate</th>\n",
              "      <th>attribution_shapley_size4_conv_rate_order_algorithmic</th>\n",
              "    </tr>\n",
              "  </thead>\n",
              "  <tbody>\n",
              "    <tr>\n",
              "      <th>0</th>\n",
              "      <td>Direct</td>\n",
              "      <td>952</td>\n",
              "      <td>971</td>\n",
              "      <td>952</td>\n",
              "      <td>0.980433</td>\n",
              "      <td>[952.0]</td>\n",
              "    </tr>\n",
              "    <tr>\n",
              "      <th>1</th>\n",
              "      <td>Direct &gt; Email Marketing</td>\n",
              "      <td>36</td>\n",
              "      <td>36</td>\n",
              "      <td>36</td>\n",
              "      <td>1.000000</td>\n",
              "      <td>[17.965666582549566, 18.034333417450434]</td>\n",
              "    </tr>\n",
              "    <tr>\n",
              "      <th>2</th>\n",
              "      <td>Direct &gt; Email Marketing &gt; Facebook</td>\n",
              "      <td>5</td>\n",
              "      <td>5</td>\n",
              "      <td>5</td>\n",
              "      <td>1.000000</td>\n",
              "      <td>[1.6545931223875439, 1.701378459311682, 1.6440...</td>\n",
              "    </tr>\n",
              "    <tr>\n",
              "      <th>3</th>\n",
              "      <td>Direct &gt; Email Marketing &gt; Facebook &gt; Google S...</td>\n",
              "      <td>1</td>\n",
              "      <td>1</td>\n",
              "      <td>1</td>\n",
              "      <td>1.000000</td>\n",
              "      <td>[0.24989904945543137, 0.2534237240182206, 0.24...</td>\n",
              "    </tr>\n",
              "    <tr>\n",
              "      <th>4</th>\n",
              "      <td>Direct &gt; Email Marketing &gt; Facebook &gt; Organic</td>\n",
              "      <td>2</td>\n",
              "      <td>2</td>\n",
              "      <td>2</td>\n",
              "      <td>1.000000</td>\n",
              "      <td>[0.5020226270730659, 0.5039665040343487, 0.503...</td>\n",
              "    </tr>\n",
              "    <tr>\n",
              "      <th>...</th>\n",
              "      <td>...</td>\n",
              "      <td>...</td>\n",
              "      <td>...</td>\n",
              "      <td>...</td>\n",
              "      <td>...</td>\n",
              "      <td>...</td>\n",
              "    </tr>\n",
              "    <tr>\n",
              "      <th>1249</th>\n",
              "      <td>Youtube &gt; Organic &gt; Google Search &gt; Facebook</td>\n",
              "      <td>4</td>\n",
              "      <td>5</td>\n",
              "      <td>4</td>\n",
              "      <td>0.800000</td>\n",
              "      <td>[1.0202815689313676, 0.9669617389272736, 1.083...</td>\n",
              "    </tr>\n",
              "    <tr>\n",
              "      <th>1250</th>\n",
              "      <td>Youtube &gt; Organic &gt; Instagram</td>\n",
              "      <td>4</td>\n",
              "      <td>4</td>\n",
              "      <td>4</td>\n",
              "      <td>1.000000</td>\n",
              "      <td>[1.2976355825537838, 1.4252125017383632, 1.277...</td>\n",
              "    </tr>\n",
              "    <tr>\n",
              "      <th>1251</th>\n",
              "      <td>Youtube &gt; Organic &gt; Instagram &gt; Direct</td>\n",
              "      <td>2</td>\n",
              "      <td>2</td>\n",
              "      <td>2</td>\n",
              "      <td>1.000000</td>\n",
              "      <td>[0.4793682845559065, 0.49403500402011613, 0.54...</td>\n",
              "    </tr>\n",
              "    <tr>\n",
              "      <th>1252</th>\n",
              "      <td>Youtube &gt; Organic &gt; Instagram &gt; Facebook</td>\n",
              "      <td>2</td>\n",
              "      <td>2</td>\n",
              "      <td>2</td>\n",
              "      <td>1.000000</td>\n",
              "      <td>[0.47452888955536343, 0.49876480760874686, 0.5...</td>\n",
              "    </tr>\n",
              "    <tr>\n",
              "      <th>1253</th>\n",
              "      <td>Youtube &gt; Organic &gt; Instagram &gt; Google Search</td>\n",
              "      <td>1</td>\n",
              "      <td>1</td>\n",
              "      <td>1</td>\n",
              "      <td>1.000000</td>\n",
              "      <td>[0.26258325703639, 0.24778094385292587, 0.2385...</td>\n",
              "    </tr>\n",
              "  </tbody>\n",
              "</table>\n",
              "<p>1243 rows × 6 columns</p>\n",
              "</div>"
            ],
            "text/plain": [
              "                                           combinations  ...  attribution_shapley_size4_conv_rate_order_algorithmic\n",
              "0                                                Direct  ...                                            [952.0]    \n",
              "1                              Direct > Email Marketing  ...           [17.965666582549566, 18.034333417450434]    \n",
              "2                   Direct > Email Marketing > Facebook  ...  [1.6545931223875439, 1.701378459311682, 1.6440...    \n",
              "3     Direct > Email Marketing > Facebook > Google S...  ...  [0.24989904945543137, 0.2534237240182206, 0.24...    \n",
              "4         Direct > Email Marketing > Facebook > Organic  ...  [0.5020226270730659, 0.5039665040343487, 0.503...    \n",
              "...                                                 ...  ...                                                ...    \n",
              "1249       Youtube > Organic > Google Search > Facebook  ...  [1.0202815689313676, 0.9669617389272736, 1.083...    \n",
              "1250                      Youtube > Organic > Instagram  ...  [1.2976355825537838, 1.4252125017383632, 1.277...    \n",
              "1251             Youtube > Organic > Instagram > Direct  ...  [0.4793682845559065, 0.49403500402011613, 0.54...    \n",
              "1252           Youtube > Organic > Instagram > Facebook  ...  [0.47452888955536343, 0.49876480760874686, 0.5...    \n",
              "1253      Youtube > Organic > Instagram > Google Search  ...  [0.26258325703639, 0.24778094385292587, 0.2385...    \n",
              "\n",
              "[1243 rows x 6 columns]"
            ]
          },
          "metadata": {
            "tags": []
          },
          "execution_count": 34
        }
      ]
    },
    {
      "cell_type": "code",
      "metadata": {
        "id": "BceB0znKna7g",
        "colab_type": "code",
        "colab": {
          "base_uri": "https://localhost:8080/",
          "height": 419
        },
        "outputId": "3d625240-af7e-4f73-bfa9-13f8bace6c2b"
      },
      "source": [
        "attributions.attribution_shapley(size=3, order=False, values_col='conversions')[0]"
      ],
      "execution_count": 35,
      "outputs": [
        {
          "output_type": "execute_result",
          "data": {
            "text/html": [
              "<div>\n",
              "<style scoped>\n",
              "    .dataframe tbody tr th:only-of-type {\n",
              "        vertical-align: middle;\n",
              "    }\n",
              "\n",
              "    .dataframe tbody tr th {\n",
              "        vertical-align: top;\n",
              "    }\n",
              "\n",
              "    .dataframe thead th {\n",
              "        text-align: right;\n",
              "    }\n",
              "</style>\n",
              "<table border=\"1\" class=\"dataframe\">\n",
              "  <thead>\n",
              "    <tr style=\"text-align: right;\">\n",
              "      <th></th>\n",
              "      <th>combinations</th>\n",
              "      <th>conversions</th>\n",
              "      <th>total_sequences</th>\n",
              "      <th>conversion_value</th>\n",
              "      <th>conv_rate</th>\n",
              "      <th>attribution_shapley_size3_conversions_algorithmic</th>\n",
              "    </tr>\n",
              "  </thead>\n",
              "  <tbody>\n",
              "    <tr>\n",
              "      <th>0</th>\n",
              "      <td>Direct</td>\n",
              "      <td>952</td>\n",
              "      <td>971</td>\n",
              "      <td>952</td>\n",
              "      <td>0.980433</td>\n",
              "      <td>[952.0]</td>\n",
              "    </tr>\n",
              "    <tr>\n",
              "      <th>1</th>\n",
              "      <td>Direct &gt; Email Marketing</td>\n",
              "      <td>59</td>\n",
              "      <td>61</td>\n",
              "      <td>59</td>\n",
              "      <td>0.967213</td>\n",
              "      <td>[283.0, -224.0]</td>\n",
              "    </tr>\n",
              "    <tr>\n",
              "      <th>2</th>\n",
              "      <td>Direct &gt; Email Marketing &gt; Facebook</td>\n",
              "      <td>20</td>\n",
              "      <td>21</td>\n",
              "      <td>20</td>\n",
              "      <td>0.952381</td>\n",
              "      <td>[24.000000000000007, -291.99999999999994, 288.0]</td>\n",
              "    </tr>\n",
              "    <tr>\n",
              "      <th>3</th>\n",
              "      <td>Direct &gt; Email Marketing &gt; Google Display</td>\n",
              "      <td>7</td>\n",
              "      <td>7</td>\n",
              "      <td>7</td>\n",
              "      <td>1.000000</td>\n",
              "      <td>[182.33333333333334, -81.66666666666669, -93.6...</td>\n",
              "    </tr>\n",
              "    <tr>\n",
              "      <th>4</th>\n",
              "      <td>Direct &gt; Email Marketing &gt; Google Search</td>\n",
              "      <td>43</td>\n",
              "      <td>43</td>\n",
              "      <td>43</td>\n",
              "      <td>1.000000</td>\n",
              "      <td>[-79.33333333333333, -395.83333333333337, 518....</td>\n",
              "    </tr>\n",
              "    <tr>\n",
              "      <th>...</th>\n",
              "      <td>...</td>\n",
              "      <td>...</td>\n",
              "      <td>...</td>\n",
              "      <td>...</td>\n",
              "      <td>...</td>\n",
              "      <td>...</td>\n",
              "    </tr>\n",
              "    <tr>\n",
              "      <th>87</th>\n",
              "      <td>Instagram &gt; Organic &gt; Youtube</td>\n",
              "      <td>197</td>\n",
              "      <td>198</td>\n",
              "      <td>197</td>\n",
              "      <td>0.994949</td>\n",
              "      <td>[-417.66666666666663, 1061.3333333333333, -446...</td>\n",
              "    </tr>\n",
              "    <tr>\n",
              "      <th>88</th>\n",
              "      <td>Instagram &gt; Youtube</td>\n",
              "      <td>21</td>\n",
              "      <td>22</td>\n",
              "      <td>21</td>\n",
              "      <td>0.954545</td>\n",
              "      <td>[32.5, -11.5]</td>\n",
              "    </tr>\n",
              "    <tr>\n",
              "      <th>89</th>\n",
              "      <td>Organic</td>\n",
              "      <td>3175</td>\n",
              "      <td>3234</td>\n",
              "      <td>3175</td>\n",
              "      <td>0.981756</td>\n",
              "      <td>[3175.0]</td>\n",
              "    </tr>\n",
              "    <tr>\n",
              "      <th>90</th>\n",
              "      <td>Organic &gt; Youtube</td>\n",
              "      <td>253</td>\n",
              "      <td>254</td>\n",
              "      <td>253</td>\n",
              "      <td>0.996063</td>\n",
              "      <td>[1511.5, -1258.5]</td>\n",
              "    </tr>\n",
              "    <tr>\n",
              "      <th>91</th>\n",
              "      <td>Youtube</td>\n",
              "      <td>405</td>\n",
              "      <td>415</td>\n",
              "      <td>405</td>\n",
              "      <td>0.975904</td>\n",
              "      <td>[405.0]</td>\n",
              "    </tr>\n",
              "  </tbody>\n",
              "</table>\n",
              "<p>92 rows × 6 columns</p>\n",
              "</div>"
            ],
            "text/plain": [
              "                                 combinations  ...  attribution_shapley_size3_conversions_algorithmic\n",
              "0                                      Direct  ...                                            [952.0]\n",
              "1                    Direct > Email Marketing  ...                                    [283.0, -224.0]\n",
              "2         Direct > Email Marketing > Facebook  ...   [24.000000000000007, -291.99999999999994, 288.0]\n",
              "3   Direct > Email Marketing > Google Display  ...  [182.33333333333334, -81.66666666666669, -93.6...\n",
              "4    Direct > Email Marketing > Google Search  ...  [-79.33333333333333, -395.83333333333337, 518....\n",
              "..                                        ...  ...                                                ...\n",
              "87              Instagram > Organic > Youtube  ...  [-417.66666666666663, 1061.3333333333333, -446...\n",
              "88                        Instagram > Youtube  ...                                      [32.5, -11.5]\n",
              "89                                    Organic  ...                                           [3175.0]\n",
              "90                          Organic > Youtube  ...                                  [1511.5, -1258.5]\n",
              "91                                    Youtube  ...                                            [405.0]\n",
              "\n",
              "[92 rows x 6 columns]"
            ]
          },
          "metadata": {
            "tags": []
          },
          "execution_count": 35
        }
      ]
    },
    {
      "cell_type": "code",
      "metadata": {
        "id": "3UWoHU-Mn3zB",
        "colab_type": "code",
        "colab": {
          "base_uri": "https://localhost:8080/",
          "height": 474
        },
        "outputId": "f0d5f565-2aa6-4c17-8b0e-2ded1c2859c6"
      },
      "source": [
        "attributions.plot()"
      ],
      "execution_count": 36,
      "outputs": [
        {
          "output_type": "execute_result",
          "data": {
            "text/plain": [
              "<matplotlib.axes._subplots.AxesSubplot at 0x7f388c072ac8>"
            ]
          },
          "metadata": {
            "tags": []
          },
          "execution_count": 36
        },
        {
          "output_type": "display_data",
          "data": {
            "image/png": "[encoded data removed]",
            "text/plain": [
              "<Figure size 1440x504 with 1 Axes>"
            ]
          },
          "metadata": {
            "tags": []
          }
        }
      ]
    },
    {
      "cell_type": "code",
      "metadata": {
        "id": "TC54Eo8Dn8Px",
        "colab_type": "code",
        "colab": {
          "base_uri": "https://localhost:8080/",
          "height": 474
        },
        "outputId": "3d2c856d-0189-4a9e-d119-905bea0f2684"
      },
      "source": [
        "attributions.plot(model_type='algorithmic')"
      ],
      "execution_count": 37,
      "outputs": [
        {
          "output_type": "execute_result",
          "data": {
            "text/plain": [
              "<matplotlib.axes._subplots.AxesSubplot at 0x7f388cfcdb38>"
            ]
          },
          "metadata": {
            "tags": []
          },
          "execution_count": 37
        },
        {
          "output_type": "display_data",
          "data": {
            "image/png": "[encoded data removed]",
            "text/plain": [
              "<Figure size 1440x504 with 1 Axes>"
            ]
          },
          "metadata": {
            "tags": []
          }
        }
      ]
    }
  ]
}