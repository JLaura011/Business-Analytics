{
  "nbformat": 4,
  "nbformat_minor": 0,
  "metadata": {
    "colab": {
      "name": "Sesión 3 - Segmentación : RFM.ipynb",
      "provenance": [],
      "collapsed_sections": [],
      "include_colab_link": true
    },
    "kernelspec": {
      "name": "python3",
      "display_name": "Python 3"
    }
  },
  "cells": [
    {
      "cell_type": "markdown",
      "metadata": {
        "id": "view-in-github",
        "colab_type": "text"
      },
      "source": [
        "<a href=\"https://colab.research.google.com/github/JLaura011/Business-Analytics/blob/master/Sesi%C3%B3n_3_Segmentaci%C3%B3n_RFM.ipynb\" target=\"_parent\"><img src=\"https://colab.research.google.com/assets/colab-badge.svg\" alt=\"Open In Colab\"/></a>"
      ]
    },
    {
      "cell_type": "markdown",
      "metadata": {
        "id": "xtFv_9CyPtiw",
        "colab_type": "text"
      },
      "source": [
        "#**Sesión 3: Segmentación RFM**\n",
        "<img src=\"https://www.grupolambda.com.pe/wp-content/uploads/2020/03/home-logo.png\" alt=\"drawing\" width=\"300\"/>\n",
        "<br>\n",
        "\n",
        " ##### Docente: Jorge Brian Alarcon Flores "
      ]
    },
    {
      "cell_type": "markdown",
      "metadata": {
        "id": "s8virgvW_oO8",
        "colab_type": "text"
      },
      "source": [
        "#**SEGMENTACIÓN RFM**"
      ]
    },
    {
      "cell_type": "markdown",
      "metadata": {
        "id": "HR3DEJoUP2qU",
        "colab_type": "text"
      },
      "source": [
        "\n",
        "De acuerdo con Chen et al. (2012), el análisis RFM (Recency, Frequency, Monetary) es un enfoque basado en el comportamiento de agrupar clientes en segmentos. Agrupa a los clientes en función de sus transacciones de compra anteriores, es decir, qué tan recientemente, con qué frecuencia y cuánto compró un cliente. \n",
        "\n",
        "RFM segmenta a los clientes en varios grupos o grupos y ayuda a los gerentes a identificar segmentos más importantes / rentables para enfocar su atención y esfuerzo. También ayuda a los especialistas en marketing a identificar a los clientes que tienen más probabilidades de responder a las promociones y también a los servicios de personalización futuros.\n",
        "\n",
        "1. Recency (R): ¿Quién ha comprado recientemente? Significa el número de días desde la última compra (menos reciente es mejor)\n",
        "2. Frecuencia (F): ¿Quién ha comprado con frecuencia? Significa el número total de compras. (alta frecuencia es mejor)\n",
        "3. Monetario (M): ¿Quién tiene un alto monto de compra? Significa el dinero total gastado por el cliente (mejor monetario es mejor)\n",
        "\n",
        "El análisis RFM se basa en el principio de Pareto de que el 80% de su negocio proviene del 20% de sus clientes. "
      ]
    },
    {
      "cell_type": "code",
      "metadata": {
        "id": "72b7KPw8_7fv",
        "colab_type": "code",
        "colab": {}
      },
      "source": [
        "#Importamos librerías\n",
        "import numpy as np\n",
        "import pandas as pd \n",
        "import matplotlib.pyplot as plt \n",
        "import datetime as dt"
      ],
      "execution_count": null,
      "outputs": []
    },
    {
      "cell_type": "code",
      "metadata": {
        "id": "4g8B1gPB_8b6",
        "colab_type": "code",
        "colab": {}
      },
      "source": [
        "#Importamos la data\n",
        "url = 'https://raw.githubusercontent.com/JBrianAlicorp/Business-Analytics/master/Data_CLV.csv'\n",
        "df = pd.read_csv(url,encoding='latin1')"
      ],
      "execution_count": null,
      "outputs": []
    },
    {
      "cell_type": "code",
      "metadata": {
        "id": "4ct-kRjEACoS",
        "colab_type": "code",
        "colab": {
          "base_uri": "https://localhost:8080/",
          "height": 277
        },
        "outputId": "a2760d0d-cfd6-451a-b885-8e53b43f4c6d"
      },
      "source": [
        "# Hacemos un resumen de la info del dataset\n",
        "df.info()"
      ],
      "execution_count": null,
      "outputs": [
        {
          "output_type": "stream",
          "text": [
            "<class 'pandas.core.frame.DataFrame'>\n",
            "RangeIndex: 275081 entries, 0 to 275080\n",
            "Data columns (total 8 columns):\n",
            " #   Column       Non-Null Count   Dtype  \n",
            "---  ------       --------------   -----  \n",
            " 0   InvoiceNo    275081 non-null  object \n",
            " 1   StockCode    275081 non-null  object \n",
            " 2   Description  274597 non-null  object \n",
            " 3   Quantity     275081 non-null  int64  \n",
            " 4   InvoiceDate  275081 non-null  object \n",
            " 5   UnitPrice    275081 non-null  float64\n",
            " 6   CustomerID   216276 non-null  float64\n",
            " 7   Country      275081 non-null  object \n",
            "dtypes: float64(2), int64(1), object(5)\n",
            "memory usage: 16.8+ MB\n"
          ],
          "name": "stdout"
        }
      ]
    },
    {
      "cell_type": "markdown",
      "metadata": {
        "id": "Dr2rTIdiAY_c",
        "colab_type": "text"
      },
      "source": [
        "**Verificar valores perdidos**\n",
        "\n",
        "Las columnas que se requieren para el análisis RFM son Número de factura, Cantidad, Fecha de Factura, Precio de Unidad e ID de Cliente. Necesitamos asegurarnos de que no haya valores faltantes en estas columnas o que se traten antes del análisis."
      ]
    },
    {
      "cell_type": "code",
      "metadata": {
        "id": "AkvTyIz2AMuw",
        "colab_type": "code",
        "colab": {
          "base_uri": "https://localhost:8080/",
          "height": 173
        },
        "outputId": "d006922b-2930-4947-a0af-e8b8f3762c5b"
      },
      "source": [
        "df.isnull().sum()"
      ],
      "execution_count": null,
      "outputs": [
        {
          "output_type": "execute_result",
          "data": {
            "text/plain": [
              "InvoiceNo          0\n",
              "StockCode          0\n",
              "Description      484\n",
              "Quantity           0\n",
              "InvoiceDate        0\n",
              "UnitPrice          0\n",
              "CustomerID     58805\n",
              "Country            0\n",
              "dtype: int64"
            ]
          },
          "metadata": {
            "tags": []
          },
          "execution_count": 4
        }
      ]
    },
    {
      "cell_type": "markdown",
      "metadata": {
        "id": "wfsSyzmEAgoE",
        "colab_type": "text"
      },
      "source": [
        "Nota: Hay 58 805 valores faltantes para la columna CustomerID que es importante para el análisis RFM. En este caso, no hay mucho que podamos hacer, ya que los CustomerID son valores únicos, no tiene sentido imputar los valores faltantes con valores calculados. Por lo tanto, solo trabajaremos con la parte del marco de datos sin valores faltantes"
      ]
    },
    {
      "cell_type": "code",
      "metadata": {
        "id": "k-wRi-OnAc4x",
        "colab_type": "code",
        "colab": {
          "base_uri": "https://localhost:8080/",
          "height": 173
        },
        "outputId": "66bd5d4f-676b-438e-889d-94e5fc5bb465"
      },
      "source": [
        "#Eliminamos los valores perdidos del CustomerID\n",
        "df_data = df[pd.notnull(df[\"CustomerID\"])]\n",
        "df_data.isnull().sum()"
      ],
      "execution_count": null,
      "outputs": [
        {
          "output_type": "execute_result",
          "data": {
            "text/plain": [
              "InvoiceNo      0\n",
              "StockCode      0\n",
              "Description    0\n",
              "Quantity       0\n",
              "InvoiceDate    0\n",
              "UnitPrice      0\n",
              "CustomerID     0\n",
              "Country        0\n",
              "dtype: int64"
            ]
          },
          "metadata": {
            "tags": []
          },
          "execution_count": 5
        }
      ]
    },
    {
      "cell_type": "markdown",
      "metadata": {
        "id": "pb8hjprvAmvs",
        "colab_type": "text"
      },
      "source": [
        "Podemos verificar cualquier valor duplicado en el marco de datos usando la función .duplicated() y eliminarlos en consecuencia usando la función drop_duplicates ()."
      ]
    },
    {
      "cell_type": "code",
      "metadata": {
        "id": "klHCrvYAAjHE",
        "colab_type": "code",
        "colab": {
          "base_uri": "https://localhost:8080/",
          "height": 373
        },
        "outputId": "c0c70448-a0e6-4e94-e244-6fc16846074d"
      },
      "source": [
        "print(\"Tenemos {} valores duplicados.\".format(df_data.duplicated().sum()))\n",
        "df_data[df_data.duplicated(keep=False)].head(10)"
      ],
      "execution_count": null,
      "outputs": [
        {
          "output_type": "stream",
          "text": [
            "Tenemos 3091 valores duplicados.\n"
          ],
          "name": "stdout"
        },
        {
          "output_type": "execute_result",
          "data": {
            "text/html": [
              "<div>\n",
              "<style scoped>\n",
              "    .dataframe tbody tr th:only-of-type {\n",
              "        vertical-align: middle;\n",
              "    }\n",
              "\n",
              "    .dataframe tbody tr th {\n",
              "        vertical-align: top;\n",
              "    }\n",
              "\n",
              "    .dataframe thead th {\n",
              "        text-align: right;\n",
              "    }\n",
              "</style>\n",
              "<table border=\"1\" class=\"dataframe\">\n",
              "  <thead>\n",
              "    <tr style=\"text-align: right;\">\n",
              "      <th></th>\n",
              "      <th>InvoiceNo</th>\n",
              "      <th>StockCode</th>\n",
              "      <th>Description</th>\n",
              "      <th>Quantity</th>\n",
              "      <th>InvoiceDate</th>\n",
              "      <th>UnitPrice</th>\n",
              "      <th>CustomerID</th>\n",
              "      <th>Country</th>\n",
              "    </tr>\n",
              "  </thead>\n",
              "  <tbody>\n",
              "    <tr>\n",
              "      <th>17</th>\n",
              "      <td>560271</td>\n",
              "      <td>21985</td>\n",
              "      <td>PACK OF 12 HEARTS DESIGN TISSUES</td>\n",
              "      <td>1</td>\n",
              "      <td>17/07/2011 14:51</td>\n",
              "      <td>0.29</td>\n",
              "      <td>16474.0</td>\n",
              "      <td>United Kingdom</td>\n",
              "    </tr>\n",
              "    <tr>\n",
              "      <th>19</th>\n",
              "      <td>560271</td>\n",
              "      <td>21985</td>\n",
              "      <td>PACK OF 12 HEARTS DESIGN TISSUES</td>\n",
              "      <td>1</td>\n",
              "      <td>17/07/2011 14:51</td>\n",
              "      <td>0.29</td>\n",
              "      <td>16474.0</td>\n",
              "      <td>United Kingdom</td>\n",
              "    </tr>\n",
              "    <tr>\n",
              "      <th>20</th>\n",
              "      <td>560271</td>\n",
              "      <td>22614</td>\n",
              "      <td>PACK OF 12 SPACEBOY TISSUES</td>\n",
              "      <td>1</td>\n",
              "      <td>17/07/2011 14:51</td>\n",
              "      <td>0.29</td>\n",
              "      <td>16474.0</td>\n",
              "      <td>United Kingdom</td>\n",
              "    </tr>\n",
              "    <tr>\n",
              "      <th>22</th>\n",
              "      <td>560271</td>\n",
              "      <td>84279P</td>\n",
              "      <td>CHERRY BLOSSOM  DECORATIVE FLASK</td>\n",
              "      <td>1</td>\n",
              "      <td>17/07/2011 14:51</td>\n",
              "      <td>3.75</td>\n",
              "      <td>16474.0</td>\n",
              "      <td>United Kingdom</td>\n",
              "    </tr>\n",
              "    <tr>\n",
              "      <th>24</th>\n",
              "      <td>560271</td>\n",
              "      <td>84279P</td>\n",
              "      <td>CHERRY BLOSSOM  DECORATIVE FLASK</td>\n",
              "      <td>1</td>\n",
              "      <td>17/07/2011 14:51</td>\n",
              "      <td>3.75</td>\n",
              "      <td>16474.0</td>\n",
              "      <td>United Kingdom</td>\n",
              "    </tr>\n",
              "    <tr>\n",
              "      <th>37</th>\n",
              "      <td>560271</td>\n",
              "      <td>22517</td>\n",
              "      <td>CHILDS GARDEN RAKE PINK</td>\n",
              "      <td>1</td>\n",
              "      <td>17/07/2011 14:51</td>\n",
              "      <td>2.10</td>\n",
              "      <td>16474.0</td>\n",
              "      <td>United Kingdom</td>\n",
              "    </tr>\n",
              "    <tr>\n",
              "      <th>39</th>\n",
              "      <td>560271</td>\n",
              "      <td>22517</td>\n",
              "      <td>CHILDS GARDEN RAKE PINK</td>\n",
              "      <td>1</td>\n",
              "      <td>17/07/2011 14:51</td>\n",
              "      <td>2.10</td>\n",
              "      <td>16474.0</td>\n",
              "      <td>United Kingdom</td>\n",
              "    </tr>\n",
              "    <tr>\n",
              "      <th>48</th>\n",
              "      <td>560271</td>\n",
              "      <td>22614</td>\n",
              "      <td>PACK OF 12 SPACEBOY TISSUES</td>\n",
              "      <td>1</td>\n",
              "      <td>17/07/2011 14:51</td>\n",
              "      <td>0.29</td>\n",
              "      <td>16474.0</td>\n",
              "      <td>United Kingdom</td>\n",
              "    </tr>\n",
              "    <tr>\n",
              "      <th>741</th>\n",
              "      <td>560305</td>\n",
              "      <td>22382</td>\n",
              "      <td>LUNCH BAG SPACEBOY DESIGN</td>\n",
              "      <td>1</td>\n",
              "      <td>18/07/2011 10:49</td>\n",
              "      <td>1.65</td>\n",
              "      <td>16511.0</td>\n",
              "      <td>United Kingdom</td>\n",
              "    </tr>\n",
              "    <tr>\n",
              "      <th>747</th>\n",
              "      <td>560305</td>\n",
              "      <td>22939</td>\n",
              "      <td>APRON APPLE DELIGHT</td>\n",
              "      <td>1</td>\n",
              "      <td>18/07/2011 10:49</td>\n",
              "      <td>4.95</td>\n",
              "      <td>16511.0</td>\n",
              "      <td>United Kingdom</td>\n",
              "    </tr>\n",
              "  </tbody>\n",
              "</table>\n",
              "</div>"
            ],
            "text/plain": [
              "    InvoiceNo StockCode  ... CustomerID         Country\n",
              "17     560271     21985  ...    16474.0  United Kingdom\n",
              "19     560271     21985  ...    16474.0  United Kingdom\n",
              "20     560271     22614  ...    16474.0  United Kingdom\n",
              "22     560271    84279P  ...    16474.0  United Kingdom\n",
              "24     560271    84279P  ...    16474.0  United Kingdom\n",
              "37     560271     22517  ...    16474.0  United Kingdom\n",
              "39     560271     22517  ...    16474.0  United Kingdom\n",
              "48     560271     22614  ...    16474.0  United Kingdom\n",
              "741    560305     22382  ...    16511.0  United Kingdom\n",
              "747    560305     22939  ...    16511.0  United Kingdom\n",
              "\n",
              "[10 rows x 8 columns]"
            ]
          },
          "metadata": {
            "tags": []
          },
          "execution_count": 6
        }
      ]
    },
    {
      "cell_type": "code",
      "metadata": {
        "id": "rX5bEG0WAozu",
        "colab_type": "code",
        "colab": {}
      },
      "source": [
        "filtered_data = df_data.drop_duplicates()"
      ],
      "execution_count": null,
      "outputs": []
    },
    {
      "cell_type": "code",
      "metadata": {
        "id": "JG632-ZoAvaa",
        "colab_type": "code",
        "colab": {
          "base_uri": "https://localhost:8080/",
          "height": 35
        },
        "outputId": "60e9a6f3-d01a-4c3a-f63e-939c09403659"
      },
      "source": [
        "# Revisamos nuevamente si hay duplicados\n",
        "filtered_data.duplicated().sum()"
      ],
      "execution_count": null,
      "outputs": [
        {
          "output_type": "execute_result",
          "data": {
            "text/plain": [
              "0"
            ]
          },
          "metadata": {
            "tags": []
          },
          "execution_count": 8
        }
      ]
    },
    {
      "cell_type": "markdown",
      "metadata": {
        "id": "P8BN_imKA5IZ",
        "colab_type": "text"
      },
      "source": [
        "**Insights**\n",
        "\n",
        "Dado que los datos provienen de un minorista en línea, analizaremos de dónde provienen sus clientes, es decir, países"
      ]
    },
    {
      "cell_type": "code",
      "metadata": {
        "id": "T-towF8wAx4v",
        "colab_type": "code",
        "colab": {
          "base_uri": "https://localhost:8080/",
          "height": 208
        },
        "outputId": "13f89cab-931d-4070-a106-fd012937cd67"
      },
      "source": [
        "# Elaboramos una distribución porcentual de clientes por países (Top 10)\n",
        "filtered_data.Country.value_counts(normalize=True)[:10]"
      ],
      "execution_count": null,
      "outputs": [
        {
          "output_type": "execute_result",
          "data": {
            "text/plain": [
              "United Kingdom    0.887595\n",
              "Germany           0.022947\n",
              "France            0.021202\n",
              "EIRE              0.021188\n",
              "Spain             0.005915\n",
              "Netherlands       0.005282\n",
              "Switzerland       0.005132\n",
              "Belgium           0.005019\n",
              "Portugal          0.003687\n",
              "Norway            0.003321\n",
              "Name: Country, dtype: float64"
            ]
          },
          "metadata": {
            "tags": []
          },
          "execution_count": 9
        }
      ]
    },
    {
      "cell_type": "markdown",
      "metadata": {
        "id": "haWtGMQABHM4",
        "colab_type": "text"
      },
      "source": [
        "Filtramos nuestra data sólo para clientes locales (Reino Unido)"
      ]
    },
    {
      "cell_type": "code",
      "metadata": {
        "id": "FyaKiSBVBGRT",
        "colab_type": "code",
        "colab": {}
      },
      "source": [
        "uk_data = filtered_data[filtered_data[\"Country\"] == \"United Kingdom\"]"
      ],
      "execution_count": null,
      "outputs": []
    },
    {
      "cell_type": "code",
      "metadata": {
        "id": "zHmpH1C1BAdg",
        "colab_type": "code",
        "colab": {
          "base_uri": "https://localhost:8080/",
          "height": 294
        },
        "outputId": "0217c48d-b22d-48d0-f16e-e7b4d5147fe4"
      },
      "source": [
        "# Hacemos un análisis descriptivo de la nueva data filtrada\n",
        "uk_data.describe()"
      ],
      "execution_count": null,
      "outputs": [
        {
          "output_type": "execute_result",
          "data": {
            "text/html": [
              "<div>\n",
              "<style scoped>\n",
              "    .dataframe tbody tr th:only-of-type {\n",
              "        vertical-align: middle;\n",
              "    }\n",
              "\n",
              "    .dataframe tbody tr th {\n",
              "        vertical-align: top;\n",
              "    }\n",
              "\n",
              "    .dataframe thead th {\n",
              "        text-align: right;\n",
              "    }\n",
              "</style>\n",
              "<table border=\"1\" class=\"dataframe\">\n",
              "  <thead>\n",
              "    <tr style=\"text-align: right;\">\n",
              "      <th></th>\n",
              "      <th>Quantity</th>\n",
              "      <th>UnitPrice</th>\n",
              "      <th>CustomerID</th>\n",
              "    </tr>\n",
              "  </thead>\n",
              "  <tbody>\n",
              "    <tr>\n",
              "      <th>count</th>\n",
              "      <td>189222.000000</td>\n",
              "      <td>189222.000000</td>\n",
              "      <td>189222.000000</td>\n",
              "    </tr>\n",
              "    <tr>\n",
              "      <th>mean</th>\n",
              "      <td>11.157646</td>\n",
              "      <td>3.041254</td>\n",
              "      <td>15537.984103</td>\n",
              "    </tr>\n",
              "    <tr>\n",
              "      <th>std</th>\n",
              "      <td>267.943092</td>\n",
              "      <td>22.030363</td>\n",
              "      <td>1581.723005</td>\n",
              "    </tr>\n",
              "    <tr>\n",
              "      <th>min</th>\n",
              "      <td>-80995.000000</td>\n",
              "      <td>0.000000</td>\n",
              "      <td>12747.000000</td>\n",
              "    </tr>\n",
              "    <tr>\n",
              "      <th>25%</th>\n",
              "      <td>2.000000</td>\n",
              "      <td>1.250000</td>\n",
              "      <td>14159.000000</td>\n",
              "    </tr>\n",
              "    <tr>\n",
              "      <th>50%</th>\n",
              "      <td>4.000000</td>\n",
              "      <td>1.690000</td>\n",
              "      <td>15514.000000</td>\n",
              "    </tr>\n",
              "    <tr>\n",
              "      <th>75%</th>\n",
              "      <td>12.000000</td>\n",
              "      <td>3.750000</td>\n",
              "      <td>16910.000000</td>\n",
              "    </tr>\n",
              "    <tr>\n",
              "      <th>max</th>\n",
              "      <td>80995.000000</td>\n",
              "      <td>4287.630000</td>\n",
              "      <td>18287.000000</td>\n",
              "    </tr>\n",
              "  </tbody>\n",
              "</table>\n",
              "</div>"
            ],
            "text/plain": [
              "            Quantity      UnitPrice     CustomerID\n",
              "count  189222.000000  189222.000000  189222.000000\n",
              "mean       11.157646       3.041254   15537.984103\n",
              "std       267.943092      22.030363    1581.723005\n",
              "min    -80995.000000       0.000000   12747.000000\n",
              "25%         2.000000       1.250000   14159.000000\n",
              "50%         4.000000       1.690000   15514.000000\n",
              "75%        12.000000       3.750000   16910.000000\n",
              "max     80995.000000    4287.630000   18287.000000"
            ]
          },
          "metadata": {
            "tags": []
          },
          "execution_count": 11
        }
      ]
    },
    {
      "cell_type": "code",
      "metadata": {
        "id": "jlsx69cOA8hC",
        "colab_type": "code",
        "colab": {
          "base_uri": "https://localhost:8080/",
          "height": 355
        },
        "outputId": "9edb6575-1fff-4512-d311-3d495a2abd16"
      },
      "source": [
        "# Filtramos las facturas con descripción de cancelaciones\n",
        "uk_data[uk_data[\"InvoiceNo\"].str.startswith(\"C\", na=False)].head(10)"
      ],
      "execution_count": null,
      "outputs": [
        {
          "output_type": "execute_result",
          "data": {
            "text/html": [
              "<div>\n",
              "<style scoped>\n",
              "    .dataframe tbody tr th:only-of-type {\n",
              "        vertical-align: middle;\n",
              "    }\n",
              "\n",
              "    .dataframe tbody tr th {\n",
              "        vertical-align: top;\n",
              "    }\n",
              "\n",
              "    .dataframe thead th {\n",
              "        text-align: right;\n",
              "    }\n",
              "</style>\n",
              "<table border=\"1\" class=\"dataframe\">\n",
              "  <thead>\n",
              "    <tr style=\"text-align: right;\">\n",
              "      <th></th>\n",
              "      <th>InvoiceNo</th>\n",
              "      <th>StockCode</th>\n",
              "      <th>Description</th>\n",
              "      <th>Quantity</th>\n",
              "      <th>InvoiceDate</th>\n",
              "      <th>UnitPrice</th>\n",
              "      <th>CustomerID</th>\n",
              "      <th>Country</th>\n",
              "    </tr>\n",
              "  </thead>\n",
              "  <tbody>\n",
              "    <tr>\n",
              "      <th>346</th>\n",
              "      <td>C560289</td>\n",
              "      <td>22766</td>\n",
              "      <td>PHOTO FRAME CORNICE</td>\n",
              "      <td>-3</td>\n",
              "      <td>18/07/2011 10:14</td>\n",
              "      <td>2.95</td>\n",
              "      <td>16398.0</td>\n",
              "      <td>United Kingdom</td>\n",
              "    </tr>\n",
              "    <tr>\n",
              "      <th>347</th>\n",
              "      <td>C560289</td>\n",
              "      <td>84816</td>\n",
              "      <td>DANISH ROSE BEDSIDE CABINET</td>\n",
              "      <td>-1</td>\n",
              "      <td>18/07/2011 10:14</td>\n",
              "      <td>39.95</td>\n",
              "      <td>16398.0</td>\n",
              "      <td>United Kingdom</td>\n",
              "    </tr>\n",
              "    <tr>\n",
              "      <th>348</th>\n",
              "      <td>C560289</td>\n",
              "      <td>22197</td>\n",
              "      <td>POPCORN HOLDER</td>\n",
              "      <td>-7</td>\n",
              "      <td>18/07/2011 10:14</td>\n",
              "      <td>0.85</td>\n",
              "      <td>16398.0</td>\n",
              "      <td>United Kingdom</td>\n",
              "    </tr>\n",
              "    <tr>\n",
              "      <th>723</th>\n",
              "      <td>C560301</td>\n",
              "      <td>23198</td>\n",
              "      <td>PANTRY MAGNETIC  SHOPPING LIST</td>\n",
              "      <td>-1</td>\n",
              "      <td>18/07/2011 10:34</td>\n",
              "      <td>1.45</td>\n",
              "      <td>14159.0</td>\n",
              "      <td>United Kingdom</td>\n",
              "    </tr>\n",
              "    <tr>\n",
              "      <th>766</th>\n",
              "      <td>C560317</td>\n",
              "      <td>22927</td>\n",
              "      <td>GREEN GIANT GARDEN THERMOMETER</td>\n",
              "      <td>-2</td>\n",
              "      <td>18/07/2011 10:54</td>\n",
              "      <td>5.95</td>\n",
              "      <td>15527.0</td>\n",
              "      <td>United Kingdom</td>\n",
              "    </tr>\n",
              "    <tr>\n",
              "      <th>767</th>\n",
              "      <td>C560317</td>\n",
              "      <td>21730</td>\n",
              "      <td>GLASS STAR FROSTED T-LIGHT HOLDER</td>\n",
              "      <td>-1</td>\n",
              "      <td>18/07/2011 10:54</td>\n",
              "      <td>4.95</td>\n",
              "      <td>15527.0</td>\n",
              "      <td>United Kingdom</td>\n",
              "    </tr>\n",
              "    <tr>\n",
              "      <th>770</th>\n",
              "      <td>C560330</td>\n",
              "      <td>22374</td>\n",
              "      <td>AIRLINE BAG VINTAGE JET SET RED</td>\n",
              "      <td>-1</td>\n",
              "      <td>18/07/2011 11:10</td>\n",
              "      <td>4.25</td>\n",
              "      <td>17841.0</td>\n",
              "      <td>United Kingdom</td>\n",
              "    </tr>\n",
              "    <tr>\n",
              "      <th>771</th>\n",
              "      <td>C560330</td>\n",
              "      <td>72351B</td>\n",
              "      <td>SET/6 PINK  BUTTERFLY T-LIGHTS</td>\n",
              "      <td>-1</td>\n",
              "      <td>18/07/2011 11:10</td>\n",
              "      <td>2.10</td>\n",
              "      <td>17841.0</td>\n",
              "      <td>United Kingdom</td>\n",
              "    </tr>\n",
              "    <tr>\n",
              "      <th>772</th>\n",
              "      <td>C560330</td>\n",
              "      <td>22981</td>\n",
              "      <td>PANTRY APPLE CORER</td>\n",
              "      <td>-1</td>\n",
              "      <td>18/07/2011 11:10</td>\n",
              "      <td>1.45</td>\n",
              "      <td>17841.0</td>\n",
              "      <td>United Kingdom</td>\n",
              "    </tr>\n",
              "    <tr>\n",
              "      <th>773</th>\n",
              "      <td>C560331</td>\n",
              "      <td>22649</td>\n",
              "      <td>STRAWBERRY FAIRY CAKE TEAPOT</td>\n",
              "      <td>-1</td>\n",
              "      <td>18/07/2011 11:20</td>\n",
              "      <td>4.95</td>\n",
              "      <td>17706.0</td>\n",
              "      <td>United Kingdom</td>\n",
              "    </tr>\n",
              "  </tbody>\n",
              "</table>\n",
              "</div>"
            ],
            "text/plain": [
              "    InvoiceNo StockCode  ... CustomerID         Country\n",
              "346   C560289     22766  ...    16398.0  United Kingdom\n",
              "347   C560289     84816  ...    16398.0  United Kingdom\n",
              "348   C560289     22197  ...    16398.0  United Kingdom\n",
              "723   C560301     23198  ...    14159.0  United Kingdom\n",
              "766   C560317     22927  ...    15527.0  United Kingdom\n",
              "767   C560317     21730  ...    15527.0  United Kingdom\n",
              "770   C560330     22374  ...    17841.0  United Kingdom\n",
              "771   C560330    72351B  ...    17841.0  United Kingdom\n",
              "772   C560330     22981  ...    17841.0  United Kingdom\n",
              "773   C560331     22649  ...    17706.0  United Kingdom\n",
              "\n",
              "[10 rows x 8 columns]"
            ]
          },
          "metadata": {
            "tags": []
          },
          "execution_count": 12
        }
      ]
    },
    {
      "cell_type": "markdown",
      "metadata": {
        "id": "kB2gkHkuBZYm",
        "colab_type": "text"
      },
      "source": [
        "Nota: De los casos de cancelación anteriores, el número de factura comienza con \"C\" y la cantidad es un valor negativo, por lo tanto, estas transacciones canceladas deben eliminarse."
      ]
    },
    {
      "cell_type": "code",
      "metadata": {
        "id": "uvE7bATIBWej",
        "colab_type": "code",
        "colab": {}
      },
      "source": [
        "# Filtramos sólo transacciones válidas\n",
        "uk_data_valid = uk_data[~uk_data[\"InvoiceNo\"].str.startswith(\"C\", na=False)].copy()"
      ],
      "execution_count": null,
      "outputs": []
    },
    {
      "cell_type": "code",
      "metadata": {
        "id": "WQhoOG1IBe0-",
        "colab_type": "code",
        "colab": {
          "base_uri": "https://localhost:8080/",
          "height": 294
        },
        "outputId": "a7b4d249-61dd-4757-ccbb-caa11f518df9"
      },
      "source": [
        "uk_data_valid.describe()\n"
      ],
      "execution_count": null,
      "outputs": [
        {
          "output_type": "execute_result",
          "data": {
            "text/html": [
              "<div>\n",
              "<style scoped>\n",
              "    .dataframe tbody tr th:only-of-type {\n",
              "        vertical-align: middle;\n",
              "    }\n",
              "\n",
              "    .dataframe tbody tr th {\n",
              "        vertical-align: top;\n",
              "    }\n",
              "\n",
              "    .dataframe thead th {\n",
              "        text-align: right;\n",
              "    }\n",
              "</style>\n",
              "<table border=\"1\" class=\"dataframe\">\n",
              "  <thead>\n",
              "    <tr style=\"text-align: right;\">\n",
              "      <th></th>\n",
              "      <th>Quantity</th>\n",
              "      <th>UnitPrice</th>\n",
              "      <th>CustomerID</th>\n",
              "    </tr>\n",
              "  </thead>\n",
              "  <tbody>\n",
              "    <tr>\n",
              "      <th>count</th>\n",
              "      <td>185703.000000</td>\n",
              "      <td>185703.000000</td>\n",
              "      <td>185703.000000</td>\n",
              "    </tr>\n",
              "    <tr>\n",
              "      <th>mean</th>\n",
              "      <td>12.077613</td>\n",
              "      <td>2.850762</td>\n",
              "      <td>15540.934557</td>\n",
              "    </tr>\n",
              "    <tr>\n",
              "      <th>std</th>\n",
              "      <td>194.264032</td>\n",
              "      <td>14.264553</td>\n",
              "      <td>1582.353917</td>\n",
              "    </tr>\n",
              "    <tr>\n",
              "      <th>min</th>\n",
              "      <td>1.000000</td>\n",
              "      <td>0.000000</td>\n",
              "      <td>12747.000000</td>\n",
              "    </tr>\n",
              "    <tr>\n",
              "      <th>25%</th>\n",
              "      <td>2.000000</td>\n",
              "      <td>1.060000</td>\n",
              "      <td>14159.000000</td>\n",
              "    </tr>\n",
              "    <tr>\n",
              "      <th>50%</th>\n",
              "      <td>4.000000</td>\n",
              "      <td>1.690000</td>\n",
              "      <td>15522.000000</td>\n",
              "    </tr>\n",
              "    <tr>\n",
              "      <th>75%</th>\n",
              "      <td>12.000000</td>\n",
              "      <td>3.750000</td>\n",
              "      <td>16910.000000</td>\n",
              "    </tr>\n",
              "    <tr>\n",
              "      <th>max</th>\n",
              "      <td>80995.000000</td>\n",
              "      <td>3155.950000</td>\n",
              "      <td>18287.000000</td>\n",
              "    </tr>\n",
              "  </tbody>\n",
              "</table>\n",
              "</div>"
            ],
            "text/plain": [
              "            Quantity      UnitPrice     CustomerID\n",
              "count  185703.000000  185703.000000  185703.000000\n",
              "mean       12.077613       2.850762   15540.934557\n",
              "std       194.264032      14.264553    1582.353917\n",
              "min         1.000000       0.000000   12747.000000\n",
              "25%         2.000000       1.060000   14159.000000\n",
              "50%         4.000000       1.690000   15522.000000\n",
              "75%        12.000000       3.750000   16910.000000\n",
              "max     80995.000000    3155.950000   18287.000000"
            ]
          },
          "metadata": {
            "tags": []
          },
          "execution_count": 14
        }
      ]
    },
    {
      "cell_type": "markdown",
      "metadata": {
        "id": "yYO-ot5kBmcp",
        "colab_type": "text"
      },
      "source": [
        "**Calculamos valores de RFM**\n",
        "\n",
        "Como se mencionó anteriormente, solo necesitamos cinco columnas de los datos sin procesar, es decir, CustomerID, InvoiceDate, InvoiceNo, Quantity y UnitPrice.\n",
        "\n",
        "1. CustomerId definirá de manera única a nuestros clientes\n",
        "2. InvoiceDate nos ayuda a calcular la antigüedad de la compra (Recency)\n",
        "3. InvoiceNo nos ayuda a contar el número de veces que se realiza la transacción (Frecuencia)\n",
        "4. La cantidad comprada en cada transacción y el Precio unitario de cada unidad ayudarán a calcular el monto total comprado (Monetario)\n",
        "\n",
        "Para calcular la antigüedad, calculamos el número de días entre la fecha actual (es decir, hoy) y la fecha de la última compra de cada cliente. Primero definimos la fecha de hoy y luego obtenemos la función .max () de InvoiceDate para calcular el número de días entre hoy y la fecha de la última compra."
      ]
    },
    {
      "cell_type": "code",
      "metadata": {
        "id": "_RMayElwBiE8",
        "colab_type": "code",
        "colab": {}
      },
      "source": [
        "# Cambiamos el formato de la fecha\n",
        "uk_data_valid['InvoiceDate'] = pd.to_datetime(uk_data_valid['InvoiceDate'])"
      ],
      "execution_count": null,
      "outputs": []
    },
    {
      "cell_type": "code",
      "metadata": {
        "id": "Z_8FcWPeBstM",
        "colab_type": "code",
        "colab": {
          "base_uri": "https://localhost:8080/",
          "height": 35
        },
        "outputId": "6bbe018b-1ff3-4132-c60c-db5a7a760dbd"
      },
      "source": [
        "# Revisamos el mínimo y máximo valor de fecha que tenemos en la data\n",
        "uk_data_valid['InvoiceDate'].max(), uk_data_valid['InvoiceDate'].min()"
      ],
      "execution_count": null,
      "outputs": [
        {
          "output_type": "execute_result",
          "data": {
            "text/plain": [
              "(Timestamp('2011-12-10 17:19:00'), Timestamp('2011-01-08 08:30:00'))"
            ]
          },
          "metadata": {
            "tags": []
          },
          "execution_count": 16
        }
      ]
    },
    {
      "cell_type": "code",
      "metadata": {
        "id": "p9PhexrGBvP0",
        "colab_type": "code",
        "colab": {
          "base_uri": "https://localhost:8080/",
          "height": 35
        },
        "outputId": "8394d0c5-2bc7-4d4c-df19-2d456121122f"
      },
      "source": [
        "# supongamos que estamos haciendo este análisis al día siguiente después de que se generen estos datos\n",
        "TODAY = dt.datetime(2011,12,11)\n",
        "\n",
        "# Probamos la variable Recency\n",
        "least_recency = TODAY - uk_data_valid['InvoiceDate'].max()#Más reciente\n",
        "highest_recency = TODAY - uk_data_valid['InvoiceDate'].min()#Menos reciente\n",
        "least_recency.days, highest_recency.days"
      ],
      "execution_count": null,
      "outputs": [
        {
          "output_type": "execute_result",
          "data": {
            "text/plain": [
              "(0, 336)"
            ]
          },
          "metadata": {
            "tags": []
          },
          "execution_count": 17
        }
      ]
    },
    {
      "cell_type": "markdown",
      "metadata": {
        "id": "jr6LccEiB_2F",
        "colab_type": "text"
      },
      "source": [
        "Nota: Para garantizar la precisión, seleccionaremos un cliente como sujeto de prueba para calcular el valor de RFM individualmente y luego realizaremos una verificación cruzada con los cálculos finales. Digamos que seleccionamos al cliente con CustomerID == 12747"
      ]
    },
    {
      "cell_type": "code",
      "metadata": {
        "id": "WMpJBp2EB9IO",
        "colab_type": "code",
        "colab": {
          "base_uri": "https://localhost:8080/",
          "height": 35
        },
        "outputId": "b6f35147-2550-40df-d6ad-545240bb0147"
      },
      "source": [
        "# Ejemplo de recency para el cliente CustomerID == 12747\n",
        "test_recency = TODAY - uk_data_valid[uk_data_valid[\"CustomerID\"] == 12747].InvoiceDate.max()\n",
        "test_recency.days"
      ],
      "execution_count": null,
      "outputs": [
        {
          "output_type": "execute_result",
          "data": {
            "text/plain": [
              "23"
            ]
          },
          "metadata": {
            "tags": []
          },
          "execution_count": 18
        }
      ]
    },
    {
      "cell_type": "markdown",
      "metadata": {
        "id": "r4fAkIleCGZY",
        "colab_type": "text"
      },
      "source": [
        "**Frecuencia**\n",
        "\n",
        "Para calcular la frecuencia, calculamos el número de compras para cada cliente."
      ]
    },
    {
      "cell_type": "code",
      "metadata": {
        "id": "zDHNCgfgCDJa",
        "colab_type": "code",
        "colab": {
          "base_uri": "https://localhost:8080/",
          "height": 373
        },
        "outputId": "f6a90bdf-676b-4812-d5c2-4e1b3393bc87"
      },
      "source": [
        "# Ejemplo de frecuencia para cliente CustomerID == 12747\n",
        "print(\"Número de transacciones: \", len(uk_data_valid[uk_data_valid[\"CustomerID\"] == 12747]))\n",
        "uk_data_valid[uk_data_valid[\"CustomerID\"] == 12747].head(10)"
      ],
      "execution_count": null,
      "outputs": [
        {
          "output_type": "stream",
          "text": [
            "Número de transacciones:  40\n"
          ],
          "name": "stdout"
        },
        {
          "output_type": "execute_result",
          "data": {
            "text/html": [
              "<div>\n",
              "<style scoped>\n",
              "    .dataframe tbody tr th:only-of-type {\n",
              "        vertical-align: middle;\n",
              "    }\n",
              "\n",
              "    .dataframe tbody tr th {\n",
              "        vertical-align: top;\n",
              "    }\n",
              "\n",
              "    .dataframe thead th {\n",
              "        text-align: right;\n",
              "    }\n",
              "</style>\n",
              "<table border=\"1\" class=\"dataframe\">\n",
              "  <thead>\n",
              "    <tr style=\"text-align: right;\">\n",
              "      <th></th>\n",
              "      <th>InvoiceNo</th>\n",
              "      <th>StockCode</th>\n",
              "      <th>Description</th>\n",
              "      <th>Quantity</th>\n",
              "      <th>InvoiceDate</th>\n",
              "      <th>UnitPrice</th>\n",
              "      <th>CustomerID</th>\n",
              "      <th>Country</th>\n",
              "    </tr>\n",
              "  </thead>\n",
              "  <tbody>\n",
              "    <tr>\n",
              "      <th>41486</th>\n",
              "      <td>563949</td>\n",
              "      <td>21754</td>\n",
              "      <td>HOME BUILDING BLOCK WORD</td>\n",
              "      <td>6</td>\n",
              "      <td>2011-08-22 10:38:00</td>\n",
              "      <td>5.95</td>\n",
              "      <td>12747.0</td>\n",
              "      <td>United Kingdom</td>\n",
              "    </tr>\n",
              "    <tr>\n",
              "      <th>41487</th>\n",
              "      <td>563949</td>\n",
              "      <td>48173C</td>\n",
              "      <td>DOORMAT BLACK FLOCK</td>\n",
              "      <td>2</td>\n",
              "      <td>2011-08-22 10:38:00</td>\n",
              "      <td>7.95</td>\n",
              "      <td>12747.0</td>\n",
              "      <td>United Kingdom</td>\n",
              "    </tr>\n",
              "    <tr>\n",
              "      <th>41488</th>\n",
              "      <td>563949</td>\n",
              "      <td>82486</td>\n",
              "      <td>WOOD S/3 CABINET ANT WHITE FINISH</td>\n",
              "      <td>2</td>\n",
              "      <td>2011-08-22 10:38:00</td>\n",
              "      <td>8.95</td>\n",
              "      <td>12747.0</td>\n",
              "      <td>United Kingdom</td>\n",
              "    </tr>\n",
              "    <tr>\n",
              "      <th>41489</th>\n",
              "      <td>563949</td>\n",
              "      <td>21745</td>\n",
              "      <td>GAOLERS KEYS DECORATIVE GARDEN</td>\n",
              "      <td>4</td>\n",
              "      <td>2011-08-22 10:38:00</td>\n",
              "      <td>3.75</td>\n",
              "      <td>12747.0</td>\n",
              "      <td>United Kingdom</td>\n",
              "    </tr>\n",
              "    <tr>\n",
              "      <th>41490</th>\n",
              "      <td>563949</td>\n",
              "      <td>85062</td>\n",
              "      <td>PEARL CRYSTAL PUMPKIN T-LIGHT HLDR</td>\n",
              "      <td>12</td>\n",
              "      <td>2011-08-22 10:38:00</td>\n",
              "      <td>1.65</td>\n",
              "      <td>12747.0</td>\n",
              "      <td>United Kingdom</td>\n",
              "    </tr>\n",
              "    <tr>\n",
              "      <th>41491</th>\n",
              "      <td>563949</td>\n",
              "      <td>82484</td>\n",
              "      <td>WOOD BLACK BOARD ANT WHITE FINISH</td>\n",
              "      <td>24</td>\n",
              "      <td>2011-08-22 10:38:00</td>\n",
              "      <td>6.75</td>\n",
              "      <td>12747.0</td>\n",
              "      <td>United Kingdom</td>\n",
              "    </tr>\n",
              "    <tr>\n",
              "      <th>41492</th>\n",
              "      <td>563949</td>\n",
              "      <td>82494L</td>\n",
              "      <td>WOODEN FRAME ANTIQUE WHITE</td>\n",
              "      <td>12</td>\n",
              "      <td>2011-08-22 10:38:00</td>\n",
              "      <td>2.95</td>\n",
              "      <td>12747.0</td>\n",
              "      <td>United Kingdom</td>\n",
              "    </tr>\n",
              "    <tr>\n",
              "      <th>107828</th>\n",
              "      <td>569397</td>\n",
              "      <td>23200</td>\n",
              "      <td>JUMBO BAG PEARS</td>\n",
              "      <td>10</td>\n",
              "      <td>2011-04-10 08:26:00</td>\n",
              "      <td>2.08</td>\n",
              "      <td>12747.0</td>\n",
              "      <td>United Kingdom</td>\n",
              "    </tr>\n",
              "    <tr>\n",
              "      <th>107829</th>\n",
              "      <td>569397</td>\n",
              "      <td>23201</td>\n",
              "      <td>JUMBO BAG ALPHABET</td>\n",
              "      <td>10</td>\n",
              "      <td>2011-04-10 08:26:00</td>\n",
              "      <td>2.08</td>\n",
              "      <td>12747.0</td>\n",
              "      <td>United Kingdom</td>\n",
              "    </tr>\n",
              "    <tr>\n",
              "      <th>107830</th>\n",
              "      <td>569397</td>\n",
              "      <td>23199</td>\n",
              "      <td>JUMBO BAG APPLES</td>\n",
              "      <td>10</td>\n",
              "      <td>2011-04-10 08:26:00</td>\n",
              "      <td>2.08</td>\n",
              "      <td>12747.0</td>\n",
              "      <td>United Kingdom</td>\n",
              "    </tr>\n",
              "  </tbody>\n",
              "</table>\n",
              "</div>"
            ],
            "text/plain": [
              "       InvoiceNo StockCode  ... CustomerID         Country\n",
              "41486     563949     21754  ...    12747.0  United Kingdom\n",
              "41487     563949    48173C  ...    12747.0  United Kingdom\n",
              "41488     563949     82486  ...    12747.0  United Kingdom\n",
              "41489     563949     21745  ...    12747.0  United Kingdom\n",
              "41490     563949     85062  ...    12747.0  United Kingdom\n",
              "41491     563949     82484  ...    12747.0  United Kingdom\n",
              "41492     563949    82494L  ...    12747.0  United Kingdom\n",
              "107828    569397     23200  ...    12747.0  United Kingdom\n",
              "107829    569397     23201  ...    12747.0  United Kingdom\n",
              "107830    569397     23199  ...    12747.0  United Kingdom\n",
              "\n",
              "[10 rows x 8 columns]"
            ]
          },
          "metadata": {
            "tags": []
          },
          "execution_count": 19
        }
      ]
    },
    {
      "cell_type": "code",
      "metadata": {
        "id": "RyszDTWVCJBK",
        "colab_type": "code",
        "colab": {
          "base_uri": "https://localhost:8080/",
          "height": 52
        },
        "outputId": "63018c8f-7858-4a1f-d685-83d22d1815bd"
      },
      "source": [
        "print(\"No de facturas únicas: \", uk_data_valid[uk_data_valid[\"CustomerID\"] == 12747].InvoiceNo.unique().size)\n",
        "uk_data_valid[uk_data_valid[\"CustomerID\"] == 12747].InvoiceNo.unique()"
      ],
      "execution_count": null,
      "outputs": [
        {
          "output_type": "stream",
          "text": [
            "No de facturas únicas:  4\n"
          ],
          "name": "stdout"
        },
        {
          "output_type": "execute_result",
          "data": {
            "text/plain": [
              "array(['563949', '569397', '577104', '581163'], dtype=object)"
            ]
          },
          "metadata": {
            "tags": []
          },
          "execution_count": 20
        }
      ]
    },
    {
      "cell_type": "markdown",
      "metadata": {
        "id": "J5LWt_o7CQ1T",
        "colab_type": "text"
      },
      "source": [
        "Nota: Para CustomerID == 12747, aunque hay 40 registros de transacciones, pero en realidad solo hay 4 facturas únicas."
      ]
    },
    {
      "cell_type": "markdown",
      "metadata": {
        "id": "jgAP9McRCW0R",
        "colab_type": "text"
      },
      "source": [
        "**Monetario**\n",
        "\n",
        "Para calcular el valor monetario, calculamos la suma del precio de compra para cada cliente. Para hacer esto, creamos una nueva columna TotalPrice que es el producto de la Cantidad comprada en cada transacción y UnitPrice de cada unidad"
      ]
    },
    {
      "cell_type": "code",
      "metadata": {
        "id": "_JybaQqlCNfs",
        "colab_type": "code",
        "colab": {}
      },
      "source": [
        "uk_data_valid['TotalPrice'] = uk_data_valid['Quantity'] * uk_data_valid['UnitPrice']"
      ],
      "execution_count": null,
      "outputs": []
    },
    {
      "cell_type": "code",
      "metadata": {
        "id": "2BA-1DFeCZNf",
        "colab_type": "code",
        "colab": {
          "base_uri": "https://localhost:8080/",
          "height": 355
        },
        "outputId": "ac24fcaa-9484-41e4-fada-8efe4137b10c"
      },
      "source": [
        "uk_data_valid.head(10)"
      ],
      "execution_count": null,
      "outputs": [
        {
          "output_type": "execute_result",
          "data": {
            "text/html": [
              "<div>\n",
              "<style scoped>\n",
              "    .dataframe tbody tr th:only-of-type {\n",
              "        vertical-align: middle;\n",
              "    }\n",
              "\n",
              "    .dataframe tbody tr th {\n",
              "        vertical-align: top;\n",
              "    }\n",
              "\n",
              "    .dataframe thead th {\n",
              "        text-align: right;\n",
              "    }\n",
              "</style>\n",
              "<table border=\"1\" class=\"dataframe\">\n",
              "  <thead>\n",
              "    <tr style=\"text-align: right;\">\n",
              "      <th></th>\n",
              "      <th>InvoiceNo</th>\n",
              "      <th>StockCode</th>\n",
              "      <th>Description</th>\n",
              "      <th>Quantity</th>\n",
              "      <th>InvoiceDate</th>\n",
              "      <th>UnitPrice</th>\n",
              "      <th>CustomerID</th>\n",
              "      <th>Country</th>\n",
              "      <th>TotalPrice</th>\n",
              "    </tr>\n",
              "  </thead>\n",
              "  <tbody>\n",
              "    <tr>\n",
              "      <th>0</th>\n",
              "      <td>560271</td>\n",
              "      <td>20719</td>\n",
              "      <td>WOODLAND CHARLOTTE BAG</td>\n",
              "      <td>1</td>\n",
              "      <td>2011-07-17 14:51:00</td>\n",
              "      <td>0.85</td>\n",
              "      <td>16474.0</td>\n",
              "      <td>United Kingdom</td>\n",
              "      <td>0.85</td>\n",
              "    </tr>\n",
              "    <tr>\n",
              "      <th>1</th>\n",
              "      <td>560271</td>\n",
              "      <td>20725</td>\n",
              "      <td>LUNCH BAG RED RETROSPOT</td>\n",
              "      <td>1</td>\n",
              "      <td>2011-07-17 14:51:00</td>\n",
              "      <td>1.65</td>\n",
              "      <td>16474.0</td>\n",
              "      <td>United Kingdom</td>\n",
              "      <td>1.65</td>\n",
              "    </tr>\n",
              "    <tr>\n",
              "      <th>2</th>\n",
              "      <td>560271</td>\n",
              "      <td>21745</td>\n",
              "      <td>GAOLERS KEYS DECORATIVE GARDEN</td>\n",
              "      <td>2</td>\n",
              "      <td>2011-07-17 14:51:00</td>\n",
              "      <td>3.75</td>\n",
              "      <td>16474.0</td>\n",
              "      <td>United Kingdom</td>\n",
              "      <td>7.50</td>\n",
              "    </tr>\n",
              "    <tr>\n",
              "      <th>3</th>\n",
              "      <td>560271</td>\n",
              "      <td>18094C</td>\n",
              "      <td>WHITE AND BLUE CERAMIC OIL BURNER</td>\n",
              "      <td>2</td>\n",
              "      <td>2011-07-17 14:51:00</td>\n",
              "      <td>1.25</td>\n",
              "      <td>16474.0</td>\n",
              "      <td>United Kingdom</td>\n",
              "      <td>2.50</td>\n",
              "    </tr>\n",
              "    <tr>\n",
              "      <th>4</th>\n",
              "      <td>560271</td>\n",
              "      <td>35648</td>\n",
              "      <td>VINTAGE BEAD PINK PURSE</td>\n",
              "      <td>1</td>\n",
              "      <td>2011-07-17 14:51:00</td>\n",
              "      <td>0.83</td>\n",
              "      <td>16474.0</td>\n",
              "      <td>United Kingdom</td>\n",
              "      <td>0.83</td>\n",
              "    </tr>\n",
              "    <tr>\n",
              "      <th>5</th>\n",
              "      <td>560271</td>\n",
              "      <td>35646</td>\n",
              "      <td>VINTAGE BEAD PINK EVENING BAG</td>\n",
              "      <td>2</td>\n",
              "      <td>2011-07-17 14:51:00</td>\n",
              "      <td>1.25</td>\n",
              "      <td>16474.0</td>\n",
              "      <td>United Kingdom</td>\n",
              "      <td>2.50</td>\n",
              "    </tr>\n",
              "    <tr>\n",
              "      <th>6</th>\n",
              "      <td>560271</td>\n",
              "      <td>21790</td>\n",
              "      <td>VINTAGE SNAP CARDS</td>\n",
              "      <td>1</td>\n",
              "      <td>2011-07-17 14:51:00</td>\n",
              "      <td>0.85</td>\n",
              "      <td>16474.0</td>\n",
              "      <td>United Kingdom</td>\n",
              "      <td>0.85</td>\n",
              "    </tr>\n",
              "    <tr>\n",
              "      <th>7</th>\n",
              "      <td>560271</td>\n",
              "      <td>21294</td>\n",
              "      <td>ETCHED GLASS COASTER</td>\n",
              "      <td>6</td>\n",
              "      <td>2011-07-17 14:51:00</td>\n",
              "      <td>0.39</td>\n",
              "      <td>16474.0</td>\n",
              "      <td>United Kingdom</td>\n",
              "      <td>2.34</td>\n",
              "    </tr>\n",
              "    <tr>\n",
              "      <th>8</th>\n",
              "      <td>560271</td>\n",
              "      <td>35646</td>\n",
              "      <td>VINTAGE BEAD PINK EVENING BAG</td>\n",
              "      <td>1</td>\n",
              "      <td>2011-07-17 14:51:00</td>\n",
              "      <td>1.25</td>\n",
              "      <td>16474.0</td>\n",
              "      <td>United Kingdom</td>\n",
              "      <td>1.25</td>\n",
              "    </tr>\n",
              "    <tr>\n",
              "      <th>9</th>\n",
              "      <td>560271</td>\n",
              "      <td>22457</td>\n",
              "      <td>NATURAL SLATE HEART CHALKBOARD</td>\n",
              "      <td>2</td>\n",
              "      <td>2011-07-17 14:51:00</td>\n",
              "      <td>2.95</td>\n",
              "      <td>16474.0</td>\n",
              "      <td>United Kingdom</td>\n",
              "      <td>5.90</td>\n",
              "    </tr>\n",
              "  </tbody>\n",
              "</table>\n",
              "</div>"
            ],
            "text/plain": [
              "  InvoiceNo StockCode  ...         Country  TotalPrice\n",
              "0    560271     20719  ...  United Kingdom        0.85\n",
              "1    560271     20725  ...  United Kingdom        1.65\n",
              "2    560271     21745  ...  United Kingdom        7.50\n",
              "3    560271    18094C  ...  United Kingdom        2.50\n",
              "4    560271     35648  ...  United Kingdom        0.83\n",
              "5    560271     35646  ...  United Kingdom        2.50\n",
              "6    560271     21790  ...  United Kingdom        0.85\n",
              "7    560271     21294  ...  United Kingdom        2.34\n",
              "8    560271     35646  ...  United Kingdom        1.25\n",
              "9    560271     22457  ...  United Kingdom        5.90\n",
              "\n",
              "[10 rows x 9 columns]"
            ]
          },
          "metadata": {
            "tags": []
          },
          "execution_count": 22
        }
      ]
    },
    {
      "cell_type": "code",
      "metadata": {
        "id": "YGEHt-AgCcYE",
        "colab_type": "code",
        "colab": {
          "base_uri": "https://localhost:8080/",
          "height": 35
        },
        "outputId": "bf25417b-209d-426f-ff0f-422b37c7508f"
      },
      "source": [
        "# Ejemplo de monetario para cada cliente CustomerID == 12747\n",
        "uk_data_valid[uk_data_valid[\"CustomerID\"] == 12747].TotalPrice.sum()"
      ],
      "execution_count": null,
      "outputs": [
        {
          "output_type": "execute_result",
          "data": {
            "text/plain": [
              "1728.31"
            ]
          },
          "metadata": {
            "tags": []
          },
          "execution_count": 23
        }
      ]
    },
    {
      "cell_type": "markdown",
      "metadata": {
        "id": "RrfgBoGhCiAG",
        "colab_type": "text"
      },
      "source": [
        "Nota: Por lo tanto, para nuestro sujeto de prueba, CustomerID == 12747, los valores recientes, de frecuencia y monetarios son (23, 4, 1728.31)"
      ]
    },
    {
      "cell_type": "markdown",
      "metadata": {
        "id": "iNdYxlhyClmd",
        "colab_type": "text"
      },
      "source": [
        "**Agrupamos valores de RFM**"
      ]
    },
    {
      "cell_type": "code",
      "metadata": {
        "id": "pIG4BEsSCfaC",
        "colab_type": "code",
        "colab": {}
      },
      "source": [
        "rfm = uk_data_valid.groupby(\"CustomerID\").agg({\"InvoiceDate\": lambda date: (TODAY - date.max()).days,\n",
        "                                        \"InvoiceNo\": lambda num: num.nunique(),\n",
        "                                        \"TotalPrice\": lambda price: price.sum()})"
      ],
      "execution_count": null,
      "outputs": []
    },
    {
      "cell_type": "code",
      "metadata": {
        "id": "AHiMkeK5Cpv1",
        "colab_type": "code",
        "colab": {}
      },
      "source": [
        "# Cambiamos el nombre de las columnas\n",
        "rfm.columns=[\"recency\", \"frequency\", \"monetary\"]"
      ],
      "execution_count": null,
      "outputs": []
    },
    {
      "cell_type": "code",
      "metadata": {
        "id": "NALLyDk5C_fO",
        "colab_type": "code",
        "colab": {
          "base_uri": "https://localhost:8080/",
          "height": 233
        },
        "outputId": "87a357ba-b52d-4765-99eb-578a522b86f1"
      },
      "source": [
        "rfm.head()"
      ],
      "execution_count": null,
      "outputs": [
        {
          "output_type": "execute_result",
          "data": {
            "text/html": [
              "<div>\n",
              "<style scoped>\n",
              "    .dataframe tbody tr th:only-of-type {\n",
              "        vertical-align: middle;\n",
              "    }\n",
              "\n",
              "    .dataframe tbody tr th {\n",
              "        vertical-align: top;\n",
              "    }\n",
              "\n",
              "    .dataframe thead th {\n",
              "        text-align: right;\n",
              "    }\n",
              "</style>\n",
              "<table border=\"1\" class=\"dataframe\">\n",
              "  <thead>\n",
              "    <tr style=\"text-align: right;\">\n",
              "      <th></th>\n",
              "      <th>recency</th>\n",
              "      <th>frequency</th>\n",
              "      <th>monetary</th>\n",
              "    </tr>\n",
              "    <tr>\n",
              "      <th>CustomerID</th>\n",
              "      <th></th>\n",
              "      <th></th>\n",
              "      <th></th>\n",
              "    </tr>\n",
              "  </thead>\n",
              "  <tbody>\n",
              "    <tr>\n",
              "      <th>12747.0</th>\n",
              "      <td>23</td>\n",
              "      <td>4</td>\n",
              "      <td>1728.31</td>\n",
              "    </tr>\n",
              "    <tr>\n",
              "      <th>12748.0</th>\n",
              "      <td>11</td>\n",
              "      <td>100</td>\n",
              "      <td>21087.13</td>\n",
              "    </tr>\n",
              "    <tr>\n",
              "      <th>12749.0</th>\n",
              "      <td>23</td>\n",
              "      <td>4</td>\n",
              "      <td>3231.78</td>\n",
              "    </tr>\n",
              "    <tr>\n",
              "      <th>12820.0</th>\n",
              "      <td>45</td>\n",
              "      <td>3</td>\n",
              "      <td>771.88</td>\n",
              "    </tr>\n",
              "    <tr>\n",
              "      <th>12822.0</th>\n",
              "      <td>71</td>\n",
              "      <td>2</td>\n",
              "      <td>948.88</td>\n",
              "    </tr>\n",
              "  </tbody>\n",
              "</table>\n",
              "</div>"
            ],
            "text/plain": [
              "            recency  frequency  monetary\n",
              "CustomerID                              \n",
              "12747.0          23          4   1728.31\n",
              "12748.0          11        100  21087.13\n",
              "12749.0          23          4   3231.78\n",
              "12820.0          45          3    771.88\n",
              "12822.0          71          2    948.88"
            ]
          },
          "metadata": {
            "tags": []
          },
          "execution_count": 26
        }
      ]
    },
    {
      "cell_type": "markdown",
      "metadata": {
        "id": "XvP67tJ-DGPD",
        "colab_type": "text"
      },
      "source": [
        "Nota: Verificamos que para CustomerID == 12747, los valores de RFM (23, 4, 1728.31) coinciden con los valores de la fila 2 de la tabla anterior. Por lo tanto, esto indica que nuestros cálculos son correctos."
      ]
    },
    {
      "cell_type": "code",
      "metadata": {
        "id": "T00BlYz5DBXQ",
        "colab_type": "code",
        "colab": {
          "base_uri": "https://localhost:8080/",
          "height": 69
        },
        "outputId": "f9c46f6b-cc2f-48c0-a5a7-f6ffa5e20402"
      },
      "source": [
        "print(\"Recency: {} al {}\".format(rfm.recency.min(), rfm.recency.max()))\n",
        "print(\"Frequency: {} al {}\".format(rfm.frequency.min(), rfm.frequency.max()))\n",
        "print(\"Monetary: {} al {}\".format(rfm.monetary.min(), rfm.monetary.max()))"
      ],
      "execution_count": null,
      "outputs": [
        {
          "output_type": "stream",
          "text": [
            "Recency: 0 al 336\n",
            "Frequency: 1 al 100\n",
            "Monetary: 0.0 al 168469.6\n"
          ],
          "name": "stdout"
        }
      ]
    },
    {
      "cell_type": "markdown",
      "metadata": {
        "id": "0vSvLKsdDMd4",
        "colab_type": "text"
      },
      "source": [
        "**Calculamos el cuartil de los valores RFM**\n",
        "\n",
        "Usando el análisis RFM, los clientes con la menor antigüedad, la mayor frecuencia y los montos monetarios más altos se consideran los mejores clientes. Sin embargo, los valores de RFM por sí solos son difíciles de comprender para tantos clientes a la vez. \n",
        "\n",
        "Necesitamos segregar a los clientes en diferentes \"CUBOS\" en función de sus valores de RFM. Para hacer esto, podemos usar la función qcut (). Es una función de discretización basada en cuartiles que discretiza la variable en cubos de igual tamaño según el rango o según los cuantiles de muestra. Por ejemplo, 1000 valores para 4 cuantiles producirían un objeto categórico que indica el cuartil para cada cliente. "
      ]
    },
    {
      "cell_type": "code",
      "metadata": {
        "id": "5naxqiDvTnoL",
        "colab_type": "code",
        "colab": {}
      },
      "source": [
        "rfm[\"r_quartile\"] = pd.qcut(rfm[\"recency\"], 4, [\"1\",\"2\",\"3\",\"4\"])"
      ],
      "execution_count": null,
      "outputs": []
    },
    {
      "cell_type": "code",
      "metadata": {
        "id": "-3RrEm0_TzPD",
        "colab_type": "code",
        "colab": {
          "base_uri": "https://localhost:8080/",
          "height": 283
        },
        "outputId": "d7291a0f-138b-4cbc-80e4-3cb4c1056d77"
      },
      "source": [
        "rfm['recency'].hist()"
      ],
      "execution_count": null,
      "outputs": [
        {
          "output_type": "execute_result",
          "data": {
            "text/plain": [
              "<matplotlib.axes._subplots.AxesSubplot at 0x7f5d71e38da0>"
            ]
          },
          "metadata": {
            "tags": []
          },
          "execution_count": 34
        },
        {
          "output_type": "display_data",
          "data": {
            "image/png": "[encoded data removed]",
            "text/plain": [
              "<Figure size 432x288 with 1 Axes>"
            ]
          },
          "metadata": {
            "tags": [],
            "needs_background": "light"
          }
        }
      ]
    },
    {
      "cell_type": "code",
      "metadata": {
        "id": "_8ZgN3R4To-L",
        "colab_type": "code",
        "colab": {
          "base_uri": "https://localhost:8080/",
          "height": 349
        },
        "outputId": "3225f06b-1019-45bd-9071-9f0e0320482f"
      },
      "source": [
        "rfm[\"f_quartile\"] = pd.qcut(rfm[\"frequency\"], 4, [\"4\",\"3\",\"2\",\"1\"])"
      ],
      "execution_count": null,
      "outputs": [
        {
          "output_type": "error",
          "ename": "ValueError",
          "evalue": "ignored",
          "traceback": [
            "\u001b[0;31m---------------------------------------------------------------------------\u001b[0m",
            "\u001b[0;31mValueError\u001b[0m                                Traceback (most recent call last)",
            "\u001b[0;32m<ipython-input-35-0b3eb0faccf4>\u001b[0m in \u001b[0;36m<module>\u001b[0;34m()\u001b[0m\n\u001b[0;32m----> 1\u001b[0;31m \u001b[0mrfm\u001b[0m\u001b[0;34m[\u001b[0m\u001b[0;34m\"f_quartile\"\u001b[0m\u001b[0;34m]\u001b[0m \u001b[0;34m=\u001b[0m \u001b[0mpd\u001b[0m\u001b[0;34m.\u001b[0m\u001b[0mqcut\u001b[0m\u001b[0;34m(\u001b[0m\u001b[0mrfm\u001b[0m\u001b[0;34m[\u001b[0m\u001b[0;34m\"frequency\"\u001b[0m\u001b[0;34m]\u001b[0m\u001b[0;34m,\u001b[0m \u001b[0;36m3\u001b[0m\u001b[0;34m,\u001b[0m \u001b[0;34m[\u001b[0m\u001b[0;34m\"4\"\u001b[0m\u001b[0;34m,\u001b[0m\u001b[0;34m\"3\"\u001b[0m\u001b[0;34m,\u001b[0m\u001b[0;34m\"2\"\u001b[0m\u001b[0;34m,\u001b[0m\u001b[0;34m\"1\"\u001b[0m\u001b[0;34m]\u001b[0m\u001b[0;34m)\u001b[0m\u001b[0;34m\u001b[0m\u001b[0;34m\u001b[0m\u001b[0m\n\u001b[0m",
            "\u001b[0;32m/usr/local/lib/python3.6/dist-packages/pandas/core/reshape/tile.py\u001b[0m in \u001b[0;36mqcut\u001b[0;34m(x, q, labels, retbins, precision, duplicates)\u001b[0m\n\u001b[1;32m    346\u001b[0m         \u001b[0minclude_lowest\u001b[0m\u001b[0;34m=\u001b[0m\u001b[0;32mTrue\u001b[0m\u001b[0;34m,\u001b[0m\u001b[0;34m\u001b[0m\u001b[0;34m\u001b[0m\u001b[0m\n\u001b[1;32m    347\u001b[0m         \u001b[0mdtype\u001b[0m\u001b[0;34m=\u001b[0m\u001b[0mdtype\u001b[0m\u001b[0;34m,\u001b[0m\u001b[0;34m\u001b[0m\u001b[0;34m\u001b[0m\u001b[0m\n\u001b[0;32m--> 348\u001b[0;31m         \u001b[0mduplicates\u001b[0m\u001b[0;34m=\u001b[0m\u001b[0mduplicates\u001b[0m\u001b[0;34m,\u001b[0m\u001b[0;34m\u001b[0m\u001b[0;34m\u001b[0m\u001b[0m\n\u001b[0m\u001b[1;32m    349\u001b[0m     )\n\u001b[1;32m    350\u001b[0m \u001b[0;34m\u001b[0m\u001b[0m\n",
            "\u001b[0;32m/usr/local/lib/python3.6/dist-packages/pandas/core/reshape/tile.py\u001b[0m in \u001b[0;36m_bins_to_cuts\u001b[0;34m(x, bins, right, labels, precision, include_lowest, dtype, duplicates)\u001b[0m\n\u001b[1;32m    379\u001b[0m         \u001b[0;32mif\u001b[0m \u001b[0mduplicates\u001b[0m \u001b[0;34m==\u001b[0m \u001b[0;34m\"raise\"\u001b[0m\u001b[0;34m:\u001b[0m\u001b[0;34m\u001b[0m\u001b[0;34m\u001b[0m\u001b[0m\n\u001b[1;32m    380\u001b[0m             raise ValueError(\n\u001b[0;32m--> 381\u001b[0;31m                 \u001b[0;34mf\"Bin edges must be unique: {repr(bins)}.\\n\"\u001b[0m\u001b[0;34m\u001b[0m\u001b[0;34m\u001b[0m\u001b[0m\n\u001b[0m\u001b[1;32m    382\u001b[0m                 \u001b[0;34mf\"You can drop duplicate edges by setting the 'duplicates' kwarg\"\u001b[0m\u001b[0;34m\u001b[0m\u001b[0;34m\u001b[0m\u001b[0m\n\u001b[1;32m    383\u001b[0m             )\n",
            "\u001b[0;31mValueError\u001b[0m: Bin edges must be unique: array([  1.,   1.,   2., 100.]).\nYou can drop duplicate edges by setting the 'duplicates' kwarg"
          ]
        }
      ]
    },
    {
      "cell_type": "code",
      "metadata": {
        "id": "PsOY8EYRDIrL",
        "colab_type": "code",
        "colab": {}
      },
      "source": [
        "rfm[\"r_quartile\"] = pd.qcut(rfm[\"recency\"], 4, [\"1\",\"2\",\"3\",\"4\"])\n",
        "rfm[\"f_quartile\"] = pd.qcut(rfm[\"frequency\"], 4, [\"3\",\"2\",\"1\"], duplicates=\"drop\")\n",
        "rfm[\"m_quartile\"] = pd.qcut(rfm[\"monetary\"], 4, [\"4\",\"3\",\"2\",\"1\"])"
      ],
      "execution_count": null,
      "outputs": []
    },
    {
      "cell_type": "code",
      "metadata": {
        "id": "dt4jl_ksDQxl",
        "colab_type": "code",
        "colab": {
          "base_uri": "https://localhost:8080/",
          "height": 233
        },
        "outputId": "53b6442f-2769-4ee1-9d9d-5b0655ecc01f"
      },
      "source": [
        "rfm.head(5)"
      ],
      "execution_count": null,
      "outputs": [
        {
          "output_type": "execute_result",
          "data": {
            "text/html": [
              "<div>\n",
              "<style scoped>\n",
              "    .dataframe tbody tr th:only-of-type {\n",
              "        vertical-align: middle;\n",
              "    }\n",
              "\n",
              "    .dataframe tbody tr th {\n",
              "        vertical-align: top;\n",
              "    }\n",
              "\n",
              "    .dataframe thead th {\n",
              "        text-align: right;\n",
              "    }\n",
              "</style>\n",
              "<table border=\"1\" class=\"dataframe\">\n",
              "  <thead>\n",
              "    <tr style=\"text-align: right;\">\n",
              "      <th></th>\n",
              "      <th>recency</th>\n",
              "      <th>frequency</th>\n",
              "      <th>monetary</th>\n",
              "      <th>r_quartile</th>\n",
              "      <th>f_quartile</th>\n",
              "      <th>m_quartile</th>\n",
              "    </tr>\n",
              "    <tr>\n",
              "      <th>CustomerID</th>\n",
              "      <th></th>\n",
              "      <th></th>\n",
              "      <th></th>\n",
              "      <th></th>\n",
              "      <th></th>\n",
              "      <th></th>\n",
              "    </tr>\n",
              "  </thead>\n",
              "  <tbody>\n",
              "    <tr>\n",
              "      <th>12747.0</th>\n",
              "      <td>23</td>\n",
              "      <td>4</td>\n",
              "      <td>1728.31</td>\n",
              "      <td>2</td>\n",
              "      <td>1</td>\n",
              "      <td>1</td>\n",
              "    </tr>\n",
              "    <tr>\n",
              "      <th>12748.0</th>\n",
              "      <td>11</td>\n",
              "      <td>100</td>\n",
              "      <td>21087.13</td>\n",
              "      <td>1</td>\n",
              "      <td>1</td>\n",
              "      <td>1</td>\n",
              "    </tr>\n",
              "    <tr>\n",
              "      <th>12749.0</th>\n",
              "      <td>23</td>\n",
              "      <td>4</td>\n",
              "      <td>3231.78</td>\n",
              "      <td>2</td>\n",
              "      <td>1</td>\n",
              "      <td>1</td>\n",
              "    </tr>\n",
              "    <tr>\n",
              "      <th>12820.0</th>\n",
              "      <td>45</td>\n",
              "      <td>3</td>\n",
              "      <td>771.88</td>\n",
              "      <td>2</td>\n",
              "      <td>2</td>\n",
              "      <td>2</td>\n",
              "    </tr>\n",
              "    <tr>\n",
              "      <th>12822.0</th>\n",
              "      <td>71</td>\n",
              "      <td>2</td>\n",
              "      <td>948.88</td>\n",
              "      <td>3</td>\n",
              "      <td>3</td>\n",
              "      <td>2</td>\n",
              "    </tr>\n",
              "  </tbody>\n",
              "</table>\n",
              "</div>"
            ],
            "text/plain": [
              "            recency  frequency  monetary r_quartile f_quartile m_quartile\n",
              "CustomerID                                                               \n",
              "12747.0          23          4   1728.31          2          1          1\n",
              "12748.0          11        100  21087.13          1          1          1\n",
              "12749.0          23          4   3231.78          2          1          1\n",
              "12820.0          45          3    771.88          2          2          2\n",
              "12822.0          71          2    948.88          3          3          2"
            ]
          },
          "metadata": {
            "tags": []
          },
          "execution_count": 29
        }
      ]
    },
    {
      "cell_type": "code",
      "metadata": {
        "id": "BeJvciMrDTsh",
        "colab_type": "code",
        "colab": {
          "base_uri": "https://localhost:8080/",
          "height": 233
        },
        "outputId": "ca7e6448-e79f-49b6-875f-d6bb02f61e1a"
      },
      "source": [
        "#Combinamos los tres cuartiles en una sola columna para ayudar a clasificar a los clientes por segmentos\n",
        "rfm[\"RFM_Score\"] = rfm.r_quartile.astype(str)+ rfm.f_quartile.astype(str) + rfm.m_quartile.astype(str)\n",
        "rfm.head()"
      ],
      "execution_count": null,
      "outputs": [
        {
          "output_type": "execute_result",
          "data": {
            "text/html": [
              "<div>\n",
              "<style scoped>\n",
              "    .dataframe tbody tr th:only-of-type {\n",
              "        vertical-align: middle;\n",
              "    }\n",
              "\n",
              "    .dataframe tbody tr th {\n",
              "        vertical-align: top;\n",
              "    }\n",
              "\n",
              "    .dataframe thead th {\n",
              "        text-align: right;\n",
              "    }\n",
              "</style>\n",
              "<table border=\"1\" class=\"dataframe\">\n",
              "  <thead>\n",
              "    <tr style=\"text-align: right;\">\n",
              "      <th></th>\n",
              "      <th>recency</th>\n",
              "      <th>frequency</th>\n",
              "      <th>monetary</th>\n",
              "      <th>r_quartile</th>\n",
              "      <th>f_quartile</th>\n",
              "      <th>m_quartile</th>\n",
              "      <th>RFM_Score</th>\n",
              "    </tr>\n",
              "    <tr>\n",
              "      <th>CustomerID</th>\n",
              "      <th></th>\n",
              "      <th></th>\n",
              "      <th></th>\n",
              "      <th></th>\n",
              "      <th></th>\n",
              "      <th></th>\n",
              "      <th></th>\n",
              "    </tr>\n",
              "  </thead>\n",
              "  <tbody>\n",
              "    <tr>\n",
              "      <th>12747.0</th>\n",
              "      <td>23</td>\n",
              "      <td>4</td>\n",
              "      <td>1728.31</td>\n",
              "      <td>2</td>\n",
              "      <td>1</td>\n",
              "      <td>1</td>\n",
              "      <td>211</td>\n",
              "    </tr>\n",
              "    <tr>\n",
              "      <th>12748.0</th>\n",
              "      <td>11</td>\n",
              "      <td>100</td>\n",
              "      <td>21087.13</td>\n",
              "      <td>1</td>\n",
              "      <td>1</td>\n",
              "      <td>1</td>\n",
              "      <td>111</td>\n",
              "    </tr>\n",
              "    <tr>\n",
              "      <th>12749.0</th>\n",
              "      <td>23</td>\n",
              "      <td>4</td>\n",
              "      <td>3231.78</td>\n",
              "      <td>2</td>\n",
              "      <td>1</td>\n",
              "      <td>1</td>\n",
              "      <td>211</td>\n",
              "    </tr>\n",
              "    <tr>\n",
              "      <th>12820.0</th>\n",
              "      <td>45</td>\n",
              "      <td>3</td>\n",
              "      <td>771.88</td>\n",
              "      <td>2</td>\n",
              "      <td>2</td>\n",
              "      <td>2</td>\n",
              "      <td>222</td>\n",
              "    </tr>\n",
              "    <tr>\n",
              "      <th>12822.0</th>\n",
              "      <td>71</td>\n",
              "      <td>2</td>\n",
              "      <td>948.88</td>\n",
              "      <td>3</td>\n",
              "      <td>3</td>\n",
              "      <td>2</td>\n",
              "      <td>332</td>\n",
              "    </tr>\n",
              "  </tbody>\n",
              "</table>\n",
              "</div>"
            ],
            "text/plain": [
              "            recency  frequency  monetary  ... f_quartile m_quartile RFM_Score\n",
              "CustomerID                                ...                                \n",
              "12747.0          23          4   1728.31  ...          1          1       211\n",
              "12748.0          11        100  21087.13  ...          1          1       111\n",
              "12749.0          23          4   3231.78  ...          1          1       211\n",
              "12820.0          45          3    771.88  ...          2          2       222\n",
              "12822.0          71          2    948.88  ...          3          2       332\n",
              "\n",
              "[5 rows x 7 columns]"
            ]
          },
          "metadata": {
            "tags": []
          },
          "execution_count": 30
        }
      ]
    },
    {
      "cell_type": "markdown",
      "metadata": {
        "id": "X9cuTTt2DaOj",
        "colab_type": "text"
      },
      "source": [
        "Nota: Vemos que el cliente CustomerID == 12748, cuenta con un valor de 1 en las tres dimensiones Recency, Frequency y Monetary con un puntaje RFM de \"111\". Sería útil clasificar el puntaje de RFM para identificar a los 10 principales clientes.."
      ]
    },
    {
      "cell_type": "code",
      "metadata": {
        "id": "G2F2yLjyDWoc",
        "colab_type": "code",
        "colab": {
          "base_uri": "https://localhost:8080/",
          "height": 386
        },
        "outputId": "334cedc5-f983-42f1-ed73-062b022a1d36"
      },
      "source": [
        "# Filtramos a los 10 principales clientes seleccionando Puntaje RFM = 111 y luego ordenar por valores monetarios y de frecuencia descendentes\n",
        "rfm[rfm[\"RFM_Score\"]==\"111\"].sort_values(by=[\"monetary\", \"frequency\"], ascending=False).head(10)"
      ],
      "execution_count": null,
      "outputs": [
        {
          "output_type": "execute_result",
          "data": {
            "text/html": [
              "<div>\n",
              "<style scoped>\n",
              "    .dataframe tbody tr th:only-of-type {\n",
              "        vertical-align: middle;\n",
              "    }\n",
              "\n",
              "    .dataframe tbody tr th {\n",
              "        vertical-align: top;\n",
              "    }\n",
              "\n",
              "    .dataframe thead th {\n",
              "        text-align: right;\n",
              "    }\n",
              "</style>\n",
              "<table border=\"1\" class=\"dataframe\">\n",
              "  <thead>\n",
              "    <tr style=\"text-align: right;\">\n",
              "      <th></th>\n",
              "      <th>recency</th>\n",
              "      <th>frequency</th>\n",
              "      <th>monetary</th>\n",
              "      <th>r_quartile</th>\n",
              "      <th>f_quartile</th>\n",
              "      <th>m_quartile</th>\n",
              "      <th>RFM_Score</th>\n",
              "    </tr>\n",
              "    <tr>\n",
              "      <th>CustomerID</th>\n",
              "      <th></th>\n",
              "      <th></th>\n",
              "      <th></th>\n",
              "      <th></th>\n",
              "      <th></th>\n",
              "      <th></th>\n",
              "      <th></th>\n",
              "    </tr>\n",
              "  </thead>\n",
              "  <tbody>\n",
              "    <tr>\n",
              "      <th>18102.0</th>\n",
              "      <td>12</td>\n",
              "      <td>38</td>\n",
              "      <td>139773.75</td>\n",
              "      <td>1</td>\n",
              "      <td>1</td>\n",
              "      <td>1</td>\n",
              "      <td>111</td>\n",
              "    </tr>\n",
              "    <tr>\n",
              "      <th>17450.0</th>\n",
              "      <td>11</td>\n",
              "      <td>29</td>\n",
              "      <td>128193.63</td>\n",
              "      <td>1</td>\n",
              "      <td>1</td>\n",
              "      <td>1</td>\n",
              "      <td>111</td>\n",
              "    </tr>\n",
              "    <tr>\n",
              "      <th>14096.0</th>\n",
              "      <td>12</td>\n",
              "      <td>17</td>\n",
              "      <td>65164.79</td>\n",
              "      <td>1</td>\n",
              "      <td>1</td>\n",
              "      <td>1</td>\n",
              "      <td>111</td>\n",
              "    </tr>\n",
              "    <tr>\n",
              "      <th>17511.0</th>\n",
              "      <td>17</td>\n",
              "      <td>14</td>\n",
              "      <td>48740.10</td>\n",
              "      <td>1</td>\n",
              "      <td>1</td>\n",
              "      <td>1</td>\n",
              "      <td>111</td>\n",
              "    </tr>\n",
              "    <tr>\n",
              "      <th>16684.0</th>\n",
              "      <td>12</td>\n",
              "      <td>15</td>\n",
              "      <td>41577.62</td>\n",
              "      <td>1</td>\n",
              "      <td>1</td>\n",
              "      <td>1</td>\n",
              "      <td>111</td>\n",
              "    </tr>\n",
              "    <tr>\n",
              "      <th>14088.0</th>\n",
              "      <td>11</td>\n",
              "      <td>9</td>\n",
              "      <td>35103.81</td>\n",
              "      <td>1</td>\n",
              "      <td>1</td>\n",
              "      <td>1</td>\n",
              "      <td>111</td>\n",
              "    </tr>\n",
              "    <tr>\n",
              "      <th>17949.0</th>\n",
              "      <td>18</td>\n",
              "      <td>23</td>\n",
              "      <td>28164.12</td>\n",
              "      <td>1</td>\n",
              "      <td>1</td>\n",
              "      <td>1</td>\n",
              "      <td>111</td>\n",
              "    </tr>\n",
              "    <tr>\n",
              "      <th>13089.0</th>\n",
              "      <td>12</td>\n",
              "      <td>37</td>\n",
              "      <td>25566.81</td>\n",
              "      <td>1</td>\n",
              "      <td>1</td>\n",
              "      <td>1</td>\n",
              "      <td>111</td>\n",
              "    </tr>\n",
              "    <tr>\n",
              "      <th>17389.0</th>\n",
              "      <td>15</td>\n",
              "      <td>14</td>\n",
              "      <td>24620.58</td>\n",
              "      <td>1</td>\n",
              "      <td>1</td>\n",
              "      <td>1</td>\n",
              "      <td>111</td>\n",
              "    </tr>\n",
              "    <tr>\n",
              "      <th>17841.0</th>\n",
              "      <td>0</td>\n",
              "      <td>62</td>\n",
              "      <td>24209.34</td>\n",
              "      <td>1</td>\n",
              "      <td>1</td>\n",
              "      <td>1</td>\n",
              "      <td>111</td>\n",
              "    </tr>\n",
              "  </tbody>\n",
              "</table>\n",
              "</div>"
            ],
            "text/plain": [
              "            recency  frequency   monetary  ... f_quartile m_quartile RFM_Score\n",
              "CustomerID                                 ...                                \n",
              "18102.0          12         38  139773.75  ...          1          1       111\n",
              "17450.0          11         29  128193.63  ...          1          1       111\n",
              "14096.0          12         17   65164.79  ...          1          1       111\n",
              "17511.0          17         14   48740.10  ...          1          1       111\n",
              "16684.0          12         15   41577.62  ...          1          1       111\n",
              "14088.0          11          9   35103.81  ...          1          1       111\n",
              "17949.0          18         23   28164.12  ...          1          1       111\n",
              "13089.0          12         37   25566.81  ...          1          1       111\n",
              "17389.0          15         14   24620.58  ...          1          1       111\n",
              "17841.0           0         62   24209.34  ...          1          1       111\n",
              "\n",
              "[10 rows x 7 columns]"
            ]
          },
          "metadata": {
            "tags": []
          },
          "execution_count": 31
        }
      ]
    },
    {
      "cell_type": "markdown",
      "metadata": {
        "id": "5poXXWcsDjIT",
        "colab_type": "text"
      },
      "source": [
        "El resultado final anterior muestra a los 10 mejores clientes con el mejor puntaje RFM de 111, lo que significa que están en el primer cuartil para las tres dimensiones recientes, de frecuencia y monetarias. Esto indica que tienen la Recency más baja, la Frecuencia más alta y los valores monetarios más altos. Las empresas deberían centrar más su atención y recursos en este segmento de clientes que probablemente generará más rentabilidad."
      ]
    },
    {
      "cell_type": "markdown",
      "metadata": {
        "id": "vzn9TCpLDna3",
        "colab_type": "text"
      },
      "source": [
        "**Podemos encontrar aquí una sugerencia de segmentos clave y luego podemos decidir qué segmento considerar para un estudio posterior.**\n",
        "\n",
        "Nota: 1 es el puntaje más alto / mejor y 4 es el más bajo."
      ]
    },
    {
      "cell_type": "code",
      "metadata": {
        "id": "gpGn2kXPDdeF",
        "colab_type": "code",
        "colab": {
          "base_uri": "https://localhost:8080/",
          "height": 260
        },
        "outputId": "29277581-b733-46e8-ee6c-b304a0060cb1"
      },
      "source": [
        "rfm.info()"
      ],
      "execution_count": null,
      "outputs": [
        {
          "output_type": "stream",
          "text": [
            "<class 'pandas.core.frame.DataFrame'>\n",
            "Float64Index: 2953 entries, 12747.0 to 18287.0\n",
            "Data columns (total 7 columns):\n",
            " #   Column      Non-Null Count  Dtype   \n",
            "---  ------      --------------  -----   \n",
            " 0   recency     2953 non-null   int64   \n",
            " 1   frequency   2953 non-null   int64   \n",
            " 2   monetary    2953 non-null   float64 \n",
            " 3   r_quartile  2953 non-null   category\n",
            " 4   f_quartile  2953 non-null   category\n",
            " 5   m_quartile  2953 non-null   category\n",
            " 6   RFM_Score   2953 non-null   object  \n",
            "dtypes: category(3), float64(1), int64(2), object(1)\n",
            "memory usage: 124.5+ KB\n"
          ],
          "name": "stdout"
        }
      ]
    },
    {
      "cell_type": "code",
      "metadata": {
        "id": "mZArBx9WDsPB",
        "colab_type": "code",
        "colab": {}
      },
      "source": [
        "rfm['RFM_Score']=rfm['RFM_Score'].astype(float)"
      ],
      "execution_count": null,
      "outputs": []
    },
    {
      "cell_type": "code",
      "metadata": {
        "id": "Kpt8rZZMIxIE",
        "colab_type": "code",
        "colab": {
          "base_uri": "https://localhost:8080/",
          "height": 260
        },
        "outputId": "099c89c4-e926-4cfc-83df-78fcde7d5ffd"
      },
      "source": [
        "rfm.info()"
      ],
      "execution_count": null,
      "outputs": [
        {
          "output_type": "stream",
          "text": [
            "<class 'pandas.core.frame.DataFrame'>\n",
            "Float64Index: 2953 entries, 12747.0 to 18287.0\n",
            "Data columns (total 7 columns):\n",
            " #   Column      Non-Null Count  Dtype   \n",
            "---  ------      --------------  -----   \n",
            " 0   recency     2953 non-null   int64   \n",
            " 1   frequency   2953 non-null   int64   \n",
            " 2   monetary    2953 non-null   float64 \n",
            " 3   r_quartile  2953 non-null   category\n",
            " 4   f_quartile  2953 non-null   category\n",
            " 5   m_quartile  2953 non-null   category\n",
            " 6   RFM_Score   2953 non-null   float64 \n",
            "dtypes: category(3), float64(2), int64(2)\n",
            "memory usage: 124.5 KB\n"
          ],
          "name": "stdout"
        }
      ]
    },
    {
      "cell_type": "code",
      "metadata": {
        "id": "XsgHVQMWJLxz",
        "colab_type": "code",
        "colab": {}
      },
      "source": [
        "#Propongo una función que me genere una segmentación en base al RFM obtenido\n",
        "def cluster(rfm):\n",
        "            if rfm['RFM_Score'] <=111:\n",
        "              return 'Mejores clientes'\n",
        "            else: \n",
        "              if rfm['RFM_Score'] <=222:\n",
        "                return 'Buenos clientes'\n",
        "              elif rfm['RFM_Score'] <=333:\n",
        "                return 'Regulares clientes'\n",
        "              else:\n",
        "                return 'Malos clientes'"
      ],
      "execution_count": null,
      "outputs": []
    },
    {
      "cell_type": "code",
      "metadata": {
        "id": "6RTx7-a6FHKZ",
        "colab_type": "code",
        "colab": {}
      },
      "source": [
        "#Aplico la función generada para crear una nueva columna con el nombre de cada clúster\n",
        "rfm['cluster']=rfm.apply(cluster, axis=1)"
      ],
      "execution_count": null,
      "outputs": []
    },
    {
      "cell_type": "code",
      "metadata": {
        "id": "bCcmt2NzIsuO",
        "colab_type": "code",
        "colab": {
          "base_uri": "https://localhost:8080/",
          "height": 233
        },
        "outputId": "6771c493-9327-47a4-c9aa-d84bb77f90a2"
      },
      "source": [
        "rfm.head()"
      ],
      "execution_count": null,
      "outputs": [
        {
          "output_type": "execute_result",
          "data": {
            "text/html": [
              "<div>\n",
              "<style scoped>\n",
              "    .dataframe tbody tr th:only-of-type {\n",
              "        vertical-align: middle;\n",
              "    }\n",
              "\n",
              "    .dataframe tbody tr th {\n",
              "        vertical-align: top;\n",
              "    }\n",
              "\n",
              "    .dataframe thead th {\n",
              "        text-align: right;\n",
              "    }\n",
              "</style>\n",
              "<table border=\"1\" class=\"dataframe\">\n",
              "  <thead>\n",
              "    <tr style=\"text-align: right;\">\n",
              "      <th></th>\n",
              "      <th>recency</th>\n",
              "      <th>frequency</th>\n",
              "      <th>monetary</th>\n",
              "      <th>r_quartile</th>\n",
              "      <th>f_quartile</th>\n",
              "      <th>m_quartile</th>\n",
              "      <th>RFM_Score</th>\n",
              "      <th>cluster</th>\n",
              "    </tr>\n",
              "    <tr>\n",
              "      <th>CustomerID</th>\n",
              "      <th></th>\n",
              "      <th></th>\n",
              "      <th></th>\n",
              "      <th></th>\n",
              "      <th></th>\n",
              "      <th></th>\n",
              "      <th></th>\n",
              "      <th></th>\n",
              "    </tr>\n",
              "  </thead>\n",
              "  <tbody>\n",
              "    <tr>\n",
              "      <th>12747.0</th>\n",
              "      <td>23</td>\n",
              "      <td>4</td>\n",
              "      <td>1728.31</td>\n",
              "      <td>2</td>\n",
              "      <td>1</td>\n",
              "      <td>1</td>\n",
              "      <td>211.0</td>\n",
              "      <td>Buenos clientes</td>\n",
              "    </tr>\n",
              "    <tr>\n",
              "      <th>12748.0</th>\n",
              "      <td>11</td>\n",
              "      <td>100</td>\n",
              "      <td>21087.13</td>\n",
              "      <td>1</td>\n",
              "      <td>1</td>\n",
              "      <td>1</td>\n",
              "      <td>111.0</td>\n",
              "      <td>Mejores clientes</td>\n",
              "    </tr>\n",
              "    <tr>\n",
              "      <th>12749.0</th>\n",
              "      <td>23</td>\n",
              "      <td>4</td>\n",
              "      <td>3231.78</td>\n",
              "      <td>2</td>\n",
              "      <td>1</td>\n",
              "      <td>1</td>\n",
              "      <td>211.0</td>\n",
              "      <td>Buenos clientes</td>\n",
              "    </tr>\n",
              "    <tr>\n",
              "      <th>12820.0</th>\n",
              "      <td>45</td>\n",
              "      <td>3</td>\n",
              "      <td>771.88</td>\n",
              "      <td>2</td>\n",
              "      <td>2</td>\n",
              "      <td>2</td>\n",
              "      <td>222.0</td>\n",
              "      <td>Buenos clientes</td>\n",
              "    </tr>\n",
              "    <tr>\n",
              "      <th>12822.0</th>\n",
              "      <td>71</td>\n",
              "      <td>2</td>\n",
              "      <td>948.88</td>\n",
              "      <td>3</td>\n",
              "      <td>3</td>\n",
              "      <td>2</td>\n",
              "      <td>332.0</td>\n",
              "      <td>Regulares clientes</td>\n",
              "    </tr>\n",
              "  </tbody>\n",
              "</table>\n",
              "</div>"
            ],
            "text/plain": [
              "            recency  frequency  ...  RFM_Score             cluster\n",
              "CustomerID                      ...                               \n",
              "12747.0          23          4  ...      211.0     Buenos clientes\n",
              "12748.0          11        100  ...      111.0    Mejores clientes\n",
              "12749.0          23          4  ...      211.0     Buenos clientes\n",
              "12820.0          45          3  ...      222.0     Buenos clientes\n",
              "12822.0          71          2  ...      332.0  Regulares clientes\n",
              "\n",
              "[5 rows x 8 columns]"
            ]
          },
          "metadata": {
            "tags": []
          },
          "execution_count": 37
        }
      ]
    },
    {
      "cell_type": "code",
      "metadata": {
        "id": "d0D9v2R-KZBz",
        "colab_type": "code",
        "colab": {
          "base_uri": "https://localhost:8080/",
          "height": 367
        },
        "outputId": "19bb7020-8d0f-4ceb-8707-136ae2261597"
      },
      "source": [
        "#Realizo una gráfica de barras para observar la distribución por segmento\n",
        "rfm['cluster'].value_counts().plot(kind='bar')"
      ],
      "execution_count": null,
      "outputs": [
        {
          "output_type": "execute_result",
          "data": {
            "text/plain": [
              "<matplotlib.axes._subplots.AxesSubplot at 0x7fb4cd77c3c8>"
            ]
          },
          "metadata": {
            "tags": []
          },
          "execution_count": 38
        },
        {
          "output_type": "display_data",
          "data": {
            "image/png": "[encoded data removed]",
            "text/plain": [
              "<Figure size 432x288 with 1 Axes>"
            ]
          },
          "metadata": {
            "tags": [],
            "needs_background": "light"
          }
        }
      ]
    },
    {
      "cell_type": "markdown",
      "metadata": {
        "id": "BMiypkiOL_x3",
        "colab_type": "text"
      },
      "source": [
        "Puedo obtener los promedios de compra total en el periodo seleccionado por cluster"
      ]
    },
    {
      "cell_type": "code",
      "metadata": {
        "id": "C-bkU-xtK6Z_",
        "colab_type": "code",
        "colab": {
          "base_uri": "https://localhost:8080/",
          "height": 121
        },
        "outputId": "ee53e1ce-a4f5-42a0-c5d1-c9d28a103487"
      },
      "source": [
        "rfm.groupby('cluster')['monetary'].mean().sort_values(ascending=False)"
      ],
      "execution_count": null,
      "outputs": [
        {
          "output_type": "execute_result",
          "data": {
            "text/plain": [
              "cluster\n",
              "Mejores clientes      5425.095654\n",
              "Buenos clientes       1271.720103\n",
              "Regulares clientes     934.684558\n",
              "Malos clientes         429.398633\n",
              "Name: monetary, dtype: float64"
            ]
          },
          "metadata": {
            "tags": []
          },
          "execution_count": 39
        }
      ]
    },
    {
      "cell_type": "markdown",
      "metadata": {
        "id": "twy33fvsMIeF",
        "colab_type": "text"
      },
      "source": [
        "El análisis RFM es ampliamente utilizado por su fácil compresión y aplicabilidad. Permite conocer el comportamiento de compra de los clientes según unos parámetros básicos, en busca de la identificación de aquellos clientes que aportan mayor valor a la empresa. Adicionalmente, este análisis se puede complementar con otras técnicas como técnicas de manipulación de datos, métodos gráficos de visualización, métodos de agrupación, junto con la introducción de nuevas variables, para obtener un análisis adaptado a las necesidades particulares de una empresa o industria."
      ]
    }
  ]
}