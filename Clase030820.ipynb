{
  "nbformat": 4,
  "nbformat_minor": 0,
  "metadata": {
    "colab": {
      "name": "Clase030820.ipynb",
      "provenance": [],
      "collapsed_sections": [],
      "authorship_tag": "ABX9TyP1xgqLyYlLWmn5xEEN9TPO",
      "include_colab_link": true
    },
    "kernelspec": {
      "name": "python3",
      "display_name": "Python 3"
    }
  },
  "cells": [
    {
      "cell_type": "markdown",
      "metadata": {
        "id": "view-in-github",
        "colab_type": "text"
      },
      "source": [
        "<a href=\"https://colab.research.google.com/github/JLaura011/Business-Analytics/blob/master/Clase030820.ipynb\" target=\"_parent\"><img src=\"https://colab.research.google.com/assets/colab-badge.svg\" alt=\"Open In Colab\"/></a>"
      ]
    },
    {
      "cell_type": "markdown",
      "metadata": {
        "id": "5rPIBxQ6AfUm",
        "colab_type": "text"
      },
      "source": [
        "Clase 03/08/2020"
      ]
    },
    {
      "cell_type": "markdown",
      "metadata": {
        "id": "9hcnhGEICtPV",
        "colab_type": "text"
      },
      "source": [
        "Creamos una variable numerica"
      ]
    },
    {
      "cell_type": "markdown",
      "metadata": {
        "id": "wo2XAgMgDlQv",
        "colab_type": "text"
      },
      "source": [
        "Tipeado dinamico el mismo objeto del tipo numerico y string / Redefiniendo las variables"
      ]
    },
    {
      "cell_type": "code",
      "metadata": {
        "id": "UY-r0CVNC5sO",
        "colab_type": "code",
        "colab": {
          "base_uri": "https://localhost:8080/",
          "height": 51
        },
        "outputId": "189b4e58-2a00-43ef-b968-2b89e1f730b2"
      },
      "source": [
        "numero = 10\n",
        "print(numero) #Evaluar que contiene el objeto\n",
        "print(type(numero)) #Visualizar el tipo de dato"
      ],
      "execution_count": 4,
      "outputs": [
        {
          "output_type": "stream",
          "text": [
            "10\n",
            "<class 'int'>\n"
          ],
          "name": "stdout"
        }
      ]
    },
    {
      "cell_type": "code",
      "metadata": {
        "id": "8axlw-YoDSr1",
        "colab_type": "code",
        "colab": {
          "base_uri": "https://localhost:8080/",
          "height": 51
        },
        "outputId": "24587e81-1b18-41af-ddcd-20b28f74a5c9"
      },
      "source": [
        "numero = \"hola\"\n",
        "print(numero)\n",
        "print(type(numero))"
      ],
      "execution_count": 5,
      "outputs": [
        {
          "output_type": "stream",
          "text": [
            "hola\n",
            "<class 'str'>\n"
          ],
          "name": "stdout"
        }
      ]
    },
    {
      "cell_type": "markdown",
      "metadata": {
        "id": "KO0MfQbSD3Rf",
        "colab_type": "text"
      },
      "source": [
        "Variables\n",
        "\n",
        "\n",
        "*   Las variables no necesitan ser declaradas (tipeado dinamico)\n",
        "*   Las variables son sensibles a mayusculas y minisculas\n",
        "*   Los comentarios son # para una linea y ''' para textos grandes\n",
        "*   Python reconoce 3 tipos de datos (entero, string y booleano)\n",
        "\n",
        "\n",
        "\n",
        "\n"
      ]
    },
    {
      "cell_type": "code",
      "metadata": {
        "id": "bTP6vr0FD2n3",
        "colab_type": "code",
        "colab": {
          "base_uri": "https://localhost:8080/",
          "height": 35
        },
        "outputId": "57480db7-9a2a-4019-a5c0-6f74fb91ae28"
      },
      "source": [
        "#hola esta es una linea de codigo\n",
        "'''\n",
        "hola como estan todos\n",
        "yo estoy bien\n",
        "'''"
      ],
      "execution_count": 6,
      "outputs": [
        {
          "output_type": "execute_result",
          "data": {
            "application/vnd.google.colaboratory.intrinsic+json": {
              "type": "string"
            },
            "text/plain": [
              "'\\nhola como estan todos\\nyo estoy bien\\n'"
            ]
          },
          "metadata": {
            "tags": []
          },
          "execution_count": 6
        }
      ]
    },
    {
      "cell_type": "markdown",
      "metadata": {
        "id": "2ioeybUpE7Jn",
        "colab_type": "text"
      },
      "source": [
        "Datos numericos"
      ]
    },
    {
      "cell_type": "code",
      "metadata": {
        "id": "vhMiTCMQE4na",
        "colab_type": "code",
        "colab": {
          "base_uri": "https://localhost:8080/",
          "height": 51
        },
        "outputId": "089c0a2a-deb9-4d18-f88c-7662bae42481"
      },
      "source": [
        "num_int = 1\n",
        "print(num_int)\n",
        "print(type(num_int))"
      ],
      "execution_count": 7,
      "outputs": [
        {
          "output_type": "stream",
          "text": [
            "1\n",
            "<class 'int'>\n"
          ],
          "name": "stdout"
        }
      ]
    },
    {
      "cell_type": "code",
      "metadata": {
        "id": "n_hsBM7vFKy-",
        "colab_type": "code",
        "colab": {
          "base_uri": "https://localhost:8080/",
          "height": 51
        },
        "outputId": "adda653e-f1c2-4e25-bbe3-659046ba3a72"
      },
      "source": [
        "num_float = 10.5\n",
        "print(num_float)\n",
        "print(type(num_float))"
      ],
      "execution_count": 8,
      "outputs": [
        {
          "output_type": "stream",
          "text": [
            "10.5\n",
            "<class 'float'>\n"
          ],
          "name": "stdout"
        }
      ]
    },
    {
      "cell_type": "code",
      "metadata": {
        "id": "bF2nrAxwFZ7v",
        "colab_type": "code",
        "colab": {
          "base_uri": "https://localhost:8080/",
          "height": 51
        },
        "outputId": "7c91d0df-cbe2-48e1-e613-401afeb9fd75"
      },
      "source": [
        "#Para numeros complejos se sigue la estructura\n",
        "#R+aj\n",
        "num_complejo = 5 + 2j\n",
        "print(num_complejo.real)\n",
        "print(num_complejo.imag)"
      ],
      "execution_count": 10,
      "outputs": [
        {
          "output_type": "stream",
          "text": [
            "5.0\n",
            "2.0\n"
          ],
          "name": "stdout"
        }
      ]
    },
    {
      "cell_type": "markdown",
      "metadata": {
        "id": "WGtxU0NtGeMx",
        "colab_type": "text"
      },
      "source": [
        "Datos de Tipo String o cadena de caracteres"
      ]
    },
    {
      "cell_type": "code",
      "metadata": {
        "id": "VSY01bmQFzne",
        "colab_type": "code",
        "colab": {
          "base_uri": "https://localhost:8080/",
          "height": 85
        },
        "outputId": "8915862d-585b-4f14-c410-87d09796f1cf"
      },
      "source": [
        "#Se usa aspas dobles para definir un string\n",
        "texto_asp_dob = \"¡Hola amigos de DSRP!\"\n",
        "print(texto_asp_dob)\n",
        "texto_asp_simp = 'hola amigos'\n",
        "print(texto_asp_simp)\n",
        "texto_asp_dentro= \"hola 'amigos'\"\n",
        "print(texto_asp_dentro)\n",
        "a = 'hola \"amigos\"'\n",
        "print(a)"
      ],
      "execution_count": 15,
      "outputs": [
        {
          "output_type": "stream",
          "text": [
            "¡Hola amigos de DSRP!\n",
            "hola amigos\n",
            "hola 'amigos'\n",
            "hola \"amigos\"\n"
          ],
          "name": "stdout"
        }
      ]
    },
    {
      "cell_type": "markdown",
      "metadata": {
        "id": "zPVoMUYYHPTH",
        "colab_type": "text"
      },
      "source": [
        "Datos del Tipo Booleano"
      ]
    },
    {
      "cell_type": "markdown",
      "metadata": {
        "id": "F-v2nwyLIKcZ",
        "colab_type": "text"
      },
      "source": [
        "\n",
        "\n",
        "*   La primera letra debe ser mayuscula T o F\n",
        "\n",
        "\n"
      ]
    },
    {
      "cell_type": "code",
      "metadata": {
        "id": "jvtxsRfCILXU",
        "colab_type": "code",
        "colab": {
          "base_uri": "https://localhost:8080/",
          "height": 34
        },
        "outputId": "af351b7d-9219-4165-8305-d9a8272c5e7e"
      },
      "source": [
        "valor_A = True\n",
        "print(valor_A)"
      ],
      "execution_count": 17,
      "outputs": [
        {
          "output_type": "stream",
          "text": [
            "True\n"
          ],
          "name": "stdout"
        }
      ]
    },
    {
      "cell_type": "code",
      "metadata": {
        "id": "FAMfOtOmGz1e",
        "colab_type": "code",
        "colab": {
          "base_uri": "https://localhost:8080/",
          "height": 34
        },
        "outputId": "e0e9d7fe-e279-457d-9eec-16150f0a148a"
      },
      "source": [
        "valor_B = False\n",
        "print(valor_B)"
      ],
      "execution_count": 19,
      "outputs": [
        {
          "output_type": "stream",
          "text": [
            "False\n"
          ],
          "name": "stdout"
        }
      ]
    },
    {
      "cell_type": "code",
      "metadata": {
        "id": "vezoOa6NIyJI",
        "colab_type": "code",
        "colab": {
          "base_uri": "https://localhost:8080/",
          "height": 51
        },
        "outputId": "9b0aa95d-5a66-40a4-c2d8-1be3d9f41352"
      },
      "source": [
        "print(not valor_A)\n",
        "print(not valor_B)"
      ],
      "execution_count": 21,
      "outputs": [
        {
          "output_type": "stream",
          "text": [
            "False\n",
            "True\n"
          ],
          "name": "stdout"
        }
      ]
    },
    {
      "cell_type": "code",
      "metadata": {
        "id": "ORCNqwqXI8H5",
        "colab_type": "code",
        "colab": {
          "base_uri": "https://localhost:8080/",
          "height": 51
        },
        "outputId": "302ba798-37c4-45ae-d859-483a4b18cf93"
      },
      "source": [
        "print (valor_A and valor_B)\n",
        "print (valor_A or valor_B)"
      ],
      "execution_count": 23,
      "outputs": [
        {
          "output_type": "stream",
          "text": [
            "False\n",
            "True\n"
          ],
          "name": "stdout"
        }
      ]
    },
    {
      "cell_type": "markdown",
      "metadata": {
        "id": "nnPEKIbsJfCa",
        "colab_type": "text"
      },
      "source": [
        "El comando PRINT()"
      ]
    },
    {
      "cell_type": "code",
      "metadata": {
        "id": "MzemfwPOJViz",
        "colab_type": "code",
        "colab": {
          "base_uri": "https://localhost:8080/",
          "height": 51
        },
        "outputId": "d8b2f7e3-a244-4e86-959d-8be5da564d76"
      },
      "source": [
        "num_1 = 8\n",
        "num_2 = 2\n",
        "resultado = (num_1+num_2)/3.0\n",
        "print(\"el resultado de\", num_1,\"mas\",num_2,\"es %.2f\" % resultado)\n",
        "#Es una forma recomendada\n",
        "print(f\"el resultado de {num_1} mas {num_2} es {resultado:.2f}\")"
      ],
      "execution_count": 29,
      "outputs": [
        {
          "output_type": "stream",
          "text": [
            "el resultado de 8 mas 2 es 3.33\n",
            "el resultado de 8 mas 2 es 3.33\n"
          ],
          "name": "stdout"
        }
      ]
    },
    {
      "cell_type": "markdown",
      "metadata": {
        "id": "FKq4ieBpK0bW",
        "colab_type": "text"
      },
      "source": [
        "Operadores Aritmeticos en Python"
      ]
    },
    {
      "cell_type": "code",
      "metadata": {
        "id": "VRwbSycEK20h",
        "colab_type": "code",
        "colab": {
          "base_uri": "https://localhost:8080/",
          "height": 34
        },
        "outputId": "73aa7d80-53a8-407a-aa7c-6327d9288349"
      },
      "source": [
        "#Suma +\n",
        "#Resta - \n",
        "#Negacion -\n",
        "#Potencia **\n",
        "#Division /\n",
        "#Division entera //, devuelve el cociente\n",
        "#Modulo % , devuelve el resto\n",
        "\n",
        "b=3\n",
        "pot=2\n",
        "c= 3**2\n",
        "print(f\"{b} elevado a la {pot} es {c}\")\n",
        "\n",
        "\n"
      ],
      "execution_count": 32,
      "outputs": [
        {
          "output_type": "stream",
          "text": [
            "3 elevado a la 2 es 9\n"
          ],
          "name": "stdout"
        }
      ]
    },
    {
      "cell_type": "markdown",
      "metadata": {
        "id": "EZu0r2qDOAC7",
        "colab_type": "text"
      },
      "source": [
        "Conversion de datos en python"
      ]
    },
    {
      "cell_type": "code",
      "metadata": {
        "id": "l1hFjcPPNQj0",
        "colab_type": "code",
        "colab": {
          "base_uri": "https://localhost:8080/",
          "height": 51
        },
        "outputId": "95f2fd54-b2ae-45f4-86c0-fdc3f3ff0133"
      },
      "source": [
        "#conversion de string a numero\n",
        "var_str = \"100\"\n",
        "print(type(var_str))\n",
        "\n",
        "var_int = int(var_str)\n",
        "print(type(var_int))"
      ],
      "execution_count": 34,
      "outputs": [
        {
          "output_type": "stream",
          "text": [
            "<class 'str'>\n",
            "<class 'int'>\n"
          ],
          "name": "stdout"
        }
      ]
    }
  ]
}