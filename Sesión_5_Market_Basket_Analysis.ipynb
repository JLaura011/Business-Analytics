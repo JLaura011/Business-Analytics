{
  "nbformat": 4,
  "nbformat_minor": 0,
  "metadata": {
    "kernelspec": {
      "display_name": "Python 3",
      "language": "python",
      "name": "python3"
    },
    "language_info": {
      "codemirror_mode": {
        "name": "ipython",
        "version": 3
      },
      "file_extension": ".py",
      "mimetype": "text/x-python",
      "name": "python",
      "nbconvert_exporter": "python",
      "pygments_lexer": "ipython3",
      "version": "3.6.5"
    },
    "colab": {
      "name": "Sesión 5 - Market Basket Analysis.ipynb",
      "provenance": [],
      "collapsed_sections": [],
      "include_colab_link": true
    }
  },
  "cells": [
    {
      "cell_type": "markdown",
      "metadata": {
        "id": "view-in-github",
        "colab_type": "text"
      },
      "source": [
        "<a href=\"https://colab.research.google.com/github/JLaura011/Business-Analytics/blob/master/Sesi%C3%B3n_5_Market_Basket_Analysis.ipynb\" target=\"_parent\"><img src=\"https://colab.research.google.com/assets/colab-badge.svg\" alt=\"Open In Colab\"/></a>"
      ]
    },
    {
      "cell_type": "markdown",
      "metadata": {
        "_uuid": "c4c0236531ac8423c3ae9a8353b44ef12a407835",
        "id": "VHIPTuvUvFn5",
        "colab_type": "text"
      },
      "source": [
        "#**Sesión 5: Market Basket Model**\n",
        "\n",
        "\n",
        "\n",
        "<img src=\"https://www.grupolambda.com.pe/wp-content/uploads/2020/03/home-logo.png\" alt=\"drawing\" width=\"300\"/>\n",
        "<br>\n",
        "\n",
        " ##### Docente: Jorge Brian Alarcon Flores "
      ]
    },
    {
      "cell_type": "markdown",
      "metadata": {
        "id": "62-qiFH32YRA",
        "colab_type": "text"
      },
      "source": [
        "**¡Armemos los famosos combos promocionales de productos!**"
      ]
    },
    {
      "cell_type": "markdown",
      "metadata": {
        "_uuid": "e570cdc1774675bc1da2119e3dda3953540c0c19",
        "id": "Pkb2MRj6vFn8",
        "colab_type": "text"
      },
      "source": [
        "# Conjunto de datos"
      ]
    },
    {
      "cell_type": "markdown",
      "metadata": {
        "_uuid": "2d5d7444e85f6978f93df5d41a8520eca123f62f",
        "id": "zfZCN7pjvFn9",
        "colab_type": "text"
      },
      "source": [
        "Estos datos pertenecen a una panadería llamada \"San Antonio Padua\", esta panadería presenta una variada oferta de productos."
      ]
    },
    {
      "cell_type": "markdown",
      "metadata": {
        "_uuid": "4266548539933f00cdc4bc8e504be82828e772ee",
        "id": "9T6pZtCvvFn_",
        "colab_type": "text"
      },
      "source": [
        "Utilizaremos este conjunto de datos para realizar una técnica de modelado conocida como Market Basket Analysis. Esto se basa en la idea de que uno puede predecir patrones de compra dentro de los artículos, que es lo que lo hace popular en el campo de la venta minorista y el comercio. Esta forma de análisis ayuda a muchas formas de negocios a comprender los patrones de comportamiento y los patrones de compra.\n",
        "\n",
        "\n",
        "La idea es encontrar el enlace entre los artículos comprados. Por ejemplo, si alguien compra el artículo 1, ¿qué posibilidades hay de que también compren el artículo 2?"
      ]
    },
    {
      "cell_type": "markdown",
      "metadata": {
        "_uuid": "42d8a84b30807c563a4cc76be0cf0ee853108573",
        "id": "2M02DrOGvFoF",
        "colab_type": "text"
      },
      "source": [
        "# Análisis de la data"
      ]
    },
    {
      "cell_type": "markdown",
      "metadata": {
        "_uuid": "7822ced5b93f12ca5058bc1da684bad32afd55bd",
        "id": "wcRDggNTvFoG",
        "colab_type": "text"
      },
      "source": [
        "Como siempre, primero importamos las librerías que vamos a utilizar para el análisis exploratorio de los datos, así como las preferencias de estilo."
      ]
    },
    {
      "cell_type": "code",
      "metadata": {
        "_uuid": "9b947fdcd4a624c587b31b9e783bc67e4d3f1fab",
        "trusted": true,
        "id": "IP2t-gl6vFoH",
        "colab_type": "code",
        "colab": {}
      },
      "source": [
        "import pandas as pd\n",
        "import numpy as np\n",
        "import seaborn as sns\n",
        "import matplotlib.pyplot as plt\n",
        "%matplotlib inline\n",
        "\n",
        "# Warnings\n",
        "import warnings\n",
        "warnings.filterwarnings('ignore')\n",
        "\n",
        "# Style\n",
        "sns.set(style='darkgrid')\n",
        "plt.rcParams[\"patch.force_edgecolor\"] = True"
      ],
      "execution_count": null,
      "outputs": []
    },
    {
      "cell_type": "markdown",
      "metadata": {
        "_uuid": "c8bfed30ac540f28a4d65adaf8f2b76e3b93aab5",
        "id": "tyM0nhIWvFoN",
        "colab_type": "text"
      },
      "source": [
        "Ahora importemos los datos en un DataFrame con pandas y exploremos sus propiedades:"
      ]
    },
    {
      "cell_type": "code",
      "metadata": {
        "_uuid": "8bc0091fd4359dbba6a7a6ab9b9f4da7f76774b5",
        "trusted": true,
        "id": "ZNycSvncvFoO",
        "colab_type": "code",
        "colab": {}
      },
      "source": [
        "#Importamos la data\n",
        "url = 'https://raw.githubusercontent.com/JBrianAlicorp/Business-Analytics/master/data_prophet.csv'\n",
        "df = pd.read_csv(url,encoding='latin1')"
      ],
      "execution_count": null,
      "outputs": []
    },
    {
      "cell_type": "code",
      "metadata": {
        "id": "TNfk5Xu3pmeE",
        "colab_type": "code",
        "colab": {}
      },
      "source": [
        ""
      ],
      "execution_count": null,
      "outputs": []
    },
    {
      "cell_type": "code",
      "metadata": {
        "_uuid": "524819ce99da28fbd1614d4b87f306a5e52cb922",
        "scrolled": true,
        "trusted": true,
        "id": "QjlivO4LvFoR",
        "colab_type": "code",
        "colab": {
          "base_uri": "https://localhost:8080/",
          "height": 266
        },
        "outputId": "cc9a02c2-c87e-401e-f234-05a43763a4d5"
      },
      "source": [
        "print('Información de la data: \\n')\n",
        "print(df.info())"
      ],
      "execution_count": null,
      "outputs": [
        {
          "output_type": "stream",
          "text": [
            "Información de la data: \n",
            "\n",
            "<class 'pandas.core.frame.DataFrame'>\n",
            "RangeIndex: 21293 entries, 0 to 21292\n",
            "Data columns (total 4 columns):\n",
            " #   Column       Non-Null Count  Dtype \n",
            "---  ------       --------------  ----- \n",
            " 0   Date         21293 non-null  object\n",
            " 1   Time         21293 non-null  object\n",
            " 2   Transaction  21293 non-null  int64 \n",
            " 3   Item         21293 non-null  object\n",
            "dtypes: int64(1), object(3)\n",
            "memory usage: 665.5+ KB\n",
            "None\n"
          ],
          "name": "stdout"
        }
      ]
    },
    {
      "cell_type": "code",
      "metadata": {
        "_uuid": "954d91a733fadf7b25ffd52ff2216bb95c17d066",
        "scrolled": true,
        "trusted": true,
        "id": "VxLmweMevFoV",
        "colab_type": "code",
        "colab": {
          "base_uri": "https://localhost:8080/",
          "height": 376
        },
        "outputId": "fe175e6d-d1a6-489d-a8c6-acf7929e0522"
      },
      "source": [
        "print('Mostramos las 10 primeras observaciones de nuestra data: \\n')\n",
        "df.head(10)"
      ],
      "execution_count": null,
      "outputs": [
        {
          "output_type": "stream",
          "text": [
            "Mostramos las 10 primeras observaciones de nuestra data: \n",
            "\n"
          ],
          "name": "stdout"
        },
        {
          "output_type": "execute_result",
          "data": {
            "text/html": [
              "<div>\n",
              "<style scoped>\n",
              "    .dataframe tbody tr th:only-of-type {\n",
              "        vertical-align: middle;\n",
              "    }\n",
              "\n",
              "    .dataframe tbody tr th {\n",
              "        vertical-align: top;\n",
              "    }\n",
              "\n",
              "    .dataframe thead th {\n",
              "        text-align: right;\n",
              "    }\n",
              "</style>\n",
              "<table border=\"1\" class=\"dataframe\">\n",
              "  <thead>\n",
              "    <tr style=\"text-align: right;\">\n",
              "      <th></th>\n",
              "      <th>Date</th>\n",
              "      <th>Time</th>\n",
              "      <th>Transaction</th>\n",
              "      <th>Item</th>\n",
              "    </tr>\n",
              "  </thead>\n",
              "  <tbody>\n",
              "    <tr>\n",
              "      <th>0</th>\n",
              "      <td>2016-10-30</td>\n",
              "      <td>09:58:11</td>\n",
              "      <td>1</td>\n",
              "      <td>Bread</td>\n",
              "    </tr>\n",
              "    <tr>\n",
              "      <th>1</th>\n",
              "      <td>2016-10-30</td>\n",
              "      <td>10:05:34</td>\n",
              "      <td>2</td>\n",
              "      <td>Scandinavian</td>\n",
              "    </tr>\n",
              "    <tr>\n",
              "      <th>2</th>\n",
              "      <td>2016-10-30</td>\n",
              "      <td>10:05:34</td>\n",
              "      <td>2</td>\n",
              "      <td>Scandinavian</td>\n",
              "    </tr>\n",
              "    <tr>\n",
              "      <th>3</th>\n",
              "      <td>2016-10-30</td>\n",
              "      <td>10:07:57</td>\n",
              "      <td>3</td>\n",
              "      <td>Hot chocolate</td>\n",
              "    </tr>\n",
              "    <tr>\n",
              "      <th>4</th>\n",
              "      <td>2016-10-30</td>\n",
              "      <td>10:07:57</td>\n",
              "      <td>3</td>\n",
              "      <td>Jam</td>\n",
              "    </tr>\n",
              "    <tr>\n",
              "      <th>5</th>\n",
              "      <td>2016-10-30</td>\n",
              "      <td>10:07:57</td>\n",
              "      <td>3</td>\n",
              "      <td>Cookies</td>\n",
              "    </tr>\n",
              "    <tr>\n",
              "      <th>6</th>\n",
              "      <td>2016-10-30</td>\n",
              "      <td>10:08:41</td>\n",
              "      <td>4</td>\n",
              "      <td>Muffin</td>\n",
              "    </tr>\n",
              "    <tr>\n",
              "      <th>7</th>\n",
              "      <td>2016-10-30</td>\n",
              "      <td>10:13:03</td>\n",
              "      <td>5</td>\n",
              "      <td>Coffee</td>\n",
              "    </tr>\n",
              "    <tr>\n",
              "      <th>8</th>\n",
              "      <td>2016-10-30</td>\n",
              "      <td>10:13:03</td>\n",
              "      <td>5</td>\n",
              "      <td>Pastry</td>\n",
              "    </tr>\n",
              "    <tr>\n",
              "      <th>9</th>\n",
              "      <td>2016-10-30</td>\n",
              "      <td>10:13:03</td>\n",
              "      <td>5</td>\n",
              "      <td>Bread</td>\n",
              "    </tr>\n",
              "  </tbody>\n",
              "</table>\n",
              "</div>"
            ],
            "text/plain": [
              "         Date      Time  Transaction           Item\n",
              "0  2016-10-30  09:58:11            1          Bread\n",
              "1  2016-10-30  10:05:34            2   Scandinavian\n",
              "2  2016-10-30  10:05:34            2   Scandinavian\n",
              "3  2016-10-30  10:07:57            3  Hot chocolate\n",
              "4  2016-10-30  10:07:57            3            Jam\n",
              "5  2016-10-30  10:07:57            3        Cookies\n",
              "6  2016-10-30  10:08:41            4         Muffin\n",
              "7  2016-10-30  10:13:03            5         Coffee\n",
              "8  2016-10-30  10:13:03            5         Pastry\n",
              "9  2016-10-30  10:13:03            5          Bread"
            ]
          },
          "metadata": {
            "tags": []
          },
          "execution_count": 17
        }
      ]
    },
    {
      "cell_type": "code",
      "metadata": {
        "_uuid": "001b20d883be228bc72564562175e848770a6d0c",
        "scrolled": false,
        "trusted": true,
        "id": "Vu-zQSfNvFoY",
        "colab_type": "code",
        "colab": {
          "base_uri": "https://localhost:8080/",
          "height": 390
        },
        "outputId": "b8a291b8-f5ff-4466-f847-802713cc2594"
      },
      "source": [
        "print('Items unicos: ', df['Item'].nunique())\n",
        "print( '\\n', df['Item'].unique())"
      ],
      "execution_count": null,
      "outputs": [
        {
          "output_type": "stream",
          "text": [
            "Items unicos:  95\n",
            "\n",
            " ['Bread' 'Scandinavian' 'Hot chocolate' 'Jam' 'Cookies' 'Muffin' 'Coffee'\n",
            " 'Pastry' 'Medialuna' 'Tea' 'NONE' 'Tartine' 'Basket' 'Mineral water'\n",
            " 'Farm House' 'Fudge' 'Juice' \"Ella's Kitchen Pouches\" 'Victorian Sponge'\n",
            " 'Frittata' 'Hearty & Seasonal' 'Soup' 'Pick and Mix Bowls' 'Smoothies'\n",
            " 'Cake' 'Mighty Protein' 'Chicken sand' 'Coke' 'My-5 Fruit Shoot'\n",
            " 'Focaccia' 'Sandwich' 'Alfajores' 'Eggs' 'Brownie' 'Dulce de Leche'\n",
            " 'Honey' 'The BART' 'Granola' 'Fairy Doors' 'Empanadas' 'Keeping It Local'\n",
            " 'Art Tray' 'Bowl Nic Pitt' 'Bread Pudding' 'Adjustment' 'Truffles'\n",
            " 'Chimichurri Oil' 'Bacon' 'Spread' 'Kids biscuit' 'Siblings'\n",
            " 'Caramel bites' 'Jammie Dodgers' 'Tiffin' 'Olum & polenta' 'Polenta'\n",
            " 'The Nomad' 'Hack the stack' 'Bakewell' 'Lemon and coconut' 'Toast'\n",
            " 'Scone' 'Crepes' 'Vegan mincepie' 'Bare Popcorn' 'Muesli' 'Crisps'\n",
            " 'Pintxos' 'Gingerbread syrup' 'Panatone' 'Brioche and salami'\n",
            " 'Afternoon with the baker' 'Salad' 'Chicken Stew' 'Spanish Brunch'\n",
            " 'Raspberry shortbread sandwich' 'Extra Salami or Feta' 'Duck egg'\n",
            " 'Baguette' \"Valentine's card\" 'Tshirt' 'Vegan Feast' 'Postcard'\n",
            " 'Nomad bag' 'Chocolates' 'Coffee granules ' 'Drinking chocolate spoons '\n",
            " 'Christmas common' 'Argentina Night' 'Half slice Monster ' 'Gift voucher'\n",
            " 'Cherry me Dried fruit' 'Mortimer' 'Raw bars' 'Tacos/Fajita']\n"
          ],
          "name": "stdout"
        }
      ]
    },
    {
      "cell_type": "markdown",
      "metadata": {
        "_uuid": "67b744ff4a12ed0e44f179355f00e998ae2cdbe6",
        "id": "oNShDn14vFod",
        "colab_type": "text"
      },
      "source": [
        "# Tratamiento de la data"
      ]
    },
    {
      "cell_type": "markdown",
      "metadata": {
        "_uuid": "f0563596b7425d73047db48db62d1dd412023697",
        "id": "WXAnW44JvFoe",
        "colab_type": "text"
      },
      "source": [
        "### Comprobación de valores nulos\n",
        "\n",
        "Como siempre, buscamos valores faltantes y ceros y valores \"Ninguno\"."
      ]
    },
    {
      "cell_type": "code",
      "metadata": {
        "_uuid": "1e4dd5ffa4e82c398c4be6e890879e7843d0d4da",
        "trusted": true,
        "id": "YYY-50MOvFof",
        "colab_type": "code",
        "colab": {
          "base_uri": "https://localhost:8080/",
          "height": 106
        },
        "outputId": "1aa5c612-bba2-49c4-adca-ed0adcb60ed8"
      },
      "source": [
        "# Enumeramos los nulos por variables:\n",
        "\n",
        "print(df.isnull().sum().sort_values(ascending=False))"
      ],
      "execution_count": null,
      "outputs": [
        {
          "output_type": "stream",
          "text": [
            "Item           0\n",
            "Transaction    0\n",
            "Time           0\n",
            "Date           0\n",
            "dtype: int64\n"
          ],
          "name": "stdout"
        }
      ]
    },
    {
      "cell_type": "markdown",
      "metadata": {
        "_uuid": "50d81d15e3a022f941d691e3c6dd5afda500c673",
        "id": "vOsiKIzpvFoi",
        "colab_type": "text"
      },
      "source": [
        "No tenemos nulos en nuestro conjunto de datos"
      ]
    },
    {
      "cell_type": "code",
      "metadata": {
        "_uuid": "1560f6b67cc48fbae5e1edb953eee4dddbcc39ee",
        "scrolled": false,
        "trusted": true,
        "id": "F0jY2j_WvFoj",
        "colab_type": "code",
        "colab": {
          "base_uri": "https://localhost:8080/",
          "height": 266
        },
        "outputId": "ea612211-3bac-4600-b210-f39e4b887205"
      },
      "source": [
        "print(df[df['Item']=='NONE'])"
      ],
      "execution_count": null,
      "outputs": [
        {
          "output_type": "stream",
          "text": [
            "             Date      Time  Transaction  Item\n",
            "26     2016-10-30  10:27:21           11  NONE\n",
            "38     2016-10-30  10:34:36           15  NONE\n",
            "39     2016-10-30  10:34:36           15  NONE\n",
            "66     2016-10-30  11:05:30           29  NONE\n",
            "80     2016-10-30  11:37:10           37  NONE\n",
            "...           ...       ...          ...   ...\n",
            "21108  2017-04-08  11:54:22         9590  NONE\n",
            "21122  2017-04-08  12:58:25         9599  NONE\n",
            "21254  2017-04-09  12:01:07         9666  NONE\n",
            "21255  2017-04-09  12:04:13         9667  NONE\n",
            "21266  2017-04-09  12:31:28         9672  NONE\n",
            "\n",
            "[786 rows x 4 columns]\n"
          ],
          "name": "stdout"
        }
      ]
    },
    {
      "cell_type": "markdown",
      "metadata": {
        "_uuid": "c075f606a931fb7d5629127332c8ad7381dee2a0",
        "id": "Py-GScIDvFom",
        "colab_type": "text"
      },
      "source": [
        "Claramente tenemos valores 'NONE' en nuestro conjunto de datos. Esto significa que no se compró ningún artículo o que el nombre del artículo no se registró. Al ser un valor erróneo, debemos eliminarlo de nuestro conjunto de datos\n"
      ]
    },
    {
      "cell_type": "code",
      "metadata": {
        "_uuid": "3bbd0d2a5dadf1c02d576f4aa309674977ce2681",
        "trusted": true,
        "id": "lOZi064tvFon",
        "colab_type": "code",
        "colab": {}
      },
      "source": [
        "df.drop(df[df['Item']=='NONE'].index, inplace=True)"
      ],
      "execution_count": null,
      "outputs": []
    },
    {
      "cell_type": "code",
      "metadata": {
        "_uuid": "006ba10b840d4ba460fc96a25358e8fba0c3522e",
        "trusted": true,
        "id": "VrcJBHfZvFoq",
        "colab_type": "code",
        "colab": {
          "base_uri": "https://localhost:8080/",
          "height": 230
        },
        "outputId": "5a61b247-cc3d-4604-e6c4-53b6e9ee6261"
      },
      "source": [
        "print(df.info())"
      ],
      "execution_count": null,
      "outputs": [
        {
          "output_type": "stream",
          "text": [
            "<class 'pandas.core.frame.DataFrame'>\n",
            "Int64Index: 20507 entries, 0 to 21292\n",
            "Data columns (total 4 columns):\n",
            " #   Column       Non-Null Count  Dtype \n",
            "---  ------       --------------  ----- \n",
            " 0   Date         20507 non-null  object\n",
            " 1   Time         20507 non-null  object\n",
            " 2   Transaction  20507 non-null  int64 \n",
            " 3   Item         20507 non-null  object\n",
            "dtypes: int64(1), object(3)\n",
            "memory usage: 801.1+ KB\n",
            "None\n"
          ],
          "name": "stdout"
        }
      ]
    },
    {
      "cell_type": "markdown",
      "metadata": {
        "_uuid": "2ed754159eb7b4d7fe567110e644e223793afc7d",
        "id": "UuxYj464vFos",
        "colab_type": "text"
      },
      "source": [
        "<a id='AddingtotheDataFrame'></a>"
      ]
    },
    {
      "cell_type": "markdown",
      "metadata": {
        "_uuid": "3f4cec56cf5acfa9d16438971beb50f5354625e9",
        "id": "2Q20sJZ4vFot",
        "colab_type": "text"
      },
      "source": [
        "### Creamos nuevas variables"
      ]
    },
    {
      "cell_type": "markdown",
      "metadata": {
        "_uuid": "3c20afde31660f0807b797315498e4b1fc31b1cb",
        "id": "lRLE2LCsvFot",
        "colab_type": "text"
      },
      "source": [
        "Como podemos ver arriba, las características de Fecha y Hora no son tipos numéricos. Para una mejor visualización y comprensión de los datos en el futuro, agregamos algunas características más a este DataFrame basado en la información de estas dos características."
      ]
    },
    {
      "cell_type": "code",
      "metadata": {
        "_uuid": "1cf5e7ae17ea4d5f954a2c02dac7cb80ac4afd57",
        "trusted": true,
        "id": "SXAPWOw6vFou",
        "colab_type": "code",
        "colab": {}
      },
      "source": [
        "# Year\n",
        "df['Year'] = df['Date'].apply(lambda x: x.split(\"-\")[0])\n",
        "# Month\n",
        "df['Month'] = df['Date'].apply(lambda x: x.split(\"-\")[1])\n",
        "# Day\n",
        "df['Day'] = df['Date'].apply(lambda x: x.split(\"-\")[2])"
      ],
      "execution_count": null,
      "outputs": []
    },
    {
      "cell_type": "code",
      "metadata": {
        "_uuid": "029f6fbe63c9a32f0293b6e8dafda7b5242458e8",
        "scrolled": false,
        "trusted": true,
        "id": "p172VnwtvFox",
        "colab_type": "code",
        "colab": {
          "base_uri": "https://localhost:8080/",
          "height": 460
        },
        "outputId": "9e3acbad-5680-4ab0-862d-e673f108e806"
      },
      "source": [
        "print(df.info())\n",
        "df.head()"
      ],
      "execution_count": null,
      "outputs": [
        {
          "output_type": "stream",
          "text": [
            "<class 'pandas.core.frame.DataFrame'>\n",
            "Int64Index: 20507 entries, 0 to 21292\n",
            "Data columns (total 7 columns):\n",
            " #   Column       Non-Null Count  Dtype \n",
            "---  ------       --------------  ----- \n",
            " 0   Date         20507 non-null  object\n",
            " 1   Time         20507 non-null  object\n",
            " 2   Transaction  20507 non-null  int64 \n",
            " 3   Item         20507 non-null  object\n",
            " 4   Year         20507 non-null  object\n",
            " 5   Month        20507 non-null  object\n",
            " 6   Day          20507 non-null  object\n",
            "dtypes: int64(1), object(6)\n",
            "memory usage: 1.3+ MB\n",
            "None\n"
          ],
          "name": "stdout"
        },
        {
          "output_type": "execute_result",
          "data": {
            "text/html": [
              "<div>\n",
              "<style scoped>\n",
              "    .dataframe tbody tr th:only-of-type {\n",
              "        vertical-align: middle;\n",
              "    }\n",
              "\n",
              "    .dataframe tbody tr th {\n",
              "        vertical-align: top;\n",
              "    }\n",
              "\n",
              "    .dataframe thead th {\n",
              "        text-align: right;\n",
              "    }\n",
              "</style>\n",
              "<table border=\"1\" class=\"dataframe\">\n",
              "  <thead>\n",
              "    <tr style=\"text-align: right;\">\n",
              "      <th></th>\n",
              "      <th>Date</th>\n",
              "      <th>Time</th>\n",
              "      <th>Transaction</th>\n",
              "      <th>Item</th>\n",
              "      <th>Year</th>\n",
              "      <th>Month</th>\n",
              "      <th>Day</th>\n",
              "    </tr>\n",
              "  </thead>\n",
              "  <tbody>\n",
              "    <tr>\n",
              "      <th>0</th>\n",
              "      <td>2016-10-30</td>\n",
              "      <td>09:58:11</td>\n",
              "      <td>1</td>\n",
              "      <td>Bread</td>\n",
              "      <td>2016</td>\n",
              "      <td>10</td>\n",
              "      <td>30</td>\n",
              "    </tr>\n",
              "    <tr>\n",
              "      <th>1</th>\n",
              "      <td>2016-10-30</td>\n",
              "      <td>10:05:34</td>\n",
              "      <td>2</td>\n",
              "      <td>Scandinavian</td>\n",
              "      <td>2016</td>\n",
              "      <td>10</td>\n",
              "      <td>30</td>\n",
              "    </tr>\n",
              "    <tr>\n",
              "      <th>2</th>\n",
              "      <td>2016-10-30</td>\n",
              "      <td>10:05:34</td>\n",
              "      <td>2</td>\n",
              "      <td>Scandinavian</td>\n",
              "      <td>2016</td>\n",
              "      <td>10</td>\n",
              "      <td>30</td>\n",
              "    </tr>\n",
              "    <tr>\n",
              "      <th>3</th>\n",
              "      <td>2016-10-30</td>\n",
              "      <td>10:07:57</td>\n",
              "      <td>3</td>\n",
              "      <td>Hot chocolate</td>\n",
              "      <td>2016</td>\n",
              "      <td>10</td>\n",
              "      <td>30</td>\n",
              "    </tr>\n",
              "    <tr>\n",
              "      <th>4</th>\n",
              "      <td>2016-10-30</td>\n",
              "      <td>10:07:57</td>\n",
              "      <td>3</td>\n",
              "      <td>Jam</td>\n",
              "      <td>2016</td>\n",
              "      <td>10</td>\n",
              "      <td>30</td>\n",
              "    </tr>\n",
              "  </tbody>\n",
              "</table>\n",
              "</div>"
            ],
            "text/plain": [
              "         Date      Time  Transaction           Item  Year Month Day\n",
              "0  2016-10-30  09:58:11            1          Bread  2016    10  30\n",
              "1  2016-10-30  10:05:34            2   Scandinavian  2016    10  30\n",
              "2  2016-10-30  10:05:34            2   Scandinavian  2016    10  30\n",
              "3  2016-10-30  10:07:57            3  Hot chocolate  2016    10  30\n",
              "4  2016-10-30  10:07:57            3            Jam  2016    10  30"
            ]
          },
          "metadata": {
            "tags": []
          },
          "execution_count": 24
        }
      ]
    },
    {
      "cell_type": "markdown",
      "metadata": {
        "_uuid": "df042380f3682601c1ba59ebe0dbb5b99af78597",
        "id": "s_WdluQivFo1",
        "colab_type": "text"
      },
      "source": [
        "### Visualizando y entendiendo la data"
      ]
    },
    {
      "cell_type": "markdown",
      "metadata": {
        "_uuid": "ebb2873d5e04a75b5c5fd7b55dd845976ff85810",
        "id": "vfC7686QvFo1",
        "colab_type": "text"
      },
      "source": [
        "Sabemos que este conjunto de datos se registra del 30/10/2016 al 09/04/2017. Antes de comenzar a modelar, debemos explorar y visualizar las ventas dentro de este período de tiempo. ¿Qué artículos compran más los clientes? ¿Qué meses fueron más exitosos? Respondamos esto visualmente."
      ]
    },
    {
      "cell_type": "markdown",
      "metadata": {
        "_uuid": "14b9a83f5152475fc7e423efe80f24a8ccd66023",
        "id": "S0U6TRi3vFo2",
        "colab_type": "text"
      },
      "source": [
        "Veamos los artículos más vendidos de la panadería:"
      ]
    },
    {
      "cell_type": "code",
      "metadata": {
        "_uuid": "c0d71366b1edaf33b06d9a2af6a0e9eca39053a0",
        "trusted": true,
        "id": "Ow-5D8UNvFo2",
        "colab_type": "code",
        "colab": {
          "base_uri": "https://localhost:8080/",
          "height": 337
        },
        "outputId": "06c2b103-b416-4687-96a7-a1fa23f2ce44"
      },
      "source": [
        "most_sold = df['Item'].value_counts().head(15)\n",
        "\n",
        "print('Item/Productos más vendidos: \\n')\n",
        "print(most_sold)"
      ],
      "execution_count": null,
      "outputs": [
        {
          "output_type": "stream",
          "text": [
            "Item/Productos más vendidos: \n",
            "\n",
            "Coffee           5471\n",
            "Bread            3325\n",
            "Tea              1435\n",
            "Cake             1025\n",
            "Pastry            856\n",
            "Sandwich          771\n",
            "Medialuna         616\n",
            "Hot chocolate     590\n",
            "Cookies           540\n",
            "Brownie           379\n",
            "Farm House        374\n",
            "Muffin            370\n",
            "Alfajores         369\n",
            "Juice             369\n",
            "Soup              342\n",
            "Name: Item, dtype: int64\n"
          ],
          "name": "stdout"
        }
      ]
    },
    {
      "cell_type": "code",
      "metadata": {
        "_uuid": "86cac0214acecc50653a5d7cfab10c798dfd9c72",
        "trusted": true,
        "id": "GwJTNuowvFo5",
        "colab_type": "code",
        "colab": {
          "base_uri": "https://localhost:8080/",
          "height": 476
        },
        "outputId": "1f884b12-46c3-4ee0-8bdc-fec3b98b4f25"
      },
      "source": [
        "plt.figure(figsize=(12,6))\n",
        "\n",
        "plt.subplot(1,2,2)\n",
        "most_sold.plot(kind='bar')\n",
        "plt.title('Items/Productos más vendidos')"
      ],
      "execution_count": null,
      "outputs": [
        {
          "output_type": "execute_result",
          "data": {
            "text/plain": [
              "Text(0.5, 1.0, 'Items/Productos más vendidos')"
            ]
          },
          "metadata": {
            "tags": []
          },
          "execution_count": 36
        },
        {
          "output_type": "display_data",
          "data": {
            "image/png": "[encoded data removed]",
            "text/plain": [
              "<Figure size 864x432 with 1 Axes>"
            ]
          },
          "metadata": {
            "tags": []
          }
        }
      ]
    },
    {
      "cell_type": "markdown",
      "metadata": {
        "_uuid": "59a4c30f6a9518b06013f5ff0f901208b5a3f8cb",
        "id": "apnNFDMpvFo7",
        "colab_type": "text"
      },
      "source": [
        "Claramente, el café es el artículo más vendido, seguido de pan, té, pasteles y pasteles, respectivamente. Esto tiene sentido para una panadería. Ahora que sabemos cuáles son los artículos más populares, veamos qué meses generan la mayor cantidad de ventas."
      ]
    },
    {
      "cell_type": "code",
      "metadata": {
        "_uuid": "5b2bfdf4dedd20900b24b86dcd3c51b7309db1ed",
        "trusted": true,
        "id": "IUA2cbHnvFo8",
        "colab_type": "code",
        "colab": {
          "base_uri": "https://localhost:8080/",
          "height": 631
        },
        "outputId": "f27d4b58-b25c-4092-ff5b-49376ab1fbb5"
      },
      "source": [
        "df.groupby('Month')['Transaction'].nunique().plot(kind='bar', title='Monthly Sales')\n",
        "plt.show()"
      ],
      "execution_count": null,
      "outputs": [
        {
          "output_type": "display_data",
          "data": {
            "image/png": "[encoded data removed]",
            "text/plain": [
              "<Figure size 720x720 with 1 Axes>"
            ]
          },
          "metadata": {
            "tags": []
          }
        }
      ]
    },
    {
      "cell_type": "markdown",
      "metadata": {
        "_uuid": "41cb9e345c09f4614e43cc346b23a3d1eecac4e5",
        "id": "X-YbZHoHvFo-",
        "colab_type": "text"
      },
      "source": [
        "¡Esto se está poniendo interesante! Vemos algunas grandes diferencias aquí. Como ejercicio para los curiosos, quizás valdría la pena descubrir si esta drástica diferencia en las ventas se debe a que el conjunto de datos tiene menos datos para abril y octubre. Esto tendría sentido, ya que son los meses atípicos en el conjunto de datos. Verifiquemos si hay menos transacciones diarias registradas para estos meses en comparación con las demás."
      ]
    },
    {
      "cell_type": "code",
      "metadata": {
        "_uuid": "f488bfba9375c67d9e805efa6e89772443e34bed",
        "trusted": true,
        "id": "o8z0KHUZvFo-",
        "colab_type": "code",
        "colab": {
          "base_uri": "https://localhost:8080/",
          "height": 177
        },
        "outputId": "5e249071-e896-4ca5-b44a-5ea0657aa42b"
      },
      "source": [
        "print(df.groupby('Month')['Day'].nunique())"
      ],
      "execution_count": null,
      "outputs": [
        {
          "output_type": "stream",
          "text": [
            "Month\n",
            "01    30\n",
            "02    28\n",
            "03    31\n",
            "04     9\n",
            "10     2\n",
            "11    30\n",
            "12    29\n",
            "Name: Day, dtype: int64\n"
          ],
          "name": "stdout"
        }
      ]
    },
    {
      "cell_type": "markdown",
      "metadata": {
        "_uuid": "b85076d4a9b57e57124c9a8b00657b896c995d24",
        "id": "0lzcAT-bvFpB",
        "colab_type": "text"
      },
      "source": [
        "¡Mira eso! Esta intuición era correcta. Solo se registraron 9 días de transacciones para abril y 2 días para octubre."
      ]
    },
    {
      "cell_type": "markdown",
      "metadata": {
        "_uuid": "01d49f1bc7b2705903e3e3e5a72bf8f33502529e",
        "id": "rTihhzbfvFpD",
        "colab_type": "text"
      },
      "source": [
        "# Market Basket Analysis"
      ]
    },
    {
      "cell_type": "code",
      "metadata": {
        "_uuid": "aae81f6f30b8be4f8d0c026794a5924e502c2a35",
        "trusted": true,
        "id": "f1i3fsLDvFpE",
        "colab_type": "code",
        "colab": {}
      },
      "source": [
        "from mlxtend.preprocessing import TransactionEncoder\n",
        "from mlxtend.frequent_patterns import association_rules, apriori"
      ],
      "execution_count": null,
      "outputs": []
    },
    {
      "cell_type": "markdown",
      "metadata": {
        "_uuid": "d5bc83d6f668f2f3752d2d0056c532cfe986f5ad",
        "id": "jFhNwtEKvFpH",
        "colab_type": "text"
      },
      "source": [
        "Ahora creemos una lista de las transacciones únicas para que podamos transformar nuestros datos en el formato correcto usando TransactionEncoder."
      ]
    },
    {
      "cell_type": "code",
      "metadata": {
        "_uuid": "28884ad726c278db58861d8b056172f9ba95bb91",
        "trusted": true,
        "id": "NuuUnxNxvFpI",
        "colab_type": "code",
        "colab": {
          "base_uri": "https://localhost:8080/",
          "height": 35
        },
        "outputId": "ef6468f8-a4ab-4791-ecd8-79a6349f893b"
      },
      "source": [
        "transaction_list = []\n",
        "\n",
        "# For loop para crear una lista de las transacciones únicas en todo el conjunto de datos:\n",
        "for i in df['Transaction'].unique():\n",
        "    tlist = list(set(df[df['Transaction']==i]['Item']))\n",
        "    if len(tlist)>0:\n",
        "        transaction_list.append(tlist)\n",
        "print(len(transaction_list))"
      ],
      "execution_count": null,
      "outputs": [
        {
          "output_type": "stream",
          "text": [
            "9465\n"
          ],
          "name": "stdout"
        }
      ]
    },
    {
      "cell_type": "code",
      "metadata": {
        "_uuid": "bb6eb5076fea27ff49bb849654282dc3c129ca51",
        "trusted": true,
        "id": "uz6DWhkWvFpK",
        "colab_type": "code",
        "colab": {}
      },
      "source": [
        "te = TransactionEncoder()\n",
        "te_ary = te.fit(transaction_list).transform(transaction_list)\n",
        "df2 = pd.DataFrame(te_ary, columns=te.columns_)"
      ],
      "execution_count": null,
      "outputs": []
    },
    {
      "cell_type": "markdown",
      "metadata": {
        "_uuid": "0301c136e53f6ed6b553adb0b950d0743d2818bf",
        "id": "TavkpaquvFpM",
        "colab_type": "text"
      },
      "source": [
        "Ahora apliquemos a priori. Usaré el parámetro min_threshold en las reglas de asociación para que la métrica de elevación sea 1.0 porque si es menor que uno, entonces es probable que los dos artículos no se compren juntos. Ordenaremos los valores por confianza para ver la probabilidad de que se compre un artículo si se compra su antecedente."
      ]
    },
    {
      "cell_type": "code",
      "metadata": {
        "_uuid": "8ca3d30f9fca52ecec99efd9fe31cd2fa3173db6",
        "scrolled": true,
        "trusted": true,
        "id": "LsS67MPVvFpN",
        "colab_type": "code",
        "colab": {
          "base_uri": "https://localhost:8080/",
          "height": 1000
        },
        "outputId": "c535856c-096d-428f-cf94-bdb134615ecd"
      },
      "source": [
        "frequent_itemsets = apriori(df2, min_support=0.01, use_colnames=True)\n",
        "rules = association_rules(frequent_itemsets, metric='lift', min_threshold=1.0)\n",
        "rules.sort_values('confidence', ascending=False)"
      ],
      "execution_count": null,
      "outputs": [
        {
          "output_type": "execute_result",
          "data": {
            "text/html": [
              "<div>\n",
              "<style scoped>\n",
              "    .dataframe tbody tr th:only-of-type {\n",
              "        vertical-align: middle;\n",
              "    }\n",
              "\n",
              "    .dataframe tbody tr th {\n",
              "        vertical-align: top;\n",
              "    }\n",
              "\n",
              "    .dataframe thead th {\n",
              "        text-align: right;\n",
              "    }\n",
              "</style>\n",
              "<table border=\"1\" class=\"dataframe\">\n",
              "  <thead>\n",
              "    <tr style=\"text-align: right;\">\n",
              "      <th></th>\n",
              "      <th>antecedents</th>\n",
              "      <th>consequents</th>\n",
              "      <th>antecedent support</th>\n",
              "      <th>consequent support</th>\n",
              "      <th>support</th>\n",
              "      <th>confidence</th>\n",
              "      <th>lift</th>\n",
              "      <th>leverage</th>\n",
              "      <th>conviction</th>\n",
              "    </tr>\n",
              "  </thead>\n",
              "  <tbody>\n",
              "    <tr>\n",
              "      <th>30</th>\n",
              "      <td>(Toast)</td>\n",
              "      <td>(Coffee)</td>\n",
              "      <td>0.033597</td>\n",
              "      <td>0.478394</td>\n",
              "      <td>0.023666</td>\n",
              "      <td>0.704403</td>\n",
              "      <td>1.472431</td>\n",
              "      <td>0.007593</td>\n",
              "      <td>1.764582</td>\n",
              "    </tr>\n",
              "    <tr>\n",
              "      <th>28</th>\n",
              "      <td>(Spanish Brunch)</td>\n",
              "      <td>(Coffee)</td>\n",
              "      <td>0.018172</td>\n",
              "      <td>0.478394</td>\n",
              "      <td>0.010882</td>\n",
              "      <td>0.598837</td>\n",
              "      <td>1.251766</td>\n",
              "      <td>0.002189</td>\n",
              "      <td>1.300235</td>\n",
              "    </tr>\n",
              "    <tr>\n",
              "      <th>18</th>\n",
              "      <td>(Medialuna)</td>\n",
              "      <td>(Coffee)</td>\n",
              "      <td>0.061807</td>\n",
              "      <td>0.478394</td>\n",
              "      <td>0.035182</td>\n",
              "      <td>0.569231</td>\n",
              "      <td>1.189878</td>\n",
              "      <td>0.005614</td>\n",
              "      <td>1.210871</td>\n",
              "    </tr>\n",
              "    <tr>\n",
              "      <th>22</th>\n",
              "      <td>(Pastry)</td>\n",
              "      <td>(Coffee)</td>\n",
              "      <td>0.086107</td>\n",
              "      <td>0.478394</td>\n",
              "      <td>0.047544</td>\n",
              "      <td>0.552147</td>\n",
              "      <td>1.154168</td>\n",
              "      <td>0.006351</td>\n",
              "      <td>1.164682</td>\n",
              "    </tr>\n",
              "    <tr>\n",
              "      <th>0</th>\n",
              "      <td>(Alfajores)</td>\n",
              "      <td>(Coffee)</td>\n",
              "      <td>0.036344</td>\n",
              "      <td>0.478394</td>\n",
              "      <td>0.019651</td>\n",
              "      <td>0.540698</td>\n",
              "      <td>1.130235</td>\n",
              "      <td>0.002264</td>\n",
              "      <td>1.135648</td>\n",
              "    </tr>\n",
              "    <tr>\n",
              "      <th>16</th>\n",
              "      <td>(Juice)</td>\n",
              "      <td>(Coffee)</td>\n",
              "      <td>0.038563</td>\n",
              "      <td>0.478394</td>\n",
              "      <td>0.020602</td>\n",
              "      <td>0.534247</td>\n",
              "      <td>1.116750</td>\n",
              "      <td>0.002154</td>\n",
              "      <td>1.119919</td>\n",
              "    </tr>\n",
              "    <tr>\n",
              "      <th>24</th>\n",
              "      <td>(Sandwich)</td>\n",
              "      <td>(Coffee)</td>\n",
              "      <td>0.071844</td>\n",
              "      <td>0.478394</td>\n",
              "      <td>0.038246</td>\n",
              "      <td>0.532353</td>\n",
              "      <td>1.112792</td>\n",
              "      <td>0.003877</td>\n",
              "      <td>1.115384</td>\n",
              "    </tr>\n",
              "    <tr>\n",
              "      <th>6</th>\n",
              "      <td>(Cake)</td>\n",
              "      <td>(Coffee)</td>\n",
              "      <td>0.103856</td>\n",
              "      <td>0.478394</td>\n",
              "      <td>0.054728</td>\n",
              "      <td>0.526958</td>\n",
              "      <td>1.101515</td>\n",
              "      <td>0.005044</td>\n",
              "      <td>1.102664</td>\n",
              "    </tr>\n",
              "    <tr>\n",
              "      <th>26</th>\n",
              "      <td>(Scone)</td>\n",
              "      <td>(Coffee)</td>\n",
              "      <td>0.034548</td>\n",
              "      <td>0.478394</td>\n",
              "      <td>0.018067</td>\n",
              "      <td>0.522936</td>\n",
              "      <td>1.093107</td>\n",
              "      <td>0.001539</td>\n",
              "      <td>1.093366</td>\n",
              "    </tr>\n",
              "    <tr>\n",
              "      <th>12</th>\n",
              "      <td>(Cookies)</td>\n",
              "      <td>(Coffee)</td>\n",
              "      <td>0.054411</td>\n",
              "      <td>0.478394</td>\n",
              "      <td>0.028209</td>\n",
              "      <td>0.518447</td>\n",
              "      <td>1.083723</td>\n",
              "      <td>0.002179</td>\n",
              "      <td>1.083174</td>\n",
              "    </tr>\n",
              "    <tr>\n",
              "      <th>14</th>\n",
              "      <td>(Hot chocolate)</td>\n",
              "      <td>(Coffee)</td>\n",
              "      <td>0.058320</td>\n",
              "      <td>0.478394</td>\n",
              "      <td>0.029583</td>\n",
              "      <td>0.507246</td>\n",
              "      <td>1.060311</td>\n",
              "      <td>0.001683</td>\n",
              "      <td>1.058553</td>\n",
              "    </tr>\n",
              "    <tr>\n",
              "      <th>4</th>\n",
              "      <td>(Brownie)</td>\n",
              "      <td>(Coffee)</td>\n",
              "      <td>0.040042</td>\n",
              "      <td>0.478394</td>\n",
              "      <td>0.019651</td>\n",
              "      <td>0.490765</td>\n",
              "      <td>1.025860</td>\n",
              "      <td>0.000495</td>\n",
              "      <td>1.024293</td>\n",
              "    </tr>\n",
              "    <tr>\n",
              "      <th>20</th>\n",
              "      <td>(Muffin)</td>\n",
              "      <td>(Coffee)</td>\n",
              "      <td>0.038457</td>\n",
              "      <td>0.478394</td>\n",
              "      <td>0.018806</td>\n",
              "      <td>0.489011</td>\n",
              "      <td>1.022193</td>\n",
              "      <td>0.000408</td>\n",
              "      <td>1.020777</td>\n",
              "    </tr>\n",
              "    <tr>\n",
              "      <th>2</th>\n",
              "      <td>(Pastry)</td>\n",
              "      <td>(Bread)</td>\n",
              "      <td>0.086107</td>\n",
              "      <td>0.327205</td>\n",
              "      <td>0.029160</td>\n",
              "      <td>0.338650</td>\n",
              "      <td>1.034977</td>\n",
              "      <td>0.000985</td>\n",
              "      <td>1.017305</td>\n",
              "    </tr>\n",
              "    <tr>\n",
              "      <th>10</th>\n",
              "      <td>(Cake)</td>\n",
              "      <td>(Tea)</td>\n",
              "      <td>0.103856</td>\n",
              "      <td>0.142631</td>\n",
              "      <td>0.023772</td>\n",
              "      <td>0.228891</td>\n",
              "      <td>1.604781</td>\n",
              "      <td>0.008959</td>\n",
              "      <td>1.111865</td>\n",
              "    </tr>\n",
              "    <tr>\n",
              "      <th>39</th>\n",
              "      <td>(Coffee, Tea)</td>\n",
              "      <td>(Cake)</td>\n",
              "      <td>0.049868</td>\n",
              "      <td>0.103856</td>\n",
              "      <td>0.010037</td>\n",
              "      <td>0.201271</td>\n",
              "      <td>1.937977</td>\n",
              "      <td>0.004858</td>\n",
              "      <td>1.121962</td>\n",
              "    </tr>\n",
              "    <tr>\n",
              "      <th>32</th>\n",
              "      <td>(Sandwich)</td>\n",
              "      <td>(Tea)</td>\n",
              "      <td>0.071844</td>\n",
              "      <td>0.142631</td>\n",
              "      <td>0.014369</td>\n",
              "      <td>0.200000</td>\n",
              "      <td>1.402222</td>\n",
              "      <td>0.004122</td>\n",
              "      <td>1.071712</td>\n",
              "    </tr>\n",
              "    <tr>\n",
              "      <th>8</th>\n",
              "      <td>(Hot chocolate)</td>\n",
              "      <td>(Cake)</td>\n",
              "      <td>0.058320</td>\n",
              "      <td>0.103856</td>\n",
              "      <td>0.011410</td>\n",
              "      <td>0.195652</td>\n",
              "      <td>1.883874</td>\n",
              "      <td>0.005354</td>\n",
              "      <td>1.114125</td>\n",
              "    </tr>\n",
              "    <tr>\n",
              "      <th>38</th>\n",
              "      <td>(Cake, Coffee)</td>\n",
              "      <td>(Tea)</td>\n",
              "      <td>0.054728</td>\n",
              "      <td>0.142631</td>\n",
              "      <td>0.010037</td>\n",
              "      <td>0.183398</td>\n",
              "      <td>1.285822</td>\n",
              "      <td>0.002231</td>\n",
              "      <td>1.049923</td>\n",
              "    </tr>\n",
              "    <tr>\n",
              "      <th>11</th>\n",
              "      <td>(Tea)</td>\n",
              "      <td>(Cake)</td>\n",
              "      <td>0.142631</td>\n",
              "      <td>0.103856</td>\n",
              "      <td>0.023772</td>\n",
              "      <td>0.166667</td>\n",
              "      <td>1.604781</td>\n",
              "      <td>0.008959</td>\n",
              "      <td>1.075372</td>\n",
              "    </tr>\n",
              "    <tr>\n",
              "      <th>37</th>\n",
              "      <td>(Pastry)</td>\n",
              "      <td>(Bread, Coffee)</td>\n",
              "      <td>0.086107</td>\n",
              "      <td>0.090016</td>\n",
              "      <td>0.011199</td>\n",
              "      <td>0.130061</td>\n",
              "      <td>1.444872</td>\n",
              "      <td>0.003448</td>\n",
              "      <td>1.046033</td>\n",
              "    </tr>\n",
              "    <tr>\n",
              "      <th>36</th>\n",
              "      <td>(Bread, Coffee)</td>\n",
              "      <td>(Pastry)</td>\n",
              "      <td>0.090016</td>\n",
              "      <td>0.086107</td>\n",
              "      <td>0.011199</td>\n",
              "      <td>0.124413</td>\n",
              "      <td>1.444872</td>\n",
              "      <td>0.003448</td>\n",
              "      <td>1.043749</td>\n",
              "    </tr>\n",
              "    <tr>\n",
              "      <th>7</th>\n",
              "      <td>(Coffee)</td>\n",
              "      <td>(Cake)</td>\n",
              "      <td>0.478394</td>\n",
              "      <td>0.103856</td>\n",
              "      <td>0.054728</td>\n",
              "      <td>0.114399</td>\n",
              "      <td>1.101515</td>\n",
              "      <td>0.005044</td>\n",
              "      <td>1.011905</td>\n",
              "    </tr>\n",
              "    <tr>\n",
              "      <th>34</th>\n",
              "      <td>(Bread, Coffee)</td>\n",
              "      <td>(Cake)</td>\n",
              "      <td>0.090016</td>\n",
              "      <td>0.103856</td>\n",
              "      <td>0.010037</td>\n",
              "      <td>0.111502</td>\n",
              "      <td>1.073621</td>\n",
              "      <td>0.000688</td>\n",
              "      <td>1.008606</td>\n",
              "    </tr>\n",
              "    <tr>\n",
              "      <th>9</th>\n",
              "      <td>(Cake)</td>\n",
              "      <td>(Hot chocolate)</td>\n",
              "      <td>0.103856</td>\n",
              "      <td>0.058320</td>\n",
              "      <td>0.011410</td>\n",
              "      <td>0.109868</td>\n",
              "      <td>1.883874</td>\n",
              "      <td>0.005354</td>\n",
              "      <td>1.057910</td>\n",
              "    </tr>\n",
              "    <tr>\n",
              "      <th>33</th>\n",
              "      <td>(Tea)</td>\n",
              "      <td>(Sandwich)</td>\n",
              "      <td>0.142631</td>\n",
              "      <td>0.071844</td>\n",
              "      <td>0.014369</td>\n",
              "      <td>0.100741</td>\n",
              "      <td>1.402222</td>\n",
              "      <td>0.004122</td>\n",
              "      <td>1.032134</td>\n",
              "    </tr>\n",
              "    <tr>\n",
              "      <th>23</th>\n",
              "      <td>(Coffee)</td>\n",
              "      <td>(Pastry)</td>\n",
              "      <td>0.478394</td>\n",
              "      <td>0.086107</td>\n",
              "      <td>0.047544</td>\n",
              "      <td>0.099382</td>\n",
              "      <td>1.154168</td>\n",
              "      <td>0.006351</td>\n",
              "      <td>1.014740</td>\n",
              "    </tr>\n",
              "    <tr>\n",
              "      <th>35</th>\n",
              "      <td>(Cake)</td>\n",
              "      <td>(Bread, Coffee)</td>\n",
              "      <td>0.103856</td>\n",
              "      <td>0.090016</td>\n",
              "      <td>0.010037</td>\n",
              "      <td>0.096643</td>\n",
              "      <td>1.073621</td>\n",
              "      <td>0.000688</td>\n",
              "      <td>1.007336</td>\n",
              "    </tr>\n",
              "    <tr>\n",
              "      <th>40</th>\n",
              "      <td>(Cake)</td>\n",
              "      <td>(Coffee, Tea)</td>\n",
              "      <td>0.103856</td>\n",
              "      <td>0.049868</td>\n",
              "      <td>0.010037</td>\n",
              "      <td>0.096643</td>\n",
              "      <td>1.937977</td>\n",
              "      <td>0.004858</td>\n",
              "      <td>1.051779</td>\n",
              "    </tr>\n",
              "    <tr>\n",
              "      <th>3</th>\n",
              "      <td>(Bread)</td>\n",
              "      <td>(Pastry)</td>\n",
              "      <td>0.327205</td>\n",
              "      <td>0.086107</td>\n",
              "      <td>0.029160</td>\n",
              "      <td>0.089119</td>\n",
              "      <td>1.034977</td>\n",
              "      <td>0.000985</td>\n",
              "      <td>1.003306</td>\n",
              "    </tr>\n",
              "    <tr>\n",
              "      <th>25</th>\n",
              "      <td>(Coffee)</td>\n",
              "      <td>(Sandwich)</td>\n",
              "      <td>0.478394</td>\n",
              "      <td>0.071844</td>\n",
              "      <td>0.038246</td>\n",
              "      <td>0.079947</td>\n",
              "      <td>1.112792</td>\n",
              "      <td>0.003877</td>\n",
              "      <td>1.008807</td>\n",
              "    </tr>\n",
              "    <tr>\n",
              "      <th>19</th>\n",
              "      <td>(Coffee)</td>\n",
              "      <td>(Medialuna)</td>\n",
              "      <td>0.478394</td>\n",
              "      <td>0.061807</td>\n",
              "      <td>0.035182</td>\n",
              "      <td>0.073542</td>\n",
              "      <td>1.189878</td>\n",
              "      <td>0.005614</td>\n",
              "      <td>1.012667</td>\n",
              "    </tr>\n",
              "    <tr>\n",
              "      <th>41</th>\n",
              "      <td>(Tea)</td>\n",
              "      <td>(Cake, Coffee)</td>\n",
              "      <td>0.142631</td>\n",
              "      <td>0.054728</td>\n",
              "      <td>0.010037</td>\n",
              "      <td>0.070370</td>\n",
              "      <td>1.285822</td>\n",
              "      <td>0.002231</td>\n",
              "      <td>1.016827</td>\n",
              "    </tr>\n",
              "    <tr>\n",
              "      <th>15</th>\n",
              "      <td>(Coffee)</td>\n",
              "      <td>(Hot chocolate)</td>\n",
              "      <td>0.478394</td>\n",
              "      <td>0.058320</td>\n",
              "      <td>0.029583</td>\n",
              "      <td>0.061837</td>\n",
              "      <td>1.060311</td>\n",
              "      <td>0.001683</td>\n",
              "      <td>1.003749</td>\n",
              "    </tr>\n",
              "    <tr>\n",
              "      <th>13</th>\n",
              "      <td>(Coffee)</td>\n",
              "      <td>(Cookies)</td>\n",
              "      <td>0.478394</td>\n",
              "      <td>0.054411</td>\n",
              "      <td>0.028209</td>\n",
              "      <td>0.058966</td>\n",
              "      <td>1.083723</td>\n",
              "      <td>0.002179</td>\n",
              "      <td>1.004841</td>\n",
              "    </tr>\n",
              "    <tr>\n",
              "      <th>31</th>\n",
              "      <td>(Coffee)</td>\n",
              "      <td>(Toast)</td>\n",
              "      <td>0.478394</td>\n",
              "      <td>0.033597</td>\n",
              "      <td>0.023666</td>\n",
              "      <td>0.049470</td>\n",
              "      <td>1.472431</td>\n",
              "      <td>0.007593</td>\n",
              "      <td>1.016699</td>\n",
              "    </tr>\n",
              "    <tr>\n",
              "      <th>17</th>\n",
              "      <td>(Coffee)</td>\n",
              "      <td>(Juice)</td>\n",
              "      <td>0.478394</td>\n",
              "      <td>0.038563</td>\n",
              "      <td>0.020602</td>\n",
              "      <td>0.043065</td>\n",
              "      <td>1.116750</td>\n",
              "      <td>0.002154</td>\n",
              "      <td>1.004705</td>\n",
              "    </tr>\n",
              "    <tr>\n",
              "      <th>1</th>\n",
              "      <td>(Coffee)</td>\n",
              "      <td>(Alfajores)</td>\n",
              "      <td>0.478394</td>\n",
              "      <td>0.036344</td>\n",
              "      <td>0.019651</td>\n",
              "      <td>0.041078</td>\n",
              "      <td>1.130235</td>\n",
              "      <td>0.002264</td>\n",
              "      <td>1.004936</td>\n",
              "    </tr>\n",
              "    <tr>\n",
              "      <th>5</th>\n",
              "      <td>(Coffee)</td>\n",
              "      <td>(Brownie)</td>\n",
              "      <td>0.478394</td>\n",
              "      <td>0.040042</td>\n",
              "      <td>0.019651</td>\n",
              "      <td>0.041078</td>\n",
              "      <td>1.025860</td>\n",
              "      <td>0.000495</td>\n",
              "      <td>1.001080</td>\n",
              "    </tr>\n",
              "    <tr>\n",
              "      <th>21</th>\n",
              "      <td>(Coffee)</td>\n",
              "      <td>(Muffin)</td>\n",
              "      <td>0.478394</td>\n",
              "      <td>0.038457</td>\n",
              "      <td>0.018806</td>\n",
              "      <td>0.039311</td>\n",
              "      <td>1.022193</td>\n",
              "      <td>0.000408</td>\n",
              "      <td>1.000888</td>\n",
              "    </tr>\n",
              "    <tr>\n",
              "      <th>27</th>\n",
              "      <td>(Coffee)</td>\n",
              "      <td>(Scone)</td>\n",
              "      <td>0.478394</td>\n",
              "      <td>0.034548</td>\n",
              "      <td>0.018067</td>\n",
              "      <td>0.037765</td>\n",
              "      <td>1.093107</td>\n",
              "      <td>0.001539</td>\n",
              "      <td>1.003343</td>\n",
              "    </tr>\n",
              "    <tr>\n",
              "      <th>29</th>\n",
              "      <td>(Coffee)</td>\n",
              "      <td>(Spanish Brunch)</td>\n",
              "      <td>0.478394</td>\n",
              "      <td>0.018172</td>\n",
              "      <td>0.010882</td>\n",
              "      <td>0.022747</td>\n",
              "      <td>1.251766</td>\n",
              "      <td>0.002189</td>\n",
              "      <td>1.004682</td>\n",
              "    </tr>\n",
              "  </tbody>\n",
              "</table>\n",
              "</div>"
            ],
            "text/plain": [
              "         antecedents       consequents  ...  leverage  conviction\n",
              "30           (Toast)          (Coffee)  ...  0.007593    1.764582\n",
              "28  (Spanish Brunch)          (Coffee)  ...  0.002189    1.300235\n",
              "18       (Medialuna)          (Coffee)  ...  0.005614    1.210871\n",
              "22          (Pastry)          (Coffee)  ...  0.006351    1.164682\n",
              "0        (Alfajores)          (Coffee)  ...  0.002264    1.135648\n",
              "16           (Juice)          (Coffee)  ...  0.002154    1.119919\n",
              "24        (Sandwich)          (Coffee)  ...  0.003877    1.115384\n",
              "6             (Cake)          (Coffee)  ...  0.005044    1.102664\n",
              "26           (Scone)          (Coffee)  ...  0.001539    1.093366\n",
              "12         (Cookies)          (Coffee)  ...  0.002179    1.083174\n",
              "14   (Hot chocolate)          (Coffee)  ...  0.001683    1.058553\n",
              "4          (Brownie)          (Coffee)  ...  0.000495    1.024293\n",
              "20          (Muffin)          (Coffee)  ...  0.000408    1.020777\n",
              "2           (Pastry)           (Bread)  ...  0.000985    1.017305\n",
              "10            (Cake)             (Tea)  ...  0.008959    1.111865\n",
              "39     (Coffee, Tea)            (Cake)  ...  0.004858    1.121962\n",
              "32        (Sandwich)             (Tea)  ...  0.004122    1.071712\n",
              "8    (Hot chocolate)            (Cake)  ...  0.005354    1.114125\n",
              "38    (Cake, Coffee)             (Tea)  ...  0.002231    1.049923\n",
              "11             (Tea)            (Cake)  ...  0.008959    1.075372\n",
              "37          (Pastry)   (Bread, Coffee)  ...  0.003448    1.046033\n",
              "36   (Bread, Coffee)          (Pastry)  ...  0.003448    1.043749\n",
              "7           (Coffee)            (Cake)  ...  0.005044    1.011905\n",
              "34   (Bread, Coffee)            (Cake)  ...  0.000688    1.008606\n",
              "9             (Cake)   (Hot chocolate)  ...  0.005354    1.057910\n",
              "33             (Tea)        (Sandwich)  ...  0.004122    1.032134\n",
              "23          (Coffee)          (Pastry)  ...  0.006351    1.014740\n",
              "35            (Cake)   (Bread, Coffee)  ...  0.000688    1.007336\n",
              "40            (Cake)     (Coffee, Tea)  ...  0.004858    1.051779\n",
              "3            (Bread)          (Pastry)  ...  0.000985    1.003306\n",
              "25          (Coffee)        (Sandwich)  ...  0.003877    1.008807\n",
              "19          (Coffee)       (Medialuna)  ...  0.005614    1.012667\n",
              "41             (Tea)    (Cake, Coffee)  ...  0.002231    1.016827\n",
              "15          (Coffee)   (Hot chocolate)  ...  0.001683    1.003749\n",
              "13          (Coffee)         (Cookies)  ...  0.002179    1.004841\n",
              "31          (Coffee)           (Toast)  ...  0.007593    1.016699\n",
              "17          (Coffee)           (Juice)  ...  0.002154    1.004705\n",
              "1           (Coffee)       (Alfajores)  ...  0.002264    1.004936\n",
              "5           (Coffee)         (Brownie)  ...  0.000495    1.001080\n",
              "21          (Coffee)          (Muffin)  ...  0.000408    1.000888\n",
              "27          (Coffee)           (Scone)  ...  0.001539    1.003343\n",
              "29          (Coffee)  (Spanish Brunch)  ...  0.002189    1.004682\n",
              "\n",
              "[42 rows x 9 columns]"
            ]
          },
          "metadata": {
            "tags": []
          },
          "execution_count": 35
        }
      ]
    },
    {
      "cell_type": "markdown",
      "metadata": {
        "_uuid": "9f270f60f47fc8d2170aa3b438966dbb7791963a",
        "id": "FAkoPhyZvFpQ",
        "colab_type": "text"
      },
      "source": [
        "# Conclusiones"
      ]
    },
    {
      "cell_type": "markdown",
      "metadata": {
        "_uuid": "915b55c3cf0be0fd6c8d45b8c7914ef5200726e4",
        "id": "JOn5-RuevFpQ",
        "colab_type": "text"
      },
      "source": [
        "¡Muy genial! Aquí vemos claramente resultados significativos de nuestro análisis que se muestra arriba, donde cuanto mayor es el valor de elevación, mayor es la correlación entre los elementos. Los datos muestran claramente que el café es un consecuente popular, lo cual tiene sentido porque es una panadería. Además del café, veamos las correlaciones de elementos más interesantes (formato: antecedente (s) -> consecuente):\n",
        "\n",
        "- Pastry (Pasteleros) -> Pan\n",
        "- Pastel -> Té\n",
        "- (Café + Té) -> Pastel\n",
        "- Sandwhich -> Té\n",
        "- Chocolate caliente -> Pastel\n",
        "    "
      ]
    },
    {
      "cell_type": "markdown",
      "metadata": {
        "_uuid": "3cc55f3c0777fbd34a21b8ef4ddb59b4add4d6cd",
        "id": "9KIFwPRbvFpQ",
        "colab_type": "text"
      },
      "source": [
        "**Entonces, ¿cómo es este conocimiento útil para la panadería?**\n",
        "\n",
        "Las empresas siempre buscan optimizar su configuración y aumentar sus ventas. Las panaderías no son diferentes, y este tipo de análisis también podría haberse realizado para cualquier tipo de tienda minorista o mercado. Debido a que ahora conocemos la correlación entre los artículos y el interés común de los clientes, la empresa puede tomar decisiones basadas en estos hallazgos. \n",
        "\n",
        "Por ejemplo, esta panadería podría querer colocar su pan recién horneado cerca de sus pasteles, ya que los clientes que compran pasteles también parecen sentirse atraídos por el pan. \n",
        "\n",
        "Además de la colocación del producto, la panadería también podría estar interesada en tener una promoción de un artículo gratis, dadas las grandes posibilidades de que se venda otro artículo como resultado (por ejemplo, si regalaran algunos de sus tostadas especiales gratuitas) día, podría no solo atraer nuevos clientes frecuentes, sino que también hay una muy buena posibilidad de que el cliente aún gaste dinero en café)."
      ]
    }
  ]
}