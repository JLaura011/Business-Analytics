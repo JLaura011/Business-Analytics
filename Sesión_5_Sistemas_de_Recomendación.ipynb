{
  "nbformat": 4,
  "nbformat_minor": 0,
  "metadata": {
    "kernelspec": {
      "display_name": "Python 3",
      "language": "python",
      "name": "python3"
    },
    "language_info": {
      "codemirror_mode": {
        "name": "ipython",
        "version": 3
      },
      "file_extension": ".py",
      "mimetype": "text/x-python",
      "name": "python",
      "nbconvert_exporter": "python",
      "pygments_lexer": "ipython3",
      "version": "3.6.3"
    },
    "colab": {
      "name": "Sesión 5 - Sistemas de Recomendación.ipynb",
      "provenance": [],
      "collapsed_sections": [],
      "include_colab_link": true
    }
  },
  "cells": [
    {
      "cell_type": "markdown",
      "metadata": {
        "id": "view-in-github",
        "colab_type": "text"
      },
      "source": [
        "<a href=\"https://colab.research.google.com/github/JLaura011/Business-Analytics/blob/master/Sesi%C3%B3n_5_Sistemas_de_Recomendaci%C3%B3n.ipynb\" target=\"_parent\"><img src=\"https://colab.research.google.com/assets/colab-badge.svg\" alt=\"Open In Colab\"/></a>"
      ]
    },
    {
      "cell_type": "markdown",
      "metadata": {
        "id": "Sx05lhOSkcZb",
        "colab_type": "text"
      },
      "source": [
        "#**Sesión 5: Sistemas de Recomendación**\n",
        "\n",
        "\n",
        "\n",
        "<img src=\"https://www.grupolambda.com.pe/wp-content/uploads/2020/03/home-logo.png\" alt=\"drawing\" width=\"300\"/>\n",
        "<br>\n",
        "\n",
        " ##### Docente: Jorge Brian Alarcon Flores "
      ]
    },
    {
      "cell_type": "markdown",
      "metadata": {
        "id": "M2WpqHOEjzrY",
        "colab_type": "text"
      },
      "source": [
        "##**Caso: Datos de evaluaciones y etiquetas de películas**"
      ]
    },
    {
      "cell_type": "code",
      "metadata": {
        "id": "xo1VeIHwlN41",
        "colab_type": "code",
        "colab": {
          "base_uri": "https://localhost:8080/",
          "height": 124
        },
        "outputId": "3175b501-933d-40db-878e-bbb226a27e5d"
      },
      "source": [
        "!pip install surprise"
      ],
      "execution_count": null,
      "outputs": [
        {
          "output_type": "stream",
          "text": [
            "Requirement already satisfied: surprise in /usr/local/lib/python3.6/dist-packages (0.1)\n",
            "Requirement already satisfied: scikit-surprise in /usr/local/lib/python3.6/dist-packages (from surprise) (1.1.0)\n",
            "Requirement already satisfied: joblib>=0.11 in /usr/local/lib/python3.6/dist-packages (from scikit-surprise->surprise) (0.15.1)\n",
            "Requirement already satisfied: numpy>=1.11.2 in /usr/local/lib/python3.6/dist-packages (from scikit-surprise->surprise) (1.18.4)\n",
            "Requirement already satisfied: scipy>=1.0.0 in /usr/local/lib/python3.6/dist-packages (from scikit-surprise->surprise) (1.4.1)\n",
            "Requirement already satisfied: six>=1.10.0 in /usr/local/lib/python3.6/dist-packages (from scikit-surprise->surprise) (1.12.0)\n"
          ],
          "name": "stdout"
        }
      ]
    },
    {
      "cell_type": "code",
      "metadata": {
        "id": "5tWQ1Tg9jzrZ",
        "colab_type": "code",
        "colab": {
          "base_uri": "https://localhost:8080/",
          "height": 52
        },
        "outputId": "0e52eae0-bbc3-4821-f893-fc90a11d5d37"
      },
      "source": [
        "#importamos librerias\n",
        "%matplotlib inline\n",
        "import pandas as pd\n",
        "import numpy as np\n",
        "import matplotlib.pyplot as plt\n",
        "import seaborn as sns\n",
        "pd.options.display.max_columns = None\n",
        "\n",
        "from scipy import stats\n",
        "from ast import literal_eval\n",
        "from sklearn.feature_extraction.text import TfidfVectorizer, CountVectorizer\n",
        "from sklearn.metrics.pairwise import linear_kernel, cosine_similarity\n",
        "from nltk.stem.snowball import SnowballStemmer\n",
        "from nltk.stem.wordnet import WordNetLemmatizer\n",
        "from nltk.corpus import wordnet\n",
        "from surprise import Reader, Dataset, SVD\n",
        "from surprise.model_selection import cross_validate\n",
        "\n",
        "import warnings; warnings.simplefilter('ignore')"
      ],
      "execution_count": null,
      "outputs": [
        {
          "output_type": "stream",
          "text": [
            "/usr/local/lib/python3.6/dist-packages/statsmodels/tools/_testing.py:19: FutureWarning: pandas.util.testing is deprecated. Use the functions in the public API at pandas.testing instead.\n",
            "  import pandas.util.testing as tm\n"
          ],
          "name": "stderr"
        }
      ]
    },
    {
      "cell_type": "markdown",
      "metadata": {
        "id": "MWUCC42kjzsN",
        "colab_type": "text"
      },
      "source": [
        "## **Sistema de recomendación basado en contenido**"
      ]
    },
    {
      "cell_type": "markdown",
      "metadata": {
        "id": "x9sXEA79jzsO",
        "colab_type": "text"
      },
      "source": [
        "**Limitación del modelo de popularidad** <br>\n",
        "Si lo haces a nivel cliente, puede funcionar, pero si lo haces de manera general, dará la misma recomendación a todos, independientemente del interés personal del usuario. <br>\n",
        "\n",
        "_Por ejemplo: _ Si una persona que ama las películas románticas mirara las 15 películas románticas principales, y probablemente no le gustaría la mayoría de las películas mencionadas. Entonces, debía ir un paso más allá y mirar las listas de películas por género, todavía no recibiría las recomendaciones interesantes. Digamos que ama * Dilwale Dulhania Le Jayenge *, * Mi nombre es Khan * y * Kabhi Khushi Kabhi Gham *. Probablemente podemos suponer que ama al actor Shahrukh Khan y al director Karan Johar. Incluso si tuviera que acceder a la lista de romance más importante, no los encontraría en la lista.\n",
        "\n",
        "Por lo tanto, construyamos un modelo que calcule la similitud entre películas en función de ciertas métricas y sugiera películas que sean más similares a una película en particular que le haya gustado a un usuario. Para eso tenemos que considerar los metadatos (o contenido), por lo tanto, también se conoce como **Filtrado basado en contenido**.\n",
        "\n",
        "Dos recomendaciones basadas en contenido se implementan en función de diferentes contenidos:\n",
        "1. Basado en la descripción (contenido: resúmenes de películas y lemas)\n",
        "2. Basado en metadatos (contenido: reparto de películas, equipo, palabras clave y género)\n",
        "\n",
        "**Nota**: se utiliza un pequeño conjunto de datos de películas debido a la limitación de la potencia informática disponible para mí."
      ]
    },
    {
      "cell_type": "code",
      "metadata": {
        "id": "cB_rMTZGo-42",
        "colab_type": "code",
        "colab": {
          "base_uri": "https://localhost:8080/",
          "height": 653
        },
        "outputId": "edd7ebb8-e849-413d-afde-29a8f0a186ce"
      },
      "source": [
        "#Importamos la data\n",
        "url = 'https://raw.githubusercontent.com/JBrianAlicorp/Business-Analytics/master/movies_metadata.csv'\n",
        "m_df = pd.read_csv(url,encoding='latin1')\n",
        "m_df.head()"
      ],
      "execution_count": null,
      "outputs": [
        {
          "output_type": "execute_result",
          "data": {
            "text/html": [
              "<div>\n",
              "<style scoped>\n",
              "    .dataframe tbody tr th:only-of-type {\n",
              "        vertical-align: middle;\n",
              "    }\n",
              "\n",
              "    .dataframe tbody tr th {\n",
              "        vertical-align: top;\n",
              "    }\n",
              "\n",
              "    .dataframe thead th {\n",
              "        text-align: right;\n",
              "    }\n",
              "</style>\n",
              "<table border=\"1\" class=\"dataframe\">\n",
              "  <thead>\n",
              "    <tr style=\"text-align: right;\">\n",
              "      <th></th>\n",
              "      <th>adult</th>\n",
              "      <th>belongs_to_collection</th>\n",
              "      <th>budget</th>\n",
              "      <th>genres</th>\n",
              "      <th>homepage</th>\n",
              "      <th>id</th>\n",
              "      <th>imdb_id</th>\n",
              "      <th>original_language</th>\n",
              "      <th>original_title</th>\n",
              "      <th>overview</th>\n",
              "      <th>popularity</th>\n",
              "      <th>poster_path</th>\n",
              "      <th>production_companies</th>\n",
              "      <th>production_countries</th>\n",
              "      <th>release_date</th>\n",
              "      <th>revenue</th>\n",
              "      <th>runtime</th>\n",
              "      <th>spoken_languages</th>\n",
              "      <th>status</th>\n",
              "      <th>tagline</th>\n",
              "      <th>title</th>\n",
              "      <th>video</th>\n",
              "      <th>vote_average</th>\n",
              "      <th>vote_count</th>\n",
              "    </tr>\n",
              "  </thead>\n",
              "  <tbody>\n",
              "    <tr>\n",
              "      <th>0</th>\n",
              "      <td>False</td>\n",
              "      <td>{'id': 10194, 'name': 'Toy Story Collection', ...</td>\n",
              "      <td>30000000</td>\n",
              "      <td>[{'id': 16, 'name': 'Animation'}, {'id': 35, '...</td>\n",
              "      <td>http://toystory.disney.com/toy-story</td>\n",
              "      <td>862</td>\n",
              "      <td>tt0114709</td>\n",
              "      <td>en</td>\n",
              "      <td>Toy Story</td>\n",
              "      <td>Led by Woody, Andy's toys live happily in his ...</td>\n",
              "      <td>21.946943</td>\n",
              "      <td>/rhIRbceoE9lR4veEXuwCC2wARtG.jpg</td>\n",
              "      <td>[{'name': 'Pixar Animation Studios', 'id': 3}]</td>\n",
              "      <td>[{'iso_3166_1': 'US', 'name': 'United States o...</td>\n",
              "      <td>30/10/1995</td>\n",
              "      <td>373554033.0</td>\n",
              "      <td>81.0</td>\n",
              "      <td>[{'iso_639_1': 'en', 'name': 'English'}]</td>\n",
              "      <td>Released</td>\n",
              "      <td>NaN</td>\n",
              "      <td>Toy Story</td>\n",
              "      <td>False</td>\n",
              "      <td>7.7</td>\n",
              "      <td>5415.0</td>\n",
              "    </tr>\n",
              "    <tr>\n",
              "      <th>1</th>\n",
              "      <td>False</td>\n",
              "      <td>NaN</td>\n",
              "      <td>65000000</td>\n",
              "      <td>[{'id': 12, 'name': 'Adventure'}, {'id': 14, '...</td>\n",
              "      <td>NaN</td>\n",
              "      <td>8844</td>\n",
              "      <td>tt0113497</td>\n",
              "      <td>en</td>\n",
              "      <td>Jumanji</td>\n",
              "      <td>When siblings Judy and Peter discover an encha...</td>\n",
              "      <td>17.015539</td>\n",
              "      <td>/vzmL6fP7aPKNKPRTFnZmiUfciyV.jpg</td>\n",
              "      <td>[{'name': 'TriStar Pictures', 'id': 559}, {'na...</td>\n",
              "      <td>[{'iso_3166_1': 'US', 'name': 'United States o...</td>\n",
              "      <td>15/12/1995</td>\n",
              "      <td>262797249.0</td>\n",
              "      <td>104.0</td>\n",
              "      <td>[{'iso_639_1': 'en', 'name': 'English'}, {'iso...</td>\n",
              "      <td>Released</td>\n",
              "      <td>Roll the dice and unleash the excitement!</td>\n",
              "      <td>Jumanji</td>\n",
              "      <td>False</td>\n",
              "      <td>6.9</td>\n",
              "      <td>2413.0</td>\n",
              "    </tr>\n",
              "    <tr>\n",
              "      <th>2</th>\n",
              "      <td>False</td>\n",
              "      <td>{'id': 119050, 'name': 'Grumpy Old Men Collect...</td>\n",
              "      <td>0</td>\n",
              "      <td>[{'id': 10749, 'name': 'Romance'}, {'id': 35, ...</td>\n",
              "      <td>NaN</td>\n",
              "      <td>15602</td>\n",
              "      <td>tt0113228</td>\n",
              "      <td>en</td>\n",
              "      <td>Grumpier Old Men</td>\n",
              "      <td>A family wedding reignites the ancient feud be...</td>\n",
              "      <td>11.712900</td>\n",
              "      <td>/6ksm1sjKMFLbO7UY2i6G1ju9SML.jpg</td>\n",
              "      <td>[{'name': 'Warner Bros.', 'id': 6194}, {'name'...</td>\n",
              "      <td>[{'iso_3166_1': 'US', 'name': 'United States o...</td>\n",
              "      <td>22/12/1995</td>\n",
              "      <td>0.0</td>\n",
              "      <td>101.0</td>\n",
              "      <td>[{'iso_639_1': 'en', 'name': 'English'}]</td>\n",
              "      <td>Released</td>\n",
              "      <td>Still Yelling. Still Fighting. Still Ready for...</td>\n",
              "      <td>Grumpier Old Men</td>\n",
              "      <td>False</td>\n",
              "      <td>6.5</td>\n",
              "      <td>92.0</td>\n",
              "    </tr>\n",
              "    <tr>\n",
              "      <th>3</th>\n",
              "      <td>False</td>\n",
              "      <td>NaN</td>\n",
              "      <td>16000000</td>\n",
              "      <td>[{'id': 35, 'name': 'Comedy'}, {'id': 18, 'nam...</td>\n",
              "      <td>NaN</td>\n",
              "      <td>31357</td>\n",
              "      <td>tt0114885</td>\n",
              "      <td>en</td>\n",
              "      <td>Waiting to Exhale</td>\n",
              "      <td>Cheated on, mistreated and stepped on, the wom...</td>\n",
              "      <td>3.859495</td>\n",
              "      <td>/16XOMpEaLWkrcPqSQqhTmeJuqQl.jpg</td>\n",
              "      <td>[{'name': 'Twentieth Century Fox Film Corporat...</td>\n",
              "      <td>[{'iso_3166_1': 'US', 'name': 'United States o...</td>\n",
              "      <td>22/12/1995</td>\n",
              "      <td>81452156.0</td>\n",
              "      <td>127.0</td>\n",
              "      <td>[{'iso_639_1': 'en', 'name': 'English'}]</td>\n",
              "      <td>Released</td>\n",
              "      <td>Friends are the people who let you be yourself...</td>\n",
              "      <td>Waiting to Exhale</td>\n",
              "      <td>False</td>\n",
              "      <td>6.1</td>\n",
              "      <td>34.0</td>\n",
              "    </tr>\n",
              "    <tr>\n",
              "      <th>4</th>\n",
              "      <td>False</td>\n",
              "      <td>{'id': 96871, 'name': 'Father of the Bride Col...</td>\n",
              "      <td>0</td>\n",
              "      <td>[{'id': 35, 'name': 'Comedy'}]</td>\n",
              "      <td>NaN</td>\n",
              "      <td>11862</td>\n",
              "      <td>tt0113041</td>\n",
              "      <td>en</td>\n",
              "      <td>Father of the Bride Part II</td>\n",
              "      <td>Just when George Banks has recovered from his ...</td>\n",
              "      <td>8.387519</td>\n",
              "      <td>/e64sOI48hQXyru7naBFyssKFxVd.jpg</td>\n",
              "      <td>[{'name': 'Sandollar Productions', 'id': 5842}...</td>\n",
              "      <td>[{'iso_3166_1': 'US', 'name': 'United States o...</td>\n",
              "      <td>10/02/1995</td>\n",
              "      <td>76578911.0</td>\n",
              "      <td>106.0</td>\n",
              "      <td>[{'iso_639_1': 'en', 'name': 'English'}]</td>\n",
              "      <td>Released</td>\n",
              "      <td>Just When His World Is Back To Normal... He's ...</td>\n",
              "      <td>Father of the Bride Part II</td>\n",
              "      <td>False</td>\n",
              "      <td>5.7</td>\n",
              "      <td>173.0</td>\n",
              "    </tr>\n",
              "  </tbody>\n",
              "</table>\n",
              "</div>"
            ],
            "text/plain": [
              "   adult                              belongs_to_collection    budget  \\\n",
              "0  False  {'id': 10194, 'name': 'Toy Story Collection', ...  30000000   \n",
              "1  False                                                NaN  65000000   \n",
              "2  False  {'id': 119050, 'name': 'Grumpy Old Men Collect...         0   \n",
              "3  False                                                NaN  16000000   \n",
              "4  False  {'id': 96871, 'name': 'Father of the Bride Col...         0   \n",
              "\n",
              "                                              genres  \\\n",
              "0  [{'id': 16, 'name': 'Animation'}, {'id': 35, '...   \n",
              "1  [{'id': 12, 'name': 'Adventure'}, {'id': 14, '...   \n",
              "2  [{'id': 10749, 'name': 'Romance'}, {'id': 35, ...   \n",
              "3  [{'id': 35, 'name': 'Comedy'}, {'id': 18, 'nam...   \n",
              "4                     [{'id': 35, 'name': 'Comedy'}]   \n",
              "\n",
              "                               homepage     id    imdb_id original_language  \\\n",
              "0  http://toystory.disney.com/toy-story    862  tt0114709                en   \n",
              "1                                   NaN   8844  tt0113497                en   \n",
              "2                                   NaN  15602  tt0113228                en   \n",
              "3                                   NaN  31357  tt0114885                en   \n",
              "4                                   NaN  11862  tt0113041                en   \n",
              "\n",
              "                original_title  \\\n",
              "0                    Toy Story   \n",
              "1                      Jumanji   \n",
              "2             Grumpier Old Men   \n",
              "3            Waiting to Exhale   \n",
              "4  Father of the Bride Part II   \n",
              "\n",
              "                                            overview  popularity  \\\n",
              "0  Led by Woody, Andy's toys live happily in his ...   21.946943   \n",
              "1  When siblings Judy and Peter discover an encha...   17.015539   \n",
              "2  A family wedding reignites the ancient feud be...   11.712900   \n",
              "3  Cheated on, mistreated and stepped on, the wom...    3.859495   \n",
              "4  Just when George Banks has recovered from his ...    8.387519   \n",
              "\n",
              "                        poster_path  \\\n",
              "0  /rhIRbceoE9lR4veEXuwCC2wARtG.jpg   \n",
              "1  /vzmL6fP7aPKNKPRTFnZmiUfciyV.jpg   \n",
              "2  /6ksm1sjKMFLbO7UY2i6G1ju9SML.jpg   \n",
              "3  /16XOMpEaLWkrcPqSQqhTmeJuqQl.jpg   \n",
              "4  /e64sOI48hQXyru7naBFyssKFxVd.jpg   \n",
              "\n",
              "                                production_companies  \\\n",
              "0     [{'name': 'Pixar Animation Studios', 'id': 3}]   \n",
              "1  [{'name': 'TriStar Pictures', 'id': 559}, {'na...   \n",
              "2  [{'name': 'Warner Bros.', 'id': 6194}, {'name'...   \n",
              "3  [{'name': 'Twentieth Century Fox Film Corporat...   \n",
              "4  [{'name': 'Sandollar Productions', 'id': 5842}...   \n",
              "\n",
              "                                production_countries release_date  \\\n",
              "0  [{'iso_3166_1': 'US', 'name': 'United States o...   30/10/1995   \n",
              "1  [{'iso_3166_1': 'US', 'name': 'United States o...   15/12/1995   \n",
              "2  [{'iso_3166_1': 'US', 'name': 'United States o...   22/12/1995   \n",
              "3  [{'iso_3166_1': 'US', 'name': 'United States o...   22/12/1995   \n",
              "4  [{'iso_3166_1': 'US', 'name': 'United States o...   10/02/1995   \n",
              "\n",
              "       revenue  runtime                                   spoken_languages  \\\n",
              "0  373554033.0     81.0           [{'iso_639_1': 'en', 'name': 'English'}]   \n",
              "1  262797249.0    104.0  [{'iso_639_1': 'en', 'name': 'English'}, {'iso...   \n",
              "2          0.0    101.0           [{'iso_639_1': 'en', 'name': 'English'}]   \n",
              "3   81452156.0    127.0           [{'iso_639_1': 'en', 'name': 'English'}]   \n",
              "4   76578911.0    106.0           [{'iso_639_1': 'en', 'name': 'English'}]   \n",
              "\n",
              "     status                                            tagline  \\\n",
              "0  Released                                                NaN   \n",
              "1  Released          Roll the dice and unleash the excitement!   \n",
              "2  Released  Still Yelling. Still Fighting. Still Ready for...   \n",
              "3  Released  Friends are the people who let you be yourself...   \n",
              "4  Released  Just When His World Is Back To Normal... He's ...   \n",
              "\n",
              "                         title  video  vote_average  vote_count  \n",
              "0                    Toy Story  False           7.7      5415.0  \n",
              "1                      Jumanji  False           6.9      2413.0  \n",
              "2             Grumpier Old Men  False           6.5        92.0  \n",
              "3            Waiting to Exhale  False           6.1        34.0  \n",
              "4  Father of the Bride Part II  False           5.7       173.0  "
            ]
          },
          "metadata": {
            "tags": []
          },
          "execution_count": 3
        }
      ]
    },
    {
      "cell_type": "code",
      "metadata": {
        "id": "di7E5jAGp_m0",
        "colab_type": "code",
        "colab": {
          "base_uri": "https://localhost:8080/",
          "height": 194
        },
        "outputId": "29235cf7-00ff-4903-fad1-5a35b7025ec9"
      },
      "source": [
        "url = 'https://raw.githubusercontent.com/JBrianAlicorp/Business-Analytics/master/links_small.csv'\n",
        "small_mdf = pd.read_csv(url,encoding='latin1')\n",
        "small_mdf.head()"
      ],
      "execution_count": null,
      "outputs": [
        {
          "output_type": "execute_result",
          "data": {
            "text/html": [
              "<div>\n",
              "<style scoped>\n",
              "    .dataframe tbody tr th:only-of-type {\n",
              "        vertical-align: middle;\n",
              "    }\n",
              "\n",
              "    .dataframe tbody tr th {\n",
              "        vertical-align: top;\n",
              "    }\n",
              "\n",
              "    .dataframe thead th {\n",
              "        text-align: right;\n",
              "    }\n",
              "</style>\n",
              "<table border=\"1\" class=\"dataframe\">\n",
              "  <thead>\n",
              "    <tr style=\"text-align: right;\">\n",
              "      <th></th>\n",
              "      <th>movieId</th>\n",
              "      <th>imdbId</th>\n",
              "      <th>tmdbId</th>\n",
              "    </tr>\n",
              "  </thead>\n",
              "  <tbody>\n",
              "    <tr>\n",
              "      <th>0</th>\n",
              "      <td>1</td>\n",
              "      <td>114709</td>\n",
              "      <td>862.0</td>\n",
              "    </tr>\n",
              "    <tr>\n",
              "      <th>1</th>\n",
              "      <td>2</td>\n",
              "      <td>113497</td>\n",
              "      <td>8844.0</td>\n",
              "    </tr>\n",
              "    <tr>\n",
              "      <th>2</th>\n",
              "      <td>3</td>\n",
              "      <td>113228</td>\n",
              "      <td>15602.0</td>\n",
              "    </tr>\n",
              "    <tr>\n",
              "      <th>3</th>\n",
              "      <td>4</td>\n",
              "      <td>114885</td>\n",
              "      <td>31357.0</td>\n",
              "    </tr>\n",
              "    <tr>\n",
              "      <th>4</th>\n",
              "      <td>5</td>\n",
              "      <td>113041</td>\n",
              "      <td>11862.0</td>\n",
              "    </tr>\n",
              "  </tbody>\n",
              "</table>\n",
              "</div>"
            ],
            "text/plain": [
              "   movieId  imdbId   tmdbId\n",
              "0        1  114709    862.0\n",
              "1        2  113497   8844.0\n",
              "2        3  113228  15602.0\n",
              "3        4  114885  31357.0\n",
              "4        5  113041  11862.0"
            ]
          },
          "metadata": {
            "tags": []
          },
          "execution_count": 4
        }
      ]
    },
    {
      "cell_type": "code",
      "metadata": {
        "id": "GUC_ey9djzsP",
        "colab_type": "code",
        "colab": {}
      },
      "source": [
        "small_mdf = small_mdf[small_mdf['tmdbId'].notnull()]['tmdbId'].astype('int')"
      ],
      "execution_count": null,
      "outputs": []
    },
    {
      "cell_type": "markdown",
      "metadata": {
        "id": "S1jXKM07jzsR",
        "colab_type": "text"
      },
      "source": [
        "Antes de extraer un pequeño conjunto de datos, debemos asegurarnos de que la columna de ID de nuestro marco de datos principal esté limpia y sea de tipo entero. Para hacer esto, intentemos realizar una conversión entera de nuestros ID y, si se produce una excepción, reemplazaremos el ID con NaN. Luego procederemos a eliminar estas filas de nuestro marco de datos."
      ]
    },
    {
      "cell_type": "code",
      "metadata": {
        "id": "6hdxhSyPjzsU",
        "colab_type": "code",
        "colab": {}
      },
      "source": [
        "m_df=m_df.dropna()\n"
      ],
      "execution_count": null,
      "outputs": []
    },
    {
      "cell_type": "code",
      "metadata": {
        "id": "lLTnRDp0jzsW",
        "colab_type": "code",
        "colab": {
          "base_uri": "https://localhost:8080/",
          "height": 670
        },
        "outputId": "e226101b-9618-4392-e756-1169bceb03f0"
      },
      "source": [
        "m_df.head()"
      ],
      "execution_count": null,
      "outputs": [
        {
          "output_type": "execute_result",
          "data": {
            "text/html": [
              "<div>\n",
              "<style scoped>\n",
              "    .dataframe tbody tr th:only-of-type {\n",
              "        vertical-align: middle;\n",
              "    }\n",
              "\n",
              "    .dataframe tbody tr th {\n",
              "        vertical-align: top;\n",
              "    }\n",
              "\n",
              "    .dataframe thead th {\n",
              "        text-align: right;\n",
              "    }\n",
              "</style>\n",
              "<table border=\"1\" class=\"dataframe\">\n",
              "  <thead>\n",
              "    <tr style=\"text-align: right;\">\n",
              "      <th></th>\n",
              "      <th>adult</th>\n",
              "      <th>belongs_to_collection</th>\n",
              "      <th>budget</th>\n",
              "      <th>genres</th>\n",
              "      <th>homepage</th>\n",
              "      <th>id</th>\n",
              "      <th>imdb_id</th>\n",
              "      <th>original_language</th>\n",
              "      <th>original_title</th>\n",
              "      <th>overview</th>\n",
              "      <th>popularity</th>\n",
              "      <th>poster_path</th>\n",
              "      <th>production_companies</th>\n",
              "      <th>production_countries</th>\n",
              "      <th>release_date</th>\n",
              "      <th>revenue</th>\n",
              "      <th>runtime</th>\n",
              "      <th>spoken_languages</th>\n",
              "      <th>status</th>\n",
              "      <th>tagline</th>\n",
              "      <th>title</th>\n",
              "      <th>video</th>\n",
              "      <th>vote_average</th>\n",
              "      <th>vote_count</th>\n",
              "    </tr>\n",
              "  </thead>\n",
              "  <tbody>\n",
              "    <tr>\n",
              "      <th>9</th>\n",
              "      <td>False</td>\n",
              "      <td>{'id': 645, 'name': 'James Bond Collection', '...</td>\n",
              "      <td>58000000</td>\n",
              "      <td>[{'id': 12, 'name': 'Adventure'}, {'id': 28, '...</td>\n",
              "      <td>http://www.mgm.com/view/movie/757/Goldeneye/</td>\n",
              "      <td>710</td>\n",
              "      <td>tt0113189</td>\n",
              "      <td>en</td>\n",
              "      <td>GoldenEye</td>\n",
              "      <td>James Bond must unmask the mysterious head of ...</td>\n",
              "      <td>14.686036</td>\n",
              "      <td>/5c0ovjT41KnYIHYuF4AWsTe3sKh.jpg</td>\n",
              "      <td>[{'name': 'United Artists', 'id': 60}, {'name'...</td>\n",
              "      <td>[{'iso_3166_1': 'GB', 'name': 'United Kingdom'...</td>\n",
              "      <td>16/11/1995</td>\n",
              "      <td>352194034.0</td>\n",
              "      <td>130.0</td>\n",
              "      <td>[{'iso_639_1': 'en', 'name': 'English'}, {'iso...</td>\n",
              "      <td>Released</td>\n",
              "      <td>No limits. No fears. No substitutes.</td>\n",
              "      <td>GoldenEye</td>\n",
              "      <td>False</td>\n",
              "      <td>6.6</td>\n",
              "      <td>1194.0</td>\n",
              "    </tr>\n",
              "    <tr>\n",
              "      <th>68</th>\n",
              "      <td>False</td>\n",
              "      <td>{'id': 43563, 'name': 'Friday Collection', 'po...</td>\n",
              "      <td>3500000</td>\n",
              "      <td>[{'id': 35, 'name': 'Comedy'}]</td>\n",
              "      <td>http://www.newline.com/properties/friday.html</td>\n",
              "      <td>10634</td>\n",
              "      <td>tt0113118</td>\n",
              "      <td>en</td>\n",
              "      <td>Friday</td>\n",
              "      <td>Craig and Smokey are two guys in Los Angeles h...</td>\n",
              "      <td>14.569650</td>\n",
              "      <td>/kkoGT4bnK5oGiNbzGGcXzrXMSxn.jpg</td>\n",
              "      <td>[{'name': 'New Line Cinema', 'id': 12}]</td>\n",
              "      <td>[{'iso_3166_1': 'US', 'name': 'United States o...</td>\n",
              "      <td>26/04/1995</td>\n",
              "      <td>28215918.0</td>\n",
              "      <td>91.0</td>\n",
              "      <td>[{'iso_639_1': 'en', 'name': 'English'}]</td>\n",
              "      <td>Released</td>\n",
              "      <td>A lot can go down between thursday and saturda...</td>\n",
              "      <td>Friday</td>\n",
              "      <td>False</td>\n",
              "      <td>7.0</td>\n",
              "      <td>513.0</td>\n",
              "    </tr>\n",
              "    <tr>\n",
              "      <th>69</th>\n",
              "      <td>False</td>\n",
              "      <td>{'id': 10924, 'name': 'From Dusk Till Dawn Col...</td>\n",
              "      <td>19000000</td>\n",
              "      <td>[{'id': 27, 'name': 'Horror'}, {'id': 28, 'nam...</td>\n",
              "      <td>http://www.miramax.com/movie/from-dusk-till-dawn/</td>\n",
              "      <td>755</td>\n",
              "      <td>tt0116367</td>\n",
              "      <td>en</td>\n",
              "      <td>From Dusk Till Dawn</td>\n",
              "      <td>Seth Gecko and his younger brother Richard are...</td>\n",
              "      <td>15.339153</td>\n",
              "      <td>/ce0d4kM5KxT4x1Oq8JkSuNYevri.jpg</td>\n",
              "      <td>[{'name': 'A Band Apart', 'id': 59}, {'name': ...</td>\n",
              "      <td>[{'iso_3166_1': 'US', 'name': 'United States o...</td>\n",
              "      <td>19/01/1996</td>\n",
              "      <td>25836616.0</td>\n",
              "      <td>108.0</td>\n",
              "      <td>[{'iso_639_1': 'en', 'name': 'English'}, {'iso...</td>\n",
              "      <td>Released</td>\n",
              "      <td>One night is all that stands between them and ...</td>\n",
              "      <td>From Dusk Till Dawn</td>\n",
              "      <td>False</td>\n",
              "      <td>6.9</td>\n",
              "      <td>1644.0</td>\n",
              "    </tr>\n",
              "    <tr>\n",
              "      <th>153</th>\n",
              "      <td>False</td>\n",
              "      <td>{'id': 439053, 'name': 'Brooklyn Cigar Store C...</td>\n",
              "      <td>2000000</td>\n",
              "      <td>[{'id': 35, 'name': 'Comedy'}]</td>\n",
              "      <td>http://miramax.com/movie/blue-in-the-face/</td>\n",
              "      <td>5894</td>\n",
              "      <td>tt0112541</td>\n",
              "      <td>en</td>\n",
              "      <td>Blue in the Face</td>\n",
              "      <td>Auggie runs a small tobacco shop in Brooklyn, ...</td>\n",
              "      <td>11.528147</td>\n",
              "      <td>/qa9yf3OlfXbYBb0af0mpawGB6TI.jpg</td>\n",
              "      <td>[{'name': 'Miramax Films', 'id': 14}, {'name':...</td>\n",
              "      <td>[{'iso_3166_1': 'US', 'name': 'United States o...</td>\n",
              "      <td>15/09/1995</td>\n",
              "      <td>1275000.0</td>\n",
              "      <td>83.0</td>\n",
              "      <td>[{'iso_639_1': 'en', 'name': 'English'}]</td>\n",
              "      <td>Released</td>\n",
              "      <td>Welcome to the planet Brooklyn.</td>\n",
              "      <td>Blue in the Face</td>\n",
              "      <td>False</td>\n",
              "      <td>6.8</td>\n",
              "      <td>28.0</td>\n",
              "    </tr>\n",
              "    <tr>\n",
              "      <th>178</th>\n",
              "      <td>False</td>\n",
              "      <td>{'id': 286162, 'name': 'Power Rangers Collecti...</td>\n",
              "      <td>15000000</td>\n",
              "      <td>[{'id': 28, 'name': 'Action'}, {'id': 12, 'nam...</td>\n",
              "      <td>http://www.powerrangers.com/</td>\n",
              "      <td>9070</td>\n",
              "      <td>tt0113820</td>\n",
              "      <td>en</td>\n",
              "      <td>Mighty Morphin Power Rangers: The Movie</td>\n",
              "      <td>Power up with six incredible teens who out-man...</td>\n",
              "      <td>7.024227</td>\n",
              "      <td>/A3ijhraMN0tvpDnPoyVP7NulkSr.jpg</td>\n",
              "      <td>[{'name': 'Twentieth Century Fox Film Corporat...</td>\n",
              "      <td>[{'iso_3166_1': 'JP', 'name': 'Japan'}, {'iso_...</td>\n",
              "      <td>30/06/1995</td>\n",
              "      <td>66000000.0</td>\n",
              "      <td>92.0</td>\n",
              "      <td>[{'iso_639_1': 'en', 'name': 'English'}]</td>\n",
              "      <td>Released</td>\n",
              "      <td>The Power Is On!</td>\n",
              "      <td>Mighty Morphin Power Rangers: The Movie</td>\n",
              "      <td>False</td>\n",
              "      <td>5.2</td>\n",
              "      <td>153.0</td>\n",
              "    </tr>\n",
              "  </tbody>\n",
              "</table>\n",
              "</div>"
            ],
            "text/plain": [
              "     adult                              belongs_to_collection    budget  \\\n",
              "9    False  {'id': 645, 'name': 'James Bond Collection', '...  58000000   \n",
              "68   False  {'id': 43563, 'name': 'Friday Collection', 'po...   3500000   \n",
              "69   False  {'id': 10924, 'name': 'From Dusk Till Dawn Col...  19000000   \n",
              "153  False  {'id': 439053, 'name': 'Brooklyn Cigar Store C...   2000000   \n",
              "178  False  {'id': 286162, 'name': 'Power Rangers Collecti...  15000000   \n",
              "\n",
              "                                                genres  \\\n",
              "9    [{'id': 12, 'name': 'Adventure'}, {'id': 28, '...   \n",
              "68                      [{'id': 35, 'name': 'Comedy'}]   \n",
              "69   [{'id': 27, 'name': 'Horror'}, {'id': 28, 'nam...   \n",
              "153                     [{'id': 35, 'name': 'Comedy'}]   \n",
              "178  [{'id': 28, 'name': 'Action'}, {'id': 12, 'nam...   \n",
              "\n",
              "                                              homepage     id    imdb_id  \\\n",
              "9         http://www.mgm.com/view/movie/757/Goldeneye/    710  tt0113189   \n",
              "68       http://www.newline.com/properties/friday.html  10634  tt0113118   \n",
              "69   http://www.miramax.com/movie/from-dusk-till-dawn/    755  tt0116367   \n",
              "153         http://miramax.com/movie/blue-in-the-face/   5894  tt0112541   \n",
              "178                       http://www.powerrangers.com/   9070  tt0113820   \n",
              "\n",
              "    original_language                           original_title  \\\n",
              "9                  en                                GoldenEye   \n",
              "68                 en                                   Friday   \n",
              "69                 en                      From Dusk Till Dawn   \n",
              "153                en                         Blue in the Face   \n",
              "178                en  Mighty Morphin Power Rangers: The Movie   \n",
              "\n",
              "                                              overview  popularity  \\\n",
              "9    James Bond must unmask the mysterious head of ...   14.686036   \n",
              "68   Craig and Smokey are two guys in Los Angeles h...   14.569650   \n",
              "69   Seth Gecko and his younger brother Richard are...   15.339153   \n",
              "153  Auggie runs a small tobacco shop in Brooklyn, ...   11.528147   \n",
              "178  Power up with six incredible teens who out-man...    7.024227   \n",
              "\n",
              "                          poster_path  \\\n",
              "9    /5c0ovjT41KnYIHYuF4AWsTe3sKh.jpg   \n",
              "68   /kkoGT4bnK5oGiNbzGGcXzrXMSxn.jpg   \n",
              "69   /ce0d4kM5KxT4x1Oq8JkSuNYevri.jpg   \n",
              "153  /qa9yf3OlfXbYBb0af0mpawGB6TI.jpg   \n",
              "178  /A3ijhraMN0tvpDnPoyVP7NulkSr.jpg   \n",
              "\n",
              "                                  production_companies  \\\n",
              "9    [{'name': 'United Artists', 'id': 60}, {'name'...   \n",
              "68             [{'name': 'New Line Cinema', 'id': 12}]   \n",
              "69   [{'name': 'A Band Apart', 'id': 59}, {'name': ...   \n",
              "153  [{'name': 'Miramax Films', 'id': 14}, {'name':...   \n",
              "178  [{'name': 'Twentieth Century Fox Film Corporat...   \n",
              "\n",
              "                                  production_countries release_date  \\\n",
              "9    [{'iso_3166_1': 'GB', 'name': 'United Kingdom'...   16/11/1995   \n",
              "68   [{'iso_3166_1': 'US', 'name': 'United States o...   26/04/1995   \n",
              "69   [{'iso_3166_1': 'US', 'name': 'United States o...   19/01/1996   \n",
              "153  [{'iso_3166_1': 'US', 'name': 'United States o...   15/09/1995   \n",
              "178  [{'iso_3166_1': 'JP', 'name': 'Japan'}, {'iso_...   30/06/1995   \n",
              "\n",
              "         revenue  runtime                                   spoken_languages  \\\n",
              "9    352194034.0    130.0  [{'iso_639_1': 'en', 'name': 'English'}, {'iso...   \n",
              "68    28215918.0     91.0           [{'iso_639_1': 'en', 'name': 'English'}]   \n",
              "69    25836616.0    108.0  [{'iso_639_1': 'en', 'name': 'English'}, {'iso...   \n",
              "153    1275000.0     83.0           [{'iso_639_1': 'en', 'name': 'English'}]   \n",
              "178   66000000.0     92.0           [{'iso_639_1': 'en', 'name': 'English'}]   \n",
              "\n",
              "       status                                            tagline  \\\n",
              "9    Released               No limits. No fears. No substitutes.   \n",
              "68   Released  A lot can go down between thursday and saturda...   \n",
              "69   Released  One night is all that stands between them and ...   \n",
              "153  Released                    Welcome to the planet Brooklyn.   \n",
              "178  Released                                   The Power Is On!   \n",
              "\n",
              "                                       title  video  vote_average  vote_count  \n",
              "9                                  GoldenEye  False           6.6      1194.0  \n",
              "68                                    Friday  False           7.0       513.0  \n",
              "69                       From Dusk Till Dawn  False           6.9      1644.0  \n",
              "153                         Blue in the Face  False           6.8        28.0  \n",
              "178  Mighty Morphin Power Rangers: The Movie  False           5.2       153.0  "
            ]
          },
          "metadata": {
            "tags": []
          },
          "execution_count": 7
        }
      ]
    },
    {
      "cell_type": "code",
      "metadata": {
        "id": "bQqDWtDsjzsZ",
        "colab_type": "code",
        "colab": {}
      },
      "source": [
        "m_df['id'] = m_df['id'].astype('int')"
      ],
      "execution_count": null,
      "outputs": []
    },
    {
      "cell_type": "code",
      "metadata": {
        "id": "Qr5H2lN9jzsb",
        "colab_type": "code",
        "colab": {
          "base_uri": "https://localhost:8080/",
          "height": 35
        },
        "outputId": "097876d5-ef4b-4791-c5fd-010e7542f903"
      },
      "source": [
        "sm_df = m_df[m_df['id'].isin(small_mdf)]\n",
        "sm_df.shape"
      ],
      "execution_count": null,
      "outputs": [
        {
          "output_type": "execute_result",
          "data": {
            "text/plain": [
              "(447, 24)"
            ]
          },
          "metadata": {
            "tags": []
          },
          "execution_count": 9
        }
      ]
    },
    {
      "cell_type": "markdown",
      "metadata": {
        "id": "zxHPv86vjzsd",
        "colab_type": "text"
      },
      "source": [
        "\n",
        "**447** películas disponibles en nuestro conjunto de datos "
      ]
    },
    {
      "cell_type": "markdown",
      "metadata": {
        "id": "m7eAI8Y6jzse",
        "colab_type": "text"
      },
      "source": [
        "### 1. Descripción basada en recomendación"
      ]
    },
    {
      "cell_type": "code",
      "metadata": {
        "id": "8FVN5cT3jzsf",
        "colab_type": "code",
        "colab": {}
      },
      "source": [
        "sm_df['tagline'] = sm_df['tagline'].fillna('')\n",
        "sm_df['description'] = sm_df['overview'] + sm_df['tagline']\n",
        "sm_df['description'] = sm_df['description'].fillna('')"
      ],
      "execution_count": null,
      "outputs": []
    },
    {
      "cell_type": "markdown",
      "metadata": {
        "id": "azqu5Sodjzsj",
        "colab_type": "text"
      },
      "source": [
        "#### Creamos la matriz TF-IDF"
      ]
    },
    {
      "cell_type": "code",
      "metadata": {
        "id": "o5KA_UQBjzsk",
        "colab_type": "code",
        "colab": {
          "base_uri": "https://localhost:8080/",
          "height": 35
        },
        "outputId": "2fdcda1d-238b-4d61-d733-9e3a1de9ee60"
      },
      "source": [
        "tf = TfidfVectorizer(analyzer='word',ngram_range=(1, 2),min_df=0, stop_words='english')\n",
        "tfidf_matrix = tf.fit_transform(sm_df['description'])\n",
        "tfidf_matrix.shape"
      ],
      "execution_count": null,
      "outputs": [
        {
          "output_type": "execute_result",
          "data": {
            "text/plain": [
              "(447, 19329)"
            ]
          },
          "metadata": {
            "tags": []
          },
          "execution_count": 11
        }
      ]
    },
    {
      "cell_type": "markdown",
      "metadata": {
        "id": "szvgsF2Ajzsm",
        "colab_type": "text"
      },
      "source": [
        "\n",
        "#### Similitud de coseno\n",
        "\n",
        "La similitud de coseno se utiliza para calcular una cantidad numérica que denota la similitud entre dos películas. Matemáticamente, se define de la siguiente manera:\n",
        "\n",
        "$ coseno (x, y) = \\ frac {x. y ^ \\ intercal} {|| x ||. || y ||} $\n",
        "\n",
        "Como se utiliza el vectorizador TF-IDF, el cálculo del producto de puntos nos dará directamente el puntaje de similitud de coseno. Por lo tanto, se utiliza ** linear_kernel ** de sklearn en lugar de cosine_similarities, ya que es mucho más rápido."
      ]
    },
    {
      "cell_type": "code",
      "metadata": {
        "id": "fmYVpx1Tjzsm",
        "colab_type": "code",
        "colab": {}
      },
      "source": [
        "cosine_sim = linear_kernel(tfidf_matrix, tfidf_matrix)"
      ],
      "execution_count": null,
      "outputs": []
    },
    {
      "cell_type": "code",
      "metadata": {
        "id": "xlFoA2fZjzsp",
        "colab_type": "code",
        "colab": {
          "base_uri": "https://localhost:8080/",
          "height": 1000
        },
        "outputId": "d0c37fae-5d61-4dcb-b546-4f3a99a91e6b"
      },
      "source": [
        "cosine_sim[0]"
      ],
      "execution_count": null,
      "outputs": [
        {
          "output_type": "execute_result",
          "data": {
            "text/plain": [
              "array([1.        , 0.        , 0.        , 0.        , 0.        ,\n",
              "       0.        , 0.        , 0.        , 0.        , 0.        ,\n",
              "       0.        , 0.        , 0.00696763, 0.00759807, 0.01252464,\n",
              "       0.01163625, 0.        , 0.        , 0.00840636, 0.        ,\n",
              "       0.        , 0.        , 0.        , 0.        , 0.        ,\n",
              "       0.        , 0.01022136, 0.        , 0.        , 0.        ,\n",
              "       0.        , 0.        , 0.        , 0.        , 0.        ,\n",
              "       0.01406922, 0.        , 0.02136082, 0.        , 0.        ,\n",
              "       0.01532349, 0.        , 0.        , 0.        , 0.01008677,\n",
              "       0.        , 0.        , 0.        , 0.        , 0.        ,\n",
              "       0.00816239, 0.        , 0.        , 0.        , 0.        ,\n",
              "       0.06599254, 0.        , 0.        , 0.        , 0.01132739,\n",
              "       0.        , 0.        , 0.        , 0.        , 0.04011309,\n",
              "       0.01536705, 0.03462974, 0.04202035, 0.06305757, 0.06410072,\n",
              "       0.08148224, 0.0456975 , 0.01470343, 0.02375263, 0.        ,\n",
              "       0.        , 0.        , 0.        , 0.01080796, 0.        ,\n",
              "       0.        , 0.05544998, 0.04158304, 0.02568226, 0.05884508,\n",
              "       0.        , 0.00871231, 0.        , 0.        , 0.04309996,\n",
              "       0.03135678, 0.        , 0.        , 0.        , 0.01456181,\n",
              "       0.        , 0.        , 0.        , 0.01820877, 0.        ,\n",
              "       0.        , 0.00688018, 0.        , 0.        , 0.        ,\n",
              "       0.00928433, 0.        , 0.        , 0.01342441, 0.        ,\n",
              "       0.        , 0.        , 0.        , 0.        , 0.02964235,\n",
              "       0.        , 0.        , 0.        , 0.        , 0.        ,\n",
              "       0.        , 0.        , 0.        , 0.        , 0.        ,\n",
              "       0.        , 0.        , 0.01165629, 0.        , 0.        ,\n",
              "       0.        , 0.        , 0.05793967, 0.06950236, 0.07275642,\n",
              "       0.        , 0.        , 0.        , 0.        , 0.        ,\n",
              "       0.        , 0.00866861, 0.        , 0.        , 0.        ,\n",
              "       0.        , 0.        , 0.        , 0.01206026, 0.        ,\n",
              "       0.00766204, 0.00773627, 0.        , 0.        , 0.02085923,\n",
              "       0.        , 0.        , 0.        , 0.00678377, 0.        ,\n",
              "       0.        , 0.        , 0.        , 0.00836649, 0.        ,\n",
              "       0.00797916, 0.01848497, 0.        , 0.        , 0.        ,\n",
              "       0.0100663 , 0.        , 0.        , 0.        , 0.        ,\n",
              "       0.        , 0.        , 0.        , 0.        , 0.        ,\n",
              "       0.        , 0.00789224, 0.02405221, 0.        , 0.        ,\n",
              "       0.        , 0.        , 0.        , 0.        , 0.00942739,\n",
              "       0.        , 0.        , 0.        , 0.        , 0.        ,\n",
              "       0.        , 0.        , 0.        , 0.        , 0.        ,\n",
              "       0.0092375 , 0.        , 0.        , 0.        , 0.        ,\n",
              "       0.        , 0.        , 0.        , 0.        , 0.        ,\n",
              "       0.        , 0.        , 0.00743084, 0.        , 0.01480995,\n",
              "       0.        , 0.        , 0.        , 0.        , 0.0077478 ,\n",
              "       0.        , 0.        , 0.        , 0.        , 0.        ,\n",
              "       0.01057784, 0.        , 0.        , 0.        , 0.        ,\n",
              "       0.        , 0.        , 0.        , 0.        , 0.04115372,\n",
              "       0.        , 0.00604022, 0.        , 0.        , 0.        ,\n",
              "       0.        , 0.        , 0.00729652, 0.00707821, 0.00564768,\n",
              "       0.        , 0.        , 0.        , 0.        , 0.02552255,\n",
              "       0.        , 0.        , 0.        , 0.        , 0.        ,\n",
              "       0.        , 0.        , 0.01258277, 0.        , 0.        ,\n",
              "       0.        , 0.0219342 , 0.        , 0.        , 0.        ,\n",
              "       0.        , 0.        , 0.        , 0.        , 0.        ,\n",
              "       0.        , 0.01221119, 0.        , 0.        , 0.        ,\n",
              "       0.        , 0.        , 0.01074338, 0.        , 0.        ,\n",
              "       0.00811881, 0.        , 0.        , 0.        , 0.        ,\n",
              "       0.01421017, 0.        , 0.        , 0.        , 0.01817906,\n",
              "       0.        , 0.        , 0.01198693, 0.        , 0.        ,\n",
              "       0.        , 0.        , 0.        , 0.        , 0.        ,\n",
              "       0.        , 0.0051608 , 0.01360624, 0.00744233, 0.        ,\n",
              "       0.        , 0.00555788, 0.        , 0.        , 0.        ,\n",
              "       0.        , 0.01260311, 0.        , 0.        , 0.        ,\n",
              "       0.00801312, 0.        , 0.00457733, 0.        , 0.        ,\n",
              "       0.01176819, 0.        , 0.01315347, 0.        , 0.02842202,\n",
              "       0.        , 0.        , 0.        , 0.00507492, 0.        ,\n",
              "       0.        , 0.        , 0.        , 0.00601732, 0.        ,\n",
              "       0.02119468, 0.        , 0.        , 0.01227745, 0.        ,\n",
              "       0.01530908, 0.        , 0.        , 0.        , 0.        ,\n",
              "       0.        , 0.        , 0.        , 0.        , 0.        ,\n",
              "       0.00905074, 0.        , 0.        , 0.        , 0.        ,\n",
              "       0.        , 0.        , 0.        , 0.        , 0.        ,\n",
              "       0.        , 0.        , 0.00485093, 0.        , 0.01923874,\n",
              "       0.        , 0.        , 0.        , 0.00474297, 0.        ,\n",
              "       0.        , 0.        , 0.        , 0.01277843, 0.0133759 ,\n",
              "       0.        , 0.        , 0.        , 0.        , 0.00576456,\n",
              "       0.        , 0.0058153 , 0.        , 0.        , 0.        ,\n",
              "       0.        , 0.02488007, 0.        , 0.        , 0.        ,\n",
              "       0.        , 0.        , 0.0154436 , 0.        , 0.        ,\n",
              "       0.        , 0.        , 0.00734675, 0.        , 0.        ,\n",
              "       0.        , 0.        , 0.        , 0.0218137 , 0.        ,\n",
              "       0.        , 0.        , 0.02581205, 0.        , 0.00530786,\n",
              "       0.        , 0.        , 0.        , 0.        , 0.        ,\n",
              "       0.00542083, 0.        , 0.        , 0.        , 0.        ,\n",
              "       0.        , 0.00671541, 0.        , 0.        , 0.        ,\n",
              "       0.02987474, 0.        , 0.        , 0.        , 0.        ,\n",
              "       0.        , 0.        , 0.        , 0.        , 0.        ,\n",
              "       0.        , 0.        , 0.01501313, 0.        , 0.        ,\n",
              "       0.        , 0.        , 0.        , 0.        , 0.        ,\n",
              "       0.01007216, 0.00802457])"
            ]
          },
          "metadata": {
            "tags": []
          },
          "execution_count": 13
        }
      ]
    },
    {
      "cell_type": "markdown",
      "metadata": {
        "id": "fgxGsFXRjzsr",
        "colab_type": "text"
      },
      "source": [
        "Ahora tenemos una matriz de similitud de coseno por pares para todas las películas de nuestro conjunto de datos. El siguiente paso es escribir una función que devuelva las 50 películas más similares según el puntaje de similitud de coseno."
      ]
    },
    {
      "cell_type": "code",
      "metadata": {
        "id": "kmKDMm0ajzsr",
        "colab_type": "code",
        "colab": {}
      },
      "source": [
        "sm_df = sm_df.reset_index()\n",
        "titles = sm_df['title']\n",
        "indices = pd.Series(sm_df.index, index=sm_df['title'])"
      ],
      "execution_count": null,
      "outputs": []
    },
    {
      "cell_type": "code",
      "metadata": {
        "id": "Xd4vxPUvjzst",
        "colab_type": "code",
        "colab": {}
      },
      "source": [
        "def get_recommendations(title):\n",
        "    idx = indices[title]\n",
        "    sim_scores = list(enumerate(cosine_sim[idx]))\n",
        "    sim_scores = sorted(sim_scores, key=lambda x: x[1], reverse=True)\n",
        "    sim_scores = sim_scores[1:51]\n",
        "    movie_indices = [i[0] for i in sim_scores]\n",
        "    return titles.iloc[movie_indices]"
      ],
      "execution_count": null,
      "outputs": []
    },
    {
      "cell_type": "markdown",
      "metadata": {
        "id": "mSF4EXRwjzsw",
        "colab_type": "text"
      },
      "source": [
        "Probemos ahora y obtenga las 10 mejores recomendaciones para algunas películas."
      ]
    },
    {
      "cell_type": "code",
      "metadata": {
        "id": "1u9B8vIQjzsw",
        "colab_type": "code",
        "colab": {
          "base_uri": "https://localhost:8080/",
          "height": 212
        },
        "outputId": "15fd3b36-0edd-453d-d23e-4eb2abb4f282"
      },
      "source": [
        "get_recommendations('The Godfather').head(10)"
      ],
      "execution_count": null,
      "outputs": [
        {
          "output_type": "execute_result",
          "data": {
            "text/plain": [
              "308    Elite Squad: The Enemy Within\n",
              "47           The Godfather: Part III\n",
              "292                          Machete\n",
              "116            House of 1000 Corpses\n",
              "42                      Halloween II\n",
              "403                       The Raid 2\n",
              "262                     Halloween II\n",
              "437                        Furious 7\n",
              "172              The Hills Have Eyes\n",
              "11                        Home Alone\n",
              "Name: title, dtype: object"
            ]
          },
          "metadata": {
            "tags": []
          },
          "execution_count": 16
        }
      ]
    },
    {
      "cell_type": "code",
      "metadata": {
        "id": "B9VAtrzNjzsy",
        "colab_type": "code",
        "colab": {
          "base_uri": "https://localhost:8080/",
          "height": 212
        },
        "outputId": "5814be63-48d9-4964-b26e-7eab3440635e"
      },
      "source": [
        "get_recommendations('The Dark Knight').head(10)"
      ],
      "execution_count": null,
      "outputs": [
        {
          "output_type": "execute_result",
          "data": {
            "text/plain": [
              "340                 The Dark Knight Rises\n",
              "342    Sherlock Holmes: A Game of Shadows\n",
              "154                         Batman Begins\n",
              "446    Batman v Superman: Dawn of Justice\n",
              "382                       Despicable Me 2\n",
              "40                    Tomorrow Never Dies\n",
              "104                              Blade II\n",
              "295       Wall Street: Money Never Sleeps\n",
              "416          Sin City: A Dame to Kill For\n",
              "71                            Thunderball\n",
              "Name: title, dtype: object"
            ]
          },
          "metadata": {
            "tags": []
          },
          "execution_count": 17
        }
      ]
    },
    {
      "cell_type": "markdown",
      "metadata": {
        "id": "SnEopjaljzs1",
        "colab_type": "text"
      },
      "source": [
        "Vemos que para **The Dark Knight**, nuestro sistema puede identificarlo como una película de Batman y, posteriormente, recomendar otras películas de Batman como sus principales recomendaciones. Pero desafortunadamente, eso es todo lo que este sistema puede hacer en este momento. Esto no es de mucha utilidad para la mayoría de las personas, ya que no tiene en cuenta características muy importantes como el reparto, el equipo, el director y el género, que determinan la calificación y la popularidad de una película. Alguien a quien le gustó **The Dark Knight** probablemente le guste más por el actor principal y odiaría **Batman y Superman** y cualquier otra película de calidad inferior en la franquicia de Batman.\n",
        "\n",
        "Por lo tanto, vamos a utilizar metadatos mucho más sugerentes que **Descripción general** y **Lema**. En la siguiente subsección, construyamos un recomendador más sofisticado que tenga en cuenta **género**, **palabras clave**, **reparto** y **tripulación** en consideración."
      ]
    },
    {
      "cell_type": "markdown",
      "metadata": {
        "id": "K60w-u02jzs1",
        "colab_type": "text"
      },
      "source": [
        "### 2.  Recomendación basada en metadata"
      ]
    },
    {
      "cell_type": "code",
      "metadata": {
        "id": "HcLuN2XJtOi2",
        "colab_type": "code",
        "colab": {
          "base_uri": "https://localhost:8080/",
          "height": 194
        },
        "outputId": "4d2425cb-e549-4b4e-e632-b1baa1b46785"
      },
      "source": [
        "url = 'https://raw.githubusercontent.com/JBrianAlicorp/Business-Analytics/master/keywords.csv'\n",
        "keywords = pd.read_csv(url,encoding='latin1')\n",
        "keywords.head()"
      ],
      "execution_count": null,
      "outputs": [
        {
          "output_type": "execute_result",
          "data": {
            "text/html": [
              "<div>\n",
              "<style scoped>\n",
              "    .dataframe tbody tr th:only-of-type {\n",
              "        vertical-align: middle;\n",
              "    }\n",
              "\n",
              "    .dataframe tbody tr th {\n",
              "        vertical-align: top;\n",
              "    }\n",
              "\n",
              "    .dataframe thead th {\n",
              "        text-align: right;\n",
              "    }\n",
              "</style>\n",
              "<table border=\"1\" class=\"dataframe\">\n",
              "  <thead>\n",
              "    <tr style=\"text-align: right;\">\n",
              "      <th></th>\n",
              "      <th>id</th>\n",
              "      <th>keywords</th>\n",
              "    </tr>\n",
              "  </thead>\n",
              "  <tbody>\n",
              "    <tr>\n",
              "      <th>0</th>\n",
              "      <td>862</td>\n",
              "      <td>[{'id': 931, 'name': 'jealousy'}, {'id': 4290,...</td>\n",
              "    </tr>\n",
              "    <tr>\n",
              "      <th>1</th>\n",
              "      <td>8844</td>\n",
              "      <td>[{'id': 10090, 'name': 'board game'}, {'id': 1...</td>\n",
              "    </tr>\n",
              "    <tr>\n",
              "      <th>2</th>\n",
              "      <td>15602</td>\n",
              "      <td>[{'id': 1495, 'name': 'fishing'}, {'id': 12392...</td>\n",
              "    </tr>\n",
              "    <tr>\n",
              "      <th>3</th>\n",
              "      <td>31357</td>\n",
              "      <td>[{'id': 818, 'name': 'based on novel'}, {'id':...</td>\n",
              "    </tr>\n",
              "    <tr>\n",
              "      <th>4</th>\n",
              "      <td>11862</td>\n",
              "      <td>[{'id': 1009, 'name': 'baby'}, {'id': 1599, 'n...</td>\n",
              "    </tr>\n",
              "  </tbody>\n",
              "</table>\n",
              "</div>"
            ],
            "text/plain": [
              "      id                                           keywords\n",
              "0    862  [{'id': 931, 'name': 'jealousy'}, {'id': 4290,...\n",
              "1   8844  [{'id': 10090, 'name': 'board game'}, {'id': 1...\n",
              "2  15602  [{'id': 1495, 'name': 'fishing'}, {'id': 12392...\n",
              "3  31357  [{'id': 818, 'name': 'based on novel'}, {'id':...\n",
              "4  11862  [{'id': 1009, 'name': 'baby'}, {'id': 1599, 'n..."
            ]
          },
          "metadata": {
            "tags": []
          },
          "execution_count": 18
        }
      ]
    },
    {
      "cell_type": "code",
      "metadata": {
        "id": "3IbFkhZEwd2k",
        "colab_type": "code",
        "colab": {
          "base_uri": "https://localhost:8080/",
          "height": 177
        },
        "outputId": "d7cb5e60-b23d-4b70-b719-808da0808ddb"
      },
      "source": [
        "keywords=keywords.dropna()\n",
        "keywords.info()"
      ],
      "execution_count": null,
      "outputs": [
        {
          "output_type": "stream",
          "text": [
            "<class 'pandas.core.frame.DataFrame'>\n",
            "Int64Index: 46419 entries, 0 to 46418\n",
            "Data columns (total 2 columns):\n",
            " #   Column    Non-Null Count  Dtype \n",
            "---  ------    --------------  ----- \n",
            " 0   id        46419 non-null  int64 \n",
            " 1   keywords  46419 non-null  object\n",
            "dtypes: int64(1), object(1)\n",
            "memory usage: 1.1+ MB\n"
          ],
          "name": "stdout"
        }
      ]
    },
    {
      "cell_type": "code",
      "metadata": {
        "id": "5wcCqv9_jzs4",
        "colab_type": "code",
        "colab": {
          "base_uri": "https://localhost:8080/",
          "height": 35
        },
        "outputId": "d285bc18-88d1-401c-d262-2736a70b56fe"
      },
      "source": [
        "keywords['id'] = keywords['id'].astype('int')\n",
        "m_df['id'] = m_df['id'].astype('int')\n",
        "m_df.shape"
      ],
      "execution_count": null,
      "outputs": [
        {
          "output_type": "execute_result",
          "data": {
            "text/plain": [
              "(603, 24)"
            ]
          },
          "metadata": {
            "tags": []
          },
          "execution_count": 20
        }
      ]
    },
    {
      "cell_type": "code",
      "metadata": {
        "id": "qBGEewhXjzs7",
        "colab_type": "code",
        "colab": {}
      },
      "source": [
        "# Cruzamos con nuestra data principal\n",
        "m_df = m_df.merge(keywords, on='id')"
      ],
      "execution_count": null,
      "outputs": []
    },
    {
      "cell_type": "code",
      "metadata": {
        "id": "E5vNIH7zjzs9",
        "colab_type": "code",
        "colab": {
          "base_uri": "https://localhost:8080/",
          "height": 687
        },
        "outputId": "d6f3c1bd-2508-48bd-ec80-f973db570b69"
      },
      "source": [
        "sm_df = m_df[m_df['id'].isin(small_mdf)]\n",
        "sm_df.head()"
      ],
      "execution_count": null,
      "outputs": [
        {
          "output_type": "execute_result",
          "data": {
            "text/html": [
              "<div>\n",
              "<style scoped>\n",
              "    .dataframe tbody tr th:only-of-type {\n",
              "        vertical-align: middle;\n",
              "    }\n",
              "\n",
              "    .dataframe tbody tr th {\n",
              "        vertical-align: top;\n",
              "    }\n",
              "\n",
              "    .dataframe thead th {\n",
              "        text-align: right;\n",
              "    }\n",
              "</style>\n",
              "<table border=\"1\" class=\"dataframe\">\n",
              "  <thead>\n",
              "    <tr style=\"text-align: right;\">\n",
              "      <th></th>\n",
              "      <th>adult</th>\n",
              "      <th>belongs_to_collection</th>\n",
              "      <th>budget</th>\n",
              "      <th>genres</th>\n",
              "      <th>homepage</th>\n",
              "      <th>id</th>\n",
              "      <th>imdb_id</th>\n",
              "      <th>original_language</th>\n",
              "      <th>original_title</th>\n",
              "      <th>overview</th>\n",
              "      <th>popularity</th>\n",
              "      <th>poster_path</th>\n",
              "      <th>production_companies</th>\n",
              "      <th>production_countries</th>\n",
              "      <th>release_date</th>\n",
              "      <th>revenue</th>\n",
              "      <th>runtime</th>\n",
              "      <th>spoken_languages</th>\n",
              "      <th>status</th>\n",
              "      <th>tagline</th>\n",
              "      <th>title</th>\n",
              "      <th>video</th>\n",
              "      <th>vote_average</th>\n",
              "      <th>vote_count</th>\n",
              "      <th>keywords</th>\n",
              "    </tr>\n",
              "  </thead>\n",
              "  <tbody>\n",
              "    <tr>\n",
              "      <th>0</th>\n",
              "      <td>False</td>\n",
              "      <td>{'id': 645, 'name': 'James Bond Collection', '...</td>\n",
              "      <td>58000000</td>\n",
              "      <td>[{'id': 12, 'name': 'Adventure'}, {'id': 28, '...</td>\n",
              "      <td>http://www.mgm.com/view/movie/757/Goldeneye/</td>\n",
              "      <td>710</td>\n",
              "      <td>tt0113189</td>\n",
              "      <td>en</td>\n",
              "      <td>GoldenEye</td>\n",
              "      <td>James Bond must unmask the mysterious head of ...</td>\n",
              "      <td>14.686036</td>\n",
              "      <td>/5c0ovjT41KnYIHYuF4AWsTe3sKh.jpg</td>\n",
              "      <td>[{'name': 'United Artists', 'id': 60}, {'name'...</td>\n",
              "      <td>[{'iso_3166_1': 'GB', 'name': 'United Kingdom'...</td>\n",
              "      <td>16/11/1995</td>\n",
              "      <td>352194034.0</td>\n",
              "      <td>130.0</td>\n",
              "      <td>[{'iso_639_1': 'en', 'name': 'English'}, {'iso...</td>\n",
              "      <td>Released</td>\n",
              "      <td>No limits. No fears. No substitutes.</td>\n",
              "      <td>GoldenEye</td>\n",
              "      <td>False</td>\n",
              "      <td>6.6</td>\n",
              "      <td>1194.0</td>\n",
              "      <td>[{'id': 701, 'name': 'cuba'}, {'id': 769, 'nam...</td>\n",
              "    </tr>\n",
              "    <tr>\n",
              "      <th>1</th>\n",
              "      <td>False</td>\n",
              "      <td>{'id': 43563, 'name': 'Friday Collection', 'po...</td>\n",
              "      <td>3500000</td>\n",
              "      <td>[{'id': 35, 'name': 'Comedy'}]</td>\n",
              "      <td>http://www.newline.com/properties/friday.html</td>\n",
              "      <td>10634</td>\n",
              "      <td>tt0113118</td>\n",
              "      <td>en</td>\n",
              "      <td>Friday</td>\n",
              "      <td>Craig and Smokey are two guys in Los Angeles h...</td>\n",
              "      <td>14.569650</td>\n",
              "      <td>/kkoGT4bnK5oGiNbzGGcXzrXMSxn.jpg</td>\n",
              "      <td>[{'name': 'New Line Cinema', 'id': 12}]</td>\n",
              "      <td>[{'iso_3166_1': 'US', 'name': 'United States o...</td>\n",
              "      <td>26/04/1995</td>\n",
              "      <td>28215918.0</td>\n",
              "      <td>91.0</td>\n",
              "      <td>[{'iso_639_1': 'en', 'name': 'English'}]</td>\n",
              "      <td>Released</td>\n",
              "      <td>A lot can go down between thursday and saturda...</td>\n",
              "      <td>Friday</td>\n",
              "      <td>False</td>\n",
              "      <td>7.0</td>\n",
              "      <td>513.0</td>\n",
              "      <td>[{'id': 897, 'name': 'rap music'}, {'id': 970,...</td>\n",
              "    </tr>\n",
              "    <tr>\n",
              "      <th>2</th>\n",
              "      <td>False</td>\n",
              "      <td>{'id': 10924, 'name': 'From Dusk Till Dawn Col...</td>\n",
              "      <td>19000000</td>\n",
              "      <td>[{'id': 27, 'name': 'Horror'}, {'id': 28, 'nam...</td>\n",
              "      <td>http://www.miramax.com/movie/from-dusk-till-dawn/</td>\n",
              "      <td>755</td>\n",
              "      <td>tt0116367</td>\n",
              "      <td>en</td>\n",
              "      <td>From Dusk Till Dawn</td>\n",
              "      <td>Seth Gecko and his younger brother Richard are...</td>\n",
              "      <td>15.339153</td>\n",
              "      <td>/ce0d4kM5KxT4x1Oq8JkSuNYevri.jpg</td>\n",
              "      <td>[{'name': 'A Band Apart', 'id': 59}, {'name': ...</td>\n",
              "      <td>[{'iso_3166_1': 'US', 'name': 'United States o...</td>\n",
              "      <td>19/01/1996</td>\n",
              "      <td>25836616.0</td>\n",
              "      <td>108.0</td>\n",
              "      <td>[{'iso_639_1': 'en', 'name': 'English'}, {'iso...</td>\n",
              "      <td>Released</td>\n",
              "      <td>One night is all that stands between them and ...</td>\n",
              "      <td>From Dusk Till Dawn</td>\n",
              "      <td>False</td>\n",
              "      <td>6.9</td>\n",
              "      <td>1644.0</td>\n",
              "      <td>[{'id': 246, 'name': 'dancing'}, {'id': 380, '...</td>\n",
              "    </tr>\n",
              "    <tr>\n",
              "      <th>3</th>\n",
              "      <td>False</td>\n",
              "      <td>{'id': 439053, 'name': 'Brooklyn Cigar Store C...</td>\n",
              "      <td>2000000</td>\n",
              "      <td>[{'id': 35, 'name': 'Comedy'}]</td>\n",
              "      <td>http://miramax.com/movie/blue-in-the-face/</td>\n",
              "      <td>5894</td>\n",
              "      <td>tt0112541</td>\n",
              "      <td>en</td>\n",
              "      <td>Blue in the Face</td>\n",
              "      <td>Auggie runs a small tobacco shop in Brooklyn, ...</td>\n",
              "      <td>11.528147</td>\n",
              "      <td>/qa9yf3OlfXbYBb0af0mpawGB6TI.jpg</td>\n",
              "      <td>[{'name': 'Miramax Films', 'id': 14}, {'name':...</td>\n",
              "      <td>[{'iso_3166_1': 'US', 'name': 'United States o...</td>\n",
              "      <td>15/09/1995</td>\n",
              "      <td>1275000.0</td>\n",
              "      <td>83.0</td>\n",
              "      <td>[{'iso_639_1': 'en', 'name': 'English'}]</td>\n",
              "      <td>Released</td>\n",
              "      <td>Welcome to the planet Brooklyn.</td>\n",
              "      <td>Blue in the Face</td>\n",
              "      <td>False</td>\n",
              "      <td>6.8</td>\n",
              "      <td>28.0</td>\n",
              "      <td>[{'id': 919, 'name': 'smoking'}, {'id': 1901, ...</td>\n",
              "    </tr>\n",
              "    <tr>\n",
              "      <th>4</th>\n",
              "      <td>False</td>\n",
              "      <td>{'id': 286162, 'name': 'Power Rangers Collecti...</td>\n",
              "      <td>15000000</td>\n",
              "      <td>[{'id': 28, 'name': 'Action'}, {'id': 12, 'nam...</td>\n",
              "      <td>http://www.powerrangers.com/</td>\n",
              "      <td>9070</td>\n",
              "      <td>tt0113820</td>\n",
              "      <td>en</td>\n",
              "      <td>Mighty Morphin Power Rangers: The Movie</td>\n",
              "      <td>Power up with six incredible teens who out-man...</td>\n",
              "      <td>7.024227</td>\n",
              "      <td>/A3ijhraMN0tvpDnPoyVP7NulkSr.jpg</td>\n",
              "      <td>[{'name': 'Twentieth Century Fox Film Corporat...</td>\n",
              "      <td>[{'iso_3166_1': 'JP', 'name': 'Japan'}, {'iso_...</td>\n",
              "      <td>30/06/1995</td>\n",
              "      <td>66000000.0</td>\n",
              "      <td>92.0</td>\n",
              "      <td>[{'iso_639_1': 'en', 'name': 'English'}]</td>\n",
              "      <td>Released</td>\n",
              "      <td>The Power Is On!</td>\n",
              "      <td>Mighty Morphin Power Rangers: The Movie</td>\n",
              "      <td>False</td>\n",
              "      <td>5.2</td>\n",
              "      <td>153.0</td>\n",
              "      <td>[{'id': 10988, 'name': 'based on tv series'}, ...</td>\n",
              "    </tr>\n",
              "  </tbody>\n",
              "</table>\n",
              "</div>"
            ],
            "text/plain": [
              "   adult                              belongs_to_collection    budget  \\\n",
              "0  False  {'id': 645, 'name': 'James Bond Collection', '...  58000000   \n",
              "1  False  {'id': 43563, 'name': 'Friday Collection', 'po...   3500000   \n",
              "2  False  {'id': 10924, 'name': 'From Dusk Till Dawn Col...  19000000   \n",
              "3  False  {'id': 439053, 'name': 'Brooklyn Cigar Store C...   2000000   \n",
              "4  False  {'id': 286162, 'name': 'Power Rangers Collecti...  15000000   \n",
              "\n",
              "                                              genres  \\\n",
              "0  [{'id': 12, 'name': 'Adventure'}, {'id': 28, '...   \n",
              "1                     [{'id': 35, 'name': 'Comedy'}]   \n",
              "2  [{'id': 27, 'name': 'Horror'}, {'id': 28, 'nam...   \n",
              "3                     [{'id': 35, 'name': 'Comedy'}]   \n",
              "4  [{'id': 28, 'name': 'Action'}, {'id': 12, 'nam...   \n",
              "\n",
              "                                            homepage     id    imdb_id  \\\n",
              "0       http://www.mgm.com/view/movie/757/Goldeneye/    710  tt0113189   \n",
              "1      http://www.newline.com/properties/friday.html  10634  tt0113118   \n",
              "2  http://www.miramax.com/movie/from-dusk-till-dawn/    755  tt0116367   \n",
              "3         http://miramax.com/movie/blue-in-the-face/   5894  tt0112541   \n",
              "4                       http://www.powerrangers.com/   9070  tt0113820   \n",
              "\n",
              "  original_language                           original_title  \\\n",
              "0                en                                GoldenEye   \n",
              "1                en                                   Friday   \n",
              "2                en                      From Dusk Till Dawn   \n",
              "3                en                         Blue in the Face   \n",
              "4                en  Mighty Morphin Power Rangers: The Movie   \n",
              "\n",
              "                                            overview  popularity  \\\n",
              "0  James Bond must unmask the mysterious head of ...   14.686036   \n",
              "1  Craig and Smokey are two guys in Los Angeles h...   14.569650   \n",
              "2  Seth Gecko and his younger brother Richard are...   15.339153   \n",
              "3  Auggie runs a small tobacco shop in Brooklyn, ...   11.528147   \n",
              "4  Power up with six incredible teens who out-man...    7.024227   \n",
              "\n",
              "                        poster_path  \\\n",
              "0  /5c0ovjT41KnYIHYuF4AWsTe3sKh.jpg   \n",
              "1  /kkoGT4bnK5oGiNbzGGcXzrXMSxn.jpg   \n",
              "2  /ce0d4kM5KxT4x1Oq8JkSuNYevri.jpg   \n",
              "3  /qa9yf3OlfXbYBb0af0mpawGB6TI.jpg   \n",
              "4  /A3ijhraMN0tvpDnPoyVP7NulkSr.jpg   \n",
              "\n",
              "                                production_companies  \\\n",
              "0  [{'name': 'United Artists', 'id': 60}, {'name'...   \n",
              "1            [{'name': 'New Line Cinema', 'id': 12}]   \n",
              "2  [{'name': 'A Band Apart', 'id': 59}, {'name': ...   \n",
              "3  [{'name': 'Miramax Films', 'id': 14}, {'name':...   \n",
              "4  [{'name': 'Twentieth Century Fox Film Corporat...   \n",
              "\n",
              "                                production_countries release_date  \\\n",
              "0  [{'iso_3166_1': 'GB', 'name': 'United Kingdom'...   16/11/1995   \n",
              "1  [{'iso_3166_1': 'US', 'name': 'United States o...   26/04/1995   \n",
              "2  [{'iso_3166_1': 'US', 'name': 'United States o...   19/01/1996   \n",
              "3  [{'iso_3166_1': 'US', 'name': 'United States o...   15/09/1995   \n",
              "4  [{'iso_3166_1': 'JP', 'name': 'Japan'}, {'iso_...   30/06/1995   \n",
              "\n",
              "       revenue  runtime                                   spoken_languages  \\\n",
              "0  352194034.0    130.0  [{'iso_639_1': 'en', 'name': 'English'}, {'iso...   \n",
              "1   28215918.0     91.0           [{'iso_639_1': 'en', 'name': 'English'}]   \n",
              "2   25836616.0    108.0  [{'iso_639_1': 'en', 'name': 'English'}, {'iso...   \n",
              "3    1275000.0     83.0           [{'iso_639_1': 'en', 'name': 'English'}]   \n",
              "4   66000000.0     92.0           [{'iso_639_1': 'en', 'name': 'English'}]   \n",
              "\n",
              "     status                                            tagline  \\\n",
              "0  Released               No limits. No fears. No substitutes.   \n",
              "1  Released  A lot can go down between thursday and saturda...   \n",
              "2  Released  One night is all that stands between them and ...   \n",
              "3  Released                    Welcome to the planet Brooklyn.   \n",
              "4  Released                                   The Power Is On!   \n",
              "\n",
              "                                     title  video  vote_average  vote_count  \\\n",
              "0                                GoldenEye  False           6.6      1194.0   \n",
              "1                                   Friday  False           7.0       513.0   \n",
              "2                      From Dusk Till Dawn  False           6.9      1644.0   \n",
              "3                         Blue in the Face  False           6.8        28.0   \n",
              "4  Mighty Morphin Power Rangers: The Movie  False           5.2       153.0   \n",
              "\n",
              "                                            keywords  \n",
              "0  [{'id': 701, 'name': 'cuba'}, {'id': 769, 'nam...  \n",
              "1  [{'id': 897, 'name': 'rap music'}, {'id': 970,...  \n",
              "2  [{'id': 246, 'name': 'dancing'}, {'id': 380, '...  \n",
              "3  [{'id': 919, 'name': 'smoking'}, {'id': 1901, ...  \n",
              "4  [{'id': 10988, 'name': 'based on tv series'}, ...  "
            ]
          },
          "metadata": {
            "tags": []
          },
          "execution_count": 22
        }
      ]
    },
    {
      "cell_type": "code",
      "metadata": {
        "id": "IWG1CNcTjztC",
        "colab_type": "code",
        "colab": {}
      },
      "source": [
        "sm_df['keywords'] = sm_df['keywords'].apply(literal_eval)"
      ],
      "execution_count": null,
      "outputs": []
    },
    {
      "cell_type": "code",
      "metadata": {
        "id": "MBATmWsNjztN",
        "colab_type": "code",
        "colab": {}
      },
      "source": [
        "sm_df['keywords'] = sm_df['keywords'].apply(lambda x: [i['name'] for i in x] if isinstance(x, list) else [])"
      ],
      "execution_count": null,
      "outputs": []
    },
    {
      "cell_type": "markdown",
      "metadata": {
        "id": "gs3JNbWJjztV",
        "colab_type": "text"
      },
      "source": [
        "#### Palabras clave\n",
        "\n",
        "Haremos una pequeña cantidad de preprocesamiento de nuestras palabras clave antes de utilizarlas. Como primer paso, calculamos los conteos frecuentes de cada palabra clave que aparece en el conjunto de datos."
      ]
    },
    {
      "cell_type": "code",
      "metadata": {
        "id": "qpasCce_jztW",
        "colab_type": "code",
        "colab": {}
      },
      "source": [
        "s = sm_df.apply(lambda x: pd.Series(x['keywords']),axis=1).stack().reset_index(level=1, drop=True)\n",
        "s.name = 'keyword'"
      ],
      "execution_count": null,
      "outputs": []
    },
    {
      "cell_type": "code",
      "metadata": {
        "id": "2Fly6DtRjztZ",
        "colab_type": "code",
        "colab": {
          "base_uri": "https://localhost:8080/",
          "height": 124
        },
        "outputId": "ca729a89-024d-4c12-de83-70a7856943a6"
      },
      "source": [
        "s = s.value_counts()\n",
        "s[:5]"
      ],
      "execution_count": null,
      "outputs": [
        {
          "output_type": "execute_result",
          "data": {
            "text/plain": [
              "duringcreditsstinger    82\n",
              "aftercreditsstinger     45\n",
              "3d                      41\n",
              "sequel                  40\n",
              "dystopia                36\n",
              "Name: keyword, dtype: int64"
            ]
          },
          "metadata": {
            "tags": []
          },
          "execution_count": 26
        }
      ]
    },
    {
      "cell_type": "markdown",
      "metadata": {
        "id": "iKWRRw3Zjzte",
        "colab_type": "text"
      },
      "source": [
        "Las palabras clave aparecen en frecuencias que van del 1 al 610. No utilizamos las palabras clave que aparecen una sola vez. Por lo tanto, estos se pueden eliminar de forma segura. Finalmente, convertiremos cada palabra a su raíz para que palabras como * Perros * y * Perro * se consideren iguales."
      ]
    },
    {
      "cell_type": "code",
      "metadata": {
        "id": "1089eIG4jztg",
        "colab_type": "code",
        "colab": {}
      },
      "source": [
        "s = s[s > 1]"
      ],
      "execution_count": null,
      "outputs": []
    },
    {
      "cell_type": "code",
      "metadata": {
        "id": "lHqsFsUljztn",
        "colab_type": "code",
        "colab": {
          "base_uri": "https://localhost:8080/",
          "height": 35
        },
        "outputId": "30c52821-676a-4544-e2e7-b8920257de55"
      },
      "source": [
        "stemmer = SnowballStemmer('english')\n",
        "stemmer.stem('dogs')"
      ],
      "execution_count": null,
      "outputs": [
        {
          "output_type": "execute_result",
          "data": {
            "text/plain": [
              "'dog'"
            ]
          },
          "metadata": {
            "tags": []
          },
          "execution_count": 28
        }
      ]
    },
    {
      "cell_type": "code",
      "metadata": {
        "id": "pf0eCdXFjztu",
        "colab_type": "code",
        "colab": {}
      },
      "source": [
        "def filter_keywords(x):\n",
        "    words = []\n",
        "    for i in x:\n",
        "        if i in s:\n",
        "            words.append(i)\n",
        "    return words"
      ],
      "execution_count": null,
      "outputs": []
    },
    {
      "cell_type": "code",
      "metadata": {
        "id": "aZ8kJlBwjzt1",
        "colab_type": "code",
        "colab": {}
      },
      "source": [
        "sm_df['keywords'] = sm_df['keywords'].apply(filter_keywords)\n",
        "sm_df['keywords'] = sm_df['keywords'].apply(lambda x: [stemmer.stem(i) for i in x])\n",
        "sm_df['keywords'] = sm_df['keywords'].apply(lambda x: [str.lower(i.replace(\" \", \"\")) for i in x])"
      ],
      "execution_count": null,
      "outputs": []
    },
    {
      "cell_type": "code",
      "metadata": {
        "id": "Y8MkX5aqjzt8",
        "colab_type": "code",
        "colab": {}
      },
      "source": [
        "sm_df['soup'] = sm_df['keywords']\n",
        "sm_df['soup'] = sm_df['soup'].apply(lambda x: ' '.join(x))"
      ],
      "execution_count": null,
      "outputs": []
    },
    {
      "cell_type": "code",
      "metadata": {
        "id": "-eU5VuiCjzuA",
        "colab_type": "code",
        "colab": {}
      },
      "source": [
        "count = CountVectorizer(analyzer='word',ngram_range=(1, 2),min_df=0, stop_words='english')\n",
        "count_matrix = count.fit_transform(sm_df['soup'])"
      ],
      "execution_count": null,
      "outputs": []
    },
    {
      "cell_type": "code",
      "metadata": {
        "id": "nhwncAY0jzuD",
        "colab_type": "code",
        "colab": {}
      },
      "source": [
        "cosine_sim = cosine_similarity(count_matrix, count_matrix)"
      ],
      "execution_count": null,
      "outputs": []
    },
    {
      "cell_type": "code",
      "metadata": {
        "id": "iPGUSOK-jzuI",
        "colab_type": "code",
        "colab": {}
      },
      "source": [
        "sm_df = sm_df.reset_index()\n",
        "titles = sm_df['title']\n",
        "indices = pd.Series(sm_df.index, index=sm_df['title'])"
      ],
      "execution_count": null,
      "outputs": []
    },
    {
      "cell_type": "markdown",
      "metadata": {
        "id": "uJrYpMspjzuN",
        "colab_type": "text"
      },
      "source": [
        "Reutilizaremos la función get_recommendations que habíamos escrito anteriormente. Dado que nuestros puntajes de similitud de coseno han cambiado, esperamos que nos dé resultados diferentes (y probablemente mejores). Revisemos nuevamente **The Dark Knight** y veamos qué recomendaciones recibo esta vez."
      ]
    },
    {
      "cell_type": "code",
      "metadata": {
        "id": "lmYbT7odjzuO",
        "colab_type": "code",
        "colab": {
          "base_uri": "https://localhost:8080/",
          "height": 212
        },
        "outputId": "6076bb38-68f9-492a-81ee-2839ac529ebc"
      },
      "source": [
        "get_recommendations('The Dark Knight').head(10)"
      ],
      "execution_count": null,
      "outputs": [
        {
          "output_type": "execute_result",
          "data": {
            "text/plain": [
              "341                 The Dark Knight Rises\n",
              "155                         Batman Begins\n",
              "447    Batman v Superman: Dawn of Justice\n",
              "379                          Man of Steel\n",
              "416          Teenage Mutant Ninja Turtles\n",
              "432            Captain America: Civil War\n",
              "319                    X-Men: First Class\n",
              "281                            Iron Man 2\n",
              "430                               Ant-Man\n",
              "144                        Blade: Trinity\n",
              "Name: title, dtype: object"
            ]
          },
          "metadata": {
            "tags": []
          },
          "execution_count": 35
        }
      ]
    },
    {
      "cell_type": "markdown",
      "metadata": {
        "id": "W-whfiksjzuZ",
        "colab_type": "text"
      },
      "source": [
        "Las recomendaciones parecen haber reconocido otras películas que coinciden con palabras claves y las han puesto como las mejores recomendaciones. La persona disfrutó viendo **The Dark Knight**, así como algunos de los otros en la lista, incluyendo **Batman Begins**, **Iron Man 2**."
      ]
    },
    {
      "cell_type": "markdown",
      "metadata": {
        "id": "WBcmFjJDjzuk",
        "colab_type": "text"
      },
      "source": [
        "## **Sistema de recomendación : Collaborative Filtering**"
      ]
    },
    {
      "cell_type": "markdown",
      "metadata": {
        "id": "MhoUBMPNjzul",
        "colab_type": "text"
      },
      "source": [
        "\n",
        "**Limitación de la recomendación basada en contenido**:\n",
        "- Solo es capaz de sugerir películas que son * cercanas * a una película determinada. Es decir, no es capaz de captar interés y proporcionar recomendaciones en todos los géneros.\n",
        "\n",
        "- No captura el interés personal y los prejuicios de un usuario. Cualquier persona que busque recomendaciones basadas en una película en el modelo recibirá las mismas recomendaciones para esa película, independientemente de quién sea.\n",
        "\n",
        "Por lo tanto, en esta sección, utilizaremos una técnica llamada **Filtrado colaborativo** para hacer recomendaciones a los observadores de películas. El Filtrado Colaborativo se basa en la idea de que los usuarios similares a mí pueden usarse para predecir cuánto me gustará un producto o servicio en particular que esos usuarios hayan usado / experimentado, pero yo no.\n",
        "\n",
        "Utilizaremos la librería **Surprise** que utilizó algoritmos extremadamente potentes como **Descomposición de valor singular (SVD)** para minimizar RMSE (error cuadrático medio) y ofrecer excelentes recomendaciones."
      ]
    },
    {
      "cell_type": "code",
      "metadata": {
        "id": "i9t1ggDjjzum",
        "colab_type": "code",
        "colab": {}
      },
      "source": [
        "reader = Reader()"
      ],
      "execution_count": null,
      "outputs": []
    },
    {
      "cell_type": "code",
      "metadata": {
        "id": "vIqpqXUBjzun",
        "colab_type": "code",
        "colab": {
          "base_uri": "https://localhost:8080/",
          "height": 194
        },
        "outputId": "6cabe56e-9e26-4734-fe7c-1184ed9f9faf"
      },
      "source": [
        "url = 'https://raw.githubusercontent.com/JBrianAlicorp/Business-Analytics/master/ratings_small.csv'\n",
        "ratings = pd.read_csv(url,encoding='latin1')\n",
        "ratings.head()"
      ],
      "execution_count": null,
      "outputs": [
        {
          "output_type": "execute_result",
          "data": {
            "text/html": [
              "<div>\n",
              "<style scoped>\n",
              "    .dataframe tbody tr th:only-of-type {\n",
              "        vertical-align: middle;\n",
              "    }\n",
              "\n",
              "    .dataframe tbody tr th {\n",
              "        vertical-align: top;\n",
              "    }\n",
              "\n",
              "    .dataframe thead th {\n",
              "        text-align: right;\n",
              "    }\n",
              "</style>\n",
              "<table border=\"1\" class=\"dataframe\">\n",
              "  <thead>\n",
              "    <tr style=\"text-align: right;\">\n",
              "      <th></th>\n",
              "      <th>userId</th>\n",
              "      <th>movieId</th>\n",
              "      <th>rating</th>\n",
              "      <th>timestamp</th>\n",
              "    </tr>\n",
              "  </thead>\n",
              "  <tbody>\n",
              "    <tr>\n",
              "      <th>0</th>\n",
              "      <td>1</td>\n",
              "      <td>31</td>\n",
              "      <td>2.5</td>\n",
              "      <td>1260759144</td>\n",
              "    </tr>\n",
              "    <tr>\n",
              "      <th>1</th>\n",
              "      <td>1</td>\n",
              "      <td>1029</td>\n",
              "      <td>3.0</td>\n",
              "      <td>1260759179</td>\n",
              "    </tr>\n",
              "    <tr>\n",
              "      <th>2</th>\n",
              "      <td>1</td>\n",
              "      <td>1061</td>\n",
              "      <td>3.0</td>\n",
              "      <td>1260759182</td>\n",
              "    </tr>\n",
              "    <tr>\n",
              "      <th>3</th>\n",
              "      <td>1</td>\n",
              "      <td>1129</td>\n",
              "      <td>2.0</td>\n",
              "      <td>1260759185</td>\n",
              "    </tr>\n",
              "    <tr>\n",
              "      <th>4</th>\n",
              "      <td>1</td>\n",
              "      <td>1172</td>\n",
              "      <td>4.0</td>\n",
              "      <td>1260759205</td>\n",
              "    </tr>\n",
              "  </tbody>\n",
              "</table>\n",
              "</div>"
            ],
            "text/plain": [
              "   userId  movieId  rating   timestamp\n",
              "0       1       31     2.5  1260759144\n",
              "1       1     1029     3.0  1260759179\n",
              "2       1     1061     3.0  1260759182\n",
              "3       1     1129     2.0  1260759185\n",
              "4       1     1172     4.0  1260759205"
            ]
          },
          "metadata": {
            "tags": []
          },
          "execution_count": 37
        }
      ]
    },
    {
      "cell_type": "code",
      "metadata": {
        "id": "TxLOZbgajzup",
        "colab_type": "code",
        "colab": {
          "base_uri": "https://localhost:8080/",
          "height": 35
        },
        "outputId": "164a9ad9-5835-41a4-c45c-9565d5ea79db"
      },
      "source": [
        "data = Dataset.load_from_df(ratings[['userId', 'movieId', 'rating']], reader)\n",
        "from surprise.model_selection import KFold\n",
        "kf = KFold(n_splits=5)\n",
        "kf.split(data)"
      ],
      "execution_count": null,
      "outputs": [
        {
          "output_type": "execute_result",
          "data": {
            "text/plain": [
              "<generator object KFold.split at 0x7fa743ff25c8>"
            ]
          },
          "metadata": {
            "tags": []
          },
          "execution_count": 38
        }
      ]
    },
    {
      "cell_type": "code",
      "metadata": {
        "id": "UEbs_RBXjzur",
        "colab_type": "code",
        "colab": {
          "base_uri": "https://localhost:8080/",
          "height": 230
        },
        "outputId": "ecdd946b-96d4-4e7f-83a6-30b306197a4c"
      },
      "source": [
        "svd = SVD()\n",
        "cross_validate(svd, data, measures=['RMSE', 'MAE'])"
      ],
      "execution_count": null,
      "outputs": [
        {
          "output_type": "execute_result",
          "data": {
            "text/plain": [
              "{'fit_time': (4.605312347412109,\n",
              "  4.59843897819519,\n",
              "  4.5615479946136475,\n",
              "  4.606761455535889,\n",
              "  4.594202041625977),\n",
              " 'test_mae': array([0.69138548, 0.68982983, 0.69629392, 0.68958017, 0.68494708]),\n",
              " 'test_rmse': array([0.89690039, 0.89855754, 0.90322069, 0.89506992, 0.88948517]),\n",
              " 'test_time': (0.1451709270477295,\n",
              "  0.2210252285003662,\n",
              "  0.13037848472595215,\n",
              "  0.22027587890625,\n",
              "  0.12544775009155273)}"
            ]
          },
          "metadata": {
            "tags": []
          },
          "execution_count": 39
        }
      ]
    },
    {
      "cell_type": "markdown",
      "metadata": {
        "id": "NGe045JLjzut",
        "colab_type": "text"
      },
      "source": [
        "Obtenemos un **error cuadrático medio** de alrededor de 0.8965 que es más que suficiente en este momento. Ahora entrenemos en el conjunto de datos y lleguemos a las predicciones."
      ]
    },
    {
      "cell_type": "code",
      "metadata": {
        "id": "Ht_Z0RO8jzut",
        "colab_type": "code",
        "colab": {
          "base_uri": "https://localhost:8080/",
          "height": 35
        },
        "outputId": "341c1498-663e-4dda-fc28-5385ecedc450"
      },
      "source": [
        "trainset = data.build_full_trainset()\n",
        "svd.fit(trainset)"
      ],
      "execution_count": null,
      "outputs": [
        {
          "output_type": "execute_result",
          "data": {
            "text/plain": [
              "<surprise.prediction_algorithms.matrix_factorization.SVD at 0x7fa743858470>"
            ]
          },
          "metadata": {
            "tags": []
          },
          "execution_count": 40
        }
      ]
    },
    {
      "cell_type": "markdown",
      "metadata": {
        "id": "_2cVGhx5jzuv",
        "colab_type": "text"
      },
      "source": [
        "Seleccionemos el usuario 1 y verifiquemos las calificaciones que ha otorgado.\n",
        "\n"
      ]
    },
    {
      "cell_type": "code",
      "metadata": {
        "id": "5a1Xjs5jjzuv",
        "colab_type": "code",
        "colab": {
          "base_uri": "https://localhost:8080/",
          "height": 634
        },
        "outputId": "008a9a05-66ca-4d97-e199-071892adc64c"
      },
      "source": [
        "ratings[ratings['userId'] == 1]"
      ],
      "execution_count": null,
      "outputs": [
        {
          "output_type": "execute_result",
          "data": {
            "text/html": [
              "<div>\n",
              "<style scoped>\n",
              "    .dataframe tbody tr th:only-of-type {\n",
              "        vertical-align: middle;\n",
              "    }\n",
              "\n",
              "    .dataframe tbody tr th {\n",
              "        vertical-align: top;\n",
              "    }\n",
              "\n",
              "    .dataframe thead th {\n",
              "        text-align: right;\n",
              "    }\n",
              "</style>\n",
              "<table border=\"1\" class=\"dataframe\">\n",
              "  <thead>\n",
              "    <tr style=\"text-align: right;\">\n",
              "      <th></th>\n",
              "      <th>userId</th>\n",
              "      <th>movieId</th>\n",
              "      <th>rating</th>\n",
              "      <th>timestamp</th>\n",
              "    </tr>\n",
              "  </thead>\n",
              "  <tbody>\n",
              "    <tr>\n",
              "      <th>0</th>\n",
              "      <td>1</td>\n",
              "      <td>31</td>\n",
              "      <td>2.5</td>\n",
              "      <td>1260759144</td>\n",
              "    </tr>\n",
              "    <tr>\n",
              "      <th>1</th>\n",
              "      <td>1</td>\n",
              "      <td>1029</td>\n",
              "      <td>3.0</td>\n",
              "      <td>1260759179</td>\n",
              "    </tr>\n",
              "    <tr>\n",
              "      <th>2</th>\n",
              "      <td>1</td>\n",
              "      <td>1061</td>\n",
              "      <td>3.0</td>\n",
              "      <td>1260759182</td>\n",
              "    </tr>\n",
              "    <tr>\n",
              "      <th>3</th>\n",
              "      <td>1</td>\n",
              "      <td>1129</td>\n",
              "      <td>2.0</td>\n",
              "      <td>1260759185</td>\n",
              "    </tr>\n",
              "    <tr>\n",
              "      <th>4</th>\n",
              "      <td>1</td>\n",
              "      <td>1172</td>\n",
              "      <td>4.0</td>\n",
              "      <td>1260759205</td>\n",
              "    </tr>\n",
              "    <tr>\n",
              "      <th>5</th>\n",
              "      <td>1</td>\n",
              "      <td>1263</td>\n",
              "      <td>2.0</td>\n",
              "      <td>1260759151</td>\n",
              "    </tr>\n",
              "    <tr>\n",
              "      <th>6</th>\n",
              "      <td>1</td>\n",
              "      <td>1287</td>\n",
              "      <td>2.0</td>\n",
              "      <td>1260759187</td>\n",
              "    </tr>\n",
              "    <tr>\n",
              "      <th>7</th>\n",
              "      <td>1</td>\n",
              "      <td>1293</td>\n",
              "      <td>2.0</td>\n",
              "      <td>1260759148</td>\n",
              "    </tr>\n",
              "    <tr>\n",
              "      <th>8</th>\n",
              "      <td>1</td>\n",
              "      <td>1339</td>\n",
              "      <td>3.5</td>\n",
              "      <td>1260759125</td>\n",
              "    </tr>\n",
              "    <tr>\n",
              "      <th>9</th>\n",
              "      <td>1</td>\n",
              "      <td>1343</td>\n",
              "      <td>2.0</td>\n",
              "      <td>1260759131</td>\n",
              "    </tr>\n",
              "    <tr>\n",
              "      <th>10</th>\n",
              "      <td>1</td>\n",
              "      <td>1371</td>\n",
              "      <td>2.5</td>\n",
              "      <td>1260759135</td>\n",
              "    </tr>\n",
              "    <tr>\n",
              "      <th>11</th>\n",
              "      <td>1</td>\n",
              "      <td>1405</td>\n",
              "      <td>1.0</td>\n",
              "      <td>1260759203</td>\n",
              "    </tr>\n",
              "    <tr>\n",
              "      <th>12</th>\n",
              "      <td>1</td>\n",
              "      <td>1953</td>\n",
              "      <td>4.0</td>\n",
              "      <td>1260759191</td>\n",
              "    </tr>\n",
              "    <tr>\n",
              "      <th>13</th>\n",
              "      <td>1</td>\n",
              "      <td>2105</td>\n",
              "      <td>4.0</td>\n",
              "      <td>1260759139</td>\n",
              "    </tr>\n",
              "    <tr>\n",
              "      <th>14</th>\n",
              "      <td>1</td>\n",
              "      <td>2150</td>\n",
              "      <td>3.0</td>\n",
              "      <td>1260759194</td>\n",
              "    </tr>\n",
              "    <tr>\n",
              "      <th>15</th>\n",
              "      <td>1</td>\n",
              "      <td>2193</td>\n",
              "      <td>2.0</td>\n",
              "      <td>1260759198</td>\n",
              "    </tr>\n",
              "    <tr>\n",
              "      <th>16</th>\n",
              "      <td>1</td>\n",
              "      <td>2294</td>\n",
              "      <td>2.0</td>\n",
              "      <td>1260759108</td>\n",
              "    </tr>\n",
              "    <tr>\n",
              "      <th>17</th>\n",
              "      <td>1</td>\n",
              "      <td>2455</td>\n",
              "      <td>2.5</td>\n",
              "      <td>1260759113</td>\n",
              "    </tr>\n",
              "    <tr>\n",
              "      <th>18</th>\n",
              "      <td>1</td>\n",
              "      <td>2968</td>\n",
              "      <td>1.0</td>\n",
              "      <td>1260759200</td>\n",
              "    </tr>\n",
              "    <tr>\n",
              "      <th>19</th>\n",
              "      <td>1</td>\n",
              "      <td>3671</td>\n",
              "      <td>3.0</td>\n",
              "      <td>1260759117</td>\n",
              "    </tr>\n",
              "  </tbody>\n",
              "</table>\n",
              "</div>"
            ],
            "text/plain": [
              "    userId  movieId  rating   timestamp\n",
              "0        1       31     2.5  1260759144\n",
              "1        1     1029     3.0  1260759179\n",
              "2        1     1061     3.0  1260759182\n",
              "3        1     1129     2.0  1260759185\n",
              "4        1     1172     4.0  1260759205\n",
              "5        1     1263     2.0  1260759151\n",
              "6        1     1287     2.0  1260759187\n",
              "7        1     1293     2.0  1260759148\n",
              "8        1     1339     3.5  1260759125\n",
              "9        1     1343     2.0  1260759131\n",
              "10       1     1371     2.5  1260759135\n",
              "11       1     1405     1.0  1260759203\n",
              "12       1     1953     4.0  1260759191\n",
              "13       1     2105     4.0  1260759139\n",
              "14       1     2150     3.0  1260759194\n",
              "15       1     2193     2.0  1260759198\n",
              "16       1     2294     2.0  1260759108\n",
              "17       1     2455     2.5  1260759113\n",
              "18       1     2968     1.0  1260759200\n",
              "19       1     3671     3.0  1260759117"
            ]
          },
          "metadata": {
            "tags": []
          },
          "execution_count": 41
        }
      ]
    },
    {
      "cell_type": "code",
      "metadata": {
        "id": "6hWBIS26jzux",
        "colab_type": "code",
        "colab": {
          "base_uri": "https://localhost:8080/",
          "height": 35
        },
        "outputId": "116ededd-7055-4e75-b2cb-74504ae3c5bf"
      },
      "source": [
        "svd.predict(1, 302, 3)"
      ],
      "execution_count": null,
      "outputs": [
        {
          "output_type": "execute_result",
          "data": {
            "text/plain": [
              "Prediction(uid=1, iid=302, r_ui=3, est=2.8511903403434813, details={'was_impossible': False})"
            ]
          },
          "metadata": {
            "tags": []
          },
          "execution_count": 42
        }
      ]
    },
    {
      "cell_type": "markdown",
      "metadata": {
        "id": "UQOSS_hujzuy",
        "colab_type": "text"
      },
      "source": [
        "Para películas con ID 302, obtenemos una predicción estimada de **2.74**. Una característica sorprendente de este sistema de recomendación es que no le importa qué es la película (o qué contiene). Funciona únicamente sobre la base de una ID de película asignada e intenta predecir las clasificaciones en función de cómo los otros usuarios han predicho la película"
      ]
    },
    {
      "cell_type": "markdown",
      "metadata": {
        "id": "wa_TMnOnjzu1",
        "colab_type": "text"
      },
      "source": [
        "## **Sistema de recomendación combinada**"
      ]
    },
    {
      "cell_type": "markdown",
      "metadata": {
        "id": "8hw6JSn2jzu1",
        "colab_type": "text"
      },
      "source": [
        "Creamos un simple recomendador híbrido que reúne las técnicas que hemos implementado en los motores basados ​​en contenido y basados ​​en filtros colaborativos. Así es como funcionará:\n",
        "\n",
        "* **Entrada:** ID de usuario y el título de una película\n",
        "* **Salida:** Películas similares ordenadas según las calificaciones esperadas por ese usuario en particular."
      ]
    },
    {
      "cell_type": "code",
      "metadata": {
        "id": "40o6GVsRjzu1",
        "colab_type": "code",
        "colab": {}
      },
      "source": [
        "def convert_int(x):\n",
        "    try:\n",
        "        return int(x)\n",
        "    except:\n",
        "        return np.nan"
      ],
      "execution_count": null,
      "outputs": []
    },
    {
      "cell_type": "code",
      "metadata": {
        "id": "Xw7MePSzjzu3",
        "colab_type": "code",
        "colab": {}
      },
      "source": [
        "url = 'https://raw.githubusercontent.com/JBrianAlicorp/Business-Analytics/master/links_small.csv'\n",
        "small_mdf = pd.read_csv(url,encoding='latin1')\n",
        "id_map = small_mdf[['movieId', 'tmdbId']]\n",
        "id_map['tmdbId'] = id_map['tmdbId'].apply(convert_int)\n",
        "id_map.columns = ['movieId', 'id']\n",
        "id_map = id_map.merge(sm_df[['title', 'id']], on='id').set_index('title')\n",
        "#id_map = id_map.set_index('tmdbId')"
      ],
      "execution_count": null,
      "outputs": []
    },
    {
      "cell_type": "code",
      "metadata": {
        "id": "CZ5QJN7Djzu6",
        "colab_type": "code",
        "colab": {}
      },
      "source": [
        "indices_map = id_map.set_index('id')"
      ],
      "execution_count": null,
      "outputs": []
    },
    {
      "cell_type": "code",
      "metadata": {
        "id": "pgXrxpihjzu8",
        "colab_type": "code",
        "colab": {}
      },
      "source": [
        "def hybrid(userId, title):\n",
        "    idx = indices[title]\n",
        "    tmdbId = id_map.loc[title]['id']\n",
        "    #print(idx)\n",
        "    movie_id = id_map.loc[title]['movieId']\n",
        "    \n",
        "    sim_scores = list(enumerate(cosine_sim[int(idx)]))\n",
        "    sim_scores = sorted(sim_scores, key=lambda x: x[1], reverse=True)\n",
        "    sim_scores = sim_scores[1:26]\n",
        "    movie_indices = [i[0] for i in sim_scores]\n",
        "    \n",
        "    movies = sm_df.iloc[movie_indices][['title', 'vote_count', 'vote_average', 'id']]\n",
        "    movies['est'] = movies['id'].apply(lambda x: svd.predict(userId, indices_map.loc[x]['movieId']).est)\n",
        "    movies = movies.sort_values('est', ascending=False)\n",
        "    return movies.head(10)"
      ],
      "execution_count": null,
      "outputs": []
    },
    {
      "cell_type": "code",
      "metadata": {
        "id": "C10X6Ctpjzu-",
        "colab_type": "code",
        "colab": {
          "base_uri": "https://localhost:8080/",
          "height": 340
        },
        "outputId": "930823d1-530f-4f5a-c530-6e645eb09727"
      },
      "source": [
        "hybrid(1, 'Avatar')"
      ],
      "execution_count": null,
      "outputs": [
        {
          "output_type": "execute_result",
          "data": {
            "text/html": [
              "<div>\n",
              "<style scoped>\n",
              "    .dataframe tbody tr th:only-of-type {\n",
              "        vertical-align: middle;\n",
              "    }\n",
              "\n",
              "    .dataframe tbody tr th {\n",
              "        vertical-align: top;\n",
              "    }\n",
              "\n",
              "    .dataframe thead th {\n",
              "        text-align: right;\n",
              "    }\n",
              "</style>\n",
              "<table border=\"1\" class=\"dataframe\">\n",
              "  <thead>\n",
              "    <tr style=\"text-align: right;\">\n",
              "      <th></th>\n",
              "      <th>title</th>\n",
              "      <th>vote_count</th>\n",
              "      <th>vote_average</th>\n",
              "      <th>id</th>\n",
              "      <th>est</th>\n",
              "    </tr>\n",
              "  </thead>\n",
              "  <tbody>\n",
              "    <tr>\n",
              "      <th>324</th>\n",
              "      <td>Harry Potter and the Deathly Hallows: Part 2</td>\n",
              "      <td>6141.0</td>\n",
              "      <td>7.9</td>\n",
              "      <td>12445</td>\n",
              "      <td>3.381820</td>\n",
              "    </tr>\n",
              "    <tr>\n",
              "      <th>403</th>\n",
              "      <td>Captain America: The Winter Soldier</td>\n",
              "      <td>5881.0</td>\n",
              "      <td>7.6</td>\n",
              "      <td>100402</td>\n",
              "      <td>3.191784</td>\n",
              "    </tr>\n",
              "    <tr>\n",
              "      <th>30</th>\n",
              "      <td>Alien</td>\n",
              "      <td>4564.0</td>\n",
              "      <td>7.9</td>\n",
              "      <td>348</td>\n",
              "      <td>2.924754</td>\n",
              "    </tr>\n",
              "    <tr>\n",
              "      <th>271</th>\n",
              "      <td>Alvin and the Chipmunks: The Squeakquel</td>\n",
              "      <td>688.0</td>\n",
              "      <td>5.3</td>\n",
              "      <td>23398</td>\n",
              "      <td>2.850663</td>\n",
              "    </tr>\n",
              "    <tr>\n",
              "      <th>329</th>\n",
              "      <td>A Very Harold &amp; Kumar Christmas</td>\n",
              "      <td>335.0</td>\n",
              "      <td>6.0</td>\n",
              "      <td>55465</td>\n",
              "      <td>2.770786</td>\n",
              "    </tr>\n",
              "    <tr>\n",
              "      <th>347</th>\n",
              "      <td>Journey 2: The Mysterious Island</td>\n",
              "      <td>1050.0</td>\n",
              "      <td>5.8</td>\n",
              "      <td>72545</td>\n",
              "      <td>2.741988</td>\n",
              "    </tr>\n",
              "    <tr>\n",
              "      <th>366</th>\n",
              "      <td>Piranha 3DD</td>\n",
              "      <td>319.0</td>\n",
              "      <td>4.1</td>\n",
              "      <td>71668</td>\n",
              "      <td>2.690870</td>\n",
              "    </tr>\n",
              "    <tr>\n",
              "      <th>291</th>\n",
              "      <td>Piranha 3D</td>\n",
              "      <td>599.0</td>\n",
              "      <td>5.3</td>\n",
              "      <td>43593</td>\n",
              "      <td>2.630086</td>\n",
              "    </tr>\n",
              "    <tr>\n",
              "      <th>442</th>\n",
              "      <td>The Hunger Games: Mockingjay - Part 2</td>\n",
              "      <td>4117.0</td>\n",
              "      <td>6.6</td>\n",
              "      <td>131634</td>\n",
              "      <td>2.622316</td>\n",
              "    </tr>\n",
              "    <tr>\n",
              "      <th>243</th>\n",
              "      <td>My Bloody Valentine</td>\n",
              "      <td>303.0</td>\n",
              "      <td>5.3</td>\n",
              "      <td>14435</td>\n",
              "      <td>2.582299</td>\n",
              "    </tr>\n",
              "  </tbody>\n",
              "</table>\n",
              "</div>"
            ],
            "text/plain": [
              "                                            title  vote_count  vote_average  \\\n",
              "324  Harry Potter and the Deathly Hallows: Part 2      6141.0           7.9   \n",
              "403           Captain America: The Winter Soldier      5881.0           7.6   \n",
              "30                                          Alien      4564.0           7.9   \n",
              "271       Alvin and the Chipmunks: The Squeakquel       688.0           5.3   \n",
              "329               A Very Harold & Kumar Christmas       335.0           6.0   \n",
              "347              Journey 2: The Mysterious Island      1050.0           5.8   \n",
              "366                                   Piranha 3DD       319.0           4.1   \n",
              "291                                    Piranha 3D       599.0           5.3   \n",
              "442         The Hunger Games: Mockingjay - Part 2      4117.0           6.6   \n",
              "243                           My Bloody Valentine       303.0           5.3   \n",
              "\n",
              "         id       est  \n",
              "324   12445  3.381820  \n",
              "403  100402  3.191784  \n",
              "30      348  2.924754  \n",
              "271   23398  2.850663  \n",
              "329   55465  2.770786  \n",
              "347   72545  2.741988  \n",
              "366   71668  2.690870  \n",
              "291   43593  2.630086  \n",
              "442  131634  2.622316  \n",
              "243   14435  2.582299  "
            ]
          },
          "metadata": {
            "tags": []
          },
          "execution_count": 47
        }
      ]
    },
    {
      "cell_type": "code",
      "metadata": {
        "id": "Z-mTFa_qjzvA",
        "colab_type": "code",
        "colab": {
          "base_uri": "https://localhost:8080/",
          "height": 340
        },
        "outputId": "7cdd07ee-06c7-429b-ca3a-9e91a91de0c8"
      },
      "source": [
        "hybrid(500, 'Avatar')"
      ],
      "execution_count": null,
      "outputs": [
        {
          "output_type": "execute_result",
          "data": {
            "text/html": [
              "<div>\n",
              "<style scoped>\n",
              "    .dataframe tbody tr th:only-of-type {\n",
              "        vertical-align: middle;\n",
              "    }\n",
              "\n",
              "    .dataframe tbody tr th {\n",
              "        vertical-align: top;\n",
              "    }\n",
              "\n",
              "    .dataframe thead th {\n",
              "        text-align: right;\n",
              "    }\n",
              "</style>\n",
              "<table border=\"1\" class=\"dataframe\">\n",
              "  <thead>\n",
              "    <tr style=\"text-align: right;\">\n",
              "      <th></th>\n",
              "      <th>title</th>\n",
              "      <th>vote_count</th>\n",
              "      <th>vote_average</th>\n",
              "      <th>id</th>\n",
              "      <th>est</th>\n",
              "    </tr>\n",
              "  </thead>\n",
              "  <tbody>\n",
              "    <tr>\n",
              "      <th>324</th>\n",
              "      <td>Harry Potter and the Deathly Hallows: Part 2</td>\n",
              "      <td>6141.0</td>\n",
              "      <td>7.9</td>\n",
              "      <td>12445</td>\n",
              "      <td>3.606442</td>\n",
              "    </tr>\n",
              "    <tr>\n",
              "      <th>393</th>\n",
              "      <td>Riddick</td>\n",
              "      <td>2066.0</td>\n",
              "      <td>6.2</td>\n",
              "      <td>87421</td>\n",
              "      <td>3.453597</td>\n",
              "    </tr>\n",
              "    <tr>\n",
              "      <th>347</th>\n",
              "      <td>Journey 2: The Mysterious Island</td>\n",
              "      <td>1050.0</td>\n",
              "      <td>5.8</td>\n",
              "      <td>72545</td>\n",
              "      <td>3.244327</td>\n",
              "    </tr>\n",
              "    <tr>\n",
              "      <th>360</th>\n",
              "      <td>Prometheus</td>\n",
              "      <td>5152.0</td>\n",
              "      <td>6.3</td>\n",
              "      <td>70981</td>\n",
              "      <td>3.152952</td>\n",
              "    </tr>\n",
              "    <tr>\n",
              "      <th>217</th>\n",
              "      <td>Aliens vs Predator: Requiem</td>\n",
              "      <td>758.0</td>\n",
              "      <td>4.9</td>\n",
              "      <td>440</td>\n",
              "      <td>3.145095</td>\n",
              "    </tr>\n",
              "    <tr>\n",
              "      <th>291</th>\n",
              "      <td>Piranha 3D</td>\n",
              "      <td>599.0</td>\n",
              "      <td>5.3</td>\n",
              "      <td>43593</td>\n",
              "      <td>3.129854</td>\n",
              "    </tr>\n",
              "    <tr>\n",
              "      <th>389</th>\n",
              "      <td>Percy Jackson: Sea of Monsters</td>\n",
              "      <td>1685.0</td>\n",
              "      <td>5.9</td>\n",
              "      <td>76285</td>\n",
              "      <td>3.099430</td>\n",
              "    </tr>\n",
              "    <tr>\n",
              "      <th>366</th>\n",
              "      <td>Piranha 3DD</td>\n",
              "      <td>319.0</td>\n",
              "      <td>4.1</td>\n",
              "      <td>71668</td>\n",
              "      <td>3.061531</td>\n",
              "    </tr>\n",
              "    <tr>\n",
              "      <th>403</th>\n",
              "      <td>Captain America: The Winter Soldier</td>\n",
              "      <td>5881.0</td>\n",
              "      <td>7.6</td>\n",
              "      <td>100402</td>\n",
              "      <td>3.043339</td>\n",
              "    </tr>\n",
              "    <tr>\n",
              "      <th>442</th>\n",
              "      <td>The Hunger Games: Mockingjay - Part 2</td>\n",
              "      <td>4117.0</td>\n",
              "      <td>6.6</td>\n",
              "      <td>131634</td>\n",
              "      <td>3.018635</td>\n",
              "    </tr>\n",
              "  </tbody>\n",
              "</table>\n",
              "</div>"
            ],
            "text/plain": [
              "                                            title  vote_count  vote_average  \\\n",
              "324  Harry Potter and the Deathly Hallows: Part 2      6141.0           7.9   \n",
              "393                                       Riddick      2066.0           6.2   \n",
              "347              Journey 2: The Mysterious Island      1050.0           5.8   \n",
              "360                                    Prometheus      5152.0           6.3   \n",
              "217                   Aliens vs Predator: Requiem       758.0           4.9   \n",
              "291                                    Piranha 3D       599.0           5.3   \n",
              "389                Percy Jackson: Sea of Monsters      1685.0           5.9   \n",
              "366                                   Piranha 3DD       319.0           4.1   \n",
              "403           Captain America: The Winter Soldier      5881.0           7.6   \n",
              "442         The Hunger Games: Mockingjay - Part 2      4117.0           6.6   \n",
              "\n",
              "         id       est  \n",
              "324   12445  3.606442  \n",
              "393   87421  3.453597  \n",
              "347   72545  3.244327  \n",
              "360   70981  3.152952  \n",
              "217     440  3.145095  \n",
              "291   43593  3.129854  \n",
              "389   76285  3.099430  \n",
              "366   71668  3.061531  \n",
              "403  100402  3.043339  \n",
              "442  131634  3.018635  "
            ]
          },
          "metadata": {
            "tags": []
          },
          "execution_count": 48
        }
      ]
    },
    {
      "cell_type": "markdown",
      "metadata": {
        "id": "kCMuoTGVjzvC",
        "colab_type": "text"
      },
      "source": [
        "Vemos que para nuestro recomendante híbrido, obtenemos diferentes recomendaciones para diferentes usuarios, aunque la película es la misma. Por lo tanto, nuestras recomendaciones son más personalizadas y personalizadas para usuarios particulares."
      ]
    },
    {
      "cell_type": "markdown",
      "metadata": {
        "id": "-VsBGFYTjzvC",
        "colab_type": "text"
      },
      "source": [
        "\n",
        "## **Conclusión**\n",
        "\n",
        "En este notebook hemos construido 3 motores de recomendación diferentes basados ​​en diferentes ideas y algoritmos. Son los siguientes:\n",
        "\n",
        "1. **Recomendador basado en contenido:** Construimos dos motores basados ​​en contenido; uno que tomó la visión general de la película y los lemas como entrada y el otro que tomó metadatos como las palabras clave para elaborar predicciones. También utilizamos un filtro simple para dar mayor preferencia a las películas con más votos y calificaciones más altas.\n",
        "2. **Filtrado colaborativo:** Utilizamos la poderosa Biblioteca Surprise para construir un filtro colaborativo basado en la descomposición de un solo valor. El RMSE obtenido fue inferior a 1 y el motor dio clasificaciones estimadas para un usuario y una película determinados.\n",
        "3. **Motor híbrido:** Reunimos ideas del contenido y el filtrado colaborativo para crear un motor que ofreciera sugerencias de películas a un usuario en particular en función de las clasificaciones estimadas que había calculado internamente para ese usuario.\n"
      ]
    }
  ]
}