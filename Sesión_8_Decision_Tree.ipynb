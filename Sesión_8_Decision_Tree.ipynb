{
  "nbformat": 4,
  "nbformat_minor": 0,
  "metadata": {
    "kernelspec": {
      "display_name": "Python 3",
      "language": "python",
      "name": "python3"
    },
    "language_info": {
      "codemirror_mode": {
        "name": "ipython",
        "version": 3
      },
      "file_extension": ".py",
      "mimetype": "text/x-python",
      "name": "python",
      "nbconvert_exporter": "python",
      "pygments_lexer": "ipython3",
      "version": "3.6.4"
    },
    "colab": {
      "name": "Sesión 8: Decision Tree",
      "provenance": [],
      "collapsed_sections": [],
      "include_colab_link": true
    }
  },
  "cells": [
    {
      "cell_type": "markdown",
      "metadata": {
        "id": "view-in-github",
        "colab_type": "text"
      },
      "source": [
        "<a href=\"https://colab.research.google.com/github/JLaura011/Business-Analytics/blob/master/Sesi%C3%B3n_8_Decision_Tree.ipynb\" target=\"_parent\"><img src=\"https://colab.research.google.com/assets/colab-badge.svg\" alt=\"Open In Colab\"/></a>"
      ]
    },
    {
      "cell_type": "markdown",
      "metadata": {
        "_cell_guid": "e033a865-17a2-466a-8cde-a39cc6752deb",
        "_uuid": "c9e2806b423b6385a8d876545ab668324b6bb451",
        "id": "-SkLfichvJNW",
        "colab_type": "text"
      },
      "source": [
        "#**Sesión 8: Decision Tree**\n",
        "\n",
        "\n",
        "\n",
        "<img src=\"https://www.grupolambda.com.pe/wp-content/uploads/2020/03/home-logo.png\" alt=\"drawing\" width=\"300\"/>\n",
        "<br>\n",
        "\n",
        " ##### Docente: Jorge Brian Alarcon Flores "
      ]
    },
    {
      "cell_type": "markdown",
      "metadata": {
        "id": "quwm-BJY0BCa",
        "colab_type": "text"
      },
      "source": [
        "##**CASO 1**"
      ]
    },
    {
      "cell_type": "markdown",
      "metadata": {
        "_cell_guid": "459ad1ed-0e10-4dd1-a4f1-893ba5368175",
        "_uuid": "08bb7d7c3677ca15a39a3569cef5d2071e9b015e",
        "id": "PwE_SR_zvJNX",
        "colab_type": "text"
      },
      "source": [
        "\n",
        "## Objetivo:\n",
        "El objetivo de este intento es predecir si el cliente se suscribirá (sí / no) a un depósito a plazo, mediante la construcción de un modelo de clasificación utilizando el Árbol de decisión."
      ]
    },
    {
      "cell_type": "code",
      "metadata": {
        "_cell_guid": "9e92f1a3-3e81-4ec6-a567-890827b0555c",
        "_uuid": "e5338e8c3fa6dc8f410d8b868aa78cb54621780b",
        "id": "1x9R7OIEvJNY",
        "colab_type": "code",
        "colab": {
          "base_uri": "https://localhost:8080/",
          "height": 72
        },
        "outputId": "42f5efcc-dbf5-4ad8-fbad-35fe0b181743"
      },
      "source": [
        "import pandas as pd\n",
        "import numpy as np\n",
        "import matplotlib.pyplot as plt\n",
        "import seaborn as sns\n",
        "from sklearn.cluster import KMeans\n",
        "from sklearn import datasets\n",
        "from io import StringIO\n",
        "from sklearn.tree import export_graphviz\n",
        "from sklearn.model_selection import train_test_split\n",
        "from sklearn import tree\n",
        "from sklearn import metrics\n",
        "%matplotlib inline"
      ],
      "execution_count": null,
      "outputs": [
        {
          "output_type": "stream",
          "text": [
            "/usr/local/lib/python3.6/dist-packages/statsmodels/tools/_testing.py:19: FutureWarning: pandas.util.testing is deprecated. Use the functions in the public API at pandas.testing instead.\n",
            "  import pandas.util.testing as tm\n"
          ],
          "name": "stderr"
        }
      ]
    },
    {
      "cell_type": "code",
      "metadata": {
        "_cell_guid": "52a87df3-04c2-4515-994a-9a3d0b85d3c3",
        "_uuid": "9700cff3c818070f8f202bc964e2a5ffc8c72aa5",
        "collapsed": true,
        "id": "4zswZXlpvJNe",
        "colab_type": "code",
        "colab": {
          "base_uri": "https://localhost:8080/",
          "height": 202
        },
        "outputId": "bce48bbb-cf05-4ac6-8c1c-4477477a4d42"
      },
      "source": [
        "#Importamos la data\n",
        "url = 'https://raw.githubusercontent.com/JBrianAlicorp/Business-Analytics/master/bank.csv'\n",
        "bank = pd.read_csv(url,encoding='latin1')\n",
        "bank.head()"
      ],
      "execution_count": null,
      "outputs": [
        {
          "output_type": "execute_result",
          "data": {
            "text/html": [
              "<div>\n",
              "<style scoped>\n",
              "    .dataframe tbody tr th:only-of-type {\n",
              "        vertical-align: middle;\n",
              "    }\n",
              "\n",
              "    .dataframe tbody tr th {\n",
              "        vertical-align: top;\n",
              "    }\n",
              "\n",
              "    .dataframe thead th {\n",
              "        text-align: right;\n",
              "    }\n",
              "</style>\n",
              "<table border=\"1\" class=\"dataframe\">\n",
              "  <thead>\n",
              "    <tr style=\"text-align: right;\">\n",
              "      <th></th>\n",
              "      <th>age</th>\n",
              "      <th>job</th>\n",
              "      <th>marital</th>\n",
              "      <th>education</th>\n",
              "      <th>default</th>\n",
              "      <th>balance</th>\n",
              "      <th>housing</th>\n",
              "      <th>loan</th>\n",
              "      <th>contact</th>\n",
              "      <th>day</th>\n",
              "      <th>month</th>\n",
              "      <th>duration</th>\n",
              "      <th>campaign</th>\n",
              "      <th>pdays</th>\n",
              "      <th>previous</th>\n",
              "      <th>poutcome</th>\n",
              "      <th>deposit</th>\n",
              "    </tr>\n",
              "  </thead>\n",
              "  <tbody>\n",
              "    <tr>\n",
              "      <th>0</th>\n",
              "      <td>59</td>\n",
              "      <td>admin.</td>\n",
              "      <td>married</td>\n",
              "      <td>secondary</td>\n",
              "      <td>no</td>\n",
              "      <td>2343</td>\n",
              "      <td>yes</td>\n",
              "      <td>no</td>\n",
              "      <td>unknown</td>\n",
              "      <td>5</td>\n",
              "      <td>may</td>\n",
              "      <td>1042</td>\n",
              "      <td>1</td>\n",
              "      <td>-1</td>\n",
              "      <td>0</td>\n",
              "      <td>unknown</td>\n",
              "      <td>yes</td>\n",
              "    </tr>\n",
              "    <tr>\n",
              "      <th>1</th>\n",
              "      <td>56</td>\n",
              "      <td>admin.</td>\n",
              "      <td>married</td>\n",
              "      <td>secondary</td>\n",
              "      <td>no</td>\n",
              "      <td>45</td>\n",
              "      <td>no</td>\n",
              "      <td>no</td>\n",
              "      <td>unknown</td>\n",
              "      <td>5</td>\n",
              "      <td>may</td>\n",
              "      <td>1467</td>\n",
              "      <td>1</td>\n",
              "      <td>-1</td>\n",
              "      <td>0</td>\n",
              "      <td>unknown</td>\n",
              "      <td>yes</td>\n",
              "    </tr>\n",
              "    <tr>\n",
              "      <th>2</th>\n",
              "      <td>41</td>\n",
              "      <td>technician</td>\n",
              "      <td>married</td>\n",
              "      <td>secondary</td>\n",
              "      <td>no</td>\n",
              "      <td>1270</td>\n",
              "      <td>yes</td>\n",
              "      <td>no</td>\n",
              "      <td>unknown</td>\n",
              "      <td>5</td>\n",
              "      <td>may</td>\n",
              "      <td>1389</td>\n",
              "      <td>1</td>\n",
              "      <td>-1</td>\n",
              "      <td>0</td>\n",
              "      <td>unknown</td>\n",
              "      <td>yes</td>\n",
              "    </tr>\n",
              "    <tr>\n",
              "      <th>3</th>\n",
              "      <td>55</td>\n",
              "      <td>services</td>\n",
              "      <td>married</td>\n",
              "      <td>secondary</td>\n",
              "      <td>no</td>\n",
              "      <td>2476</td>\n",
              "      <td>yes</td>\n",
              "      <td>no</td>\n",
              "      <td>unknown</td>\n",
              "      <td>5</td>\n",
              "      <td>may</td>\n",
              "      <td>579</td>\n",
              "      <td>1</td>\n",
              "      <td>-1</td>\n",
              "      <td>0</td>\n",
              "      <td>unknown</td>\n",
              "      <td>yes</td>\n",
              "    </tr>\n",
              "    <tr>\n",
              "      <th>4</th>\n",
              "      <td>54</td>\n",
              "      <td>admin.</td>\n",
              "      <td>married</td>\n",
              "      <td>tertiary</td>\n",
              "      <td>no</td>\n",
              "      <td>184</td>\n",
              "      <td>no</td>\n",
              "      <td>no</td>\n",
              "      <td>unknown</td>\n",
              "      <td>5</td>\n",
              "      <td>may</td>\n",
              "      <td>673</td>\n",
              "      <td>2</td>\n",
              "      <td>-1</td>\n",
              "      <td>0</td>\n",
              "      <td>unknown</td>\n",
              "      <td>yes</td>\n",
              "    </tr>\n",
              "  </tbody>\n",
              "</table>\n",
              "</div>"
            ],
            "text/plain": [
              "   age         job  marital  education  ... pdays  previous poutcome deposit\n",
              "0   59      admin.  married  secondary  ...    -1         0  unknown     yes\n",
              "1   56      admin.  married  secondary  ...    -1         0  unknown     yes\n",
              "2   41  technician  married  secondary  ...    -1         0  unknown     yes\n",
              "3   55    services  married  secondary  ...    -1         0  unknown     yes\n",
              "4   54      admin.  married   tertiary  ...    -1         0  unknown     yes\n",
              "\n",
              "[5 rows x 17 columns]"
            ]
          },
          "metadata": {
            "tags": []
          },
          "execution_count": 2
        }
      ]
    },
    {
      "cell_type": "code",
      "metadata": {
        "_cell_guid": "142f9bce-cf27-45c6-a776-0ad6e8c660c9",
        "_uuid": "f928d98a7f2c9fda54ee20d38b3d03101339e451",
        "collapsed": true,
        "id": "9pZOAdpevJNj",
        "colab_type": "code",
        "colab": {
          "base_uri": "https://localhost:8080/",
          "height": 329
        },
        "outputId": "17a392df-d2d6-41c1-a59c-2079b3584637"
      },
      "source": [
        "# Check if the data set contains any null values - Nothing found!\n",
        "bank[bank.isnull().any(axis=1)].count()"
      ],
      "execution_count": null,
      "outputs": [
        {
          "output_type": "execute_result",
          "data": {
            "text/plain": [
              "age          0\n",
              "job          0\n",
              "marital      0\n",
              "education    0\n",
              "default      0\n",
              "balance      0\n",
              "housing      0\n",
              "loan         0\n",
              "contact      0\n",
              "day          0\n",
              "month        0\n",
              "duration     0\n",
              "campaign     0\n",
              "pdays        0\n",
              "previous     0\n",
              "poutcome     0\n",
              "deposit      0\n",
              "dtype: int64"
            ]
          },
          "metadata": {
            "tags": []
          },
          "execution_count": 3
        }
      ]
    },
    {
      "cell_type": "code",
      "metadata": {
        "_cell_guid": "a484827c-4ca4-42ce-895a-8228f4b86c31",
        "_uuid": "8d03c75ae5115ebc97a26ac95408240177c7fc3f",
        "collapsed": true,
        "id": "RAjUREASvJNn",
        "colab_type": "code",
        "colab": {
          "base_uri": "https://localhost:8080/",
          "height": 294
        },
        "outputId": "b2d5f538-a11f-4605-b8ce-e47cf6bb44d2"
      },
      "source": [
        "bank.describe()"
      ],
      "execution_count": null,
      "outputs": [
        {
          "output_type": "execute_result",
          "data": {
            "text/html": [
              "<div>\n",
              "<style scoped>\n",
              "    .dataframe tbody tr th:only-of-type {\n",
              "        vertical-align: middle;\n",
              "    }\n",
              "\n",
              "    .dataframe tbody tr th {\n",
              "        vertical-align: top;\n",
              "    }\n",
              "\n",
              "    .dataframe thead th {\n",
              "        text-align: right;\n",
              "    }\n",
              "</style>\n",
              "<table border=\"1\" class=\"dataframe\">\n",
              "  <thead>\n",
              "    <tr style=\"text-align: right;\">\n",
              "      <th></th>\n",
              "      <th>age</th>\n",
              "      <th>balance</th>\n",
              "      <th>day</th>\n",
              "      <th>duration</th>\n",
              "      <th>campaign</th>\n",
              "      <th>pdays</th>\n",
              "      <th>previous</th>\n",
              "    </tr>\n",
              "  </thead>\n",
              "  <tbody>\n",
              "    <tr>\n",
              "      <th>count</th>\n",
              "      <td>11162.000000</td>\n",
              "      <td>11162.000000</td>\n",
              "      <td>11162.000000</td>\n",
              "      <td>11162.000000</td>\n",
              "      <td>11162.000000</td>\n",
              "      <td>11162.000000</td>\n",
              "      <td>11162.000000</td>\n",
              "    </tr>\n",
              "    <tr>\n",
              "      <th>mean</th>\n",
              "      <td>41.231948</td>\n",
              "      <td>1528.538524</td>\n",
              "      <td>15.658036</td>\n",
              "      <td>371.993818</td>\n",
              "      <td>2.508421</td>\n",
              "      <td>51.330407</td>\n",
              "      <td>0.832557</td>\n",
              "    </tr>\n",
              "    <tr>\n",
              "      <th>std</th>\n",
              "      <td>11.913369</td>\n",
              "      <td>3225.413326</td>\n",
              "      <td>8.420740</td>\n",
              "      <td>347.128386</td>\n",
              "      <td>2.722077</td>\n",
              "      <td>108.758282</td>\n",
              "      <td>2.292007</td>\n",
              "    </tr>\n",
              "    <tr>\n",
              "      <th>min</th>\n",
              "      <td>18.000000</td>\n",
              "      <td>-6847.000000</td>\n",
              "      <td>1.000000</td>\n",
              "      <td>2.000000</td>\n",
              "      <td>1.000000</td>\n",
              "      <td>-1.000000</td>\n",
              "      <td>0.000000</td>\n",
              "    </tr>\n",
              "    <tr>\n",
              "      <th>25%</th>\n",
              "      <td>32.000000</td>\n",
              "      <td>122.000000</td>\n",
              "      <td>8.000000</td>\n",
              "      <td>138.000000</td>\n",
              "      <td>1.000000</td>\n",
              "      <td>-1.000000</td>\n",
              "      <td>0.000000</td>\n",
              "    </tr>\n",
              "    <tr>\n",
              "      <th>50%</th>\n",
              "      <td>39.000000</td>\n",
              "      <td>550.000000</td>\n",
              "      <td>15.000000</td>\n",
              "      <td>255.000000</td>\n",
              "      <td>2.000000</td>\n",
              "      <td>-1.000000</td>\n",
              "      <td>0.000000</td>\n",
              "    </tr>\n",
              "    <tr>\n",
              "      <th>75%</th>\n",
              "      <td>49.000000</td>\n",
              "      <td>1708.000000</td>\n",
              "      <td>22.000000</td>\n",
              "      <td>496.000000</td>\n",
              "      <td>3.000000</td>\n",
              "      <td>20.750000</td>\n",
              "      <td>1.000000</td>\n",
              "    </tr>\n",
              "    <tr>\n",
              "      <th>max</th>\n",
              "      <td>95.000000</td>\n",
              "      <td>81204.000000</td>\n",
              "      <td>31.000000</td>\n",
              "      <td>3881.000000</td>\n",
              "      <td>63.000000</td>\n",
              "      <td>854.000000</td>\n",
              "      <td>58.000000</td>\n",
              "    </tr>\n",
              "  </tbody>\n",
              "</table>\n",
              "</div>"
            ],
            "text/plain": [
              "                age       balance  ...         pdays      previous\n",
              "count  11162.000000  11162.000000  ...  11162.000000  11162.000000\n",
              "mean      41.231948   1528.538524  ...     51.330407      0.832557\n",
              "std       11.913369   3225.413326  ...    108.758282      2.292007\n",
              "min       18.000000  -6847.000000  ...     -1.000000      0.000000\n",
              "25%       32.000000    122.000000  ...     -1.000000      0.000000\n",
              "50%       39.000000    550.000000  ...     -1.000000      0.000000\n",
              "75%       49.000000   1708.000000  ...     20.750000      1.000000\n",
              "max       95.000000  81204.000000  ...    854.000000     58.000000\n",
              "\n",
              "[8 rows x 7 columns]"
            ]
          },
          "metadata": {
            "tags": []
          },
          "execution_count": 4
        }
      ]
    },
    {
      "cell_type": "code",
      "metadata": {
        "_cell_guid": "e6ba8fa2-01b7-4367-a270-f1920256d5fa",
        "_uuid": "7903e72092085d476e25da6c9d8c21944828860e",
        "collapsed": true,
        "id": "A24rOeDdvJNq",
        "colab_type": "code",
        "colab": {
          "base_uri": "https://localhost:8080/",
          "height": 279
        },
        "outputId": "417b7446-838e-4678-cb85-ce40ee3adf9b"
      },
      "source": [
        "# Boxplot for 'age'\n",
        "g = sns.boxplot(x=bank[\"age\"])"
      ],
      "execution_count": null,
      "outputs": [
        {
          "output_type": "display_data",
          "data": {
            "image/png": "[encoded data removed]",
            "text/plain": [
              "<Figure size 432x288 with 1 Axes>"
            ]
          },
          "metadata": {
            "tags": [],
            "needs_background": "light"
          }
        }
      ]
    },
    {
      "cell_type": "code",
      "metadata": {
        "_cell_guid": "acc641bd-9106-4ad0-9bad-f2697c928a7b",
        "_uuid": "abb417d0393ff2fc1aabb4de00e3abdf62a6bee5",
        "collapsed": true,
        "id": "ZtXEd9MfvJNt",
        "colab_type": "code",
        "colab": {
          "base_uri": "https://localhost:8080/",
          "height": 299
        },
        "outputId": "f865e4ab-a515-4516-dbfa-3f6f94e016f0"
      },
      "source": [
        "# Distribution of Age\n",
        "sns.distplot(bank.age, bins=100)"
      ],
      "execution_count": null,
      "outputs": [
        {
          "output_type": "execute_result",
          "data": {
            "text/plain": [
              "<matplotlib.axes._subplots.AxesSubplot at 0x7fa765e64748>"
            ]
          },
          "metadata": {
            "tags": []
          },
          "execution_count": 6
        },
        {
          "output_type": "display_data",
          "data": {
            "image/png": "[encoded data removed]",
            "text/plain": [
              "<Figure size 432x288 with 1 Axes>"
            ]
          },
          "metadata": {
            "tags": [],
            "needs_background": "light"
          }
        }
      ]
    },
    {
      "cell_type": "code",
      "metadata": {
        "_cell_guid": "adfd247f-d1ca-4d7e-8051-68953444c45e",
        "_uuid": "2dee5b84f833a8dadecc5ad650b51bccef68171e",
        "collapsed": true,
        "id": "c7tuMSshvJNw",
        "colab_type": "code",
        "colab": {
          "base_uri": "https://localhost:8080/",
          "height": 279
        },
        "outputId": "1e9a9b38-a615-416d-8d20-c82d6ecd3c61"
      },
      "source": [
        "# Boxplot for 'duration'\n",
        "g = sns.boxplot(x=bank[\"duration\"])"
      ],
      "execution_count": null,
      "outputs": [
        {
          "output_type": "display_data",
          "data": {
            "image/png": "[encoded data removed]",
            "text/plain": [
              "<Figure size 432x288 with 1 Axes>"
            ]
          },
          "metadata": {
            "tags": [],
            "needs_background": "light"
          }
        }
      ]
    },
    {
      "cell_type": "code",
      "metadata": {
        "_cell_guid": "42f62c14-5580-4d61-93ae-183544f8aed7",
        "_uuid": "c4fea6ac4146428ee87a210f0bcd3cd6bc635a46",
        "collapsed": true,
        "id": "O6XvOT9JvJNz",
        "colab_type": "code",
        "colab": {
          "base_uri": "https://localhost:8080/",
          "height": 297
        },
        "outputId": "fcee37e2-fc78-4f46-b34f-cf42882701ec"
      },
      "source": [
        "sns.distplot(bank.duration, bins=100)"
      ],
      "execution_count": null,
      "outputs": [
        {
          "output_type": "execute_result",
          "data": {
            "text/plain": [
              "<matplotlib.axes._subplots.AxesSubplot at 0x7fa765855978>"
            ]
          },
          "metadata": {
            "tags": []
          },
          "execution_count": 8
        },
        {
          "output_type": "display_data",
          "data": {
            "image/png": "[encoded data removed]",
            "text/plain": [
              "<Figure size 432x288 with 1 Axes>"
            ]
          },
          "metadata": {
            "tags": [],
            "needs_background": "light"
          }
        }
      ]
    },
    {
      "cell_type": "markdown",
      "metadata": {
        "_cell_guid": "f8e3b055-7d8e-4723-9e57-4a1e454ef194",
        "_uuid": "d8cf9f54203152a76a7e8a03c3003644eb59525f",
        "id": "CgqG7RVIvJN2",
        "colab_type": "text"
      },
      "source": [
        "\n",
        "### Convertir datos categóricos"
      ]
    },
    {
      "cell_type": "code",
      "metadata": {
        "_cell_guid": "353340bc-f258-4ca4-96ae-ce3dd6da9e4f",
        "_uuid": "fa62612c19f6f510de6155f1f279d6aa812b9d22",
        "id": "Yvb4Loh2vJN3",
        "colab_type": "code",
        "colab": {}
      },
      "source": [
        "# Make a copy for parsing\n",
        "bank_data = bank.copy()"
      ],
      "execution_count": null,
      "outputs": []
    },
    {
      "cell_type": "markdown",
      "metadata": {
        "_cell_guid": "2aaa6278-7388-461b-b0a6-7d0965872ca2",
        "_uuid": "753b4f0d672266ac598f1afe35952245951ac8b1",
        "id": "zciUr2nsvJN5",
        "colab_type": "text"
      },
      "source": [
        "#### ------------------------------ Trabajo ------------------------------"
      ]
    },
    {
      "cell_type": "code",
      "metadata": {
        "_cell_guid": "29ebb749-1a14-4ea7-85bb-e148945ed328",
        "_uuid": "757d1a8bfab2c64c59bcd78a12eb43721e198758",
        "collapsed": true,
        "id": "ZwjRBhRqvJN6",
        "colab_type": "code",
        "colab": {
          "base_uri": "https://localhost:8080/",
          "height": 225
        },
        "outputId": "95dbb3b5-d325-41a0-eddc-53c9d8116895"
      },
      "source": [
        "# Explore People who made a deposit Vs Job category\n",
        "jobs = ['management','blue-collar','technician','admin.','services','retired','self-employed','student',\\\n",
        "        'unemployed','entrepreneur','housemaid','unknown']\n",
        "\n",
        "for j in jobs:\n",
        "    print(\"{:15} : {:5}\". format(j, len(bank_data[(bank_data.deposit == \"yes\") & (bank_data.job ==j)])))"
      ],
      "execution_count": null,
      "outputs": [
        {
          "output_type": "stream",
          "text": [
            "management      :  1301\n",
            "blue-collar     :   708\n",
            "technician      :   840\n",
            "admin.          :   631\n",
            "services        :   369\n",
            "retired         :   516\n",
            "self-employed   :   187\n",
            "student         :   269\n",
            "unemployed      :   202\n",
            "entrepreneur    :   123\n",
            "housemaid       :   109\n",
            "unknown         :    34\n"
          ],
          "name": "stdout"
        }
      ]
    },
    {
      "cell_type": "code",
      "metadata": {
        "_cell_guid": "cf54d19e-ab5b-4b16-8c17-a1d441675e4e",
        "_uuid": "6c5d8eb98fc23a74d8e235d1816758e760ae7222",
        "collapsed": true,
        "id": "DVqefFV-vJN9",
        "colab_type": "code",
        "colab": {
          "base_uri": "https://localhost:8080/",
          "height": 243
        },
        "outputId": "5947aeb6-7ca2-4b50-c4a0-2a03cb55651a"
      },
      "source": [
        "# Different types of job categories and their counts\n",
        "bank_data.job.value_counts()"
      ],
      "execution_count": null,
      "outputs": [
        {
          "output_type": "execute_result",
          "data": {
            "text/plain": [
              "management       2566\n",
              "blue-collar      1944\n",
              "technician       1823\n",
              "admin.           1334\n",
              "services          923\n",
              "retired           778\n",
              "self-employed     405\n",
              "student           360\n",
              "unemployed        357\n",
              "entrepreneur      328\n",
              "housemaid         274\n",
              "unknown            70\n",
              "Name: job, dtype: int64"
            ]
          },
          "metadata": {
            "tags": []
          },
          "execution_count": 11
        }
      ]
    },
    {
      "cell_type": "code",
      "metadata": {
        "_cell_guid": "fdcd5741-12b8-4b48-99b6-bd6e834f0da9",
        "_uuid": "58840f83e0b4fb1ea28c8aaebc109359f21e86e1",
        "id": "7BGRpb8wvJOA",
        "colab_type": "code",
        "colab": {}
      },
      "source": [
        "# Combine similar jobs into categiroes\n",
        "bank_data['job'] = bank_data['job'].replace(['management', 'admin.'], 'white-collar')\n",
        "bank_data['job'] = bank_data['job'].replace(['services','housemaid'], 'pink-collar')\n",
        "bank_data['job'] = bank_data['job'].replace(['retired', 'student', 'unemployed', 'unknown'], 'other')"
      ],
      "execution_count": null,
      "outputs": []
    },
    {
      "cell_type": "code",
      "metadata": {
        "_cell_guid": "6c44a280-708c-472e-8a9d-454130ebd29f",
        "_uuid": "60184753637b373ef973a5c38cd15bf51a1e58ac",
        "collapsed": true,
        "id": "_FAS180NvJOC",
        "colab_type": "code",
        "colab": {
          "base_uri": "https://localhost:8080/",
          "height": 156
        },
        "outputId": "a071a4e5-f1e9-485e-b26c-b2a8d185b356"
      },
      "source": [
        "# New value counts\n",
        "bank_data.job.value_counts()"
      ],
      "execution_count": null,
      "outputs": [
        {
          "output_type": "execute_result",
          "data": {
            "text/plain": [
              "white-collar     3900\n",
              "blue-collar      1944\n",
              "technician       1823\n",
              "other            1565\n",
              "pink-collar      1197\n",
              "self-employed     405\n",
              "entrepreneur      328\n",
              "Name: job, dtype: int64"
            ]
          },
          "metadata": {
            "tags": []
          },
          "execution_count": 13
        }
      ]
    },
    {
      "cell_type": "markdown",
      "metadata": {
        "_cell_guid": "c446c4b5-d0ce-48e1-8ceb-6431e49ad97e",
        "_uuid": "36fcf9b5b0dc9374f7540f918be453ece6eec86e",
        "id": "aGr1Pta5vJOF",
        "colab_type": "text"
      },
      "source": [
        "#### ------------------------------ poutcome ------------------------------"
      ]
    },
    {
      "cell_type": "code",
      "metadata": {
        "_cell_guid": "6516214b-7dab-4c4b-9abe-dd53db689a79",
        "_uuid": "791b50d069b7a06e57095974f5c9c0e0d0c9b55d",
        "collapsed": true,
        "id": "ub6ci3xHvJOG",
        "colab_type": "code",
        "colab": {
          "base_uri": "https://localhost:8080/",
          "height": 104
        },
        "outputId": "1d177009-7dae-4e05-d639-52e3144fe457"
      },
      "source": [
        "bank_data.poutcome.value_counts()"
      ],
      "execution_count": null,
      "outputs": [
        {
          "output_type": "execute_result",
          "data": {
            "text/plain": [
              "unknown    8326\n",
              "failure    1228\n",
              "success    1071\n",
              "other       537\n",
              "Name: poutcome, dtype: int64"
            ]
          },
          "metadata": {
            "tags": []
          },
          "execution_count": 14
        }
      ]
    },
    {
      "cell_type": "code",
      "metadata": {
        "_cell_guid": "b827ea76-4adb-4472-9def-ebd268d5586f",
        "_uuid": "dd9bc0417c255963d08c7eb721dde66b32d406dc",
        "collapsed": true,
        "id": "ruuZS8u1vJOJ",
        "colab_type": "code",
        "colab": {
          "base_uri": "https://localhost:8080/",
          "height": 87
        },
        "outputId": "d6b08f47-24cd-441b-a4ed-872b14ef46f7"
      },
      "source": [
        "# Combine 'unknown' and 'other' as 'other' isn't really match with either 'success' or 'failure'\n",
        "bank_data['poutcome'] = bank_data['poutcome'].replace(['other'] , 'unknown')\n",
        "bank_data.poutcome.value_counts()"
      ],
      "execution_count": null,
      "outputs": [
        {
          "output_type": "execute_result",
          "data": {
            "text/plain": [
              "unknown    8863\n",
              "failure    1228\n",
              "success    1071\n",
              "Name: poutcome, dtype: int64"
            ]
          },
          "metadata": {
            "tags": []
          },
          "execution_count": 15
        }
      ]
    },
    {
      "cell_type": "markdown",
      "metadata": {
        "_cell_guid": "643362de-18ca-45c2-95a9-6ca2c19f0144",
        "_uuid": "154cad1a97e082dea7fefef0084301c391b78bf9",
        "id": "Hn5SsLSovJOM",
        "colab_type": "text"
      },
      "source": [
        "#### ------------------------------ contacto ------------------------------"
      ]
    },
    {
      "cell_type": "code",
      "metadata": {
        "_cell_guid": "edf8d6c3-f66a-4521-bb82-13de0e175244",
        "_uuid": "7b3cd6910378c11f5edacde330f5a312d0f58d16",
        "id": "2Lj_ClicvJOM",
        "colab_type": "code",
        "colab": {}
      },
      "source": [
        "# Drop 'contact', as every participant has been contacted. \n",
        "bank_data.drop('contact', axis=1, inplace=True)"
      ],
      "execution_count": null,
      "outputs": []
    },
    {
      "cell_type": "markdown",
      "metadata": {
        "_cell_guid": "167de291-a2df-4371-837b-25cc84121fc9",
        "_uuid": "8d519172290ca18fd70843a45677e0524b460a8c",
        "id": "xs7L6dApvJOP",
        "colab_type": "text"
      },
      "source": [
        "#### ------------------------------ default ------------------------------"
      ]
    },
    {
      "cell_type": "code",
      "metadata": {
        "_cell_guid": "9445241c-8d2f-4552-a879-f35bd08155ee",
        "_uuid": "35a4bc625d393ae0b38076c7bdb88e12be134acf",
        "id": "vy7W_k5lvJOQ",
        "colab_type": "code",
        "colab": {}
      },
      "source": [
        "# values for \"default\" : yes/no\n",
        "bank_data[\"default\"]\n",
        "bank_data['default_cat'] = bank_data['default'].map( {'yes':1, 'no':0} )\n",
        "bank_data.drop('default', axis=1,inplace = True)"
      ],
      "execution_count": null,
      "outputs": []
    },
    {
      "cell_type": "markdown",
      "metadata": {
        "_cell_guid": "e69fa9cf-4b44-450e-9c11-52edad2336c0",
        "_uuid": "71c97178c06dfb20561a6f4813eaf48f16270ed2",
        "id": "F81jyvY2vJOT",
        "colab_type": "text"
      },
      "source": [
        "#### ------------------------------ ¿Tiene casa? ------------------------------"
      ]
    },
    {
      "cell_type": "code",
      "metadata": {
        "_cell_guid": "9f33486b-6c4c-4a12-9174-54be5f788091",
        "_uuid": "5625dd9f23af740ce738cb5f1d45ca18dc4d3fe6",
        "id": "-wq9-Mr8vJOT",
        "colab_type": "code",
        "colab": {}
      },
      "source": [
        "# values for \"housing\" : yes/no\n",
        "bank_data[\"housing_cat\"]=bank_data['housing'].map({'yes':1, 'no':0})\n",
        "bank_data.drop('housing', axis=1,inplace = True)"
      ],
      "execution_count": null,
      "outputs": []
    },
    {
      "cell_type": "markdown",
      "metadata": {
        "_cell_guid": "f4be5aa2-9702-4b64-a732-b473ac696631",
        "_uuid": "dfae48f26206aa2f27803205e071841fa877307c",
        "id": "d6Qr2RrzvJOW",
        "colab_type": "text"
      },
      "source": [
        "#### ------------------------------ ¿Tiene préstamo? ------------------------------"
      ]
    },
    {
      "cell_type": "code",
      "metadata": {
        "_cell_guid": "c1b2dc72-ee07-4995-aa5e-e5bbd0a541b8",
        "_uuid": "557f3471b7552919b437e703005830585a715e56",
        "id": "n_VQIzhpvJOW",
        "colab_type": "code",
        "colab": {}
      },
      "source": [
        "# values for \"loan\" : yes/no\n",
        "bank_data[\"loan_cat\"] = bank_data['loan'].map({'yes':1, 'no':0})\n",
        "bank_data.drop('loan', axis=1, inplace=True)"
      ],
      "execution_count": null,
      "outputs": []
    },
    {
      "cell_type": "markdown",
      "metadata": {
        "_cell_guid": "422662b8-94f4-4b1f-a61c-71dca5627c7c",
        "_uuid": "f94605bb3c4f22900794ad6b1d066d3808d9d5b1",
        "id": "pNhedtgavJOZ",
        "colab_type": "text"
      },
      "source": [
        "#### ------------------------------ mes, dia------------------------------"
      ]
    },
    {
      "cell_type": "code",
      "metadata": {
        "_cell_guid": "a004d399-5d98-4767-a629-4008e834a501",
        "_uuid": "24b3d3f4534ea7b714743123dc7f1186d6c6165a",
        "id": "LHH8Y9eHvJOa",
        "colab_type": "code",
        "colab": {}
      },
      "source": [
        "# day  : last contact day of the month\n",
        "# month: last contact month of year\n",
        "# Eliminamos las variables ya que no son necesarias para el análisis\n",
        "bank_data.drop('month', axis=1, inplace=True)\n",
        "bank_data.drop('day', axis=1, inplace=True)"
      ],
      "execution_count": null,
      "outputs": []
    },
    {
      "cell_type": "markdown",
      "metadata": {
        "_cell_guid": "3114fee4-f7f6-4bb3-9e9e-30080deacae8",
        "_uuid": "082214ade8f57c636812167b6b6f11a291209234",
        "id": "lBK8SP79vJOd",
        "colab_type": "text"
      },
      "source": [
        "#### ------------------------------ deposito ------------------------------"
      ]
    },
    {
      "cell_type": "code",
      "metadata": {
        "_cell_guid": "824acb7c-9ebb-4ec3-abc2-91b3a8dfbba8",
        "_uuid": "8983691ec985826964e224d851c47fa53d5189a3",
        "id": "9cj0bFRrvJOd",
        "colab_type": "code",
        "colab": {}
      },
      "source": [
        "# values for \"deposit\" : yes/no\n",
        "bank_data[\"deposit_cat\"] = bank_data['deposit'].map({'yes':1, 'no':0})\n",
        "bank_data.drop('deposit', axis=1, inplace=True)"
      ],
      "execution_count": null,
      "outputs": []
    },
    {
      "cell_type": "markdown",
      "metadata": {
        "_cell_guid": "6a07560d-d8d6-44a7-bc40-e3fefe56c07a",
        "_uuid": "ae91146f0a733b46f2ffc929e6c15c637b5a5464",
        "id": "YYlYBF62vJOh",
        "colab_type": "text"
      },
      "source": [
        "#### ------------------------------ pdays ------------------------------"
      ]
    },
    {
      "cell_type": "code",
      "metadata": {
        "_cell_guid": "a0a43966-0a0a-4c87-9fbb-98753440475e",
        "_uuid": "a9285460820d03a8a46b00efa4ab5c0b7bfdfdba",
        "collapsed": true,
        "id": "0LW5wdSyvJOh",
        "colab_type": "code",
        "colab": {
          "base_uri": "https://localhost:8080/",
          "height": 52
        },
        "outputId": "d6e9bd8d-5b07-46c3-a1b7-34d3b6cbd08e"
      },
      "source": [
        "# pdays: number of days that passed by after the client was last contacted from a previous campaign\n",
        "#       -1 means client was not previously contacted\n",
        "\n",
        "print(\"Customers that have not been contacted before:\", len(bank_data[bank_data.pdays==-1]))\n",
        "print(\"Maximum values on padys    :\", bank_data['pdays'].max())"
      ],
      "execution_count": null,
      "outputs": [
        {
          "output_type": "stream",
          "text": [
            "Customers that have not been contacted before: 8324\n",
            "Maximum values on padys    : 854\n"
          ],
          "name": "stdout"
        }
      ]
    },
    {
      "cell_type": "code",
      "metadata": {
        "_cell_guid": "27c4a40d-a6e7-455f-85ef-db661c2f3bf6",
        "_uuid": "4a5ce52f6514b2c6a98a05496f464958bb08e6d1",
        "id": "jYi_TQ9_vJOl",
        "colab_type": "code",
        "colab": {}
      },
      "source": [
        "# Map padys=-1 into a large value (10000 is used) to indicate that it is so far in the past that it has no effect\n",
        "bank_data.loc[bank_data['pdays'] == -1, 'pdays'] = 10000"
      ],
      "execution_count": null,
      "outputs": []
    },
    {
      "cell_type": "code",
      "metadata": {
        "_cell_guid": "dc334f4c-7756-42d0-884e-c87c8c205b72",
        "_uuid": "32aed7514950db77534edf31950599dd2de13174",
        "id": "vqX9gFfivJOn",
        "colab_type": "code",
        "colab": {}
      },
      "source": [
        "# Create a new column: recent_pdays \n",
        "bank_data['recent_pdays'] = np.where(bank_data['pdays'], 1/bank_data.pdays, 1/bank_data.pdays)\n",
        "\n",
        "# Drop 'pdays'\n",
        "bank_data.drop('pdays', axis=1, inplace = True)"
      ],
      "execution_count": null,
      "outputs": []
    },
    {
      "cell_type": "code",
      "metadata": {
        "_cell_guid": "d081cff8-2b59-449e-aa9d-c47b95bf9f3b",
        "_uuid": "0fd651329be4e215dfe12e7d0dcd825081fc22bb",
        "collapsed": true,
        "id": "nVDwllmBvJOp",
        "colab_type": "code",
        "colab": {
          "base_uri": "https://localhost:8080/",
          "height": 257
        },
        "outputId": "abeb5148-883d-4ded-a0b2-ed286789e70a"
      },
      "source": [
        "bank_data.tail()"
      ],
      "execution_count": null,
      "outputs": [
        {
          "output_type": "execute_result",
          "data": {
            "text/html": [
              "<div>\n",
              "<style scoped>\n",
              "    .dataframe tbody tr th:only-of-type {\n",
              "        vertical-align: middle;\n",
              "    }\n",
              "\n",
              "    .dataframe tbody tr th {\n",
              "        vertical-align: top;\n",
              "    }\n",
              "\n",
              "    .dataframe thead th {\n",
              "        text-align: right;\n",
              "    }\n",
              "</style>\n",
              "<table border=\"1\" class=\"dataframe\">\n",
              "  <thead>\n",
              "    <tr style=\"text-align: right;\">\n",
              "      <th></th>\n",
              "      <th>age</th>\n",
              "      <th>job</th>\n",
              "      <th>marital</th>\n",
              "      <th>education</th>\n",
              "      <th>balance</th>\n",
              "      <th>duration</th>\n",
              "      <th>campaign</th>\n",
              "      <th>previous</th>\n",
              "      <th>poutcome</th>\n",
              "      <th>default_cat</th>\n",
              "      <th>housing_cat</th>\n",
              "      <th>loan_cat</th>\n",
              "      <th>deposit_cat</th>\n",
              "      <th>recent_pdays</th>\n",
              "    </tr>\n",
              "  </thead>\n",
              "  <tbody>\n",
              "    <tr>\n",
              "      <th>11157</th>\n",
              "      <td>33</td>\n",
              "      <td>blue-collar</td>\n",
              "      <td>single</td>\n",
              "      <td>primary</td>\n",
              "      <td>1</td>\n",
              "      <td>257</td>\n",
              "      <td>1</td>\n",
              "      <td>0</td>\n",
              "      <td>unknown</td>\n",
              "      <td>0</td>\n",
              "      <td>1</td>\n",
              "      <td>0</td>\n",
              "      <td>0</td>\n",
              "      <td>0.000100</td>\n",
              "    </tr>\n",
              "    <tr>\n",
              "      <th>11158</th>\n",
              "      <td>39</td>\n",
              "      <td>pink-collar</td>\n",
              "      <td>married</td>\n",
              "      <td>secondary</td>\n",
              "      <td>733</td>\n",
              "      <td>83</td>\n",
              "      <td>4</td>\n",
              "      <td>0</td>\n",
              "      <td>unknown</td>\n",
              "      <td>0</td>\n",
              "      <td>0</td>\n",
              "      <td>0</td>\n",
              "      <td>0</td>\n",
              "      <td>0.000100</td>\n",
              "    </tr>\n",
              "    <tr>\n",
              "      <th>11159</th>\n",
              "      <td>32</td>\n",
              "      <td>technician</td>\n",
              "      <td>single</td>\n",
              "      <td>secondary</td>\n",
              "      <td>29</td>\n",
              "      <td>156</td>\n",
              "      <td>2</td>\n",
              "      <td>0</td>\n",
              "      <td>unknown</td>\n",
              "      <td>0</td>\n",
              "      <td>0</td>\n",
              "      <td>0</td>\n",
              "      <td>0</td>\n",
              "      <td>0.000100</td>\n",
              "    </tr>\n",
              "    <tr>\n",
              "      <th>11160</th>\n",
              "      <td>43</td>\n",
              "      <td>technician</td>\n",
              "      <td>married</td>\n",
              "      <td>secondary</td>\n",
              "      <td>0</td>\n",
              "      <td>9</td>\n",
              "      <td>2</td>\n",
              "      <td>5</td>\n",
              "      <td>failure</td>\n",
              "      <td>0</td>\n",
              "      <td>0</td>\n",
              "      <td>1</td>\n",
              "      <td>0</td>\n",
              "      <td>0.005814</td>\n",
              "    </tr>\n",
              "    <tr>\n",
              "      <th>11161</th>\n",
              "      <td>34</td>\n",
              "      <td>technician</td>\n",
              "      <td>married</td>\n",
              "      <td>secondary</td>\n",
              "      <td>0</td>\n",
              "      <td>628</td>\n",
              "      <td>1</td>\n",
              "      <td>0</td>\n",
              "      <td>unknown</td>\n",
              "      <td>0</td>\n",
              "      <td>0</td>\n",
              "      <td>0</td>\n",
              "      <td>0</td>\n",
              "      <td>0.000100</td>\n",
              "    </tr>\n",
              "  </tbody>\n",
              "</table>\n",
              "</div>"
            ],
            "text/plain": [
              "       age          job  marital  ... loan_cat  deposit_cat  recent_pdays\n",
              "11157   33  blue-collar   single  ...        0            0      0.000100\n",
              "11158   39  pink-collar  married  ...        0            0      0.000100\n",
              "11159   32   technician   single  ...        0            0      0.000100\n",
              "11160   43   technician  married  ...        1            0      0.005814\n",
              "11161   34   technician  married  ...        0            0      0.000100\n",
              "\n",
              "[5 rows x 14 columns]"
            ]
          },
          "metadata": {
            "tags": []
          },
          "execution_count": 25
        }
      ]
    },
    {
      "cell_type": "markdown",
      "metadata": {
        "_cell_guid": "675e8d8f-2e23-4976-a7e9-fdb0d4983393",
        "_uuid": "6c0309015c140816d4fc83ce6af0d47daa6ac0f0",
        "id": "kHr_VqXlvJOs",
        "colab_type": "text"
      },
      "source": [
        "### ------------------------------ Convertimos valores dummy  ------------------------------"
      ]
    },
    {
      "cell_type": "code",
      "metadata": {
        "_cell_guid": "65a1ee10-aa81-4e44-b159-88f426ad0ae3",
        "_uuid": "63ac123483934cbc0e3703950e9cd7860184e985",
        "collapsed": true,
        "id": "4HjBlivCvJOs",
        "colab_type": "code",
        "colab": {
          "base_uri": "https://localhost:8080/",
          "height": 239
        },
        "outputId": "0bc2f544-902b-40e8-94f5-4ec3d552f2ed"
      },
      "source": [
        "# Convert categorical variables to dummies\n",
        "bank_with_dummies = pd.get_dummies(data=bank_data, columns = ['job', 'marital', 'education', 'poutcome'], \\\n",
        "                                   prefix = ['job', 'marital', 'education', 'poutcome'])\n",
        "bank_with_dummies.head()"
      ],
      "execution_count": null,
      "outputs": [
        {
          "output_type": "execute_result",
          "data": {
            "text/html": [
              "<div>\n",
              "<style scoped>\n",
              "    .dataframe tbody tr th:only-of-type {\n",
              "        vertical-align: middle;\n",
              "    }\n",
              "\n",
              "    .dataframe tbody tr th {\n",
              "        vertical-align: top;\n",
              "    }\n",
              "\n",
              "    .dataframe thead th {\n",
              "        text-align: right;\n",
              "    }\n",
              "</style>\n",
              "<table border=\"1\" class=\"dataframe\">\n",
              "  <thead>\n",
              "    <tr style=\"text-align: right;\">\n",
              "      <th></th>\n",
              "      <th>age</th>\n",
              "      <th>balance</th>\n",
              "      <th>duration</th>\n",
              "      <th>campaign</th>\n",
              "      <th>previous</th>\n",
              "      <th>default_cat</th>\n",
              "      <th>housing_cat</th>\n",
              "      <th>loan_cat</th>\n",
              "      <th>deposit_cat</th>\n",
              "      <th>recent_pdays</th>\n",
              "      <th>job_blue-collar</th>\n",
              "      <th>job_entrepreneur</th>\n",
              "      <th>job_other</th>\n",
              "      <th>job_pink-collar</th>\n",
              "      <th>job_self-employed</th>\n",
              "      <th>job_technician</th>\n",
              "      <th>job_white-collar</th>\n",
              "      <th>marital_divorced</th>\n",
              "      <th>marital_married</th>\n",
              "      <th>marital_single</th>\n",
              "      <th>education_primary</th>\n",
              "      <th>education_secondary</th>\n",
              "      <th>education_tertiary</th>\n",
              "      <th>education_unknown</th>\n",
              "      <th>poutcome_failure</th>\n",
              "      <th>poutcome_success</th>\n",
              "      <th>poutcome_unknown</th>\n",
              "    </tr>\n",
              "  </thead>\n",
              "  <tbody>\n",
              "    <tr>\n",
              "      <th>0</th>\n",
              "      <td>59</td>\n",
              "      <td>2343</td>\n",
              "      <td>1042</td>\n",
              "      <td>1</td>\n",
              "      <td>0</td>\n",
              "      <td>0</td>\n",
              "      <td>1</td>\n",
              "      <td>0</td>\n",
              "      <td>1</td>\n",
              "      <td>0.0001</td>\n",
              "      <td>0</td>\n",
              "      <td>0</td>\n",
              "      <td>0</td>\n",
              "      <td>0</td>\n",
              "      <td>0</td>\n",
              "      <td>0</td>\n",
              "      <td>1</td>\n",
              "      <td>0</td>\n",
              "      <td>1</td>\n",
              "      <td>0</td>\n",
              "      <td>0</td>\n",
              "      <td>1</td>\n",
              "      <td>0</td>\n",
              "      <td>0</td>\n",
              "      <td>0</td>\n",
              "      <td>0</td>\n",
              "      <td>1</td>\n",
              "    </tr>\n",
              "    <tr>\n",
              "      <th>1</th>\n",
              "      <td>56</td>\n",
              "      <td>45</td>\n",
              "      <td>1467</td>\n",
              "      <td>1</td>\n",
              "      <td>0</td>\n",
              "      <td>0</td>\n",
              "      <td>0</td>\n",
              "      <td>0</td>\n",
              "      <td>1</td>\n",
              "      <td>0.0001</td>\n",
              "      <td>0</td>\n",
              "      <td>0</td>\n",
              "      <td>0</td>\n",
              "      <td>0</td>\n",
              "      <td>0</td>\n",
              "      <td>0</td>\n",
              "      <td>1</td>\n",
              "      <td>0</td>\n",
              "      <td>1</td>\n",
              "      <td>0</td>\n",
              "      <td>0</td>\n",
              "      <td>1</td>\n",
              "      <td>0</td>\n",
              "      <td>0</td>\n",
              "      <td>0</td>\n",
              "      <td>0</td>\n",
              "      <td>1</td>\n",
              "    </tr>\n",
              "    <tr>\n",
              "      <th>2</th>\n",
              "      <td>41</td>\n",
              "      <td>1270</td>\n",
              "      <td>1389</td>\n",
              "      <td>1</td>\n",
              "      <td>0</td>\n",
              "      <td>0</td>\n",
              "      <td>1</td>\n",
              "      <td>0</td>\n",
              "      <td>1</td>\n",
              "      <td>0.0001</td>\n",
              "      <td>0</td>\n",
              "      <td>0</td>\n",
              "      <td>0</td>\n",
              "      <td>0</td>\n",
              "      <td>0</td>\n",
              "      <td>1</td>\n",
              "      <td>0</td>\n",
              "      <td>0</td>\n",
              "      <td>1</td>\n",
              "      <td>0</td>\n",
              "      <td>0</td>\n",
              "      <td>1</td>\n",
              "      <td>0</td>\n",
              "      <td>0</td>\n",
              "      <td>0</td>\n",
              "      <td>0</td>\n",
              "      <td>1</td>\n",
              "    </tr>\n",
              "    <tr>\n",
              "      <th>3</th>\n",
              "      <td>55</td>\n",
              "      <td>2476</td>\n",
              "      <td>579</td>\n",
              "      <td>1</td>\n",
              "      <td>0</td>\n",
              "      <td>0</td>\n",
              "      <td>1</td>\n",
              "      <td>0</td>\n",
              "      <td>1</td>\n",
              "      <td>0.0001</td>\n",
              "      <td>0</td>\n",
              "      <td>0</td>\n",
              "      <td>0</td>\n",
              "      <td>1</td>\n",
              "      <td>0</td>\n",
              "      <td>0</td>\n",
              "      <td>0</td>\n",
              "      <td>0</td>\n",
              "      <td>1</td>\n",
              "      <td>0</td>\n",
              "      <td>0</td>\n",
              "      <td>1</td>\n",
              "      <td>0</td>\n",
              "      <td>0</td>\n",
              "      <td>0</td>\n",
              "      <td>0</td>\n",
              "      <td>1</td>\n",
              "    </tr>\n",
              "    <tr>\n",
              "      <th>4</th>\n",
              "      <td>54</td>\n",
              "      <td>184</td>\n",
              "      <td>673</td>\n",
              "      <td>2</td>\n",
              "      <td>0</td>\n",
              "      <td>0</td>\n",
              "      <td>0</td>\n",
              "      <td>0</td>\n",
              "      <td>1</td>\n",
              "      <td>0.0001</td>\n",
              "      <td>0</td>\n",
              "      <td>0</td>\n",
              "      <td>0</td>\n",
              "      <td>0</td>\n",
              "      <td>0</td>\n",
              "      <td>0</td>\n",
              "      <td>1</td>\n",
              "      <td>0</td>\n",
              "      <td>1</td>\n",
              "      <td>0</td>\n",
              "      <td>0</td>\n",
              "      <td>0</td>\n",
              "      <td>1</td>\n",
              "      <td>0</td>\n",
              "      <td>0</td>\n",
              "      <td>0</td>\n",
              "      <td>1</td>\n",
              "    </tr>\n",
              "  </tbody>\n",
              "</table>\n",
              "</div>"
            ],
            "text/plain": [
              "   age  balance  duration  ...  poutcome_failure  poutcome_success  poutcome_unknown\n",
              "0   59     2343      1042  ...                 0                 0                 1\n",
              "1   56       45      1467  ...                 0                 0                 1\n",
              "2   41     1270      1389  ...                 0                 0                 1\n",
              "3   55     2476       579  ...                 0                 0                 1\n",
              "4   54      184       673  ...                 0                 0                 1\n",
              "\n",
              "[5 rows x 27 columns]"
            ]
          },
          "metadata": {
            "tags": []
          },
          "execution_count": 26
        }
      ]
    },
    {
      "cell_type": "code",
      "metadata": {
        "_cell_guid": "dc46d20e-db1f-41cc-a0c4-bea3f800235e",
        "_uuid": "5fae26f3d9d4c343d75d90163ebb54f64c4d798e",
        "collapsed": true,
        "id": "2BTdYKHzvJOv",
        "colab_type": "code",
        "colab": {
          "base_uri": "https://localhost:8080/",
          "height": 35
        },
        "outputId": "8d998dc3-aec9-4dcf-a034-a984bbffbecf"
      },
      "source": [
        "bank_with_dummies.shape"
      ],
      "execution_count": null,
      "outputs": [
        {
          "output_type": "execute_result",
          "data": {
            "text/plain": [
              "(11162, 27)"
            ]
          },
          "metadata": {
            "tags": []
          },
          "execution_count": 27
        }
      ]
    },
    {
      "cell_type": "code",
      "metadata": {
        "_cell_guid": "8daac786-1fcd-4dd5-b789-8dbb96011c44",
        "_uuid": "b9018d84ec2eae5368860f237e47e00473deeb05",
        "collapsed": true,
        "id": "1VQFpKgRvJOy",
        "colab_type": "code",
        "colab": {
          "base_uri": "https://localhost:8080/",
          "height": 331
        },
        "outputId": "35efbc8a-21ca-4db9-f436-b2a584c5ab0a"
      },
      "source": [
        "bank_with_dummies.describe()"
      ],
      "execution_count": null,
      "outputs": [
        {
          "output_type": "execute_result",
          "data": {
            "text/html": [
              "<div>\n",
              "<style scoped>\n",
              "    .dataframe tbody tr th:only-of-type {\n",
              "        vertical-align: middle;\n",
              "    }\n",
              "\n",
              "    .dataframe tbody tr th {\n",
              "        vertical-align: top;\n",
              "    }\n",
              "\n",
              "    .dataframe thead th {\n",
              "        text-align: right;\n",
              "    }\n",
              "</style>\n",
              "<table border=\"1\" class=\"dataframe\">\n",
              "  <thead>\n",
              "    <tr style=\"text-align: right;\">\n",
              "      <th></th>\n",
              "      <th>age</th>\n",
              "      <th>balance</th>\n",
              "      <th>duration</th>\n",
              "      <th>campaign</th>\n",
              "      <th>previous</th>\n",
              "      <th>default_cat</th>\n",
              "      <th>housing_cat</th>\n",
              "      <th>loan_cat</th>\n",
              "      <th>deposit_cat</th>\n",
              "      <th>recent_pdays</th>\n",
              "      <th>job_blue-collar</th>\n",
              "      <th>job_entrepreneur</th>\n",
              "      <th>job_other</th>\n",
              "      <th>job_pink-collar</th>\n",
              "      <th>job_self-employed</th>\n",
              "      <th>job_technician</th>\n",
              "      <th>job_white-collar</th>\n",
              "      <th>marital_divorced</th>\n",
              "      <th>marital_married</th>\n",
              "      <th>marital_single</th>\n",
              "      <th>education_primary</th>\n",
              "      <th>education_secondary</th>\n",
              "      <th>education_tertiary</th>\n",
              "      <th>education_unknown</th>\n",
              "      <th>poutcome_failure</th>\n",
              "      <th>poutcome_success</th>\n",
              "      <th>poutcome_unknown</th>\n",
              "    </tr>\n",
              "  </thead>\n",
              "  <tbody>\n",
              "    <tr>\n",
              "      <th>count</th>\n",
              "      <td>11162.000000</td>\n",
              "      <td>11162.000000</td>\n",
              "      <td>11162.000000</td>\n",
              "      <td>11162.000000</td>\n",
              "      <td>11162.000000</td>\n",
              "      <td>11162.000000</td>\n",
              "      <td>11162.000000</td>\n",
              "      <td>11162.000000</td>\n",
              "      <td>11162.000000</td>\n",
              "      <td>11162.000000</td>\n",
              "      <td>11162.000000</td>\n",
              "      <td>11162.000000</td>\n",
              "      <td>11162.000000</td>\n",
              "      <td>11162.000000</td>\n",
              "      <td>11162.000000</td>\n",
              "      <td>11162.000000</td>\n",
              "      <td>11162.000000</td>\n",
              "      <td>11162.000000</td>\n",
              "      <td>11162.000000</td>\n",
              "      <td>11162.000000</td>\n",
              "      <td>11162.000000</td>\n",
              "      <td>11162.000000</td>\n",
              "      <td>11162.000000</td>\n",
              "      <td>11162.000000</td>\n",
              "      <td>11162.000000</td>\n",
              "      <td>11162.000000</td>\n",
              "      <td>11162.000000</td>\n",
              "    </tr>\n",
              "    <tr>\n",
              "      <th>mean</th>\n",
              "      <td>41.231948</td>\n",
              "      <td>1528.538524</td>\n",
              "      <td>371.993818</td>\n",
              "      <td>2.508421</td>\n",
              "      <td>0.832557</td>\n",
              "      <td>0.015051</td>\n",
              "      <td>0.473123</td>\n",
              "      <td>0.130801</td>\n",
              "      <td>0.473840</td>\n",
              "      <td>0.003124</td>\n",
              "      <td>0.174162</td>\n",
              "      <td>0.029385</td>\n",
              "      <td>0.140208</td>\n",
              "      <td>0.107239</td>\n",
              "      <td>0.036284</td>\n",
              "      <td>0.163322</td>\n",
              "      <td>0.349400</td>\n",
              "      <td>0.115839</td>\n",
              "      <td>0.568984</td>\n",
              "      <td>0.315176</td>\n",
              "      <td>0.134385</td>\n",
              "      <td>0.490593</td>\n",
              "      <td>0.330496</td>\n",
              "      <td>0.044526</td>\n",
              "      <td>0.110016</td>\n",
              "      <td>0.095951</td>\n",
              "      <td>0.794033</td>\n",
              "    </tr>\n",
              "    <tr>\n",
              "      <th>std</th>\n",
              "      <td>11.913369</td>\n",
              "      <td>3225.413326</td>\n",
              "      <td>347.128386</td>\n",
              "      <td>2.722077</td>\n",
              "      <td>2.292007</td>\n",
              "      <td>0.121761</td>\n",
              "      <td>0.499299</td>\n",
              "      <td>0.337198</td>\n",
              "      <td>0.499338</td>\n",
              "      <td>0.030686</td>\n",
              "      <td>0.379266</td>\n",
              "      <td>0.168892</td>\n",
              "      <td>0.347218</td>\n",
              "      <td>0.309431</td>\n",
              "      <td>0.187004</td>\n",
              "      <td>0.369676</td>\n",
              "      <td>0.476802</td>\n",
              "      <td>0.320047</td>\n",
              "      <td>0.495241</td>\n",
              "      <td>0.464607</td>\n",
              "      <td>0.341080</td>\n",
              "      <td>0.499934</td>\n",
              "      <td>0.470413</td>\n",
              "      <td>0.206270</td>\n",
              "      <td>0.312924</td>\n",
              "      <td>0.294537</td>\n",
              "      <td>0.404424</td>\n",
              "    </tr>\n",
              "    <tr>\n",
              "      <th>min</th>\n",
              "      <td>18.000000</td>\n",
              "      <td>-6847.000000</td>\n",
              "      <td>2.000000</td>\n",
              "      <td>1.000000</td>\n",
              "      <td>0.000000</td>\n",
              "      <td>0.000000</td>\n",
              "      <td>0.000000</td>\n",
              "      <td>0.000000</td>\n",
              "      <td>0.000000</td>\n",
              "      <td>0.000100</td>\n",
              "      <td>0.000000</td>\n",
              "      <td>0.000000</td>\n",
              "      <td>0.000000</td>\n",
              "      <td>0.000000</td>\n",
              "      <td>0.000000</td>\n",
              "      <td>0.000000</td>\n",
              "      <td>0.000000</td>\n",
              "      <td>0.000000</td>\n",
              "      <td>0.000000</td>\n",
              "      <td>0.000000</td>\n",
              "      <td>0.000000</td>\n",
              "      <td>0.000000</td>\n",
              "      <td>0.000000</td>\n",
              "      <td>0.000000</td>\n",
              "      <td>0.000000</td>\n",
              "      <td>0.000000</td>\n",
              "      <td>0.000000</td>\n",
              "    </tr>\n",
              "    <tr>\n",
              "      <th>25%</th>\n",
              "      <td>32.000000</td>\n",
              "      <td>122.000000</td>\n",
              "      <td>138.000000</td>\n",
              "      <td>1.000000</td>\n",
              "      <td>0.000000</td>\n",
              "      <td>0.000000</td>\n",
              "      <td>0.000000</td>\n",
              "      <td>0.000000</td>\n",
              "      <td>0.000000</td>\n",
              "      <td>0.000100</td>\n",
              "      <td>0.000000</td>\n",
              "      <td>0.000000</td>\n",
              "      <td>0.000000</td>\n",
              "      <td>0.000000</td>\n",
              "      <td>0.000000</td>\n",
              "      <td>0.000000</td>\n",
              "      <td>0.000000</td>\n",
              "      <td>0.000000</td>\n",
              "      <td>0.000000</td>\n",
              "      <td>0.000000</td>\n",
              "      <td>0.000000</td>\n",
              "      <td>0.000000</td>\n",
              "      <td>0.000000</td>\n",
              "      <td>0.000000</td>\n",
              "      <td>0.000000</td>\n",
              "      <td>0.000000</td>\n",
              "      <td>1.000000</td>\n",
              "    </tr>\n",
              "    <tr>\n",
              "      <th>50%</th>\n",
              "      <td>39.000000</td>\n",
              "      <td>550.000000</td>\n",
              "      <td>255.000000</td>\n",
              "      <td>2.000000</td>\n",
              "      <td>0.000000</td>\n",
              "      <td>0.000000</td>\n",
              "      <td>0.000000</td>\n",
              "      <td>0.000000</td>\n",
              "      <td>0.000000</td>\n",
              "      <td>0.000100</td>\n",
              "      <td>0.000000</td>\n",
              "      <td>0.000000</td>\n",
              "      <td>0.000000</td>\n",
              "      <td>0.000000</td>\n",
              "      <td>0.000000</td>\n",
              "      <td>0.000000</td>\n",
              "      <td>0.000000</td>\n",
              "      <td>0.000000</td>\n",
              "      <td>1.000000</td>\n",
              "      <td>0.000000</td>\n",
              "      <td>0.000000</td>\n",
              "      <td>0.000000</td>\n",
              "      <td>0.000000</td>\n",
              "      <td>0.000000</td>\n",
              "      <td>0.000000</td>\n",
              "      <td>0.000000</td>\n",
              "      <td>1.000000</td>\n",
              "    </tr>\n",
              "    <tr>\n",
              "      <th>75%</th>\n",
              "      <td>49.000000</td>\n",
              "      <td>1708.000000</td>\n",
              "      <td>496.000000</td>\n",
              "      <td>3.000000</td>\n",
              "      <td>1.000000</td>\n",
              "      <td>0.000000</td>\n",
              "      <td>1.000000</td>\n",
              "      <td>0.000000</td>\n",
              "      <td>1.000000</td>\n",
              "      <td>0.001919</td>\n",
              "      <td>0.000000</td>\n",
              "      <td>0.000000</td>\n",
              "      <td>0.000000</td>\n",
              "      <td>0.000000</td>\n",
              "      <td>0.000000</td>\n",
              "      <td>0.000000</td>\n",
              "      <td>1.000000</td>\n",
              "      <td>0.000000</td>\n",
              "      <td>1.000000</td>\n",
              "      <td>1.000000</td>\n",
              "      <td>0.000000</td>\n",
              "      <td>1.000000</td>\n",
              "      <td>1.000000</td>\n",
              "      <td>0.000000</td>\n",
              "      <td>0.000000</td>\n",
              "      <td>0.000000</td>\n",
              "      <td>1.000000</td>\n",
              "    </tr>\n",
              "    <tr>\n",
              "      <th>max</th>\n",
              "      <td>95.000000</td>\n",
              "      <td>81204.000000</td>\n",
              "      <td>3881.000000</td>\n",
              "      <td>63.000000</td>\n",
              "      <td>58.000000</td>\n",
              "      <td>1.000000</td>\n",
              "      <td>1.000000</td>\n",
              "      <td>1.000000</td>\n",
              "      <td>1.000000</td>\n",
              "      <td>1.000000</td>\n",
              "      <td>1.000000</td>\n",
              "      <td>1.000000</td>\n",
              "      <td>1.000000</td>\n",
              "      <td>1.000000</td>\n",
              "      <td>1.000000</td>\n",
              "      <td>1.000000</td>\n",
              "      <td>1.000000</td>\n",
              "      <td>1.000000</td>\n",
              "      <td>1.000000</td>\n",
              "      <td>1.000000</td>\n",
              "      <td>1.000000</td>\n",
              "      <td>1.000000</td>\n",
              "      <td>1.000000</td>\n",
              "      <td>1.000000</td>\n",
              "      <td>1.000000</td>\n",
              "      <td>1.000000</td>\n",
              "      <td>1.000000</td>\n",
              "    </tr>\n",
              "  </tbody>\n",
              "</table>\n",
              "</div>"
            ],
            "text/plain": [
              "                age       balance  ...  poutcome_success  poutcome_unknown\n",
              "count  11162.000000  11162.000000  ...      11162.000000      11162.000000\n",
              "mean      41.231948   1528.538524  ...          0.095951          0.794033\n",
              "std       11.913369   3225.413326  ...          0.294537          0.404424\n",
              "min       18.000000  -6847.000000  ...          0.000000          0.000000\n",
              "25%       32.000000    122.000000  ...          0.000000          1.000000\n",
              "50%       39.000000    550.000000  ...          0.000000          1.000000\n",
              "75%       49.000000   1708.000000  ...          0.000000          1.000000\n",
              "max       95.000000  81204.000000  ...          1.000000          1.000000\n",
              "\n",
              "[8 rows x 27 columns]"
            ]
          },
          "metadata": {
            "tags": []
          },
          "execution_count": 28
        }
      ]
    },
    {
      "cell_type": "markdown",
      "metadata": {
        "_cell_guid": "e1cc517d-cc97-4eee-a258-8c554ed95332",
        "_uuid": "beef0817aff3dbd8c920a4cd91bc6e56f00ecd5a",
        "id": "6k1EMGXCvJO0",
        "colab_type": "text"
      },
      "source": [
        "### Observaciones sobre toda la población."
      ]
    },
    {
      "cell_type": "code",
      "metadata": {
        "_cell_guid": "e49e7895-a6ac-4b92-9536-f341621d4604",
        "_uuid": "3ace943aed1952f64db8239a3e3a5ebdb39dfdc3",
        "collapsed": true,
        "id": "chYFqGVHvJO1",
        "colab_type": "code",
        "colab": {
          "base_uri": "https://localhost:8080/",
          "height": 279
        },
        "outputId": "e798a571-92d9-4d2e-83cf-58c7db95053d"
      },
      "source": [
        "# Scatterplot showing age and balance\n",
        "bank_with_dummies.plot(kind='scatter', x='age', y='balance');\n",
        "\n",
        "# Across all ages, majority of people have savings of less than 20000."
      ],
      "execution_count": null,
      "outputs": [
        {
          "output_type": "display_data",
          "data": {
            "image/png": "[encoded data removed]",
            "text/plain": [
              "<Figure size 432x288 with 1 Axes>"
            ]
          },
          "metadata": {
            "tags": [],
            "needs_background": "light"
          }
        }
      ]
    },
    {
      "cell_type": "code",
      "metadata": {
        "_cell_guid": "4aec6766-7948-4e5d-ad01-3d09cef30708",
        "_uuid": "58071dc03f232e6fd860638e434390b1002e2299",
        "collapsed": true,
        "id": "G3YG5bGzvJO3",
        "colab_type": "code",
        "colab": {
          "base_uri": "https://localhost:8080/",
          "height": 265
        },
        "outputId": "3fd4ffc2-4b5e-466b-a3c8-8c0984d8c5da"
      },
      "source": [
        "bank_with_dummies.plot(kind='hist', x='poutcome_success', y='duration');"
      ],
      "execution_count": null,
      "outputs": [
        {
          "output_type": "display_data",
          "data": {
            "image/png": "[encoded data removed]",
            "text/plain": [
              "<Figure size 432x288 with 1 Axes>"
            ]
          },
          "metadata": {
            "tags": [],
            "needs_background": "light"
          }
        }
      ]
    },
    {
      "cell_type": "markdown",
      "metadata": {
        "_cell_guid": "46f48fc7-340c-48bb-8f52-7f9a43d03430",
        "_uuid": "f5bccfdf19b6efdaccf2663c114f85ab910fa4a4",
        "id": "0MnZOiFUvJO6",
        "colab_type": "text"
      },
      "source": [
        "\n",
        "#### Análisis de personas que se registran para un depósito a plazo"
      ]
    },
    {
      "cell_type": "code",
      "metadata": {
        "_cell_guid": "52d4b887-1b35-434d-adf2-243edd1b3347",
        "_uuid": "0be3fa7ed1542d993bb5c8bc36b36d6ed7ca8092",
        "collapsed": true,
        "id": "dGNPkwWXvJO6",
        "colab_type": "code",
        "colab": {
          "base_uri": "https://localhost:8080/",
          "height": 331
        },
        "outputId": "7fd383fb-9623-4d3d-94d2-62157eee166c"
      },
      "source": [
        "# Personas que se inscriben en un depósito a plazo\n",
        "bank_with_dummies[bank_data.deposit_cat == 1].describe()"
      ],
      "execution_count": null,
      "outputs": [
        {
          "output_type": "execute_result",
          "data": {
            "text/html": [
              "<div>\n",
              "<style scoped>\n",
              "    .dataframe tbody tr th:only-of-type {\n",
              "        vertical-align: middle;\n",
              "    }\n",
              "\n",
              "    .dataframe tbody tr th {\n",
              "        vertical-align: top;\n",
              "    }\n",
              "\n",
              "    .dataframe thead th {\n",
              "        text-align: right;\n",
              "    }\n",
              "</style>\n",
              "<table border=\"1\" class=\"dataframe\">\n",
              "  <thead>\n",
              "    <tr style=\"text-align: right;\">\n",
              "      <th></th>\n",
              "      <th>age</th>\n",
              "      <th>balance</th>\n",
              "      <th>duration</th>\n",
              "      <th>campaign</th>\n",
              "      <th>previous</th>\n",
              "      <th>default_cat</th>\n",
              "      <th>housing_cat</th>\n",
              "      <th>loan_cat</th>\n",
              "      <th>deposit_cat</th>\n",
              "      <th>recent_pdays</th>\n",
              "      <th>job_blue-collar</th>\n",
              "      <th>job_entrepreneur</th>\n",
              "      <th>job_other</th>\n",
              "      <th>job_pink-collar</th>\n",
              "      <th>job_self-employed</th>\n",
              "      <th>job_technician</th>\n",
              "      <th>job_white-collar</th>\n",
              "      <th>marital_divorced</th>\n",
              "      <th>marital_married</th>\n",
              "      <th>marital_single</th>\n",
              "      <th>education_primary</th>\n",
              "      <th>education_secondary</th>\n",
              "      <th>education_tertiary</th>\n",
              "      <th>education_unknown</th>\n",
              "      <th>poutcome_failure</th>\n",
              "      <th>poutcome_success</th>\n",
              "      <th>poutcome_unknown</th>\n",
              "    </tr>\n",
              "  </thead>\n",
              "  <tbody>\n",
              "    <tr>\n",
              "      <th>count</th>\n",
              "      <td>5289.000000</td>\n",
              "      <td>5289.000000</td>\n",
              "      <td>5289.000000</td>\n",
              "      <td>5289.000000</td>\n",
              "      <td>5289.000000</td>\n",
              "      <td>5289.000000</td>\n",
              "      <td>5289.000000</td>\n",
              "      <td>5289.000000</td>\n",
              "      <td>5289.0</td>\n",
              "      <td>5289.000000</td>\n",
              "      <td>5289.000000</td>\n",
              "      <td>5289.000000</td>\n",
              "      <td>5289.000000</td>\n",
              "      <td>5289.000000</td>\n",
              "      <td>5289.000000</td>\n",
              "      <td>5289.000000</td>\n",
              "      <td>5289.000000</td>\n",
              "      <td>5289.000000</td>\n",
              "      <td>5289.000000</td>\n",
              "      <td>5289.000000</td>\n",
              "      <td>5289.000000</td>\n",
              "      <td>5289.000000</td>\n",
              "      <td>5289.000000</td>\n",
              "      <td>5289.000000</td>\n",
              "      <td>5289.000000</td>\n",
              "      <td>5289.000000</td>\n",
              "      <td>5289.000000</td>\n",
              "    </tr>\n",
              "    <tr>\n",
              "      <th>mean</th>\n",
              "      <td>41.670070</td>\n",
              "      <td>1804.267915</td>\n",
              "      <td>537.294574</td>\n",
              "      <td>2.141047</td>\n",
              "      <td>1.170354</td>\n",
              "      <td>0.009832</td>\n",
              "      <td>0.365854</td>\n",
              "      <td>0.091511</td>\n",
              "      <td>1.0</td>\n",
              "      <td>0.004238</td>\n",
              "      <td>0.133863</td>\n",
              "      <td>0.023256</td>\n",
              "      <td>0.193042</td>\n",
              "      <td>0.090376</td>\n",
              "      <td>0.035356</td>\n",
              "      <td>0.158820</td>\n",
              "      <td>0.365286</td>\n",
              "      <td>0.117603</td>\n",
              "      <td>0.520892</td>\n",
              "      <td>0.361505</td>\n",
              "      <td>0.111741</td>\n",
              "      <td>0.463226</td>\n",
              "      <td>0.377387</td>\n",
              "      <td>0.047646</td>\n",
              "      <td>0.116846</td>\n",
              "      <td>0.184912</td>\n",
              "      <td>0.698242</td>\n",
              "    </tr>\n",
              "    <tr>\n",
              "      <th>std</th>\n",
              "      <td>13.497781</td>\n",
              "      <td>3501.104777</td>\n",
              "      <td>392.525262</td>\n",
              "      <td>1.921826</td>\n",
              "      <td>2.553272</td>\n",
              "      <td>0.098676</td>\n",
              "      <td>0.481714</td>\n",
              "      <td>0.288361</td>\n",
              "      <td>0.0</td>\n",
              "      <td>0.035686</td>\n",
              "      <td>0.340537</td>\n",
              "      <td>0.150729</td>\n",
              "      <td>0.394723</td>\n",
              "      <td>0.286747</td>\n",
              "      <td>0.184696</td>\n",
              "      <td>0.365543</td>\n",
              "      <td>0.481556</td>\n",
              "      <td>0.322167</td>\n",
              "      <td>0.499611</td>\n",
              "      <td>0.480482</td>\n",
              "      <td>0.315078</td>\n",
              "      <td>0.498693</td>\n",
              "      <td>0.484779</td>\n",
              "      <td>0.213036</td>\n",
              "      <td>0.321267</td>\n",
              "      <td>0.388263</td>\n",
              "      <td>0.459064</td>\n",
              "    </tr>\n",
              "    <tr>\n",
              "      <th>min</th>\n",
              "      <td>18.000000</td>\n",
              "      <td>-3058.000000</td>\n",
              "      <td>8.000000</td>\n",
              "      <td>1.000000</td>\n",
              "      <td>0.000000</td>\n",
              "      <td>0.000000</td>\n",
              "      <td>0.000000</td>\n",
              "      <td>0.000000</td>\n",
              "      <td>1.0</td>\n",
              "      <td>0.000100</td>\n",
              "      <td>0.000000</td>\n",
              "      <td>0.000000</td>\n",
              "      <td>0.000000</td>\n",
              "      <td>0.000000</td>\n",
              "      <td>0.000000</td>\n",
              "      <td>0.000000</td>\n",
              "      <td>0.000000</td>\n",
              "      <td>0.000000</td>\n",
              "      <td>0.000000</td>\n",
              "      <td>0.000000</td>\n",
              "      <td>0.000000</td>\n",
              "      <td>0.000000</td>\n",
              "      <td>0.000000</td>\n",
              "      <td>0.000000</td>\n",
              "      <td>0.000000</td>\n",
              "      <td>0.000000</td>\n",
              "      <td>0.000000</td>\n",
              "    </tr>\n",
              "    <tr>\n",
              "      <th>25%</th>\n",
              "      <td>31.000000</td>\n",
              "      <td>210.000000</td>\n",
              "      <td>244.000000</td>\n",
              "      <td>1.000000</td>\n",
              "      <td>0.000000</td>\n",
              "      <td>0.000000</td>\n",
              "      <td>0.000000</td>\n",
              "      <td>0.000000</td>\n",
              "      <td>1.0</td>\n",
              "      <td>0.000100</td>\n",
              "      <td>0.000000</td>\n",
              "      <td>0.000000</td>\n",
              "      <td>0.000000</td>\n",
              "      <td>0.000000</td>\n",
              "      <td>0.000000</td>\n",
              "      <td>0.000000</td>\n",
              "      <td>0.000000</td>\n",
              "      <td>0.000000</td>\n",
              "      <td>0.000000</td>\n",
              "      <td>0.000000</td>\n",
              "      <td>0.000000</td>\n",
              "      <td>0.000000</td>\n",
              "      <td>0.000000</td>\n",
              "      <td>0.000000</td>\n",
              "      <td>0.000000</td>\n",
              "      <td>0.000000</td>\n",
              "      <td>0.000000</td>\n",
              "    </tr>\n",
              "    <tr>\n",
              "      <th>50%</th>\n",
              "      <td>38.000000</td>\n",
              "      <td>733.000000</td>\n",
              "      <td>426.000000</td>\n",
              "      <td>2.000000</td>\n",
              "      <td>0.000000</td>\n",
              "      <td>0.000000</td>\n",
              "      <td>0.000000</td>\n",
              "      <td>0.000000</td>\n",
              "      <td>1.0</td>\n",
              "      <td>0.000100</td>\n",
              "      <td>0.000000</td>\n",
              "      <td>0.000000</td>\n",
              "      <td>0.000000</td>\n",
              "      <td>0.000000</td>\n",
              "      <td>0.000000</td>\n",
              "      <td>0.000000</td>\n",
              "      <td>0.000000</td>\n",
              "      <td>0.000000</td>\n",
              "      <td>1.000000</td>\n",
              "      <td>0.000000</td>\n",
              "      <td>0.000000</td>\n",
              "      <td>0.000000</td>\n",
              "      <td>0.000000</td>\n",
              "      <td>0.000000</td>\n",
              "      <td>0.000000</td>\n",
              "      <td>0.000000</td>\n",
              "      <td>1.000000</td>\n",
              "    </tr>\n",
              "    <tr>\n",
              "      <th>75%</th>\n",
              "      <td>50.000000</td>\n",
              "      <td>2159.000000</td>\n",
              "      <td>725.000000</td>\n",
              "      <td>3.000000</td>\n",
              "      <td>1.000000</td>\n",
              "      <td>0.000000</td>\n",
              "      <td>1.000000</td>\n",
              "      <td>0.000000</td>\n",
              "      <td>1.0</td>\n",
              "      <td>0.005128</td>\n",
              "      <td>0.000000</td>\n",
              "      <td>0.000000</td>\n",
              "      <td>0.000000</td>\n",
              "      <td>0.000000</td>\n",
              "      <td>0.000000</td>\n",
              "      <td>0.000000</td>\n",
              "      <td>1.000000</td>\n",
              "      <td>0.000000</td>\n",
              "      <td>1.000000</td>\n",
              "      <td>1.000000</td>\n",
              "      <td>0.000000</td>\n",
              "      <td>1.000000</td>\n",
              "      <td>1.000000</td>\n",
              "      <td>0.000000</td>\n",
              "      <td>0.000000</td>\n",
              "      <td>0.000000</td>\n",
              "      <td>1.000000</td>\n",
              "    </tr>\n",
              "    <tr>\n",
              "      <th>max</th>\n",
              "      <td>95.000000</td>\n",
              "      <td>81204.000000</td>\n",
              "      <td>3881.000000</td>\n",
              "      <td>32.000000</td>\n",
              "      <td>58.000000</td>\n",
              "      <td>1.000000</td>\n",
              "      <td>1.000000</td>\n",
              "      <td>1.000000</td>\n",
              "      <td>1.0</td>\n",
              "      <td>1.000000</td>\n",
              "      <td>1.000000</td>\n",
              "      <td>1.000000</td>\n",
              "      <td>1.000000</td>\n",
              "      <td>1.000000</td>\n",
              "      <td>1.000000</td>\n",
              "      <td>1.000000</td>\n",
              "      <td>1.000000</td>\n",
              "      <td>1.000000</td>\n",
              "      <td>1.000000</td>\n",
              "      <td>1.000000</td>\n",
              "      <td>1.000000</td>\n",
              "      <td>1.000000</td>\n",
              "      <td>1.000000</td>\n",
              "      <td>1.000000</td>\n",
              "      <td>1.000000</td>\n",
              "      <td>1.000000</td>\n",
              "      <td>1.000000</td>\n",
              "    </tr>\n",
              "  </tbody>\n",
              "</table>\n",
              "</div>"
            ],
            "text/plain": [
              "               age       balance  ...  poutcome_success  poutcome_unknown\n",
              "count  5289.000000   5289.000000  ...       5289.000000       5289.000000\n",
              "mean     41.670070   1804.267915  ...          0.184912          0.698242\n",
              "std      13.497781   3501.104777  ...          0.388263          0.459064\n",
              "min      18.000000  -3058.000000  ...          0.000000          0.000000\n",
              "25%      31.000000    210.000000  ...          0.000000          0.000000\n",
              "50%      38.000000    733.000000  ...          0.000000          1.000000\n",
              "75%      50.000000   2159.000000  ...          0.000000          1.000000\n",
              "max      95.000000  81204.000000  ...          1.000000          1.000000\n",
              "\n",
              "[8 rows x 27 columns]"
            ]
          },
          "metadata": {
            "tags": []
          },
          "execution_count": 31
        }
      ]
    },
    {
      "cell_type": "code",
      "metadata": {
        "_cell_guid": "25c8616f-805c-4abf-b792-4b2e8f39cfcf",
        "_uuid": "3d999f6b3775dcc7b25993fcd6ccad1838d8a239",
        "collapsed": true,
        "id": "CWnpuq6FvJO9",
        "colab_type": "code",
        "colab": {
          "base_uri": "https://localhost:8080/",
          "height": 35
        },
        "outputId": "a5e71c00-8027-43c6-8288-eee2a991fccf"
      },
      "source": [
        "# Las personas se inscribieron en un depósito a plazo con un préstamo personal (loan_cat) y un préstamo de vivienda (housing_cat)\n",
        "len(bank_with_dummies[(bank_with_dummies.deposit_cat == 1) & (bank_with_dummies.loan_cat) & (bank_with_dummies.housing_cat)])"
      ],
      "execution_count": null,
      "outputs": [
        {
          "output_type": "execute_result",
          "data": {
            "text/plain": [
              "265"
            ]
          },
          "metadata": {
            "tags": []
          },
          "execution_count": 32
        }
      ]
    },
    {
      "cell_type": "code",
      "metadata": {
        "_cell_guid": "ecb235b0-9f6b-4a35-9a71-efd7525b4836",
        "_uuid": "33866e95d069281a68c5f0bcfaa272603e665390",
        "collapsed": true,
        "id": "GTOVRdcIvJPA",
        "colab_type": "code",
        "colab": {
          "base_uri": "https://localhost:8080/",
          "height": 35
        },
        "outputId": "b3c2af77-0ef0-467e-80bb-baa88ff0e4f9"
      },
      "source": [
        "# Las personas se inscribieron en un depósito a plazo con un incumplimiento de crédito\n",
        "len(bank_with_dummies[(bank_with_dummies.deposit_cat == 1) & (bank_with_dummies.default_cat ==1)])"
      ],
      "execution_count": null,
      "outputs": [
        {
          "output_type": "execute_result",
          "data": {
            "text/plain": [
              "52"
            ]
          },
          "metadata": {
            "tags": []
          },
          "execution_count": 33
        }
      ]
    },
    {
      "cell_type": "code",
      "metadata": {
        "_cell_guid": "fae049f5-fa22-4db2-9e65-2b0088ed6c2c",
        "_uuid": "037a420ecb420ad6b97029219d36d4f9147d52a6",
        "collapsed": true,
        "id": "-hWeSHjBvJPC",
        "colab_type": "code",
        "colab": {
          "base_uri": "https://localhost:8080/",
          "height": 405
        },
        "outputId": "c6ae7f9a-8287-4edd-d839-f0adf9c0e9da"
      },
      "source": [
        "# Bar chart of job Vs deposite\n",
        "plt.figure(figsize = (10,6))\n",
        "sns.barplot(x='job', y = 'deposit_cat', data = bank_data)"
      ],
      "execution_count": null,
      "outputs": [
        {
          "output_type": "execute_result",
          "data": {
            "text/plain": [
              "<matplotlib.axes._subplots.AxesSubplot at 0x7fa765819668>"
            ]
          },
          "metadata": {
            "tags": []
          },
          "execution_count": 34
        },
        {
          "output_type": "display_data",
          "data": {
            "image/png": "[encoded data removed]",
            "text/plain": [
              "<Figure size 720x432 with 1 Axes>"
            ]
          },
          "metadata": {
            "tags": [],
            "needs_background": "light"
          }
        }
      ]
    },
    {
      "cell_type": "code",
      "metadata": {
        "_cell_guid": "1a35a8e5-3df3-470c-9bf1-71a476f587e6",
        "_uuid": "7f5cb673253553269fcb783d941d7b37499b9a3e",
        "collapsed": true,
        "id": "uc_N8sZfvJPF",
        "colab_type": "code",
        "colab": {
          "base_uri": "https://localhost:8080/",
          "height": 405
        },
        "outputId": "b986ab30-512e-4dc2-b006-169671749c91"
      },
      "source": [
        "# Bar chart of \"previous outcome\" Vs \"call duration\"\n",
        "\n",
        "plt.figure(figsize = (10,6))\n",
        "sns.barplot(x='poutcome', y = 'duration', data = bank_data)"
      ],
      "execution_count": null,
      "outputs": [
        {
          "output_type": "execute_result",
          "data": {
            "text/plain": [
              "<matplotlib.axes._subplots.AxesSubplot at 0x7fa765e6ccf8>"
            ]
          },
          "metadata": {
            "tags": []
          },
          "execution_count": 35
        },
        {
          "output_type": "display_data",
          "data": {
            "image/png": "[encoded data removed]",
            "text/plain": [
              "<Figure size 720x432 with 1 Axes>"
            ]
          },
          "metadata": {
            "tags": [],
            "needs_background": "light"
          }
        }
      ]
    },
    {
      "cell_type": "markdown",
      "metadata": {
        "_cell_guid": "24492c44-5b2a-4878-9236-df9297680902",
        "_uuid": "d583dd9fbc7df31d950d78bcb62f2156a6c14ed3",
        "id": "heqcaTWjvJPH",
        "colab_type": "text"
      },
      "source": [
        "> ## Classification"
      ]
    },
    {
      "cell_type": "code",
      "metadata": {
        "_cell_guid": "9365fde6-e602-4996-a79a-2d7e4ec3bee2",
        "_uuid": "4482103b89dd40dbb5ac9bbafee6e85da23c27c3",
        "id": "LaxnwmJavJPJ",
        "colab_type": "code",
        "colab": {}
      },
      "source": [
        "# make a copy\n",
        "bankcl = bank_with_dummies"
      ],
      "execution_count": null,
      "outputs": []
    },
    {
      "cell_type": "code",
      "metadata": {
        "_cell_guid": "edf85d97-fec6-4f90-a3d0-02a1ec094a08",
        "_uuid": "ff08aff610ab1676acc902da63dc35ae1c321673",
        "collapsed": true,
        "id": "TnjCbiwpvJPM",
        "colab_type": "code",
        "colab": {
          "base_uri": "https://localhost:8080/",
          "height": 914
        },
        "outputId": "60003a3e-e6b6-4463-df51-d7b45c7ffe0a"
      },
      "source": [
        "# The Correltion matrix\n",
        "corr = bankcl.corr()\n",
        "corr"
      ],
      "execution_count": null,
      "outputs": [
        {
          "output_type": "execute_result",
          "data": {
            "text/html": [
              "<div>\n",
              "<style scoped>\n",
              "    .dataframe tbody tr th:only-of-type {\n",
              "        vertical-align: middle;\n",
              "    }\n",
              "\n",
              "    .dataframe tbody tr th {\n",
              "        vertical-align: top;\n",
              "    }\n",
              "\n",
              "    .dataframe thead th {\n",
              "        text-align: right;\n",
              "    }\n",
              "</style>\n",
              "<table border=\"1\" class=\"dataframe\">\n",
              "  <thead>\n",
              "    <tr style=\"text-align: right;\">\n",
              "      <th></th>\n",
              "      <th>age</th>\n",
              "      <th>balance</th>\n",
              "      <th>duration</th>\n",
              "      <th>campaign</th>\n",
              "      <th>previous</th>\n",
              "      <th>default_cat</th>\n",
              "      <th>housing_cat</th>\n",
              "      <th>loan_cat</th>\n",
              "      <th>deposit_cat</th>\n",
              "      <th>recent_pdays</th>\n",
              "      <th>job_blue-collar</th>\n",
              "      <th>job_entrepreneur</th>\n",
              "      <th>job_other</th>\n",
              "      <th>job_pink-collar</th>\n",
              "      <th>job_self-employed</th>\n",
              "      <th>job_technician</th>\n",
              "      <th>job_white-collar</th>\n",
              "      <th>marital_divorced</th>\n",
              "      <th>marital_married</th>\n",
              "      <th>marital_single</th>\n",
              "      <th>education_primary</th>\n",
              "      <th>education_secondary</th>\n",
              "      <th>education_tertiary</th>\n",
              "      <th>education_unknown</th>\n",
              "      <th>poutcome_failure</th>\n",
              "      <th>poutcome_success</th>\n",
              "      <th>poutcome_unknown</th>\n",
              "    </tr>\n",
              "  </thead>\n",
              "  <tbody>\n",
              "    <tr>\n",
              "      <th>age</th>\n",
              "      <td>1.000000</td>\n",
              "      <td>0.112300</td>\n",
              "      <td>0.000189</td>\n",
              "      <td>-0.005278</td>\n",
              "      <td>0.020169</td>\n",
              "      <td>-0.011425</td>\n",
              "      <td>-0.168700</td>\n",
              "      <td>-0.031418</td>\n",
              "      <td>0.034901</td>\n",
              "      <td>0.019102</td>\n",
              "      <td>-0.066567</td>\n",
              "      <td>0.024176</td>\n",
              "      <td>0.296418</td>\n",
              "      <td>-0.027942</td>\n",
              "      <td>-0.023163</td>\n",
              "      <td>-0.082716</td>\n",
              "      <td>-0.080122</td>\n",
              "      <td>0.186349</td>\n",
              "      <td>0.318436</td>\n",
              "      <td>-0.467799</td>\n",
              "      <td>0.231150</td>\n",
              "      <td>-0.094400</td>\n",
              "      <td>-0.101372</td>\n",
              "      <td>0.077761</td>\n",
              "      <td>-0.008071</td>\n",
              "      <td>0.062114</td>\n",
              "      <td>-0.038992</td>\n",
              "    </tr>\n",
              "    <tr>\n",
              "      <th>balance</th>\n",
              "      <td>0.112300</td>\n",
              "      <td>1.000000</td>\n",
              "      <td>0.022436</td>\n",
              "      <td>-0.013894</td>\n",
              "      <td>0.030805</td>\n",
              "      <td>-0.060954</td>\n",
              "      <td>-0.077092</td>\n",
              "      <td>-0.084589</td>\n",
              "      <td>0.081129</td>\n",
              "      <td>-0.004379</td>\n",
              "      <td>-0.046220</td>\n",
              "      <td>0.005039</td>\n",
              "      <td>0.050744</td>\n",
              "      <td>-0.041063</td>\n",
              "      <td>0.020264</td>\n",
              "      <td>0.003802</td>\n",
              "      <td>0.013780</td>\n",
              "      <td>-0.017586</td>\n",
              "      <td>0.025431</td>\n",
              "      <td>-0.014994</td>\n",
              "      <td>-0.000673</td>\n",
              "      <td>-0.070609</td>\n",
              "      <td>0.069128</td>\n",
              "      <td>0.014596</td>\n",
              "      <td>0.001695</td>\n",
              "      <td>0.045603</td>\n",
              "      <td>-0.034524</td>\n",
              "    </tr>\n",
              "    <tr>\n",
              "      <th>duration</th>\n",
              "      <td>0.000189</td>\n",
              "      <td>0.022436</td>\n",
              "      <td>1.000000</td>\n",
              "      <td>-0.041557</td>\n",
              "      <td>-0.026716</td>\n",
              "      <td>-0.009760</td>\n",
              "      <td>0.035051</td>\n",
              "      <td>-0.001914</td>\n",
              "      <td>0.451919</td>\n",
              "      <td>-0.014868</td>\n",
              "      <td>0.029986</td>\n",
              "      <td>-0.000908</td>\n",
              "      <td>0.010680</td>\n",
              "      <td>0.005345</td>\n",
              "      <td>0.013506</td>\n",
              "      <td>-0.010440</td>\n",
              "      <td>-0.031980</td>\n",
              "      <td>0.021364</td>\n",
              "      <td>-0.036179</td>\n",
              "      <td>0.023847</td>\n",
              "      <td>0.013405</td>\n",
              "      <td>0.003820</td>\n",
              "      <td>-0.006813</td>\n",
              "      <td>-0.015887</td>\n",
              "      <td>-0.033966</td>\n",
              "      <td>-0.022578</td>\n",
              "      <td>0.042725</td>\n",
              "    </tr>\n",
              "    <tr>\n",
              "      <th>campaign</th>\n",
              "      <td>-0.005278</td>\n",
              "      <td>-0.013894</td>\n",
              "      <td>-0.041557</td>\n",
              "      <td>1.000000</td>\n",
              "      <td>-0.049699</td>\n",
              "      <td>0.030975</td>\n",
              "      <td>0.006660</td>\n",
              "      <td>0.034722</td>\n",
              "      <td>-0.128081</td>\n",
              "      <td>-0.026296</td>\n",
              "      <td>0.005522</td>\n",
              "      <td>0.013883</td>\n",
              "      <td>-0.050212</td>\n",
              "      <td>0.011958</td>\n",
              "      <td>0.001776</td>\n",
              "      <td>0.021738</td>\n",
              "      <td>0.001944</td>\n",
              "      <td>-0.006828</td>\n",
              "      <td>0.047722</td>\n",
              "      <td>-0.046165</td>\n",
              "      <td>0.019915</td>\n",
              "      <td>-0.013834</td>\n",
              "      <td>-0.005427</td>\n",
              "      <td>0.012976</td>\n",
              "      <td>-0.080188</td>\n",
              "      <td>-0.091807</td>\n",
              "      <td>0.128907</td>\n",
              "    </tr>\n",
              "    <tr>\n",
              "      <th>previous</th>\n",
              "      <td>0.020169</td>\n",
              "      <td>0.030805</td>\n",
              "      <td>-0.026716</td>\n",
              "      <td>-0.049699</td>\n",
              "      <td>1.000000</td>\n",
              "      <td>-0.035273</td>\n",
              "      <td>-0.000840</td>\n",
              "      <td>-0.022668</td>\n",
              "      <td>0.139867</td>\n",
              "      <td>0.122076</td>\n",
              "      <td>-0.039939</td>\n",
              "      <td>-0.022470</td>\n",
              "      <td>0.031191</td>\n",
              "      <td>-0.028623</td>\n",
              "      <td>-0.002338</td>\n",
              "      <td>0.002035</td>\n",
              "      <td>0.034929</td>\n",
              "      <td>-0.026566</td>\n",
              "      <td>-0.005176</td>\n",
              "      <td>0.023817</td>\n",
              "      <td>-0.024852</td>\n",
              "      <td>-0.004620</td>\n",
              "      <td>0.028146</td>\n",
              "      <td>-0.011898</td>\n",
              "      <td>0.335870</td>\n",
              "      <td>0.325477</td>\n",
              "      <td>-0.496921</td>\n",
              "    </tr>\n",
              "    <tr>\n",
              "      <th>default_cat</th>\n",
              "      <td>-0.011425</td>\n",
              "      <td>-0.060954</td>\n",
              "      <td>-0.009760</td>\n",
              "      <td>0.030975</td>\n",
              "      <td>-0.035273</td>\n",
              "      <td>1.000000</td>\n",
              "      <td>0.011076</td>\n",
              "      <td>0.076434</td>\n",
              "      <td>-0.040680</td>\n",
              "      <td>-0.011290</td>\n",
              "      <td>0.022779</td>\n",
              "      <td>0.022060</td>\n",
              "      <td>-0.018130</td>\n",
              "      <td>-0.007173</td>\n",
              "      <td>0.007493</td>\n",
              "      <td>0.003109</td>\n",
              "      <td>-0.013425</td>\n",
              "      <td>0.019633</td>\n",
              "      <td>-0.006819</td>\n",
              "      <td>-0.006255</td>\n",
              "      <td>0.013858</td>\n",
              "      <td>-0.000618</td>\n",
              "      <td>-0.011768</td>\n",
              "      <td>0.005421</td>\n",
              "      <td>-0.024650</td>\n",
              "      <td>-0.040272</td>\n",
              "      <td>0.048403</td>\n",
              "    </tr>\n",
              "    <tr>\n",
              "      <th>housing_cat</th>\n",
              "      <td>-0.168700</td>\n",
              "      <td>-0.077092</td>\n",
              "      <td>0.035051</td>\n",
              "      <td>0.006660</td>\n",
              "      <td>-0.000840</td>\n",
              "      <td>0.011076</td>\n",
              "      <td>1.000000</td>\n",
              "      <td>0.076761</td>\n",
              "      <td>-0.203888</td>\n",
              "      <td>-0.029350</td>\n",
              "      <td>0.189848</td>\n",
              "      <td>0.011492</td>\n",
              "      <td>-0.233309</td>\n",
              "      <td>0.043884</td>\n",
              "      <td>-0.016903</td>\n",
              "      <td>0.006551</td>\n",
              "      <td>-0.012111</td>\n",
              "      <td>0.007430</td>\n",
              "      <td>0.036305</td>\n",
              "      <td>-0.043817</td>\n",
              "      <td>0.017002</td>\n",
              "      <td>0.118514</td>\n",
              "      <td>-0.114955</td>\n",
              "      <td>-0.053191</td>\n",
              "      <td>0.087741</td>\n",
              "      <td>-0.136299</td>\n",
              "      <td>0.031375</td>\n",
              "    </tr>\n",
              "    <tr>\n",
              "      <th>loan_cat</th>\n",
              "      <td>-0.031418</td>\n",
              "      <td>-0.084589</td>\n",
              "      <td>-0.001914</td>\n",
              "      <td>0.034722</td>\n",
              "      <td>-0.022668</td>\n",
              "      <td>0.076434</td>\n",
              "      <td>0.076761</td>\n",
              "      <td>1.000000</td>\n",
              "      <td>-0.110580</td>\n",
              "      <td>-0.012697</td>\n",
              "      <td>0.057956</td>\n",
              "      <td>0.042631</td>\n",
              "      <td>-0.096196</td>\n",
              "      <td>0.014969</td>\n",
              "      <td>0.004299</td>\n",
              "      <td>0.006864</td>\n",
              "      <td>-0.007871</td>\n",
              "      <td>0.026463</td>\n",
              "      <td>0.044148</td>\n",
              "      <td>-0.065288</td>\n",
              "      <td>0.006854</td>\n",
              "      <td>0.079583</td>\n",
              "      <td>-0.067513</td>\n",
              "      <td>-0.050249</td>\n",
              "      <td>0.006264</td>\n",
              "      <td>-0.080370</td>\n",
              "      <td>0.053686</td>\n",
              "    </tr>\n",
              "    <tr>\n",
              "      <th>deposit_cat</th>\n",
              "      <td>0.034901</td>\n",
              "      <td>0.081129</td>\n",
              "      <td>0.451919</td>\n",
              "      <td>-0.128081</td>\n",
              "      <td>0.139867</td>\n",
              "      <td>-0.040680</td>\n",
              "      <td>-0.203888</td>\n",
              "      <td>-0.110580</td>\n",
              "      <td>1.000000</td>\n",
              "      <td>0.034457</td>\n",
              "      <td>-0.100840</td>\n",
              "      <td>-0.034443</td>\n",
              "      <td>0.144408</td>\n",
              "      <td>-0.051717</td>\n",
              "      <td>-0.004707</td>\n",
              "      <td>-0.011557</td>\n",
              "      <td>0.031621</td>\n",
              "      <td>0.005228</td>\n",
              "      <td>-0.092157</td>\n",
              "      <td>0.094632</td>\n",
              "      <td>-0.063002</td>\n",
              "      <td>-0.051952</td>\n",
              "      <td>0.094598</td>\n",
              "      <td>0.014355</td>\n",
              "      <td>0.020714</td>\n",
              "      <td>0.286642</td>\n",
              "      <td>-0.224785</td>\n",
              "    </tr>\n",
              "    <tr>\n",
              "      <th>recent_pdays</th>\n",
              "      <td>0.019102</td>\n",
              "      <td>-0.004379</td>\n",
              "      <td>-0.014868</td>\n",
              "      <td>-0.026296</td>\n",
              "      <td>0.122076</td>\n",
              "      <td>-0.011290</td>\n",
              "      <td>-0.029350</td>\n",
              "      <td>-0.012697</td>\n",
              "      <td>0.034457</td>\n",
              "      <td>1.000000</td>\n",
              "      <td>-0.018514</td>\n",
              "      <td>0.006251</td>\n",
              "      <td>0.024356</td>\n",
              "      <td>-0.001183</td>\n",
              "      <td>-0.008226</td>\n",
              "      <td>-0.007412</td>\n",
              "      <td>0.004516</td>\n",
              "      <td>-0.020253</td>\n",
              "      <td>0.009583</td>\n",
              "      <td>0.003736</td>\n",
              "      <td>-0.007034</td>\n",
              "      <td>-0.017129</td>\n",
              "      <td>0.017346</td>\n",
              "      <td>0.013590</td>\n",
              "      <td>0.051422</td>\n",
              "      <td>0.119598</td>\n",
              "      <td>-0.126890</td>\n",
              "    </tr>\n",
              "    <tr>\n",
              "      <th>job_blue-collar</th>\n",
              "      <td>-0.066567</td>\n",
              "      <td>-0.046220</td>\n",
              "      <td>0.029986</td>\n",
              "      <td>0.005522</td>\n",
              "      <td>-0.039939</td>\n",
              "      <td>0.022779</td>\n",
              "      <td>0.189848</td>\n",
              "      <td>0.057956</td>\n",
              "      <td>-0.100840</td>\n",
              "      <td>-0.018514</td>\n",
              "      <td>1.000000</td>\n",
              "      <td>-0.079905</td>\n",
              "      <td>-0.185447</td>\n",
              "      <td>-0.159162</td>\n",
              "      <td>-0.089107</td>\n",
              "      <td>-0.202896</td>\n",
              "      <td>-0.336538</td>\n",
              "      <td>-0.056240</td>\n",
              "      <td>0.109188</td>\n",
              "      <td>-0.077645</td>\n",
              "      <td>0.299737</td>\n",
              "      <td>0.076687</td>\n",
              "      <td>-0.298548</td>\n",
              "      <td>-0.000640</td>\n",
              "      <td>-0.018022</td>\n",
              "      <td>-0.077422</td>\n",
              "      <td>0.070330</td>\n",
              "    </tr>\n",
              "    <tr>\n",
              "      <th>job_entrepreneur</th>\n",
              "      <td>0.024176</td>\n",
              "      <td>0.005039</td>\n",
              "      <td>-0.000908</td>\n",
              "      <td>0.013883</td>\n",
              "      <td>-0.022470</td>\n",
              "      <td>0.022060</td>\n",
              "      <td>0.011492</td>\n",
              "      <td>0.042631</td>\n",
              "      <td>-0.034443</td>\n",
              "      <td>0.006251</td>\n",
              "      <td>-0.079905</td>\n",
              "      <td>1.000000</td>\n",
              "      <td>-0.070264</td>\n",
              "      <td>-0.060305</td>\n",
              "      <td>-0.033762</td>\n",
              "      <td>-0.076875</td>\n",
              "      <td>-0.127511</td>\n",
              "      <td>0.006638</td>\n",
              "      <td>0.050746</td>\n",
              "      <td>-0.058665</td>\n",
              "      <td>-0.004788</td>\n",
              "      <td>-0.021132</td>\n",
              "      <td>0.026612</td>\n",
              "      <td>-0.001555</td>\n",
              "      <td>-0.001840</td>\n",
              "      <td>-0.035072</td>\n",
              "      <td>0.026966</td>\n",
              "    </tr>\n",
              "    <tr>\n",
              "      <th>job_other</th>\n",
              "      <td>0.296418</td>\n",
              "      <td>0.050744</td>\n",
              "      <td>0.010680</td>\n",
              "      <td>-0.050212</td>\n",
              "      <td>0.031191</td>\n",
              "      <td>-0.018130</td>\n",
              "      <td>-0.233309</td>\n",
              "      <td>-0.096196</td>\n",
              "      <td>0.144408</td>\n",
              "      <td>0.024356</td>\n",
              "      <td>-0.185447</td>\n",
              "      <td>-0.070264</td>\n",
              "      <td>1.000000</td>\n",
              "      <td>-0.139958</td>\n",
              "      <td>-0.078356</td>\n",
              "      <td>-0.178415</td>\n",
              "      <td>-0.295933</td>\n",
              "      <td>0.032824</td>\n",
              "      <td>-0.030982</td>\n",
              "      <td>0.010413</td>\n",
              "      <td>0.114003</td>\n",
              "      <td>-0.020532</td>\n",
              "      <td>-0.110383</td>\n",
              "      <td>0.112986</td>\n",
              "      <td>-0.010865</td>\n",
              "      <td>0.099733</td>\n",
              "      <td>-0.064228</td>\n",
              "    </tr>\n",
              "    <tr>\n",
              "      <th>job_pink-collar</th>\n",
              "      <td>-0.027942</td>\n",
              "      <td>-0.041063</td>\n",
              "      <td>0.005345</td>\n",
              "      <td>0.011958</td>\n",
              "      <td>-0.028623</td>\n",
              "      <td>-0.007173</td>\n",
              "      <td>0.043884</td>\n",
              "      <td>0.014969</td>\n",
              "      <td>-0.051717</td>\n",
              "      <td>-0.001183</td>\n",
              "      <td>-0.159162</td>\n",
              "      <td>-0.060305</td>\n",
              "      <td>-0.139958</td>\n",
              "      <td>1.000000</td>\n",
              "      <td>-0.067250</td>\n",
              "      <td>-0.153127</td>\n",
              "      <td>-0.253988</td>\n",
              "      <td>0.025640</td>\n",
              "      <td>0.007558</td>\n",
              "      <td>-0.025718</td>\n",
              "      <td>0.056150</td>\n",
              "      <td>0.137129</td>\n",
              "      <td>-0.184418</td>\n",
              "      <td>-0.004629</td>\n",
              "      <td>-0.010816</td>\n",
              "      <td>-0.030331</td>\n",
              "      <td>0.030459</td>\n",
              "    </tr>\n",
              "    <tr>\n",
              "      <th>job_self-employed</th>\n",
              "      <td>-0.023163</td>\n",
              "      <td>0.020264</td>\n",
              "      <td>0.013506</td>\n",
              "      <td>0.001776</td>\n",
              "      <td>-0.002338</td>\n",
              "      <td>0.007493</td>\n",
              "      <td>-0.016903</td>\n",
              "      <td>0.004299</td>\n",
              "      <td>-0.004707</td>\n",
              "      <td>-0.008226</td>\n",
              "      <td>-0.089107</td>\n",
              "      <td>-0.033762</td>\n",
              "      <td>-0.078356</td>\n",
              "      <td>-0.067250</td>\n",
              "      <td>1.000000</td>\n",
              "      <td>-0.085728</td>\n",
              "      <td>-0.142196</td>\n",
              "      <td>-0.011849</td>\n",
              "      <td>-0.008164</td>\n",
              "      <td>0.016864</td>\n",
              "      <td>-0.037121</td>\n",
              "      <td>-0.060080</td>\n",
              "      <td>0.097929</td>\n",
              "      <td>-0.016336</td>\n",
              "      <td>-0.010039</td>\n",
              "      <td>-0.001399</td>\n",
              "      <td>0.008786</td>\n",
              "    </tr>\n",
              "    <tr>\n",
              "      <th>job_technician</th>\n",
              "      <td>-0.082716</td>\n",
              "      <td>0.003802</td>\n",
              "      <td>-0.010440</td>\n",
              "      <td>0.021738</td>\n",
              "      <td>0.002035</td>\n",
              "      <td>0.003109</td>\n",
              "      <td>0.006551</td>\n",
              "      <td>0.006864</td>\n",
              "      <td>-0.011557</td>\n",
              "      <td>-0.007412</td>\n",
              "      <td>-0.202896</td>\n",
              "      <td>-0.076875</td>\n",
              "      <td>-0.178415</td>\n",
              "      <td>-0.153127</td>\n",
              "      <td>-0.085728</td>\n",
              "      <td>1.000000</td>\n",
              "      <td>-0.323778</td>\n",
              "      <td>-0.005434</td>\n",
              "      <td>-0.052492</td>\n",
              "      <td>0.059696</td>\n",
              "      <td>-0.144948</td>\n",
              "      <td>0.152542</td>\n",
              "      <td>-0.041988</td>\n",
              "      <td>-0.034276</td>\n",
              "      <td>0.005763</td>\n",
              "      <td>-0.014744</td>\n",
              "      <td>0.006279</td>\n",
              "    </tr>\n",
              "    <tr>\n",
              "      <th>job_white-collar</th>\n",
              "      <td>-0.080122</td>\n",
              "      <td>0.013780</td>\n",
              "      <td>-0.031980</td>\n",
              "      <td>0.001944</td>\n",
              "      <td>0.034929</td>\n",
              "      <td>-0.013425</td>\n",
              "      <td>-0.012111</td>\n",
              "      <td>-0.007871</td>\n",
              "      <td>0.031621</td>\n",
              "      <td>0.004516</td>\n",
              "      <td>-0.336538</td>\n",
              "      <td>-0.127511</td>\n",
              "      <td>-0.295933</td>\n",
              "      <td>-0.253988</td>\n",
              "      <td>-0.142196</td>\n",
              "      <td>-0.323778</td>\n",
              "      <td>1.000000</td>\n",
              "      <td>0.010701</td>\n",
              "      <td>-0.043270</td>\n",
              "      <td>0.038752</td>\n",
              "      <td>-0.229245</td>\n",
              "      <td>-0.222261</td>\n",
              "      <td>0.422261</td>\n",
              "      <td>-0.045233</td>\n",
              "      <td>0.029387</td>\n",
              "      <td>0.033044</td>\n",
              "      <td>-0.046804</td>\n",
              "    </tr>\n",
              "    <tr>\n",
              "      <th>marital_divorced</th>\n",
              "      <td>0.186349</td>\n",
              "      <td>-0.017586</td>\n",
              "      <td>0.021364</td>\n",
              "      <td>-0.006828</td>\n",
              "      <td>-0.026566</td>\n",
              "      <td>0.019633</td>\n",
              "      <td>0.007430</td>\n",
              "      <td>0.026463</td>\n",
              "      <td>0.005228</td>\n",
              "      <td>-0.020253</td>\n",
              "      <td>-0.056240</td>\n",
              "      <td>0.006638</td>\n",
              "      <td>0.032824</td>\n",
              "      <td>0.025640</td>\n",
              "      <td>-0.011849</td>\n",
              "      <td>-0.005434</td>\n",
              "      <td>0.010701</td>\n",
              "      <td>1.000000</td>\n",
              "      <td>-0.415878</td>\n",
              "      <td>-0.245556</td>\n",
              "      <td>0.024821</td>\n",
              "      <td>0.009891</td>\n",
              "      <td>-0.024597</td>\n",
              "      <td>-0.008920</td>\n",
              "      <td>-0.026169</td>\n",
              "      <td>-0.018120</td>\n",
              "      <td>0.033445</td>\n",
              "    </tr>\n",
              "    <tr>\n",
              "      <th>marital_married</th>\n",
              "      <td>0.318436</td>\n",
              "      <td>0.025431</td>\n",
              "      <td>-0.036179</td>\n",
              "      <td>0.047722</td>\n",
              "      <td>-0.005176</td>\n",
              "      <td>-0.006819</td>\n",
              "      <td>0.036305</td>\n",
              "      <td>0.044148</td>\n",
              "      <td>-0.092157</td>\n",
              "      <td>0.009583</td>\n",
              "      <td>0.109188</td>\n",
              "      <td>0.050746</td>\n",
              "      <td>-0.030982</td>\n",
              "      <td>0.007558</td>\n",
              "      <td>-0.008164</td>\n",
              "      <td>-0.052492</td>\n",
              "      <td>-0.043270</td>\n",
              "      <td>-0.415878</td>\n",
              "      <td>1.000000</td>\n",
              "      <td>-0.779455</td>\n",
              "      <td>0.130232</td>\n",
              "      <td>0.001536</td>\n",
              "      <td>-0.098449</td>\n",
              "      <td>0.005451</td>\n",
              "      <td>0.007682</td>\n",
              "      <td>-0.010063</td>\n",
              "      <td>0.001384</td>\n",
              "    </tr>\n",
              "    <tr>\n",
              "      <th>marital_single</th>\n",
              "      <td>-0.467799</td>\n",
              "      <td>-0.014994</td>\n",
              "      <td>0.023847</td>\n",
              "      <td>-0.046165</td>\n",
              "      <td>0.023817</td>\n",
              "      <td>-0.006255</td>\n",
              "      <td>-0.043817</td>\n",
              "      <td>-0.065288</td>\n",
              "      <td>0.094632</td>\n",
              "      <td>0.003736</td>\n",
              "      <td>-0.077645</td>\n",
              "      <td>-0.058665</td>\n",
              "      <td>0.010413</td>\n",
              "      <td>-0.025718</td>\n",
              "      <td>0.016864</td>\n",
              "      <td>0.059696</td>\n",
              "      <td>0.038752</td>\n",
              "      <td>-0.245556</td>\n",
              "      <td>-0.779455</td>\n",
              "      <td>1.000000</td>\n",
              "      <td>-0.155917</td>\n",
              "      <td>-0.008450</td>\n",
              "      <td>0.121884</td>\n",
              "      <td>0.000334</td>\n",
              "      <td>0.009838</td>\n",
              "      <td>0.023208</td>\n",
              "      <td>-0.024514</td>\n",
              "    </tr>\n",
              "    <tr>\n",
              "      <th>education_primary</th>\n",
              "      <td>0.231150</td>\n",
              "      <td>-0.000673</td>\n",
              "      <td>0.013405</td>\n",
              "      <td>0.019915</td>\n",
              "      <td>-0.024852</td>\n",
              "      <td>0.013858</td>\n",
              "      <td>0.017002</td>\n",
              "      <td>0.006854</td>\n",
              "      <td>-0.063002</td>\n",
              "      <td>-0.007034</td>\n",
              "      <td>0.299737</td>\n",
              "      <td>-0.004788</td>\n",
              "      <td>0.114003</td>\n",
              "      <td>0.056150</td>\n",
              "      <td>-0.037121</td>\n",
              "      <td>-0.144948</td>\n",
              "      <td>-0.229245</td>\n",
              "      <td>0.024821</td>\n",
              "      <td>0.130232</td>\n",
              "      <td>-0.155917</td>\n",
              "      <td>1.000000</td>\n",
              "      <td>-0.386670</td>\n",
              "      <td>-0.276834</td>\n",
              "      <td>-0.085057</td>\n",
              "      <td>-0.026044</td>\n",
              "      <td>-0.049879</td>\n",
              "      <td>0.056477</td>\n",
              "    </tr>\n",
              "    <tr>\n",
              "      <th>education_secondary</th>\n",
              "      <td>-0.094400</td>\n",
              "      <td>-0.070609</td>\n",
              "      <td>0.003820</td>\n",
              "      <td>-0.013834</td>\n",
              "      <td>-0.004620</td>\n",
              "      <td>-0.000618</td>\n",
              "      <td>0.118514</td>\n",
              "      <td>0.079583</td>\n",
              "      <td>-0.051952</td>\n",
              "      <td>-0.017129</td>\n",
              "      <td>0.076687</td>\n",
              "      <td>-0.021132</td>\n",
              "      <td>-0.020532</td>\n",
              "      <td>0.137129</td>\n",
              "      <td>-0.060080</td>\n",
              "      <td>0.152542</td>\n",
              "      <td>-0.222261</td>\n",
              "      <td>0.009891</td>\n",
              "      <td>0.001536</td>\n",
              "      <td>-0.008450</td>\n",
              "      <td>-0.386670</td>\n",
              "      <td>1.000000</td>\n",
              "      <td>-0.689501</td>\n",
              "      <td>-0.211849</td>\n",
              "      <td>0.010625</td>\n",
              "      <td>-0.029466</td>\n",
              "      <td>0.013238</td>\n",
              "    </tr>\n",
              "    <tr>\n",
              "      <th>education_tertiary</th>\n",
              "      <td>-0.101372</td>\n",
              "      <td>0.069128</td>\n",
              "      <td>-0.006813</td>\n",
              "      <td>-0.005427</td>\n",
              "      <td>0.028146</td>\n",
              "      <td>-0.011768</td>\n",
              "      <td>-0.114955</td>\n",
              "      <td>-0.067513</td>\n",
              "      <td>0.094598</td>\n",
              "      <td>0.017346</td>\n",
              "      <td>-0.298548</td>\n",
              "      <td>0.026612</td>\n",
              "      <td>-0.110383</td>\n",
              "      <td>-0.184418</td>\n",
              "      <td>0.097929</td>\n",
              "      <td>-0.041988</td>\n",
              "      <td>0.422261</td>\n",
              "      <td>-0.024597</td>\n",
              "      <td>-0.098449</td>\n",
              "      <td>0.121884</td>\n",
              "      <td>-0.276834</td>\n",
              "      <td>-0.689501</td>\n",
              "      <td>1.000000</td>\n",
              "      <td>-0.151672</td>\n",
              "      <td>0.012265</td>\n",
              "      <td>0.059518</td>\n",
              "      <td>-0.052836</td>\n",
              "    </tr>\n",
              "    <tr>\n",
              "      <th>education_unknown</th>\n",
              "      <td>0.077761</td>\n",
              "      <td>0.014596</td>\n",
              "      <td>-0.015887</td>\n",
              "      <td>0.012976</td>\n",
              "      <td>-0.011898</td>\n",
              "      <td>0.005421</td>\n",
              "      <td>-0.053191</td>\n",
              "      <td>-0.050249</td>\n",
              "      <td>0.014355</td>\n",
              "      <td>0.013590</td>\n",
              "      <td>-0.000640</td>\n",
              "      <td>-0.001555</td>\n",
              "      <td>0.112986</td>\n",
              "      <td>-0.004629</td>\n",
              "      <td>-0.016336</td>\n",
              "      <td>-0.034276</td>\n",
              "      <td>-0.045233</td>\n",
              "      <td>-0.008920</td>\n",
              "      <td>0.005451</td>\n",
              "      <td>0.000334</td>\n",
              "      <td>-0.085057</td>\n",
              "      <td>-0.211849</td>\n",
              "      <td>-0.151672</td>\n",
              "      <td>1.000000</td>\n",
              "      <td>-0.010658</td>\n",
              "      <td>0.018158</td>\n",
              "      <td>-0.004978</td>\n",
              "    </tr>\n",
              "    <tr>\n",
              "      <th>poutcome_failure</th>\n",
              "      <td>-0.008071</td>\n",
              "      <td>0.001695</td>\n",
              "      <td>-0.033966</td>\n",
              "      <td>-0.080188</td>\n",
              "      <td>0.335870</td>\n",
              "      <td>-0.024650</td>\n",
              "      <td>0.087741</td>\n",
              "      <td>0.006264</td>\n",
              "      <td>0.020714</td>\n",
              "      <td>0.051422</td>\n",
              "      <td>-0.018022</td>\n",
              "      <td>-0.001840</td>\n",
              "      <td>-0.010865</td>\n",
              "      <td>-0.010816</td>\n",
              "      <td>-0.010039</td>\n",
              "      <td>0.005763</td>\n",
              "      <td>0.029387</td>\n",
              "      <td>-0.026169</td>\n",
              "      <td>0.007682</td>\n",
              "      <td>0.009838</td>\n",
              "      <td>-0.026044</td>\n",
              "      <td>0.010625</td>\n",
              "      <td>0.012265</td>\n",
              "      <td>-0.010658</td>\n",
              "      <td>1.000000</td>\n",
              "      <td>-0.114542</td>\n",
              "      <td>-0.690332</td>\n",
              "    </tr>\n",
              "    <tr>\n",
              "      <th>poutcome_success</th>\n",
              "      <td>0.062114</td>\n",
              "      <td>0.045603</td>\n",
              "      <td>-0.022578</td>\n",
              "      <td>-0.091807</td>\n",
              "      <td>0.325477</td>\n",
              "      <td>-0.040272</td>\n",
              "      <td>-0.136299</td>\n",
              "      <td>-0.080370</td>\n",
              "      <td>0.286642</td>\n",
              "      <td>0.119598</td>\n",
              "      <td>-0.077422</td>\n",
              "      <td>-0.035072</td>\n",
              "      <td>0.099733</td>\n",
              "      <td>-0.030331</td>\n",
              "      <td>-0.001399</td>\n",
              "      <td>-0.014744</td>\n",
              "      <td>0.033044</td>\n",
              "      <td>-0.018120</td>\n",
              "      <td>-0.010063</td>\n",
              "      <td>0.023208</td>\n",
              "      <td>-0.049879</td>\n",
              "      <td>-0.029466</td>\n",
              "      <td>0.059518</td>\n",
              "      <td>0.018158</td>\n",
              "      <td>-0.114542</td>\n",
              "      <td>1.000000</td>\n",
              "      <td>-0.639659</td>\n",
              "    </tr>\n",
              "    <tr>\n",
              "      <th>poutcome_unknown</th>\n",
              "      <td>-0.038992</td>\n",
              "      <td>-0.034524</td>\n",
              "      <td>0.042725</td>\n",
              "      <td>0.128907</td>\n",
              "      <td>-0.496921</td>\n",
              "      <td>0.048403</td>\n",
              "      <td>0.031375</td>\n",
              "      <td>0.053686</td>\n",
              "      <td>-0.224785</td>\n",
              "      <td>-0.126890</td>\n",
              "      <td>0.070330</td>\n",
              "      <td>0.026966</td>\n",
              "      <td>-0.064228</td>\n",
              "      <td>0.030459</td>\n",
              "      <td>0.008786</td>\n",
              "      <td>0.006279</td>\n",
              "      <td>-0.046804</td>\n",
              "      <td>0.033445</td>\n",
              "      <td>0.001384</td>\n",
              "      <td>-0.024514</td>\n",
              "      <td>0.056477</td>\n",
              "      <td>0.013238</td>\n",
              "      <td>-0.052836</td>\n",
              "      <td>-0.004978</td>\n",
              "      <td>-0.690332</td>\n",
              "      <td>-0.639659</td>\n",
              "      <td>1.000000</td>\n",
              "    </tr>\n",
              "  </tbody>\n",
              "</table>\n",
              "</div>"
            ],
            "text/plain": [
              "                          age   balance  ...  poutcome_success  poutcome_unknown\n",
              "age                  1.000000  0.112300  ...          0.062114         -0.038992\n",
              "balance              0.112300  1.000000  ...          0.045603         -0.034524\n",
              "duration             0.000189  0.022436  ...         -0.022578          0.042725\n",
              "campaign            -0.005278 -0.013894  ...         -0.091807          0.128907\n",
              "previous             0.020169  0.030805  ...          0.325477         -0.496921\n",
              "default_cat         -0.011425 -0.060954  ...         -0.040272          0.048403\n",
              "housing_cat         -0.168700 -0.077092  ...         -0.136299          0.031375\n",
              "loan_cat            -0.031418 -0.084589  ...         -0.080370          0.053686\n",
              "deposit_cat          0.034901  0.081129  ...          0.286642         -0.224785\n",
              "recent_pdays         0.019102 -0.004379  ...          0.119598         -0.126890\n",
              "job_blue-collar     -0.066567 -0.046220  ...         -0.077422          0.070330\n",
              "job_entrepreneur     0.024176  0.005039  ...         -0.035072          0.026966\n",
              "job_other            0.296418  0.050744  ...          0.099733         -0.064228\n",
              "job_pink-collar     -0.027942 -0.041063  ...         -0.030331          0.030459\n",
              "job_self-employed   -0.023163  0.020264  ...         -0.001399          0.008786\n",
              "job_technician      -0.082716  0.003802  ...         -0.014744          0.006279\n",
              "job_white-collar    -0.080122  0.013780  ...          0.033044         -0.046804\n",
              "marital_divorced     0.186349 -0.017586  ...         -0.018120          0.033445\n",
              "marital_married      0.318436  0.025431  ...         -0.010063          0.001384\n",
              "marital_single      -0.467799 -0.014994  ...          0.023208         -0.024514\n",
              "education_primary    0.231150 -0.000673  ...         -0.049879          0.056477\n",
              "education_secondary -0.094400 -0.070609  ...         -0.029466          0.013238\n",
              "education_tertiary  -0.101372  0.069128  ...          0.059518         -0.052836\n",
              "education_unknown    0.077761  0.014596  ...          0.018158         -0.004978\n",
              "poutcome_failure    -0.008071  0.001695  ...         -0.114542         -0.690332\n",
              "poutcome_success     0.062114  0.045603  ...          1.000000         -0.639659\n",
              "poutcome_unknown    -0.038992 -0.034524  ...         -0.639659          1.000000\n",
              "\n",
              "[27 rows x 27 columns]"
            ]
          },
          "metadata": {
            "tags": []
          },
          "execution_count": 37
        }
      ]
    },
    {
      "cell_type": "code",
      "metadata": {
        "_cell_guid": "2eb696c8-d468-4642-b7e6-ef3deca070ac",
        "_uuid": "0f56d9c3946d4a50e0048c89ae8373e2204bc61a",
        "collapsed": true,
        "id": "fY_AgVBovJPP",
        "colab_type": "code",
        "colab": {
          "base_uri": "https://localhost:8080/",
          "height": 625
        },
        "outputId": "64c8fce8-b7a0-4f4d-996b-c0236405cdf6"
      },
      "source": [
        "# Heatmap\n",
        "plt.figure(figsize = (10,10))\n",
        "cmap = sns.diverging_palette(220, 10, as_cmap=True)\n",
        "sns.heatmap(corr, xticklabels=corr.columns.values, yticklabels=corr.columns.values, cmap=cmap, vmax=.3, center=0, square=True, linewidths=.5, cbar_kws={\"shrink\": .82})\n",
        "plt.title('Heatmap of Correlation Matrix')"
      ],
      "execution_count": null,
      "outputs": [
        {
          "output_type": "execute_result",
          "data": {
            "text/plain": [
              "Text(0.5, 1.0, 'Heatmap of Correlation Matrix')"
            ]
          },
          "metadata": {
            "tags": []
          },
          "execution_count": 38
        },
        {
          "output_type": "display_data",
          "data": {
            "image/png": "[encoded data removed]",
            "text/plain": [
              "<Figure size 720x720 with 2 Axes>"
            ]
          },
          "metadata": {
            "tags": [],
            "needs_background": "light"
          }
        }
      ]
    },
    {
      "cell_type": "code",
      "metadata": {
        "_cell_guid": "73994c65-9028-4ddc-98a1-5b7cdb10a113",
        "_uuid": "ff6ca40f9fd1e7710aa3b0c0ad020ba73aa34a5e",
        "collapsed": true,
        "id": "WYVt2FaGvJPS",
        "colab_type": "code",
        "colab": {
          "base_uri": "https://localhost:8080/",
          "height": 846
        },
        "outputId": "2bea5442-f919-49cd-9453-edbcf4587db4"
      },
      "source": [
        "# Extract the deposte_cat column (the dependent variable)\n",
        "corr_deposite = pd.DataFrame(corr['deposit_cat'].drop('deposit_cat'))\n",
        "corr_deposite.sort_values(by = 'deposit_cat', ascending = False)"
      ],
      "execution_count": null,
      "outputs": [
        {
          "output_type": "execute_result",
          "data": {
            "text/html": [
              "<div>\n",
              "<style scoped>\n",
              "    .dataframe tbody tr th:only-of-type {\n",
              "        vertical-align: middle;\n",
              "    }\n",
              "\n",
              "    .dataframe tbody tr th {\n",
              "        vertical-align: top;\n",
              "    }\n",
              "\n",
              "    .dataframe thead th {\n",
              "        text-align: right;\n",
              "    }\n",
              "</style>\n",
              "<table border=\"1\" class=\"dataframe\">\n",
              "  <thead>\n",
              "    <tr style=\"text-align: right;\">\n",
              "      <th></th>\n",
              "      <th>deposit_cat</th>\n",
              "    </tr>\n",
              "  </thead>\n",
              "  <tbody>\n",
              "    <tr>\n",
              "      <th>duration</th>\n",
              "      <td>0.451919</td>\n",
              "    </tr>\n",
              "    <tr>\n",
              "      <th>poutcome_success</th>\n",
              "      <td>0.286642</td>\n",
              "    </tr>\n",
              "    <tr>\n",
              "      <th>job_other</th>\n",
              "      <td>0.144408</td>\n",
              "    </tr>\n",
              "    <tr>\n",
              "      <th>previous</th>\n",
              "      <td>0.139867</td>\n",
              "    </tr>\n",
              "    <tr>\n",
              "      <th>marital_single</th>\n",
              "      <td>0.094632</td>\n",
              "    </tr>\n",
              "    <tr>\n",
              "      <th>education_tertiary</th>\n",
              "      <td>0.094598</td>\n",
              "    </tr>\n",
              "    <tr>\n",
              "      <th>balance</th>\n",
              "      <td>0.081129</td>\n",
              "    </tr>\n",
              "    <tr>\n",
              "      <th>age</th>\n",
              "      <td>0.034901</td>\n",
              "    </tr>\n",
              "    <tr>\n",
              "      <th>recent_pdays</th>\n",
              "      <td>0.034457</td>\n",
              "    </tr>\n",
              "    <tr>\n",
              "      <th>job_white-collar</th>\n",
              "      <td>0.031621</td>\n",
              "    </tr>\n",
              "    <tr>\n",
              "      <th>poutcome_failure</th>\n",
              "      <td>0.020714</td>\n",
              "    </tr>\n",
              "    <tr>\n",
              "      <th>education_unknown</th>\n",
              "      <td>0.014355</td>\n",
              "    </tr>\n",
              "    <tr>\n",
              "      <th>marital_divorced</th>\n",
              "      <td>0.005228</td>\n",
              "    </tr>\n",
              "    <tr>\n",
              "      <th>job_self-employed</th>\n",
              "      <td>-0.004707</td>\n",
              "    </tr>\n",
              "    <tr>\n",
              "      <th>job_technician</th>\n",
              "      <td>-0.011557</td>\n",
              "    </tr>\n",
              "    <tr>\n",
              "      <th>job_entrepreneur</th>\n",
              "      <td>-0.034443</td>\n",
              "    </tr>\n",
              "    <tr>\n",
              "      <th>default_cat</th>\n",
              "      <td>-0.040680</td>\n",
              "    </tr>\n",
              "    <tr>\n",
              "      <th>job_pink-collar</th>\n",
              "      <td>-0.051717</td>\n",
              "    </tr>\n",
              "    <tr>\n",
              "      <th>education_secondary</th>\n",
              "      <td>-0.051952</td>\n",
              "    </tr>\n",
              "    <tr>\n",
              "      <th>education_primary</th>\n",
              "      <td>-0.063002</td>\n",
              "    </tr>\n",
              "    <tr>\n",
              "      <th>marital_married</th>\n",
              "      <td>-0.092157</td>\n",
              "    </tr>\n",
              "    <tr>\n",
              "      <th>job_blue-collar</th>\n",
              "      <td>-0.100840</td>\n",
              "    </tr>\n",
              "    <tr>\n",
              "      <th>loan_cat</th>\n",
              "      <td>-0.110580</td>\n",
              "    </tr>\n",
              "    <tr>\n",
              "      <th>campaign</th>\n",
              "      <td>-0.128081</td>\n",
              "    </tr>\n",
              "    <tr>\n",
              "      <th>housing_cat</th>\n",
              "      <td>-0.203888</td>\n",
              "    </tr>\n",
              "    <tr>\n",
              "      <th>poutcome_unknown</th>\n",
              "      <td>-0.224785</td>\n",
              "    </tr>\n",
              "  </tbody>\n",
              "</table>\n",
              "</div>"
            ],
            "text/plain": [
              "                     deposit_cat\n",
              "duration                0.451919\n",
              "poutcome_success        0.286642\n",
              "job_other               0.144408\n",
              "previous                0.139867\n",
              "marital_single          0.094632\n",
              "education_tertiary      0.094598\n",
              "balance                 0.081129\n",
              "age                     0.034901\n",
              "recent_pdays            0.034457\n",
              "job_white-collar        0.031621\n",
              "poutcome_failure        0.020714\n",
              "education_unknown       0.014355\n",
              "marital_divorced        0.005228\n",
              "job_self-employed      -0.004707\n",
              "job_technician         -0.011557\n",
              "job_entrepreneur       -0.034443\n",
              "default_cat            -0.040680\n",
              "job_pink-collar        -0.051717\n",
              "education_secondary    -0.051952\n",
              "education_primary      -0.063002\n",
              "marital_married        -0.092157\n",
              "job_blue-collar        -0.100840\n",
              "loan_cat               -0.110580\n",
              "campaign               -0.128081\n",
              "housing_cat            -0.203888\n",
              "poutcome_unknown       -0.224785"
            ]
          },
          "metadata": {
            "tags": []
          },
          "execution_count": 39
        }
      ]
    },
    {
      "cell_type": "markdown",
      "metadata": {
        "_cell_guid": "c281ea25-423f-4477-bab5-e1c262d20931",
        "_uuid": "0394776ec1c21f2c30fc66a1ce7a22c7a5e9df5f",
        "id": "D4hg5W3ZvJPV",
        "colab_type": "text"
      },
      "source": [
        "> ## Construimos el modelo"
      ]
    },
    {
      "cell_type": "code",
      "metadata": {
        "_cell_guid": "5675ce89-28f8-409d-9387-ce4641bc4a7b",
        "_uuid": "3b14efa859cd38fce1e118ceae7144d8563dc014",
        "id": "B90Vu7lCvJPV",
        "colab_type": "code",
        "colab": {}
      },
      "source": [
        "# Train-Test split: 20% test data\n",
        "data_drop_deposite = bankcl.drop('deposit_cat', 1)\n",
        "label = bankcl.deposit_cat\n",
        "data_train, data_test, label_train, label_test = train_test_split(data_drop_deposite, label, test_size = 0.2, random_state = 50)"
      ],
      "execution_count": null,
      "outputs": []
    },
    {
      "cell_type": "code",
      "metadata": {
        "_cell_guid": "7b8c8772-a2ec-4399-807e-73ccc4951dd1",
        "_uuid": "4a48b73d67f4f57349d3dbc75c4d02cfeb1d82f9",
        "collapsed": true,
        "scrolled": true,
        "id": "_UkOUR7EvJPX",
        "colab_type": "code",
        "colab": {
          "base_uri": "https://localhost:8080/",
          "height": 52
        },
        "outputId": "5aafbcf6-cdf6-4683-bc89-ba732985d682"
      },
      "source": [
        "# Decision tree with depth = 2 ---profundidad\n",
        "dt2 = tree.DecisionTreeClassifier(random_state=1, max_depth=2)\n",
        "dt2.fit(data_train, label_train)\n",
        "dt2_score_train = dt2.score(data_train, label_train)\n",
        "print(\"Training score: \",dt2_score_train)\n",
        "dt2_score_test = dt2.score(data_test, label_test)\n",
        "print(\"Testing score: \",dt2_score_test)"
      ],
      "execution_count": null,
      "outputs": [
        {
          "output_type": "stream",
          "text": [
            "Training score:  0.7285250307985217\n",
            "Testing score:  0.7268248992386923\n"
          ],
          "name": "stdout"
        }
      ]
    },
    {
      "cell_type": "code",
      "metadata": {
        "_cell_guid": "14b771bd-b87e-4ac4-b3ec-64da8bbb7b68",
        "_uuid": "c828f56ae83bf3eac076c3642ad26e51f660d643",
        "collapsed": true,
        "id": "HNdLpX3pvJPa",
        "colab_type": "code",
        "colab": {
          "base_uri": "https://localhost:8080/",
          "height": 52
        },
        "outputId": "a7f20f83-745c-425d-8640-076ceb5ef541"
      },
      "source": [
        "# Decision tree with depth = 3\n",
        "dt3 = tree.DecisionTreeClassifier(random_state=1, max_depth=3)\n",
        "dt3.fit(data_train, label_train)\n",
        "dt3_score_train = dt3.score(data_train, label_train)\n",
        "print(\"Training score: \",dt3_score_train)\n",
        "dt3_score_test = dt3.score(data_test, label_test)\n",
        "print(\"Testing score: \",dt3_score_test)"
      ],
      "execution_count": null,
      "outputs": [
        {
          "output_type": "stream",
          "text": [
            "Training score:  0.770411020271027\n",
            "Testing score:  0.7572772055530677\n"
          ],
          "name": "stdout"
        }
      ]
    },
    {
      "cell_type": "code",
      "metadata": {
        "_cell_guid": "60190973-9780-4b6a-9762-7e43d442db6b",
        "_uuid": "f45e7da9e4052b837a3c363f03de439d16cca6d0",
        "collapsed": true,
        "id": "MsNTOYsNvJPc",
        "colab_type": "code",
        "colab": {
          "base_uri": "https://localhost:8080/",
          "height": 52
        },
        "outputId": "2b3eaaaf-fbe0-454e-f9b7-2be58659f40b"
      },
      "source": [
        "# Decision tree with depth = 4\n",
        "dt4 = tree.DecisionTreeClassifier(random_state=1, max_depth=4)\n",
        "dt4.fit(data_train, label_train)\n",
        "dt4_score_train = dt4.score(data_train, label_train)\n",
        "print(\"Training score: \",dt4_score_train)\n",
        "dt4_score_test = dt4.score(data_test, label_test)\n",
        "print(\"Testing score: \",dt4_score_test)"
      ],
      "execution_count": null,
      "outputs": [
        {
          "output_type": "stream",
          "text": [
            "Training score:  0.7885541494008288\n",
            "Testing score:  0.774294670846395\n"
          ],
          "name": "stdout"
        }
      ]
    },
    {
      "cell_type": "code",
      "metadata": {
        "_cell_guid": "0f61abaa-9d1e-4fa7-83e7-23f11bdf90e8",
        "_uuid": "a3b51e1daf328cc5157234c3e4bf0be5174ce62f",
        "collapsed": true,
        "id": "mt4nUpcivJPg",
        "colab_type": "code",
        "colab": {
          "base_uri": "https://localhost:8080/",
          "height": 52
        },
        "outputId": "18108d86-bbec-4df3-de3d-977f7c9021f3"
      },
      "source": [
        "# Decision tree with depth = 6\n",
        "dt6 = tree.DecisionTreeClassifier(random_state=1, max_depth=6)\n",
        "dt6.fit(data_train, label_train)\n",
        "dt6_score_train = dt6.score(data_train, label_train)\n",
        "print(\"Training score: \",dt6_score_train)\n",
        "dt6_score_test = dt6.score(data_test, label_test)\n",
        "print(\"Testing score: \",dt6_score_test)"
      ],
      "execution_count": null,
      "outputs": [
        {
          "output_type": "stream",
          "text": [
            "Training score:  0.8080412140217269\n",
            "Testing score:  0.7796686072548141\n"
          ],
          "name": "stdout"
        }
      ]
    },
    {
      "cell_type": "code",
      "metadata": {
        "_cell_guid": "32a4d8a7-b285-47c2-988c-8aa6a66933e2",
        "_uuid": "cabee45b6dd75bd0aac571320e300c5d2c94c045",
        "collapsed": true,
        "id": "svYfJzntvJPj",
        "colab_type": "code",
        "colab": {
          "base_uri": "https://localhost:8080/",
          "height": 52
        },
        "outputId": "42a6731a-e836-4db0-a921-257eb3468309"
      },
      "source": [
        "# Decision tree: To the full depth\n",
        "dt1 = tree.DecisionTreeClassifier()\n",
        "dt1.fit(data_train, label_train)\n",
        "dt1_score_train = dt1.score(data_train, label_train)\n",
        "print(\"Training score: \", dt1_score_train)\n",
        "dt1_score_test = dt1.score(data_test, label_test)\n",
        "print(\"Testing score: \", dt1_score_test)"
      ],
      "execution_count": null,
      "outputs": [
        {
          "output_type": "stream",
          "text": [
            "Training score:  1.0\n",
            "Testing score:  0.7326466636811464\n"
          ],
          "name": "stdout"
        }
      ]
    },
    {
      "cell_type": "markdown",
      "metadata": {
        "_cell_guid": "12a029ef-2d45-452c-927d-2f826b5f9a68",
        "_uuid": "e1c1dad3c3e239f3f4b19d4b15da9949c2bd9ec2",
        "id": "YVjVOL2svJPl",
        "colab_type": "text"
      },
      "source": [
        "\n",
        "#### Compare los puntajes de entrenamiento y evaluación para varias profundidades de árbol utilizadas"
      ]
    },
    {
      "cell_type": "code",
      "metadata": {
        "_cell_guid": "6fb20c58-b5dc-4944-9b78-258d2f2e0da2",
        "_uuid": "92eee54d59182aeed9b828fe2a57818ffcfcbb31",
        "collapsed": true,
        "scrolled": true,
        "id": "0sHGnQCgvJPn",
        "colab_type": "code",
        "colab": {
          "base_uri": "https://localhost:8080/",
          "height": 139
        },
        "outputId": "17fd7baa-e865-4fea-f798-e86bca9a1e98"
      },
      "source": [
        "print('{:10} {:20} {:20}'.format('depth', 'Training score','Testing score'))\n",
        "print('{:10} {:20} {:20}'.format('-----', '--------------','-------------'))\n",
        "print('{:1} {:>25} {:>20}'.format(2, dt2_score_train, dt2_score_test))\n",
        "print('{:1} {:>25} {:>20}'.format(3, dt3_score_train, dt3_score_test))\n",
        "print('{:1} {:>25} {:>20}'.format(4, dt4_score_train, dt4_score_test))\n",
        "print('{:1} {:>25} {:>20}'.format(6, dt6_score_train, dt6_score_test))\n",
        "print('{:1} {:>23} {:>20}'.format(\"max\", dt1_score_train, dt1_score_test))"
      ],
      "execution_count": null,
      "outputs": [
        {
          "output_type": "stream",
          "text": [
            "depth      Training score       Testing score       \n",
            "-----      --------------       -------------       \n",
            "2        0.7285250307985217   0.7268248992386923\n",
            "3         0.770411020271027   0.7572772055530677\n",
            "4        0.7885541494008288    0.774294670846395\n",
            "6        0.8080412140217269   0.7796686072548141\n",
            "max                     1.0   0.7326466636811464\n"
          ],
          "name": "stdout"
        }
      ]
    },
    {
      "cell_type": "markdown",
      "metadata": {
        "_cell_guid": "a2ee959f-14f5-4236-8d7f-bfe781d37f49",
        "_uuid": "9262f9c49fb675e6b7a107e66ea959868b9176b4",
        "id": "vqWVGTZUvJPp",
        "colab_type": "text"
      },
      "source": [
        "Se puede ver que, a mayor profundidad, el puntaje de entrenamiento aumenta y coincide con la perfección con el conjunto de datos de entrenamiento. Por más alta que sea la profundidad del árbol, se ajusta al conjunto de datos de entrenamiento. Así que no sirve de nada seguir aumentando la profundidad del árbol. Según las observaciones anteriores, el árbol con una profundidad de 2 parece más razonable, ya que tanto los puntajes de entrenamiento como de prueba son razonablemente altos."
      ]
    },
    {
      "cell_type": "markdown",
      "metadata": {
        "id": "XfUcMU4Az_mC",
        "colab_type": "text"
      },
      "source": [
        "##**CASO 2**"
      ]
    },
    {
      "cell_type": "code",
      "metadata": {
        "id": "1s6NFz1lz_Gl",
        "colab_type": "code",
        "colab": {}
      },
      "source": [
        "# Load libraries\n",
        "import pandas as pd\n",
        "from sklearn.tree import DecisionTreeClassifier # Import Decision Tree Classifier\n",
        "from sklearn.model_selection import train_test_split # Import train_test_split function\n",
        "from sklearn import metrics #Import scikit-learn metrics module for accuracy calculation"
      ],
      "execution_count": null,
      "outputs": []
    },
    {
      "cell_type": "code",
      "metadata": {
        "id": "sgn0Az_q1gsk",
        "colab_type": "code",
        "colab": {
          "base_uri": "https://localhost:8080/",
          "height": 202
        },
        "outputId": "7c10ffc2-873d-4458-f3e7-8618c8e51c1d"
      },
      "source": [
        "#Importamos la data\n",
        "url = 'https://raw.githubusercontent.com/JBrianAlicorp/Business-Analytics/master/diabetes.csv'\n",
        "pima = pd.read_csv(url,encoding='latin1')\n",
        "pima.head()"
      ],
      "execution_count": null,
      "outputs": [
        {
          "output_type": "execute_result",
          "data": {
            "text/html": [
              "<div>\n",
              "<style scoped>\n",
              "    .dataframe tbody tr th:only-of-type {\n",
              "        vertical-align: middle;\n",
              "    }\n",
              "\n",
              "    .dataframe tbody tr th {\n",
              "        vertical-align: top;\n",
              "    }\n",
              "\n",
              "    .dataframe thead th {\n",
              "        text-align: right;\n",
              "    }\n",
              "</style>\n",
              "<table border=\"1\" class=\"dataframe\">\n",
              "  <thead>\n",
              "    <tr style=\"text-align: right;\">\n",
              "      <th></th>\n",
              "      <th>Pregnancies</th>\n",
              "      <th>Glucose</th>\n",
              "      <th>BloodPressure</th>\n",
              "      <th>SkinThickness</th>\n",
              "      <th>Insulin</th>\n",
              "      <th>BMI</th>\n",
              "      <th>DiabetesPedigreeFunction</th>\n",
              "      <th>Age</th>\n",
              "      <th>Outcome</th>\n",
              "    </tr>\n",
              "  </thead>\n",
              "  <tbody>\n",
              "    <tr>\n",
              "      <th>0</th>\n",
              "      <td>6</td>\n",
              "      <td>148</td>\n",
              "      <td>72</td>\n",
              "      <td>35</td>\n",
              "      <td>0</td>\n",
              "      <td>33.6</td>\n",
              "      <td>0.627</td>\n",
              "      <td>50</td>\n",
              "      <td>1</td>\n",
              "    </tr>\n",
              "    <tr>\n",
              "      <th>1</th>\n",
              "      <td>1</td>\n",
              "      <td>85</td>\n",
              "      <td>66</td>\n",
              "      <td>29</td>\n",
              "      <td>0</td>\n",
              "      <td>26.6</td>\n",
              "      <td>0.351</td>\n",
              "      <td>31</td>\n",
              "      <td>0</td>\n",
              "    </tr>\n",
              "    <tr>\n",
              "      <th>2</th>\n",
              "      <td>8</td>\n",
              "      <td>183</td>\n",
              "      <td>64</td>\n",
              "      <td>0</td>\n",
              "      <td>0</td>\n",
              "      <td>23.3</td>\n",
              "      <td>0.672</td>\n",
              "      <td>32</td>\n",
              "      <td>1</td>\n",
              "    </tr>\n",
              "    <tr>\n",
              "      <th>3</th>\n",
              "      <td>1</td>\n",
              "      <td>89</td>\n",
              "      <td>66</td>\n",
              "      <td>23</td>\n",
              "      <td>94</td>\n",
              "      <td>28.1</td>\n",
              "      <td>0.167</td>\n",
              "      <td>21</td>\n",
              "      <td>0</td>\n",
              "    </tr>\n",
              "    <tr>\n",
              "      <th>4</th>\n",
              "      <td>0</td>\n",
              "      <td>137</td>\n",
              "      <td>40</td>\n",
              "      <td>35</td>\n",
              "      <td>168</td>\n",
              "      <td>43.1</td>\n",
              "      <td>2.288</td>\n",
              "      <td>33</td>\n",
              "      <td>1</td>\n",
              "    </tr>\n",
              "  </tbody>\n",
              "</table>\n",
              "</div>"
            ],
            "text/plain": [
              "   Pregnancies  Glucose  BloodPressure  ...  DiabetesPedigreeFunction  Age  Outcome\n",
              "0            6      148             72  ...                     0.627   50        1\n",
              "1            1       85             66  ...                     0.351   31        0\n",
              "2            8      183             64  ...                     0.672   32        1\n",
              "3            1       89             66  ...                     0.167   21        0\n",
              "4            0      137             40  ...                     2.288   33        1\n",
              "\n",
              "[5 rows x 9 columns]"
            ]
          },
          "metadata": {
            "tags": []
          },
          "execution_count": 2
        }
      ]
    },
    {
      "cell_type": "markdown",
      "metadata": {
        "id": "Mm2u9FtD2Fyw",
        "colab_type": "text"
      },
      "source": [
        "**Selección de características**\n",
        "\n",
        "Aquí, se debe dividir las columnas dadas en dos tipos de variables dependientes (o variables objetivo) y variables independientes (o variables de características)."
      ]
    },
    {
      "cell_type": "code",
      "metadata": {
        "id": "HV-o_ud62g1g",
        "colab_type": "code",
        "colab": {
          "base_uri": "https://localhost:8080/",
          "height": 173
        },
        "outputId": "a42533c5-193c-41a8-b58e-b2353b4999a7"
      },
      "source": [
        "pima.columns.values.tolist()"
      ],
      "execution_count": null,
      "outputs": [
        {
          "output_type": "execute_result",
          "data": {
            "text/plain": [
              "['Pregnancies',\n",
              " 'Glucose',\n",
              " 'BloodPressure',\n",
              " 'SkinThickness',\n",
              " 'Insulin',\n",
              " 'BMI',\n",
              " 'DiabetesPedigreeFunction',\n",
              " 'Age',\n",
              " 'Outcome']"
            ]
          },
          "metadata": {
            "tags": []
          },
          "execution_count": 3
        }
      ]
    },
    {
      "cell_type": "code",
      "metadata": {
        "id": "SErxYSbF1t_m",
        "colab_type": "code",
        "colab": {}
      },
      "source": [
        "feature_cols = ['Pregnancies',\n",
        " 'Glucose',\n",
        " 'BloodPressure',\n",
        " 'SkinThickness',\n",
        " 'Insulin',\n",
        " 'BMI',\n",
        " 'DiabetesPedigreeFunction',\n",
        " 'Age']"
      ],
      "execution_count": null,
      "outputs": []
    },
    {
      "cell_type": "code",
      "metadata": {
        "id": "N4MYgGCQ1wG8",
        "colab_type": "code",
        "colab": {}
      },
      "source": [
        "X = pima[feature_cols] # Features\n",
        "y = pima.Outcome # Target variable"
      ],
      "execution_count": null,
      "outputs": []
    },
    {
      "cell_type": "markdown",
      "metadata": {
        "id": "Or867iEr23if",
        "colab_type": "text"
      },
      "source": [
        "**División de datos**\n",
        "\n",
        "Para comprender el rendimiento del modelo, dividir el conjunto de datos en un conjunto de entrenamiento y un conjunto de prueba es una buena estrategia.\n",
        "\n",
        "Dividamos el conjunto de datos usando la función train_test_split (). Debe pasar las características de 3 parámetros, el objetivo y el tamaño de test_set."
      ]
    },
    {
      "cell_type": "code",
      "metadata": {
        "id": "H-k3BVnD1zTI",
        "colab_type": "code",
        "colab": {}
      },
      "source": [
        "# Split dataset into training set and test set\n",
        "X_train, X_test, y_train, y_test = train_test_split(X, y, test_size=0.3, random_state=1) # 70% training and 30% test"
      ],
      "execution_count": null,
      "outputs": []
    },
    {
      "cell_type": "code",
      "metadata": {
        "id": "pPZG1STF5eU6",
        "colab_type": "code",
        "colab": {
          "base_uri": "https://localhost:8080/",
          "height": 415
        },
        "outputId": "55ca346e-42f5-4574-819f-ced07934f53d"
      },
      "source": [
        "X_test"
      ],
      "execution_count": null,
      "outputs": [
        {
          "output_type": "execute_result",
          "data": {
            "text/html": [
              "<div>\n",
              "<style scoped>\n",
              "    .dataframe tbody tr th:only-of-type {\n",
              "        vertical-align: middle;\n",
              "    }\n",
              "\n",
              "    .dataframe tbody tr th {\n",
              "        vertical-align: top;\n",
              "    }\n",
              "\n",
              "    .dataframe thead th {\n",
              "        text-align: right;\n",
              "    }\n",
              "</style>\n",
              "<table border=\"1\" class=\"dataframe\">\n",
              "  <thead>\n",
              "    <tr style=\"text-align: right;\">\n",
              "      <th></th>\n",
              "      <th>Pregnancies</th>\n",
              "      <th>Glucose</th>\n",
              "      <th>BloodPressure</th>\n",
              "      <th>SkinThickness</th>\n",
              "      <th>Insulin</th>\n",
              "      <th>BMI</th>\n",
              "      <th>DiabetesPedigreeFunction</th>\n",
              "      <th>Age</th>\n",
              "    </tr>\n",
              "  </thead>\n",
              "  <tbody>\n",
              "    <tr>\n",
              "      <th>285</th>\n",
              "      <td>7</td>\n",
              "      <td>136</td>\n",
              "      <td>74</td>\n",
              "      <td>26</td>\n",
              "      <td>135</td>\n",
              "      <td>26.0</td>\n",
              "      <td>0.647</td>\n",
              "      <td>51</td>\n",
              "    </tr>\n",
              "    <tr>\n",
              "      <th>101</th>\n",
              "      <td>1</td>\n",
              "      <td>151</td>\n",
              "      <td>60</td>\n",
              "      <td>0</td>\n",
              "      <td>0</td>\n",
              "      <td>26.1</td>\n",
              "      <td>0.179</td>\n",
              "      <td>22</td>\n",
              "    </tr>\n",
              "    <tr>\n",
              "      <th>581</th>\n",
              "      <td>6</td>\n",
              "      <td>109</td>\n",
              "      <td>60</td>\n",
              "      <td>27</td>\n",
              "      <td>0</td>\n",
              "      <td>25.0</td>\n",
              "      <td>0.206</td>\n",
              "      <td>27</td>\n",
              "    </tr>\n",
              "    <tr>\n",
              "      <th>352</th>\n",
              "      <td>3</td>\n",
              "      <td>61</td>\n",
              "      <td>82</td>\n",
              "      <td>28</td>\n",
              "      <td>0</td>\n",
              "      <td>34.4</td>\n",
              "      <td>0.243</td>\n",
              "      <td>46</td>\n",
              "    </tr>\n",
              "    <tr>\n",
              "      <th>726</th>\n",
              "      <td>1</td>\n",
              "      <td>116</td>\n",
              "      <td>78</td>\n",
              "      <td>29</td>\n",
              "      <td>180</td>\n",
              "      <td>36.1</td>\n",
              "      <td>0.496</td>\n",
              "      <td>25</td>\n",
              "    </tr>\n",
              "    <tr>\n",
              "      <th>...</th>\n",
              "      <td>...</td>\n",
              "      <td>...</td>\n",
              "      <td>...</td>\n",
              "      <td>...</td>\n",
              "      <td>...</td>\n",
              "      <td>...</td>\n",
              "      <td>...</td>\n",
              "      <td>...</td>\n",
              "    </tr>\n",
              "    <tr>\n",
              "      <th>241</th>\n",
              "      <td>4</td>\n",
              "      <td>91</td>\n",
              "      <td>70</td>\n",
              "      <td>32</td>\n",
              "      <td>88</td>\n",
              "      <td>33.1</td>\n",
              "      <td>0.446</td>\n",
              "      <td>22</td>\n",
              "    </tr>\n",
              "    <tr>\n",
              "      <th>599</th>\n",
              "      <td>1</td>\n",
              "      <td>109</td>\n",
              "      <td>38</td>\n",
              "      <td>18</td>\n",
              "      <td>120</td>\n",
              "      <td>23.1</td>\n",
              "      <td>0.407</td>\n",
              "      <td>26</td>\n",
              "    </tr>\n",
              "    <tr>\n",
              "      <th>650</th>\n",
              "      <td>1</td>\n",
              "      <td>91</td>\n",
              "      <td>54</td>\n",
              "      <td>25</td>\n",
              "      <td>100</td>\n",
              "      <td>25.2</td>\n",
              "      <td>0.234</td>\n",
              "      <td>23</td>\n",
              "    </tr>\n",
              "    <tr>\n",
              "      <th>11</th>\n",
              "      <td>10</td>\n",
              "      <td>168</td>\n",
              "      <td>74</td>\n",
              "      <td>0</td>\n",
              "      <td>0</td>\n",
              "      <td>38.0</td>\n",
              "      <td>0.537</td>\n",
              "      <td>34</td>\n",
              "    </tr>\n",
              "    <tr>\n",
              "      <th>214</th>\n",
              "      <td>9</td>\n",
              "      <td>112</td>\n",
              "      <td>82</td>\n",
              "      <td>32</td>\n",
              "      <td>175</td>\n",
              "      <td>34.2</td>\n",
              "      <td>0.260</td>\n",
              "      <td>36</td>\n",
              "    </tr>\n",
              "  </tbody>\n",
              "</table>\n",
              "<p>231 rows × 8 columns</p>\n",
              "</div>"
            ],
            "text/plain": [
              "     Pregnancies  Glucose  BloodPressure  ...   BMI  DiabetesPedigreeFunction  Age\n",
              "285            7      136             74  ...  26.0                     0.647   51\n",
              "101            1      151             60  ...  26.1                     0.179   22\n",
              "581            6      109             60  ...  25.0                     0.206   27\n",
              "352            3       61             82  ...  34.4                     0.243   46\n",
              "726            1      116             78  ...  36.1                     0.496   25\n",
              "..           ...      ...            ...  ...   ...                       ...  ...\n",
              "241            4       91             70  ...  33.1                     0.446   22\n",
              "599            1      109             38  ...  23.1                     0.407   26\n",
              "650            1       91             54  ...  25.2                     0.234   23\n",
              "11            10      168             74  ...  38.0                     0.537   34\n",
              "214            9      112             82  ...  34.2                     0.260   36\n",
              "\n",
              "[231 rows x 8 columns]"
            ]
          },
          "metadata": {
            "tags": []
          },
          "execution_count": 7
        }
      ]
    },
    {
      "cell_type": "markdown",
      "metadata": {
        "id": "-0RMpoTW3AkM",
        "colab_type": "text"
      },
      "source": [
        "**Modelo de árbol de decisión de construcción**\n",
        "\n",
        "Creemos un modelo de árbol de decisión usando Scikit-learn."
      ]
    },
    {
      "cell_type": "code",
      "metadata": {
        "id": "MpbaC9hm2-nk",
        "colab_type": "code",
        "colab": {}
      },
      "source": [
        "# Create Decision Tree classifer object\n",
        "clf = DecisionTreeClassifier()\n",
        "\n",
        "# Train Decision Tree Classifer\n",
        "clf = clf.fit(X_train,y_train)\n",
        "\n",
        "#Predict the response for test dataset\n",
        "y_pred = clf.predict(X_test)"
      ],
      "execution_count": null,
      "outputs": []
    },
    {
      "cell_type": "markdown",
      "metadata": {
        "id": "3wKE_nK73U1K",
        "colab_type": "text"
      },
      "source": [
        "\n",
        "**Visualizando árboles de decisión**\n"
      ]
    },
    {
      "cell_type": "code",
      "metadata": {
        "id": "ynTpA5aK3T9-",
        "colab_type": "code",
        "colab": {
          "base_uri": "https://localhost:8080/",
          "height": 89
        },
        "outputId": "a0c2b945-60c0-437b-d6bf-a3deeea13106"
      },
      "source": [
        "from sklearn.tree import export_graphviz\n",
        "from sklearn.externals.six import StringIO  \n",
        "from IPython.display import Image  \n",
        "import pydotplus\n",
        "\n",
        "dot_data = StringIO()\n",
        "export_graphviz(clf, out_file=dot_data,  \n",
        "                filled=True, rounded=True,\n",
        "                special_characters=True,feature_names = feature_cols,class_names=['0','1'])\n",
        "graph = pydotplus.graph_from_dot_data(dot_data.getvalue())  \n",
        "graph.write_png('diabetes.png')"
      ],
      "execution_count": null,
      "outputs": [
        {
          "output_type": "stream",
          "text": [
            "/usr/local/lib/python3.6/dist-packages/sklearn/externals/six.py:31: FutureWarning: The module is deprecated in version 0.21 and will be removed in version 0.23 since we've dropped support for Python 2.7. Please rely on the official version of six (https://pypi.org/project/six/).\n",
            "  \"(https://pypi.org/project/six/).\", FutureWarning)\n"
          ],
          "name": "stderr"
        },
        {
          "output_type": "execute_result",
          "data": {
            "text/plain": [
              "True"
            ]
          },
          "metadata": {
            "tags": []
          },
          "execution_count": 9
        }
      ]
    },
    {
      "cell_type": "code",
      "metadata": {
        "id": "-ULcsv6C3O8g",
        "colab_type": "code",
        "colab": {
          "base_uri": "https://localhost:8080/",
          "height": 1000
        },
        "outputId": "c6e3d807-7785-4898-e953-b18be6d83170"
      },
      "source": [
        "import graphviz\n",
        "from IPython.display import display\n",
        "display(graphviz.Source(export_graphviz(clf)))"
      ],
      "execution_count": null,
      "outputs": [
        {
          "output_type": "display_data",
          "data": {
            "text/plain": [
              "<graphviz.files.Source at 0x7f8a7d3ee7b8>"
            ],
            "image/svg+xml": "<?xml version=\"1.0\" encoding=\"UTF-8\" standalone=\"no\"?>\n<!DOCTYPE svg PUBLIC \"-//W3C//DTD SVG 1.1//EN\"\n \"http://www.w3.org/Graphics/SVG/1.1/DTD/svg11.dtd\">\n<!-- Generated by graphviz version 2.40.1 (20161225.0304)\n -->\n<!-- Title: Tree Pages: 1 -->\n<svg width=\"3921pt\" height=\"1725pt\"\n viewBox=\"0.00 0.00 3921.00 1725.00\" xmlns=\"http://www.w3.org/2000/svg\" xmlns:xlink=\"http://www.w3.org/1999/xlink\">\n<g id=\"graph0\" class=\"graph\" transform=\"scale(1 1) rotate(0) translate(4 1721)\">\n<title>Tree</title>\n<polygon fill=\"#ffffff\" stroke=\"transparent\" points=\"-4,4 -4,-1721 3917,-1721 3917,4 -4,4\"/>\n<!-- 0 -->\n<g id=\"node1\" class=\"node\">\n<title>0</title>\n<polygon fill=\"none\" stroke=\"#000000\" points=\"1591,-1717 1466,-1717 1466,-1649 1591,-1649 1591,-1717\"/>\n<text text-anchor=\"middle\" x=\"1528.5\" y=\"-1701.8\" font-family=\"Times,serif\" font-size=\"14.00\" fill=\"#000000\">X[1] &lt;= 129.5</text>\n<text text-anchor=\"middle\" x=\"1528.5\" y=\"-1686.8\" font-family=\"Times,serif\" font-size=\"14.00\" fill=\"#000000\">gini = 0.449</text>\n<text text-anchor=\"middle\" x=\"1528.5\" y=\"-1671.8\" font-family=\"Times,serif\" font-size=\"14.00\" fill=\"#000000\">samples = 537</text>\n<text text-anchor=\"middle\" x=\"1528.5\" y=\"-1656.8\" font-family=\"Times,serif\" font-size=\"14.00\" fill=\"#000000\">value = [354, 183]</text>\n</g>\n<!-- 1 -->\n<g id=\"node2\" class=\"node\">\n<title>1</title>\n<polygon fill=\"none\" stroke=\"#000000\" points=\"1040,-1613 923,-1613 923,-1545 1040,-1545 1040,-1613\"/>\n<text text-anchor=\"middle\" x=\"981.5\" y=\"-1597.8\" font-family=\"Times,serif\" font-size=\"14.00\" fill=\"#000000\">X[5] &lt;= 26.3</text>\n<text text-anchor=\"middle\" x=\"981.5\" y=\"-1582.8\" font-family=\"Times,serif\" font-size=\"14.00\" fill=\"#000000\">gini = 0.329</text>\n<text text-anchor=\"middle\" x=\"981.5\" y=\"-1567.8\" font-family=\"Times,serif\" font-size=\"14.00\" fill=\"#000000\">samples = 357</text>\n<text text-anchor=\"middle\" x=\"981.5\" y=\"-1552.8\" font-family=\"Times,serif\" font-size=\"14.00\" fill=\"#000000\">value = [283, 74]</text>\n</g>\n<!-- 0&#45;&gt;1 -->\n<g id=\"edge1\" class=\"edge\">\n<title>0&#45;&gt;1</title>\n<path fill=\"none\" stroke=\"#000000\" d=\"M1465.7521,-1671.0699C1362.4476,-1651.4288 1157.3584,-1612.4356 1050.2532,-1592.0719\"/>\n<polygon fill=\"#000000\" stroke=\"#000000\" points=\"1050.6786,-1588.5902 1040.2008,-1590.1607 1049.371,-1595.467 1050.6786,-1588.5902\"/>\n<text text-anchor=\"middle\" x=\"1054.2655\" y=\"-1607.1291\" font-family=\"Times,serif\" font-size=\"14.00\" fill=\"#000000\">True</text>\n</g>\n<!-- 102 -->\n<g id=\"node103\" class=\"node\">\n<title>102</title>\n<polygon fill=\"none\" stroke=\"#000000\" points=\"1938,-1613 1821,-1613 1821,-1545 1938,-1545 1938,-1613\"/>\n<text text-anchor=\"middle\" x=\"1879.5\" y=\"-1597.8\" font-family=\"Times,serif\" font-size=\"14.00\" fill=\"#000000\">X[5] &lt;= 27.85</text>\n<text text-anchor=\"middle\" x=\"1879.5\" y=\"-1582.8\" font-family=\"Times,serif\" font-size=\"14.00\" fill=\"#000000\">gini = 0.478</text>\n<text text-anchor=\"middle\" x=\"1879.5\" y=\"-1567.8\" font-family=\"Times,serif\" font-size=\"14.00\" fill=\"#000000\">samples = 180</text>\n<text text-anchor=\"middle\" x=\"1879.5\" y=\"-1552.8\" font-family=\"Times,serif\" font-size=\"14.00\" fill=\"#000000\">value = [71, 109]</text>\n</g>\n<!-- 0&#45;&gt;102 -->\n<g id=\"edge102\" class=\"edge\">\n<title>0&#45;&gt;102</title>\n<path fill=\"none\" stroke=\"#000000\" d=\"M1591.2518,-1664.4069C1653.0192,-1646.1054 1747.0994,-1618.2298 1810.8347,-1599.3453\"/>\n<polygon fill=\"#000000\" stroke=\"#000000\" points=\"1812.2001,-1602.5912 1820.7937,-1596.3944 1810.2114,-1595.8796 1812.2001,-1602.5912\"/>\n<text text-anchor=\"middle\" x=\"1808.8664\" y=\"-1614.6658\" font-family=\"Times,serif\" font-size=\"14.00\" fill=\"#000000\">False</text>\n</g>\n<!-- 2 -->\n<g id=\"node3\" class=\"node\">\n<title>2</title>\n<polygon fill=\"none\" stroke=\"#000000\" points=\"388.5,-1509 286.5,-1509 286.5,-1441 388.5,-1441 388.5,-1509\"/>\n<text text-anchor=\"middle\" x=\"337.5\" y=\"-1493.8\" font-family=\"Times,serif\" font-size=\"14.00\" fill=\"#000000\">X[5] &lt;= 9.1</text>\n<text text-anchor=\"middle\" x=\"337.5\" y=\"-1478.8\" font-family=\"Times,serif\" font-size=\"14.00\" fill=\"#000000\">gini = 0.06</text>\n<text text-anchor=\"middle\" x=\"337.5\" y=\"-1463.8\" font-family=\"Times,serif\" font-size=\"14.00\" fill=\"#000000\">samples = 97</text>\n<text text-anchor=\"middle\" x=\"337.5\" y=\"-1448.8\" font-family=\"Times,serif\" font-size=\"14.00\" fill=\"#000000\">value = [94, 3]</text>\n</g>\n<!-- 1&#45;&gt;2 -->\n<g id=\"edge2\" class=\"edge\">\n<title>1&#45;&gt;2</title>\n<path fill=\"none\" stroke=\"#000000\" d=\"M922.9281,-1569.5412C801.3888,-1549.9137 522.8143,-1504.9265 398.8897,-1484.9139\"/>\n<polygon fill=\"#000000\" stroke=\"#000000\" points=\"399.242,-1481.4255 388.8119,-1483.2864 398.1259,-1488.336 399.242,-1481.4255\"/>\n</g>\n<!-- 11 -->\n<g id=\"node12\" class=\"node\">\n<title>11</title>\n<polygon fill=\"none\" stroke=\"#000000\" points=\"1040,-1509 923,-1509 923,-1441 1040,-1441 1040,-1509\"/>\n<text text-anchor=\"middle\" x=\"981.5\" y=\"-1493.8\" font-family=\"Times,serif\" font-size=\"14.00\" fill=\"#000000\">X[7] &lt;= 27.5</text>\n<text text-anchor=\"middle\" x=\"981.5\" y=\"-1478.8\" font-family=\"Times,serif\" font-size=\"14.00\" fill=\"#000000\">gini = 0.397</text>\n<text text-anchor=\"middle\" x=\"981.5\" y=\"-1463.8\" font-family=\"Times,serif\" font-size=\"14.00\" fill=\"#000000\">samples = 260</text>\n<text text-anchor=\"middle\" x=\"981.5\" y=\"-1448.8\" font-family=\"Times,serif\" font-size=\"14.00\" fill=\"#000000\">value = [189, 71]</text>\n</g>\n<!-- 1&#45;&gt;11 -->\n<g id=\"edge11\" class=\"edge\">\n<title>1&#45;&gt;11</title>\n<path fill=\"none\" stroke=\"#000000\" d=\"M981.5,-1544.9465C981.5,-1536.776 981.5,-1527.9318 981.5,-1519.3697\"/>\n<polygon fill=\"#000000\" stroke=\"#000000\" points=\"985.0001,-1519.13 981.5,-1509.13 978.0001,-1519.13 985.0001,-1519.13\"/>\n</g>\n<!-- 3 -->\n<g id=\"node4\" class=\"node\">\n<title>3</title>\n<polygon fill=\"none\" stroke=\"#000000\" points=\"208,-1405 113,-1405 113,-1337 208,-1337 208,-1405\"/>\n<text text-anchor=\"middle\" x=\"160.5\" y=\"-1389.8\" font-family=\"Times,serif\" font-size=\"14.00\" fill=\"#000000\">X[7] &lt;= 28.0</text>\n<text text-anchor=\"middle\" x=\"160.5\" y=\"-1374.8\" font-family=\"Times,serif\" font-size=\"14.00\" fill=\"#000000\">gini = 0.444</text>\n<text text-anchor=\"middle\" x=\"160.5\" y=\"-1359.8\" font-family=\"Times,serif\" font-size=\"14.00\" fill=\"#000000\">samples = 6</text>\n<text text-anchor=\"middle\" x=\"160.5\" y=\"-1344.8\" font-family=\"Times,serif\" font-size=\"14.00\" fill=\"#000000\">value = [4, 2]</text>\n</g>\n<!-- 2&#45;&gt;3 -->\n<g id=\"edge3\" class=\"edge\">\n<title>2&#45;&gt;3</title>\n<path fill=\"none\" stroke=\"#000000\" d=\"M286.3043,-1444.9189C264.5818,-1432.1554 239.1893,-1417.2355 216.9277,-1404.1553\"/>\n<polygon fill=\"#000000\" stroke=\"#000000\" points=\"218.6388,-1401.1012 208.2439,-1399.0529 215.0926,-1407.1365 218.6388,-1401.1012\"/>\n</g>\n<!-- 6 -->\n<g id=\"node7\" class=\"node\">\n<title>6</title>\n<polygon fill=\"none\" stroke=\"#000000\" points=\"388.5,-1405 286.5,-1405 286.5,-1337 388.5,-1337 388.5,-1405\"/>\n<text text-anchor=\"middle\" x=\"337.5\" y=\"-1389.8\" font-family=\"Times,serif\" font-size=\"14.00\" fill=\"#000000\">X[6] &lt;= 0.669</text>\n<text text-anchor=\"middle\" x=\"337.5\" y=\"-1374.8\" font-family=\"Times,serif\" font-size=\"14.00\" fill=\"#000000\">gini = 0.022</text>\n<text text-anchor=\"middle\" x=\"337.5\" y=\"-1359.8\" font-family=\"Times,serif\" font-size=\"14.00\" fill=\"#000000\">samples = 91</text>\n<text text-anchor=\"middle\" x=\"337.5\" y=\"-1344.8\" font-family=\"Times,serif\" font-size=\"14.00\" fill=\"#000000\">value = [90, 1]</text>\n</g>\n<!-- 2&#45;&gt;6 -->\n<g id=\"edge6\" class=\"edge\">\n<title>2&#45;&gt;6</title>\n<path fill=\"none\" stroke=\"#000000\" d=\"M337.5,-1440.9465C337.5,-1432.776 337.5,-1423.9318 337.5,-1415.3697\"/>\n<polygon fill=\"#000000\" stroke=\"#000000\" points=\"341.0001,-1415.13 337.5,-1405.13 334.0001,-1415.13 341.0001,-1415.13\"/>\n</g>\n<!-- 4 -->\n<g id=\"node5\" class=\"node\">\n<title>4</title>\n<polygon fill=\"none\" stroke=\"#000000\" points=\"95,-1293.5 0,-1293.5 0,-1240.5 95,-1240.5 95,-1293.5\"/>\n<text text-anchor=\"middle\" x=\"47.5\" y=\"-1278.3\" font-family=\"Times,serif\" font-size=\"14.00\" fill=\"#000000\">gini = 0.0</text>\n<text text-anchor=\"middle\" x=\"47.5\" y=\"-1263.3\" font-family=\"Times,serif\" font-size=\"14.00\" fill=\"#000000\">samples = 4</text>\n<text text-anchor=\"middle\" x=\"47.5\" y=\"-1248.3\" font-family=\"Times,serif\" font-size=\"14.00\" fill=\"#000000\">value = [4, 0]</text>\n</g>\n<!-- 3&#45;&gt;4 -->\n<g id=\"edge4\" class=\"edge\">\n<title>3&#45;&gt;4</title>\n<path fill=\"none\" stroke=\"#000000\" d=\"M123.4996,-1336.9465C110.8134,-1325.2707 96.6322,-1312.219 83.987,-1300.5809\"/>\n<polygon fill=\"#000000\" stroke=\"#000000\" points=\"86.0673,-1297.7389 76.3391,-1293.5422 81.3269,-1302.8895 86.0673,-1297.7389\"/>\n</g>\n<!-- 5 -->\n<g id=\"node6\" class=\"node\">\n<title>5</title>\n<polygon fill=\"none\" stroke=\"#000000\" points=\"208,-1293.5 113,-1293.5 113,-1240.5 208,-1240.5 208,-1293.5\"/>\n<text text-anchor=\"middle\" x=\"160.5\" y=\"-1278.3\" font-family=\"Times,serif\" font-size=\"14.00\" fill=\"#000000\">gini = 0.0</text>\n<text text-anchor=\"middle\" x=\"160.5\" y=\"-1263.3\" font-family=\"Times,serif\" font-size=\"14.00\" fill=\"#000000\">samples = 2</text>\n<text text-anchor=\"middle\" x=\"160.5\" y=\"-1248.3\" font-family=\"Times,serif\" font-size=\"14.00\" fill=\"#000000\">value = [0, 2]</text>\n</g>\n<!-- 3&#45;&gt;5 -->\n<g id=\"edge5\" class=\"edge\">\n<title>3&#45;&gt;5</title>\n<path fill=\"none\" stroke=\"#000000\" d=\"M160.5,-1336.9465C160.5,-1326.2621 160.5,-1314.4254 160.5,-1303.5742\"/>\n<polygon fill=\"#000000\" stroke=\"#000000\" points=\"164.0001,-1303.5421 160.5,-1293.5422 157.0001,-1303.5422 164.0001,-1303.5421\"/>\n</g>\n<!-- 7 -->\n<g id=\"node8\" class=\"node\">\n<title>7</title>\n<polygon fill=\"none\" stroke=\"#000000\" points=\"328.5,-1293.5 226.5,-1293.5 226.5,-1240.5 328.5,-1240.5 328.5,-1293.5\"/>\n<text text-anchor=\"middle\" x=\"277.5\" y=\"-1278.3\" font-family=\"Times,serif\" font-size=\"14.00\" fill=\"#000000\">gini = 0.0</text>\n<text text-anchor=\"middle\" x=\"277.5\" y=\"-1263.3\" font-family=\"Times,serif\" font-size=\"14.00\" fill=\"#000000\">samples = 76</text>\n<text text-anchor=\"middle\" x=\"277.5\" y=\"-1248.3\" font-family=\"Times,serif\" font-size=\"14.00\" fill=\"#000000\">value = [76, 0]</text>\n</g>\n<!-- 6&#45;&gt;7 -->\n<g id=\"edge7\" class=\"edge\">\n<title>6&#45;&gt;7</title>\n<path fill=\"none\" stroke=\"#000000\" d=\"M317.8538,-1336.9465C311.4355,-1325.8215 304.2965,-1313.4473 297.829,-1302.237\"/>\n<polygon fill=\"#000000\" stroke=\"#000000\" points=\"300.8417,-1300.455 292.8128,-1293.5422 294.7784,-1303.9531 300.8417,-1300.455\"/>\n</g>\n<!-- 8 -->\n<g id=\"node9\" class=\"node\">\n<title>8</title>\n<polygon fill=\"none\" stroke=\"#000000\" points=\"448.5,-1301 346.5,-1301 346.5,-1233 448.5,-1233 448.5,-1301\"/>\n<text text-anchor=\"middle\" x=\"397.5\" y=\"-1285.8\" font-family=\"Times,serif\" font-size=\"14.00\" fill=\"#000000\">X[6] &lt;= 0.705</text>\n<text text-anchor=\"middle\" x=\"397.5\" y=\"-1270.8\" font-family=\"Times,serif\" font-size=\"14.00\" fill=\"#000000\">gini = 0.124</text>\n<text text-anchor=\"middle\" x=\"397.5\" y=\"-1255.8\" font-family=\"Times,serif\" font-size=\"14.00\" fill=\"#000000\">samples = 15</text>\n<text text-anchor=\"middle\" x=\"397.5\" y=\"-1240.8\" font-family=\"Times,serif\" font-size=\"14.00\" fill=\"#000000\">value = [14, 1]</text>\n</g>\n<!-- 6&#45;&gt;8 -->\n<g id=\"edge8\" class=\"edge\">\n<title>6&#45;&gt;8</title>\n<path fill=\"none\" stroke=\"#000000\" d=\"M357.1462,-1336.9465C362.119,-1328.3271 367.5243,-1318.9579 372.7148,-1309.9611\"/>\n<polygon fill=\"#000000\" stroke=\"#000000\" points=\"375.844,-1311.5409 377.8096,-1301.13 369.7807,-1308.0428 375.844,-1311.5409\"/>\n</g>\n<!-- 9 -->\n<g id=\"node10\" class=\"node\">\n<title>9</title>\n<polygon fill=\"none\" stroke=\"#000000\" points=\"328,-1189.5 233,-1189.5 233,-1136.5 328,-1136.5 328,-1189.5\"/>\n<text text-anchor=\"middle\" x=\"280.5\" y=\"-1174.3\" font-family=\"Times,serif\" font-size=\"14.00\" fill=\"#000000\">gini = 0.0</text>\n<text text-anchor=\"middle\" x=\"280.5\" y=\"-1159.3\" font-family=\"Times,serif\" font-size=\"14.00\" fill=\"#000000\">samples = 1</text>\n<text text-anchor=\"middle\" x=\"280.5\" y=\"-1144.3\" font-family=\"Times,serif\" font-size=\"14.00\" fill=\"#000000\">value = [0, 1]</text>\n</g>\n<!-- 8&#45;&gt;9 -->\n<g id=\"edge9\" class=\"edge\">\n<title>8&#45;&gt;9</title>\n<path fill=\"none\" stroke=\"#000000\" d=\"M359.1898,-1232.9465C345.9306,-1221.1606 331.0942,-1207.9726 317.9084,-1196.2519\"/>\n<polygon fill=\"#000000\" stroke=\"#000000\" points=\"320.1593,-1193.5699 310.3599,-1189.5422 315.5088,-1198.8018 320.1593,-1193.5699\"/>\n</g>\n<!-- 10 -->\n<g id=\"node11\" class=\"node\">\n<title>10</title>\n<polygon fill=\"none\" stroke=\"#000000\" points=\"448.5,-1189.5 346.5,-1189.5 346.5,-1136.5 448.5,-1136.5 448.5,-1189.5\"/>\n<text text-anchor=\"middle\" x=\"397.5\" y=\"-1174.3\" font-family=\"Times,serif\" font-size=\"14.00\" fill=\"#000000\">gini = 0.0</text>\n<text text-anchor=\"middle\" x=\"397.5\" y=\"-1159.3\" font-family=\"Times,serif\" font-size=\"14.00\" fill=\"#000000\">samples = 14</text>\n<text text-anchor=\"middle\" x=\"397.5\" y=\"-1144.3\" font-family=\"Times,serif\" font-size=\"14.00\" fill=\"#000000\">value = [14, 0]</text>\n</g>\n<!-- 8&#45;&gt;10 -->\n<g id=\"edge10\" class=\"edge\">\n<title>8&#45;&gt;10</title>\n<path fill=\"none\" stroke=\"#000000\" d=\"M397.5,-1232.9465C397.5,-1222.2621 397.5,-1210.4254 397.5,-1199.5742\"/>\n<polygon fill=\"#000000\" stroke=\"#000000\" points=\"401.0001,-1199.5421 397.5,-1189.5422 394.0001,-1199.5422 401.0001,-1199.5421\"/>\n</g>\n<!-- 12 -->\n<g id=\"node13\" class=\"node\">\n<title>12</title>\n<polygon fill=\"none\" stroke=\"#000000\" points=\"884,-1405 767,-1405 767,-1337 884,-1337 884,-1405\"/>\n<text text-anchor=\"middle\" x=\"825.5\" y=\"-1389.8\" font-family=\"Times,serif\" font-size=\"14.00\" fill=\"#000000\">X[5] &lt;= 45.4</text>\n<text text-anchor=\"middle\" x=\"825.5\" y=\"-1374.8\" font-family=\"Times,serif\" font-size=\"14.00\" fill=\"#000000\">gini = 0.243</text>\n<text text-anchor=\"middle\" x=\"825.5\" y=\"-1359.8\" font-family=\"Times,serif\" font-size=\"14.00\" fill=\"#000000\">samples = 120</text>\n<text text-anchor=\"middle\" x=\"825.5\" y=\"-1344.8\" font-family=\"Times,serif\" font-size=\"14.00\" fill=\"#000000\">value = [103, 17]</text>\n</g>\n<!-- 11&#45;&gt;12 -->\n<g id=\"edge12\" class=\"edge\">\n<title>11&#45;&gt;12</title>\n<path fill=\"none\" stroke=\"#000000\" d=\"M930.4198,-1440.9465C916.0092,-1431.3395 900.2014,-1420.8009 885.3272,-1410.8848\"/>\n<polygon fill=\"#000000\" stroke=\"#000000\" points=\"886.957,-1407.7649 876.695,-1405.13 883.074,-1413.5892 886.957,-1407.7649\"/>\n</g>\n<!-- 51 -->\n<g id=\"node52\" class=\"node\">\n<title>51</title>\n<polygon fill=\"none\" stroke=\"#000000\" points=\"1120.5,-1405 1010.5,-1405 1010.5,-1337 1120.5,-1337 1120.5,-1405\"/>\n<text text-anchor=\"middle\" x=\"1065.5\" y=\"-1389.8\" font-family=\"Times,serif\" font-size=\"14.00\" fill=\"#000000\">X[6] &lt;= 0.563</text>\n<text text-anchor=\"middle\" x=\"1065.5\" y=\"-1374.8\" font-family=\"Times,serif\" font-size=\"14.00\" fill=\"#000000\">gini = 0.474</text>\n<text text-anchor=\"middle\" x=\"1065.5\" y=\"-1359.8\" font-family=\"Times,serif\" font-size=\"14.00\" fill=\"#000000\">samples = 140</text>\n<text text-anchor=\"middle\" x=\"1065.5\" y=\"-1344.8\" font-family=\"Times,serif\" font-size=\"14.00\" fill=\"#000000\">value = [86, 54]</text>\n</g>\n<!-- 11&#45;&gt;51 -->\n<g id=\"edge51\" class=\"edge\">\n<title>11&#45;&gt;51</title>\n<path fill=\"none\" stroke=\"#000000\" d=\"M1009.0047,-1440.9465C1016.1841,-1432.0578 1024.0076,-1422.3716 1031.481,-1413.1188\"/>\n<polygon fill=\"#000000\" stroke=\"#000000\" points=\"1034.3729,-1415.1086 1037.9335,-1405.13 1028.9273,-1410.7102 1034.3729,-1415.1086\"/>\n</g>\n<!-- 13 -->\n<g id=\"node14\" class=\"node\">\n<title>13</title>\n<polygon fill=\"none\" stroke=\"#000000\" points=\"708,-1301 591,-1301 591,-1233 708,-1233 708,-1301\"/>\n<text text-anchor=\"middle\" x=\"649.5\" y=\"-1285.8\" font-family=\"Times,serif\" font-size=\"14.00\" fill=\"#000000\">X[0] &lt;= 7.0</text>\n<text text-anchor=\"middle\" x=\"649.5\" y=\"-1270.8\" font-family=\"Times,serif\" font-size=\"14.00\" fill=\"#000000\">gini = 0.212</text>\n<text text-anchor=\"middle\" x=\"649.5\" y=\"-1255.8\" font-family=\"Times,serif\" font-size=\"14.00\" fill=\"#000000\">samples = 116</text>\n<text text-anchor=\"middle\" x=\"649.5\" y=\"-1240.8\" font-family=\"Times,serif\" font-size=\"14.00\" fill=\"#000000\">value = [102, 14]</text>\n</g>\n<!-- 12&#45;&gt;13 -->\n<g id=\"edge13\" class=\"edge\">\n<title>12&#45;&gt;13</title>\n<path fill=\"none\" stroke=\"#000000\" d=\"M767.871,-1336.9465C751.3091,-1327.1599 733.1112,-1316.4066 716.0575,-1306.3294\"/>\n<polygon fill=\"#000000\" stroke=\"#000000\" points=\"717.6483,-1303.2041 707.2585,-1301.13 714.0872,-1309.2306 717.6483,-1303.2041\"/>\n</g>\n<!-- 48 -->\n<g id=\"node49\" class=\"node\">\n<title>48</title>\n<polygon fill=\"none\" stroke=\"#000000\" points=\"876,-1301 775,-1301 775,-1233 876,-1233 876,-1301\"/>\n<text text-anchor=\"middle\" x=\"825.5\" y=\"-1285.8\" font-family=\"Times,serif\" font-size=\"14.00\" fill=\"#000000\">X[4] &lt;= 185.0</text>\n<text text-anchor=\"middle\" x=\"825.5\" y=\"-1270.8\" font-family=\"Times,serif\" font-size=\"14.00\" fill=\"#000000\">gini = 0.375</text>\n<text text-anchor=\"middle\" x=\"825.5\" y=\"-1255.8\" font-family=\"Times,serif\" font-size=\"14.00\" fill=\"#000000\">samples = 4</text>\n<text text-anchor=\"middle\" x=\"825.5\" y=\"-1240.8\" font-family=\"Times,serif\" font-size=\"14.00\" fill=\"#000000\">value = [1, 3]</text>\n</g>\n<!-- 12&#45;&gt;48 -->\n<g id=\"edge48\" class=\"edge\">\n<title>12&#45;&gt;48</title>\n<path fill=\"none\" stroke=\"#000000\" d=\"M825.5,-1336.9465C825.5,-1328.776 825.5,-1319.9318 825.5,-1311.3697\"/>\n<polygon fill=\"#000000\" stroke=\"#000000\" points=\"829.0001,-1311.13 825.5,-1301.13 822.0001,-1311.13 829.0001,-1311.13\"/>\n</g>\n<!-- 14 -->\n<g id=\"node15\" class=\"node\">\n<title>14</title>\n<polygon fill=\"none\" stroke=\"#000000\" points=\"584,-1197 467,-1197 467,-1129 584,-1129 584,-1197\"/>\n<text text-anchor=\"middle\" x=\"525.5\" y=\"-1181.8\" font-family=\"Times,serif\" font-size=\"14.00\" fill=\"#000000\">X[2] &lt;= 12.0</text>\n<text text-anchor=\"middle\" x=\"525.5\" y=\"-1166.8\" font-family=\"Times,serif\" font-size=\"14.00\" fill=\"#000000\">gini = 0.201</text>\n<text text-anchor=\"middle\" x=\"525.5\" y=\"-1151.8\" font-family=\"Times,serif\" font-size=\"14.00\" fill=\"#000000\">samples = 115</text>\n<text text-anchor=\"middle\" x=\"525.5\" y=\"-1136.8\" font-family=\"Times,serif\" font-size=\"14.00\" fill=\"#000000\">value = [102, 13]</text>\n</g>\n<!-- 13&#45;&gt;14 -->\n<g id=\"edge14\" class=\"edge\">\n<title>13&#45;&gt;14</title>\n<path fill=\"none\" stroke=\"#000000\" d=\"M608.8978,-1232.9465C597.7644,-1223.6088 585.5817,-1213.3911 574.0511,-1203.7203\"/>\n<polygon fill=\"#000000\" stroke=\"#000000\" points=\"576.1046,-1200.8745 566.1935,-1197.13 571.6062,-1206.2378 576.1046,-1200.8745\"/>\n</g>\n<!-- 47 -->\n<g id=\"node48\" class=\"node\">\n<title>47</title>\n<polygon fill=\"none\" stroke=\"#000000\" points=\"697,-1189.5 602,-1189.5 602,-1136.5 697,-1136.5 697,-1189.5\"/>\n<text text-anchor=\"middle\" x=\"649.5\" y=\"-1174.3\" font-family=\"Times,serif\" font-size=\"14.00\" fill=\"#000000\">gini = 0.0</text>\n<text text-anchor=\"middle\" x=\"649.5\" y=\"-1159.3\" font-family=\"Times,serif\" font-size=\"14.00\" fill=\"#000000\">samples = 1</text>\n<text text-anchor=\"middle\" x=\"649.5\" y=\"-1144.3\" font-family=\"Times,serif\" font-size=\"14.00\" fill=\"#000000\">value = [0, 1]</text>\n</g>\n<!-- 13&#45;&gt;47 -->\n<g id=\"edge47\" class=\"edge\">\n<title>13&#45;&gt;47</title>\n<path fill=\"none\" stroke=\"#000000\" d=\"M649.5,-1232.9465C649.5,-1222.2621 649.5,-1210.4254 649.5,-1199.5742\"/>\n<polygon fill=\"#000000\" stroke=\"#000000\" points=\"653.0001,-1199.5421 649.5,-1189.5422 646.0001,-1199.5422 653.0001,-1199.5421\"/>\n</g>\n<!-- 15 -->\n<g id=\"node16\" class=\"node\">\n<title>15</title>\n<polygon fill=\"none\" stroke=\"#000000\" points=\"449,-1085.5 354,-1085.5 354,-1032.5 449,-1032.5 449,-1085.5\"/>\n<text text-anchor=\"middle\" x=\"401.5\" y=\"-1070.3\" font-family=\"Times,serif\" font-size=\"14.00\" fill=\"#000000\">gini = 0.0</text>\n<text text-anchor=\"middle\" x=\"401.5\" y=\"-1055.3\" font-family=\"Times,serif\" font-size=\"14.00\" fill=\"#000000\">samples = 1</text>\n<text text-anchor=\"middle\" x=\"401.5\" y=\"-1040.3\" font-family=\"Times,serif\" font-size=\"14.00\" fill=\"#000000\">value = [0, 1]</text>\n</g>\n<!-- 14&#45;&gt;15 -->\n<g id=\"edge15\" class=\"edge\">\n<title>14&#45;&gt;15</title>\n<path fill=\"none\" stroke=\"#000000\" d=\"M484.8978,-1128.9465C470.8453,-1117.1606 455.1212,-1103.9726 441.1465,-1092.2519\"/>\n<polygon fill=\"#000000\" stroke=\"#000000\" points=\"443.0575,-1089.2866 433.1464,-1085.5422 438.5592,-1094.65 443.0575,-1089.2866\"/>\n</g>\n<!-- 16 -->\n<g id=\"node17\" class=\"node\">\n<title>16</title>\n<polygon fill=\"none\" stroke=\"#000000\" points=\"584,-1093 467,-1093 467,-1025 584,-1025 584,-1093\"/>\n<text text-anchor=\"middle\" x=\"525.5\" y=\"-1077.8\" font-family=\"Times,serif\" font-size=\"14.00\" fill=\"#000000\">X[6] &lt;= 1.272</text>\n<text text-anchor=\"middle\" x=\"525.5\" y=\"-1062.8\" font-family=\"Times,serif\" font-size=\"14.00\" fill=\"#000000\">gini = 0.188</text>\n<text text-anchor=\"middle\" x=\"525.5\" y=\"-1047.8\" font-family=\"Times,serif\" font-size=\"14.00\" fill=\"#000000\">samples = 114</text>\n<text text-anchor=\"middle\" x=\"525.5\" y=\"-1032.8\" font-family=\"Times,serif\" font-size=\"14.00\" fill=\"#000000\">value = [102, 12]</text>\n</g>\n<!-- 14&#45;&gt;16 -->\n<g id=\"edge16\" class=\"edge\">\n<title>14&#45;&gt;16</title>\n<path fill=\"none\" stroke=\"#000000\" d=\"M525.5,-1128.9465C525.5,-1120.776 525.5,-1111.9318 525.5,-1103.3697\"/>\n<polygon fill=\"#000000\" stroke=\"#000000\" points=\"529.0001,-1103.13 525.5,-1093.13 522.0001,-1103.13 529.0001,-1103.13\"/>\n</g>\n<!-- 17 -->\n<g id=\"node18\" class=\"node\">\n<title>17</title>\n<polygon fill=\"none\" stroke=\"#000000\" points=\"415,-989 298,-989 298,-921 415,-921 415,-989\"/>\n<text text-anchor=\"middle\" x=\"356.5\" y=\"-973.8\" font-family=\"Times,serif\" font-size=\"14.00\" fill=\"#000000\">X[5] &lt;= 30.95</text>\n<text text-anchor=\"middle\" x=\"356.5\" y=\"-958.8\" font-family=\"Times,serif\" font-size=\"14.00\" fill=\"#000000\">gini = 0.165</text>\n<text text-anchor=\"middle\" x=\"356.5\" y=\"-943.8\" font-family=\"Times,serif\" font-size=\"14.00\" fill=\"#000000\">samples = 110</text>\n<text text-anchor=\"middle\" x=\"356.5\" y=\"-928.8\" font-family=\"Times,serif\" font-size=\"14.00\" fill=\"#000000\">value = [100, 10]</text>\n</g>\n<!-- 16&#45;&gt;17 -->\n<g id=\"edge17\" class=\"edge\">\n<title>16&#45;&gt;17</title>\n<path fill=\"none\" stroke=\"#000000\" d=\"M470.1631,-1024.9465C454.4058,-1015.2497 437.1063,-1004.6039 420.8613,-994.6069\"/>\n<polygon fill=\"#000000\" stroke=\"#000000\" points=\"422.3122,-991.3902 411.9612,-989.13 418.6435,-997.3518 422.3122,-991.3902\"/>\n</g>\n<!-- 44 -->\n<g id=\"node45\" class=\"node\">\n<title>44</title>\n<polygon fill=\"none\" stroke=\"#000000\" points=\"576,-989 475,-989 475,-921 576,-921 576,-989\"/>\n<text text-anchor=\"middle\" x=\"525.5\" y=\"-973.8\" font-family=\"Times,serif\" font-size=\"14.00\" fill=\"#000000\">X[6] &lt;= 1.496</text>\n<text text-anchor=\"middle\" x=\"525.5\" y=\"-958.8\" font-family=\"Times,serif\" font-size=\"14.00\" fill=\"#000000\">gini = 0.5</text>\n<text text-anchor=\"middle\" x=\"525.5\" y=\"-943.8\" font-family=\"Times,serif\" font-size=\"14.00\" fill=\"#000000\">samples = 4</text>\n<text text-anchor=\"middle\" x=\"525.5\" y=\"-928.8\" font-family=\"Times,serif\" font-size=\"14.00\" fill=\"#000000\">value = [2, 2]</text>\n</g>\n<!-- 16&#45;&gt;44 -->\n<g id=\"edge44\" class=\"edge\">\n<title>16&#45;&gt;44</title>\n<path fill=\"none\" stroke=\"#000000\" d=\"M525.5,-1024.9465C525.5,-1016.776 525.5,-1007.9318 525.5,-999.3697\"/>\n<polygon fill=\"#000000\" stroke=\"#000000\" points=\"529.0001,-999.13 525.5,-989.13 522.0001,-999.13 529.0001,-999.13\"/>\n</g>\n<!-- 18 -->\n<g id=\"node19\" class=\"node\">\n<title>18</title>\n<polygon fill=\"none\" stroke=\"#000000\" points=\"283.5,-877.5 181.5,-877.5 181.5,-824.5 283.5,-824.5 283.5,-877.5\"/>\n<text text-anchor=\"middle\" x=\"232.5\" y=\"-862.3\" font-family=\"Times,serif\" font-size=\"14.00\" fill=\"#000000\">gini = 0.0</text>\n<text text-anchor=\"middle\" x=\"232.5\" y=\"-847.3\" font-family=\"Times,serif\" font-size=\"14.00\" fill=\"#000000\">samples = 43</text>\n<text text-anchor=\"middle\" x=\"232.5\" y=\"-832.3\" font-family=\"Times,serif\" font-size=\"14.00\" fill=\"#000000\">value = [43, 0]</text>\n</g>\n<!-- 17&#45;&gt;18 -->\n<g id=\"edge18\" class=\"edge\">\n<title>17&#45;&gt;18</title>\n<path fill=\"none\" stroke=\"#000000\" d=\"M315.8978,-920.9465C301.8453,-909.1606 286.1212,-895.9726 272.1465,-884.2519\"/>\n<polygon fill=\"#000000\" stroke=\"#000000\" points=\"274.0575,-881.2866 264.1464,-877.5422 269.5592,-886.65 274.0575,-881.2866\"/>\n</g>\n<!-- 19 -->\n<g id=\"node20\" class=\"node\">\n<title>19</title>\n<polygon fill=\"none\" stroke=\"#000000\" points=\"411.5,-885 301.5,-885 301.5,-817 411.5,-817 411.5,-885\"/>\n<text text-anchor=\"middle\" x=\"356.5\" y=\"-869.8\" font-family=\"Times,serif\" font-size=\"14.00\" fill=\"#000000\">X[2] &lt;= 53.0</text>\n<text text-anchor=\"middle\" x=\"356.5\" y=\"-854.8\" font-family=\"Times,serif\" font-size=\"14.00\" fill=\"#000000\">gini = 0.254</text>\n<text text-anchor=\"middle\" x=\"356.5\" y=\"-839.8\" font-family=\"Times,serif\" font-size=\"14.00\" fill=\"#000000\">samples = 67</text>\n<text text-anchor=\"middle\" x=\"356.5\" y=\"-824.8\" font-family=\"Times,serif\" font-size=\"14.00\" fill=\"#000000\">value = [57, 10]</text>\n</g>\n<!-- 17&#45;&gt;19 -->\n<g id=\"edge19\" class=\"edge\">\n<title>17&#45;&gt;19</title>\n<path fill=\"none\" stroke=\"#000000\" d=\"M356.5,-920.9465C356.5,-912.776 356.5,-903.9318 356.5,-895.3697\"/>\n<polygon fill=\"#000000\" stroke=\"#000000\" points=\"360.0001,-895.13 356.5,-885.13 353.0001,-895.13 360.0001,-895.13\"/>\n</g>\n<!-- 20 -->\n<g id=\"node21\" class=\"node\">\n<title>20</title>\n<polygon fill=\"none\" stroke=\"#000000\" points=\"404,-781 309,-781 309,-713 404,-713 404,-781\"/>\n<text text-anchor=\"middle\" x=\"356.5\" y=\"-765.8\" font-family=\"Times,serif\" font-size=\"14.00\" fill=\"#000000\">X[0] &lt;= 2.5</text>\n<text text-anchor=\"middle\" x=\"356.5\" y=\"-750.8\" font-family=\"Times,serif\" font-size=\"14.00\" fill=\"#000000\">gini = 0.5</text>\n<text text-anchor=\"middle\" x=\"356.5\" y=\"-735.8\" font-family=\"Times,serif\" font-size=\"14.00\" fill=\"#000000\">samples = 6</text>\n<text text-anchor=\"middle\" x=\"356.5\" y=\"-720.8\" font-family=\"Times,serif\" font-size=\"14.00\" fill=\"#000000\">value = [3, 3]</text>\n</g>\n<!-- 19&#45;&gt;20 -->\n<g id=\"edge20\" class=\"edge\">\n<title>19&#45;&gt;20</title>\n<path fill=\"none\" stroke=\"#000000\" d=\"M356.5,-816.9465C356.5,-808.776 356.5,-799.9318 356.5,-791.3697\"/>\n<polygon fill=\"#000000\" stroke=\"#000000\" points=\"360.0001,-791.13 356.5,-781.13 353.0001,-791.13 360.0001,-791.13\"/>\n</g>\n<!-- 25 -->\n<g id=\"node26\" class=\"node\">\n<title>25</title>\n<polygon fill=\"none\" stroke=\"#000000\" points=\"525.5,-781 423.5,-781 423.5,-713 525.5,-713 525.5,-781\"/>\n<text text-anchor=\"middle\" x=\"474.5\" y=\"-765.8\" font-family=\"Times,serif\" font-size=\"14.00\" fill=\"#000000\">X[6] &lt;= 0.652</text>\n<text text-anchor=\"middle\" x=\"474.5\" y=\"-750.8\" font-family=\"Times,serif\" font-size=\"14.00\" fill=\"#000000\">gini = 0.203</text>\n<text text-anchor=\"middle\" x=\"474.5\" y=\"-735.8\" font-family=\"Times,serif\" font-size=\"14.00\" fill=\"#000000\">samples = 61</text>\n<text text-anchor=\"middle\" x=\"474.5\" y=\"-720.8\" font-family=\"Times,serif\" font-size=\"14.00\" fill=\"#000000\">value = [54, 7]</text>\n</g>\n<!-- 19&#45;&gt;25 -->\n<g id=\"edge25\" class=\"edge\">\n<title>19&#45;&gt;25</title>\n<path fill=\"none\" stroke=\"#000000\" d=\"M395.1376,-816.9465C405.6304,-807.6986 417.1026,-797.5876 427.9814,-787.9994\"/>\n<polygon fill=\"#000000\" stroke=\"#000000\" points=\"430.5877,-790.3678 435.7756,-781.13 425.9593,-785.1163 430.5877,-790.3678\"/>\n</g>\n<!-- 21 -->\n<g id=\"node22\" class=\"node\">\n<title>21</title>\n<polygon fill=\"none\" stroke=\"#000000\" points=\"289,-677 188,-677 188,-609 289,-609 289,-677\"/>\n<text text-anchor=\"middle\" x=\"238.5\" y=\"-661.8\" font-family=\"Times,serif\" font-size=\"14.00\" fill=\"#000000\">X[1] &lt;= 125.5</text>\n<text text-anchor=\"middle\" x=\"238.5\" y=\"-646.8\" font-family=\"Times,serif\" font-size=\"14.00\" fill=\"#000000\">gini = 0.375</text>\n<text text-anchor=\"middle\" x=\"238.5\" y=\"-631.8\" font-family=\"Times,serif\" font-size=\"14.00\" fill=\"#000000\">samples = 4</text>\n<text text-anchor=\"middle\" x=\"238.5\" y=\"-616.8\" font-family=\"Times,serif\" font-size=\"14.00\" fill=\"#000000\">value = [3, 1]</text>\n</g>\n<!-- 20&#45;&gt;21 -->\n<g id=\"edge21\" class=\"edge\">\n<title>20&#45;&gt;21</title>\n<path fill=\"none\" stroke=\"#000000\" d=\"M317.8624,-712.9465C307.3696,-703.6986 295.8974,-693.5876 285.0186,-683.9994\"/>\n<polygon fill=\"#000000\" stroke=\"#000000\" points=\"287.0407,-681.1163 277.2244,-677.13 282.4123,-686.3678 287.0407,-681.1163\"/>\n</g>\n<!-- 24 -->\n<g id=\"node25\" class=\"node\">\n<title>24</title>\n<polygon fill=\"none\" stroke=\"#000000\" points=\"404,-669.5 309,-669.5 309,-616.5 404,-616.5 404,-669.5\"/>\n<text text-anchor=\"middle\" x=\"356.5\" y=\"-654.3\" font-family=\"Times,serif\" font-size=\"14.00\" fill=\"#000000\">gini = 0.0</text>\n<text text-anchor=\"middle\" x=\"356.5\" y=\"-639.3\" font-family=\"Times,serif\" font-size=\"14.00\" fill=\"#000000\">samples = 2</text>\n<text text-anchor=\"middle\" x=\"356.5\" y=\"-624.3\" font-family=\"Times,serif\" font-size=\"14.00\" fill=\"#000000\">value = [0, 2]</text>\n</g>\n<!-- 20&#45;&gt;24 -->\n<g id=\"edge24\" class=\"edge\">\n<title>20&#45;&gt;24</title>\n<path fill=\"none\" stroke=\"#000000\" d=\"M356.5,-712.9465C356.5,-702.2621 356.5,-690.4254 356.5,-679.5742\"/>\n<polygon fill=\"#000000\" stroke=\"#000000\" points=\"360.0001,-679.5421 356.5,-669.5422 353.0001,-679.5422 360.0001,-679.5421\"/>\n</g>\n<!-- 22 -->\n<g id=\"node23\" class=\"node\">\n<title>22</title>\n<polygon fill=\"none\" stroke=\"#000000\" points=\"173,-565.5 78,-565.5 78,-512.5 173,-512.5 173,-565.5\"/>\n<text text-anchor=\"middle\" x=\"125.5\" y=\"-550.3\" font-family=\"Times,serif\" font-size=\"14.00\" fill=\"#000000\">gini = 0.0</text>\n<text text-anchor=\"middle\" x=\"125.5\" y=\"-535.3\" font-family=\"Times,serif\" font-size=\"14.00\" fill=\"#000000\">samples = 3</text>\n<text text-anchor=\"middle\" x=\"125.5\" y=\"-520.3\" font-family=\"Times,serif\" font-size=\"14.00\" fill=\"#000000\">value = [3, 0]</text>\n</g>\n<!-- 21&#45;&gt;22 -->\n<g id=\"edge22\" class=\"edge\">\n<title>21&#45;&gt;22</title>\n<path fill=\"none\" stroke=\"#000000\" d=\"M201.4996,-608.9465C188.8134,-597.2707 174.6322,-584.219 161.987,-572.5809\"/>\n<polygon fill=\"#000000\" stroke=\"#000000\" points=\"164.0673,-569.7389 154.3391,-565.5422 159.3269,-574.8895 164.0673,-569.7389\"/>\n</g>\n<!-- 23 -->\n<g id=\"node24\" class=\"node\">\n<title>23</title>\n<polygon fill=\"none\" stroke=\"#000000\" points=\"286,-565.5 191,-565.5 191,-512.5 286,-512.5 286,-565.5\"/>\n<text text-anchor=\"middle\" x=\"238.5\" y=\"-550.3\" font-family=\"Times,serif\" font-size=\"14.00\" fill=\"#000000\">gini = 0.0</text>\n<text text-anchor=\"middle\" x=\"238.5\" y=\"-535.3\" font-family=\"Times,serif\" font-size=\"14.00\" fill=\"#000000\">samples = 1</text>\n<text text-anchor=\"middle\" x=\"238.5\" y=\"-520.3\" font-family=\"Times,serif\" font-size=\"14.00\" fill=\"#000000\">value = [0, 1]</text>\n</g>\n<!-- 21&#45;&gt;23 -->\n<g id=\"edge23\" class=\"edge\">\n<title>21&#45;&gt;23</title>\n<path fill=\"none\" stroke=\"#000000\" d=\"M238.5,-608.9465C238.5,-598.2621 238.5,-586.4254 238.5,-575.5742\"/>\n<polygon fill=\"#000000\" stroke=\"#000000\" points=\"242.0001,-575.5421 238.5,-565.5422 235.0001,-575.5422 242.0001,-575.5421\"/>\n</g>\n<!-- 26 -->\n<g id=\"node27\" class=\"node\">\n<title>26</title>\n<polygon fill=\"none\" stroke=\"#000000\" points=\"525.5,-677 423.5,-677 423.5,-609 525.5,-609 525.5,-677\"/>\n<text text-anchor=\"middle\" x=\"474.5\" y=\"-661.8\" font-family=\"Times,serif\" font-size=\"14.00\" fill=\"#000000\">X[4] &lt;= 36.5</text>\n<text text-anchor=\"middle\" x=\"474.5\" y=\"-646.8\" font-family=\"Times,serif\" font-size=\"14.00\" fill=\"#000000\">gini = 0.15</text>\n<text text-anchor=\"middle\" x=\"474.5\" y=\"-631.8\" font-family=\"Times,serif\" font-size=\"14.00\" fill=\"#000000\">samples = 49</text>\n<text text-anchor=\"middle\" x=\"474.5\" y=\"-616.8\" font-family=\"Times,serif\" font-size=\"14.00\" fill=\"#000000\">value = [45, 4]</text>\n</g>\n<!-- 25&#45;&gt;26 -->\n<g id=\"edge26\" class=\"edge\">\n<title>25&#45;&gt;26</title>\n<path fill=\"none\" stroke=\"#000000\" d=\"M474.5,-712.9465C474.5,-704.776 474.5,-695.9318 474.5,-687.3697\"/>\n<polygon fill=\"#000000\" stroke=\"#000000\" points=\"478.0001,-687.13 474.5,-677.13 471.0001,-687.13 478.0001,-687.13\"/>\n</g>\n<!-- 39 -->\n<g id=\"node40\" class=\"node\">\n<title>39</title>\n<polygon fill=\"none\" stroke=\"#000000\" points=\"640,-677 545,-677 545,-609 640,-609 640,-677\"/>\n<text text-anchor=\"middle\" x=\"592.5\" y=\"-661.8\" font-family=\"Times,serif\" font-size=\"14.00\" fill=\"#000000\">X[4] &lt;= 65.5</text>\n<text text-anchor=\"middle\" x=\"592.5\" y=\"-646.8\" font-family=\"Times,serif\" font-size=\"14.00\" fill=\"#000000\">gini = 0.375</text>\n<text text-anchor=\"middle\" x=\"592.5\" y=\"-631.8\" font-family=\"Times,serif\" font-size=\"14.00\" fill=\"#000000\">samples = 12</text>\n<text text-anchor=\"middle\" x=\"592.5\" y=\"-616.8\" font-family=\"Times,serif\" font-size=\"14.00\" fill=\"#000000\">value = [9, 3]</text>\n</g>\n<!-- 25&#45;&gt;39 -->\n<g id=\"edge39\" class=\"edge\">\n<title>25&#45;&gt;39</title>\n<path fill=\"none\" stroke=\"#000000\" d=\"M513.1376,-712.9465C523.6304,-703.6986 535.1026,-693.5876 545.9814,-683.9994\"/>\n<polygon fill=\"#000000\" stroke=\"#000000\" points=\"548.5877,-686.3678 553.7756,-677.13 543.9593,-681.1163 548.5877,-686.3678\"/>\n</g>\n<!-- 27 -->\n<g id=\"node28\" class=\"node\">\n<title>27</title>\n<polygon fill=\"none\" stroke=\"#000000\" points=\"406.5,-573 304.5,-573 304.5,-505 406.5,-505 406.5,-573\"/>\n<text text-anchor=\"middle\" x=\"355.5\" y=\"-557.8\" font-family=\"Times,serif\" font-size=\"14.00\" fill=\"#000000\">X[2] &lt;= 82.5</text>\n<text text-anchor=\"middle\" x=\"355.5\" y=\"-542.8\" font-family=\"Times,serif\" font-size=\"14.00\" fill=\"#000000\">gini = 0.32</text>\n<text text-anchor=\"middle\" x=\"355.5\" y=\"-527.8\" font-family=\"Times,serif\" font-size=\"14.00\" fill=\"#000000\">samples = 20</text>\n<text text-anchor=\"middle\" x=\"355.5\" y=\"-512.8\" font-family=\"Times,serif\" font-size=\"14.00\" fill=\"#000000\">value = [16, 4]</text>\n</g>\n<!-- 26&#45;&gt;27 -->\n<g id=\"edge27\" class=\"edge\">\n<title>26&#45;&gt;27</title>\n<path fill=\"none\" stroke=\"#000000\" d=\"M435.5349,-608.9465C424.8505,-599.6088 413.1591,-589.3911 402.0934,-579.7203\"/>\n<polygon fill=\"#000000\" stroke=\"#000000\" points=\"404.3855,-577.0752 394.5526,-573.13 399.7791,-582.346 404.3855,-577.0752\"/>\n</g>\n<!-- 38 -->\n<g id=\"node39\" class=\"node\">\n<title>38</title>\n<polygon fill=\"none\" stroke=\"#000000\" points=\"526.5,-565.5 424.5,-565.5 424.5,-512.5 526.5,-512.5 526.5,-565.5\"/>\n<text text-anchor=\"middle\" x=\"475.5\" y=\"-550.3\" font-family=\"Times,serif\" font-size=\"14.00\" fill=\"#000000\">gini = 0.0</text>\n<text text-anchor=\"middle\" x=\"475.5\" y=\"-535.3\" font-family=\"Times,serif\" font-size=\"14.00\" fill=\"#000000\">samples = 29</text>\n<text text-anchor=\"middle\" x=\"475.5\" y=\"-520.3\" font-family=\"Times,serif\" font-size=\"14.00\" fill=\"#000000\">value = [29, 0]</text>\n</g>\n<!-- 26&#45;&gt;38 -->\n<g id=\"edge38\" class=\"edge\">\n<title>26&#45;&gt;38</title>\n<path fill=\"none\" stroke=\"#000000\" d=\"M474.8274,-608.9465C474.9302,-598.2621 475.044,-586.4254 475.1483,-575.5742\"/>\n<polygon fill=\"#000000\" stroke=\"#000000\" points=\"478.6484,-575.5754 475.2448,-565.5422 471.6487,-575.508 478.6484,-575.5754\"/>\n</g>\n<!-- 28 -->\n<g id=\"node29\" class=\"node\">\n<title>28</title>\n<polygon fill=\"none\" stroke=\"#000000\" points=\"347.5,-469 245.5,-469 245.5,-401 347.5,-401 347.5,-469\"/>\n<text text-anchor=\"middle\" x=\"296.5\" y=\"-453.8\" font-family=\"Times,serif\" font-size=\"14.00\" fill=\"#000000\">X[3] &lt;= 40.5</text>\n<text text-anchor=\"middle\" x=\"296.5\" y=\"-438.8\" font-family=\"Times,serif\" font-size=\"14.00\" fill=\"#000000\">gini = 0.266</text>\n<text text-anchor=\"middle\" x=\"296.5\" y=\"-423.8\" font-family=\"Times,serif\" font-size=\"14.00\" fill=\"#000000\">samples = 19</text>\n<text text-anchor=\"middle\" x=\"296.5\" y=\"-408.8\" font-family=\"Times,serif\" font-size=\"14.00\" fill=\"#000000\">value = [16, 3]</text>\n</g>\n<!-- 27&#45;&gt;28 -->\n<g id=\"edge28\" class=\"edge\">\n<title>27&#45;&gt;28</title>\n<path fill=\"none\" stroke=\"#000000\" d=\"M336.1812,-504.9465C331.2913,-496.3271 325.9761,-486.9579 320.8722,-477.9611\"/>\n<polygon fill=\"#000000\" stroke=\"#000000\" points=\"323.8408,-476.1008 315.8622,-469.13 317.7524,-479.5549 323.8408,-476.1008\"/>\n</g>\n<!-- 37 -->\n<g id=\"node38\" class=\"node\">\n<title>37</title>\n<polygon fill=\"none\" stroke=\"#000000\" points=\"461,-461.5 366,-461.5 366,-408.5 461,-408.5 461,-461.5\"/>\n<text text-anchor=\"middle\" x=\"413.5\" y=\"-446.3\" font-family=\"Times,serif\" font-size=\"14.00\" fill=\"#000000\">gini = 0.0</text>\n<text text-anchor=\"middle\" x=\"413.5\" y=\"-431.3\" font-family=\"Times,serif\" font-size=\"14.00\" fill=\"#000000\">samples = 1</text>\n<text text-anchor=\"middle\" x=\"413.5\" y=\"-416.3\" font-family=\"Times,serif\" font-size=\"14.00\" fill=\"#000000\">value = [0, 1]</text>\n</g>\n<!-- 27&#45;&gt;37 -->\n<g id=\"edge37\" class=\"edge\">\n<title>27&#45;&gt;37</title>\n<path fill=\"none\" stroke=\"#000000\" d=\"M374.4914,-504.9465C380.6343,-493.9316 387.4601,-481.6922 393.6627,-470.5703\"/>\n<polygon fill=\"#000000\" stroke=\"#000000\" points=\"396.8837,-471.9806 398.6976,-461.5422 390.7701,-468.5711 396.8837,-471.9806\"/>\n</g>\n<!-- 29 -->\n<g id=\"node30\" class=\"node\">\n<title>29</title>\n<polygon fill=\"none\" stroke=\"#000000\" points=\"289.5,-365 187.5,-365 187.5,-297 289.5,-297 289.5,-365\"/>\n<text text-anchor=\"middle\" x=\"238.5\" y=\"-349.8\" font-family=\"Times,serif\" font-size=\"14.00\" fill=\"#000000\">X[5] &lt;= 33.65</text>\n<text text-anchor=\"middle\" x=\"238.5\" y=\"-334.8\" font-family=\"Times,serif\" font-size=\"14.00\" fill=\"#000000\">gini = 0.198</text>\n<text text-anchor=\"middle\" x=\"238.5\" y=\"-319.8\" font-family=\"Times,serif\" font-size=\"14.00\" fill=\"#000000\">samples = 18</text>\n<text text-anchor=\"middle\" x=\"238.5\" y=\"-304.8\" font-family=\"Times,serif\" font-size=\"14.00\" fill=\"#000000\">value = [16, 2]</text>\n</g>\n<!-- 28&#45;&gt;29 -->\n<g id=\"edge29\" class=\"edge\">\n<title>28&#45;&gt;29</title>\n<path fill=\"none\" stroke=\"#000000\" d=\"M277.5086,-400.9465C272.7017,-392.3271 267.4765,-382.9579 262.4591,-373.9611\"/>\n<polygon fill=\"#000000\" stroke=\"#000000\" points=\"265.4615,-372.1589 257.534,-365.13 259.348,-375.5684 265.4615,-372.1589\"/>\n</g>\n<!-- 36 -->\n<g id=\"node37\" class=\"node\">\n<title>36</title>\n<polygon fill=\"none\" stroke=\"#000000\" points=\"403,-357.5 308,-357.5 308,-304.5 403,-304.5 403,-357.5\"/>\n<text text-anchor=\"middle\" x=\"355.5\" y=\"-342.3\" font-family=\"Times,serif\" font-size=\"14.00\" fill=\"#000000\">gini = 0.0</text>\n<text text-anchor=\"middle\" x=\"355.5\" y=\"-327.3\" font-family=\"Times,serif\" font-size=\"14.00\" fill=\"#000000\">samples = 1</text>\n<text text-anchor=\"middle\" x=\"355.5\" y=\"-312.3\" font-family=\"Times,serif\" font-size=\"14.00\" fill=\"#000000\">value = [0, 1]</text>\n</g>\n<!-- 28&#45;&gt;36 -->\n<g id=\"edge36\" class=\"edge\">\n<title>28&#45;&gt;36</title>\n<path fill=\"none\" stroke=\"#000000\" d=\"M315.8188,-400.9465C322.0676,-389.9316 329.0112,-377.6922 335.3207,-366.5703\"/>\n<polygon fill=\"#000000\" stroke=\"#000000\" points=\"338.5523,-367.967 340.4424,-357.5422 332.4638,-364.513 338.5523,-367.967\"/>\n</g>\n<!-- 30 -->\n<g id=\"node31\" class=\"node\">\n<title>30</title>\n<polygon fill=\"none\" stroke=\"#000000\" points=\"228,-261 133,-261 133,-193 228,-193 228,-261\"/>\n<text text-anchor=\"middle\" x=\"180.5\" y=\"-245.8\" font-family=\"Times,serif\" font-size=\"14.00\" fill=\"#000000\">X[2] &lt;= 71.0</text>\n<text text-anchor=\"middle\" x=\"180.5\" y=\"-230.8\" font-family=\"Times,serif\" font-size=\"14.00\" fill=\"#000000\">gini = 0.444</text>\n<text text-anchor=\"middle\" x=\"180.5\" y=\"-215.8\" font-family=\"Times,serif\" font-size=\"14.00\" fill=\"#000000\">samples = 6</text>\n<text text-anchor=\"middle\" x=\"180.5\" y=\"-200.8\" font-family=\"Times,serif\" font-size=\"14.00\" fill=\"#000000\">value = [4, 2]</text>\n</g>\n<!-- 29&#45;&gt;30 -->\n<g id=\"edge30\" class=\"edge\">\n<title>29&#45;&gt;30</title>\n<path fill=\"none\" stroke=\"#000000\" d=\"M219.5086,-296.9465C214.7017,-288.3271 209.4765,-278.9579 204.4591,-269.9611\"/>\n<polygon fill=\"#000000\" stroke=\"#000000\" points=\"207.4615,-268.1589 199.534,-261.13 201.348,-271.5684 207.4615,-268.1589\"/>\n</g>\n<!-- 35 -->\n<g id=\"node36\" class=\"node\">\n<title>35</title>\n<polygon fill=\"none\" stroke=\"#000000\" points=\"348.5,-253.5 246.5,-253.5 246.5,-200.5 348.5,-200.5 348.5,-253.5\"/>\n<text text-anchor=\"middle\" x=\"297.5\" y=\"-238.3\" font-family=\"Times,serif\" font-size=\"14.00\" fill=\"#000000\">gini = 0.0</text>\n<text text-anchor=\"middle\" x=\"297.5\" y=\"-223.3\" font-family=\"Times,serif\" font-size=\"14.00\" fill=\"#000000\">samples = 12</text>\n<text text-anchor=\"middle\" x=\"297.5\" y=\"-208.3\" font-family=\"Times,serif\" font-size=\"14.00\" fill=\"#000000\">value = [12, 0]</text>\n</g>\n<!-- 29&#45;&gt;35 -->\n<g id=\"edge35\" class=\"edge\">\n<title>29&#45;&gt;35</title>\n<path fill=\"none\" stroke=\"#000000\" d=\"M257.8188,-296.9465C264.0676,-285.9316 271.0112,-273.6922 277.3207,-262.5703\"/>\n<polygon fill=\"#000000\" stroke=\"#000000\" points=\"280.5523,-263.967 282.4424,-253.5422 274.4638,-260.513 280.5523,-263.967\"/>\n</g>\n<!-- 31 -->\n<g id=\"node32\" class=\"node\">\n<title>31</title>\n<polygon fill=\"none\" stroke=\"#000000\" points=\"172,-149.5 77,-149.5 77,-96.5 172,-96.5 172,-149.5\"/>\n<text text-anchor=\"middle\" x=\"124.5\" y=\"-134.3\" font-family=\"Times,serif\" font-size=\"14.00\" fill=\"#000000\">gini = 0.0</text>\n<text text-anchor=\"middle\" x=\"124.5\" y=\"-119.3\" font-family=\"Times,serif\" font-size=\"14.00\" fill=\"#000000\">samples = 3</text>\n<text text-anchor=\"middle\" x=\"124.5\" y=\"-104.3\" font-family=\"Times,serif\" font-size=\"14.00\" fill=\"#000000\">value = [3, 0]</text>\n</g>\n<!-- 30&#45;&gt;31 -->\n<g id=\"edge31\" class=\"edge\">\n<title>30&#45;&gt;31</title>\n<path fill=\"none\" stroke=\"#000000\" d=\"M162.1635,-192.9465C156.2324,-181.9316 149.6419,-169.6922 143.6532,-158.5703\"/>\n<polygon fill=\"#000000\" stroke=\"#000000\" points=\"146.6146,-156.6875 138.7919,-149.5422 140.4513,-160.0063 146.6146,-156.6875\"/>\n</g>\n<!-- 32 -->\n<g id=\"node33\" class=\"node\">\n<title>32</title>\n<polygon fill=\"none\" stroke=\"#000000\" points=\"285,-157 190,-157 190,-89 285,-89 285,-157\"/>\n<text text-anchor=\"middle\" x=\"237.5\" y=\"-141.8\" font-family=\"Times,serif\" font-size=\"14.00\" fill=\"#000000\">X[6] &lt;= 0.44</text>\n<text text-anchor=\"middle\" x=\"237.5\" y=\"-126.8\" font-family=\"Times,serif\" font-size=\"14.00\" fill=\"#000000\">gini = 0.444</text>\n<text text-anchor=\"middle\" x=\"237.5\" y=\"-111.8\" font-family=\"Times,serif\" font-size=\"14.00\" fill=\"#000000\">samples = 3</text>\n<text text-anchor=\"middle\" x=\"237.5\" y=\"-96.8\" font-family=\"Times,serif\" font-size=\"14.00\" fill=\"#000000\">value = [1, 2]</text>\n</g>\n<!-- 30&#45;&gt;32 -->\n<g id=\"edge32\" class=\"edge\">\n<title>30&#45;&gt;32</title>\n<path fill=\"none\" stroke=\"#000000\" d=\"M199.1639,-192.9465C203.888,-184.3271 209.0231,-174.9579 213.954,-165.9611\"/>\n<polygon fill=\"#000000\" stroke=\"#000000\" points=\"217.0571,-167.5815 218.7941,-157.13 210.9186,-164.2171 217.0571,-167.5815\"/>\n</g>\n<!-- 33 -->\n<g id=\"node34\" class=\"node\">\n<title>33</title>\n<polygon fill=\"none\" stroke=\"#000000\" points=\"229,-53 134,-53 134,0 229,0 229,-53\"/>\n<text text-anchor=\"middle\" x=\"181.5\" y=\"-37.8\" font-family=\"Times,serif\" font-size=\"14.00\" fill=\"#000000\">gini = 0.0</text>\n<text text-anchor=\"middle\" x=\"181.5\" y=\"-22.8\" font-family=\"Times,serif\" font-size=\"14.00\" fill=\"#000000\">samples = 2</text>\n<text text-anchor=\"middle\" x=\"181.5\" y=\"-7.8\" font-family=\"Times,serif\" font-size=\"14.00\" fill=\"#000000\">value = [0, 2]</text>\n</g>\n<!-- 32&#45;&gt;33 -->\n<g id=\"edge33\" class=\"edge\">\n<title>32&#45;&gt;33</title>\n<path fill=\"none\" stroke=\"#000000\" d=\"M217.7565,-88.9777C212.7083,-80.2786 207.2669,-70.9018 202.1734,-62.1247\"/>\n<polygon fill=\"#000000\" stroke=\"#000000\" points=\"205.0689,-60.1409 197.0224,-53.2485 199.0145,-63.6544 205.0689,-60.1409\"/>\n</g>\n<!-- 34 -->\n<g id=\"node35\" class=\"node\">\n<title>34</title>\n<polygon fill=\"none\" stroke=\"#000000\" points=\"342,-53 247,-53 247,0 342,0 342,-53\"/>\n<text text-anchor=\"middle\" x=\"294.5\" y=\"-37.8\" font-family=\"Times,serif\" font-size=\"14.00\" fill=\"#000000\">gini = 0.0</text>\n<text text-anchor=\"middle\" x=\"294.5\" y=\"-22.8\" font-family=\"Times,serif\" font-size=\"14.00\" fill=\"#000000\">samples = 1</text>\n<text text-anchor=\"middle\" x=\"294.5\" y=\"-7.8\" font-family=\"Times,serif\" font-size=\"14.00\" fill=\"#000000\">value = [1, 0]</text>\n</g>\n<!-- 32&#45;&gt;34 -->\n<g id=\"edge34\" class=\"edge\">\n<title>32&#45;&gt;34</title>\n<path fill=\"none\" stroke=\"#000000\" d=\"M257.5961,-88.9777C262.7344,-80.2786 268.273,-70.9018 273.4575,-62.1247\"/>\n<polygon fill=\"#000000\" stroke=\"#000000\" points=\"276.6281,-63.6387 278.7004,-53.2485 270.601,-60.0786 276.6281,-63.6387\"/>\n</g>\n<!-- 40 -->\n<g id=\"node41\" class=\"node\">\n<title>40</title>\n<polygon fill=\"none\" stroke=\"#000000\" points=\"640,-565.5 545,-565.5 545,-512.5 640,-512.5 640,-565.5\"/>\n<text text-anchor=\"middle\" x=\"592.5\" y=\"-550.3\" font-family=\"Times,serif\" font-size=\"14.00\" fill=\"#000000\">gini = 0.0</text>\n<text text-anchor=\"middle\" x=\"592.5\" y=\"-535.3\" font-family=\"Times,serif\" font-size=\"14.00\" fill=\"#000000\">samples = 7</text>\n<text text-anchor=\"middle\" x=\"592.5\" y=\"-520.3\" font-family=\"Times,serif\" font-size=\"14.00\" fill=\"#000000\">value = [7, 0]</text>\n</g>\n<!-- 39&#45;&gt;40 -->\n<g id=\"edge40\" class=\"edge\">\n<title>39&#45;&gt;40</title>\n<path fill=\"none\" stroke=\"#000000\" d=\"M592.5,-608.9465C592.5,-598.2621 592.5,-586.4254 592.5,-575.5742\"/>\n<polygon fill=\"#000000\" stroke=\"#000000\" points=\"596.0001,-575.5421 592.5,-565.5422 589.0001,-575.5422 596.0001,-575.5421\"/>\n</g>\n<!-- 41 -->\n<g id=\"node42\" class=\"node\">\n<title>41</title>\n<polygon fill=\"none\" stroke=\"#000000\" points=\"753,-573 658,-573 658,-505 753,-505 753,-573\"/>\n<text text-anchor=\"middle\" x=\"705.5\" y=\"-557.8\" font-family=\"Times,serif\" font-size=\"14.00\" fill=\"#000000\">X[2] &lt;= 67.0</text>\n<text text-anchor=\"middle\" x=\"705.5\" y=\"-542.8\" font-family=\"Times,serif\" font-size=\"14.00\" fill=\"#000000\">gini = 0.48</text>\n<text text-anchor=\"middle\" x=\"705.5\" y=\"-527.8\" font-family=\"Times,serif\" font-size=\"14.00\" fill=\"#000000\">samples = 5</text>\n<text text-anchor=\"middle\" x=\"705.5\" y=\"-512.8\" font-family=\"Times,serif\" font-size=\"14.00\" fill=\"#000000\">value = [2, 3]</text>\n</g>\n<!-- 39&#45;&gt;41 -->\n<g id=\"edge41\" class=\"edge\">\n<title>39&#45;&gt;41</title>\n<path fill=\"none\" stroke=\"#000000\" d=\"M629.5004,-608.9465C639.5486,-599.6986 650.5347,-589.5876 660.9526,-579.9994\"/>\n<polygon fill=\"#000000\" stroke=\"#000000\" points=\"663.4286,-582.4773 668.4164,-573.13 658.6882,-577.3267 663.4286,-582.4773\"/>\n</g>\n<!-- 42 -->\n<g id=\"node43\" class=\"node\">\n<title>42</title>\n<polygon fill=\"none\" stroke=\"#000000\" points=\"697,-461.5 602,-461.5 602,-408.5 697,-408.5 697,-461.5\"/>\n<text text-anchor=\"middle\" x=\"649.5\" y=\"-446.3\" font-family=\"Times,serif\" font-size=\"14.00\" fill=\"#000000\">gini = 0.0</text>\n<text text-anchor=\"middle\" x=\"649.5\" y=\"-431.3\" font-family=\"Times,serif\" font-size=\"14.00\" fill=\"#000000\">samples = 3</text>\n<text text-anchor=\"middle\" x=\"649.5\" y=\"-416.3\" font-family=\"Times,serif\" font-size=\"14.00\" fill=\"#000000\">value = [0, 3]</text>\n</g>\n<!-- 41&#45;&gt;42 -->\n<g id=\"edge42\" class=\"edge\">\n<title>41&#45;&gt;42</title>\n<path fill=\"none\" stroke=\"#000000\" d=\"M687.1635,-504.9465C681.2324,-493.9316 674.6419,-481.6922 668.6532,-470.5703\"/>\n<polygon fill=\"#000000\" stroke=\"#000000\" points=\"671.6146,-468.6875 663.7919,-461.5422 665.4513,-472.0063 671.6146,-468.6875\"/>\n</g>\n<!-- 43 -->\n<g id=\"node44\" class=\"node\">\n<title>43</title>\n<polygon fill=\"none\" stroke=\"#000000\" points=\"810,-461.5 715,-461.5 715,-408.5 810,-408.5 810,-461.5\"/>\n<text text-anchor=\"middle\" x=\"762.5\" y=\"-446.3\" font-family=\"Times,serif\" font-size=\"14.00\" fill=\"#000000\">gini = 0.0</text>\n<text text-anchor=\"middle\" x=\"762.5\" y=\"-431.3\" font-family=\"Times,serif\" font-size=\"14.00\" fill=\"#000000\">samples = 2</text>\n<text text-anchor=\"middle\" x=\"762.5\" y=\"-416.3\" font-family=\"Times,serif\" font-size=\"14.00\" fill=\"#000000\">value = [2, 0]</text>\n</g>\n<!-- 41&#45;&gt;43 -->\n<g id=\"edge43\" class=\"edge\">\n<title>41&#45;&gt;43</title>\n<path fill=\"none\" stroke=\"#000000\" d=\"M724.1639,-504.9465C730.2009,-493.9316 736.9091,-481.6922 743.0047,-470.5703\"/>\n<polygon fill=\"#000000\" stroke=\"#000000\" points=\"746.2158,-471.9936 747.9529,-461.5422 740.0773,-468.6292 746.2158,-471.9936\"/>\n</g>\n<!-- 45 -->\n<g id=\"node46\" class=\"node\">\n<title>45</title>\n<polygon fill=\"none\" stroke=\"#000000\" points=\"525,-877.5 430,-877.5 430,-824.5 525,-824.5 525,-877.5\"/>\n<text text-anchor=\"middle\" x=\"477.5\" y=\"-862.3\" font-family=\"Times,serif\" font-size=\"14.00\" fill=\"#000000\">gini = 0.0</text>\n<text text-anchor=\"middle\" x=\"477.5\" y=\"-847.3\" font-family=\"Times,serif\" font-size=\"14.00\" fill=\"#000000\">samples = 2</text>\n<text text-anchor=\"middle\" x=\"477.5\" y=\"-832.3\" font-family=\"Times,serif\" font-size=\"14.00\" fill=\"#000000\">value = [0, 2]</text>\n</g>\n<!-- 44&#45;&gt;45 -->\n<g id=\"edge45\" class=\"edge\">\n<title>44&#45;&gt;45</title>\n<path fill=\"none\" stroke=\"#000000\" d=\"M509.783,-920.9465C504.75,-910.0418 499.1632,-897.9368 494.0712,-886.9043\"/>\n<polygon fill=\"#000000\" stroke=\"#000000\" points=\"497.1187,-885.155 489.7502,-877.5422 490.763,-888.0885 497.1187,-885.155\"/>\n</g>\n<!-- 46 -->\n<g id=\"node47\" class=\"node\">\n<title>46</title>\n<polygon fill=\"none\" stroke=\"#000000\" points=\"638,-877.5 543,-877.5 543,-824.5 638,-824.5 638,-877.5\"/>\n<text text-anchor=\"middle\" x=\"590.5\" y=\"-862.3\" font-family=\"Times,serif\" font-size=\"14.00\" fill=\"#000000\">gini = 0.0</text>\n<text text-anchor=\"middle\" x=\"590.5\" y=\"-847.3\" font-family=\"Times,serif\" font-size=\"14.00\" fill=\"#000000\">samples = 2</text>\n<text text-anchor=\"middle\" x=\"590.5\" y=\"-832.3\" font-family=\"Times,serif\" font-size=\"14.00\" fill=\"#000000\">value = [2, 0]</text>\n</g>\n<!-- 44&#45;&gt;46 -->\n<g id=\"edge46\" class=\"edge\">\n<title>44&#45;&gt;46</title>\n<path fill=\"none\" stroke=\"#000000\" d=\"M546.7834,-920.9465C553.7366,-909.8215 561.4705,-897.4473 568.4769,-886.237\"/>\n<polygon fill=\"#000000\" stroke=\"#000000\" points=\"571.5791,-887.8772 573.9111,-877.5422 565.6431,-884.1671 571.5791,-887.8772\"/>\n</g>\n<!-- 49 -->\n<g id=\"node50\" class=\"node\">\n<title>49</title>\n<polygon fill=\"none\" stroke=\"#000000\" points=\"810,-1189.5 715,-1189.5 715,-1136.5 810,-1136.5 810,-1189.5\"/>\n<text text-anchor=\"middle\" x=\"762.5\" y=\"-1174.3\" font-family=\"Times,serif\" font-size=\"14.00\" fill=\"#000000\">gini = 0.0</text>\n<text text-anchor=\"middle\" x=\"762.5\" y=\"-1159.3\" font-family=\"Times,serif\" font-size=\"14.00\" fill=\"#000000\">samples = 3</text>\n<text text-anchor=\"middle\" x=\"762.5\" y=\"-1144.3\" font-family=\"Times,serif\" font-size=\"14.00\" fill=\"#000000\">value = [0, 3]</text>\n</g>\n<!-- 48&#45;&gt;49 -->\n<g id=\"edge49\" class=\"edge\">\n<title>48&#45;&gt;49</title>\n<path fill=\"none\" stroke=\"#000000\" d=\"M804.8714,-1232.9465C798.1322,-1221.8215 790.6363,-1209.4473 783.8455,-1198.237\"/>\n<polygon fill=\"#000000\" stroke=\"#000000\" points=\"786.7533,-1196.2818 778.5784,-1189.5422 780.7661,-1199.9087 786.7533,-1196.2818\"/>\n</g>\n<!-- 50 -->\n<g id=\"node51\" class=\"node\">\n<title>50</title>\n<polygon fill=\"none\" stroke=\"#000000\" points=\"923,-1189.5 828,-1189.5 828,-1136.5 923,-1136.5 923,-1189.5\"/>\n<text text-anchor=\"middle\" x=\"875.5\" y=\"-1174.3\" font-family=\"Times,serif\" font-size=\"14.00\" fill=\"#000000\">gini = 0.0</text>\n<text text-anchor=\"middle\" x=\"875.5\" y=\"-1159.3\" font-family=\"Times,serif\" font-size=\"14.00\" fill=\"#000000\">samples = 1</text>\n<text text-anchor=\"middle\" x=\"875.5\" y=\"-1144.3\" font-family=\"Times,serif\" font-size=\"14.00\" fill=\"#000000\">value = [1, 0]</text>\n</g>\n<!-- 48&#45;&gt;50 -->\n<g id=\"edge50\" class=\"edge\">\n<title>48&#45;&gt;50</title>\n<path fill=\"none\" stroke=\"#000000\" d=\"M841.8719,-1232.9465C847.1675,-1221.9316 853.0518,-1209.6922 858.3989,-1198.5703\"/>\n<polygon fill=\"#000000\" stroke=\"#000000\" points=\"861.5607,-1200.0712 862.7393,-1189.5422 855.252,-1197.0381 861.5607,-1200.0712\"/>\n</g>\n<!-- 52 -->\n<g id=\"node53\" class=\"node\">\n<title>52</title>\n<polygon fill=\"none\" stroke=\"#000000\" points=\"1120.5,-1301 1010.5,-1301 1010.5,-1233 1120.5,-1233 1120.5,-1301\"/>\n<text text-anchor=\"middle\" x=\"1065.5\" y=\"-1285.8\" font-family=\"Times,serif\" font-size=\"14.00\" fill=\"#000000\">X[1] &lt;= 101.5</text>\n<text text-anchor=\"middle\" x=\"1065.5\" y=\"-1270.8\" font-family=\"Times,serif\" font-size=\"14.00\" fill=\"#000000\">gini = 0.408</text>\n<text text-anchor=\"middle\" x=\"1065.5\" y=\"-1255.8\" font-family=\"Times,serif\" font-size=\"14.00\" fill=\"#000000\">samples = 98</text>\n<text text-anchor=\"middle\" x=\"1065.5\" y=\"-1240.8\" font-family=\"Times,serif\" font-size=\"14.00\" fill=\"#000000\">value = [70, 28]</text>\n</g>\n<!-- 51&#45;&gt;52 -->\n<g id=\"edge52\" class=\"edge\">\n<title>51&#45;&gt;52</title>\n<path fill=\"none\" stroke=\"#000000\" d=\"M1065.5,-1336.9465C1065.5,-1328.776 1065.5,-1319.9318 1065.5,-1311.3697\"/>\n<polygon fill=\"#000000\" stroke=\"#000000\" points=\"1069.0001,-1311.13 1065.5,-1301.13 1062.0001,-1311.13 1069.0001,-1311.13\"/>\n</g>\n<!-- 87 -->\n<g id=\"node88\" class=\"node\">\n<title>87</title>\n<polygon fill=\"none\" stroke=\"#000000\" points=\"1567.5,-1301 1457.5,-1301 1457.5,-1233 1567.5,-1233 1567.5,-1301\"/>\n<text text-anchor=\"middle\" x=\"1512.5\" y=\"-1285.8\" font-family=\"Times,serif\" font-size=\"14.00\" fill=\"#000000\">X[0] &lt;= 8.5</text>\n<text text-anchor=\"middle\" x=\"1512.5\" y=\"-1270.8\" font-family=\"Times,serif\" font-size=\"14.00\" fill=\"#000000\">gini = 0.472</text>\n<text text-anchor=\"middle\" x=\"1512.5\" y=\"-1255.8\" font-family=\"Times,serif\" font-size=\"14.00\" fill=\"#000000\">samples = 42</text>\n<text text-anchor=\"middle\" x=\"1512.5\" y=\"-1240.8\" font-family=\"Times,serif\" font-size=\"14.00\" fill=\"#000000\">value = [16, 26]</text>\n</g>\n<!-- 51&#45;&gt;87 -->\n<g id=\"edge87\" class=\"edge\">\n<title>51&#45;&gt;87</title>\n<path fill=\"none\" stroke=\"#000000\" d=\"M1120.7593,-1358.1433C1203.5285,-1338.886 1359.3649,-1302.6288 1447.488,-1282.1258\"/>\n<polygon fill=\"#000000\" stroke=\"#000000\" points=\"1448.4202,-1285.5025 1457.3669,-1279.8274 1446.8339,-1278.6846 1448.4202,-1285.5025\"/>\n</g>\n<!-- 53 -->\n<g id=\"node54\" class=\"node\">\n<title>53</title>\n<polygon fill=\"none\" stroke=\"#000000\" points=\"1043.5,-1197 941.5,-1197 941.5,-1129 1043.5,-1129 1043.5,-1197\"/>\n<text text-anchor=\"middle\" x=\"992.5\" y=\"-1181.8\" font-family=\"Times,serif\" font-size=\"14.00\" fill=\"#000000\">X[2] &lt;= 27.0</text>\n<text text-anchor=\"middle\" x=\"992.5\" y=\"-1166.8\" font-family=\"Times,serif\" font-size=\"14.00\" fill=\"#000000\">gini = 0.208</text>\n<text text-anchor=\"middle\" x=\"992.5\" y=\"-1151.8\" font-family=\"Times,serif\" font-size=\"14.00\" fill=\"#000000\">samples = 34</text>\n<text text-anchor=\"middle\" x=\"992.5\" y=\"-1136.8\" font-family=\"Times,serif\" font-size=\"14.00\" fill=\"#000000\">value = [30, 4]</text>\n</g>\n<!-- 52&#45;&gt;53 -->\n<g id=\"edge53\" class=\"edge\">\n<title>52&#45;&gt;53</title>\n<path fill=\"none\" stroke=\"#000000\" d=\"M1041.5971,-1232.9465C1035.4209,-1224.1475 1028.6962,-1214.5672 1022.261,-1205.3993\"/>\n<polygon fill=\"#000000\" stroke=\"#000000\" points=\"1025.0666,-1203.3041 1016.4566,-1197.13 1019.3371,-1207.3258 1025.0666,-1203.3041\"/>\n</g>\n<!-- 62 -->\n<g id=\"node63\" class=\"node\">\n<title>62</title>\n<polygon fill=\"none\" stroke=\"#000000\" points=\"1192.5,-1197 1082.5,-1197 1082.5,-1129 1192.5,-1129 1192.5,-1197\"/>\n<text text-anchor=\"middle\" x=\"1137.5\" y=\"-1181.8\" font-family=\"Times,serif\" font-size=\"14.00\" fill=\"#000000\">X[2] &lt;= 67.0</text>\n<text text-anchor=\"middle\" x=\"1137.5\" y=\"-1166.8\" font-family=\"Times,serif\" font-size=\"14.00\" fill=\"#000000\">gini = 0.469</text>\n<text text-anchor=\"middle\" x=\"1137.5\" y=\"-1151.8\" font-family=\"Times,serif\" font-size=\"14.00\" fill=\"#000000\">samples = 64</text>\n<text text-anchor=\"middle\" x=\"1137.5\" y=\"-1136.8\" font-family=\"Times,serif\" font-size=\"14.00\" fill=\"#000000\">value = [40, 24]</text>\n</g>\n<!-- 52&#45;&gt;62 -->\n<g id=\"edge62\" class=\"edge\">\n<title>52&#45;&gt;62</title>\n<path fill=\"none\" stroke=\"#000000\" d=\"M1089.0755,-1232.9465C1095.1671,-1224.1475 1101.7996,-1214.5672 1108.1466,-1205.3993\"/>\n<polygon fill=\"#000000\" stroke=\"#000000\" points=\"1111.0571,-1207.3442 1113.8715,-1197.13 1105.3017,-1203.3597 1111.0571,-1207.3442\"/>\n</g>\n<!-- 54 -->\n<g id=\"node55\" class=\"node\">\n<title>54</title>\n<polygon fill=\"none\" stroke=\"#000000\" points=\"835,-1085.5 740,-1085.5 740,-1032.5 835,-1032.5 835,-1085.5\"/>\n<text text-anchor=\"middle\" x=\"787.5\" y=\"-1070.3\" font-family=\"Times,serif\" font-size=\"14.00\" fill=\"#000000\">gini = 0.0</text>\n<text text-anchor=\"middle\" x=\"787.5\" y=\"-1055.3\" font-family=\"Times,serif\" font-size=\"14.00\" fill=\"#000000\">samples = 1</text>\n<text text-anchor=\"middle\" x=\"787.5\" y=\"-1040.3\" font-family=\"Times,serif\" font-size=\"14.00\" fill=\"#000000\">value = [0, 1]</text>\n</g>\n<!-- 53&#45;&gt;54 -->\n<g id=\"edge54\" class=\"edge\">\n<title>53&#45;&gt;54</title>\n<path fill=\"none\" stroke=\"#000000\" d=\"M941.4728,-1133.9935C938.1193,-1132.2627 934.7745,-1130.5834 931.5,-1129 893.8272,-1110.7827 881.9015,-1111.7681 844.5,-1093 842.9423,-1092.2184 841.3697,-1091.4104 839.7894,-1090.5819\"/>\n<polygon fill=\"#000000\" stroke=\"#000000\" points=\"841.1634,-1087.3455 830.7045,-1085.6539 837.8257,-1093.4985 841.1634,-1087.3455\"/>\n</g>\n<!-- 55 -->\n<g id=\"node56\" class=\"node\">\n<title>55</title>\n<polygon fill=\"none\" stroke=\"#000000\" points=\"955.5,-1093 853.5,-1093 853.5,-1025 955.5,-1025 955.5,-1093\"/>\n<text text-anchor=\"middle\" x=\"904.5\" y=\"-1077.8\" font-family=\"Times,serif\" font-size=\"14.00\" fill=\"#000000\">X[7] &lt;= 42.5</text>\n<text text-anchor=\"middle\" x=\"904.5\" y=\"-1062.8\" font-family=\"Times,serif\" font-size=\"14.00\" fill=\"#000000\">gini = 0.165</text>\n<text text-anchor=\"middle\" x=\"904.5\" y=\"-1047.8\" font-family=\"Times,serif\" font-size=\"14.00\" fill=\"#000000\">samples = 33</text>\n<text text-anchor=\"middle\" x=\"904.5\" y=\"-1032.8\" font-family=\"Times,serif\" font-size=\"14.00\" fill=\"#000000\">value = [30, 3]</text>\n</g>\n<!-- 53&#45;&gt;55 -->\n<g id=\"edge55\" class=\"edge\">\n<title>53&#45;&gt;55</title>\n<path fill=\"none\" stroke=\"#000000\" d=\"M963.6855,-1128.9465C956.0883,-1119.968 947.8026,-1110.1758 939.9018,-1100.8385\"/>\n<polygon fill=\"#000000\" stroke=\"#000000\" points=\"942.5105,-1098.5031 933.3792,-1093.13 937.1668,-1103.0247 942.5105,-1098.5031\"/>\n</g>\n<!-- 56 -->\n<g id=\"node57\" class=\"node\">\n<title>56</title>\n<polygon fill=\"none\" stroke=\"#000000\" points=\"794.5,-981.5 692.5,-981.5 692.5,-928.5 794.5,-928.5 794.5,-981.5\"/>\n<text text-anchor=\"middle\" x=\"743.5\" y=\"-966.3\" font-family=\"Times,serif\" font-size=\"14.00\" fill=\"#000000\">gini = 0.0</text>\n<text text-anchor=\"middle\" x=\"743.5\" y=\"-951.3\" font-family=\"Times,serif\" font-size=\"14.00\" fill=\"#000000\">samples = 23</text>\n<text text-anchor=\"middle\" x=\"743.5\" y=\"-936.3\" font-family=\"Times,serif\" font-size=\"14.00\" fill=\"#000000\">value = [23, 0]</text>\n</g>\n<!-- 55&#45;&gt;56 -->\n<g id=\"edge56\" class=\"edge\">\n<title>55&#45;&gt;56</title>\n<path fill=\"none\" stroke=\"#000000\" d=\"M853.1159,-1025.8078C833.9628,-1013.4356 812.2683,-999.4218 793.2633,-987.1453\"/>\n<polygon fill=\"#000000\" stroke=\"#000000\" points=\"795.0384,-984.1252 784.7394,-981.6391 791.2402,-990.0051 795.0384,-984.1252\"/>\n</g>\n<!-- 57 -->\n<g id=\"node58\" class=\"node\">\n<title>57</title>\n<polygon fill=\"none\" stroke=\"#000000\" points=\"908,-989 813,-989 813,-921 908,-921 908,-989\"/>\n<text text-anchor=\"middle\" x=\"860.5\" y=\"-973.8\" font-family=\"Times,serif\" font-size=\"14.00\" fill=\"#000000\">X[1] &lt;= 97.5</text>\n<text text-anchor=\"middle\" x=\"860.5\" y=\"-958.8\" font-family=\"Times,serif\" font-size=\"14.00\" fill=\"#000000\">gini = 0.42</text>\n<text text-anchor=\"middle\" x=\"860.5\" y=\"-943.8\" font-family=\"Times,serif\" font-size=\"14.00\" fill=\"#000000\">samples = 10</text>\n<text text-anchor=\"middle\" x=\"860.5\" y=\"-928.8\" font-family=\"Times,serif\" font-size=\"14.00\" fill=\"#000000\">value = [7, 3]</text>\n</g>\n<!-- 55&#45;&gt;57 -->\n<g id=\"edge57\" class=\"edge\">\n<title>55&#45;&gt;57</title>\n<path fill=\"none\" stroke=\"#000000\" d=\"M890.0928,-1024.9465C886.5221,-1016.5067 882.6472,-1007.3479 878.9139,-998.5239\"/>\n<polygon fill=\"#000000\" stroke=\"#000000\" points=\"882.0595,-996.9759 874.9396,-989.13 875.6127,-999.7034 882.0595,-996.9759\"/>\n</g>\n<!-- 58 -->\n<g id=\"node59\" class=\"node\">\n<title>58</title>\n<polygon fill=\"none\" stroke=\"#000000\" points=\"751,-885 656,-885 656,-817 751,-817 751,-885\"/>\n<text text-anchor=\"middle\" x=\"703.5\" y=\"-869.8\" font-family=\"Times,serif\" font-size=\"14.00\" fill=\"#000000\">X[3] &lt;= 24.0</text>\n<text text-anchor=\"middle\" x=\"703.5\" y=\"-854.8\" font-family=\"Times,serif\" font-size=\"14.00\" fill=\"#000000\">gini = 0.5</text>\n<text text-anchor=\"middle\" x=\"703.5\" y=\"-839.8\" font-family=\"Times,serif\" font-size=\"14.00\" fill=\"#000000\">samples = 6</text>\n<text text-anchor=\"middle\" x=\"703.5\" y=\"-824.8\" font-family=\"Times,serif\" font-size=\"14.00\" fill=\"#000000\">value = [3, 3]</text>\n</g>\n<!-- 57&#45;&gt;58 -->\n<g id=\"edge58\" class=\"edge\">\n<title>57&#45;&gt;58</title>\n<path fill=\"none\" stroke=\"#000000\" d=\"M812.9688,-923.5143C796.1381,-912.3654 777.0456,-899.7181 759.5715,-888.1429\"/>\n<polygon fill=\"#000000\" stroke=\"#000000\" points=\"761.4101,-885.1626 751.1404,-882.558 757.5443,-890.9984 761.4101,-885.1626\"/>\n</g>\n<!-- 61 -->\n<g id=\"node62\" class=\"node\">\n<title>61</title>\n<polygon fill=\"none\" stroke=\"#000000\" points=\"864,-877.5 769,-877.5 769,-824.5 864,-824.5 864,-877.5\"/>\n<text text-anchor=\"middle\" x=\"816.5\" y=\"-862.3\" font-family=\"Times,serif\" font-size=\"14.00\" fill=\"#000000\">gini = 0.0</text>\n<text text-anchor=\"middle\" x=\"816.5\" y=\"-847.3\" font-family=\"Times,serif\" font-size=\"14.00\" fill=\"#000000\">samples = 4</text>\n<text text-anchor=\"middle\" x=\"816.5\" y=\"-832.3\" font-family=\"Times,serif\" font-size=\"14.00\" fill=\"#000000\">value = [4, 0]</text>\n</g>\n<!-- 57&#45;&gt;61 -->\n<g id=\"edge61\" class=\"edge\">\n<title>57&#45;&gt;61</title>\n<path fill=\"none\" stroke=\"#000000\" d=\"M846.0928,-920.9465C841.4792,-910.0418 836.3579,-897.9368 831.6903,-886.9043\"/>\n<polygon fill=\"#000000\" stroke=\"#000000\" points=\"834.8492,-885.3881 827.7294,-877.5422 828.4024,-888.1156 834.8492,-885.3881\"/>\n</g>\n<!-- 59 -->\n<g id=\"node60\" class=\"node\">\n<title>59</title>\n<polygon fill=\"none\" stroke=\"#000000\" points=\"695,-773.5 600,-773.5 600,-720.5 695,-720.5 695,-773.5\"/>\n<text text-anchor=\"middle\" x=\"647.5\" y=\"-758.3\" font-family=\"Times,serif\" font-size=\"14.00\" fill=\"#000000\">gini = 0.0</text>\n<text text-anchor=\"middle\" x=\"647.5\" y=\"-743.3\" font-family=\"Times,serif\" font-size=\"14.00\" fill=\"#000000\">samples = 3</text>\n<text text-anchor=\"middle\" x=\"647.5\" y=\"-728.3\" font-family=\"Times,serif\" font-size=\"14.00\" fill=\"#000000\">value = [3, 0]</text>\n</g>\n<!-- 58&#45;&gt;59 -->\n<g id=\"edge59\" class=\"edge\">\n<title>58&#45;&gt;59</title>\n<path fill=\"none\" stroke=\"#000000\" d=\"M685.1635,-816.9465C679.2324,-805.9316 672.6419,-793.6922 666.6532,-782.5703\"/>\n<polygon fill=\"#000000\" stroke=\"#000000\" points=\"669.6146,-780.6875 661.7919,-773.5422 663.4513,-784.0063 669.6146,-780.6875\"/>\n</g>\n<!-- 60 -->\n<g id=\"node61\" class=\"node\">\n<title>60</title>\n<polygon fill=\"none\" stroke=\"#000000\" points=\"808,-773.5 713,-773.5 713,-720.5 808,-720.5 808,-773.5\"/>\n<text text-anchor=\"middle\" x=\"760.5\" y=\"-758.3\" font-family=\"Times,serif\" font-size=\"14.00\" fill=\"#000000\">gini = 0.0</text>\n<text text-anchor=\"middle\" x=\"760.5\" y=\"-743.3\" font-family=\"Times,serif\" font-size=\"14.00\" fill=\"#000000\">samples = 3</text>\n<text text-anchor=\"middle\" x=\"760.5\" y=\"-728.3\" font-family=\"Times,serif\" font-size=\"14.00\" fill=\"#000000\">value = [0, 3]</text>\n</g>\n<!-- 58&#45;&gt;60 -->\n<g id=\"edge60\" class=\"edge\">\n<title>58&#45;&gt;60</title>\n<path fill=\"none\" stroke=\"#000000\" d=\"M722.1639,-816.9465C728.2009,-805.9316 734.9091,-793.6922 741.0047,-782.5703\"/>\n<polygon fill=\"#000000\" stroke=\"#000000\" points=\"744.2158,-783.9936 745.9529,-773.5422 738.0773,-780.6292 744.2158,-783.9936\"/>\n</g>\n<!-- 63 -->\n<g id=\"node64\" class=\"node\">\n<title>63</title>\n<polygon fill=\"none\" stroke=\"#000000\" points=\"1188.5,-1093 1086.5,-1093 1086.5,-1025 1188.5,-1025 1188.5,-1093\"/>\n<text text-anchor=\"middle\" x=\"1137.5\" y=\"-1077.8\" font-family=\"Times,serif\" font-size=\"14.00\" fill=\"#000000\">X[2] &lt;= 58.0</text>\n<text text-anchor=\"middle\" x=\"1137.5\" y=\"-1062.8\" font-family=\"Times,serif\" font-size=\"14.00\" fill=\"#000000\">gini = 0.465</text>\n<text text-anchor=\"middle\" x=\"1137.5\" y=\"-1047.8\" font-family=\"Times,serif\" font-size=\"14.00\" fill=\"#000000\">samples = 19</text>\n<text text-anchor=\"middle\" x=\"1137.5\" y=\"-1032.8\" font-family=\"Times,serif\" font-size=\"14.00\" fill=\"#000000\">value = [7, 12]</text>\n</g>\n<!-- 62&#45;&gt;63 -->\n<g id=\"edge63\" class=\"edge\">\n<title>62&#45;&gt;63</title>\n<path fill=\"none\" stroke=\"#000000\" d=\"M1137.5,-1128.9465C1137.5,-1120.776 1137.5,-1111.9318 1137.5,-1103.3697\"/>\n<polygon fill=\"#000000\" stroke=\"#000000\" points=\"1141.0001,-1103.13 1137.5,-1093.13 1134.0001,-1103.13 1141.0001,-1103.13\"/>\n</g>\n<!-- 72 -->\n<g id=\"node73\" class=\"node\">\n<title>72</title>\n<polygon fill=\"none\" stroke=\"#000000\" points=\"1446.5,-1093 1336.5,-1093 1336.5,-1025 1446.5,-1025 1446.5,-1093\"/>\n<text text-anchor=\"middle\" x=\"1391.5\" y=\"-1077.8\" font-family=\"Times,serif\" font-size=\"14.00\" fill=\"#000000\">X[5] &lt;= 43.1</text>\n<text text-anchor=\"middle\" x=\"1391.5\" y=\"-1062.8\" font-family=\"Times,serif\" font-size=\"14.00\" fill=\"#000000\">gini = 0.391</text>\n<text text-anchor=\"middle\" x=\"1391.5\" y=\"-1047.8\" font-family=\"Times,serif\" font-size=\"14.00\" fill=\"#000000\">samples = 45</text>\n<text text-anchor=\"middle\" x=\"1391.5\" y=\"-1032.8\" font-family=\"Times,serif\" font-size=\"14.00\" fill=\"#000000\">value = [33, 12]</text>\n</g>\n<!-- 62&#45;&gt;72 -->\n<g id=\"edge72\" class=\"edge\">\n<title>62&#45;&gt;72</title>\n<path fill=\"none\" stroke=\"#000000\" d=\"M1192.6142,-1140.4335C1232.1397,-1124.2499 1285.5166,-1102.3948 1327.0223,-1085.4003\"/>\n<polygon fill=\"#000000\" stroke=\"#000000\" points=\"1328.5653,-1088.5506 1336.4933,-1081.5224 1325.9128,-1082.0726 1328.5653,-1088.5506\"/>\n</g>\n<!-- 64 -->\n<g id=\"node65\" class=\"node\">\n<title>64</title>\n<polygon fill=\"none\" stroke=\"#000000\" points=\"1091,-989 990,-989 990,-921 1091,-921 1091,-989\"/>\n<text text-anchor=\"middle\" x=\"1040.5\" y=\"-973.8\" font-family=\"Times,serif\" font-size=\"14.00\" fill=\"#000000\">X[1] &lt;= 117.5</text>\n<text text-anchor=\"middle\" x=\"1040.5\" y=\"-958.8\" font-family=\"Times,serif\" font-size=\"14.00\" fill=\"#000000\">gini = 0.245</text>\n<text text-anchor=\"middle\" x=\"1040.5\" y=\"-943.8\" font-family=\"Times,serif\" font-size=\"14.00\" fill=\"#000000\">samples = 7</text>\n<text text-anchor=\"middle\" x=\"1040.5\" y=\"-928.8\" font-family=\"Times,serif\" font-size=\"14.00\" fill=\"#000000\">value = [6, 1]</text>\n</g>\n<!-- 63&#45;&gt;64 -->\n<g id=\"edge64\" class=\"edge\">\n<title>63&#45;&gt;64</title>\n<path fill=\"none\" stroke=\"#000000\" d=\"M1105.7386,-1024.9465C1097.2806,-1015.8782 1088.0486,-1005.9799 1079.2613,-996.5585\"/>\n<polygon fill=\"#000000\" stroke=\"#000000\" points=\"1081.713,-994.0557 1072.3328,-989.13 1076.594,-998.8302 1081.713,-994.0557\"/>\n</g>\n<!-- 69 -->\n<g id=\"node70\" class=\"node\">\n<title>69</title>\n<polygon fill=\"none\" stroke=\"#000000\" points=\"1210,-989 1109,-989 1109,-921 1210,-921 1210,-989\"/>\n<text text-anchor=\"middle\" x=\"1159.5\" y=\"-973.8\" font-family=\"Times,serif\" font-size=\"14.00\" fill=\"#000000\">X[6] &lt;= 0.425</text>\n<text text-anchor=\"middle\" x=\"1159.5\" y=\"-958.8\" font-family=\"Times,serif\" font-size=\"14.00\" fill=\"#000000\">gini = 0.153</text>\n<text text-anchor=\"middle\" x=\"1159.5\" y=\"-943.8\" font-family=\"Times,serif\" font-size=\"14.00\" fill=\"#000000\">samples = 12</text>\n<text text-anchor=\"middle\" x=\"1159.5\" y=\"-928.8\" font-family=\"Times,serif\" font-size=\"14.00\" fill=\"#000000\">value = [1, 11]</text>\n</g>\n<!-- 63&#45;&gt;69 -->\n<g id=\"edge69\" class=\"edge\">\n<title>63&#45;&gt;69</title>\n<path fill=\"none\" stroke=\"#000000\" d=\"M1144.7036,-1024.9465C1146.451,-1016.6863 1148.344,-1007.7374 1150.1738,-999.0875\"/>\n<polygon fill=\"#000000\" stroke=\"#000000\" points=\"1153.6348,-999.6379 1152.2802,-989.13 1146.7863,-998.1891 1153.6348,-999.6379\"/>\n</g>\n<!-- 65 -->\n<g id=\"node66\" class=\"node\">\n<title>65</title>\n<polygon fill=\"none\" stroke=\"#000000\" points=\"977,-877.5 882,-877.5 882,-824.5 977,-824.5 977,-877.5\"/>\n<text text-anchor=\"middle\" x=\"929.5\" y=\"-862.3\" font-family=\"Times,serif\" font-size=\"14.00\" fill=\"#000000\">gini = 0.0</text>\n<text text-anchor=\"middle\" x=\"929.5\" y=\"-847.3\" font-family=\"Times,serif\" font-size=\"14.00\" fill=\"#000000\">samples = 5</text>\n<text text-anchor=\"middle\" x=\"929.5\" y=\"-832.3\" font-family=\"Times,serif\" font-size=\"14.00\" fill=\"#000000\">value = [5, 0]</text>\n</g>\n<!-- 64&#45;&gt;65 -->\n<g id=\"edge65\" class=\"edge\">\n<title>64&#45;&gt;65</title>\n<path fill=\"none\" stroke=\"#000000\" d=\"M1004.1544,-920.9465C991.6928,-909.2707 977.7626,-896.219 965.3412,-884.5809\"/>\n<polygon fill=\"#000000\" stroke=\"#000000\" points=\"967.5191,-881.8253 957.8287,-877.5422 962.7331,-886.9335 967.5191,-881.8253\"/>\n</g>\n<!-- 66 -->\n<g id=\"node67\" class=\"node\">\n<title>66</title>\n<polygon fill=\"none\" stroke=\"#000000\" points=\"1090,-885 995,-885 995,-817 1090,-817 1090,-885\"/>\n<text text-anchor=\"middle\" x=\"1042.5\" y=\"-869.8\" font-family=\"Times,serif\" font-size=\"14.00\" fill=\"#000000\">X[0] &lt;= 5.0</text>\n<text text-anchor=\"middle\" x=\"1042.5\" y=\"-854.8\" font-family=\"Times,serif\" font-size=\"14.00\" fill=\"#000000\">gini = 0.5</text>\n<text text-anchor=\"middle\" x=\"1042.5\" y=\"-839.8\" font-family=\"Times,serif\" font-size=\"14.00\" fill=\"#000000\">samples = 2</text>\n<text text-anchor=\"middle\" x=\"1042.5\" y=\"-824.8\" font-family=\"Times,serif\" font-size=\"14.00\" fill=\"#000000\">value = [1, 1]</text>\n</g>\n<!-- 64&#45;&gt;66 -->\n<g id=\"edge66\" class=\"edge\">\n<title>64&#45;&gt;66</title>\n<path fill=\"none\" stroke=\"#000000\" d=\"M1041.1549,-920.9465C1041.312,-912.776 1041.4821,-903.9318 1041.6467,-895.3697\"/>\n<polygon fill=\"#000000\" stroke=\"#000000\" points=\"1045.1506,-895.1955 1041.8437,-885.13 1038.1519,-895.0608 1045.1506,-895.1955\"/>\n</g>\n<!-- 67 -->\n<g id=\"node68\" class=\"node\">\n<title>67</title>\n<polygon fill=\"none\" stroke=\"#000000\" points=\"1034,-773.5 939,-773.5 939,-720.5 1034,-720.5 1034,-773.5\"/>\n<text text-anchor=\"middle\" x=\"986.5\" y=\"-758.3\" font-family=\"Times,serif\" font-size=\"14.00\" fill=\"#000000\">gini = 0.0</text>\n<text text-anchor=\"middle\" x=\"986.5\" y=\"-743.3\" font-family=\"Times,serif\" font-size=\"14.00\" fill=\"#000000\">samples = 1</text>\n<text text-anchor=\"middle\" x=\"986.5\" y=\"-728.3\" font-family=\"Times,serif\" font-size=\"14.00\" fill=\"#000000\">value = [1, 0]</text>\n</g>\n<!-- 66&#45;&gt;67 -->\n<g id=\"edge67\" class=\"edge\">\n<title>66&#45;&gt;67</title>\n<path fill=\"none\" stroke=\"#000000\" d=\"M1024.1635,-816.9465C1018.2324,-805.9316 1011.6419,-793.6922 1005.6532,-782.5703\"/>\n<polygon fill=\"#000000\" stroke=\"#000000\" points=\"1008.6146,-780.6875 1000.7919,-773.5422 1002.4513,-784.0063 1008.6146,-780.6875\"/>\n</g>\n<!-- 68 -->\n<g id=\"node69\" class=\"node\">\n<title>68</title>\n<polygon fill=\"none\" stroke=\"#000000\" points=\"1147,-773.5 1052,-773.5 1052,-720.5 1147,-720.5 1147,-773.5\"/>\n<text text-anchor=\"middle\" x=\"1099.5\" y=\"-758.3\" font-family=\"Times,serif\" font-size=\"14.00\" fill=\"#000000\">gini = 0.0</text>\n<text text-anchor=\"middle\" x=\"1099.5\" y=\"-743.3\" font-family=\"Times,serif\" font-size=\"14.00\" fill=\"#000000\">samples = 1</text>\n<text text-anchor=\"middle\" x=\"1099.5\" y=\"-728.3\" font-family=\"Times,serif\" font-size=\"14.00\" fill=\"#000000\">value = [0, 1]</text>\n</g>\n<!-- 66&#45;&gt;68 -->\n<g id=\"edge68\" class=\"edge\">\n<title>66&#45;&gt;68</title>\n<path fill=\"none\" stroke=\"#000000\" d=\"M1061.1639,-816.9465C1067.2009,-805.9316 1073.9091,-793.6922 1080.0047,-782.5703\"/>\n<polygon fill=\"#000000\" stroke=\"#000000\" points=\"1083.2158,-783.9936 1084.9529,-773.5422 1077.0773,-780.6292 1083.2158,-783.9936\"/>\n</g>\n<!-- 70 -->\n<g id=\"node71\" class=\"node\">\n<title>70</title>\n<polygon fill=\"none\" stroke=\"#000000\" points=\"1209,-877.5 1108,-877.5 1108,-824.5 1209,-824.5 1209,-877.5\"/>\n<text text-anchor=\"middle\" x=\"1158.5\" y=\"-862.3\" font-family=\"Times,serif\" font-size=\"14.00\" fill=\"#000000\">gini = 0.0</text>\n<text text-anchor=\"middle\" x=\"1158.5\" y=\"-847.3\" font-family=\"Times,serif\" font-size=\"14.00\" fill=\"#000000\">samples = 11</text>\n<text text-anchor=\"middle\" x=\"1158.5\" y=\"-832.3\" font-family=\"Times,serif\" font-size=\"14.00\" fill=\"#000000\">value = [0, 11]</text>\n</g>\n<!-- 69&#45;&gt;70 -->\n<g id=\"edge70\" class=\"edge\">\n<title>69&#45;&gt;70</title>\n<path fill=\"none\" stroke=\"#000000\" d=\"M1159.1726,-920.9465C1159.0698,-910.2621 1158.956,-898.4254 1158.8517,-887.5742\"/>\n<polygon fill=\"#000000\" stroke=\"#000000\" points=\"1162.3513,-887.508 1158.7552,-877.5422 1155.3516,-887.5754 1162.3513,-887.508\"/>\n</g>\n<!-- 71 -->\n<g id=\"node72\" class=\"node\">\n<title>71</title>\n<polygon fill=\"none\" stroke=\"#000000\" points=\"1322,-877.5 1227,-877.5 1227,-824.5 1322,-824.5 1322,-877.5\"/>\n<text text-anchor=\"middle\" x=\"1274.5\" y=\"-862.3\" font-family=\"Times,serif\" font-size=\"14.00\" fill=\"#000000\">gini = 0.0</text>\n<text text-anchor=\"middle\" x=\"1274.5\" y=\"-847.3\" font-family=\"Times,serif\" font-size=\"14.00\" fill=\"#000000\">samples = 1</text>\n<text text-anchor=\"middle\" x=\"1274.5\" y=\"-832.3\" font-family=\"Times,serif\" font-size=\"14.00\" fill=\"#000000\">value = [1, 0]</text>\n</g>\n<!-- 69&#45;&gt;71 -->\n<g id=\"edge71\" class=\"edge\">\n<title>69&#45;&gt;71</title>\n<path fill=\"none\" stroke=\"#000000\" d=\"M1197.1553,-920.9465C1210.1878,-909.1606 1224.7706,-895.9726 1237.7311,-884.2519\"/>\n<polygon fill=\"#000000\" stroke=\"#000000\" points=\"1240.0812,-886.8456 1245.1505,-877.5422 1235.386,-881.6537 1240.0812,-886.8456\"/>\n</g>\n<!-- 73 -->\n<g id=\"node74\" class=\"node\">\n<title>73</title>\n<polygon fill=\"none\" stroke=\"#000000\" points=\"1442.5,-989 1340.5,-989 1340.5,-921 1442.5,-921 1442.5,-989\"/>\n<text text-anchor=\"middle\" x=\"1391.5\" y=\"-973.8\" font-family=\"Times,serif\" font-size=\"14.00\" fill=\"#000000\">X[3] &lt;= 27.0</text>\n<text text-anchor=\"middle\" x=\"1391.5\" y=\"-958.8\" font-family=\"Times,serif\" font-size=\"14.00\" fill=\"#000000\">gini = 0.337</text>\n<text text-anchor=\"middle\" x=\"1391.5\" y=\"-943.8\" font-family=\"Times,serif\" font-size=\"14.00\" fill=\"#000000\">samples = 42</text>\n<text text-anchor=\"middle\" x=\"1391.5\" y=\"-928.8\" font-family=\"Times,serif\" font-size=\"14.00\" fill=\"#000000\">value = [33, 9]</text>\n</g>\n<!-- 72&#45;&gt;73 -->\n<g id=\"edge73\" class=\"edge\">\n<title>72&#45;&gt;73</title>\n<path fill=\"none\" stroke=\"#000000\" d=\"M1391.5,-1024.9465C1391.5,-1016.776 1391.5,-1007.9318 1391.5,-999.3697\"/>\n<polygon fill=\"#000000\" stroke=\"#000000\" points=\"1395.0001,-999.13 1391.5,-989.13 1388.0001,-999.13 1395.0001,-999.13\"/>\n</g>\n<!-- 86 -->\n<g id=\"node87\" class=\"node\">\n<title>86</title>\n<polygon fill=\"none\" stroke=\"#000000\" points=\"1556,-981.5 1461,-981.5 1461,-928.5 1556,-928.5 1556,-981.5\"/>\n<text text-anchor=\"middle\" x=\"1508.5\" y=\"-966.3\" font-family=\"Times,serif\" font-size=\"14.00\" fill=\"#000000\">gini = 0.0</text>\n<text text-anchor=\"middle\" x=\"1508.5\" y=\"-951.3\" font-family=\"Times,serif\" font-size=\"14.00\" fill=\"#000000\">samples = 3</text>\n<text text-anchor=\"middle\" x=\"1508.5\" y=\"-936.3\" font-family=\"Times,serif\" font-size=\"14.00\" fill=\"#000000\">value = [0, 3]</text>\n</g>\n<!-- 72&#45;&gt;86 -->\n<g id=\"edge86\" class=\"edge\">\n<title>72&#45;&gt;86</title>\n<path fill=\"none\" stroke=\"#000000\" d=\"M1429.8102,-1024.9465C1443.0694,-1013.1606 1457.9058,-999.9726 1471.0916,-988.2519\"/>\n<polygon fill=\"#000000\" stroke=\"#000000\" points=\"1473.4912,-990.8018 1478.6401,-981.5422 1468.8407,-985.5699 1473.4912,-990.8018\"/>\n</g>\n<!-- 74 -->\n<g id=\"node75\" class=\"node\">\n<title>74</title>\n<polygon fill=\"none\" stroke=\"#000000\" points=\"1442.5,-885 1340.5,-885 1340.5,-817 1442.5,-817 1442.5,-885\"/>\n<text text-anchor=\"middle\" x=\"1391.5\" y=\"-869.8\" font-family=\"Times,serif\" font-size=\"14.00\" fill=\"#000000\">X[2] &lt;= 89.0</text>\n<text text-anchor=\"middle\" x=\"1391.5\" y=\"-854.8\" font-family=\"Times,serif\" font-size=\"14.00\" fill=\"#000000\">gini = 0.461</text>\n<text text-anchor=\"middle\" x=\"1391.5\" y=\"-839.8\" font-family=\"Times,serif\" font-size=\"14.00\" fill=\"#000000\">samples = 25</text>\n<text text-anchor=\"middle\" x=\"1391.5\" y=\"-824.8\" font-family=\"Times,serif\" font-size=\"14.00\" fill=\"#000000\">value = [16, 9]</text>\n</g>\n<!-- 73&#45;&gt;74 -->\n<g id=\"edge74\" class=\"edge\">\n<title>73&#45;&gt;74</title>\n<path fill=\"none\" stroke=\"#000000\" d=\"M1391.5,-920.9465C1391.5,-912.776 1391.5,-903.9318 1391.5,-895.3697\"/>\n<polygon fill=\"#000000\" stroke=\"#000000\" points=\"1395.0001,-895.13 1391.5,-885.13 1388.0001,-895.13 1395.0001,-895.13\"/>\n</g>\n<!-- 85 -->\n<g id=\"node86\" class=\"node\">\n<title>85</title>\n<polygon fill=\"none\" stroke=\"#000000\" points=\"1562.5,-877.5 1460.5,-877.5 1460.5,-824.5 1562.5,-824.5 1562.5,-877.5\"/>\n<text text-anchor=\"middle\" x=\"1511.5\" y=\"-862.3\" font-family=\"Times,serif\" font-size=\"14.00\" fill=\"#000000\">gini = 0.0</text>\n<text text-anchor=\"middle\" x=\"1511.5\" y=\"-847.3\" font-family=\"Times,serif\" font-size=\"14.00\" fill=\"#000000\">samples = 17</text>\n<text text-anchor=\"middle\" x=\"1511.5\" y=\"-832.3\" font-family=\"Times,serif\" font-size=\"14.00\" fill=\"#000000\">value = [17, 0]</text>\n</g>\n<!-- 73&#45;&gt;85 -->\n<g id=\"edge85\" class=\"edge\">\n<title>73&#45;&gt;85</title>\n<path fill=\"none\" stroke=\"#000000\" d=\"M1430.7925,-920.9465C1444.3917,-909.1606 1459.6085,-895.9726 1473.1324,-884.2519\"/>\n<polygon fill=\"#000000\" stroke=\"#000000\" points=\"1475.6098,-886.7364 1480.8744,-877.5422 1471.0252,-881.4466 1475.6098,-886.7364\"/>\n</g>\n<!-- 75 -->\n<g id=\"node76\" class=\"node\">\n<title>75</title>\n<polygon fill=\"none\" stroke=\"#000000\" points=\"1329,-781 1234,-781 1234,-713 1329,-713 1329,-781\"/>\n<text text-anchor=\"middle\" x=\"1281.5\" y=\"-765.8\" font-family=\"Times,serif\" font-size=\"14.00\" fill=\"#000000\">X[7] &lt;= 47.0</text>\n<text text-anchor=\"middle\" x=\"1281.5\" y=\"-750.8\" font-family=\"Times,serif\" font-size=\"14.00\" fill=\"#000000\">gini = 0.5</text>\n<text text-anchor=\"middle\" x=\"1281.5\" y=\"-735.8\" font-family=\"Times,serif\" font-size=\"14.00\" fill=\"#000000\">samples = 18</text>\n<text text-anchor=\"middle\" x=\"1281.5\" y=\"-720.8\" font-family=\"Times,serif\" font-size=\"14.00\" fill=\"#000000\">value = [9, 9]</text>\n</g>\n<!-- 74&#45;&gt;75 -->\n<g id=\"edge75\" class=\"edge\">\n<title>74&#45;&gt;75</title>\n<path fill=\"none\" stroke=\"#000000\" d=\"M1355.4819,-816.9465C1345.7954,-807.7884 1335.2136,-797.7838 1325.1603,-788.2788\"/>\n<polygon fill=\"#000000\" stroke=\"#000000\" points=\"1327.2701,-785.4569 1317.599,-781.13 1322.461,-790.5434 1327.2701,-785.4569\"/>\n</g>\n<!-- 84 -->\n<g id=\"node85\" class=\"node\">\n<title>84</title>\n<polygon fill=\"none\" stroke=\"#000000\" points=\"1442,-773.5 1347,-773.5 1347,-720.5 1442,-720.5 1442,-773.5\"/>\n<text text-anchor=\"middle\" x=\"1394.5\" y=\"-758.3\" font-family=\"Times,serif\" font-size=\"14.00\" fill=\"#000000\">gini = 0.0</text>\n<text text-anchor=\"middle\" x=\"1394.5\" y=\"-743.3\" font-family=\"Times,serif\" font-size=\"14.00\" fill=\"#000000\">samples = 7</text>\n<text text-anchor=\"middle\" x=\"1394.5\" y=\"-728.3\" font-family=\"Times,serif\" font-size=\"14.00\" fill=\"#000000\">value = [7, 0]</text>\n</g>\n<!-- 74&#45;&gt;84 -->\n<g id=\"edge84\" class=\"edge\">\n<title>74&#45;&gt;84</title>\n<path fill=\"none\" stroke=\"#000000\" d=\"M1392.4823,-816.9465C1392.7905,-806.2621 1393.132,-794.4254 1393.445,-783.5742\"/>\n<polygon fill=\"#000000\" stroke=\"#000000\" points=\"1396.9445,-783.639 1393.7344,-773.5422 1389.9474,-783.4371 1396.9445,-783.639\"/>\n</g>\n<!-- 76 -->\n<g id=\"node77\" class=\"node\">\n<title>76</title>\n<polygon fill=\"none\" stroke=\"#000000\" points=\"1272,-677 1177,-677 1177,-609 1272,-609 1272,-677\"/>\n<text text-anchor=\"middle\" x=\"1224.5\" y=\"-661.8\" font-family=\"Times,serif\" font-size=\"14.00\" fill=\"#000000\">X[7] &lt;= 35.0</text>\n<text text-anchor=\"middle\" x=\"1224.5\" y=\"-646.8\" font-family=\"Times,serif\" font-size=\"14.00\" fill=\"#000000\">gini = 0.397</text>\n<text text-anchor=\"middle\" x=\"1224.5\" y=\"-631.8\" font-family=\"Times,serif\" font-size=\"14.00\" fill=\"#000000\">samples = 11</text>\n<text text-anchor=\"middle\" x=\"1224.5\" y=\"-616.8\" font-family=\"Times,serif\" font-size=\"14.00\" fill=\"#000000\">value = [3, 8]</text>\n</g>\n<!-- 75&#45;&gt;76 -->\n<g id=\"edge76\" class=\"edge\">\n<title>75&#45;&gt;76</title>\n<path fill=\"none\" stroke=\"#000000\" d=\"M1262.8361,-712.9465C1258.112,-704.3271 1252.9769,-694.9579 1248.046,-685.9611\"/>\n<polygon fill=\"#000000\" stroke=\"#000000\" points=\"1251.0814,-684.2171 1243.2059,-677.13 1244.9429,-687.5815 1251.0814,-684.2171\"/>\n</g>\n<!-- 81 -->\n<g id=\"node82\" class=\"node\">\n<title>81</title>\n<polygon fill=\"none\" stroke=\"#000000\" points=\"1385,-677 1290,-677 1290,-609 1385,-609 1385,-677\"/>\n<text text-anchor=\"middle\" x=\"1337.5\" y=\"-661.8\" font-family=\"Times,serif\" font-size=\"14.00\" fill=\"#000000\">X[0] &lt;= 3.5</text>\n<text text-anchor=\"middle\" x=\"1337.5\" y=\"-646.8\" font-family=\"Times,serif\" font-size=\"14.00\" fill=\"#000000\">gini = 0.245</text>\n<text text-anchor=\"middle\" x=\"1337.5\" y=\"-631.8\" font-family=\"Times,serif\" font-size=\"14.00\" fill=\"#000000\">samples = 7</text>\n<text text-anchor=\"middle\" x=\"1337.5\" y=\"-616.8\" font-family=\"Times,serif\" font-size=\"14.00\" fill=\"#000000\">value = [6, 1]</text>\n</g>\n<!-- 75&#45;&gt;81 -->\n<g id=\"edge81\" class=\"edge\">\n<title>75&#45;&gt;81</title>\n<path fill=\"none\" stroke=\"#000000\" d=\"M1299.8365,-712.9465C1304.4777,-704.3271 1309.5227,-694.9579 1314.3671,-685.9611\"/>\n<polygon fill=\"#000000\" stroke=\"#000000\" points=\"1317.4629,-687.5941 1319.1223,-677.13 1311.2996,-684.2754 1317.4629,-687.5941\"/>\n</g>\n<!-- 77 -->\n<g id=\"node78\" class=\"node\">\n<title>77</title>\n<polygon fill=\"none\" stroke=\"#000000\" points=\"1159,-565.5 1064,-565.5 1064,-512.5 1159,-512.5 1159,-565.5\"/>\n<text text-anchor=\"middle\" x=\"1111.5\" y=\"-550.3\" font-family=\"Times,serif\" font-size=\"14.00\" fill=\"#000000\">gini = 0.0</text>\n<text text-anchor=\"middle\" x=\"1111.5\" y=\"-535.3\" font-family=\"Times,serif\" font-size=\"14.00\" fill=\"#000000\">samples = 2</text>\n<text text-anchor=\"middle\" x=\"1111.5\" y=\"-520.3\" font-family=\"Times,serif\" font-size=\"14.00\" fill=\"#000000\">value = [2, 0]</text>\n</g>\n<!-- 76&#45;&gt;77 -->\n<g id=\"edge77\" class=\"edge\">\n<title>76&#45;&gt;77</title>\n<path fill=\"none\" stroke=\"#000000\" d=\"M1187.4996,-608.9465C1174.8134,-597.2707 1160.6322,-584.219 1147.987,-572.5809\"/>\n<polygon fill=\"#000000\" stroke=\"#000000\" points=\"1150.0673,-569.7389 1140.3391,-565.5422 1145.3269,-574.8895 1150.0673,-569.7389\"/>\n</g>\n<!-- 78 -->\n<g id=\"node79\" class=\"node\">\n<title>78</title>\n<polygon fill=\"none\" stroke=\"#000000\" points=\"1272,-573 1177,-573 1177,-505 1272,-505 1272,-573\"/>\n<text text-anchor=\"middle\" x=\"1224.5\" y=\"-557.8\" font-family=\"Times,serif\" font-size=\"14.00\" fill=\"#000000\">X[2] &lt;= 69.0</text>\n<text text-anchor=\"middle\" x=\"1224.5\" y=\"-542.8\" font-family=\"Times,serif\" font-size=\"14.00\" fill=\"#000000\">gini = 0.198</text>\n<text text-anchor=\"middle\" x=\"1224.5\" y=\"-527.8\" font-family=\"Times,serif\" font-size=\"14.00\" fill=\"#000000\">samples = 9</text>\n<text text-anchor=\"middle\" x=\"1224.5\" y=\"-512.8\" font-family=\"Times,serif\" font-size=\"14.00\" fill=\"#000000\">value = [1, 8]</text>\n</g>\n<!-- 76&#45;&gt;78 -->\n<g id=\"edge78\" class=\"edge\">\n<title>76&#45;&gt;78</title>\n<path fill=\"none\" stroke=\"#000000\" d=\"M1224.5,-608.9465C1224.5,-600.776 1224.5,-591.9318 1224.5,-583.3697\"/>\n<polygon fill=\"#000000\" stroke=\"#000000\" points=\"1228.0001,-583.13 1224.5,-573.13 1221.0001,-583.13 1228.0001,-583.13\"/>\n</g>\n<!-- 79 -->\n<g id=\"node80\" class=\"node\">\n<title>79</title>\n<polygon fill=\"none\" stroke=\"#000000\" points=\"1215,-461.5 1120,-461.5 1120,-408.5 1215,-408.5 1215,-461.5\"/>\n<text text-anchor=\"middle\" x=\"1167.5\" y=\"-446.3\" font-family=\"Times,serif\" font-size=\"14.00\" fill=\"#000000\">gini = 0.0</text>\n<text text-anchor=\"middle\" x=\"1167.5\" y=\"-431.3\" font-family=\"Times,serif\" font-size=\"14.00\" fill=\"#000000\">samples = 1</text>\n<text text-anchor=\"middle\" x=\"1167.5\" y=\"-416.3\" font-family=\"Times,serif\" font-size=\"14.00\" fill=\"#000000\">value = [1, 0]</text>\n</g>\n<!-- 78&#45;&gt;79 -->\n<g id=\"edge79\" class=\"edge\">\n<title>78&#45;&gt;79</title>\n<path fill=\"none\" stroke=\"#000000\" d=\"M1205.8361,-504.9465C1199.7991,-493.9316 1193.0909,-481.6922 1186.9953,-470.5703\"/>\n<polygon fill=\"#000000\" stroke=\"#000000\" points=\"1189.9227,-468.6292 1182.0471,-461.5422 1183.7842,-471.9936 1189.9227,-468.6292\"/>\n</g>\n<!-- 80 -->\n<g id=\"node81\" class=\"node\">\n<title>80</title>\n<polygon fill=\"none\" stroke=\"#000000\" points=\"1328,-461.5 1233,-461.5 1233,-408.5 1328,-408.5 1328,-461.5\"/>\n<text text-anchor=\"middle\" x=\"1280.5\" y=\"-446.3\" font-family=\"Times,serif\" font-size=\"14.00\" fill=\"#000000\">gini = 0.0</text>\n<text text-anchor=\"middle\" x=\"1280.5\" y=\"-431.3\" font-family=\"Times,serif\" font-size=\"14.00\" fill=\"#000000\">samples = 8</text>\n<text text-anchor=\"middle\" x=\"1280.5\" y=\"-416.3\" font-family=\"Times,serif\" font-size=\"14.00\" fill=\"#000000\">value = [0, 8]</text>\n</g>\n<!-- 78&#45;&gt;80 -->\n<g id=\"edge80\" class=\"edge\">\n<title>78&#45;&gt;80</title>\n<path fill=\"none\" stroke=\"#000000\" d=\"M1242.8365,-504.9465C1248.7676,-493.9316 1255.3581,-481.6922 1261.3468,-470.5703\"/>\n<polygon fill=\"#000000\" stroke=\"#000000\" points=\"1264.5487,-472.0063 1266.2081,-461.5422 1258.3854,-468.6875 1264.5487,-472.0063\"/>\n</g>\n<!-- 82 -->\n<g id=\"node83\" class=\"node\">\n<title>82</title>\n<polygon fill=\"none\" stroke=\"#000000\" points=\"1385,-565.5 1290,-565.5 1290,-512.5 1385,-512.5 1385,-565.5\"/>\n<text text-anchor=\"middle\" x=\"1337.5\" y=\"-550.3\" font-family=\"Times,serif\" font-size=\"14.00\" fill=\"#000000\">gini = 0.0</text>\n<text text-anchor=\"middle\" x=\"1337.5\" y=\"-535.3\" font-family=\"Times,serif\" font-size=\"14.00\" fill=\"#000000\">samples = 1</text>\n<text text-anchor=\"middle\" x=\"1337.5\" y=\"-520.3\" font-family=\"Times,serif\" font-size=\"14.00\" fill=\"#000000\">value = [0, 1]</text>\n</g>\n<!-- 81&#45;&gt;82 -->\n<g id=\"edge82\" class=\"edge\">\n<title>81&#45;&gt;82</title>\n<path fill=\"none\" stroke=\"#000000\" d=\"M1337.5,-608.9465C1337.5,-598.2621 1337.5,-586.4254 1337.5,-575.5742\"/>\n<polygon fill=\"#000000\" stroke=\"#000000\" points=\"1341.0001,-575.5421 1337.5,-565.5422 1334.0001,-575.5422 1341.0001,-575.5421\"/>\n</g>\n<!-- 83 -->\n<g id=\"node84\" class=\"node\">\n<title>83</title>\n<polygon fill=\"none\" stroke=\"#000000\" points=\"1498,-565.5 1403,-565.5 1403,-512.5 1498,-512.5 1498,-565.5\"/>\n<text text-anchor=\"middle\" x=\"1450.5\" y=\"-550.3\" font-family=\"Times,serif\" font-size=\"14.00\" fill=\"#000000\">gini = 0.0</text>\n<text text-anchor=\"middle\" x=\"1450.5\" y=\"-535.3\" font-family=\"Times,serif\" font-size=\"14.00\" fill=\"#000000\">samples = 6</text>\n<text text-anchor=\"middle\" x=\"1450.5\" y=\"-520.3\" font-family=\"Times,serif\" font-size=\"14.00\" fill=\"#000000\">value = [6, 0]</text>\n</g>\n<!-- 81&#45;&gt;83 -->\n<g id=\"edge83\" class=\"edge\">\n<title>81&#45;&gt;83</title>\n<path fill=\"none\" stroke=\"#000000\" d=\"M1374.5004,-608.9465C1387.1866,-597.2707 1401.3678,-584.219 1414.013,-572.5809\"/>\n<polygon fill=\"#000000\" stroke=\"#000000\" points=\"1416.6731,-574.8895 1421.6609,-565.5422 1411.9327,-569.7389 1416.6731,-574.8895\"/>\n</g>\n<!-- 88 -->\n<g id=\"node89\" class=\"node\">\n<title>88</title>\n<polygon fill=\"none\" stroke=\"#000000\" points=\"1567.5,-1197 1457.5,-1197 1457.5,-1129 1567.5,-1129 1567.5,-1197\"/>\n<text text-anchor=\"middle\" x=\"1512.5\" y=\"-1181.8\" font-family=\"Times,serif\" font-size=\"14.00\" fill=\"#000000\">X[1] &lt;= 97.0</text>\n<text text-anchor=\"middle\" x=\"1512.5\" y=\"-1166.8\" font-family=\"Times,serif\" font-size=\"14.00\" fill=\"#000000\">gini = 0.5</text>\n<text text-anchor=\"middle\" x=\"1512.5\" y=\"-1151.8\" font-family=\"Times,serif\" font-size=\"14.00\" fill=\"#000000\">samples = 33</text>\n<text text-anchor=\"middle\" x=\"1512.5\" y=\"-1136.8\" font-family=\"Times,serif\" font-size=\"14.00\" fill=\"#000000\">value = [16, 17]</text>\n</g>\n<!-- 87&#45;&gt;88 -->\n<g id=\"edge88\" class=\"edge\">\n<title>87&#45;&gt;88</title>\n<path fill=\"none\" stroke=\"#000000\" d=\"M1512.5,-1232.9465C1512.5,-1224.776 1512.5,-1215.9318 1512.5,-1207.3697\"/>\n<polygon fill=\"#000000\" stroke=\"#000000\" points=\"1516.0001,-1207.13 1512.5,-1197.13 1509.0001,-1207.13 1516.0001,-1207.13\"/>\n</g>\n<!-- 101 -->\n<g id=\"node102\" class=\"node\">\n<title>101</title>\n<polygon fill=\"none\" stroke=\"#000000\" points=\"1681,-1189.5 1586,-1189.5 1586,-1136.5 1681,-1136.5 1681,-1189.5\"/>\n<text text-anchor=\"middle\" x=\"1633.5\" y=\"-1174.3\" font-family=\"Times,serif\" font-size=\"14.00\" fill=\"#000000\">gini = 0.0</text>\n<text text-anchor=\"middle\" x=\"1633.5\" y=\"-1159.3\" font-family=\"Times,serif\" font-size=\"14.00\" fill=\"#000000\">samples = 9</text>\n<text text-anchor=\"middle\" x=\"1633.5\" y=\"-1144.3\" font-family=\"Times,serif\" font-size=\"14.00\" fill=\"#000000\">value = [0, 9]</text>\n</g>\n<!-- 87&#45;&gt;101 -->\n<g id=\"edge101\" class=\"edge\">\n<title>87&#45;&gt;101</title>\n<path fill=\"none\" stroke=\"#000000\" d=\"M1552.1199,-1232.9465C1565.8324,-1221.1606 1581.1761,-1207.9726 1594.8127,-1196.2519\"/>\n<polygon fill=\"#000000\" stroke=\"#000000\" points=\"1597.3169,-1198.7147 1602.6192,-1189.5422 1592.7541,-1193.4061 1597.3169,-1198.7147\"/>\n</g>\n<!-- 89 -->\n<g id=\"node90\" class=\"node\">\n<title>89</title>\n<polygon fill=\"none\" stroke=\"#000000\" points=\"1560,-1085.5 1465,-1085.5 1465,-1032.5 1560,-1032.5 1560,-1085.5\"/>\n<text text-anchor=\"middle\" x=\"1512.5\" y=\"-1070.3\" font-family=\"Times,serif\" font-size=\"14.00\" fill=\"#000000\">gini = 0.0</text>\n<text text-anchor=\"middle\" x=\"1512.5\" y=\"-1055.3\" font-family=\"Times,serif\" font-size=\"14.00\" fill=\"#000000\">samples = 5</text>\n<text text-anchor=\"middle\" x=\"1512.5\" y=\"-1040.3\" font-family=\"Times,serif\" font-size=\"14.00\" fill=\"#000000\">value = [5, 0]</text>\n</g>\n<!-- 88&#45;&gt;89 -->\n<g id=\"edge89\" class=\"edge\">\n<title>88&#45;&gt;89</title>\n<path fill=\"none\" stroke=\"#000000\" d=\"M1512.5,-1128.9465C1512.5,-1118.2621 1512.5,-1106.4254 1512.5,-1095.5742\"/>\n<polygon fill=\"#000000\" stroke=\"#000000\" points=\"1516.0001,-1095.5421 1512.5,-1085.5422 1509.0001,-1095.5422 1516.0001,-1095.5421\"/>\n</g>\n<!-- 90 -->\n<g id=\"node91\" class=\"node\">\n<title>90</title>\n<polygon fill=\"none\" stroke=\"#000000\" points=\"1687,-1093 1578,-1093 1578,-1025 1687,-1025 1687,-1093\"/>\n<text text-anchor=\"middle\" x=\"1632.5\" y=\"-1077.8\" font-family=\"Times,serif\" font-size=\"14.00\" fill=\"#000000\">X[2] &lt;= 87.0</text>\n<text text-anchor=\"middle\" x=\"1632.5\" y=\"-1062.8\" font-family=\"Times,serif\" font-size=\"14.00\" fill=\"#000000\">gini = 0.477</text>\n<text text-anchor=\"middle\" x=\"1632.5\" y=\"-1047.8\" font-family=\"Times,serif\" font-size=\"14.00\" fill=\"#000000\">samples = 28</text>\n<text text-anchor=\"middle\" x=\"1632.5\" y=\"-1032.8\" font-family=\"Times,serif\" font-size=\"14.00\" fill=\"#000000\">value = [11, 17]</text>\n</g>\n<!-- 88&#45;&gt;90 -->\n<g id=\"edge90\" class=\"edge\">\n<title>88&#45;&gt;90</title>\n<path fill=\"none\" stroke=\"#000000\" d=\"M1551.7925,-1128.9465C1562.5667,-1119.6088 1574.3564,-1109.3911 1585.515,-1099.7203\"/>\n<polygon fill=\"#000000\" stroke=\"#000000\" points=\"1587.8546,-1102.3243 1593.1192,-1093.13 1583.2701,-1097.0344 1587.8546,-1102.3243\"/>\n</g>\n<!-- 91 -->\n<g id=\"node92\" class=\"node\">\n<title>91</title>\n<polygon fill=\"none\" stroke=\"#000000\" points=\"1682.5,-989 1580.5,-989 1580.5,-921 1682.5,-921 1682.5,-989\"/>\n<text text-anchor=\"middle\" x=\"1631.5\" y=\"-973.8\" font-family=\"Times,serif\" font-size=\"14.00\" fill=\"#000000\">X[1] &lt;= 116.5</text>\n<text text-anchor=\"middle\" x=\"1631.5\" y=\"-958.8\" font-family=\"Times,serif\" font-size=\"14.00\" fill=\"#000000\">gini = 0.413</text>\n<text text-anchor=\"middle\" x=\"1631.5\" y=\"-943.8\" font-family=\"Times,serif\" font-size=\"14.00\" fill=\"#000000\">samples = 24</text>\n<text text-anchor=\"middle\" x=\"1631.5\" y=\"-928.8\" font-family=\"Times,serif\" font-size=\"14.00\" fill=\"#000000\">value = [7, 17]</text>\n</g>\n<!-- 90&#45;&gt;91 -->\n<g id=\"edge91\" class=\"edge\">\n<title>90&#45;&gt;91</title>\n<path fill=\"none\" stroke=\"#000000\" d=\"M1632.1726,-1024.9465C1632.094,-1016.776 1632.009,-1007.9318 1631.9266,-999.3697\"/>\n<polygon fill=\"#000000\" stroke=\"#000000\" points=\"1635.4243,-999.0958 1631.8282,-989.13 1628.4246,-999.1632 1635.4243,-999.0958\"/>\n</g>\n<!-- 100 -->\n<g id=\"node101\" class=\"node\">\n<title>100</title>\n<polygon fill=\"none\" stroke=\"#000000\" points=\"1796,-981.5 1701,-981.5 1701,-928.5 1796,-928.5 1796,-981.5\"/>\n<text text-anchor=\"middle\" x=\"1748.5\" y=\"-966.3\" font-family=\"Times,serif\" font-size=\"14.00\" fill=\"#000000\">gini = 0.0</text>\n<text text-anchor=\"middle\" x=\"1748.5\" y=\"-951.3\" font-family=\"Times,serif\" font-size=\"14.00\" fill=\"#000000\">samples = 4</text>\n<text text-anchor=\"middle\" x=\"1748.5\" y=\"-936.3\" font-family=\"Times,serif\" font-size=\"14.00\" fill=\"#000000\">value = [4, 0]</text>\n</g>\n<!-- 90&#45;&gt;100 -->\n<g id=\"edge100\" class=\"edge\">\n<title>90&#45;&gt;100</title>\n<path fill=\"none\" stroke=\"#000000\" d=\"M1670.4827,-1024.9465C1683.6286,-1013.1606 1698.3382,-999.9726 1711.4113,-988.2519\"/>\n<polygon fill=\"#000000\" stroke=\"#000000\" points=\"1713.786,-990.8236 1718.8953,-981.5422 1709.1131,-985.6116 1713.786,-990.8236\"/>\n</g>\n<!-- 92 -->\n<g id=\"node93\" class=\"node\">\n<title>92</title>\n<polygon fill=\"none\" stroke=\"#000000\" points=\"1682.5,-885 1580.5,-885 1580.5,-817 1682.5,-817 1682.5,-885\"/>\n<text text-anchor=\"middle\" x=\"1631.5\" y=\"-869.8\" font-family=\"Times,serif\" font-size=\"14.00\" fill=\"#000000\">X[6] &lt;= 1.395</text>\n<text text-anchor=\"middle\" x=\"1631.5\" y=\"-854.8\" font-family=\"Times,serif\" font-size=\"14.00\" fill=\"#000000\">gini = 0.165</text>\n<text text-anchor=\"middle\" x=\"1631.5\" y=\"-839.8\" font-family=\"Times,serif\" font-size=\"14.00\" fill=\"#000000\">samples = 11</text>\n<text text-anchor=\"middle\" x=\"1631.5\" y=\"-824.8\" font-family=\"Times,serif\" font-size=\"14.00\" fill=\"#000000\">value = [1, 10]</text>\n</g>\n<!-- 91&#45;&gt;92 -->\n<g id=\"edge92\" class=\"edge\">\n<title>91&#45;&gt;92</title>\n<path fill=\"none\" stroke=\"#000000\" d=\"M1631.5,-920.9465C1631.5,-912.776 1631.5,-903.9318 1631.5,-895.3697\"/>\n<polygon fill=\"#000000\" stroke=\"#000000\" points=\"1635.0001,-895.13 1631.5,-885.13 1628.0001,-895.13 1635.0001,-895.13\"/>\n</g>\n<!-- 95 -->\n<g id=\"node96\" class=\"node\">\n<title>95</title>\n<polygon fill=\"none\" stroke=\"#000000\" points=\"1796,-885 1701,-885 1701,-817 1796,-817 1796,-885\"/>\n<text text-anchor=\"middle\" x=\"1748.5\" y=\"-869.8\" font-family=\"Times,serif\" font-size=\"14.00\" fill=\"#000000\">X[4] &lt;= 78.0</text>\n<text text-anchor=\"middle\" x=\"1748.5\" y=\"-854.8\" font-family=\"Times,serif\" font-size=\"14.00\" fill=\"#000000\">gini = 0.497</text>\n<text text-anchor=\"middle\" x=\"1748.5\" y=\"-839.8\" font-family=\"Times,serif\" font-size=\"14.00\" fill=\"#000000\">samples = 13</text>\n<text text-anchor=\"middle\" x=\"1748.5\" y=\"-824.8\" font-family=\"Times,serif\" font-size=\"14.00\" fill=\"#000000\">value = [6, 7]</text>\n</g>\n<!-- 91&#45;&gt;95 -->\n<g id=\"edge95\" class=\"edge\">\n<title>91&#45;&gt;95</title>\n<path fill=\"none\" stroke=\"#000000\" d=\"M1669.8102,-920.9465C1680.2141,-911.6986 1691.589,-901.5876 1702.3757,-891.9994\"/>\n<polygon fill=\"#000000\" stroke=\"#000000\" points=\"1704.9549,-894.3896 1710.1038,-885.13 1700.3044,-889.1577 1704.9549,-894.3896\"/>\n</g>\n<!-- 93 -->\n<g id=\"node94\" class=\"node\">\n<title>93</title>\n<polygon fill=\"none\" stroke=\"#000000\" points=\"1565.5,-773.5 1463.5,-773.5 1463.5,-720.5 1565.5,-720.5 1565.5,-773.5\"/>\n<text text-anchor=\"middle\" x=\"1514.5\" y=\"-758.3\" font-family=\"Times,serif\" font-size=\"14.00\" fill=\"#000000\">gini = 0.0</text>\n<text text-anchor=\"middle\" x=\"1514.5\" y=\"-743.3\" font-family=\"Times,serif\" font-size=\"14.00\" fill=\"#000000\">samples = 10</text>\n<text text-anchor=\"middle\" x=\"1514.5\" y=\"-728.3\" font-family=\"Times,serif\" font-size=\"14.00\" fill=\"#000000\">value = [0, 10]</text>\n</g>\n<!-- 92&#45;&gt;93 -->\n<g id=\"edge93\" class=\"edge\">\n<title>92&#45;&gt;93</title>\n<path fill=\"none\" stroke=\"#000000\" d=\"M1593.1898,-816.9465C1579.9306,-805.1606 1565.0942,-791.9726 1551.9084,-780.2519\"/>\n<polygon fill=\"#000000\" stroke=\"#000000\" points=\"1554.1593,-777.5699 1544.3599,-773.5422 1549.5088,-782.8018 1554.1593,-777.5699\"/>\n</g>\n<!-- 94 -->\n<g id=\"node95\" class=\"node\">\n<title>94</title>\n<polygon fill=\"none\" stroke=\"#000000\" points=\"1679,-773.5 1584,-773.5 1584,-720.5 1679,-720.5 1679,-773.5\"/>\n<text text-anchor=\"middle\" x=\"1631.5\" y=\"-758.3\" font-family=\"Times,serif\" font-size=\"14.00\" fill=\"#000000\">gini = 0.0</text>\n<text text-anchor=\"middle\" x=\"1631.5\" y=\"-743.3\" font-family=\"Times,serif\" font-size=\"14.00\" fill=\"#000000\">samples = 1</text>\n<text text-anchor=\"middle\" x=\"1631.5\" y=\"-728.3\" font-family=\"Times,serif\" font-size=\"14.00\" fill=\"#000000\">value = [1, 0]</text>\n</g>\n<!-- 92&#45;&gt;94 -->\n<g id=\"edge94\" class=\"edge\">\n<title>92&#45;&gt;94</title>\n<path fill=\"none\" stroke=\"#000000\" d=\"M1631.5,-816.9465C1631.5,-806.2621 1631.5,-794.4254 1631.5,-783.5742\"/>\n<polygon fill=\"#000000\" stroke=\"#000000\" points=\"1635.0001,-783.5421 1631.5,-773.5422 1628.0001,-783.5422 1635.0001,-783.5421\"/>\n</g>\n<!-- 96 -->\n<g id=\"node97\" class=\"node\">\n<title>96</title>\n<polygon fill=\"none\" stroke=\"#000000\" points=\"1792,-773.5 1697,-773.5 1697,-720.5 1792,-720.5 1792,-773.5\"/>\n<text text-anchor=\"middle\" x=\"1744.5\" y=\"-758.3\" font-family=\"Times,serif\" font-size=\"14.00\" fill=\"#000000\">gini = 0.0</text>\n<text text-anchor=\"middle\" x=\"1744.5\" y=\"-743.3\" font-family=\"Times,serif\" font-size=\"14.00\" fill=\"#000000\">samples = 3</text>\n<text text-anchor=\"middle\" x=\"1744.5\" y=\"-728.3\" font-family=\"Times,serif\" font-size=\"14.00\" fill=\"#000000\">value = [3, 0]</text>\n</g>\n<!-- 95&#45;&gt;96 -->\n<g id=\"edge96\" class=\"edge\">\n<title>95&#45;&gt;96</title>\n<path fill=\"none\" stroke=\"#000000\" d=\"M1747.1903,-816.9465C1746.7793,-806.2621 1746.3241,-794.4254 1745.9067,-783.5742\"/>\n<polygon fill=\"#000000\" stroke=\"#000000\" points=\"1749.4027,-783.4002 1745.5209,-773.5422 1742.4079,-783.6693 1749.4027,-783.4002\"/>\n</g>\n<!-- 97 -->\n<g id=\"node98\" class=\"node\">\n<title>97</title>\n<polygon fill=\"none\" stroke=\"#000000\" points=\"1905,-781 1810,-781 1810,-713 1905,-713 1905,-781\"/>\n<text text-anchor=\"middle\" x=\"1857.5\" y=\"-765.8\" font-family=\"Times,serif\" font-size=\"14.00\" fill=\"#000000\">X[3] &lt;= 41.5</text>\n<text text-anchor=\"middle\" x=\"1857.5\" y=\"-750.8\" font-family=\"Times,serif\" font-size=\"14.00\" fill=\"#000000\">gini = 0.42</text>\n<text text-anchor=\"middle\" x=\"1857.5\" y=\"-735.8\" font-family=\"Times,serif\" font-size=\"14.00\" fill=\"#000000\">samples = 10</text>\n<text text-anchor=\"middle\" x=\"1857.5\" y=\"-720.8\" font-family=\"Times,serif\" font-size=\"14.00\" fill=\"#000000\">value = [3, 7]</text>\n</g>\n<!-- 95&#45;&gt;97 -->\n<g id=\"edge97\" class=\"edge\">\n<title>95&#45;&gt;97</title>\n<path fill=\"none\" stroke=\"#000000\" d=\"M1784.1907,-816.9465C1793.7891,-807.7884 1804.2747,-797.7838 1814.2366,-788.2788\"/>\n<polygon fill=\"#000000\" stroke=\"#000000\" points=\"1816.9102,-790.5655 1821.7291,-781.13 1812.0779,-785.5009 1816.9102,-790.5655\"/>\n</g>\n<!-- 98 -->\n<g id=\"node99\" class=\"node\">\n<title>98</title>\n<polygon fill=\"none\" stroke=\"#000000\" points=\"1792,-669.5 1697,-669.5 1697,-616.5 1792,-616.5 1792,-669.5\"/>\n<text text-anchor=\"middle\" x=\"1744.5\" y=\"-654.3\" font-family=\"Times,serif\" font-size=\"14.00\" fill=\"#000000\">gini = 0.0</text>\n<text text-anchor=\"middle\" x=\"1744.5\" y=\"-639.3\" font-family=\"Times,serif\" font-size=\"14.00\" fill=\"#000000\">samples = 7</text>\n<text text-anchor=\"middle\" x=\"1744.5\" y=\"-624.3\" font-family=\"Times,serif\" font-size=\"14.00\" fill=\"#000000\">value = [0, 7]</text>\n</g>\n<!-- 97&#45;&gt;98 -->\n<g id=\"edge98\" class=\"edge\">\n<title>97&#45;&gt;98</title>\n<path fill=\"none\" stroke=\"#000000\" d=\"M1820.4996,-712.9465C1807.8134,-701.2707 1793.6322,-688.219 1780.987,-676.5809\"/>\n<polygon fill=\"#000000\" stroke=\"#000000\" points=\"1783.0673,-673.7389 1773.3391,-669.5422 1778.3269,-678.8895 1783.0673,-673.7389\"/>\n</g>\n<!-- 99 -->\n<g id=\"node100\" class=\"node\">\n<title>99</title>\n<polygon fill=\"none\" stroke=\"#000000\" points=\"1905,-669.5 1810,-669.5 1810,-616.5 1905,-616.5 1905,-669.5\"/>\n<text text-anchor=\"middle\" x=\"1857.5\" y=\"-654.3\" font-family=\"Times,serif\" font-size=\"14.00\" fill=\"#000000\">gini = 0.0</text>\n<text text-anchor=\"middle\" x=\"1857.5\" y=\"-639.3\" font-family=\"Times,serif\" font-size=\"14.00\" fill=\"#000000\">samples = 3</text>\n<text text-anchor=\"middle\" x=\"1857.5\" y=\"-624.3\" font-family=\"Times,serif\" font-size=\"14.00\" fill=\"#000000\">value = [3, 0]</text>\n</g>\n<!-- 97&#45;&gt;99 -->\n<g id=\"edge99\" class=\"edge\">\n<title>97&#45;&gt;99</title>\n<path fill=\"none\" stroke=\"#000000\" d=\"M1857.5,-712.9465C1857.5,-702.2621 1857.5,-690.4254 1857.5,-679.5742\"/>\n<polygon fill=\"#000000\" stroke=\"#000000\" points=\"1861.0001,-679.5421 1857.5,-669.5422 1854.0001,-679.5422 1861.0001,-679.5421\"/>\n</g>\n<!-- 103 -->\n<g id=\"node104\" class=\"node\">\n<title>103</title>\n<polygon fill=\"none\" stroke=\"#000000\" points=\"1930.5,-1509 1828.5,-1509 1828.5,-1441 1930.5,-1441 1930.5,-1509\"/>\n<text text-anchor=\"middle\" x=\"1879.5\" y=\"-1493.8\" font-family=\"Times,serif\" font-size=\"14.00\" fill=\"#000000\">X[1] &lt;= 145.5</text>\n<text text-anchor=\"middle\" x=\"1879.5\" y=\"-1478.8\" font-family=\"Times,serif\" font-size=\"14.00\" fill=\"#000000\">gini = 0.375</text>\n<text text-anchor=\"middle\" x=\"1879.5\" y=\"-1463.8\" font-family=\"Times,serif\" font-size=\"14.00\" fill=\"#000000\">samples = 36</text>\n<text text-anchor=\"middle\" x=\"1879.5\" y=\"-1448.8\" font-family=\"Times,serif\" font-size=\"14.00\" fill=\"#000000\">value = [27, 9]</text>\n</g>\n<!-- 102&#45;&gt;103 -->\n<g id=\"edge103\" class=\"edge\">\n<title>102&#45;&gt;103</title>\n<path fill=\"none\" stroke=\"#000000\" d=\"M1879.5,-1544.9465C1879.5,-1536.776 1879.5,-1527.9318 1879.5,-1519.3697\"/>\n<polygon fill=\"#000000\" stroke=\"#000000\" points=\"1883.0001,-1519.13 1879.5,-1509.13 1876.0001,-1519.13 1883.0001,-1519.13\"/>\n</g>\n<!-- 118 -->\n<g id=\"node119\" class=\"node\">\n<title>118</title>\n<polygon fill=\"none\" stroke=\"#000000\" points=\"2736,-1509 2619,-1509 2619,-1441 2736,-1441 2736,-1509\"/>\n<text text-anchor=\"middle\" x=\"2677.5\" y=\"-1493.8\" font-family=\"Times,serif\" font-size=\"14.00\" fill=\"#000000\">X[1] &lt;= 158.5</text>\n<text text-anchor=\"middle\" x=\"2677.5\" y=\"-1478.8\" font-family=\"Times,serif\" font-size=\"14.00\" fill=\"#000000\">gini = 0.424</text>\n<text text-anchor=\"middle\" x=\"2677.5\" y=\"-1463.8\" font-family=\"Times,serif\" font-size=\"14.00\" fill=\"#000000\">samples = 144</text>\n<text text-anchor=\"middle\" x=\"2677.5\" y=\"-1448.8\" font-family=\"Times,serif\" font-size=\"14.00\" fill=\"#000000\">value = [44, 100]</text>\n</g>\n<!-- 102&#45;&gt;118 -->\n<g id=\"edge118\" class=\"edge\">\n<title>102&#45;&gt;118</title>\n<path fill=\"none\" stroke=\"#000000\" d=\"M1938.1788,-1571.3526C2082.4388,-1552.5518 2453.8791,-1504.1436 2608.4306,-1484.0015\"/>\n<polygon fill=\"#000000\" stroke=\"#000000\" points=\"2609.2713,-1487.4216 2618.7351,-1482.6586 2608.3667,-1480.4803 2609.2713,-1487.4216\"/>\n</g>\n<!-- 104 -->\n<g id=\"node105\" class=\"node\">\n<title>104</title>\n<polygon fill=\"none\" stroke=\"#000000\" points=\"1872.5,-1405 1770.5,-1405 1770.5,-1337 1872.5,-1337 1872.5,-1405\"/>\n<text text-anchor=\"middle\" x=\"1821.5\" y=\"-1389.8\" font-family=\"Times,serif\" font-size=\"14.00\" fill=\"#000000\">X[7] &lt;= 59.5</text>\n<text text-anchor=\"middle\" x=\"1821.5\" y=\"-1374.8\" font-family=\"Times,serif\" font-size=\"14.00\" fill=\"#000000\">gini = 0.1</text>\n<text text-anchor=\"middle\" x=\"1821.5\" y=\"-1359.8\" font-family=\"Times,serif\" font-size=\"14.00\" fill=\"#000000\">samples = 19</text>\n<text text-anchor=\"middle\" x=\"1821.5\" y=\"-1344.8\" font-family=\"Times,serif\" font-size=\"14.00\" fill=\"#000000\">value = [18, 1]</text>\n</g>\n<!-- 103&#45;&gt;104 -->\n<g id=\"edge104\" class=\"edge\">\n<title>103&#45;&gt;104</title>\n<path fill=\"none\" stroke=\"#000000\" d=\"M1860.5086,-1440.9465C1855.7017,-1432.3271 1850.4765,-1422.9579 1845.4591,-1413.9611\"/>\n<polygon fill=\"#000000\" stroke=\"#000000\" points=\"1848.4615,-1412.1589 1840.534,-1405.13 1842.348,-1415.5684 1848.4615,-1412.1589\"/>\n</g>\n<!-- 109 -->\n<g id=\"node110\" class=\"node\">\n<title>109</title>\n<polygon fill=\"none\" stroke=\"#000000\" points=\"1986,-1405 1891,-1405 1891,-1337 1986,-1337 1986,-1405\"/>\n<text text-anchor=\"middle\" x=\"1938.5\" y=\"-1389.8\" font-family=\"Times,serif\" font-size=\"14.00\" fill=\"#000000\">X[0] &lt;= 1.5</text>\n<text text-anchor=\"middle\" x=\"1938.5\" y=\"-1374.8\" font-family=\"Times,serif\" font-size=\"14.00\" fill=\"#000000\">gini = 0.498</text>\n<text text-anchor=\"middle\" x=\"1938.5\" y=\"-1359.8\" font-family=\"Times,serif\" font-size=\"14.00\" fill=\"#000000\">samples = 17</text>\n<text text-anchor=\"middle\" x=\"1938.5\" y=\"-1344.8\" font-family=\"Times,serif\" font-size=\"14.00\" fill=\"#000000\">value = [9, 8]</text>\n</g>\n<!-- 103&#45;&gt;109 -->\n<g id=\"edge109\" class=\"edge\">\n<title>103&#45;&gt;109</title>\n<path fill=\"none\" stroke=\"#000000\" d=\"M1898.8188,-1440.9465C1903.7087,-1432.3271 1909.0239,-1422.9579 1914.1278,-1413.9611\"/>\n<polygon fill=\"#000000\" stroke=\"#000000\" points=\"1917.2476,-1415.5549 1919.1378,-1405.13 1911.1592,-1412.1008 1917.2476,-1415.5549\"/>\n</g>\n<!-- 105 -->\n<g id=\"node106\" class=\"node\">\n<title>105</title>\n<polygon fill=\"none\" stroke=\"#000000\" points=\"1756.5,-1293.5 1654.5,-1293.5 1654.5,-1240.5 1756.5,-1240.5 1756.5,-1293.5\"/>\n<text text-anchor=\"middle\" x=\"1705.5\" y=\"-1278.3\" font-family=\"Times,serif\" font-size=\"14.00\" fill=\"#000000\">gini = 0.0</text>\n<text text-anchor=\"middle\" x=\"1705.5\" y=\"-1263.3\" font-family=\"Times,serif\" font-size=\"14.00\" fill=\"#000000\">samples = 16</text>\n<text text-anchor=\"middle\" x=\"1705.5\" y=\"-1248.3\" font-family=\"Times,serif\" font-size=\"14.00\" fill=\"#000000\">value = [16, 0]</text>\n</g>\n<!-- 104&#45;&gt;105 -->\n<g id=\"edge105\" class=\"edge\">\n<title>104&#45;&gt;105</title>\n<path fill=\"none\" stroke=\"#000000\" d=\"M1783.5173,-1336.9465C1770.3714,-1325.1606 1755.6618,-1311.9726 1742.5887,-1300.2519\"/>\n<polygon fill=\"#000000\" stroke=\"#000000\" points=\"1744.8869,-1297.6116 1735.1047,-1293.5422 1740.214,-1302.8236 1744.8869,-1297.6116\"/>\n</g>\n<!-- 106 -->\n<g id=\"node107\" class=\"node\">\n<title>106</title>\n<polygon fill=\"none\" stroke=\"#000000\" points=\"1870,-1301 1775,-1301 1775,-1233 1870,-1233 1870,-1301\"/>\n<text text-anchor=\"middle\" x=\"1822.5\" y=\"-1285.8\" font-family=\"Times,serif\" font-size=\"14.00\" fill=\"#000000\">X[7] &lt;= 61.0</text>\n<text text-anchor=\"middle\" x=\"1822.5\" y=\"-1270.8\" font-family=\"Times,serif\" font-size=\"14.00\" fill=\"#000000\">gini = 0.444</text>\n<text text-anchor=\"middle\" x=\"1822.5\" y=\"-1255.8\" font-family=\"Times,serif\" font-size=\"14.00\" fill=\"#000000\">samples = 3</text>\n<text text-anchor=\"middle\" x=\"1822.5\" y=\"-1240.8\" font-family=\"Times,serif\" font-size=\"14.00\" fill=\"#000000\">value = [2, 1]</text>\n</g>\n<!-- 104&#45;&gt;106 -->\n<g id=\"edge106\" class=\"edge\">\n<title>104&#45;&gt;106</title>\n<path fill=\"none\" stroke=\"#000000\" d=\"M1821.8274,-1336.9465C1821.906,-1328.776 1821.991,-1319.9318 1822.0734,-1311.3697\"/>\n<polygon fill=\"#000000\" stroke=\"#000000\" points=\"1825.5754,-1311.1632 1822.1718,-1301.13 1818.5757,-1311.0958 1825.5754,-1311.1632\"/>\n</g>\n<!-- 107 -->\n<g id=\"node108\" class=\"node\">\n<title>107</title>\n<polygon fill=\"none\" stroke=\"#000000\" points=\"1806,-1189.5 1711,-1189.5 1711,-1136.5 1806,-1136.5 1806,-1189.5\"/>\n<text text-anchor=\"middle\" x=\"1758.5\" y=\"-1174.3\" font-family=\"Times,serif\" font-size=\"14.00\" fill=\"#000000\">gini = 0.0</text>\n<text text-anchor=\"middle\" x=\"1758.5\" y=\"-1159.3\" font-family=\"Times,serif\" font-size=\"14.00\" fill=\"#000000\">samples = 1</text>\n<text text-anchor=\"middle\" x=\"1758.5\" y=\"-1144.3\" font-family=\"Times,serif\" font-size=\"14.00\" fill=\"#000000\">value = [0, 1]</text>\n</g>\n<!-- 106&#45;&gt;107 -->\n<g id=\"edge107\" class=\"edge\">\n<title>106&#45;&gt;107</title>\n<path fill=\"none\" stroke=\"#000000\" d=\"M1801.544,-1232.9465C1794.6978,-1221.8215 1787.0829,-1209.4473 1780.1843,-1198.237\"/>\n<polygon fill=\"#000000\" stroke=\"#000000\" points=\"1783.0555,-1196.2244 1774.8336,-1189.5422 1777.0939,-1199.8931 1783.0555,-1196.2244\"/>\n</g>\n<!-- 108 -->\n<g id=\"node109\" class=\"node\">\n<title>108</title>\n<polygon fill=\"none\" stroke=\"#000000\" points=\"1919,-1189.5 1824,-1189.5 1824,-1136.5 1919,-1136.5 1919,-1189.5\"/>\n<text text-anchor=\"middle\" x=\"1871.5\" y=\"-1174.3\" font-family=\"Times,serif\" font-size=\"14.00\" fill=\"#000000\">gini = 0.0</text>\n<text text-anchor=\"middle\" x=\"1871.5\" y=\"-1159.3\" font-family=\"Times,serif\" font-size=\"14.00\" fill=\"#000000\">samples = 2</text>\n<text text-anchor=\"middle\" x=\"1871.5\" y=\"-1144.3\" font-family=\"Times,serif\" font-size=\"14.00\" fill=\"#000000\">value = [2, 0]</text>\n</g>\n<!-- 106&#45;&gt;108 -->\n<g id=\"edge108\" class=\"edge\">\n<title>106&#45;&gt;108</title>\n<path fill=\"none\" stroke=\"#000000\" d=\"M1838.5444,-1232.9465C1843.6822,-1222.0418 1849.3855,-1209.9368 1854.5836,-1198.9043\"/>\n<polygon fill=\"#000000\" stroke=\"#000000\" points=\"1857.8985,-1200.0802 1858.9946,-1189.5422 1851.5662,-1197.0966 1857.8985,-1200.0802\"/>\n</g>\n<!-- 110 -->\n<g id=\"node111\" class=\"node\">\n<title>110</title>\n<polygon fill=\"none\" stroke=\"#000000\" points=\"1984,-1293.5 1889,-1293.5 1889,-1240.5 1984,-1240.5 1984,-1293.5\"/>\n<text text-anchor=\"middle\" x=\"1936.5\" y=\"-1278.3\" font-family=\"Times,serif\" font-size=\"14.00\" fill=\"#000000\">gini = 0.0</text>\n<text text-anchor=\"middle\" x=\"1936.5\" y=\"-1263.3\" font-family=\"Times,serif\" font-size=\"14.00\" fill=\"#000000\">samples = 3</text>\n<text text-anchor=\"middle\" x=\"1936.5\" y=\"-1248.3\" font-family=\"Times,serif\" font-size=\"14.00\" fill=\"#000000\">value = [3, 0]</text>\n</g>\n<!-- 109&#45;&gt;110 -->\n<g id=\"edge110\" class=\"edge\">\n<title>109&#45;&gt;110</title>\n<path fill=\"none\" stroke=\"#000000\" d=\"M1937.8451,-1336.9465C1937.6397,-1326.2621 1937.412,-1314.4254 1937.2034,-1303.5742\"/>\n<polygon fill=\"#000000\" stroke=\"#000000\" points=\"1940.7021,-1303.473 1937.0104,-1293.5422 1933.7034,-1303.6076 1940.7021,-1303.473\"/>\n</g>\n<!-- 111 -->\n<g id=\"node112\" class=\"node\">\n<title>111</title>\n<polygon fill=\"none\" stroke=\"#000000\" points=\"2097,-1301 2002,-1301 2002,-1233 2097,-1233 2097,-1301\"/>\n<text text-anchor=\"middle\" x=\"2049.5\" y=\"-1285.8\" font-family=\"Times,serif\" font-size=\"14.00\" fill=\"#000000\">X[5] &lt;= 23.1</text>\n<text text-anchor=\"middle\" x=\"2049.5\" y=\"-1270.8\" font-family=\"Times,serif\" font-size=\"14.00\" fill=\"#000000\">gini = 0.49</text>\n<text text-anchor=\"middle\" x=\"2049.5\" y=\"-1255.8\" font-family=\"Times,serif\" font-size=\"14.00\" fill=\"#000000\">samples = 14</text>\n<text text-anchor=\"middle\" x=\"2049.5\" y=\"-1240.8\" font-family=\"Times,serif\" font-size=\"14.00\" fill=\"#000000\">value = [6, 8]</text>\n</g>\n<!-- 109&#45;&gt;111 -->\n<g id=\"edge111\" class=\"edge\">\n<title>109&#45;&gt;111</title>\n<path fill=\"none\" stroke=\"#000000\" d=\"M1974.8456,-1336.9465C1984.7159,-1327.6986 1995.5075,-1317.5876 2005.741,-1307.9994\"/>\n<polygon fill=\"#000000\" stroke=\"#000000\" points=\"2008.1684,-1310.5214 2013.0728,-1301.13 2003.3823,-1305.4131 2008.1684,-1310.5214\"/>\n</g>\n<!-- 112 -->\n<g id=\"node113\" class=\"node\">\n<title>112</title>\n<polygon fill=\"none\" stroke=\"#000000\" points=\"2041,-1189.5 1946,-1189.5 1946,-1136.5 2041,-1136.5 2041,-1189.5\"/>\n<text text-anchor=\"middle\" x=\"1993.5\" y=\"-1174.3\" font-family=\"Times,serif\" font-size=\"14.00\" fill=\"#000000\">gini = 0.0</text>\n<text text-anchor=\"middle\" x=\"1993.5\" y=\"-1159.3\" font-family=\"Times,serif\" font-size=\"14.00\" fill=\"#000000\">samples = 2</text>\n<text text-anchor=\"middle\" x=\"1993.5\" y=\"-1144.3\" font-family=\"Times,serif\" font-size=\"14.00\" fill=\"#000000\">value = [2, 0]</text>\n</g>\n<!-- 111&#45;&gt;112 -->\n<g id=\"edge112\" class=\"edge\">\n<title>111&#45;&gt;112</title>\n<path fill=\"none\" stroke=\"#000000\" d=\"M2031.1635,-1232.9465C2025.2324,-1221.9316 2018.6419,-1209.6922 2012.6532,-1198.5703\"/>\n<polygon fill=\"#000000\" stroke=\"#000000\" points=\"2015.6146,-1196.6875 2007.7919,-1189.5422 2009.4513,-1200.0063 2015.6146,-1196.6875\"/>\n</g>\n<!-- 113 -->\n<g id=\"node114\" class=\"node\">\n<title>113</title>\n<polygon fill=\"none\" stroke=\"#000000\" points=\"2154,-1197 2059,-1197 2059,-1129 2154,-1129 2154,-1197\"/>\n<text text-anchor=\"middle\" x=\"2106.5\" y=\"-1181.8\" font-family=\"Times,serif\" font-size=\"14.00\" fill=\"#000000\">X[5] &lt;= 25.8</text>\n<text text-anchor=\"middle\" x=\"2106.5\" y=\"-1166.8\" font-family=\"Times,serif\" font-size=\"14.00\" fill=\"#000000\">gini = 0.444</text>\n<text text-anchor=\"middle\" x=\"2106.5\" y=\"-1151.8\" font-family=\"Times,serif\" font-size=\"14.00\" fill=\"#000000\">samples = 12</text>\n<text text-anchor=\"middle\" x=\"2106.5\" y=\"-1136.8\" font-family=\"Times,serif\" font-size=\"14.00\" fill=\"#000000\">value = [4, 8]</text>\n</g>\n<!-- 111&#45;&gt;113 -->\n<g id=\"edge113\" class=\"edge\">\n<title>111&#45;&gt;113</title>\n<path fill=\"none\" stroke=\"#000000\" d=\"M2068.1639,-1232.9465C2072.888,-1224.3271 2078.0231,-1214.9579 2082.954,-1205.9611\"/>\n<polygon fill=\"#000000\" stroke=\"#000000\" points=\"2086.0571,-1207.5815 2087.7941,-1197.13 2079.9186,-1204.2171 2086.0571,-1207.5815\"/>\n</g>\n<!-- 114 -->\n<g id=\"node115\" class=\"node\">\n<title>114</title>\n<polygon fill=\"none\" stroke=\"#000000\" points=\"2049,-1085.5 1954,-1085.5 1954,-1032.5 2049,-1032.5 2049,-1085.5\"/>\n<text text-anchor=\"middle\" x=\"2001.5\" y=\"-1070.3\" font-family=\"Times,serif\" font-size=\"14.00\" fill=\"#000000\">gini = 0.0</text>\n<text text-anchor=\"middle\" x=\"2001.5\" y=\"-1055.3\" font-family=\"Times,serif\" font-size=\"14.00\" fill=\"#000000\">samples = 6</text>\n<text text-anchor=\"middle\" x=\"2001.5\" y=\"-1040.3\" font-family=\"Times,serif\" font-size=\"14.00\" fill=\"#000000\">value = [0, 6]</text>\n</g>\n<!-- 113&#45;&gt;114 -->\n<g id=\"edge114\" class=\"edge\">\n<title>113&#45;&gt;114</title>\n<path fill=\"none\" stroke=\"#000000\" d=\"M2072.1191,-1128.9465C2060.331,-1117.2707 2047.1538,-1104.219 2035.4038,-1092.5809\"/>\n<polygon fill=\"#000000\" stroke=\"#000000\" points=\"2037.8652,-1090.0927 2028.2974,-1085.5422 2032.9392,-1095.066 2037.8652,-1090.0927\"/>\n</g>\n<!-- 115 -->\n<g id=\"node116\" class=\"node\">\n<title>115</title>\n<polygon fill=\"none\" stroke=\"#000000\" points=\"2162,-1093 2067,-1093 2067,-1025 2162,-1025 2162,-1093\"/>\n<text text-anchor=\"middle\" x=\"2114.5\" y=\"-1077.8\" font-family=\"Times,serif\" font-size=\"14.00\" fill=\"#000000\">X[7] &lt;= 34.0</text>\n<text text-anchor=\"middle\" x=\"2114.5\" y=\"-1062.8\" font-family=\"Times,serif\" font-size=\"14.00\" fill=\"#000000\">gini = 0.444</text>\n<text text-anchor=\"middle\" x=\"2114.5\" y=\"-1047.8\" font-family=\"Times,serif\" font-size=\"14.00\" fill=\"#000000\">samples = 6</text>\n<text text-anchor=\"middle\" x=\"2114.5\" y=\"-1032.8\" font-family=\"Times,serif\" font-size=\"14.00\" fill=\"#000000\">value = [4, 2]</text>\n</g>\n<!-- 113&#45;&gt;115 -->\n<g id=\"edge115\" class=\"edge\">\n<title>113&#45;&gt;115</title>\n<path fill=\"none\" stroke=\"#000000\" d=\"M2109.1195,-1128.9465C2109.748,-1120.776 2110.4283,-1111.9318 2111.0869,-1103.3697\"/>\n<polygon fill=\"#000000\" stroke=\"#000000\" points=\"2114.5973,-1103.369 2111.8746,-1093.13 2107.6179,-1102.8321 2114.5973,-1103.369\"/>\n</g>\n<!-- 116 -->\n<g id=\"node117\" class=\"node\">\n<title>116</title>\n<polygon fill=\"none\" stroke=\"#000000\" points=\"2072,-981.5 1977,-981.5 1977,-928.5 2072,-928.5 2072,-981.5\"/>\n<text text-anchor=\"middle\" x=\"2024.5\" y=\"-966.3\" font-family=\"Times,serif\" font-size=\"14.00\" fill=\"#000000\">gini = 0.0</text>\n<text text-anchor=\"middle\" x=\"2024.5\" y=\"-951.3\" font-family=\"Times,serif\" font-size=\"14.00\" fill=\"#000000\">samples = 2</text>\n<text text-anchor=\"middle\" x=\"2024.5\" y=\"-936.3\" font-family=\"Times,serif\" font-size=\"14.00\" fill=\"#000000\">value = [0, 2]</text>\n</g>\n<!-- 115&#45;&gt;116 -->\n<g id=\"edge116\" class=\"edge\">\n<title>115&#45;&gt;116</title>\n<path fill=\"none\" stroke=\"#000000\" d=\"M2085.0306,-1024.9465C2075.1172,-1013.491 2064.0576,-1000.711 2054.1318,-989.2412\"/>\n<polygon fill=\"#000000\" stroke=\"#000000\" points=\"2056.6596,-986.8135 2047.4692,-981.5422 2051.3664,-991.3942 2056.6596,-986.8135\"/>\n</g>\n<!-- 117 -->\n<g id=\"node118\" class=\"node\">\n<title>117</title>\n<polygon fill=\"none\" stroke=\"#000000\" points=\"2185,-981.5 2090,-981.5 2090,-928.5 2185,-928.5 2185,-981.5\"/>\n<text text-anchor=\"middle\" x=\"2137.5\" y=\"-966.3\" font-family=\"Times,serif\" font-size=\"14.00\" fill=\"#000000\">gini = 0.0</text>\n<text text-anchor=\"middle\" x=\"2137.5\" y=\"-951.3\" font-family=\"Times,serif\" font-size=\"14.00\" fill=\"#000000\">samples = 4</text>\n<text text-anchor=\"middle\" x=\"2137.5\" y=\"-936.3\" font-family=\"Times,serif\" font-size=\"14.00\" fill=\"#000000\">value = [4, 0]</text>\n</g>\n<!-- 115&#45;&gt;117 -->\n<g id=\"edge117\" class=\"edge\">\n<title>115&#45;&gt;117</title>\n<path fill=\"none\" stroke=\"#000000\" d=\"M2122.0311,-1024.9465C2124.394,-1014.2621 2127.0117,-1002.4254 2129.4115,-991.5742\"/>\n<polygon fill=\"#000000\" stroke=\"#000000\" points=\"2132.8881,-992.062 2131.6301,-981.5422 2126.0532,-990.5504 2132.8881,-992.062\"/>\n</g>\n<!-- 119 -->\n<g id=\"node120\" class=\"node\">\n<title>119</title>\n<polygon fill=\"none\" stroke=\"#000000\" points=\"2732.5,-1405 2622.5,-1405 2622.5,-1337 2732.5,-1337 2732.5,-1405\"/>\n<text text-anchor=\"middle\" x=\"2677.5\" y=\"-1389.8\" font-family=\"Times,serif\" font-size=\"14.00\" fill=\"#000000\">X[7] &lt;= 30.5</text>\n<text text-anchor=\"middle\" x=\"2677.5\" y=\"-1374.8\" font-family=\"Times,serif\" font-size=\"14.00\" fill=\"#000000\">gini = 0.487</text>\n<text text-anchor=\"middle\" x=\"2677.5\" y=\"-1359.8\" font-family=\"Times,serif\" font-size=\"14.00\" fill=\"#000000\">samples = 88</text>\n<text text-anchor=\"middle\" x=\"2677.5\" y=\"-1344.8\" font-family=\"Times,serif\" font-size=\"14.00\" fill=\"#000000\">value = [37, 51]</text>\n</g>\n<!-- 118&#45;&gt;119 -->\n<g id=\"edge119\" class=\"edge\">\n<title>118&#45;&gt;119</title>\n<path fill=\"none\" stroke=\"#000000\" d=\"M2677.5,-1440.9465C2677.5,-1432.776 2677.5,-1423.9318 2677.5,-1415.3697\"/>\n<polygon fill=\"#000000\" stroke=\"#000000\" points=\"2681.0001,-1415.13 2677.5,-1405.13 2674.0001,-1415.13 2681.0001,-1415.13\"/>\n</g>\n<!-- 172 -->\n<g id=\"node173\" class=\"node\">\n<title>172</title>\n<polygon fill=\"none\" stroke=\"#000000\" points=\"3626.5,-1405 3524.5,-1405 3524.5,-1337 3626.5,-1337 3626.5,-1405\"/>\n<text text-anchor=\"middle\" x=\"3575.5\" y=\"-1389.8\" font-family=\"Times,serif\" font-size=\"14.00\" fill=\"#000000\">X[6] &lt;= 1.157</text>\n<text text-anchor=\"middle\" x=\"3575.5\" y=\"-1374.8\" font-family=\"Times,serif\" font-size=\"14.00\" fill=\"#000000\">gini = 0.219</text>\n<text text-anchor=\"middle\" x=\"3575.5\" y=\"-1359.8\" font-family=\"Times,serif\" font-size=\"14.00\" fill=\"#000000\">samples = 56</text>\n<text text-anchor=\"middle\" x=\"3575.5\" y=\"-1344.8\" font-family=\"Times,serif\" font-size=\"14.00\" fill=\"#000000\">value = [7, 49]</text>\n</g>\n<!-- 118&#45;&gt;172 -->\n<g id=\"edge172\" class=\"edge\">\n<title>118&#45;&gt;172</title>\n<path fill=\"none\" stroke=\"#000000\" d=\"M2736.0739,-1468.2164C2897.8052,-1449.4858 3349.4639,-1397.1779 3514.2941,-1378.0884\"/>\n<polygon fill=\"#000000\" stroke=\"#000000\" points=\"3514.7339,-1381.561 3524.2649,-1376.9337 3513.9286,-1374.6075 3514.7339,-1381.561\"/>\n</g>\n<!-- 120 -->\n<g id=\"node121\" class=\"node\">\n<title>120</title>\n<polygon fill=\"none\" stroke=\"#000000\" points=\"2641.5,-1301 2531.5,-1301 2531.5,-1233 2641.5,-1233 2641.5,-1301\"/>\n<text text-anchor=\"middle\" x=\"2586.5\" y=\"-1285.8\" font-family=\"Times,serif\" font-size=\"14.00\" fill=\"#000000\">X[2] &lt;= 23.0</text>\n<text text-anchor=\"middle\" x=\"2586.5\" y=\"-1270.8\" font-family=\"Times,serif\" font-size=\"14.00\" fill=\"#000000\">gini = 0.49</text>\n<text text-anchor=\"middle\" x=\"2586.5\" y=\"-1255.8\" font-family=\"Times,serif\" font-size=\"14.00\" fill=\"#000000\">samples = 42</text>\n<text text-anchor=\"middle\" x=\"2586.5\" y=\"-1240.8\" font-family=\"Times,serif\" font-size=\"14.00\" fill=\"#000000\">value = [24, 18]</text>\n</g>\n<!-- 119&#45;&gt;120 -->\n<g id=\"edge120\" class=\"edge\">\n<title>119&#45;&gt;120</title>\n<path fill=\"none\" stroke=\"#000000\" d=\"M2647.7032,-1336.9465C2639.847,-1327.968 2631.2788,-1318.1758 2623.1087,-1308.8385\"/>\n<polygon fill=\"#000000\" stroke=\"#000000\" points=\"2625.5829,-1306.351 2616.3637,-1301.13 2620.3148,-1310.9606 2625.5829,-1306.351\"/>\n</g>\n<!-- 145 -->\n<g id=\"node146\" class=\"node\">\n<title>145</title>\n<polygon fill=\"none\" stroke=\"#000000\" points=\"2824.5,-1301 2714.5,-1301 2714.5,-1233 2824.5,-1233 2824.5,-1301\"/>\n<text text-anchor=\"middle\" x=\"2769.5\" y=\"-1285.8\" font-family=\"Times,serif\" font-size=\"14.00\" fill=\"#000000\">X[5] &lt;= 34.05</text>\n<text text-anchor=\"middle\" x=\"2769.5\" y=\"-1270.8\" font-family=\"Times,serif\" font-size=\"14.00\" fill=\"#000000\">gini = 0.405</text>\n<text text-anchor=\"middle\" x=\"2769.5\" y=\"-1255.8\" font-family=\"Times,serif\" font-size=\"14.00\" fill=\"#000000\">samples = 46</text>\n<text text-anchor=\"middle\" x=\"2769.5\" y=\"-1240.8\" font-family=\"Times,serif\" font-size=\"14.00\" fill=\"#000000\">value = [13, 33]</text>\n</g>\n<!-- 119&#45;&gt;145 -->\n<g id=\"edge145\" class=\"edge\">\n<title>119&#45;&gt;145</title>\n<path fill=\"none\" stroke=\"#000000\" d=\"M2707.6242,-1336.9465C2715.5668,-1327.968 2724.2291,-1318.1758 2732.489,-1308.8385\"/>\n<polygon fill=\"#000000\" stroke=\"#000000\" points=\"2735.3038,-1310.939 2739.3081,-1301.13 2730.0608,-1306.301 2735.3038,-1310.939\"/>\n</g>\n<!-- 121 -->\n<g id=\"node122\" class=\"node\">\n<title>121</title>\n<polygon fill=\"none\" stroke=\"#000000\" points=\"2513,-1189.5 2418,-1189.5 2418,-1136.5 2513,-1136.5 2513,-1189.5\"/>\n<text text-anchor=\"middle\" x=\"2465.5\" y=\"-1174.3\" font-family=\"Times,serif\" font-size=\"14.00\" fill=\"#000000\">gini = 0.0</text>\n<text text-anchor=\"middle\" x=\"2465.5\" y=\"-1159.3\" font-family=\"Times,serif\" font-size=\"14.00\" fill=\"#000000\">samples = 4</text>\n<text text-anchor=\"middle\" x=\"2465.5\" y=\"-1144.3\" font-family=\"Times,serif\" font-size=\"14.00\" fill=\"#000000\">value = [0, 4]</text>\n</g>\n<!-- 120&#45;&gt;121 -->\n<g id=\"edge121\" class=\"edge\">\n<title>120&#45;&gt;121</title>\n<path fill=\"none\" stroke=\"#000000\" d=\"M2546.8801,-1232.9465C2533.1676,-1221.1606 2517.8239,-1207.9726 2504.1873,-1196.2519\"/>\n<polygon fill=\"#000000\" stroke=\"#000000\" points=\"2506.2459,-1193.4061 2496.3808,-1189.5422 2501.6831,-1198.7147 2506.2459,-1193.4061\"/>\n</g>\n<!-- 122 -->\n<g id=\"node123\" class=\"node\">\n<title>122</title>\n<polygon fill=\"none\" stroke=\"#000000\" points=\"2641.5,-1197 2531.5,-1197 2531.5,-1129 2641.5,-1129 2641.5,-1197\"/>\n<text text-anchor=\"middle\" x=\"2586.5\" y=\"-1181.8\" font-family=\"Times,serif\" font-size=\"14.00\" fill=\"#000000\">X[2] &lt;= 88.0</text>\n<text text-anchor=\"middle\" x=\"2586.5\" y=\"-1166.8\" font-family=\"Times,serif\" font-size=\"14.00\" fill=\"#000000\">gini = 0.465</text>\n<text text-anchor=\"middle\" x=\"2586.5\" y=\"-1151.8\" font-family=\"Times,serif\" font-size=\"14.00\" fill=\"#000000\">samples = 38</text>\n<text text-anchor=\"middle\" x=\"2586.5\" y=\"-1136.8\" font-family=\"Times,serif\" font-size=\"14.00\" fill=\"#000000\">value = [24, 14]</text>\n</g>\n<!-- 120&#45;&gt;122 -->\n<g id=\"edge122\" class=\"edge\">\n<title>120&#45;&gt;122</title>\n<path fill=\"none\" stroke=\"#000000\" d=\"M2586.5,-1232.9465C2586.5,-1224.776 2586.5,-1215.9318 2586.5,-1207.3697\"/>\n<polygon fill=\"#000000\" stroke=\"#000000\" points=\"2590.0001,-1207.13 2586.5,-1197.13 2583.0001,-1207.13 2590.0001,-1207.13\"/>\n</g>\n<!-- 123 -->\n<g id=\"node124\" class=\"node\">\n<title>123</title>\n<polygon fill=\"none\" stroke=\"#000000\" points=\"2513.5,-1093 2403.5,-1093 2403.5,-1025 2513.5,-1025 2513.5,-1093\"/>\n<text text-anchor=\"middle\" x=\"2458.5\" y=\"-1077.8\" font-family=\"Times,serif\" font-size=\"14.00\" fill=\"#000000\">X[2] &lt;= 72.0</text>\n<text text-anchor=\"middle\" x=\"2458.5\" y=\"-1062.8\" font-family=\"Times,serif\" font-size=\"14.00\" fill=\"#000000\">gini = 0.444</text>\n<text text-anchor=\"middle\" x=\"2458.5\" y=\"-1047.8\" font-family=\"Times,serif\" font-size=\"14.00\" fill=\"#000000\">samples = 36</text>\n<text text-anchor=\"middle\" x=\"2458.5\" y=\"-1032.8\" font-family=\"Times,serif\" font-size=\"14.00\" fill=\"#000000\">value = [24, 12]</text>\n</g>\n<!-- 122&#45;&gt;123 -->\n<g id=\"edge123\" class=\"edge\">\n<title>122&#45;&gt;123</title>\n<path fill=\"none\" stroke=\"#000000\" d=\"M2544.588,-1128.9465C2532.985,-1119.519 2520.2779,-1109.1946 2508.2741,-1099.4415\"/>\n<polygon fill=\"#000000\" stroke=\"#000000\" points=\"2510.4744,-1096.7196 2500.5061,-1093.13 2506.0602,-1102.1524 2510.4744,-1096.7196\"/>\n</g>\n<!-- 144 -->\n<g id=\"node145\" class=\"node\">\n<title>144</title>\n<polygon fill=\"none\" stroke=\"#000000\" points=\"2634,-1085.5 2539,-1085.5 2539,-1032.5 2634,-1032.5 2634,-1085.5\"/>\n<text text-anchor=\"middle\" x=\"2586.5\" y=\"-1070.3\" font-family=\"Times,serif\" font-size=\"14.00\" fill=\"#000000\">gini = 0.0</text>\n<text text-anchor=\"middle\" x=\"2586.5\" y=\"-1055.3\" font-family=\"Times,serif\" font-size=\"14.00\" fill=\"#000000\">samples = 2</text>\n<text text-anchor=\"middle\" x=\"2586.5\" y=\"-1040.3\" font-family=\"Times,serif\" font-size=\"14.00\" fill=\"#000000\">value = [0, 2]</text>\n</g>\n<!-- 122&#45;&gt;144 -->\n<g id=\"edge144\" class=\"edge\">\n<title>122&#45;&gt;144</title>\n<path fill=\"none\" stroke=\"#000000\" d=\"M2586.5,-1128.9465C2586.5,-1118.2621 2586.5,-1106.4254 2586.5,-1095.5742\"/>\n<polygon fill=\"#000000\" stroke=\"#000000\" points=\"2590.0001,-1095.5421 2586.5,-1085.5422 2583.0001,-1095.5422 2590.0001,-1095.5421\"/>\n</g>\n<!-- 124 -->\n<g id=\"node125\" class=\"node\">\n<title>124</title>\n<polygon fill=\"none\" stroke=\"#000000\" points=\"2360.5,-989 2250.5,-989 2250.5,-921 2360.5,-921 2360.5,-989\"/>\n<text text-anchor=\"middle\" x=\"2305.5\" y=\"-973.8\" font-family=\"Times,serif\" font-size=\"14.00\" fill=\"#000000\">X[5] &lt;= 33.75</text>\n<text text-anchor=\"middle\" x=\"2305.5\" y=\"-958.8\" font-family=\"Times,serif\" font-size=\"14.00\" fill=\"#000000\">gini = 0.5</text>\n<text text-anchor=\"middle\" x=\"2305.5\" y=\"-943.8\" font-family=\"Times,serif\" font-size=\"14.00\" fill=\"#000000\">samples = 20</text>\n<text text-anchor=\"middle\" x=\"2305.5\" y=\"-928.8\" font-family=\"Times,serif\" font-size=\"14.00\" fill=\"#000000\">value = [10, 10]</text>\n</g>\n<!-- 123&#45;&gt;124 -->\n<g id=\"edge124\" class=\"edge\">\n<title>123&#45;&gt;124</title>\n<path fill=\"none\" stroke=\"#000000\" d=\"M2408.4021,-1024.9465C2394.2687,-1015.3395 2378.7648,-1004.8009 2364.1767,-994.8848\"/>\n<polygon fill=\"#000000\" stroke=\"#000000\" points=\"2365.9483,-991.8571 2355.7105,-989.13 2362.0132,-997.6463 2365.9483,-991.8571\"/>\n</g>\n<!-- 137 -->\n<g id=\"node138\" class=\"node\">\n<title>137</title>\n<polygon fill=\"none\" stroke=\"#000000\" points=\"2509.5,-989 2407.5,-989 2407.5,-921 2509.5,-921 2509.5,-989\"/>\n<text text-anchor=\"middle\" x=\"2458.5\" y=\"-973.8\" font-family=\"Times,serif\" font-size=\"14.00\" fill=\"#000000\">X[1] &lt;= 157.5</text>\n<text text-anchor=\"middle\" x=\"2458.5\" y=\"-958.8\" font-family=\"Times,serif\" font-size=\"14.00\" fill=\"#000000\">gini = 0.219</text>\n<text text-anchor=\"middle\" x=\"2458.5\" y=\"-943.8\" font-family=\"Times,serif\" font-size=\"14.00\" fill=\"#000000\">samples = 16</text>\n<text text-anchor=\"middle\" x=\"2458.5\" y=\"-928.8\" font-family=\"Times,serif\" font-size=\"14.00\" fill=\"#000000\">value = [14, 2]</text>\n</g>\n<!-- 123&#45;&gt;137 -->\n<g id=\"edge137\" class=\"edge\">\n<title>123&#45;&gt;137</title>\n<path fill=\"none\" stroke=\"#000000\" d=\"M2458.5,-1024.9465C2458.5,-1016.776 2458.5,-1007.9318 2458.5,-999.3697\"/>\n<polygon fill=\"#000000\" stroke=\"#000000\" points=\"2462.0001,-999.13 2458.5,-989.13 2455.0001,-999.13 2462.0001,-999.13\"/>\n</g>\n<!-- 125 -->\n<g id=\"node126\" class=\"node\">\n<title>125</title>\n<polygon fill=\"none\" stroke=\"#000000\" points=\"2134,-885 2033,-885 2033,-817 2134,-817 2134,-885\"/>\n<text text-anchor=\"middle\" x=\"2083.5\" y=\"-869.8\" font-family=\"Times,serif\" font-size=\"14.00\" fill=\"#000000\">X[5] &lt;= 31.05</text>\n<text text-anchor=\"middle\" x=\"2083.5\" y=\"-854.8\" font-family=\"Times,serif\" font-size=\"14.00\" fill=\"#000000\">gini = 0.397</text>\n<text text-anchor=\"middle\" x=\"2083.5\" y=\"-839.8\" font-family=\"Times,serif\" font-size=\"14.00\" fill=\"#000000\">samples = 11</text>\n<text text-anchor=\"middle\" x=\"2083.5\" y=\"-824.8\" font-family=\"Times,serif\" font-size=\"14.00\" fill=\"#000000\">value = [8, 3]</text>\n</g>\n<!-- 124&#45;&gt;125 -->\n<g id=\"edge125\" class=\"edge\">\n<title>124&#45;&gt;125</title>\n<path fill=\"none\" stroke=\"#000000\" d=\"M2250.3384,-929.1585C2217.8245,-913.9268 2176.6676,-894.6461 2143.3673,-879.046\"/>\n<polygon fill=\"#000000\" stroke=\"#000000\" points=\"2144.7374,-875.8228 2134.197,-874.75 2141.7678,-882.1617 2144.7374,-875.8228\"/>\n</g>\n<!-- 132 -->\n<g id=\"node133\" class=\"node\">\n<title>132</title>\n<polygon fill=\"none\" stroke=\"#000000\" points=\"2356,-885 2255,-885 2255,-817 2356,-817 2356,-885\"/>\n<text text-anchor=\"middle\" x=\"2305.5\" y=\"-869.8\" font-family=\"Times,serif\" font-size=\"14.00\" fill=\"#000000\">X[6] &lt;= 0.535</text>\n<text text-anchor=\"middle\" x=\"2305.5\" y=\"-854.8\" font-family=\"Times,serif\" font-size=\"14.00\" fill=\"#000000\">gini = 0.346</text>\n<text text-anchor=\"middle\" x=\"2305.5\" y=\"-839.8\" font-family=\"Times,serif\" font-size=\"14.00\" fill=\"#000000\">samples = 9</text>\n<text text-anchor=\"middle\" x=\"2305.5\" y=\"-824.8\" font-family=\"Times,serif\" font-size=\"14.00\" fill=\"#000000\">value = [2, 7]</text>\n</g>\n<!-- 124&#45;&gt;132 -->\n<g id=\"edge132\" class=\"edge\">\n<title>124&#45;&gt;132</title>\n<path fill=\"none\" stroke=\"#000000\" d=\"M2305.5,-920.9465C2305.5,-912.776 2305.5,-903.9318 2305.5,-895.3697\"/>\n<polygon fill=\"#000000\" stroke=\"#000000\" points=\"2309.0001,-895.13 2305.5,-885.13 2302.0001,-895.13 2309.0001,-895.13\"/>\n</g>\n<!-- 126 -->\n<g id=\"node127\" class=\"node\">\n<title>126</title>\n<polygon fill=\"none\" stroke=\"#000000\" points=\"2018,-781 1923,-781 1923,-713 2018,-713 2018,-781\"/>\n<text text-anchor=\"middle\" x=\"1970.5\" y=\"-765.8\" font-family=\"Times,serif\" font-size=\"14.00\" fill=\"#000000\">X[0] &lt;= 1.5</text>\n<text text-anchor=\"middle\" x=\"1970.5\" y=\"-750.8\" font-family=\"Times,serif\" font-size=\"14.00\" fill=\"#000000\">gini = 0.5</text>\n<text text-anchor=\"middle\" x=\"1970.5\" y=\"-735.8\" font-family=\"Times,serif\" font-size=\"14.00\" fill=\"#000000\">samples = 6</text>\n<text text-anchor=\"middle\" x=\"1970.5\" y=\"-720.8\" font-family=\"Times,serif\" font-size=\"14.00\" fill=\"#000000\">value = [3, 3]</text>\n</g>\n<!-- 125&#45;&gt;126 -->\n<g id=\"edge126\" class=\"edge\">\n<title>125&#45;&gt;126</title>\n<path fill=\"none\" stroke=\"#000000\" d=\"M2046.4996,-816.9465C2036.4514,-807.6986 2025.4653,-797.5876 2015.0474,-787.9994\"/>\n<polygon fill=\"#000000\" stroke=\"#000000\" points=\"2017.3118,-785.3267 2007.5836,-781.13 2012.5714,-790.4773 2017.3118,-785.3267\"/>\n</g>\n<!-- 131 -->\n<g id=\"node132\" class=\"node\">\n<title>131</title>\n<polygon fill=\"none\" stroke=\"#000000\" points=\"2131,-773.5 2036,-773.5 2036,-720.5 2131,-720.5 2131,-773.5\"/>\n<text text-anchor=\"middle\" x=\"2083.5\" y=\"-758.3\" font-family=\"Times,serif\" font-size=\"14.00\" fill=\"#000000\">gini = 0.0</text>\n<text text-anchor=\"middle\" x=\"2083.5\" y=\"-743.3\" font-family=\"Times,serif\" font-size=\"14.00\" fill=\"#000000\">samples = 5</text>\n<text text-anchor=\"middle\" x=\"2083.5\" y=\"-728.3\" font-family=\"Times,serif\" font-size=\"14.00\" fill=\"#000000\">value = [5, 0]</text>\n</g>\n<!-- 125&#45;&gt;131 -->\n<g id=\"edge131\" class=\"edge\">\n<title>125&#45;&gt;131</title>\n<path fill=\"none\" stroke=\"#000000\" d=\"M2083.5,-816.9465C2083.5,-806.2621 2083.5,-794.4254 2083.5,-783.5742\"/>\n<polygon fill=\"#000000\" stroke=\"#000000\" points=\"2087.0001,-783.5421 2083.5,-773.5422 2080.0001,-783.5422 2087.0001,-783.5421\"/>\n</g>\n<!-- 127 -->\n<g id=\"node128\" class=\"node\">\n<title>127</title>\n<polygon fill=\"none\" stroke=\"#000000\" points=\"2018,-669.5 1923,-669.5 1923,-616.5 2018,-616.5 2018,-669.5\"/>\n<text text-anchor=\"middle\" x=\"1970.5\" y=\"-654.3\" font-family=\"Times,serif\" font-size=\"14.00\" fill=\"#000000\">gini = 0.0</text>\n<text text-anchor=\"middle\" x=\"1970.5\" y=\"-639.3\" font-family=\"Times,serif\" font-size=\"14.00\" fill=\"#000000\">samples = 2</text>\n<text text-anchor=\"middle\" x=\"1970.5\" y=\"-624.3\" font-family=\"Times,serif\" font-size=\"14.00\" fill=\"#000000\">value = [2, 0]</text>\n</g>\n<!-- 126&#45;&gt;127 -->\n<g id=\"edge127\" class=\"edge\">\n<title>126&#45;&gt;127</title>\n<path fill=\"none\" stroke=\"#000000\" d=\"M1970.5,-712.9465C1970.5,-702.2621 1970.5,-690.4254 1970.5,-679.5742\"/>\n<polygon fill=\"#000000\" stroke=\"#000000\" points=\"1974.0001,-679.5421 1970.5,-669.5422 1967.0001,-679.5422 1974.0001,-679.5421\"/>\n</g>\n<!-- 128 -->\n<g id=\"node129\" class=\"node\">\n<title>128</title>\n<polygon fill=\"none\" stroke=\"#000000\" points=\"2131,-677 2036,-677 2036,-609 2131,-609 2131,-677\"/>\n<text text-anchor=\"middle\" x=\"2083.5\" y=\"-661.8\" font-family=\"Times,serif\" font-size=\"14.00\" fill=\"#000000\">X[0] &lt;= 4.5</text>\n<text text-anchor=\"middle\" x=\"2083.5\" y=\"-646.8\" font-family=\"Times,serif\" font-size=\"14.00\" fill=\"#000000\">gini = 0.375</text>\n<text text-anchor=\"middle\" x=\"2083.5\" y=\"-631.8\" font-family=\"Times,serif\" font-size=\"14.00\" fill=\"#000000\">samples = 4</text>\n<text text-anchor=\"middle\" x=\"2083.5\" y=\"-616.8\" font-family=\"Times,serif\" font-size=\"14.00\" fill=\"#000000\">value = [1, 3]</text>\n</g>\n<!-- 126&#45;&gt;128 -->\n<g id=\"edge128\" class=\"edge\">\n<title>126&#45;&gt;128</title>\n<path fill=\"none\" stroke=\"#000000\" d=\"M2007.5004,-712.9465C2017.5486,-703.6986 2028.5347,-693.5876 2038.9526,-683.9994\"/>\n<polygon fill=\"#000000\" stroke=\"#000000\" points=\"2041.4286,-686.4773 2046.4164,-677.13 2036.6882,-681.3267 2041.4286,-686.4773\"/>\n</g>\n<!-- 129 -->\n<g id=\"node130\" class=\"node\">\n<title>129</title>\n<polygon fill=\"none\" stroke=\"#000000\" points=\"2075,-565.5 1980,-565.5 1980,-512.5 2075,-512.5 2075,-565.5\"/>\n<text text-anchor=\"middle\" x=\"2027.5\" y=\"-550.3\" font-family=\"Times,serif\" font-size=\"14.00\" fill=\"#000000\">gini = 0.0</text>\n<text text-anchor=\"middle\" x=\"2027.5\" y=\"-535.3\" font-family=\"Times,serif\" font-size=\"14.00\" fill=\"#000000\">samples = 3</text>\n<text text-anchor=\"middle\" x=\"2027.5\" y=\"-520.3\" font-family=\"Times,serif\" font-size=\"14.00\" fill=\"#000000\">value = [0, 3]</text>\n</g>\n<!-- 128&#45;&gt;129 -->\n<g id=\"edge129\" class=\"edge\">\n<title>128&#45;&gt;129</title>\n<path fill=\"none\" stroke=\"#000000\" d=\"M2065.1635,-608.9465C2059.2324,-597.9316 2052.6419,-585.6922 2046.6532,-574.5703\"/>\n<polygon fill=\"#000000\" stroke=\"#000000\" points=\"2049.6146,-572.6875 2041.7919,-565.5422 2043.4513,-576.0063 2049.6146,-572.6875\"/>\n</g>\n<!-- 130 -->\n<g id=\"node131\" class=\"node\">\n<title>130</title>\n<polygon fill=\"none\" stroke=\"#000000\" points=\"2188,-565.5 2093,-565.5 2093,-512.5 2188,-512.5 2188,-565.5\"/>\n<text text-anchor=\"middle\" x=\"2140.5\" y=\"-550.3\" font-family=\"Times,serif\" font-size=\"14.00\" fill=\"#000000\">gini = 0.0</text>\n<text text-anchor=\"middle\" x=\"2140.5\" y=\"-535.3\" font-family=\"Times,serif\" font-size=\"14.00\" fill=\"#000000\">samples = 1</text>\n<text text-anchor=\"middle\" x=\"2140.5\" y=\"-520.3\" font-family=\"Times,serif\" font-size=\"14.00\" fill=\"#000000\">value = [1, 0]</text>\n</g>\n<!-- 128&#45;&gt;130 -->\n<g id=\"edge130\" class=\"edge\">\n<title>128&#45;&gt;130</title>\n<path fill=\"none\" stroke=\"#000000\" d=\"M2102.1639,-608.9465C2108.2009,-597.9316 2114.9091,-585.6922 2121.0047,-574.5703\"/>\n<polygon fill=\"#000000\" stroke=\"#000000\" points=\"2124.2158,-575.9936 2125.9529,-565.5422 2118.0773,-572.6292 2124.2158,-575.9936\"/>\n</g>\n<!-- 133 -->\n<g id=\"node134\" class=\"node\">\n<title>133</title>\n<polygon fill=\"none\" stroke=\"#000000\" points=\"2244,-773.5 2149,-773.5 2149,-720.5 2244,-720.5 2244,-773.5\"/>\n<text text-anchor=\"middle\" x=\"2196.5\" y=\"-758.3\" font-family=\"Times,serif\" font-size=\"14.00\" fill=\"#000000\">gini = 0.0</text>\n<text text-anchor=\"middle\" x=\"2196.5\" y=\"-743.3\" font-family=\"Times,serif\" font-size=\"14.00\" fill=\"#000000\">samples = 6</text>\n<text text-anchor=\"middle\" x=\"2196.5\" y=\"-728.3\" font-family=\"Times,serif\" font-size=\"14.00\" fill=\"#000000\">value = [0, 6]</text>\n</g>\n<!-- 132&#45;&gt;133 -->\n<g id=\"edge133\" class=\"edge\">\n<title>132&#45;&gt;133</title>\n<path fill=\"none\" stroke=\"#000000\" d=\"M2269.8093,-816.9465C2257.5722,-805.2707 2243.893,-792.219 2231.6954,-780.5809\"/>\n<polygon fill=\"#000000\" stroke=\"#000000\" points=\"2233.9694,-777.9131 2224.3182,-773.5422 2229.1372,-782.9777 2233.9694,-777.9131\"/>\n</g>\n<!-- 134 -->\n<g id=\"node135\" class=\"node\">\n<title>134</title>\n<polygon fill=\"none\" stroke=\"#000000\" points=\"2357,-781 2262,-781 2262,-713 2357,-713 2357,-781\"/>\n<text text-anchor=\"middle\" x=\"2309.5\" y=\"-765.8\" font-family=\"Times,serif\" font-size=\"14.00\" fill=\"#000000\">X[7] &lt;= 28.5</text>\n<text text-anchor=\"middle\" x=\"2309.5\" y=\"-750.8\" font-family=\"Times,serif\" font-size=\"14.00\" fill=\"#000000\">gini = 0.444</text>\n<text text-anchor=\"middle\" x=\"2309.5\" y=\"-735.8\" font-family=\"Times,serif\" font-size=\"14.00\" fill=\"#000000\">samples = 3</text>\n<text text-anchor=\"middle\" x=\"2309.5\" y=\"-720.8\" font-family=\"Times,serif\" font-size=\"14.00\" fill=\"#000000\">value = [2, 1]</text>\n</g>\n<!-- 132&#45;&gt;134 -->\n<g id=\"edge134\" class=\"edge\">\n<title>132&#45;&gt;134</title>\n<path fill=\"none\" stroke=\"#000000\" d=\"M2306.8097,-816.9465C2307.124,-808.776 2307.4642,-799.9318 2307.7935,-791.3697\"/>\n<polygon fill=\"#000000\" stroke=\"#000000\" points=\"2311.3003,-791.2572 2308.1873,-781.13 2304.3055,-790.9881 2311.3003,-791.2572\"/>\n</g>\n<!-- 135 -->\n<g id=\"node136\" class=\"node\">\n<title>135</title>\n<polygon fill=\"none\" stroke=\"#000000\" points=\"2300,-669.5 2205,-669.5 2205,-616.5 2300,-616.5 2300,-669.5\"/>\n<text text-anchor=\"middle\" x=\"2252.5\" y=\"-654.3\" font-family=\"Times,serif\" font-size=\"14.00\" fill=\"#000000\">gini = 0.0</text>\n<text text-anchor=\"middle\" x=\"2252.5\" y=\"-639.3\" font-family=\"Times,serif\" font-size=\"14.00\" fill=\"#000000\">samples = 2</text>\n<text text-anchor=\"middle\" x=\"2252.5\" y=\"-624.3\" font-family=\"Times,serif\" font-size=\"14.00\" fill=\"#000000\">value = [2, 0]</text>\n</g>\n<!-- 134&#45;&gt;135 -->\n<g id=\"edge135\" class=\"edge\">\n<title>134&#45;&gt;135</title>\n<path fill=\"none\" stroke=\"#000000\" d=\"M2290.8361,-712.9465C2284.7991,-701.9316 2278.0909,-689.6922 2271.9953,-678.5703\"/>\n<polygon fill=\"#000000\" stroke=\"#000000\" points=\"2274.9227,-676.6292 2267.0471,-669.5422 2268.7842,-679.9936 2274.9227,-676.6292\"/>\n</g>\n<!-- 136 -->\n<g id=\"node137\" class=\"node\">\n<title>136</title>\n<polygon fill=\"none\" stroke=\"#000000\" points=\"2413,-669.5 2318,-669.5 2318,-616.5 2413,-616.5 2413,-669.5\"/>\n<text text-anchor=\"middle\" x=\"2365.5\" y=\"-654.3\" font-family=\"Times,serif\" font-size=\"14.00\" fill=\"#000000\">gini = 0.0</text>\n<text text-anchor=\"middle\" x=\"2365.5\" y=\"-639.3\" font-family=\"Times,serif\" font-size=\"14.00\" fill=\"#000000\">samples = 1</text>\n<text text-anchor=\"middle\" x=\"2365.5\" y=\"-624.3\" font-family=\"Times,serif\" font-size=\"14.00\" fill=\"#000000\">value = [0, 1]</text>\n</g>\n<!-- 134&#45;&gt;136 -->\n<g id=\"edge136\" class=\"edge\">\n<title>134&#45;&gt;136</title>\n<path fill=\"none\" stroke=\"#000000\" d=\"M2327.8365,-712.9465C2333.7676,-701.9316 2340.3581,-689.6922 2346.3468,-678.5703\"/>\n<polygon fill=\"#000000\" stroke=\"#000000\" points=\"2349.5487,-680.0063 2351.2081,-669.5422 2343.3854,-676.6875 2349.5487,-680.0063\"/>\n</g>\n<!-- 138 -->\n<g id=\"node139\" class=\"node\">\n<title>138</title>\n<polygon fill=\"none\" stroke=\"#000000\" points=\"2478.5,-885 2376.5,-885 2376.5,-817 2478.5,-817 2478.5,-885\"/>\n<text text-anchor=\"middle\" x=\"2427.5\" y=\"-869.8\" font-family=\"Times,serif\" font-size=\"14.00\" fill=\"#000000\">X[5] &lt;= 43.4</text>\n<text text-anchor=\"middle\" x=\"2427.5\" y=\"-854.8\" font-family=\"Times,serif\" font-size=\"14.00\" fill=\"#000000\">gini = 0.124</text>\n<text text-anchor=\"middle\" x=\"2427.5\" y=\"-839.8\" font-family=\"Times,serif\" font-size=\"14.00\" fill=\"#000000\">samples = 15</text>\n<text text-anchor=\"middle\" x=\"2427.5\" y=\"-824.8\" font-family=\"Times,serif\" font-size=\"14.00\" fill=\"#000000\">value = [14, 1]</text>\n</g>\n<!-- 137&#45;&gt;138 -->\n<g id=\"edge138\" class=\"edge\">\n<title>137&#45;&gt;138</title>\n<path fill=\"none\" stroke=\"#000000\" d=\"M2448.3494,-920.9465C2445.8605,-912.5965 2443.1618,-903.5427 2440.5574,-894.8056\"/>\n<polygon fill=\"#000000\" stroke=\"#000000\" points=\"2443.8842,-893.7135 2437.6734,-885.13 2437.1758,-895.7131 2443.8842,-893.7135\"/>\n</g>\n<!-- 143 -->\n<g id=\"node144\" class=\"node\">\n<title>143</title>\n<polygon fill=\"none\" stroke=\"#000000\" points=\"2592,-877.5 2497,-877.5 2497,-824.5 2592,-824.5 2592,-877.5\"/>\n<text text-anchor=\"middle\" x=\"2544.5\" y=\"-862.3\" font-family=\"Times,serif\" font-size=\"14.00\" fill=\"#000000\">gini = 0.0</text>\n<text text-anchor=\"middle\" x=\"2544.5\" y=\"-847.3\" font-family=\"Times,serif\" font-size=\"14.00\" fill=\"#000000\">samples = 1</text>\n<text text-anchor=\"middle\" x=\"2544.5\" y=\"-832.3\" font-family=\"Times,serif\" font-size=\"14.00\" fill=\"#000000\">value = [0, 1]</text>\n</g>\n<!-- 137&#45;&gt;143 -->\n<g id=\"edge143\" class=\"edge\">\n<title>137&#45;&gt;143</title>\n<path fill=\"none\" stroke=\"#000000\" d=\"M2486.6596,-920.9465C2496.0413,-909.6012 2506.4973,-896.9567 2515.9113,-885.5724\"/>\n<polygon fill=\"#000000\" stroke=\"#000000\" points=\"2518.8763,-887.4791 2522.5517,-877.5422 2513.4817,-883.0182 2518.8763,-887.4791\"/>\n</g>\n<!-- 139 -->\n<g id=\"node140\" class=\"node\">\n<title>139</title>\n<polygon fill=\"none\" stroke=\"#000000\" points=\"2477.5,-773.5 2375.5,-773.5 2375.5,-720.5 2477.5,-720.5 2477.5,-773.5\"/>\n<text text-anchor=\"middle\" x=\"2426.5\" y=\"-758.3\" font-family=\"Times,serif\" font-size=\"14.00\" fill=\"#000000\">gini = 0.0</text>\n<text text-anchor=\"middle\" x=\"2426.5\" y=\"-743.3\" font-family=\"Times,serif\" font-size=\"14.00\" fill=\"#000000\">samples = 13</text>\n<text text-anchor=\"middle\" x=\"2426.5\" y=\"-728.3\" font-family=\"Times,serif\" font-size=\"14.00\" fill=\"#000000\">value = [13, 0]</text>\n</g>\n<!-- 138&#45;&gt;139 -->\n<g id=\"edge139\" class=\"edge\">\n<title>138&#45;&gt;139</title>\n<path fill=\"none\" stroke=\"#000000\" d=\"M2427.1726,-816.9465C2427.0698,-806.2621 2426.956,-794.4254 2426.8517,-783.5742\"/>\n<polygon fill=\"#000000\" stroke=\"#000000\" points=\"2430.3513,-783.508 2426.7552,-773.5422 2423.3516,-783.5754 2430.3513,-783.508\"/>\n</g>\n<!-- 140 -->\n<g id=\"node141\" class=\"node\">\n<title>140</title>\n<polygon fill=\"none\" stroke=\"#000000\" points=\"2591,-781 2496,-781 2496,-713 2591,-713 2591,-781\"/>\n<text text-anchor=\"middle\" x=\"2543.5\" y=\"-765.8\" font-family=\"Times,serif\" font-size=\"14.00\" fill=\"#000000\">X[3] &lt;= 20.5</text>\n<text text-anchor=\"middle\" x=\"2543.5\" y=\"-750.8\" font-family=\"Times,serif\" font-size=\"14.00\" fill=\"#000000\">gini = 0.5</text>\n<text text-anchor=\"middle\" x=\"2543.5\" y=\"-735.8\" font-family=\"Times,serif\" font-size=\"14.00\" fill=\"#000000\">samples = 2</text>\n<text text-anchor=\"middle\" x=\"2543.5\" y=\"-720.8\" font-family=\"Times,serif\" font-size=\"14.00\" fill=\"#000000\">value = [1, 1]</text>\n</g>\n<!-- 138&#45;&gt;140 -->\n<g id=\"edge140\" class=\"edge\">\n<title>138&#45;&gt;140</title>\n<path fill=\"none\" stroke=\"#000000\" d=\"M2465.4827,-816.9465C2475.7977,-807.6986 2487.0754,-797.5876 2497.7699,-787.9994\"/>\n<polygon fill=\"#000000\" stroke=\"#000000\" points=\"2500.3226,-790.4115 2505.4319,-781.13 2495.6498,-785.1995 2500.3226,-790.4115\"/>\n</g>\n<!-- 141 -->\n<g id=\"node142\" class=\"node\">\n<title>141</title>\n<polygon fill=\"none\" stroke=\"#000000\" points=\"2559,-669.5 2464,-669.5 2464,-616.5 2559,-616.5 2559,-669.5\"/>\n<text text-anchor=\"middle\" x=\"2511.5\" y=\"-654.3\" font-family=\"Times,serif\" font-size=\"14.00\" fill=\"#000000\">gini = 0.0</text>\n<text text-anchor=\"middle\" x=\"2511.5\" y=\"-639.3\" font-family=\"Times,serif\" font-size=\"14.00\" fill=\"#000000\">samples = 1</text>\n<text text-anchor=\"middle\" x=\"2511.5\" y=\"-624.3\" font-family=\"Times,serif\" font-size=\"14.00\" fill=\"#000000\">value = [0, 1]</text>\n</g>\n<!-- 140&#45;&gt;141 -->\n<g id=\"edge141\" class=\"edge\">\n<title>140&#45;&gt;141</title>\n<path fill=\"none\" stroke=\"#000000\" d=\"M2533.022,-712.9465C2529.7006,-702.1519 2526.0173,-690.1813 2522.6504,-679.2389\"/>\n<polygon fill=\"#000000\" stroke=\"#000000\" points=\"2525.953,-678.0706 2519.6668,-669.5422 2519.2625,-680.1293 2525.953,-678.0706\"/>\n</g>\n<!-- 142 -->\n<g id=\"node143\" class=\"node\">\n<title>142</title>\n<polygon fill=\"none\" stroke=\"#000000\" points=\"2672,-669.5 2577,-669.5 2577,-616.5 2672,-616.5 2672,-669.5\"/>\n<text text-anchor=\"middle\" x=\"2624.5\" y=\"-654.3\" font-family=\"Times,serif\" font-size=\"14.00\" fill=\"#000000\">gini = 0.0</text>\n<text text-anchor=\"middle\" x=\"2624.5\" y=\"-639.3\" font-family=\"Times,serif\" font-size=\"14.00\" fill=\"#000000\">samples = 1</text>\n<text text-anchor=\"middle\" x=\"2624.5\" y=\"-624.3\" font-family=\"Times,serif\" font-size=\"14.00\" fill=\"#000000\">value = [1, 0]</text>\n</g>\n<!-- 140&#45;&gt;142 -->\n<g id=\"edge142\" class=\"edge\">\n<title>140&#45;&gt;142</title>\n<path fill=\"none\" stroke=\"#000000\" d=\"M2570.0224,-712.9465C2578.8587,-701.6012 2588.7068,-688.9567 2597.5734,-677.5724\"/>\n<polygon fill=\"#000000\" stroke=\"#000000\" points=\"2600.4444,-679.5823 2603.8277,-669.5422 2594.9217,-675.281 2600.4444,-679.5823\"/>\n</g>\n<!-- 146 -->\n<g id=\"node147\" class=\"node\">\n<title>146</title>\n<polygon fill=\"none\" stroke=\"#000000\" points=\"2820.5,-1197 2718.5,-1197 2718.5,-1129 2820.5,-1129 2820.5,-1197\"/>\n<text text-anchor=\"middle\" x=\"2769.5\" y=\"-1181.8\" font-family=\"Times,serif\" font-size=\"14.00\" fill=\"#000000\">X[2] &lt;= 75.0</text>\n<text text-anchor=\"middle\" x=\"2769.5\" y=\"-1166.8\" font-family=\"Times,serif\" font-size=\"14.00\" fill=\"#000000\">gini = 0.49</text>\n<text text-anchor=\"middle\" x=\"2769.5\" y=\"-1151.8\" font-family=\"Times,serif\" font-size=\"14.00\" fill=\"#000000\">samples = 21</text>\n<text text-anchor=\"middle\" x=\"2769.5\" y=\"-1136.8\" font-family=\"Times,serif\" font-size=\"14.00\" fill=\"#000000\">value = [9, 12]</text>\n</g>\n<!-- 145&#45;&gt;146 -->\n<g id=\"edge146\" class=\"edge\">\n<title>145&#45;&gt;146</title>\n<path fill=\"none\" stroke=\"#000000\" d=\"M2769.5,-1232.9465C2769.5,-1224.776 2769.5,-1215.9318 2769.5,-1207.3697\"/>\n<polygon fill=\"#000000\" stroke=\"#000000\" points=\"2773.0001,-1207.13 2769.5,-1197.13 2766.0001,-1207.13 2773.0001,-1207.13\"/>\n</g>\n<!-- 159 -->\n<g id=\"node160\" class=\"node\">\n<title>159</title>\n<polygon fill=\"none\" stroke=\"#000000\" points=\"3060.5,-1197 2958.5,-1197 2958.5,-1129 3060.5,-1129 3060.5,-1197\"/>\n<text text-anchor=\"middle\" x=\"3009.5\" y=\"-1181.8\" font-family=\"Times,serif\" font-size=\"14.00\" fill=\"#000000\">X[6] &lt;= 1.088</text>\n<text text-anchor=\"middle\" x=\"3009.5\" y=\"-1166.8\" font-family=\"Times,serif\" font-size=\"14.00\" fill=\"#000000\">gini = 0.269</text>\n<text text-anchor=\"middle\" x=\"3009.5\" y=\"-1151.8\" font-family=\"Times,serif\" font-size=\"14.00\" fill=\"#000000\">samples = 25</text>\n<text text-anchor=\"middle\" x=\"3009.5\" y=\"-1136.8\" font-family=\"Times,serif\" font-size=\"14.00\" fill=\"#000000\">value = [4, 21]</text>\n</g>\n<!-- 145&#45;&gt;159 -->\n<g id=\"edge159\" class=\"edge\">\n<title>145&#45;&gt;159</title>\n<path fill=\"none\" stroke=\"#000000\" d=\"M2824.5608,-1243.1403C2861.6864,-1227.0526 2910.679,-1205.8224 2948.9109,-1189.2553\"/>\n<polygon fill=\"#000000\" stroke=\"#000000\" points=\"2950.6014,-1192.3373 2958.3853,-1185.1497 2947.8181,-1185.9144 2950.6014,-1192.3373\"/>\n</g>\n<!-- 147 -->\n<g id=\"node148\" class=\"node\">\n<title>147</title>\n<polygon fill=\"none\" stroke=\"#000000\" points=\"2751,-1085.5 2656,-1085.5 2656,-1032.5 2751,-1032.5 2751,-1085.5\"/>\n<text text-anchor=\"middle\" x=\"2703.5\" y=\"-1070.3\" font-family=\"Times,serif\" font-size=\"14.00\" fill=\"#000000\">gini = 0.0</text>\n<text text-anchor=\"middle\" x=\"2703.5\" y=\"-1055.3\" font-family=\"Times,serif\" font-size=\"14.00\" fill=\"#000000\">samples = 4</text>\n<text text-anchor=\"middle\" x=\"2703.5\" y=\"-1040.3\" font-family=\"Times,serif\" font-size=\"14.00\" fill=\"#000000\">value = [4, 0]</text>\n</g>\n<!-- 146&#45;&gt;147 -->\n<g id=\"edge147\" class=\"edge\">\n<title>146&#45;&gt;147</title>\n<path fill=\"none\" stroke=\"#000000\" d=\"M2747.8891,-1128.9465C2740.829,-1117.8215 2732.9761,-1105.4473 2725.8619,-1094.237\"/>\n<polygon fill=\"#000000\" stroke=\"#000000\" points=\"2728.6575,-1092.1101 2720.3441,-1085.5422 2722.7472,-1095.8609 2728.6575,-1092.1101\"/>\n</g>\n<!-- 148 -->\n<g id=\"node149\" class=\"node\">\n<title>148</title>\n<polygon fill=\"none\" stroke=\"#000000\" points=\"2871.5,-1093 2769.5,-1093 2769.5,-1025 2871.5,-1025 2871.5,-1093\"/>\n<text text-anchor=\"middle\" x=\"2820.5\" y=\"-1077.8\" font-family=\"Times,serif\" font-size=\"14.00\" fill=\"#000000\">X[1] &lt;= 143.0</text>\n<text text-anchor=\"middle\" x=\"2820.5\" y=\"-1062.8\" font-family=\"Times,serif\" font-size=\"14.00\" fill=\"#000000\">gini = 0.415</text>\n<text text-anchor=\"middle\" x=\"2820.5\" y=\"-1047.8\" font-family=\"Times,serif\" font-size=\"14.00\" fill=\"#000000\">samples = 17</text>\n<text text-anchor=\"middle\" x=\"2820.5\" y=\"-1032.8\" font-family=\"Times,serif\" font-size=\"14.00\" fill=\"#000000\">value = [5, 12]</text>\n</g>\n<!-- 146&#45;&gt;148 -->\n<g id=\"edge148\" class=\"edge\">\n<title>146&#45;&gt;148</title>\n<path fill=\"none\" stroke=\"#000000\" d=\"M2786.1993,-1128.9465C2790.3821,-1120.4169 2794.925,-1111.153 2799.2946,-1102.2424\"/>\n<polygon fill=\"#000000\" stroke=\"#000000\" points=\"2802.5027,-1103.6496 2803.7632,-1093.13 2796.2177,-1100.5675 2802.5027,-1103.6496\"/>\n</g>\n<!-- 149 -->\n<g id=\"node150\" class=\"node\">\n<title>149</title>\n<polygon fill=\"none\" stroke=\"#000000\" points=\"2757,-989 2662,-989 2662,-921 2757,-921 2757,-989\"/>\n<text text-anchor=\"middle\" x=\"2709.5\" y=\"-973.8\" font-family=\"Times,serif\" font-size=\"14.00\" fill=\"#000000\">X[7] &lt;= 47.5</text>\n<text text-anchor=\"middle\" x=\"2709.5\" y=\"-958.8\" font-family=\"Times,serif\" font-size=\"14.00\" fill=\"#000000\">gini = 0.496</text>\n<text text-anchor=\"middle\" x=\"2709.5\" y=\"-943.8\" font-family=\"Times,serif\" font-size=\"14.00\" fill=\"#000000\">samples = 11</text>\n<text text-anchor=\"middle\" x=\"2709.5\" y=\"-928.8\" font-family=\"Times,serif\" font-size=\"14.00\" fill=\"#000000\">value = [5, 6]</text>\n</g>\n<!-- 148&#45;&gt;149 -->\n<g id=\"edge149\" class=\"edge\">\n<title>148&#45;&gt;149</title>\n<path fill=\"none\" stroke=\"#000000\" d=\"M2784.1544,-1024.9465C2774.2841,-1015.6986 2763.4925,-1005.5876 2753.259,-995.9994\"/>\n<polygon fill=\"#000000\" stroke=\"#000000\" points=\"2755.6177,-993.4131 2745.9272,-989.13 2750.8316,-998.5214 2755.6177,-993.4131\"/>\n</g>\n<!-- 158 -->\n<g id=\"node159\" class=\"node\">\n<title>158</title>\n<polygon fill=\"none\" stroke=\"#000000\" points=\"2870,-981.5 2775,-981.5 2775,-928.5 2870,-928.5 2870,-981.5\"/>\n<text text-anchor=\"middle\" x=\"2822.5\" y=\"-966.3\" font-family=\"Times,serif\" font-size=\"14.00\" fill=\"#000000\">gini = 0.0</text>\n<text text-anchor=\"middle\" x=\"2822.5\" y=\"-951.3\" font-family=\"Times,serif\" font-size=\"14.00\" fill=\"#000000\">samples = 6</text>\n<text text-anchor=\"middle\" x=\"2822.5\" y=\"-936.3\" font-family=\"Times,serif\" font-size=\"14.00\" fill=\"#000000\">value = [0, 6]</text>\n</g>\n<!-- 148&#45;&gt;158 -->\n<g id=\"edge158\" class=\"edge\">\n<title>148&#45;&gt;158</title>\n<path fill=\"none\" stroke=\"#000000\" d=\"M2821.1549,-1024.9465C2821.3603,-1014.2621 2821.588,-1002.4254 2821.7966,-991.5742\"/>\n<polygon fill=\"#000000\" stroke=\"#000000\" points=\"2825.2966,-991.6076 2821.9896,-981.5422 2818.2979,-991.473 2825.2966,-991.6076\"/>\n</g>\n<!-- 150 -->\n<g id=\"node151\" class=\"node\">\n<title>150</title>\n<polygon fill=\"none\" stroke=\"#000000\" points=\"2705,-885 2610,-885 2610,-817 2705,-817 2705,-885\"/>\n<text text-anchor=\"middle\" x=\"2657.5\" y=\"-869.8\" font-family=\"Times,serif\" font-size=\"14.00\" fill=\"#000000\">X[2] &lt;= 77.0</text>\n<text text-anchor=\"middle\" x=\"2657.5\" y=\"-854.8\" font-family=\"Times,serif\" font-size=\"14.00\" fill=\"#000000\">gini = 0.375</text>\n<text text-anchor=\"middle\" x=\"2657.5\" y=\"-839.8\" font-family=\"Times,serif\" font-size=\"14.00\" fill=\"#000000\">samples = 8</text>\n<text text-anchor=\"middle\" x=\"2657.5\" y=\"-824.8\" font-family=\"Times,serif\" font-size=\"14.00\" fill=\"#000000\">value = [2, 6]</text>\n</g>\n<!-- 149&#45;&gt;150 -->\n<g id=\"edge150\" class=\"edge\">\n<title>149&#45;&gt;150</title>\n<path fill=\"none\" stroke=\"#000000\" d=\"M2692.4733,-920.9465C2688.2085,-912.4169 2683.5765,-903.153 2679.1212,-894.2424\"/>\n<polygon fill=\"#000000\" stroke=\"#000000\" points=\"2682.1677,-892.509 2674.565,-885.13 2675.9067,-895.6395 2682.1677,-892.509\"/>\n</g>\n<!-- 157 -->\n<g id=\"node158\" class=\"node\">\n<title>157</title>\n<polygon fill=\"none\" stroke=\"#000000\" points=\"2818,-877.5 2723,-877.5 2723,-824.5 2818,-824.5 2818,-877.5\"/>\n<text text-anchor=\"middle\" x=\"2770.5\" y=\"-862.3\" font-family=\"Times,serif\" font-size=\"14.00\" fill=\"#000000\">gini = 0.0</text>\n<text text-anchor=\"middle\" x=\"2770.5\" y=\"-847.3\" font-family=\"Times,serif\" font-size=\"14.00\" fill=\"#000000\">samples = 3</text>\n<text text-anchor=\"middle\" x=\"2770.5\" y=\"-832.3\" font-family=\"Times,serif\" font-size=\"14.00\" fill=\"#000000\">value = [3, 0]</text>\n</g>\n<!-- 149&#45;&gt;157 -->\n<g id=\"edge157\" class=\"edge\">\n<title>149&#45;&gt;157</title>\n<path fill=\"none\" stroke=\"#000000\" d=\"M2729.4737,-920.9465C2735.999,-909.8215 2743.2569,-897.4473 2749.8322,-886.237\"/>\n<polygon fill=\"#000000\" stroke=\"#000000\" points=\"2752.8916,-887.9387 2754.932,-877.5422 2746.8536,-884.3971 2752.8916,-887.9387\"/>\n</g>\n<!-- 151 -->\n<g id=\"node152\" class=\"node\">\n<title>151</title>\n<polygon fill=\"none\" stroke=\"#000000\" points=\"2704,-773.5 2609,-773.5 2609,-720.5 2704,-720.5 2704,-773.5\"/>\n<text text-anchor=\"middle\" x=\"2656.5\" y=\"-758.3\" font-family=\"Times,serif\" font-size=\"14.00\" fill=\"#000000\">gini = 0.0</text>\n<text text-anchor=\"middle\" x=\"2656.5\" y=\"-743.3\" font-family=\"Times,serif\" font-size=\"14.00\" fill=\"#000000\">samples = 1</text>\n<text text-anchor=\"middle\" x=\"2656.5\" y=\"-728.3\" font-family=\"Times,serif\" font-size=\"14.00\" fill=\"#000000\">value = [1, 0]</text>\n</g>\n<!-- 150&#45;&gt;151 -->\n<g id=\"edge151\" class=\"edge\">\n<title>150&#45;&gt;151</title>\n<path fill=\"none\" stroke=\"#000000\" d=\"M2657.1726,-816.9465C2657.0698,-806.2621 2656.956,-794.4254 2656.8517,-783.5742\"/>\n<polygon fill=\"#000000\" stroke=\"#000000\" points=\"2660.3513,-783.508 2656.7552,-773.5422 2653.3516,-783.5754 2660.3513,-783.508\"/>\n</g>\n<!-- 152 -->\n<g id=\"node153\" class=\"node\">\n<title>152</title>\n<polygon fill=\"none\" stroke=\"#000000\" points=\"2823,-781 2722,-781 2722,-713 2823,-713 2823,-781\"/>\n<text text-anchor=\"middle\" x=\"2772.5\" y=\"-765.8\" font-family=\"Times,serif\" font-size=\"14.00\" fill=\"#000000\">X[4] &lt;= 147.5</text>\n<text text-anchor=\"middle\" x=\"2772.5\" y=\"-750.8\" font-family=\"Times,serif\" font-size=\"14.00\" fill=\"#000000\">gini = 0.245</text>\n<text text-anchor=\"middle\" x=\"2772.5\" y=\"-735.8\" font-family=\"Times,serif\" font-size=\"14.00\" fill=\"#000000\">samples = 7</text>\n<text text-anchor=\"middle\" x=\"2772.5\" y=\"-720.8\" font-family=\"Times,serif\" font-size=\"14.00\" fill=\"#000000\">value = [1, 6]</text>\n</g>\n<!-- 150&#45;&gt;152 -->\n<g id=\"edge152\" class=\"edge\">\n<title>150&#45;&gt;152</title>\n<path fill=\"none\" stroke=\"#000000\" d=\"M2695.1553,-816.9465C2705.3813,-807.6986 2716.5618,-797.5876 2727.1641,-787.9994\"/>\n<polygon fill=\"#000000\" stroke=\"#000000\" points=\"2729.6908,-790.4334 2734.7601,-781.13 2724.9956,-785.2416 2729.6908,-790.4334\"/>\n</g>\n<!-- 153 -->\n<g id=\"node154\" class=\"node\">\n<title>153</title>\n<polygon fill=\"none\" stroke=\"#000000\" points=\"2819,-669.5 2724,-669.5 2724,-616.5 2819,-616.5 2819,-669.5\"/>\n<text text-anchor=\"middle\" x=\"2771.5\" y=\"-654.3\" font-family=\"Times,serif\" font-size=\"14.00\" fill=\"#000000\">gini = 0.0</text>\n<text text-anchor=\"middle\" x=\"2771.5\" y=\"-639.3\" font-family=\"Times,serif\" font-size=\"14.00\" fill=\"#000000\">samples = 5</text>\n<text text-anchor=\"middle\" x=\"2771.5\" y=\"-624.3\" font-family=\"Times,serif\" font-size=\"14.00\" fill=\"#000000\">value = [0, 5]</text>\n</g>\n<!-- 152&#45;&gt;153 -->\n<g id=\"edge153\" class=\"edge\">\n<title>152&#45;&gt;153</title>\n<path fill=\"none\" stroke=\"#000000\" d=\"M2772.1726,-712.9465C2772.0698,-702.2621 2771.956,-690.4254 2771.8517,-679.5742\"/>\n<polygon fill=\"#000000\" stroke=\"#000000\" points=\"2775.3513,-679.508 2771.7552,-669.5422 2768.3516,-679.5754 2775.3513,-679.508\"/>\n</g>\n<!-- 154 -->\n<g id=\"node155\" class=\"node\">\n<title>154</title>\n<polygon fill=\"none\" stroke=\"#000000\" points=\"2932,-677 2837,-677 2837,-609 2932,-609 2932,-677\"/>\n<text text-anchor=\"middle\" x=\"2884.5\" y=\"-661.8\" font-family=\"Times,serif\" font-size=\"14.00\" fill=\"#000000\">X[3] &lt;= 19.5</text>\n<text text-anchor=\"middle\" x=\"2884.5\" y=\"-646.8\" font-family=\"Times,serif\" font-size=\"14.00\" fill=\"#000000\">gini = 0.5</text>\n<text text-anchor=\"middle\" x=\"2884.5\" y=\"-631.8\" font-family=\"Times,serif\" font-size=\"14.00\" fill=\"#000000\">samples = 2</text>\n<text text-anchor=\"middle\" x=\"2884.5\" y=\"-616.8\" font-family=\"Times,serif\" font-size=\"14.00\" fill=\"#000000\">value = [1, 1]</text>\n</g>\n<!-- 152&#45;&gt;154 -->\n<g id=\"edge154\" class=\"edge\">\n<title>152&#45;&gt;154</title>\n<path fill=\"none\" stroke=\"#000000\" d=\"M2809.173,-712.9465C2819.1323,-703.6986 2830.0211,-693.5876 2840.3468,-683.9994\"/>\n<polygon fill=\"#000000\" stroke=\"#000000\" points=\"2842.7982,-686.4993 2847.7446,-677.13 2838.0351,-681.3698 2842.7982,-686.4993\"/>\n</g>\n<!-- 155 -->\n<g id=\"node156\" class=\"node\">\n<title>155</title>\n<polygon fill=\"none\" stroke=\"#000000\" points=\"2875,-565.5 2780,-565.5 2780,-512.5 2875,-512.5 2875,-565.5\"/>\n<text text-anchor=\"middle\" x=\"2827.5\" y=\"-550.3\" font-family=\"Times,serif\" font-size=\"14.00\" fill=\"#000000\">gini = 0.0</text>\n<text text-anchor=\"middle\" x=\"2827.5\" y=\"-535.3\" font-family=\"Times,serif\" font-size=\"14.00\" fill=\"#000000\">samples = 1</text>\n<text text-anchor=\"middle\" x=\"2827.5\" y=\"-520.3\" font-family=\"Times,serif\" font-size=\"14.00\" fill=\"#000000\">value = [1, 0]</text>\n</g>\n<!-- 154&#45;&gt;155 -->\n<g id=\"edge155\" class=\"edge\">\n<title>154&#45;&gt;155</title>\n<path fill=\"none\" stroke=\"#000000\" d=\"M2865.8361,-608.9465C2859.7991,-597.9316 2853.0909,-585.6922 2846.9953,-574.5703\"/>\n<polygon fill=\"#000000\" stroke=\"#000000\" points=\"2849.9227,-572.6292 2842.0471,-565.5422 2843.7842,-575.9936 2849.9227,-572.6292\"/>\n</g>\n<!-- 156 -->\n<g id=\"node157\" class=\"node\">\n<title>156</title>\n<polygon fill=\"none\" stroke=\"#000000\" points=\"2988,-565.5 2893,-565.5 2893,-512.5 2988,-512.5 2988,-565.5\"/>\n<text text-anchor=\"middle\" x=\"2940.5\" y=\"-550.3\" font-family=\"Times,serif\" font-size=\"14.00\" fill=\"#000000\">gini = 0.0</text>\n<text text-anchor=\"middle\" x=\"2940.5\" y=\"-535.3\" font-family=\"Times,serif\" font-size=\"14.00\" fill=\"#000000\">samples = 1</text>\n<text text-anchor=\"middle\" x=\"2940.5\" y=\"-520.3\" font-family=\"Times,serif\" font-size=\"14.00\" fill=\"#000000\">value = [0, 1]</text>\n</g>\n<!-- 154&#45;&gt;156 -->\n<g id=\"edge156\" class=\"edge\">\n<title>154&#45;&gt;156</title>\n<path fill=\"none\" stroke=\"#000000\" d=\"M2902.8365,-608.9465C2908.7676,-597.9316 2915.3581,-585.6922 2921.3468,-574.5703\"/>\n<polygon fill=\"#000000\" stroke=\"#000000\" points=\"2924.5487,-576.0063 2926.2081,-565.5422 2918.3854,-572.6875 2924.5487,-576.0063\"/>\n</g>\n<!-- 160 -->\n<g id=\"node161\" class=\"node\">\n<title>160</title>\n<polygon fill=\"none\" stroke=\"#000000\" points=\"3060.5,-1093 2958.5,-1093 2958.5,-1025 3060.5,-1025 3060.5,-1093\"/>\n<text text-anchor=\"middle\" x=\"3009.5\" y=\"-1077.8\" font-family=\"Times,serif\" font-size=\"14.00\" fill=\"#000000\">X[4] &lt;= 306.5</text>\n<text text-anchor=\"middle\" x=\"3009.5\" y=\"-1062.8\" font-family=\"Times,serif\" font-size=\"14.00\" fill=\"#000000\">gini = 0.172</text>\n<text text-anchor=\"middle\" x=\"3009.5\" y=\"-1047.8\" font-family=\"Times,serif\" font-size=\"14.00\" fill=\"#000000\">samples = 21</text>\n<text text-anchor=\"middle\" x=\"3009.5\" y=\"-1032.8\" font-family=\"Times,serif\" font-size=\"14.00\" fill=\"#000000\">value = [2, 19]</text>\n</g>\n<!-- 159&#45;&gt;160 -->\n<g id=\"edge160\" class=\"edge\">\n<title>159&#45;&gt;160</title>\n<path fill=\"none\" stroke=\"#000000\" d=\"M3009.5,-1128.9465C3009.5,-1120.776 3009.5,-1111.9318 3009.5,-1103.3697\"/>\n<polygon fill=\"#000000\" stroke=\"#000000\" points=\"3013.0001,-1103.13 3009.5,-1093.13 3006.0001,-1103.13 3013.0001,-1103.13\"/>\n</g>\n<!-- 169 -->\n<g id=\"node170\" class=\"node\">\n<title>169</title>\n<polygon fill=\"none\" stroke=\"#000000\" points=\"3235,-1093 3134,-1093 3134,-1025 3235,-1025 3235,-1093\"/>\n<text text-anchor=\"middle\" x=\"3184.5\" y=\"-1077.8\" font-family=\"Times,serif\" font-size=\"14.00\" fill=\"#000000\">X[4] &lt;= 147.5</text>\n<text text-anchor=\"middle\" x=\"3184.5\" y=\"-1062.8\" font-family=\"Times,serif\" font-size=\"14.00\" fill=\"#000000\">gini = 0.5</text>\n<text text-anchor=\"middle\" x=\"3184.5\" y=\"-1047.8\" font-family=\"Times,serif\" font-size=\"14.00\" fill=\"#000000\">samples = 4</text>\n<text text-anchor=\"middle\" x=\"3184.5\" y=\"-1032.8\" font-family=\"Times,serif\" font-size=\"14.00\" fill=\"#000000\">value = [2, 2]</text>\n</g>\n<!-- 159&#45;&gt;169 -->\n<g id=\"edge169\" class=\"edge\">\n<title>159&#45;&gt;169</title>\n<path fill=\"none\" stroke=\"#000000\" d=\"M3060.5877,-1132.6393C3080.8027,-1120.6258 3104.1736,-1106.7368 3125.1341,-1094.2803\"/>\n<polygon fill=\"#000000\" stroke=\"#000000\" points=\"3127.145,-1097.1568 3133.9534,-1089.0391 3123.5688,-1091.1392 3127.145,-1097.1568\"/>\n</g>\n<!-- 161 -->\n<g id=\"node162\" class=\"node\">\n<title>161</title>\n<polygon fill=\"none\" stroke=\"#000000\" points=\"3005.5,-989 2903.5,-989 2903.5,-921 3005.5,-921 3005.5,-989\"/>\n<text text-anchor=\"middle\" x=\"2954.5\" y=\"-973.8\" font-family=\"Times,serif\" font-size=\"14.00\" fill=\"#000000\">X[6] &lt;= 0.222</text>\n<text text-anchor=\"middle\" x=\"2954.5\" y=\"-958.8\" font-family=\"Times,serif\" font-size=\"14.00\" fill=\"#000000\">gini = 0.1</text>\n<text text-anchor=\"middle\" x=\"2954.5\" y=\"-943.8\" font-family=\"Times,serif\" font-size=\"14.00\" fill=\"#000000\">samples = 19</text>\n<text text-anchor=\"middle\" x=\"2954.5\" y=\"-928.8\" font-family=\"Times,serif\" font-size=\"14.00\" fill=\"#000000\">value = [1, 18]</text>\n</g>\n<!-- 160&#45;&gt;161 -->\n<g id=\"edge161\" class=\"edge\">\n<title>160&#45;&gt;161</title>\n<path fill=\"none\" stroke=\"#000000\" d=\"M2991.4909,-1024.9465C2986.9801,-1016.4169 2982.0809,-1007.153 2977.3686,-998.2424\"/>\n<polygon fill=\"#000000\" stroke=\"#000000\" points=\"2980.3185,-996.3337 2972.5495,-989.13 2974.1306,-999.6062 2980.3185,-996.3337\"/>\n</g>\n<!-- 166 -->\n<g id=\"node167\" class=\"node\">\n<title>166</title>\n<polygon fill=\"none\" stroke=\"#000000\" points=\"3119,-989 3024,-989 3024,-921 3119,-921 3119,-989\"/>\n<text text-anchor=\"middle\" x=\"3071.5\" y=\"-973.8\" font-family=\"Times,serif\" font-size=\"14.00\" fill=\"#000000\">X[0] &lt;= 6.5</text>\n<text text-anchor=\"middle\" x=\"3071.5\" y=\"-958.8\" font-family=\"Times,serif\" font-size=\"14.00\" fill=\"#000000\">gini = 0.5</text>\n<text text-anchor=\"middle\" x=\"3071.5\" y=\"-943.8\" font-family=\"Times,serif\" font-size=\"14.00\" fill=\"#000000\">samples = 2</text>\n<text text-anchor=\"middle\" x=\"3071.5\" y=\"-928.8\" font-family=\"Times,serif\" font-size=\"14.00\" fill=\"#000000\">value = [1, 1]</text>\n</g>\n<!-- 160&#45;&gt;166 -->\n<g id=\"edge166\" class=\"edge\">\n<title>160&#45;&gt;166</title>\n<path fill=\"none\" stroke=\"#000000\" d=\"M3029.8011,-1024.9465C3034.9396,-1016.3271 3040.5251,-1006.9579 3045.8886,-997.9611\"/>\n<polygon fill=\"#000000\" stroke=\"#000000\" points=\"3049.0389,-999.5117 3051.1533,-989.13 3043.0263,-995.9272 3049.0389,-999.5117\"/>\n</g>\n<!-- 162 -->\n<g id=\"node163\" class=\"node\">\n<title>162</title>\n<polygon fill=\"none\" stroke=\"#000000\" points=\"2938,-885 2837,-885 2837,-817 2938,-817 2938,-885\"/>\n<text text-anchor=\"middle\" x=\"2887.5\" y=\"-869.8\" font-family=\"Times,serif\" font-size=\"14.00\" fill=\"#000000\">X[5] &lt;= 41.05</text>\n<text text-anchor=\"middle\" x=\"2887.5\" y=\"-854.8\" font-family=\"Times,serif\" font-size=\"14.00\" fill=\"#000000\">gini = 0.444</text>\n<text text-anchor=\"middle\" x=\"2887.5\" y=\"-839.8\" font-family=\"Times,serif\" font-size=\"14.00\" fill=\"#000000\">samples = 3</text>\n<text text-anchor=\"middle\" x=\"2887.5\" y=\"-824.8\" font-family=\"Times,serif\" font-size=\"14.00\" fill=\"#000000\">value = [1, 2]</text>\n</g>\n<!-- 161&#45;&gt;162 -->\n<g id=\"edge162\" class=\"edge\">\n<title>161&#45;&gt;162</title>\n<path fill=\"none\" stroke=\"#000000\" d=\"M2932.5617,-920.9465C2926.951,-912.2373 2920.8471,-902.7626 2914.9958,-893.6801\"/>\n<polygon fill=\"#000000\" stroke=\"#000000\" points=\"2917.8457,-891.641 2909.4876,-885.13 2911.9611,-895.4321 2917.8457,-891.641\"/>\n</g>\n<!-- 165 -->\n<g id=\"node166\" class=\"node\">\n<title>165</title>\n<polygon fill=\"none\" stroke=\"#000000\" points=\"3058.5,-877.5 2956.5,-877.5 2956.5,-824.5 3058.5,-824.5 3058.5,-877.5\"/>\n<text text-anchor=\"middle\" x=\"3007.5\" y=\"-862.3\" font-family=\"Times,serif\" font-size=\"14.00\" fill=\"#000000\">gini = 0.0</text>\n<text text-anchor=\"middle\" x=\"3007.5\" y=\"-847.3\" font-family=\"Times,serif\" font-size=\"14.00\" fill=\"#000000\">samples = 16</text>\n<text text-anchor=\"middle\" x=\"3007.5\" y=\"-832.3\" font-family=\"Times,serif\" font-size=\"14.00\" fill=\"#000000\">value = [0, 16]</text>\n</g>\n<!-- 161&#45;&gt;165 -->\n<g id=\"edge165\" class=\"edge\">\n<title>161&#45;&gt;165</title>\n<path fill=\"none\" stroke=\"#000000\" d=\"M2971.8542,-920.9465C2977.4675,-909.9316 2983.705,-897.6922 2989.3728,-886.5703\"/>\n<polygon fill=\"#000000\" stroke=\"#000000\" points=\"2992.5515,-888.0411 2993.9737,-877.5422 2986.3147,-884.8627 2992.5515,-888.0411\"/>\n</g>\n<!-- 163 -->\n<g id=\"node164\" class=\"node\">\n<title>163</title>\n<polygon fill=\"none\" stroke=\"#000000\" points=\"2936,-773.5 2841,-773.5 2841,-720.5 2936,-720.5 2936,-773.5\"/>\n<text text-anchor=\"middle\" x=\"2888.5\" y=\"-758.3\" font-family=\"Times,serif\" font-size=\"14.00\" fill=\"#000000\">gini = 0.0</text>\n<text text-anchor=\"middle\" x=\"2888.5\" y=\"-743.3\" font-family=\"Times,serif\" font-size=\"14.00\" fill=\"#000000\">samples = 2</text>\n<text text-anchor=\"middle\" x=\"2888.5\" y=\"-728.3\" font-family=\"Times,serif\" font-size=\"14.00\" fill=\"#000000\">value = [0, 2]</text>\n</g>\n<!-- 162&#45;&gt;163 -->\n<g id=\"edge163\" class=\"edge\">\n<title>162&#45;&gt;163</title>\n<path fill=\"none\" stroke=\"#000000\" d=\"M2887.8274,-816.9465C2887.9302,-806.2621 2888.044,-794.4254 2888.1483,-783.5742\"/>\n<polygon fill=\"#000000\" stroke=\"#000000\" points=\"2891.6484,-783.5754 2888.2448,-773.5422 2884.6487,-783.508 2891.6484,-783.5754\"/>\n</g>\n<!-- 164 -->\n<g id=\"node165\" class=\"node\">\n<title>164</title>\n<polygon fill=\"none\" stroke=\"#000000\" points=\"3049,-773.5 2954,-773.5 2954,-720.5 3049,-720.5 3049,-773.5\"/>\n<text text-anchor=\"middle\" x=\"3001.5\" y=\"-758.3\" font-family=\"Times,serif\" font-size=\"14.00\" fill=\"#000000\">gini = 0.0</text>\n<text text-anchor=\"middle\" x=\"3001.5\" y=\"-743.3\" font-family=\"Times,serif\" font-size=\"14.00\" fill=\"#000000\">samples = 1</text>\n<text text-anchor=\"middle\" x=\"3001.5\" y=\"-728.3\" font-family=\"Times,serif\" font-size=\"14.00\" fill=\"#000000\">value = [1, 0]</text>\n</g>\n<!-- 162&#45;&gt;164 -->\n<g id=\"edge164\" class=\"edge\">\n<title>162&#45;&gt;164</title>\n<path fill=\"none\" stroke=\"#000000\" d=\"M2924.8279,-816.9465C2937.6263,-805.2707 2951.933,-792.219 2964.6901,-780.5809\"/>\n<polygon fill=\"#000000\" stroke=\"#000000\" points=\"2967.3769,-782.8675 2972.4057,-773.5422 2962.6591,-777.6961 2967.3769,-782.8675\"/>\n</g>\n<!-- 167 -->\n<g id=\"node168\" class=\"node\">\n<title>167</title>\n<polygon fill=\"none\" stroke=\"#000000\" points=\"3172,-877.5 3077,-877.5 3077,-824.5 3172,-824.5 3172,-877.5\"/>\n<text text-anchor=\"middle\" x=\"3124.5\" y=\"-862.3\" font-family=\"Times,serif\" font-size=\"14.00\" fill=\"#000000\">gini = 0.0</text>\n<text text-anchor=\"middle\" x=\"3124.5\" y=\"-847.3\" font-family=\"Times,serif\" font-size=\"14.00\" fill=\"#000000\">samples = 1</text>\n<text text-anchor=\"middle\" x=\"3124.5\" y=\"-832.3\" font-family=\"Times,serif\" font-size=\"14.00\" fill=\"#000000\">value = [0, 1]</text>\n</g>\n<!-- 166&#45;&gt;167 -->\n<g id=\"edge167\" class=\"edge\">\n<title>166&#45;&gt;167</title>\n<path fill=\"none\" stroke=\"#000000\" d=\"M3088.8542,-920.9465C3094.4675,-909.9316 3100.705,-897.6922 3106.3728,-886.5703\"/>\n<polygon fill=\"#000000\" stroke=\"#000000\" points=\"3109.5515,-888.0411 3110.9737,-877.5422 3103.3147,-884.8627 3109.5515,-888.0411\"/>\n</g>\n<!-- 168 -->\n<g id=\"node169\" class=\"node\">\n<title>168</title>\n<polygon fill=\"none\" stroke=\"#000000\" points=\"3285,-877.5 3190,-877.5 3190,-824.5 3285,-824.5 3285,-877.5\"/>\n<text text-anchor=\"middle\" x=\"3237.5\" y=\"-862.3\" font-family=\"Times,serif\" font-size=\"14.00\" fill=\"#000000\">gini = 0.0</text>\n<text text-anchor=\"middle\" x=\"3237.5\" y=\"-847.3\" font-family=\"Times,serif\" font-size=\"14.00\" fill=\"#000000\">samples = 1</text>\n<text text-anchor=\"middle\" x=\"3237.5\" y=\"-832.3\" font-family=\"Times,serif\" font-size=\"14.00\" fill=\"#000000\">value = [1, 0]</text>\n</g>\n<!-- 166&#45;&gt;168 -->\n<g id=\"edge168\" class=\"edge\">\n<title>166&#45;&gt;168</title>\n<path fill=\"none\" stroke=\"#000000\" d=\"M3119.0689,-925.1978C3140.1201,-912.0091 3164.9146,-896.4752 3186.3626,-883.0379\"/>\n<polygon fill=\"#000000\" stroke=\"#000000\" points=\"3188.4026,-885.8901 3195.0186,-877.6149 3184.6861,-879.9581 3188.4026,-885.8901\"/>\n</g>\n<!-- 170 -->\n<g id=\"node171\" class=\"node\">\n<title>170</title>\n<polygon fill=\"none\" stroke=\"#000000\" points=\"3232,-981.5 3137,-981.5 3137,-928.5 3232,-928.5 3232,-981.5\"/>\n<text text-anchor=\"middle\" x=\"3184.5\" y=\"-966.3\" font-family=\"Times,serif\" font-size=\"14.00\" fill=\"#000000\">gini = 0.0</text>\n<text text-anchor=\"middle\" x=\"3184.5\" y=\"-951.3\" font-family=\"Times,serif\" font-size=\"14.00\" fill=\"#000000\">samples = 2</text>\n<text text-anchor=\"middle\" x=\"3184.5\" y=\"-936.3\" font-family=\"Times,serif\" font-size=\"14.00\" fill=\"#000000\">value = [2, 0]</text>\n</g>\n<!-- 169&#45;&gt;170 -->\n<g id=\"edge170\" class=\"edge\">\n<title>169&#45;&gt;170</title>\n<path fill=\"none\" stroke=\"#000000\" d=\"M3184.5,-1024.9465C3184.5,-1014.2621 3184.5,-1002.4254 3184.5,-991.5742\"/>\n<polygon fill=\"#000000\" stroke=\"#000000\" points=\"3188.0001,-991.5421 3184.5,-981.5422 3181.0001,-991.5422 3188.0001,-991.5421\"/>\n</g>\n<!-- 171 -->\n<g id=\"node172\" class=\"node\">\n<title>171</title>\n<polygon fill=\"none\" stroke=\"#000000\" points=\"3345,-981.5 3250,-981.5 3250,-928.5 3345,-928.5 3345,-981.5\"/>\n<text text-anchor=\"middle\" x=\"3297.5\" y=\"-966.3\" font-family=\"Times,serif\" font-size=\"14.00\" fill=\"#000000\">gini = 0.0</text>\n<text text-anchor=\"middle\" x=\"3297.5\" y=\"-951.3\" font-family=\"Times,serif\" font-size=\"14.00\" fill=\"#000000\">samples = 2</text>\n<text text-anchor=\"middle\" x=\"3297.5\" y=\"-936.3\" font-family=\"Times,serif\" font-size=\"14.00\" fill=\"#000000\">value = [0, 2]</text>\n</g>\n<!-- 169&#45;&gt;171 -->\n<g id=\"edge171\" class=\"edge\">\n<title>169&#45;&gt;171</title>\n<path fill=\"none\" stroke=\"#000000\" d=\"M3221.5004,-1024.9465C3234.1866,-1013.2707 3248.3678,-1000.219 3261.013,-988.5809\"/>\n<polygon fill=\"#000000\" stroke=\"#000000\" points=\"3263.6731,-990.8895 3268.6609,-981.5422 3258.9327,-985.7389 3263.6731,-990.8895\"/>\n</g>\n<!-- 173 -->\n<g id=\"node174\" class=\"node\">\n<title>173</title>\n<polygon fill=\"none\" stroke=\"#000000\" points=\"3626.5,-1301 3524.5,-1301 3524.5,-1233 3626.5,-1233 3626.5,-1301\"/>\n<text text-anchor=\"middle\" x=\"3575.5\" y=\"-1285.8\" font-family=\"Times,serif\" font-size=\"14.00\" fill=\"#000000\">X[6] &lt;= 0.343</text>\n<text text-anchor=\"middle\" x=\"3575.5\" y=\"-1270.8\" font-family=\"Times,serif\" font-size=\"14.00\" fill=\"#000000\">gini = 0.147</text>\n<text text-anchor=\"middle\" x=\"3575.5\" y=\"-1255.8\" font-family=\"Times,serif\" font-size=\"14.00\" fill=\"#000000\">samples = 50</text>\n<text text-anchor=\"middle\" x=\"3575.5\" y=\"-1240.8\" font-family=\"Times,serif\" font-size=\"14.00\" fill=\"#000000\">value = [4, 46]</text>\n</g>\n<!-- 172&#45;&gt;173 -->\n<g id=\"edge173\" class=\"edge\">\n<title>172&#45;&gt;173</title>\n<path fill=\"none\" stroke=\"#000000\" d=\"M3575.5,-1336.9465C3575.5,-1328.776 3575.5,-1319.9318 3575.5,-1311.3697\"/>\n<polygon fill=\"#000000\" stroke=\"#000000\" points=\"3579.0001,-1311.13 3575.5,-1301.13 3572.0001,-1311.13 3579.0001,-1311.13\"/>\n</g>\n<!-- 188 -->\n<g id=\"node189\" class=\"node\">\n<title>188</title>\n<polygon fill=\"none\" stroke=\"#000000\" points=\"3800,-1301 3705,-1301 3705,-1233 3800,-1233 3800,-1301\"/>\n<text text-anchor=\"middle\" x=\"3752.5\" y=\"-1285.8\" font-family=\"Times,serif\" font-size=\"14.00\" fill=\"#000000\">X[0] &lt;= 3.5</text>\n<text text-anchor=\"middle\" x=\"3752.5\" y=\"-1270.8\" font-family=\"Times,serif\" font-size=\"14.00\" fill=\"#000000\">gini = 0.5</text>\n<text text-anchor=\"middle\" x=\"3752.5\" y=\"-1255.8\" font-family=\"Times,serif\" font-size=\"14.00\" fill=\"#000000\">samples = 6</text>\n<text text-anchor=\"middle\" x=\"3752.5\" y=\"-1240.8\" font-family=\"Times,serif\" font-size=\"14.00\" fill=\"#000000\">value = [3, 3]</text>\n</g>\n<!-- 172&#45;&gt;188 -->\n<g id=\"edge188\" class=\"edge\">\n<title>172&#45;&gt;188</title>\n<path fill=\"none\" stroke=\"#000000\" d=\"M3626.6957,-1340.9189C3648.4182,-1328.1554 3673.8107,-1313.2355 3696.0723,-1300.1553\"/>\n<polygon fill=\"#000000\" stroke=\"#000000\" points=\"3697.9074,-1303.1365 3704.7561,-1295.0529 3694.3612,-1297.1012 3697.9074,-1303.1365\"/>\n</g>\n<!-- 174 -->\n<g id=\"node175\" class=\"node\">\n<title>174</title>\n<polygon fill=\"none\" stroke=\"#000000\" points=\"3566.5,-1197 3464.5,-1197 3464.5,-1129 3566.5,-1129 3566.5,-1197\"/>\n<text text-anchor=\"middle\" x=\"3515.5\" y=\"-1181.8\" font-family=\"Times,serif\" font-size=\"14.00\" fill=\"#000000\">X[7] &lt;= 48.5</text>\n<text text-anchor=\"middle\" x=\"3515.5\" y=\"-1166.8\" font-family=\"Times,serif\" font-size=\"14.00\" fill=\"#000000\">gini = 0.332</text>\n<text text-anchor=\"middle\" x=\"3515.5\" y=\"-1151.8\" font-family=\"Times,serif\" font-size=\"14.00\" fill=\"#000000\">samples = 19</text>\n<text text-anchor=\"middle\" x=\"3515.5\" y=\"-1136.8\" font-family=\"Times,serif\" font-size=\"14.00\" fill=\"#000000\">value = [4, 15]</text>\n</g>\n<!-- 173&#45;&gt;174 -->\n<g id=\"edge174\" class=\"edge\">\n<title>173&#45;&gt;174</title>\n<path fill=\"none\" stroke=\"#000000\" d=\"M3555.8538,-1232.9465C3550.881,-1224.3271 3545.4757,-1214.9579 3540.2852,-1205.9611\"/>\n<polygon fill=\"#000000\" stroke=\"#000000\" points=\"3543.2193,-1204.0428 3535.1904,-1197.13 3537.156,-1207.5409 3543.2193,-1204.0428\"/>\n</g>\n<!-- 187 -->\n<g id=\"node188\" class=\"node\">\n<title>187</title>\n<polygon fill=\"none\" stroke=\"#000000\" points=\"3686.5,-1189.5 3584.5,-1189.5 3584.5,-1136.5 3686.5,-1136.5 3686.5,-1189.5\"/>\n<text text-anchor=\"middle\" x=\"3635.5\" y=\"-1174.3\" font-family=\"Times,serif\" font-size=\"14.00\" fill=\"#000000\">gini = 0.0</text>\n<text text-anchor=\"middle\" x=\"3635.5\" y=\"-1159.3\" font-family=\"Times,serif\" font-size=\"14.00\" fill=\"#000000\">samples = 31</text>\n<text text-anchor=\"middle\" x=\"3635.5\" y=\"-1144.3\" font-family=\"Times,serif\" font-size=\"14.00\" fill=\"#000000\">value = [0, 31]</text>\n</g>\n<!-- 173&#45;&gt;187 -->\n<g id=\"edge187\" class=\"edge\">\n<title>173&#45;&gt;187</title>\n<path fill=\"none\" stroke=\"#000000\" d=\"M3595.1462,-1232.9465C3601.5645,-1221.8215 3608.7035,-1209.4473 3615.171,-1198.237\"/>\n<polygon fill=\"#000000\" stroke=\"#000000\" points=\"3618.2216,-1199.9531 3620.1872,-1189.5422 3612.1583,-1196.455 3618.2216,-1199.9531\"/>\n</g>\n<!-- 175 -->\n<g id=\"node176\" class=\"node\">\n<title>175</title>\n<polygon fill=\"none\" stroke=\"#000000\" points=\"3566.5,-1093 3464.5,-1093 3464.5,-1025 3566.5,-1025 3566.5,-1093\"/>\n<text text-anchor=\"middle\" x=\"3515.5\" y=\"-1077.8\" font-family=\"Times,serif\" font-size=\"14.00\" fill=\"#000000\">X[1] &lt;= 177.0</text>\n<text text-anchor=\"middle\" x=\"3515.5\" y=\"-1062.8\" font-family=\"Times,serif\" font-size=\"14.00\" fill=\"#000000\">gini = 0.219</text>\n<text text-anchor=\"middle\" x=\"3515.5\" y=\"-1047.8\" font-family=\"Times,serif\" font-size=\"14.00\" fill=\"#000000\">samples = 16</text>\n<text text-anchor=\"middle\" x=\"3515.5\" y=\"-1032.8\" font-family=\"Times,serif\" font-size=\"14.00\" fill=\"#000000\">value = [2, 14]</text>\n</g>\n<!-- 174&#45;&gt;175 -->\n<g id=\"edge175\" class=\"edge\">\n<title>174&#45;&gt;175</title>\n<path fill=\"none\" stroke=\"#000000\" d=\"M3515.5,-1128.9465C3515.5,-1120.776 3515.5,-1111.9318 3515.5,-1103.3697\"/>\n<polygon fill=\"#000000\" stroke=\"#000000\" points=\"3519.0001,-1103.13 3515.5,-1093.13 3512.0001,-1103.13 3519.0001,-1103.13\"/>\n</g>\n<!-- 184 -->\n<g id=\"node185\" class=\"node\">\n<title>184</title>\n<polygon fill=\"none\" stroke=\"#000000\" points=\"3687,-1093 3586,-1093 3586,-1025 3687,-1025 3687,-1093\"/>\n<text text-anchor=\"middle\" x=\"3636.5\" y=\"-1077.8\" font-family=\"Times,serif\" font-size=\"14.00\" fill=\"#000000\">X[5] &lt;= 34.85</text>\n<text text-anchor=\"middle\" x=\"3636.5\" y=\"-1062.8\" font-family=\"Times,serif\" font-size=\"14.00\" fill=\"#000000\">gini = 0.444</text>\n<text text-anchor=\"middle\" x=\"3636.5\" y=\"-1047.8\" font-family=\"Times,serif\" font-size=\"14.00\" fill=\"#000000\">samples = 3</text>\n<text text-anchor=\"middle\" x=\"3636.5\" y=\"-1032.8\" font-family=\"Times,serif\" font-size=\"14.00\" fill=\"#000000\">value = [2, 1]</text>\n</g>\n<!-- 174&#45;&gt;184 -->\n<g id=\"edge184\" class=\"edge\">\n<title>174&#45;&gt;184</title>\n<path fill=\"none\" stroke=\"#000000\" d=\"M3555.1199,-1128.9465C3565.984,-1119.6088 3577.8718,-1109.3911 3589.1235,-1099.7203\"/>\n<polygon fill=\"#000000\" stroke=\"#000000\" points=\"3591.4887,-1102.3026 3596.7911,-1093.13 3586.9259,-1096.994 3591.4887,-1102.3026\"/>\n</g>\n<!-- 176 -->\n<g id=\"node177\" class=\"node\">\n<title>176</title>\n<polygon fill=\"none\" stroke=\"#000000\" points=\"3458,-981.5 3363,-981.5 3363,-928.5 3458,-928.5 3458,-981.5\"/>\n<text text-anchor=\"middle\" x=\"3410.5\" y=\"-966.3\" font-family=\"Times,serif\" font-size=\"14.00\" fill=\"#000000\">gini = 0.0</text>\n<text text-anchor=\"middle\" x=\"3410.5\" y=\"-951.3\" font-family=\"Times,serif\" font-size=\"14.00\" fill=\"#000000\">samples = 9</text>\n<text text-anchor=\"middle\" x=\"3410.5\" y=\"-936.3\" font-family=\"Times,serif\" font-size=\"14.00\" fill=\"#000000\">value = [0, 9]</text>\n</g>\n<!-- 175&#45;&gt;176 -->\n<g id=\"edge176\" class=\"edge\">\n<title>175&#45;&gt;176</title>\n<path fill=\"none\" stroke=\"#000000\" d=\"M3481.1191,-1024.9465C3469.331,-1013.2707 3456.1538,-1000.219 3444.4038,-988.5809\"/>\n<polygon fill=\"#000000\" stroke=\"#000000\" points=\"3446.8652,-986.0927 3437.2974,-981.5422 3441.9392,-991.066 3446.8652,-986.0927\"/>\n</g>\n<!-- 177 -->\n<g id=\"node178\" class=\"node\">\n<title>177</title>\n<polygon fill=\"none\" stroke=\"#000000\" points=\"3571,-989 3476,-989 3476,-921 3571,-921 3571,-989\"/>\n<text text-anchor=\"middle\" x=\"3523.5\" y=\"-973.8\" font-family=\"Times,serif\" font-size=\"14.00\" fill=\"#000000\">X[0] &lt;= 8.0</text>\n<text text-anchor=\"middle\" x=\"3523.5\" y=\"-958.8\" font-family=\"Times,serif\" font-size=\"14.00\" fill=\"#000000\">gini = 0.408</text>\n<text text-anchor=\"middle\" x=\"3523.5\" y=\"-943.8\" font-family=\"Times,serif\" font-size=\"14.00\" fill=\"#000000\">samples = 7</text>\n<text text-anchor=\"middle\" x=\"3523.5\" y=\"-928.8\" font-family=\"Times,serif\" font-size=\"14.00\" fill=\"#000000\">value = [2, 5]</text>\n</g>\n<!-- 175&#45;&gt;177 -->\n<g id=\"edge177\" class=\"edge\">\n<title>175&#45;&gt;177</title>\n<path fill=\"none\" stroke=\"#000000\" d=\"M3518.1195,-1024.9465C3518.748,-1016.776 3519.4283,-1007.9318 3520.0869,-999.3697\"/>\n<polygon fill=\"#000000\" stroke=\"#000000\" points=\"3523.5973,-999.369 3520.8746,-989.13 3516.6179,-998.8321 3523.5973,-999.369\"/>\n</g>\n<!-- 178 -->\n<g id=\"node179\" class=\"node\">\n<title>178</title>\n<polygon fill=\"none\" stroke=\"#000000\" points=\"3460,-885 3359,-885 3359,-817 3460,-817 3460,-885\"/>\n<text text-anchor=\"middle\" x=\"3409.5\" y=\"-869.8\" font-family=\"Times,serif\" font-size=\"14.00\" fill=\"#000000\">X[1] &lt;= 187.5</text>\n<text text-anchor=\"middle\" x=\"3409.5\" y=\"-854.8\" font-family=\"Times,serif\" font-size=\"14.00\" fill=\"#000000\">gini = 0.278</text>\n<text text-anchor=\"middle\" x=\"3409.5\" y=\"-839.8\" font-family=\"Times,serif\" font-size=\"14.00\" fill=\"#000000\">samples = 6</text>\n<text text-anchor=\"middle\" x=\"3409.5\" y=\"-824.8\" font-family=\"Times,serif\" font-size=\"14.00\" fill=\"#000000\">value = [1, 5]</text>\n</g>\n<!-- 177&#45;&gt;178 -->\n<g id=\"edge178\" class=\"edge\">\n<title>177&#45;&gt;178</title>\n<path fill=\"none\" stroke=\"#000000\" d=\"M3486.1721,-920.9465C3476.035,-911.6986 3464.9517,-901.5876 3454.4417,-891.9994\"/>\n<polygon fill=\"#000000\" stroke=\"#000000\" points=\"3456.6583,-889.284 3446.9117,-885.13 3451.9405,-894.4553 3456.6583,-889.284\"/>\n</g>\n<!-- 183 -->\n<g id=\"node184\" class=\"node\">\n<title>183</title>\n<polygon fill=\"none\" stroke=\"#000000\" points=\"3573,-877.5 3478,-877.5 3478,-824.5 3573,-824.5 3573,-877.5\"/>\n<text text-anchor=\"middle\" x=\"3525.5\" y=\"-862.3\" font-family=\"Times,serif\" font-size=\"14.00\" fill=\"#000000\">gini = 0.0</text>\n<text text-anchor=\"middle\" x=\"3525.5\" y=\"-847.3\" font-family=\"Times,serif\" font-size=\"14.00\" fill=\"#000000\">samples = 1</text>\n<text text-anchor=\"middle\" x=\"3525.5\" y=\"-832.3\" font-family=\"Times,serif\" font-size=\"14.00\" fill=\"#000000\">value = [1, 0]</text>\n</g>\n<!-- 177&#45;&gt;183 -->\n<g id=\"edge183\" class=\"edge\">\n<title>177&#45;&gt;183</title>\n<path fill=\"none\" stroke=\"#000000\" d=\"M3524.1549,-920.9465C3524.3603,-910.2621 3524.588,-898.4254 3524.7966,-887.5742\"/>\n<polygon fill=\"#000000\" stroke=\"#000000\" points=\"3528.2966,-887.6076 3524.9896,-877.5422 3521.2979,-887.473 3528.2966,-887.6076\"/>\n</g>\n<!-- 179 -->\n<g id=\"node180\" class=\"node\">\n<title>179</title>\n<polygon fill=\"none\" stroke=\"#000000\" points=\"3400,-773.5 3305,-773.5 3305,-720.5 3400,-720.5 3400,-773.5\"/>\n<text text-anchor=\"middle\" x=\"3352.5\" y=\"-758.3\" font-family=\"Times,serif\" font-size=\"14.00\" fill=\"#000000\">gini = 0.0</text>\n<text text-anchor=\"middle\" x=\"3352.5\" y=\"-743.3\" font-family=\"Times,serif\" font-size=\"14.00\" fill=\"#000000\">samples = 4</text>\n<text text-anchor=\"middle\" x=\"3352.5\" y=\"-728.3\" font-family=\"Times,serif\" font-size=\"14.00\" fill=\"#000000\">value = [0, 4]</text>\n</g>\n<!-- 178&#45;&gt;179 -->\n<g id=\"edge179\" class=\"edge\">\n<title>178&#45;&gt;179</title>\n<path fill=\"none\" stroke=\"#000000\" d=\"M3390.8361,-816.9465C3384.7991,-805.9316 3378.0909,-793.6922 3371.9953,-782.5703\"/>\n<polygon fill=\"#000000\" stroke=\"#000000\" points=\"3374.9227,-780.6292 3367.0471,-773.5422 3368.7842,-783.9936 3374.9227,-780.6292\"/>\n</g>\n<!-- 180 -->\n<g id=\"node181\" class=\"node\">\n<title>180</title>\n<polygon fill=\"none\" stroke=\"#000000\" points=\"3513,-781 3418,-781 3418,-713 3513,-713 3513,-781\"/>\n<text text-anchor=\"middle\" x=\"3465.5\" y=\"-765.8\" font-family=\"Times,serif\" font-size=\"14.00\" fill=\"#000000\">X[0] &lt;= 4.5</text>\n<text text-anchor=\"middle\" x=\"3465.5\" y=\"-750.8\" font-family=\"Times,serif\" font-size=\"14.00\" fill=\"#000000\">gini = 0.5</text>\n<text text-anchor=\"middle\" x=\"3465.5\" y=\"-735.8\" font-family=\"Times,serif\" font-size=\"14.00\" fill=\"#000000\">samples = 2</text>\n<text text-anchor=\"middle\" x=\"3465.5\" y=\"-720.8\" font-family=\"Times,serif\" font-size=\"14.00\" fill=\"#000000\">value = [1, 1]</text>\n</g>\n<!-- 178&#45;&gt;180 -->\n<g id=\"edge180\" class=\"edge\">\n<title>178&#45;&gt;180</title>\n<path fill=\"none\" stroke=\"#000000\" d=\"M3427.8365,-816.9465C3432.4777,-808.3271 3437.5227,-798.9579 3442.3671,-789.9611\"/>\n<polygon fill=\"#000000\" stroke=\"#000000\" points=\"3445.4629,-791.5941 3447.1223,-781.13 3439.2996,-788.2754 3445.4629,-791.5941\"/>\n</g>\n<!-- 181 -->\n<g id=\"node182\" class=\"node\">\n<title>181</title>\n<polygon fill=\"none\" stroke=\"#000000\" points=\"3456,-669.5 3361,-669.5 3361,-616.5 3456,-616.5 3456,-669.5\"/>\n<text text-anchor=\"middle\" x=\"3408.5\" y=\"-654.3\" font-family=\"Times,serif\" font-size=\"14.00\" fill=\"#000000\">gini = 0.0</text>\n<text text-anchor=\"middle\" x=\"3408.5\" y=\"-639.3\" font-family=\"Times,serif\" font-size=\"14.00\" fill=\"#000000\">samples = 1</text>\n<text text-anchor=\"middle\" x=\"3408.5\" y=\"-624.3\" font-family=\"Times,serif\" font-size=\"14.00\" fill=\"#000000\">value = [1, 0]</text>\n</g>\n<!-- 180&#45;&gt;181 -->\n<g id=\"edge181\" class=\"edge\">\n<title>180&#45;&gt;181</title>\n<path fill=\"none\" stroke=\"#000000\" d=\"M3446.8361,-712.9465C3440.7991,-701.9316 3434.0909,-689.6922 3427.9953,-678.5703\"/>\n<polygon fill=\"#000000\" stroke=\"#000000\" points=\"3430.9227,-676.6292 3423.0471,-669.5422 3424.7842,-679.9936 3430.9227,-676.6292\"/>\n</g>\n<!-- 182 -->\n<g id=\"node183\" class=\"node\">\n<title>182</title>\n<polygon fill=\"none\" stroke=\"#000000\" points=\"3569,-669.5 3474,-669.5 3474,-616.5 3569,-616.5 3569,-669.5\"/>\n<text text-anchor=\"middle\" x=\"3521.5\" y=\"-654.3\" font-family=\"Times,serif\" font-size=\"14.00\" fill=\"#000000\">gini = 0.0</text>\n<text text-anchor=\"middle\" x=\"3521.5\" y=\"-639.3\" font-family=\"Times,serif\" font-size=\"14.00\" fill=\"#000000\">samples = 1</text>\n<text text-anchor=\"middle\" x=\"3521.5\" y=\"-624.3\" font-family=\"Times,serif\" font-size=\"14.00\" fill=\"#000000\">value = [0, 1]</text>\n</g>\n<!-- 180&#45;&gt;182 -->\n<g id=\"edge182\" class=\"edge\">\n<title>180&#45;&gt;182</title>\n<path fill=\"none\" stroke=\"#000000\" d=\"M3483.8365,-712.9465C3489.7676,-701.9316 3496.3581,-689.6922 3502.3468,-678.5703\"/>\n<polygon fill=\"#000000\" stroke=\"#000000\" points=\"3505.5487,-680.0063 3507.2081,-669.5422 3499.3854,-676.6875 3505.5487,-680.0063\"/>\n</g>\n<!-- 185 -->\n<g id=\"node186\" class=\"node\">\n<title>185</title>\n<polygon fill=\"none\" stroke=\"#000000\" points=\"3684,-981.5 3589,-981.5 3589,-928.5 3684,-928.5 3684,-981.5\"/>\n<text text-anchor=\"middle\" x=\"3636.5\" y=\"-966.3\" font-family=\"Times,serif\" font-size=\"14.00\" fill=\"#000000\">gini = 0.0</text>\n<text text-anchor=\"middle\" x=\"3636.5\" y=\"-951.3\" font-family=\"Times,serif\" font-size=\"14.00\" fill=\"#000000\">samples = 2</text>\n<text text-anchor=\"middle\" x=\"3636.5\" y=\"-936.3\" font-family=\"Times,serif\" font-size=\"14.00\" fill=\"#000000\">value = [2, 0]</text>\n</g>\n<!-- 184&#45;&gt;185 -->\n<g id=\"edge185\" class=\"edge\">\n<title>184&#45;&gt;185</title>\n<path fill=\"none\" stroke=\"#000000\" d=\"M3636.5,-1024.9465C3636.5,-1014.2621 3636.5,-1002.4254 3636.5,-991.5742\"/>\n<polygon fill=\"#000000\" stroke=\"#000000\" points=\"3640.0001,-991.5421 3636.5,-981.5422 3633.0001,-991.5422 3640.0001,-991.5421\"/>\n</g>\n<!-- 186 -->\n<g id=\"node187\" class=\"node\">\n<title>186</title>\n<polygon fill=\"none\" stroke=\"#000000\" points=\"3797,-981.5 3702,-981.5 3702,-928.5 3797,-928.5 3797,-981.5\"/>\n<text text-anchor=\"middle\" x=\"3749.5\" y=\"-966.3\" font-family=\"Times,serif\" font-size=\"14.00\" fill=\"#000000\">gini = 0.0</text>\n<text text-anchor=\"middle\" x=\"3749.5\" y=\"-951.3\" font-family=\"Times,serif\" font-size=\"14.00\" fill=\"#000000\">samples = 1</text>\n<text text-anchor=\"middle\" x=\"3749.5\" y=\"-936.3\" font-family=\"Times,serif\" font-size=\"14.00\" fill=\"#000000\">value = [0, 1]</text>\n</g>\n<!-- 184&#45;&gt;186 -->\n<g id=\"edge186\" class=\"edge\">\n<title>184&#45;&gt;186</title>\n<path fill=\"none\" stroke=\"#000000\" d=\"M3673.5004,-1024.9465C3686.1866,-1013.2707 3700.3678,-1000.219 3713.013,-988.5809\"/>\n<polygon fill=\"#000000\" stroke=\"#000000\" points=\"3715.6731,-990.8895 3720.6609,-981.5422 3710.9327,-985.7389 3715.6731,-990.8895\"/>\n</g>\n<!-- 189 -->\n<g id=\"node190\" class=\"node\">\n<title>189</title>\n<polygon fill=\"none\" stroke=\"#000000\" points=\"3800,-1197 3705,-1197 3705,-1129 3800,-1129 3800,-1197\"/>\n<text text-anchor=\"middle\" x=\"3752.5\" y=\"-1181.8\" font-family=\"Times,serif\" font-size=\"14.00\" fill=\"#000000\">X[7] &lt;= 45.5</text>\n<text text-anchor=\"middle\" x=\"3752.5\" y=\"-1166.8\" font-family=\"Times,serif\" font-size=\"14.00\" fill=\"#000000\">gini = 0.375</text>\n<text text-anchor=\"middle\" x=\"3752.5\" y=\"-1151.8\" font-family=\"Times,serif\" font-size=\"14.00\" fill=\"#000000\">samples = 4</text>\n<text text-anchor=\"middle\" x=\"3752.5\" y=\"-1136.8\" font-family=\"Times,serif\" font-size=\"14.00\" fill=\"#000000\">value = [1, 3]</text>\n</g>\n<!-- 188&#45;&gt;189 -->\n<g id=\"edge189\" class=\"edge\">\n<title>188&#45;&gt;189</title>\n<path fill=\"none\" stroke=\"#000000\" d=\"M3752.5,-1232.9465C3752.5,-1224.776 3752.5,-1215.9318 3752.5,-1207.3697\"/>\n<polygon fill=\"#000000\" stroke=\"#000000\" points=\"3756.0001,-1207.13 3752.5,-1197.13 3749.0001,-1207.13 3756.0001,-1207.13\"/>\n</g>\n<!-- 192 -->\n<g id=\"node193\" class=\"node\">\n<title>192</title>\n<polygon fill=\"none\" stroke=\"#000000\" points=\"3913,-1189.5 3818,-1189.5 3818,-1136.5 3913,-1136.5 3913,-1189.5\"/>\n<text text-anchor=\"middle\" x=\"3865.5\" y=\"-1174.3\" font-family=\"Times,serif\" font-size=\"14.00\" fill=\"#000000\">gini = 0.0</text>\n<text text-anchor=\"middle\" x=\"3865.5\" y=\"-1159.3\" font-family=\"Times,serif\" font-size=\"14.00\" fill=\"#000000\">samples = 2</text>\n<text text-anchor=\"middle\" x=\"3865.5\" y=\"-1144.3\" font-family=\"Times,serif\" font-size=\"14.00\" fill=\"#000000\">value = [2, 0]</text>\n</g>\n<!-- 188&#45;&gt;192 -->\n<g id=\"edge192\" class=\"edge\">\n<title>188&#45;&gt;192</title>\n<path fill=\"none\" stroke=\"#000000\" d=\"M3789.5004,-1232.9465C3802.1866,-1221.2707 3816.3678,-1208.219 3829.013,-1196.5809\"/>\n<polygon fill=\"#000000\" stroke=\"#000000\" points=\"3831.6731,-1198.8895 3836.6609,-1189.5422 3826.9327,-1193.7389 3831.6731,-1198.8895\"/>\n</g>\n<!-- 190 -->\n<g id=\"node191\" class=\"node\">\n<title>190</title>\n<polygon fill=\"none\" stroke=\"#000000\" points=\"3800,-1085.5 3705,-1085.5 3705,-1032.5 3800,-1032.5 3800,-1085.5\"/>\n<text text-anchor=\"middle\" x=\"3752.5\" y=\"-1070.3\" font-family=\"Times,serif\" font-size=\"14.00\" fill=\"#000000\">gini = 0.0</text>\n<text text-anchor=\"middle\" x=\"3752.5\" y=\"-1055.3\" font-family=\"Times,serif\" font-size=\"14.00\" fill=\"#000000\">samples = 3</text>\n<text text-anchor=\"middle\" x=\"3752.5\" y=\"-1040.3\" font-family=\"Times,serif\" font-size=\"14.00\" fill=\"#000000\">value = [0, 3]</text>\n</g>\n<!-- 189&#45;&gt;190 -->\n<g id=\"edge190\" class=\"edge\">\n<title>189&#45;&gt;190</title>\n<path fill=\"none\" stroke=\"#000000\" d=\"M3752.5,-1128.9465C3752.5,-1118.2621 3752.5,-1106.4254 3752.5,-1095.5742\"/>\n<polygon fill=\"#000000\" stroke=\"#000000\" points=\"3756.0001,-1095.5421 3752.5,-1085.5422 3749.0001,-1095.5422 3756.0001,-1095.5421\"/>\n</g>\n<!-- 191 -->\n<g id=\"node192\" class=\"node\">\n<title>191</title>\n<polygon fill=\"none\" stroke=\"#000000\" points=\"3913,-1085.5 3818,-1085.5 3818,-1032.5 3913,-1032.5 3913,-1085.5\"/>\n<text text-anchor=\"middle\" x=\"3865.5\" y=\"-1070.3\" font-family=\"Times,serif\" font-size=\"14.00\" fill=\"#000000\">gini = 0.0</text>\n<text text-anchor=\"middle\" x=\"3865.5\" y=\"-1055.3\" font-family=\"Times,serif\" font-size=\"14.00\" fill=\"#000000\">samples = 1</text>\n<text text-anchor=\"middle\" x=\"3865.5\" y=\"-1040.3\" font-family=\"Times,serif\" font-size=\"14.00\" fill=\"#000000\">value = [1, 0]</text>\n</g>\n<!-- 189&#45;&gt;191 -->\n<g id=\"edge191\" class=\"edge\">\n<title>189&#45;&gt;191</title>\n<path fill=\"none\" stroke=\"#000000\" d=\"M3789.5004,-1128.9465C3802.1866,-1117.2707 3816.3678,-1104.219 3829.013,-1092.5809\"/>\n<polygon fill=\"#000000\" stroke=\"#000000\" points=\"3831.6731,-1094.8895 3836.6609,-1085.5422 3826.9327,-1089.7389 3831.6731,-1094.8895\"/>\n</g>\n</g>\n</svg>\n"
          },
          "metadata": {
            "tags": []
          }
        }
      ]
    },
    {
      "cell_type": "code",
      "metadata": {
        "id": "n6HvKIQ0nEK9",
        "colab_type": "code",
        "colab": {}
      },
      "source": [
        ""
      ],
      "execution_count": null,
      "outputs": []
    }
  ]
}