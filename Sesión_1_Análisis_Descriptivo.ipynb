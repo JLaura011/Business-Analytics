{
  "nbformat": 4,
  "nbformat_minor": 0,
  "metadata": {
    "colab": {
      "name": "Sesión 1 - Análisis Descriptivo.ipynb",
      "provenance": [],
      "collapsed_sections": [],
      "include_colab_link": true
    },
    "kernelspec": {
      "name": "python3",
      "display_name": "Python 3"
    }
  },
  "cells": [
    {
      "cell_type": "markdown",
      "metadata": {
        "id": "view-in-github",
        "colab_type": "text"
      },
      "source": [
        "<a href=\"https://colab.research.google.com/github/JLaura011/Business-Analytics/blob/master/Sesi%C3%B3n_1_An%C3%A1lisis_Descriptivo.ipynb\" target=\"_parent\"><img src=\"https://colab.research.google.com/assets/colab-badge.svg\" alt=\"Open In Colab\"/></a>"
      ]
    },
    {
      "cell_type": "markdown",
      "metadata": {
        "id": "xtFv_9CyPtiw",
        "colab_type": "text"
      },
      "source": [
        "#**Sesión 1: Análisis descriptivo**\n",
        "<img src=\"https://www.grupolambda.com.pe/wp-content/uploads/2020/03/home-logo.png\" alt=\"drawing\" width=\"300\"/>\n",
        "<br>\n",
        "\n",
        " ##### Docente: Jorge Brian Alarcon Flores "
      ]
    },
    {
      "cell_type": "markdown",
      "metadata": {
        "id": "HR3DEJoUP2qU",
        "colab_type": "text"
      },
      "source": [
        "Bienvenidos a nuestra clase, en esta primera sesión aprenderemos tópicos básicos de Python que nos permitirán realizar análisis descriptivos."
      ]
    },
    {
      "cell_type": "markdown",
      "metadata": {
        "id": "DMhbb3peQCXU",
        "colab_type": "text"
      },
      "source": [
        "## ¿Qué es Python?\n",
        "\n",
        "Python es un lenguaje de programación versátil, muy potente pero sin reducir su simplicidad y fácil comprensión. EL creador de python nos deja al respecto su opinión"
      ]
    },
    {
      "cell_type": "code",
      "metadata": {
        "id": "PS2sf9yoPu9E",
        "colab_type": "code",
        "colab": {}
      },
      "source": [
        "import this"
      ],
      "execution_count": null,
      "outputs": []
    },
    {
      "cell_type": "markdown",
      "metadata": {
        "id": "eq3-R7tkTQfc",
        "colab_type": "text"
      },
      "source": [
        "#DataFrame\n",
        "Un DataFrame es una estructura tabular que contiene y ordena una colección de Series, donde cada Serie puede representa una columna de la tabla resultante. Un DataFrame tiene índices tanto en columnas (nombre de la variable) como en filas. Adicionalmente, las operaciones son en su mayoria son intercambiables entre estas dos dimensiones.\n",
        "\n",
        "Para crear un DataFrame podemos partir de un diccionario:"
      ]
    },
    {
      "cell_type": "code",
      "metadata": {
        "id": "3h4O_Rl5TP5p",
        "colab_type": "code",
        "colab": {
          "base_uri": "https://localhost:8080/",
          "height": 202
        },
        "outputId": "8d6e24cd-f5b3-45e7-87dd-497a92dff381"
      },
      "source": [
        "import pandas as pd\n",
        "data_1 = {'estado' : ['VA', 'VA', 'VA', 'MD', 'MD'],\n",
        "          'año' : [2012, 2013, 2014, 2014, 2015],\n",
        "          'poblacion' : [5.0, 5.1, 5.2, 4.0, 4.1]}\n",
        "df_1 = pd.DataFrame(data_1)\n",
        "df_1"
      ],
      "execution_count": null,
      "outputs": [
        {
          "output_type": "execute_result",
          "data": {
            "text/html": [
              "<div>\n",
              "<style scoped>\n",
              "    .dataframe tbody tr th:only-of-type {\n",
              "        vertical-align: middle;\n",
              "    }\n",
              "\n",
              "    .dataframe tbody tr th {\n",
              "        vertical-align: top;\n",
              "    }\n",
              "\n",
              "    .dataframe thead th {\n",
              "        text-align: right;\n",
              "    }\n",
              "</style>\n",
              "<table border=\"1\" class=\"dataframe\">\n",
              "  <thead>\n",
              "    <tr style=\"text-align: right;\">\n",
              "      <th></th>\n",
              "      <th>estado</th>\n",
              "      <th>año</th>\n",
              "      <th>poblacion</th>\n",
              "    </tr>\n",
              "  </thead>\n",
              "  <tbody>\n",
              "    <tr>\n",
              "      <th>0</th>\n",
              "      <td>VA</td>\n",
              "      <td>2012</td>\n",
              "      <td>5.0</td>\n",
              "    </tr>\n",
              "    <tr>\n",
              "      <th>1</th>\n",
              "      <td>VA</td>\n",
              "      <td>2013</td>\n",
              "      <td>5.1</td>\n",
              "    </tr>\n",
              "    <tr>\n",
              "      <th>2</th>\n",
              "      <td>VA</td>\n",
              "      <td>2014</td>\n",
              "      <td>5.2</td>\n",
              "    </tr>\n",
              "    <tr>\n",
              "      <th>3</th>\n",
              "      <td>MD</td>\n",
              "      <td>2014</td>\n",
              "      <td>4.0</td>\n",
              "    </tr>\n",
              "    <tr>\n",
              "      <th>4</th>\n",
              "      <td>MD</td>\n",
              "      <td>2015</td>\n",
              "      <td>4.1</td>\n",
              "    </tr>\n",
              "  </tbody>\n",
              "</table>\n",
              "</div>"
            ],
            "text/plain": [
              "  estado   año  poblacion\n",
              "0     VA  2012        5.0\n",
              "1     VA  2013        5.1\n",
              "2     VA  2014        5.2\n",
              "3     MD  2014        4.0\n",
              "4     MD  2015        4.1"
            ]
          },
          "metadata": {
            "tags": []
          },
          "execution_count": 59
        }
      ]
    },
    {
      "cell_type": "markdown",
      "metadata": {
        "id": "zOGbMZPuQpwC",
        "colab_type": "text"
      },
      "source": [
        "## Librerías en Python\n",
        "\n",
        "En Python, las librerías son fuentes de recursos con varias funcionalidades. Al utilizar dichas librerías, serás capaz de producir código eficiente y ahorraras invaluable tiempo al no tener que escribir un script desde cero. \n",
        "\n",
        "Gran parte de estas librerías son desarrolladas como proyectos Open Source. En esta dinámica, diferentes organizaciones (fundaciones, empresas privadas, universidades o personas individuales) construyen modulos adicionales para solucionar problemas particulares, por ejemplo: análisis numérico, manejo de datos, creación de modelos, visualizaciones. "
      ]
    },
    {
      "cell_type": "code",
      "metadata": {
        "id": "jkCYbqrUQOFb",
        "colab_type": "code",
        "colab": {
          "base_uri": "https://localhost:8080/",
          "height": 104
        },
        "outputId": "3bca551e-7653-45be-8f87-a647210306f4"
      },
      "source": [
        "#Instalación de librerías\n",
        "!pip install pandas"
      ],
      "execution_count": null,
      "outputs": [
        {
          "output_type": "stream",
          "text": [
            "Requirement already satisfied: pandas in /usr/local/lib/python3.6/dist-packages (1.0.3)\n",
            "Requirement already satisfied: pytz>=2017.2 in /usr/local/lib/python3.6/dist-packages (from pandas) (2018.9)\n",
            "Requirement already satisfied: python-dateutil>=2.6.1 in /usr/local/lib/python3.6/dist-packages (from pandas) (2.8.1)\n",
            "Requirement already satisfied: numpy>=1.13.3 in /usr/local/lib/python3.6/dist-packages (from pandas) (1.18.4)\n",
            "Requirement already satisfied: six>=1.5 in /usr/local/lib/python3.6/dist-packages (from python-dateutil>=2.6.1->pandas) (1.12.0)\n"
          ],
          "name": "stdout"
        }
      ]
    },
    {
      "cell_type": "code",
      "metadata": {
        "id": "Hz5an7z1Q8EQ",
        "colab_type": "code",
        "colab": {}
      },
      "source": [
        "#Importación de librerías\n",
        "import pandas as pd"
      ],
      "execution_count": null,
      "outputs": []
    },
    {
      "cell_type": "markdown",
      "metadata": {
        "id": "pZ_aOMRmW9yM",
        "colab_type": "text"
      },
      "source": [
        "#**PROYECTO 1 - ANÁLISIS DESCRIPTIVO**\n"
      ]
    },
    {
      "cell_type": "markdown",
      "metadata": {
        "id": "pKulwJLVYX8C",
        "colab_type": "text"
      },
      "source": [
        "#Descripción de la data\n",
        "Empresa de ventas online\n",
        "\n",
        "Clientes de diferentes países\n",
        "\n",
        "Periodo de transacciones - 1 Dic 2010 - 9 Dic 2011 (Un año)"
      ]
    },
    {
      "cell_type": "code",
      "metadata": {
        "id": "BYpfMHxfQ_rP",
        "colab_type": "code",
        "colab": {}
      },
      "source": [
        "url = 'https://raw.githubusercontent.com/JBrianAlicorp/Business-Analytics/master/Data_Analisis_Descriptivo.csv'\n",
        "df = pd.read_csv(url,encoding='latin1')"
      ],
      "execution_count": null,
      "outputs": []
    },
    {
      "cell_type": "markdown",
      "metadata": {
        "id": "qk2EQQI8ZFmY",
        "colab_type": "text"
      },
      "source": [
        "Importamos las librerías"
      ]
    },
    {
      "cell_type": "code",
      "metadata": {
        "id": "RoxP_SNWZH3E",
        "colab_type": "code",
        "colab": {}
      },
      "source": [
        "import pandas as pd \n",
        "import numpy as np\n",
        "import matplotlib.pyplot as plt\n",
        "import seaborn as sns \n",
        "\n",
        "import warnings\n",
        "warnings.filterwarnings('ignore')\n",
        "sns.set_style('whitegrid')\n",
        "\n",
        "import missingno as msno \n",
        "import pandas_profiling\n",
        "\n",
        "import gc\n",
        "import datetime\n",
        "\n",
        "%matplotlib inline\n",
        "color = sns.color_palette()"
      ],
      "execution_count": null,
      "outputs": []
    },
    {
      "cell_type": "markdown",
      "metadata": {
        "id": "FIYMEs9gqEbo",
        "colab_type": "text"
      },
      "source": [
        "\n",
        "En algunos casos no hemos visto nuestro data set por lo que es adecuado tener una vista de él ya sea de las primeras observaciones, las ultimas o algunas aleatoriamente:"
      ]
    },
    {
      "cell_type": "code",
      "metadata": {
        "id": "kfZcj4qtV6V0",
        "colab_type": "code",
        "colab": {
          "base_uri": "https://localhost:8080/",
          "height": 202
        },
        "outputId": "7b88fd1c-163b-4cc8-d3a4-93a6436215a3"
      },
      "source": [
        "df.head()"
      ],
      "execution_count": null,
      "outputs": [
        {
          "output_type": "execute_result",
          "data": {
            "text/html": [
              "<div>\n",
              "<style scoped>\n",
              "    .dataframe tbody tr th:only-of-type {\n",
              "        vertical-align: middle;\n",
              "    }\n",
              "\n",
              "    .dataframe tbody tr th {\n",
              "        vertical-align: top;\n",
              "    }\n",
              "\n",
              "    .dataframe thead th {\n",
              "        text-align: right;\n",
              "    }\n",
              "</style>\n",
              "<table border=\"1\" class=\"dataframe\">\n",
              "  <thead>\n",
              "    <tr style=\"text-align: right;\">\n",
              "      <th></th>\n",
              "      <th>N_Transaccion</th>\n",
              "      <th>Codigo_Producto</th>\n",
              "      <th>Descripcion</th>\n",
              "      <th>Cantidad</th>\n",
              "      <th>Fecha_Hora</th>\n",
              "      <th>Precio_Unitario</th>\n",
              "      <th>ID_Cliente</th>\n",
              "      <th>Pais</th>\n",
              "    </tr>\n",
              "  </thead>\n",
              "  <tbody>\n",
              "    <tr>\n",
              "      <th>0</th>\n",
              "      <td>536365</td>\n",
              "      <td>85123A</td>\n",
              "      <td>SOPORTE DE LUZ EN T CORAZON COLGANTE BLANCO</td>\n",
              "      <td>6</td>\n",
              "      <td>01/12/2010 08:26</td>\n",
              "      <td>2.55</td>\n",
              "      <td>17850.0</td>\n",
              "      <td>USA</td>\n",
              "    </tr>\n",
              "    <tr>\n",
              "      <th>1</th>\n",
              "      <td>536365</td>\n",
              "      <td>71053</td>\n",
              "      <td>LINTERNA DE METAL BLANCO</td>\n",
              "      <td>6</td>\n",
              "      <td>01/12/2010 08:26</td>\n",
              "      <td>3.39</td>\n",
              "      <td>17850.0</td>\n",
              "      <td>USA</td>\n",
              "    </tr>\n",
              "    <tr>\n",
              "      <th>2</th>\n",
              "      <td>536365</td>\n",
              "      <td>84406B</td>\n",
              "      <td>CREMA CUPID HEARTS PERCHERO</td>\n",
              "      <td>8</td>\n",
              "      <td>01/12/2010 08:26</td>\n",
              "      <td>2.75</td>\n",
              "      <td>17850.0</td>\n",
              "      <td>USA</td>\n",
              "    </tr>\n",
              "    <tr>\n",
              "      <th>3</th>\n",
              "      <td>536365</td>\n",
              "      <td>84029G</td>\n",
              "      <td>BOTELLA DE AGUA CALIENTE DE BANDERA DE UNION</td>\n",
              "      <td>6</td>\n",
              "      <td>01/12/2010 08:26</td>\n",
              "      <td>3.39</td>\n",
              "      <td>17850.0</td>\n",
              "      <td>USA</td>\n",
              "    </tr>\n",
              "    <tr>\n",
              "      <th>4</th>\n",
              "      <td>536365</td>\n",
              "      <td>84029E</td>\n",
              "      <td>CORAZON BLANCO CALIENTE DE LANA ROJO.</td>\n",
              "      <td>6</td>\n",
              "      <td>01/12/2010 08:26</td>\n",
              "      <td>3.39</td>\n",
              "      <td>17850.0</td>\n",
              "      <td>USA</td>\n",
              "    </tr>\n",
              "  </tbody>\n",
              "</table>\n",
              "</div>"
            ],
            "text/plain": [
              "  N_Transaccion Codigo_Producto  ... ID_Cliente  Pais\n",
              "0        536365          85123A  ...    17850.0   USA\n",
              "1        536365           71053  ...    17850.0   USA\n",
              "2        536365          84406B  ...    17850.0   USA\n",
              "3        536365          84029G  ...    17850.0   USA\n",
              "4        536365          84029E  ...    17850.0   USA\n",
              "\n",
              "[5 rows x 8 columns]"
            ]
          },
          "metadata": {
            "tags": []
          },
          "execution_count": 64
        }
      ]
    },
    {
      "cell_type": "code",
      "metadata": {
        "id": "2CTAU765V78-",
        "colab_type": "code",
        "colab": {
          "base_uri": "https://localhost:8080/",
          "height": 202
        },
        "outputId": "a4441f5c-e287-4a21-a6dc-3d9c318a3818"
      },
      "source": [
        "df.tail()"
      ],
      "execution_count": null,
      "outputs": [
        {
          "output_type": "execute_result",
          "data": {
            "text/html": [
              "<div>\n",
              "<style scoped>\n",
              "    .dataframe tbody tr th:only-of-type {\n",
              "        vertical-align: middle;\n",
              "    }\n",
              "\n",
              "    .dataframe tbody tr th {\n",
              "        vertical-align: top;\n",
              "    }\n",
              "\n",
              "    .dataframe thead th {\n",
              "        text-align: right;\n",
              "    }\n",
              "</style>\n",
              "<table border=\"1\" class=\"dataframe\">\n",
              "  <thead>\n",
              "    <tr style=\"text-align: right;\">\n",
              "      <th></th>\n",
              "      <th>N_Transaccion</th>\n",
              "      <th>Codigo_Producto</th>\n",
              "      <th>Descripcion</th>\n",
              "      <th>Cantidad</th>\n",
              "      <th>Fecha_Hora</th>\n",
              "      <th>Precio_Unitario</th>\n",
              "      <th>ID_Cliente</th>\n",
              "      <th>Pais</th>\n",
              "    </tr>\n",
              "  </thead>\n",
              "  <tbody>\n",
              "    <tr>\n",
              "      <th>3061</th>\n",
              "      <td>536594</td>\n",
              "      <td>84970L</td>\n",
              "      <td>SOPORTE DE LUZ EN T DE ZINC DE UN SOLO CORAZON</td>\n",
              "      <td>12</td>\n",
              "      <td>01/12/2010 17:22</td>\n",
              "      <td>0.95</td>\n",
              "      <td>15235.0</td>\n",
              "      <td>USA</td>\n",
              "    </tr>\n",
              "    <tr>\n",
              "      <th>3062</th>\n",
              "      <td>536594</td>\n",
              "      <td>85123A</td>\n",
              "      <td>SOPORTE DE LUZ EN T CORAZON COLGANTE BLANCO</td>\n",
              "      <td>6</td>\n",
              "      <td>01/12/2010 17:22</td>\n",
              "      <td>2.95</td>\n",
              "      <td>15235.0</td>\n",
              "      <td>USA</td>\n",
              "    </tr>\n",
              "    <tr>\n",
              "      <th>3063</th>\n",
              "      <td>536595</td>\n",
              "      <td>21877</td>\n",
              "      <td>TAZA CASERA DULCE</td>\n",
              "      <td>1</td>\n",
              "      <td>01/12/2010 17:24</td>\n",
              "      <td>1.25</td>\n",
              "      <td>13576.0</td>\n",
              "      <td>USA</td>\n",
              "    </tr>\n",
              "    <tr>\n",
              "      <th>3064</th>\n",
              "      <td>536595</td>\n",
              "      <td>21137</td>\n",
              "      <td>MARCO NEGRO DE LA CUBIERTA</td>\n",
              "      <td>60</td>\n",
              "      <td>01/12/2010 17:24</td>\n",
              "      <td>3.39</td>\n",
              "      <td>13576.0</td>\n",
              "      <td>USA</td>\n",
              "    </tr>\n",
              "    <tr>\n",
              "      <th>3065</th>\n",
              "      <td>536595</td>\n",
              "      <td>22041</td>\n",
              "      <td>MARCO DE GRABACION 7 \"TAMANO UNICO</td>\n",
              "      <td>24</td>\n",
              "      <td>01/12/2010 17:24</td>\n",
              "      <td>2.55</td>\n",
              "      <td>13576.0</td>\n",
              "      <td>USA</td>\n",
              "    </tr>\n",
              "  </tbody>\n",
              "</table>\n",
              "</div>"
            ],
            "text/plain": [
              "     N_Transaccion Codigo_Producto  ... ID_Cliente  Pais\n",
              "3061        536594          84970L  ...    15235.0   USA\n",
              "3062        536594          85123A  ...    15235.0   USA\n",
              "3063        536595           21877  ...    13576.0   USA\n",
              "3064        536595           21137  ...    13576.0   USA\n",
              "3065        536595           22041  ...    13576.0   USA\n",
              "\n",
              "[5 rows x 8 columns]"
            ]
          },
          "metadata": {
            "tags": []
          },
          "execution_count": 65
        }
      ]
    },
    {
      "cell_type": "code",
      "metadata": {
        "id": "Q-BijokmqLFm",
        "colab_type": "code",
        "colab": {
          "base_uri": "https://localhost:8080/",
          "height": 355
        },
        "outputId": "092765f7-14d4-478e-d6a6-c41bfb5a987c"
      },
      "source": [
        "df.sample(10)"
      ],
      "execution_count": null,
      "outputs": [
        {
          "output_type": "execute_result",
          "data": {
            "text/html": [
              "<div>\n",
              "<style scoped>\n",
              "    .dataframe tbody tr th:only-of-type {\n",
              "        vertical-align: middle;\n",
              "    }\n",
              "\n",
              "    .dataframe tbody tr th {\n",
              "        vertical-align: top;\n",
              "    }\n",
              "\n",
              "    .dataframe thead th {\n",
              "        text-align: right;\n",
              "    }\n",
              "</style>\n",
              "<table border=\"1\" class=\"dataframe\">\n",
              "  <thead>\n",
              "    <tr style=\"text-align: right;\">\n",
              "      <th></th>\n",
              "      <th>N_Transaccion</th>\n",
              "      <th>Codigo_Producto</th>\n",
              "      <th>Descripcion</th>\n",
              "      <th>Cantidad</th>\n",
              "      <th>Fecha_Hora</th>\n",
              "      <th>Precio_Unitario</th>\n",
              "      <th>ID_Cliente</th>\n",
              "      <th>Pais</th>\n",
              "    </tr>\n",
              "  </thead>\n",
              "  <tbody>\n",
              "    <tr>\n",
              "      <th>2455</th>\n",
              "      <td>536591</td>\n",
              "      <td>85064</td>\n",
              "      <td>RACK DE CARTA DE CREMA DULCE</td>\n",
              "      <td>2</td>\n",
              "      <td>01/12/2010 16:58</td>\n",
              "      <td>5.45</td>\n",
              "      <td>14606.0</td>\n",
              "      <td>USA</td>\n",
              "    </tr>\n",
              "    <tr>\n",
              "      <th>2993</th>\n",
              "      <td>536592</td>\n",
              "      <td>85099F</td>\n",
              "      <td>BOLSA DE FRESA JUMBO</td>\n",
              "      <td>1</td>\n",
              "      <td>01/12/2010 17:06</td>\n",
              "      <td>4.21</td>\n",
              "      <td>NaN</td>\n",
              "      <td>USA</td>\n",
              "    </tr>\n",
              "    <tr>\n",
              "      <th>2204</th>\n",
              "      <td>536569</td>\n",
              "      <td>22945</td>\n",
              "      <td>ETIQUETAS DE METAL DE NAVIDAD SURTIDAS</td>\n",
              "      <td>12</td>\n",
              "      <td>01/12/2010 15:35</td>\n",
              "      <td>0.85</td>\n",
              "      <td>16274.0</td>\n",
              "      <td>USA</td>\n",
              "    </tr>\n",
              "    <tr>\n",
              "      <th>399</th>\n",
              "      <td>536404</td>\n",
              "      <td>85049G</td>\n",
              "      <td>CINTA DE CAJA DE CHOCOLATE</td>\n",
              "      <td>12</td>\n",
              "      <td>01/12/2010 11:29</td>\n",
              "      <td>1.25</td>\n",
              "      <td>16218.0</td>\n",
              "      <td>USA</td>\n",
              "    </tr>\n",
              "    <tr>\n",
              "      <th>2544</th>\n",
              "      <td>536592</td>\n",
              "      <td>21314</td>\n",
              "      <td>BOTE CORAZON PEQUENO VIDRIO</td>\n",
              "      <td>8</td>\n",
              "      <td>01/12/2010 17:06</td>\n",
              "      <td>4.21</td>\n",
              "      <td>NaN</td>\n",
              "      <td>USA</td>\n",
              "    </tr>\n",
              "    <tr>\n",
              "      <th>449</th>\n",
              "      <td>536408</td>\n",
              "      <td>22178</td>\n",
              "      <td>VICTORIAN VIDRIO COLGANTE LUZ EN T</td>\n",
              "      <td>12</td>\n",
              "      <td>01/12/2010 11:41</td>\n",
              "      <td>1.25</td>\n",
              "      <td>14307.0</td>\n",
              "      <td>USA</td>\n",
              "    </tr>\n",
              "    <tr>\n",
              "      <th>1280</th>\n",
              "      <td>536532</td>\n",
              "      <td>84375</td>\n",
              "      <td>SET DE 20 CORTADORES DE GALLETAS PARA NINOS</td>\n",
              "      <td>24</td>\n",
              "      <td>01/12/2010 13:24</td>\n",
              "      <td>2.10</td>\n",
              "      <td>12433.0</td>\n",
              "      <td>Peru</td>\n",
              "    </tr>\n",
              "    <tr>\n",
              "      <th>2709</th>\n",
              "      <td>536592</td>\n",
              "      <td>22376</td>\n",
              "      <td>AIRLINE BAG VINTAGE JET SET BLANCO</td>\n",
              "      <td>2</td>\n",
              "      <td>01/12/2010 17:06</td>\n",
              "      <td>8.47</td>\n",
              "      <td>NaN</td>\n",
              "      <td>USA</td>\n",
              "    </tr>\n",
              "    <tr>\n",
              "      <th>2465</th>\n",
              "      <td>536592</td>\n",
              "      <td>16238</td>\n",
              "      <td>Borradores de lapiz de fiesta</td>\n",
              "      <td>5</td>\n",
              "      <td>01/12/2010 17:06</td>\n",
              "      <td>0.43</td>\n",
              "      <td>NaN</td>\n",
              "      <td>USA</td>\n",
              "    </tr>\n",
              "    <tr>\n",
              "      <th>2142</th>\n",
              "      <td>536562</td>\n",
              "      <td>22752</td>\n",
              "      <td>SET 7 CAJAS DE NIDIFICACION BABUSHKA</td>\n",
              "      <td>2</td>\n",
              "      <td>01/12/2010 15:08</td>\n",
              "      <td>8.50</td>\n",
              "      <td>13468.0</td>\n",
              "      <td>USA</td>\n",
              "    </tr>\n",
              "  </tbody>\n",
              "</table>\n",
              "</div>"
            ],
            "text/plain": [
              "     N_Transaccion Codigo_Producto  ... ID_Cliente  Pais\n",
              "2455        536591           85064  ...    14606.0   USA\n",
              "2993        536592          85099F  ...        NaN   USA\n",
              "2204        536569           22945  ...    16274.0   USA\n",
              "399         536404          85049G  ...    16218.0   USA\n",
              "2544        536592           21314  ...        NaN   USA\n",
              "449         536408           22178  ...    14307.0   USA\n",
              "1280        536532           84375  ...    12433.0  Peru\n",
              "2709        536592           22376  ...        NaN   USA\n",
              "2465        536592           16238  ...        NaN   USA\n",
              "2142        536562           22752  ...    13468.0   USA\n",
              "\n",
              "[10 rows x 8 columns]"
            ]
          },
          "metadata": {
            "tags": []
          },
          "execution_count": 66
        }
      ]
    },
    {
      "cell_type": "markdown",
      "metadata": {
        "id": "eBX2e4p7Nvvi",
        "colab_type": "text"
      },
      "source": [
        "Cambiamos el nombre de las columnas"
      ]
    },
    {
      "cell_type": "code",
      "metadata": {
        "id": "hbVlCNIRr-VF",
        "colab_type": "code",
        "colab": {}
      },
      "source": [
        "df.rename(index=str, columns={'N_Transaccion ': 'n_transaccion',\n",
        "                              'Codigo_Producto' : 'codigo_producto',\n",
        "                              'Descripcion' : 'descripcion',\n",
        "                              'Cantidad' : 'cantidad',\n",
        "                              'Fecha_Hora' : 'fecha_hora',\n",
        "                              'Precio_Unitario' : 'precio_unitario',\n",
        "                              'ID_Cliente' : 'id_cliente',\n",
        "                              'Pais' : 'pais'}, inplace=True)"
      ],
      "execution_count": null,
      "outputs": []
    },
    {
      "cell_type": "markdown",
      "metadata": {
        "id": "QnDslpsfZ22A",
        "colab_type": "text"
      },
      "source": [
        "#Limpieza y tratamiento de datos\n",
        "La limpieza de datos, data cleansing o scrubbing es un proceso necesario para asegurar la calidad de los datos que se emplearán para analytics. Este paso es fundamental para minimizar el riesgo que supondría el basar la toma de decisiones en información poco precisa, errónea o incompleta.\n",
        "\n"
      ]
    },
    {
      "cell_type": "code",
      "metadata": {
        "id": "94GgrtTnaDxN",
        "colab_type": "code",
        "colab": {
          "base_uri": "https://localhost:8080/",
          "height": 277
        },
        "outputId": "03bb5f1f-d09b-408c-89c5-544f0e3fa0d3"
      },
      "source": [
        "df.info()"
      ],
      "execution_count": null,
      "outputs": [
        {
          "output_type": "stream",
          "text": [
            "<class 'pandas.core.frame.DataFrame'>\n",
            "Index: 3066 entries, 0 to 3065\n",
            "Data columns (total 8 columns):\n",
            " #   Column           Non-Null Count  Dtype  \n",
            "---  ------           --------------  -----  \n",
            " 0   N_Transaccion    3066 non-null   object \n",
            " 1   codigo_producto  3066 non-null   object \n",
            " 2   descripcion      3056 non-null   object \n",
            " 3   cantidad         3066 non-null   int64  \n",
            " 4   fecha_hora       3066 non-null   object \n",
            " 5   precio_unitario  3066 non-null   float64\n",
            " 6   id_cliente       1932 non-null   float64\n",
            " 7   pais             3066 non-null   object \n",
            "dtypes: float64(2), int64(1), object(5)\n",
            "memory usage: 215.6+ KB\n"
          ],
          "name": "stdout"
        }
      ]
    },
    {
      "cell_type": "code",
      "metadata": {
        "id": "eSGX6WujaIR4",
        "colab_type": "code",
        "colab": {
          "base_uri": "https://localhost:8080/",
          "height": 173
        },
        "outputId": "252e7102-870b-49a9-ec75-e1ad2bf6b84e"
      },
      "source": [
        "# Revisamos valores perdidos para cada variable\n",
        "df.isnull().sum().sort_values(ascending=False)"
      ],
      "execution_count": null,
      "outputs": [
        {
          "output_type": "execute_result",
          "data": {
            "text/plain": [
              "id_cliente         1134\n",
              "descripcion          10\n",
              "pais                  0\n",
              "precio_unitario       0\n",
              "fecha_hora            0\n",
              "cantidad              0\n",
              "codigo_producto       0\n",
              "N_Transaccion         0\n",
              "dtype: int64"
            ]
          },
          "metadata": {
            "tags": []
          },
          "execution_count": 69
        }
      ]
    },
    {
      "cell_type": "code",
      "metadata": {
        "id": "gL1aK9VbaPlt",
        "colab_type": "code",
        "colab": {
          "base_uri": "https://localhost:8080/",
          "height": 202
        },
        "outputId": "4143cfc9-1f7f-45fd-dbcf-cb091a21bde5"
      },
      "source": [
        "# Revisamos como se están mostrando los valores perdidos en nuestra data\n",
        "df[df.isnull().any(axis=1)].head()"
      ],
      "execution_count": null,
      "outputs": [
        {
          "output_type": "execute_result",
          "data": {
            "text/html": [
              "<div>\n",
              "<style scoped>\n",
              "    .dataframe tbody tr th:only-of-type {\n",
              "        vertical-align: middle;\n",
              "    }\n",
              "\n",
              "    .dataframe tbody tr th {\n",
              "        vertical-align: top;\n",
              "    }\n",
              "\n",
              "    .dataframe thead th {\n",
              "        text-align: right;\n",
              "    }\n",
              "</style>\n",
              "<table border=\"1\" class=\"dataframe\">\n",
              "  <thead>\n",
              "    <tr style=\"text-align: right;\">\n",
              "      <th></th>\n",
              "      <th>N_Transaccion</th>\n",
              "      <th>codigo_producto</th>\n",
              "      <th>descripcion</th>\n",
              "      <th>cantidad</th>\n",
              "      <th>fecha_hora</th>\n",
              "      <th>precio_unitario</th>\n",
              "      <th>id_cliente</th>\n",
              "      <th>pais</th>\n",
              "    </tr>\n",
              "  </thead>\n",
              "  <tbody>\n",
              "    <tr>\n",
              "      <th>622</th>\n",
              "      <td>536414</td>\n",
              "      <td>22139</td>\n",
              "      <td>NaN</td>\n",
              "      <td>56</td>\n",
              "      <td>01/12/2010 11:52</td>\n",
              "      <td>0.00</td>\n",
              "      <td>NaN</td>\n",
              "      <td>USA</td>\n",
              "    </tr>\n",
              "    <tr>\n",
              "      <th>1443</th>\n",
              "      <td>536544</td>\n",
              "      <td>21773</td>\n",
              "      <td>BOTELLA DECORATIVA DE BANO ROSA</td>\n",
              "      <td>1</td>\n",
              "      <td>01/12/2010 14:32</td>\n",
              "      <td>2.51</td>\n",
              "      <td>NaN</td>\n",
              "      <td>USA</td>\n",
              "    </tr>\n",
              "    <tr>\n",
              "      <th>1444</th>\n",
              "      <td>536544</td>\n",
              "      <td>21774</td>\n",
              "      <td>BOTELLA DE BANO GATOS DECORATIVOS</td>\n",
              "      <td>2</td>\n",
              "      <td>01/12/2010 14:32</td>\n",
              "      <td>2.51</td>\n",
              "      <td>NaN</td>\n",
              "      <td>USA</td>\n",
              "    </tr>\n",
              "    <tr>\n",
              "      <th>1445</th>\n",
              "      <td>536544</td>\n",
              "      <td>21786</td>\n",
              "      <td>SOMBRERO DE LLUVIA DE POLKADOT</td>\n",
              "      <td>4</td>\n",
              "      <td>01/12/2010 14:32</td>\n",
              "      <td>0.85</td>\n",
              "      <td>NaN</td>\n",
              "      <td>USA</td>\n",
              "    </tr>\n",
              "    <tr>\n",
              "      <th>1446</th>\n",
              "      <td>536544</td>\n",
              "      <td>21787</td>\n",
              "      <td>RETROSPOT DE LLUVIA PONCHO</td>\n",
              "      <td>2</td>\n",
              "      <td>01/12/2010 14:32</td>\n",
              "      <td>1.66</td>\n",
              "      <td>NaN</td>\n",
              "      <td>USA</td>\n",
              "    </tr>\n",
              "  </tbody>\n",
              "</table>\n",
              "</div>"
            ],
            "text/plain": [
              "     N_Transaccion codigo_producto  ... id_cliente  pais\n",
              "622         536414           22139  ...        NaN   USA\n",
              "1443        536544           21773  ...        NaN   USA\n",
              "1444        536544           21774  ...        NaN   USA\n",
              "1445        536544           21786  ...        NaN   USA\n",
              "1446        536544           21787  ...        NaN   USA\n",
              "\n",
              "[5 rows x 8 columns]"
            ]
          },
          "metadata": {
            "tags": []
          },
          "execution_count": 70
        }
      ]
    },
    {
      "cell_type": "code",
      "metadata": {
        "id": "lZKKqrdbadel",
        "colab_type": "code",
        "colab": {}
      },
      "source": [
        "# Cambiamos el formato de la columna fecha_hora a un formato de fecha en python\n",
        "df['fecha_hora'] = pd.to_datetime(df.fecha_hora, format='%m/%d/%Y %H:%M')"
      ],
      "execution_count": null,
      "outputs": []
    },
    {
      "cell_type": "markdown",
      "metadata": {
        "id": "yjLthOgAa-Dq",
        "colab_type": "text"
      },
      "source": [
        "Removemos filas con valores perdidos\n"
      ]
    },
    {
      "cell_type": "code",
      "metadata": {
        "id": "12-T_Jldau12",
        "colab_type": "code",
        "colab": {}
      },
      "source": [
        "# Creamos una nueva tabla sin los valores perdidos\n",
        "df_new = df.dropna()"
      ],
      "execution_count": null,
      "outputs": []
    },
    {
      "cell_type": "code",
      "metadata": {
        "id": "tUoZRAuSbIPw",
        "colab_type": "code",
        "colab": {
          "base_uri": "https://localhost:8080/",
          "height": 173
        },
        "outputId": "6ac1ea47-9f78-4cfb-b8b3-d6480cb563c1"
      },
      "source": [
        "# Revisamos nuevamente los valores perdidos en nuestra nueva tabla\n",
        "df_new.isnull().sum().sort_values(ascending=False)"
      ],
      "execution_count": null,
      "outputs": [
        {
          "output_type": "execute_result",
          "data": {
            "text/plain": [
              "pais               0\n",
              "id_cliente         0\n",
              "precio_unitario    0\n",
              "fecha_hora         0\n",
              "cantidad           0\n",
              "descripcion        0\n",
              "codigo_producto    0\n",
              "N_Transaccion      0\n",
              "dtype: int64"
            ]
          },
          "metadata": {
            "tags": []
          },
          "execution_count": 73
        }
      ]
    },
    {
      "cell_type": "code",
      "metadata": {
        "id": "10z20t9hbRw3",
        "colab_type": "code",
        "colab": {
          "base_uri": "https://localhost:8080/",
          "height": 277
        },
        "outputId": "fa25d526-1399-4e1e-9928-84955a4368b4"
      },
      "source": [
        "df_new.info()"
      ],
      "execution_count": null,
      "outputs": [
        {
          "output_type": "stream",
          "text": [
            "<class 'pandas.core.frame.DataFrame'>\n",
            "Index: 1932 entries, 0 to 3065\n",
            "Data columns (total 8 columns):\n",
            " #   Column           Non-Null Count  Dtype         \n",
            "---  ------           --------------  -----         \n",
            " 0   N_Transaccion    1932 non-null   object        \n",
            " 1   codigo_producto  1932 non-null   object        \n",
            " 2   descripcion      1932 non-null   object        \n",
            " 3   cantidad         1932 non-null   int64         \n",
            " 4   fecha_hora       1932 non-null   datetime64[ns]\n",
            " 5   precio_unitario  1932 non-null   float64       \n",
            " 6   id_cliente       1932 non-null   float64       \n",
            " 7   pais             1932 non-null   object        \n",
            "dtypes: datetime64[ns](1), float64(2), int64(1), object(4)\n",
            "memory usage: 135.8+ KB\n"
          ],
          "name": "stdout"
        }
      ]
    },
    {
      "cell_type": "code",
      "metadata": {
        "id": "XGlqmEO_bWiV",
        "colab_type": "code",
        "colab": {}
      },
      "source": [
        "# Cambiamos el tipo de variable del id_cliente\n",
        "df_new['id_cliente'] = df_new['id_cliente'].astype('str')"
      ],
      "execution_count": null,
      "outputs": []
    },
    {
      "cell_type": "code",
      "metadata": {
        "id": "d_4a2V8Lbqdm",
        "colab_type": "code",
        "colab": {
          "base_uri": "https://localhost:8080/",
          "height": 202
        },
        "outputId": "32a78802-9014-4295-9768-eaeca5467aee"
      },
      "source": [
        "df_new.head()"
      ],
      "execution_count": null,
      "outputs": [
        {
          "output_type": "execute_result",
          "data": {
            "text/html": [
              "<div>\n",
              "<style scoped>\n",
              "    .dataframe tbody tr th:only-of-type {\n",
              "        vertical-align: middle;\n",
              "    }\n",
              "\n",
              "    .dataframe tbody tr th {\n",
              "        vertical-align: top;\n",
              "    }\n",
              "\n",
              "    .dataframe thead th {\n",
              "        text-align: right;\n",
              "    }\n",
              "</style>\n",
              "<table border=\"1\" class=\"dataframe\">\n",
              "  <thead>\n",
              "    <tr style=\"text-align: right;\">\n",
              "      <th></th>\n",
              "      <th>N_Transaccion</th>\n",
              "      <th>codigo_producto</th>\n",
              "      <th>descripcion</th>\n",
              "      <th>cantidad</th>\n",
              "      <th>fecha_hora</th>\n",
              "      <th>precio_unitario</th>\n",
              "      <th>id_cliente</th>\n",
              "      <th>pais</th>\n",
              "    </tr>\n",
              "  </thead>\n",
              "  <tbody>\n",
              "    <tr>\n",
              "      <th>0</th>\n",
              "      <td>536365</td>\n",
              "      <td>85123A</td>\n",
              "      <td>SOPORTE DE LUZ EN T CORAZON COLGANTE BLANCO</td>\n",
              "      <td>6</td>\n",
              "      <td>2010-01-12 08:26:00</td>\n",
              "      <td>2.55</td>\n",
              "      <td>17850.0</td>\n",
              "      <td>USA</td>\n",
              "    </tr>\n",
              "    <tr>\n",
              "      <th>1</th>\n",
              "      <td>536365</td>\n",
              "      <td>71053</td>\n",
              "      <td>LINTERNA DE METAL BLANCO</td>\n",
              "      <td>6</td>\n",
              "      <td>2010-01-12 08:26:00</td>\n",
              "      <td>3.39</td>\n",
              "      <td>17850.0</td>\n",
              "      <td>USA</td>\n",
              "    </tr>\n",
              "    <tr>\n",
              "      <th>2</th>\n",
              "      <td>536365</td>\n",
              "      <td>84406B</td>\n",
              "      <td>CREMA CUPID HEARTS PERCHERO</td>\n",
              "      <td>8</td>\n",
              "      <td>2010-01-12 08:26:00</td>\n",
              "      <td>2.75</td>\n",
              "      <td>17850.0</td>\n",
              "      <td>USA</td>\n",
              "    </tr>\n",
              "    <tr>\n",
              "      <th>3</th>\n",
              "      <td>536365</td>\n",
              "      <td>84029G</td>\n",
              "      <td>BOTELLA DE AGUA CALIENTE DE BANDERA DE UNION</td>\n",
              "      <td>6</td>\n",
              "      <td>2010-01-12 08:26:00</td>\n",
              "      <td>3.39</td>\n",
              "      <td>17850.0</td>\n",
              "      <td>USA</td>\n",
              "    </tr>\n",
              "    <tr>\n",
              "      <th>4</th>\n",
              "      <td>536365</td>\n",
              "      <td>84029E</td>\n",
              "      <td>CORAZON BLANCO CALIENTE DE LANA ROJO.</td>\n",
              "      <td>6</td>\n",
              "      <td>2010-01-12 08:26:00</td>\n",
              "      <td>3.39</td>\n",
              "      <td>17850.0</td>\n",
              "      <td>USA</td>\n",
              "    </tr>\n",
              "  </tbody>\n",
              "</table>\n",
              "</div>"
            ],
            "text/plain": [
              "  N_Transaccion codigo_producto  ... id_cliente  pais\n",
              "0        536365          85123A  ...    17850.0   USA\n",
              "1        536365           71053  ...    17850.0   USA\n",
              "2        536365          84406B  ...    17850.0   USA\n",
              "3        536365          84029G  ...    17850.0   USA\n",
              "4        536365          84029E  ...    17850.0   USA\n",
              "\n",
              "[5 rows x 8 columns]"
            ]
          },
          "metadata": {
            "tags": []
          },
          "execution_count": 77
        }
      ]
    },
    {
      "cell_type": "code",
      "metadata": {
        "id": "6tmiK5Dabure",
        "colab_type": "code",
        "colab": {
          "base_uri": "https://localhost:8080/",
          "height": 35
        },
        "outputId": "0d1bc2a6-4ecb-496e-b5c5-7634e50190a2"
      },
      "source": [
        "#Veo la cantidad de filas y columnas que tiene mi nueva tabla\n",
        "df_new.shape"
      ],
      "execution_count": null,
      "outputs": [
        {
          "output_type": "execute_result",
          "data": {
            "text/plain": [
              "(1932, 8)"
            ]
          },
          "metadata": {
            "tags": []
          },
          "execution_count": 78
        }
      ]
    },
    {
      "cell_type": "markdown",
      "metadata": {
        "id": "W_hHsqO-qWJe",
        "colab_type": "text"
      },
      "source": [
        "\n",
        "Para iniciar hagamos un análisis descriptivo sencillo de los datos:"
      ]
    },
    {
      "cell_type": "code",
      "metadata": {
        "id": "k8GwKj_JqPXS",
        "colab_type": "code",
        "colab": {
          "base_uri": "https://localhost:8080/",
          "height": 294
        },
        "outputId": "920e224c-2787-4e37-8dd4-fa9e6deabea5"
      },
      "source": [
        "df_new.describe().round(2) #El .round(2) es para acotar los resultados a dos decimales"
      ],
      "execution_count": null,
      "outputs": [
        {
          "output_type": "execute_result",
          "data": {
            "text/html": [
              "<div>\n",
              "<style scoped>\n",
              "    .dataframe tbody tr th:only-of-type {\n",
              "        vertical-align: middle;\n",
              "    }\n",
              "\n",
              "    .dataframe tbody tr th {\n",
              "        vertical-align: top;\n",
              "    }\n",
              "\n",
              "    .dataframe thead th {\n",
              "        text-align: right;\n",
              "    }\n",
              "</style>\n",
              "<table border=\"1\" class=\"dataframe\">\n",
              "  <thead>\n",
              "    <tr style=\"text-align: right;\">\n",
              "      <th></th>\n",
              "      <th>cantidad</th>\n",
              "      <th>precio_unitario</th>\n",
              "    </tr>\n",
              "  </thead>\n",
              "  <tbody>\n",
              "    <tr>\n",
              "      <th>count</th>\n",
              "      <td>1932.00</td>\n",
              "      <td>1932.00</td>\n",
              "    </tr>\n",
              "    <tr>\n",
              "      <th>mean</th>\n",
              "      <td>12.39</td>\n",
              "      <td>3.18</td>\n",
              "    </tr>\n",
              "    <tr>\n",
              "      <th>std</th>\n",
              "      <td>32.75</td>\n",
              "      <td>4.92</td>\n",
              "    </tr>\n",
              "    <tr>\n",
              "      <th>min</th>\n",
              "      <td>-24.00</td>\n",
              "      <td>0.10</td>\n",
              "    </tr>\n",
              "    <tr>\n",
              "      <th>25%</th>\n",
              "      <td>1.00</td>\n",
              "      <td>1.25</td>\n",
              "    </tr>\n",
              "    <tr>\n",
              "      <th>50%</th>\n",
              "      <td>4.00</td>\n",
              "      <td>2.10</td>\n",
              "    </tr>\n",
              "    <tr>\n",
              "      <th>75%</th>\n",
              "      <td>12.00</td>\n",
              "      <td>3.75</td>\n",
              "    </tr>\n",
              "    <tr>\n",
              "      <th>max</th>\n",
              "      <td>600.00</td>\n",
              "      <td>165.00</td>\n",
              "    </tr>\n",
              "  </tbody>\n",
              "</table>\n",
              "</div>"
            ],
            "text/plain": [
              "       cantidad  precio_unitario\n",
              "count   1932.00          1932.00\n",
              "mean      12.39             3.18\n",
              "std       32.75             4.92\n",
              "min      -24.00             0.10\n",
              "25%        1.00             1.25\n",
              "50%        4.00             2.10\n",
              "75%       12.00             3.75\n",
              "max      600.00           165.00"
            ]
          },
          "metadata": {
            "tags": []
          },
          "execution_count": 79
        }
      ]
    },
    {
      "cell_type": "markdown",
      "metadata": {
        "id": "evEzFSQlcpRT",
        "colab_type": "text"
      },
      "source": [
        "Vemos que la variable cantidad cuenta con valores negativos lo cual no está bien, así que los removemos de nuestra data"
      ]
    },
    {
      "cell_type": "code",
      "metadata": {
        "id": "z64pYy58cdnu",
        "colab_type": "code",
        "colab": {}
      },
      "source": [
        "df_new = df_new[df_new.cantidad > 0]"
      ],
      "execution_count": null,
      "outputs": []
    },
    {
      "cell_type": "code",
      "metadata": {
        "id": "cyusjjtdDaUm",
        "colab_type": "code",
        "colab": {
          "base_uri": "https://localhost:8080/",
          "height": 294
        },
        "outputId": "1ad76aa4-cbd4-4d62-d11f-17f24264ffe8"
      },
      "source": [
        "df_new.describe()"
      ],
      "execution_count": null,
      "outputs": [
        {
          "output_type": "execute_result",
          "data": {
            "text/html": [
              "<div>\n",
              "<style scoped>\n",
              "    .dataframe tbody tr th:only-of-type {\n",
              "        vertical-align: middle;\n",
              "    }\n",
              "\n",
              "    .dataframe tbody tr th {\n",
              "        vertical-align: top;\n",
              "    }\n",
              "\n",
              "    .dataframe thead th {\n",
              "        text-align: right;\n",
              "    }\n",
              "</style>\n",
              "<table border=\"1\" class=\"dataframe\">\n",
              "  <thead>\n",
              "    <tr style=\"text-align: right;\">\n",
              "      <th></th>\n",
              "      <th>cantidad</th>\n",
              "      <th>precio_unitario</th>\n",
              "    </tr>\n",
              "  </thead>\n",
              "  <tbody>\n",
              "    <tr>\n",
              "      <th>count</th>\n",
              "      <td>1906.000000</td>\n",
              "      <td>1906.000000</td>\n",
              "    </tr>\n",
              "    <tr>\n",
              "      <th>mean</th>\n",
              "      <td>12.655299</td>\n",
              "      <td>3.172712</td>\n",
              "    </tr>\n",
              "    <tr>\n",
              "      <th>std</th>\n",
              "      <td>32.877778</td>\n",
              "      <td>4.916191</td>\n",
              "    </tr>\n",
              "    <tr>\n",
              "      <th>min</th>\n",
              "      <td>1.000000</td>\n",
              "      <td>0.100000</td>\n",
              "    </tr>\n",
              "    <tr>\n",
              "      <th>25%</th>\n",
              "      <td>1.000000</td>\n",
              "      <td>1.250000</td>\n",
              "    </tr>\n",
              "    <tr>\n",
              "      <th>50%</th>\n",
              "      <td>4.000000</td>\n",
              "      <td>2.100000</td>\n",
              "    </tr>\n",
              "    <tr>\n",
              "      <th>75%</th>\n",
              "      <td>12.000000</td>\n",
              "      <td>3.750000</td>\n",
              "    </tr>\n",
              "    <tr>\n",
              "      <th>max</th>\n",
              "      <td>600.000000</td>\n",
              "      <td>165.000000</td>\n",
              "    </tr>\n",
              "  </tbody>\n",
              "</table>\n",
              "</div>"
            ],
            "text/plain": [
              "          cantidad  precio_unitario\n",
              "count  1906.000000      1906.000000\n",
              "mean     12.655299         3.172712\n",
              "std      32.877778         4.916191\n",
              "min       1.000000         0.100000\n",
              "25%       1.000000         1.250000\n",
              "50%       4.000000         2.100000\n",
              "75%      12.000000         3.750000\n",
              "max     600.000000       165.000000"
            ]
          },
          "metadata": {
            "tags": []
          },
          "execution_count": 82
        }
      ]
    },
    {
      "cell_type": "code",
      "metadata": {
        "id": "AmECanGac0lX",
        "colab_type": "code",
        "colab": {
          "base_uri": "https://localhost:8080/",
          "height": 277
        },
        "outputId": "8a82e43a-720d-420c-a51a-fe5462a43af6"
      },
      "source": [
        "df_new.info()"
      ],
      "execution_count": null,
      "outputs": [
        {
          "output_type": "stream",
          "text": [
            "<class 'pandas.core.frame.DataFrame'>\n",
            "Index: 1906 entries, 0 to 3065\n",
            "Data columns (total 8 columns):\n",
            " #   Column           Non-Null Count  Dtype         \n",
            "---  ------           --------------  -----         \n",
            " 0   N_Transaccion    1906 non-null   object        \n",
            " 1   codigo_producto  1906 non-null   object        \n",
            " 2   descripcion      1906 non-null   object        \n",
            " 3   cantidad         1906 non-null   int64         \n",
            " 4   fecha_hora       1906 non-null   datetime64[ns]\n",
            " 5   precio_unitario  1906 non-null   float64       \n",
            " 6   id_cliente       1906 non-null   object        \n",
            " 7   pais             1906 non-null   object        \n",
            "dtypes: datetime64[ns](1), float64(1), int64(1), object(5)\n",
            "memory usage: 134.0+ KB\n"
          ],
          "name": "stdout"
        }
      ]
    },
    {
      "cell_type": "code",
      "metadata": {
        "id": "ay5chStcc34v",
        "colab_type": "code",
        "colab": {
          "base_uri": "https://localhost:8080/",
          "height": 294
        },
        "outputId": "964df7da-8b7f-43e4-c6ad-12dee44a6c7e"
      },
      "source": [
        "#Reviso nuevamente el descriptivo y verifico que ya no tenga negativos\n",
        "df_new.describe().round(2)"
      ],
      "execution_count": null,
      "outputs": [
        {
          "output_type": "execute_result",
          "data": {
            "text/html": [
              "<div>\n",
              "<style scoped>\n",
              "    .dataframe tbody tr th:only-of-type {\n",
              "        vertical-align: middle;\n",
              "    }\n",
              "\n",
              "    .dataframe tbody tr th {\n",
              "        vertical-align: top;\n",
              "    }\n",
              "\n",
              "    .dataframe thead th {\n",
              "        text-align: right;\n",
              "    }\n",
              "</style>\n",
              "<table border=\"1\" class=\"dataframe\">\n",
              "  <thead>\n",
              "    <tr style=\"text-align: right;\">\n",
              "      <th></th>\n",
              "      <th>cantidad</th>\n",
              "      <th>precio_unitario</th>\n",
              "    </tr>\n",
              "  </thead>\n",
              "  <tbody>\n",
              "    <tr>\n",
              "      <th>count</th>\n",
              "      <td>1906.00</td>\n",
              "      <td>1906.00</td>\n",
              "    </tr>\n",
              "    <tr>\n",
              "      <th>mean</th>\n",
              "      <td>12.66</td>\n",
              "      <td>3.17</td>\n",
              "    </tr>\n",
              "    <tr>\n",
              "      <th>std</th>\n",
              "      <td>32.88</td>\n",
              "      <td>4.92</td>\n",
              "    </tr>\n",
              "    <tr>\n",
              "      <th>min</th>\n",
              "      <td>1.00</td>\n",
              "      <td>0.10</td>\n",
              "    </tr>\n",
              "    <tr>\n",
              "      <th>25%</th>\n",
              "      <td>1.00</td>\n",
              "      <td>1.25</td>\n",
              "    </tr>\n",
              "    <tr>\n",
              "      <th>50%</th>\n",
              "      <td>4.00</td>\n",
              "      <td>2.10</td>\n",
              "    </tr>\n",
              "    <tr>\n",
              "      <th>75%</th>\n",
              "      <td>12.00</td>\n",
              "      <td>3.75</td>\n",
              "    </tr>\n",
              "    <tr>\n",
              "      <th>max</th>\n",
              "      <td>600.00</td>\n",
              "      <td>165.00</td>\n",
              "    </tr>\n",
              "  </tbody>\n",
              "</table>\n",
              "</div>"
            ],
            "text/plain": [
              "       cantidad  precio_unitario\n",
              "count   1906.00          1906.00\n",
              "mean      12.66             3.17\n",
              "std       32.88             4.92\n",
              "min        1.00             0.10\n",
              "25%        1.00             1.25\n",
              "50%        4.00             2.10\n",
              "75%       12.00             3.75\n",
              "max      600.00           165.00"
            ]
          },
          "metadata": {
            "tags": []
          },
          "execution_count": 24
        }
      ]
    },
    {
      "cell_type": "markdown",
      "metadata": {
        "id": "cdFttukKdfcv",
        "colab_type": "text"
      },
      "source": [
        "Muchas veces podemos crear nuevas variables a partir de las que ya tenemos:"
      ]
    },
    {
      "cell_type": "code",
      "metadata": {
        "id": "3WPgVWjjdYz5",
        "colab_type": "code",
        "colab": {
          "base_uri": "https://localhost:8080/",
          "height": 289
        },
        "outputId": "b46a749d-0b77-43c6-b026-88e90a5331c5"
      },
      "source": [
        "df_new['venta_total'] = df_new['cantidad'] * df_new['precio_unitario']\n",
        "df_new.head()"
      ],
      "execution_count": null,
      "outputs": [
        {
          "output_type": "execute_result",
          "data": {
            "text/html": [
              "<div>\n",
              "<style scoped>\n",
              "    .dataframe tbody tr th:only-of-type {\n",
              "        vertical-align: middle;\n",
              "    }\n",
              "\n",
              "    .dataframe tbody tr th {\n",
              "        vertical-align: top;\n",
              "    }\n",
              "\n",
              "    .dataframe thead th {\n",
              "        text-align: right;\n",
              "    }\n",
              "</style>\n",
              "<table border=\"1\" class=\"dataframe\">\n",
              "  <thead>\n",
              "    <tr style=\"text-align: right;\">\n",
              "      <th></th>\n",
              "      <th>N_Transaccion</th>\n",
              "      <th>codigo_producto</th>\n",
              "      <th>descripcion</th>\n",
              "      <th>cantidad</th>\n",
              "      <th>fecha_hora</th>\n",
              "      <th>precio_unitario</th>\n",
              "      <th>id_cliente</th>\n",
              "      <th>pais</th>\n",
              "      <th>venta_total</th>\n",
              "    </tr>\n",
              "  </thead>\n",
              "  <tbody>\n",
              "    <tr>\n",
              "      <th>0</th>\n",
              "      <td>536365</td>\n",
              "      <td>85123A</td>\n",
              "      <td>SOPORTE DE LUZ EN T CORAZON COLGANTE BLANCO</td>\n",
              "      <td>6</td>\n",
              "      <td>2010-01-12 08:26:00</td>\n",
              "      <td>2.55</td>\n",
              "      <td>17850.0</td>\n",
              "      <td>USA</td>\n",
              "      <td>15.30</td>\n",
              "    </tr>\n",
              "    <tr>\n",
              "      <th>1</th>\n",
              "      <td>536365</td>\n",
              "      <td>71053</td>\n",
              "      <td>LINTERNA DE METAL BLANCO</td>\n",
              "      <td>6</td>\n",
              "      <td>2010-01-12 08:26:00</td>\n",
              "      <td>3.39</td>\n",
              "      <td>17850.0</td>\n",
              "      <td>USA</td>\n",
              "      <td>20.34</td>\n",
              "    </tr>\n",
              "    <tr>\n",
              "      <th>2</th>\n",
              "      <td>536365</td>\n",
              "      <td>84406B</td>\n",
              "      <td>CREMA CUPID HEARTS PERCHERO</td>\n",
              "      <td>8</td>\n",
              "      <td>2010-01-12 08:26:00</td>\n",
              "      <td>2.75</td>\n",
              "      <td>17850.0</td>\n",
              "      <td>USA</td>\n",
              "      <td>22.00</td>\n",
              "    </tr>\n",
              "    <tr>\n",
              "      <th>3</th>\n",
              "      <td>536365</td>\n",
              "      <td>84029G</td>\n",
              "      <td>BOTELLA DE AGUA CALIENTE DE BANDERA DE UNION</td>\n",
              "      <td>6</td>\n",
              "      <td>2010-01-12 08:26:00</td>\n",
              "      <td>3.39</td>\n",
              "      <td>17850.0</td>\n",
              "      <td>USA</td>\n",
              "      <td>20.34</td>\n",
              "    </tr>\n",
              "    <tr>\n",
              "      <th>4</th>\n",
              "      <td>536365</td>\n",
              "      <td>84029E</td>\n",
              "      <td>CORAZON BLANCO CALIENTE DE LANA ROJO.</td>\n",
              "      <td>6</td>\n",
              "      <td>2010-01-12 08:26:00</td>\n",
              "      <td>3.39</td>\n",
              "      <td>17850.0</td>\n",
              "      <td>USA</td>\n",
              "      <td>20.34</td>\n",
              "    </tr>\n",
              "  </tbody>\n",
              "</table>\n",
              "</div>"
            ],
            "text/plain": [
              "  N_Transaccion codigo_producto  ... pais  venta_total\n",
              "0        536365          85123A  ...  USA        15.30\n",
              "1        536365           71053  ...  USA        20.34\n",
              "2        536365          84406B  ...  USA        22.00\n",
              "3        536365          84029G  ...  USA        20.34\n",
              "4        536365          84029E  ...  USA        20.34\n",
              "\n",
              "[5 rows x 9 columns]"
            ]
          },
          "metadata": {
            "tags": []
          },
          "execution_count": 84
        }
      ]
    },
    {
      "cell_type": "markdown",
      "metadata": {
        "id": "8n5fU5cedxIn",
        "colab_type": "text"
      },
      "source": [
        "Creamos nuevas columnas de fechas"
      ]
    },
    {
      "cell_type": "code",
      "metadata": {
        "id": "3ZT4efIPeHnK",
        "colab_type": "code",
        "colab": {
          "base_uri": "https://localhost:8080/",
          "height": 341
        },
        "outputId": "42678f3f-a410-432d-aeef-de18387952c7"
      },
      "source": [
        "df_new.insert(loc=2, column='ano_mes', value=df_new['fecha_hora'].map(lambda x: 100*x.year + x.month))\n",
        "df_new.insert(loc=3, column='mes', value=df_new.fecha_hora.dt.month)\n",
        "# +1 para hacer Lunes=1.....hasta Domingo=7\n",
        "df_new.insert(loc=4, column='dia', value=(df_new.fecha_hora.dt.dayofweek)+1)\n",
        "df_new.insert(loc=5, column='hora', value=df_new.fecha_hora.dt.hour)\n",
        "df_new.head()"
      ],
      "execution_count": null,
      "outputs": [
        {
          "output_type": "execute_result",
          "data": {
            "text/html": [
              "<div>\n",
              "<style scoped>\n",
              "    .dataframe tbody tr th:only-of-type {\n",
              "        vertical-align: middle;\n",
              "    }\n",
              "\n",
              "    .dataframe tbody tr th {\n",
              "        vertical-align: top;\n",
              "    }\n",
              "\n",
              "    .dataframe thead th {\n",
              "        text-align: right;\n",
              "    }\n",
              "</style>\n",
              "<table border=\"1\" class=\"dataframe\">\n",
              "  <thead>\n",
              "    <tr style=\"text-align: right;\">\n",
              "      <th></th>\n",
              "      <th>N_Transaccion</th>\n",
              "      <th>codigo_producto</th>\n",
              "      <th>ano_mes</th>\n",
              "      <th>mes</th>\n",
              "      <th>dia</th>\n",
              "      <th>hora</th>\n",
              "      <th>descripcion</th>\n",
              "      <th>cantidad</th>\n",
              "      <th>fecha_hora</th>\n",
              "      <th>precio_unitario</th>\n",
              "      <th>id_cliente</th>\n",
              "      <th>pais</th>\n",
              "      <th>venta_total</th>\n",
              "    </tr>\n",
              "  </thead>\n",
              "  <tbody>\n",
              "    <tr>\n",
              "      <th>0</th>\n",
              "      <td>536365</td>\n",
              "      <td>85123A</td>\n",
              "      <td>201001</td>\n",
              "      <td>1</td>\n",
              "      <td>2</td>\n",
              "      <td>8</td>\n",
              "      <td>SOPORTE DE LUZ EN T CORAZON COLGANTE BLANCO</td>\n",
              "      <td>6</td>\n",
              "      <td>2010-01-12 08:26:00</td>\n",
              "      <td>2.55</td>\n",
              "      <td>17850.0</td>\n",
              "      <td>USA</td>\n",
              "      <td>15.30</td>\n",
              "    </tr>\n",
              "    <tr>\n",
              "      <th>1</th>\n",
              "      <td>536365</td>\n",
              "      <td>71053</td>\n",
              "      <td>201001</td>\n",
              "      <td>1</td>\n",
              "      <td>2</td>\n",
              "      <td>8</td>\n",
              "      <td>LINTERNA DE METAL BLANCO</td>\n",
              "      <td>6</td>\n",
              "      <td>2010-01-12 08:26:00</td>\n",
              "      <td>3.39</td>\n",
              "      <td>17850.0</td>\n",
              "      <td>USA</td>\n",
              "      <td>20.34</td>\n",
              "    </tr>\n",
              "    <tr>\n",
              "      <th>2</th>\n",
              "      <td>536365</td>\n",
              "      <td>84406B</td>\n",
              "      <td>201001</td>\n",
              "      <td>1</td>\n",
              "      <td>2</td>\n",
              "      <td>8</td>\n",
              "      <td>CREMA CUPID HEARTS PERCHERO</td>\n",
              "      <td>8</td>\n",
              "      <td>2010-01-12 08:26:00</td>\n",
              "      <td>2.75</td>\n",
              "      <td>17850.0</td>\n",
              "      <td>USA</td>\n",
              "      <td>22.00</td>\n",
              "    </tr>\n",
              "    <tr>\n",
              "      <th>3</th>\n",
              "      <td>536365</td>\n",
              "      <td>84029G</td>\n",
              "      <td>201001</td>\n",
              "      <td>1</td>\n",
              "      <td>2</td>\n",
              "      <td>8</td>\n",
              "      <td>BOTELLA DE AGUA CALIENTE DE BANDERA DE UNION</td>\n",
              "      <td>6</td>\n",
              "      <td>2010-01-12 08:26:00</td>\n",
              "      <td>3.39</td>\n",
              "      <td>17850.0</td>\n",
              "      <td>USA</td>\n",
              "      <td>20.34</td>\n",
              "    </tr>\n",
              "    <tr>\n",
              "      <th>4</th>\n",
              "      <td>536365</td>\n",
              "      <td>84029E</td>\n",
              "      <td>201001</td>\n",
              "      <td>1</td>\n",
              "      <td>2</td>\n",
              "      <td>8</td>\n",
              "      <td>CORAZON BLANCO CALIENTE DE LANA ROJO.</td>\n",
              "      <td>6</td>\n",
              "      <td>2010-01-12 08:26:00</td>\n",
              "      <td>3.39</td>\n",
              "      <td>17850.0</td>\n",
              "      <td>USA</td>\n",
              "      <td>20.34</td>\n",
              "    </tr>\n",
              "  </tbody>\n",
              "</table>\n",
              "</div>"
            ],
            "text/plain": [
              "  N_Transaccion codigo_producto  ano_mes  ...  id_cliente  pais  venta_total\n",
              "0        536365          85123A   201001  ...     17850.0   USA        15.30\n",
              "1        536365           71053   201001  ...     17850.0   USA        20.34\n",
              "2        536365          84406B   201001  ...     17850.0   USA        22.00\n",
              "3        536365          84029G   201001  ...     17850.0   USA        20.34\n",
              "4        536365          84029E   201001  ...     17850.0   USA        20.34\n",
              "\n",
              "[5 rows x 13 columns]"
            ]
          },
          "metadata": {
            "tags": []
          },
          "execution_count": 85
        }
      ]
    },
    {
      "cell_type": "code",
      "metadata": {
        "id": "pb0JX_Emi_ZN",
        "colab_type": "code",
        "colab": {}
      },
      "source": [
        "# Cambiamos el tipo de variable de las que se han creado\n",
        "df_new['ano_mes'] = df_new['ano_mes'].astype('str')\n",
        "df_new['mes'] = df_new['mes'].astype('str')\n",
        "df_new['dia'] = df_new['dia'].astype('str')\n",
        "df_new['hora'] = df_new['hora'].astype('str')"
      ],
      "execution_count": null,
      "outputs": []
    },
    {
      "cell_type": "markdown",
      "metadata": {
        "id": "mlTzvgRorIPl",
        "colab_type": "text"
      },
      "source": [
        "#**Análisis Exploratorio**\n",
        "Como parte inicial de todo proyecto de Business Analytics el análisis exploratorio constituye el primer paso en el desarrollo de la solución. Como veremos en las proximas sesiones, a pesar de la gran complejidad de las herramientas de modelación que usaremos, no hay remplazo al entedimiento detallado de la información desde el punto de vista de negocio."
      ]
    },
    {
      "cell_type": "markdown",
      "metadata": {
        "id": "RsNF5TmQx414",
        "colab_type": "text"
      },
      "source": [
        "**Variables cuantitativas**"
      ]
    },
    {
      "cell_type": "code",
      "metadata": {
        "id": "5iWhaXU8ix2e",
        "colab_type": "code",
        "colab": {
          "base_uri": "https://localhost:8080/",
          "height": 294
        },
        "outputId": "618ca75a-1265-4b05-89c9-da29198a8fda"
      },
      "source": [
        "df_new.describe().round(2) #El .round(2) es para acotar los resultados a dos decimales"
      ],
      "execution_count": null,
      "outputs": [
        {
          "output_type": "execute_result",
          "data": {
            "text/html": [
              "<div>\n",
              "<style scoped>\n",
              "    .dataframe tbody tr th:only-of-type {\n",
              "        vertical-align: middle;\n",
              "    }\n",
              "\n",
              "    .dataframe tbody tr th {\n",
              "        vertical-align: top;\n",
              "    }\n",
              "\n",
              "    .dataframe thead th {\n",
              "        text-align: right;\n",
              "    }\n",
              "</style>\n",
              "<table border=\"1\" class=\"dataframe\">\n",
              "  <thead>\n",
              "    <tr style=\"text-align: right;\">\n",
              "      <th></th>\n",
              "      <th>cantidad</th>\n",
              "      <th>precio_unitario</th>\n",
              "      <th>venta_total</th>\n",
              "    </tr>\n",
              "  </thead>\n",
              "  <tbody>\n",
              "    <tr>\n",
              "      <th>count</th>\n",
              "      <td>1906.00</td>\n",
              "      <td>1906.00</td>\n",
              "      <td>1906.00</td>\n",
              "    </tr>\n",
              "    <tr>\n",
              "      <th>mean</th>\n",
              "      <td>12.66</td>\n",
              "      <td>3.17</td>\n",
              "      <td>24.23</td>\n",
              "    </tr>\n",
              "    <tr>\n",
              "      <th>std</th>\n",
              "      <td>32.88</td>\n",
              "      <td>4.92</td>\n",
              "      <td>66.38</td>\n",
              "    </tr>\n",
              "    <tr>\n",
              "      <th>min</th>\n",
              "      <td>1.00</td>\n",
              "      <td>0.10</td>\n",
              "      <td>0.29</td>\n",
              "    </tr>\n",
              "    <tr>\n",
              "      <th>25%</th>\n",
              "      <td>1.00</td>\n",
              "      <td>1.25</td>\n",
              "      <td>4.20</td>\n",
              "    </tr>\n",
              "    <tr>\n",
              "      <th>50%</th>\n",
              "      <td>4.00</td>\n",
              "      <td>2.10</td>\n",
              "      <td>11.80</td>\n",
              "    </tr>\n",
              "    <tr>\n",
              "      <th>75%</th>\n",
              "      <td>12.00</td>\n",
              "      <td>3.75</td>\n",
              "      <td>20.28</td>\n",
              "    </tr>\n",
              "    <tr>\n",
              "      <th>max</th>\n",
              "      <td>600.00</td>\n",
              "      <td>165.00</td>\n",
              "      <td>1627.20</td>\n",
              "    </tr>\n",
              "  </tbody>\n",
              "</table>\n",
              "</div>"
            ],
            "text/plain": [
              "       cantidad  precio_unitario  venta_total\n",
              "count   1906.00          1906.00      1906.00\n",
              "mean      12.66             3.17        24.23\n",
              "std       32.88             4.92        66.38\n",
              "min        1.00             0.10         0.29\n",
              "25%        1.00             1.25         4.20\n",
              "50%        4.00             2.10        11.80\n",
              "75%       12.00             3.75        20.28\n",
              "max      600.00           165.00      1627.20"
            ]
          },
          "metadata": {
            "tags": []
          },
          "execution_count": 28
        }
      ]
    },
    {
      "cell_type": "markdown",
      "metadata": {
        "id": "QSFHLzMCje8S",
        "colab_type": "text"
      },
      "source": [
        "En ocasiones cuando queremos mayor detalle de la información podemos ajustar los percentiles a nuestro gusto:"
      ]
    },
    {
      "cell_type": "code",
      "metadata": {
        "id": "Za0j7RyIqZBq",
        "colab_type": "code",
        "colab": {
          "base_uri": "https://localhost:8080/",
          "height": 141
        },
        "outputId": "cdffe218-4f6d-4eb4-9e2b-cf71771776f7"
      },
      "source": [
        "df_new.describe(percentiles=[.01,.1,.25,.5,.75,.9,0.99]).T"
      ],
      "execution_count": null,
      "outputs": [
        {
          "output_type": "execute_result",
          "data": {
            "text/html": [
              "<div>\n",
              "<style scoped>\n",
              "    .dataframe tbody tr th:only-of-type {\n",
              "        vertical-align: middle;\n",
              "    }\n",
              "\n",
              "    .dataframe tbody tr th {\n",
              "        vertical-align: top;\n",
              "    }\n",
              "\n",
              "    .dataframe thead th {\n",
              "        text-align: right;\n",
              "    }\n",
              "</style>\n",
              "<table border=\"1\" class=\"dataframe\">\n",
              "  <thead>\n",
              "    <tr style=\"text-align: right;\">\n",
              "      <th></th>\n",
              "      <th>count</th>\n",
              "      <th>mean</th>\n",
              "      <th>std</th>\n",
              "      <th>min</th>\n",
              "      <th>1%</th>\n",
              "      <th>10%</th>\n",
              "      <th>25%</th>\n",
              "      <th>50%</th>\n",
              "      <th>75%</th>\n",
              "      <th>90%</th>\n",
              "      <th>99%</th>\n",
              "      <th>max</th>\n",
              "    </tr>\n",
              "  </thead>\n",
              "  <tbody>\n",
              "    <tr>\n",
              "      <th>cantidad</th>\n",
              "      <td>1906.0</td>\n",
              "      <td>12.655299</td>\n",
              "      <td>32.877778</td>\n",
              "      <td>1.00</td>\n",
              "      <td>1.00</td>\n",
              "      <td>1.00</td>\n",
              "      <td>1.00</td>\n",
              "      <td>4.0</td>\n",
              "      <td>12.00</td>\n",
              "      <td>24.00</td>\n",
              "      <td>144.00</td>\n",
              "      <td>600.0</td>\n",
              "    </tr>\n",
              "    <tr>\n",
              "      <th>precio_unitario</th>\n",
              "      <td>1906.0</td>\n",
              "      <td>3.172712</td>\n",
              "      <td>4.916191</td>\n",
              "      <td>0.10</td>\n",
              "      <td>0.29</td>\n",
              "      <td>0.85</td>\n",
              "      <td>1.25</td>\n",
              "      <td>2.1</td>\n",
              "      <td>3.75</td>\n",
              "      <td>6.75</td>\n",
              "      <td>14.95</td>\n",
              "      <td>165.0</td>\n",
              "    </tr>\n",
              "    <tr>\n",
              "      <th>venta_total</th>\n",
              "      <td>1906.0</td>\n",
              "      <td>24.234208</td>\n",
              "      <td>66.378259</td>\n",
              "      <td>0.29</td>\n",
              "      <td>0.85</td>\n",
              "      <td>1.69</td>\n",
              "      <td>4.20</td>\n",
              "      <td>11.8</td>\n",
              "      <td>20.28</td>\n",
              "      <td>45.00</td>\n",
              "      <td>220.36</td>\n",
              "      <td>1627.2</td>\n",
              "    </tr>\n",
              "  </tbody>\n",
              "</table>\n",
              "</div>"
            ],
            "text/plain": [
              "                  count       mean        std  ...    90%     99%     max\n",
              "cantidad         1906.0  12.655299  32.877778  ...  24.00  144.00   600.0\n",
              "precio_unitario  1906.0   3.172712   4.916191  ...   6.75   14.95   165.0\n",
              "venta_total      1906.0  24.234208  66.378259  ...  45.00  220.36  1627.2\n",
              "\n",
              "[3 rows x 12 columns]"
            ]
          },
          "metadata": {
            "tags": []
          },
          "execution_count": 29
        }
      ]
    },
    {
      "cell_type": "markdown",
      "metadata": {
        "id": "Cwcd5xccK-bf",
        "colab_type": "text"
      },
      "source": [
        "¿Qué oportunidades veo?\n",
        "Hay grupos de clientes con compras muy por encima del promedio (Véase el percentil 99 de las ventas totales) ¿Podríamos hacer promociones personalizadas?"
      ]
    },
    {
      "cell_type": "markdown",
      "metadata": {
        "id": "lz8KA9S8p7Qk",
        "colab_type": "text"
      },
      "source": [
        "Otra forma de calcular los indicadores estadísticos"
      ]
    },
    {
      "cell_type": "code",
      "metadata": {
        "id": "XN7QSlGWpz5k",
        "colab_type": "code",
        "colab": {
          "base_uri": "https://localhost:8080/",
          "height": 35
        },
        "outputId": "65da4787-d5b4-4088-c040-1f1954fed415"
      },
      "source": [
        "#Media\n",
        "df_new['venta_total'].mean()"
      ],
      "execution_count": null,
      "outputs": [
        {
          "output_type": "execute_result",
          "data": {
            "text/plain": [
              "24.2342077649528"
            ]
          },
          "metadata": {
            "tags": []
          },
          "execution_count": 87
        }
      ]
    },
    {
      "cell_type": "code",
      "metadata": {
        "id": "jWHm1dMGqB0h",
        "colab_type": "code",
        "colab": {
          "base_uri": "https://localhost:8080/",
          "height": 35
        },
        "outputId": "be0180c3-a738-48ad-9d08-e5b7bbd91a64"
      },
      "source": [
        "#Desviación estándar\n",
        "df_new['venta_total'].std()"
      ],
      "execution_count": null,
      "outputs": [
        {
          "output_type": "execute_result",
          "data": {
            "text/plain": [
              "66.37825910818174"
            ]
          },
          "metadata": {
            "tags": []
          },
          "execution_count": 88
        }
      ]
    },
    {
      "cell_type": "markdown",
      "metadata": {
        "id": "ocgcF_FkzCZh",
        "colab_type": "text"
      },
      "source": [
        "***Histogramas***"
      ]
    },
    {
      "cell_type": "markdown",
      "metadata": {
        "id": "9UpOGAHCjieb",
        "colab_type": "text"
      },
      "source": [
        "Otro punto importante al empezar la exploración de un nuevo conjunto de datos es conociendo la distribución de de los datos. Por ejemplo, si queremos queremos conocer los histogramas de todas las variables cuantitativas de nuestra data lo hacemos de la siguiente manera:"
      ]
    },
    {
      "cell_type": "code",
      "metadata": {
        "id": "uv04Ps3Mjo1D",
        "colab_type": "code",
        "colab": {
          "base_uri": "https://localhost:8080/",
          "height": 697
        },
        "outputId": "1931f30a-8216-40db-c24e-ea13ed9727b0"
      },
      "source": [
        "df_new.hist(figsize=(10,10))"
      ],
      "execution_count": null,
      "outputs": [
        {
          "output_type": "execute_result",
          "data": {
            "text/plain": [
              "array([[<matplotlib.axes._subplots.AxesSubplot object at 0x7ff241720cc0>,\n",
              "        <matplotlib.axes._subplots.AxesSubplot object at 0x7ff24163b710>],\n",
              "       [<matplotlib.axes._subplots.AxesSubplot object at 0x7ff241669e48>,\n",
              "        <matplotlib.axes._subplots.AxesSubplot object at 0x7ff24161f5f8>]],\n",
              "      dtype=object)"
            ]
          },
          "metadata": {
            "tags": []
          },
          "execution_count": 89
        },
        {
          "output_type": "display_data",
          "data": {
            "image/png": "[encoded data removed]",
            "text/plain": [
              "<Figure size 720x720 with 4 Axes>"
            ]
          },
          "metadata": {
            "tags": [],
            "needs_background": "light"
          }
        }
      ]
    },
    {
      "cell_type": "markdown",
      "metadata": {
        "id": "lvPkcCdHlR2q",
        "colab_type": "text"
      },
      "source": [
        "Si bien la distribución me indica que hay alta concentración de datos en los rangos inferiores de las variables, veamos la oportunidad, hay un porcentaje pequeño de clientes que tienen compras muy por encima del promedio, eso a futuro me daría la oportunidad de segmentarlos y poder armarles paquetes promocionales con el objetivo de fidelizarlos.\n",
        "\n",
        "En esta oportunidad con miras a lograr una mejor lectura de los datos omitiremos los valores por encima del percentil 99 de la venta total."
      ]
    },
    {
      "cell_type": "code",
      "metadata": {
        "id": "1ntiqIrDoFTo",
        "colab_type": "code",
        "colab": {}
      },
      "source": [
        "df_new = df_new[df_new.venta_total < 220.36]"
      ],
      "execution_count": null,
      "outputs": []
    },
    {
      "cell_type": "markdown",
      "metadata": {
        "id": "bnSp48Fxvgjk",
        "colab_type": "text"
      },
      "source": [
        "Si quiero ver el histograma de una sóla variable:"
      ]
    },
    {
      "cell_type": "code",
      "metadata": {
        "id": "lsxrEiO7vf8Q",
        "colab_type": "code",
        "colab": {
          "base_uri": "https://localhost:8080/",
          "height": 355
        },
        "outputId": "24efbaa8-f0ee-42fc-a0c4-93f963bb583e"
      },
      "source": [
        "plt.hist(df_new[\"venta_total\"])"
      ],
      "execution_count": null,
      "outputs": [
        {
          "output_type": "execute_result",
          "data": {
            "text/plain": [
              "(array([1466.,  243.,   68.,   37.,   31.,   10.,    3.,   10.,   11.,\n",
              "           7.]),\n",
              " array([  0.29 ,  21.461,  42.632,  63.803,  84.974, 106.145, 127.316,\n",
              "        148.487, 169.658, 190.829, 212.   ]),\n",
              " <a list of 10 Patch objects>)"
            ]
          },
          "metadata": {
            "tags": []
          },
          "execution_count": 91
        },
        {
          "output_type": "display_data",
          "data": {
            "image/png": "[encoded data removed]",
            "text/plain": [
              "<Figure size 432x288 with 1 Axes>"
            ]
          },
          "metadata": {
            "tags": [],
            "needs_background": "light"
          }
        }
      ]
    },
    {
      "cell_type": "markdown",
      "metadata": {
        "id": "88OjP6mTv38a",
        "colab_type": "text"
      },
      "source": [
        "Aquí observamos la salida por defecto para nuestra visualización. Notamos algunas aspectos de mejora como: el tamaño de la gráfica, el número de bins, o la impresión de los arreglos de datos al tope de la figura. Para corregir esto y personalizar nuestra figura podemos:\n",
        "\n",
        "\n",
        "1.   Definir una figura de marco para la visualización\n",
        "2. Ajustar el tamaño de la figura\n",
        "3. Cambiar el color del histograma\n",
        "4. Ajustar el número de bins\n",
        "5. Crear una cuadricula para visualizar mejor los valores de referencia\n",
        "6. Finalizar con la instruccion show para que se muestre toda visualización y no los arreglos de datos del histograma"
      ]
    },
    {
      "cell_type": "code",
      "metadata": {
        "id": "XSW7aHlpwIjQ",
        "colab_type": "code",
        "colab": {
          "base_uri": "https://localhost:8080/",
          "height": 483
        },
        "outputId": "c3263a9b-3811-44d8-f0c5-5245b3b23068"
      },
      "source": [
        "fig = plt.figure(figsize=(20,8))\n",
        "plt.hist(df_new[\"venta_total\"],bins=20,color='brown')\n",
        "plt.grid()\n",
        "plt.show()"
      ],
      "execution_count": null,
      "outputs": [
        {
          "output_type": "display_data",
          "data": {
            "image/png": "[encoded data removed]",
            "text/plain": [
              "<Figure size 1440x576 with 1 Axes>"
            ]
          },
          "metadata": {
            "tags": [],
            "needs_background": "light"
          }
        }
      ]
    },
    {
      "cell_type": "markdown",
      "metadata": {
        "id": "s9vMLAR1wbAi",
        "colab_type": "text"
      },
      "source": [
        "Para seguir con la personalización, ahora podemos incluir legendas a nuestros ejes:"
      ]
    },
    {
      "cell_type": "code",
      "metadata": {
        "id": "viXQtl_vwU-s",
        "colab_type": "code",
        "colab": {
          "base_uri": "https://localhost:8080/",
          "height": 497
        },
        "outputId": "d4504fa3-12ca-4f49-8e8e-da2a47d8b56d"
      },
      "source": [
        "fig = plt.figure(figsize=(20,8))\n",
        "plt.hist(df_new[\"venta_total\"],bins=20,color='#33ACFF')\n",
        "\n",
        "plt.title('Distribución de ventas totales',fontsize=20)\n",
        "plt.ylabel('Frecuencia',fontsize=20)\n",
        "\n",
        "plt.xticks(fontsize=20)\n",
        "plt.yticks(fontsize=20)\n",
        "\n",
        "plt.grid()\n",
        "plt.show()"
      ],
      "execution_count": null,
      "outputs": [
        {
          "output_type": "display_data",
          "data": {
            "image/png": "[encoded data removed]",
            "text/plain": [
              "<Figure size 1440x576 with 1 Axes>"
            ]
          },
          "metadata": {
            "tags": [],
            "needs_background": "light"
          }
        }
      ]
    },
    {
      "cell_type": "markdown",
      "metadata": {
        "id": "um-mxq5yxmV0",
        "colab_type": "text"
      },
      "source": [
        "***Diagrama de cajas***"
      ]
    },
    {
      "cell_type": "markdown",
      "metadata": {
        "id": "ZgR8Z1Zay9Gn",
        "colab_type": "text"
      },
      "source": [
        "Recordemos que el diagrama de boxplot nos permite representar gráficamente los cuartiles de una distribución y adicionalmente posibles outliers de en la data."
      ]
    },
    {
      "cell_type": "code",
      "metadata": {
        "id": "pRrR_zUfzZo3",
        "colab_type": "code",
        "colab": {
          "base_uri": "https://localhost:8080/",
          "height": 266
        },
        "outputId": "3959f816-6ac2-4629-dd6c-9941c888774d"
      },
      "source": [
        "sns.set(style=\"whitegrid\")\n",
        "sns.boxplot(y=df_new[\"venta_total\"],color='green')"
      ],
      "execution_count": null,
      "outputs": [
        {
          "output_type": "execute_result",
          "data": {
            "text/plain": [
              "<matplotlib.axes._subplots.AxesSubplot at 0x7ff241498898>"
            ]
          },
          "metadata": {
            "tags": []
          },
          "execution_count": 92
        },
        {
          "output_type": "display_data",
          "data": {
            "image/png": "[encoded data removed]",
            "text/plain": [
              "<Figure size 432x288 with 1 Axes>"
            ]
          },
          "metadata": {
            "tags": []
          }
        }
      ]
    },
    {
      "cell_type": "code",
      "metadata": {
        "id": "ACDV1VTmzwto",
        "colab_type": "code",
        "colab": {
          "base_uri": "https://localhost:8080/",
          "height": 265
        },
        "outputId": "173c0e23-6ac9-482d-ed98-afcae2a2886e"
      },
      "source": [
        "df_new2 = df_new[df_new.venta_total < 50]#creo una variable temporal sólo para ayudar a la visualización\n",
        "sns.set(style=\"whitegrid\")\n",
        "sns.boxplot(y=df_new2[\"venta_total\"],color='green')"
      ],
      "execution_count": null,
      "outputs": [
        {
          "output_type": "execute_result",
          "data": {
            "text/plain": [
              "<matplotlib.axes._subplots.AxesSubplot at 0x7ff24609a710>"
            ]
          },
          "metadata": {
            "tags": []
          },
          "execution_count": 38
        },
        {
          "output_type": "display_data",
          "data": {
            "image/png": "[encoded data removed]",
            "text/plain": [
              "<Figure size 432x288 with 1 Axes>"
            ]
          },
          "metadata": {
            "tags": []
          }
        }
      ]
    },
    {
      "cell_type": "markdown",
      "metadata": {
        "id": "lPEP8-0J1Cu0",
        "colab_type": "text"
      },
      "source": [
        "***Diagrama de violines***\n",
        "\n"
      ]
    },
    {
      "cell_type": "markdown",
      "metadata": {
        "id": "MitE6u9W1Vro",
        "colab_type": "text"
      },
      "source": [
        "A continuación veremos el diagrama de violines, que funciona de forma similar al anterior pero nos da mas información de la distribución y no solo algunos valores de referencia. Veamos los mismo ejemplos, pero en esta nueva funcionalidad:\n"
      ]
    },
    {
      "cell_type": "code",
      "metadata": {
        "id": "UrD44Uw81GuQ",
        "colab_type": "code",
        "colab": {
          "base_uri": "https://localhost:8080/",
          "height": 265
        },
        "outputId": "5dafa079-1ac0-4875-95cb-422c84411631"
      },
      "source": [
        "sns.violinplot(y=df_new2[\"venta_total\"],color='blue')\n"
      ],
      "execution_count": null,
      "outputs": [
        {
          "output_type": "execute_result",
          "data": {
            "text/plain": [
              "<matplotlib.axes._subplots.AxesSubplot at 0x7ff2460059e8>"
            ]
          },
          "metadata": {
            "tags": []
          },
          "execution_count": 39
        },
        {
          "output_type": "display_data",
          "data": {
            "image/png": "[encoded data removed]",
            "text/plain": [
              "<Figure size 432x288 with 1 Axes>"
            ]
          },
          "metadata": {
            "tags": []
          }
        }
      ]
    },
    {
      "cell_type": "markdown",
      "metadata": {
        "id": "ZgS2aX3S1z1y",
        "colab_type": "text"
      },
      "source": [
        "***Diagrama de enjambre - sawrmplot***\n"
      ]
    },
    {
      "cell_type": "markdown",
      "metadata": {
        "id": "BKi5FDfv16Qc",
        "colab_type": "text"
      },
      "source": [
        "Por último, tenemos el diagrama de enjambre como una forma alternativa de representar la distribución. Aquí nos enfocamos en visualizar cada observación como un punto de información. Nuevamente, veamos los mismo ejemplos, pero en esta nueva funcionalidad:"
      ]
    },
    {
      "cell_type": "code",
      "metadata": {
        "id": "uivC-5uR0x4y",
        "colab_type": "code",
        "colab": {
          "base_uri": "https://localhost:8080/",
          "height": 265
        },
        "outputId": "e7af2341-5d91-4ba5-e0db-649683138886"
      },
      "source": [
        "sns.swarmplot(y=df_new2[\"venta_total\"],color='red')\n"
      ],
      "execution_count": null,
      "outputs": [
        {
          "output_type": "execute_result",
          "data": {
            "text/plain": [
              "<matplotlib.axes._subplots.AxesSubplot at 0x7ff245fdfe10>"
            ]
          },
          "metadata": {
            "tags": []
          },
          "execution_count": 40
        },
        {
          "output_type": "display_data",
          "data": {
            "image/png": "[encoded data removed]",
            "text/plain": [
              "<Figure size 432x288 with 1 Axes>"
            ]
          },
          "metadata": {
            "tags": []
          }
        }
      ]
    },
    {
      "cell_type": "markdown",
      "metadata": {
        "id": "ReDp9-2d4EWA",
        "colab_type": "text"
      },
      "source": [
        "**Variables cualitativas**"
      ]
    },
    {
      "cell_type": "markdown",
      "metadata": {
        "id": "1dxtwqDumHkc",
        "colab_type": "text"
      },
      "source": [
        "Observo la frecuencia de las variables cualitativas\n",
        "\n",
        "\n"
      ]
    },
    {
      "cell_type": "code",
      "metadata": {
        "id": "7XENF8ZnmQcI",
        "colab_type": "code",
        "colab": {
          "base_uri": "https://localhost:8080/",
          "height": 230
        },
        "outputId": "326da687-0cad-4755-b1a8-011eb6e85122"
      },
      "source": [
        "df_new['pais'].value_counts"
      ],
      "execution_count": null,
      "outputs": [
        {
          "output_type": "execute_result",
          "data": {
            "text/plain": [
              "<bound method IndexOpsMixin.value_counts of 0       USA\n",
              "1       USA\n",
              "2       USA\n",
              "3       USA\n",
              "4       USA\n",
              "       ... \n",
              "3061    USA\n",
              "3062    USA\n",
              "3063    USA\n",
              "3064    USA\n",
              "3065    USA\n",
              "Name: pais, Length: 1886, dtype: object>"
            ]
          },
          "metadata": {
            "tags": []
          },
          "execution_count": 93
        }
      ]
    },
    {
      "cell_type": "markdown",
      "metadata": {
        "id": "EMaHOLVl57yB",
        "colab_type": "text"
      },
      "source": [
        "Si quiero ver la variable como porcentaje"
      ]
    },
    {
      "cell_type": "code",
      "metadata": {
        "id": "Dn0dkusr54FH",
        "colab_type": "code",
        "colab": {
          "base_uri": "https://localhost:8080/",
          "height": 156
        },
        "outputId": "f379de66-f88c-45f4-fb66-02799e74e460"
      },
      "source": [
        "df_new['pais'].value_counts(normalize=True)"
      ],
      "execution_count": null,
      "outputs": [
        {
          "output_type": "execute_result",
          "data": {
            "text/plain": [
              "USA          0.923118\n",
              "Peru         0.038706\n",
              "Chile        0.011135\n",
              "Mexico       0.010604\n",
              "Japon        0.007953\n",
              "Australia    0.007423\n",
              "Bolivia      0.001060\n",
              "Name: pais, dtype: float64"
            ]
          },
          "metadata": {
            "tags": []
          },
          "execution_count": 42
        }
      ]
    },
    {
      "cell_type": "markdown",
      "metadata": {
        "id": "zmqGQEam6Qqr",
        "colab_type": "text"
      },
      "source": [
        "***Diagrama de barras***\n"
      ]
    },
    {
      "cell_type": "markdown",
      "metadata": {
        "id": "nrOjxBCe6faa",
        "colab_type": "text"
      },
      "source": [
        "Un gráfico de barras es una forma de resumir un conjunto de datos por categorías. La altura de cada barra es proporcional a una agregación específica (por ejemplo, la suma de los valores de la categoría que representa)."
      ]
    },
    {
      "cell_type": "code",
      "metadata": {
        "id": "ZewPGMMo7EkE",
        "colab_type": "code",
        "colab": {
          "base_uri": "https://localhost:8080/",
          "height": 325
        },
        "outputId": "c23dafcf-2ebd-484c-a844-76cc5eec5d7f"
      },
      "source": [
        "df_new['pais'].value_counts().plot(kind='bar')"
      ],
      "execution_count": null,
      "outputs": [
        {
          "output_type": "execute_result",
          "data": {
            "text/plain": [
              "<matplotlib.axes._subplots.AxesSubplot at 0x7ff243743eb8>"
            ]
          },
          "metadata": {
            "tags": []
          },
          "execution_count": 43
        },
        {
          "output_type": "display_data",
          "data": {
            "image/png": "[encoded data removed]",
            "text/plain": [
              "<Figure size 432x288 with 1 Axes>"
            ]
          },
          "metadata": {
            "tags": []
          }
        }
      ]
    },
    {
      "cell_type": "code",
      "metadata": {
        "id": "wNeo082hAJez",
        "colab_type": "code",
        "colab": {
          "base_uri": "https://localhost:8080/",
          "height": 285
        },
        "outputId": "cfaa3223-bedc-46e7-ed52-56b48d20e7bb"
      },
      "source": [
        "df_new['pais'].value_counts().plot(kind='barh')"
      ],
      "execution_count": null,
      "outputs": [
        {
          "output_type": "execute_result",
          "data": {
            "text/plain": [
              "<matplotlib.axes._subplots.AxesSubplot at 0x7ff246005b70>"
            ]
          },
          "metadata": {
            "tags": []
          },
          "execution_count": 44
        },
        {
          "output_type": "display_data",
          "data": {
            "image/png": "[encoded data removed]",
            "text/plain": [
              "<Figure size 432x288 with 1 Axes>"
            ]
          },
          "metadata": {
            "tags": []
          }
        }
      ]
    },
    {
      "cell_type": "markdown",
      "metadata": {
        "id": "4Vcb32AC6TTC",
        "colab_type": "text"
      },
      "source": [
        "***Diagrama de torta***\n"
      ]
    },
    {
      "cell_type": "markdown",
      "metadata": {
        "id": "b-k6_Ix1AVwD",
        "colab_type": "text"
      },
      "source": [
        "En el diagrama de torta se divide un círculo en tantas porciones como clases o grupos de datos existan, de modo que a cada clase le corresponde un arco de círculo proporcional a su número de apariciones o frecuencia."
      ]
    },
    {
      "cell_type": "code",
      "metadata": {
        "id": "9761HYN_t9sN",
        "colab_type": "code",
        "colab": {
          "base_uri": "https://localhost:8080/",
          "height": 265
        },
        "outputId": "f7e4f6d4-6d42-48be-e08e-4ddd07f2342c"
      },
      "source": [
        "df_new['pais'].value_counts().plot.pie()"
      ],
      "execution_count": null,
      "outputs": [
        {
          "output_type": "execute_result",
          "data": {
            "text/plain": [
              "<matplotlib.axes._subplots.AxesSubplot at 0x7ff243693d30>"
            ]
          },
          "metadata": {
            "tags": []
          },
          "execution_count": 45
        },
        {
          "output_type": "display_data",
          "data": {
            "image/png": "[encoded data removed]",
            "text/plain": [
              "<Figure size 432x288 with 1 Axes>"
            ]
          },
          "metadata": {
            "tags": []
          }
        }
      ]
    },
    {
      "cell_type": "markdown",
      "metadata": {
        "id": "H9gJqp0sEymW",
        "colab_type": "text"
      },
      "source": [
        "Dada la dispersión que tienen mis datos por país, ¿Me conviene usar un gráfico de torta?"
      ]
    },
    {
      "cell_type": "markdown",
      "metadata": {
        "id": "laQbk6VNINTZ",
        "colab_type": "text"
      },
      "source": [
        "#**Respondiendo hipótesis del negocio**"
      ]
    },
    {
      "cell_type": "markdown",
      "metadata": {
        "id": "5tRWq8hjFFir",
        "colab_type": "text"
      },
      "source": [
        "**Análisis bivariados y multivariados**"
      ]
    },
    {
      "cell_type": "markdown",
      "metadata": {
        "id": "RYxVzBDJFkut",
        "colab_type": "text"
      },
      "source": [
        "¿Qué preguntas quiero responder con esta data? ¿Qué insights puedo ir sacando?"
      ]
    },
    {
      "cell_type": "markdown",
      "metadata": {
        "id": "JQw2Bk9Heoo_",
        "colab_type": "text"
      },
      "source": [
        "**1. ¿Cuántas compras tenemos por cliente?**"
      ]
    },
    {
      "cell_type": "markdown",
      "metadata": {
        "id": "-5igrh07F4Vj",
        "colab_type": "text"
      },
      "source": [
        "Creamos una nueva tabla agrupada por cliente y el número de transacciones que ha realizado"
      ]
    },
    {
      "cell_type": "code",
      "metadata": {
        "id": "Hzxjzm_neo-f",
        "colab_type": "code",
        "colab": {
          "base_uri": "https://localhost:8080/",
          "height": 415
        },
        "outputId": "7a451ed1-aff6-4bf6-f329-a5e31ceebfda"
      },
      "source": [
        "df_new.groupby(by=['id_cliente','pais'], as_index=False)['N_Transaccion'].count()"
      ],
      "execution_count": null,
      "outputs": [
        {
          "output_type": "execute_result",
          "data": {
            "text/html": [
              "<div>\n",
              "<style scoped>\n",
              "    .dataframe tbody tr th:only-of-type {\n",
              "        vertical-align: middle;\n",
              "    }\n",
              "\n",
              "    .dataframe tbody tr th {\n",
              "        vertical-align: top;\n",
              "    }\n",
              "\n",
              "    .dataframe thead th {\n",
              "        text-align: right;\n",
              "    }\n",
              "</style>\n",
              "<table border=\"1\" class=\"dataframe\">\n",
              "  <thead>\n",
              "    <tr style=\"text-align: right;\">\n",
              "      <th></th>\n",
              "      <th>id_cliente</th>\n",
              "      <th>pais</th>\n",
              "      <th>N_Transaccion</th>\n",
              "    </tr>\n",
              "  </thead>\n",
              "  <tbody>\n",
              "    <tr>\n",
              "      <th>0</th>\n",
              "      <td>12431.0</td>\n",
              "      <td>Australia</td>\n",
              "      <td>14</td>\n",
              "    </tr>\n",
              "    <tr>\n",
              "      <th>1</th>\n",
              "      <td>12433.0</td>\n",
              "      <td>Peru</td>\n",
              "      <td>73</td>\n",
              "    </tr>\n",
              "    <tr>\n",
              "      <th>2</th>\n",
              "      <td>12583.0</td>\n",
              "      <td>Mexico</td>\n",
              "      <td>20</td>\n",
              "    </tr>\n",
              "    <tr>\n",
              "      <th>3</th>\n",
              "      <td>12662.0</td>\n",
              "      <td>Japon</td>\n",
              "      <td>15</td>\n",
              "    </tr>\n",
              "    <tr>\n",
              "      <th>4</th>\n",
              "      <td>12748.0</td>\n",
              "      <td>USA</td>\n",
              "      <td>1</td>\n",
              "    </tr>\n",
              "    <tr>\n",
              "      <th>...</th>\n",
              "      <td>...</td>\n",
              "      <td>...</td>\n",
              "      <td>...</td>\n",
              "    </tr>\n",
              "    <tr>\n",
              "      <th>87</th>\n",
              "      <td>17968.0</td>\n",
              "      <td>USA</td>\n",
              "      <td>85</td>\n",
              "    </tr>\n",
              "    <tr>\n",
              "      <th>88</th>\n",
              "      <td>18074.0</td>\n",
              "      <td>USA</td>\n",
              "      <td>13</td>\n",
              "    </tr>\n",
              "    <tr>\n",
              "      <th>89</th>\n",
              "      <td>18085.0</td>\n",
              "      <td>USA</td>\n",
              "      <td>9</td>\n",
              "    </tr>\n",
              "    <tr>\n",
              "      <th>90</th>\n",
              "      <td>18144.0</td>\n",
              "      <td>USA</td>\n",
              "      <td>3</td>\n",
              "    </tr>\n",
              "    <tr>\n",
              "      <th>91</th>\n",
              "      <td>18229.0</td>\n",
              "      <td>USA</td>\n",
              "      <td>7</td>\n",
              "    </tr>\n",
              "  </tbody>\n",
              "</table>\n",
              "<p>92 rows × 3 columns</p>\n",
              "</div>"
            ],
            "text/plain": [
              "   id_cliente       pais  N_Transaccion\n",
              "0     12431.0  Australia             14\n",
              "1     12433.0       Peru             73\n",
              "2     12583.0     Mexico             20\n",
              "3     12662.0      Japon             15\n",
              "4     12748.0        USA              1\n",
              "..        ...        ...            ...\n",
              "87    17968.0        USA             85\n",
              "88    18074.0        USA             13\n",
              "89    18085.0        USA              9\n",
              "90    18144.0        USA              3\n",
              "91    18229.0        USA              7\n",
              "\n",
              "[92 rows x 3 columns]"
            ]
          },
          "metadata": {
            "tags": []
          },
          "execution_count": 46
        }
      ]
    },
    {
      "cell_type": "markdown",
      "metadata": {
        "id": "u62BbpBpf90I",
        "colab_type": "text"
      },
      "source": [
        "Revisamos el top 10 de clientes con mayor número de compras"
      ]
    },
    {
      "cell_type": "code",
      "metadata": {
        "id": "omo_0Ra5HNEq",
        "colab_type": "code",
        "colab": {
          "base_uri": "https://localhost:8080/",
          "height": 410
        },
        "outputId": "cd6d7833-d693-4e43-e152-d2ec7d7fbb8d"
      },
      "source": [
        "orders = df_new.groupby(by=['id_cliente','pais'], as_index=False)['N_Transaccion'].count()\n",
        "\n",
        "plt.subplots(figsize=(15,6))\n",
        "plt.plot(orders.id_cliente, orders.N_Transaccion)\n",
        "plt.xlabel('Id Clientes')\n",
        "plt.ylabel('Numero de compras')\n",
        "plt.title('Numero de compras por cliente')\n",
        "plt.show()"
      ],
      "execution_count": null,
      "outputs": [
        {
          "output_type": "display_data",
          "data": {
            "image/png": "[encoded data removed]",
            "text/plain": [
              "<Figure size 1080x432 with 1 Axes>"
            ]
          },
          "metadata": {
            "tags": []
          }
        }
      ]
    },
    {
      "cell_type": "markdown",
      "metadata": {
        "id": "hTa_vTxzHnIq",
        "colab_type": "text"
      },
      "source": [
        "¿Esta gráfica está bien? ¿Te parece visualmente atractivo para los usuarios? Si no lo es, ¿Te animas a corregirlo?"
      ]
    },
    {
      "cell_type": "code",
      "metadata": {
        "id": "r72Ef5zGf6wV",
        "colab_type": "code",
        "colab": {
          "base_uri": "https://localhost:8080/",
          "height": 373
        },
        "outputId": "94736ee5-8a13-4c10-d77f-50b0b3a110a8"
      },
      "source": [
        "print('Top 10 de clientes con mayor número de compras...')\n",
        "orders.sort_values(by='N_Transaccion', ascending=False).head(10)"
      ],
      "execution_count": null,
      "outputs": [
        {
          "output_type": "stream",
          "text": [
            "Top 10 de clientes con mayor número de compras...\n"
          ],
          "name": "stdout"
        },
        {
          "output_type": "execute_result",
          "data": {
            "text/html": [
              "<div>\n",
              "<style scoped>\n",
              "    .dataframe tbody tr th:only-of-type {\n",
              "        vertical-align: middle;\n",
              "    }\n",
              "\n",
              "    .dataframe tbody tr th {\n",
              "        vertical-align: top;\n",
              "    }\n",
              "\n",
              "    .dataframe thead th {\n",
              "        text-align: right;\n",
              "    }\n",
              "</style>\n",
              "<table border=\"1\" class=\"dataframe\">\n",
              "  <thead>\n",
              "    <tr style=\"text-align: right;\">\n",
              "      <th></th>\n",
              "      <th>id_cliente</th>\n",
              "      <th>pais</th>\n",
              "      <th>N_Transaccion</th>\n",
              "    </tr>\n",
              "  </thead>\n",
              "  <tbody>\n",
              "    <tr>\n",
              "      <th>87</th>\n",
              "      <td>17968.0</td>\n",
              "      <td>USA</td>\n",
              "      <td>85</td>\n",
              "    </tr>\n",
              "    <tr>\n",
              "      <th>79</th>\n",
              "      <td>17850.0</td>\n",
              "      <td>USA</td>\n",
              "      <td>84</td>\n",
              "    </tr>\n",
              "    <tr>\n",
              "      <th>84</th>\n",
              "      <td>17920.0</td>\n",
              "      <td>USA</td>\n",
              "      <td>81</td>\n",
              "    </tr>\n",
              "    <tr>\n",
              "      <th>1</th>\n",
              "      <td>12433.0</td>\n",
              "      <td>Peru</td>\n",
              "      <td>73</td>\n",
              "    </tr>\n",
              "    <tr>\n",
              "      <th>35</th>\n",
              "      <td>14729.0</td>\n",
              "      <td>USA</td>\n",
              "      <td>71</td>\n",
              "    </tr>\n",
              "    <tr>\n",
              "      <th>57</th>\n",
              "      <td>16274.0</td>\n",
              "      <td>USA</td>\n",
              "      <td>67</td>\n",
              "    </tr>\n",
              "    <tr>\n",
              "      <th>78</th>\n",
              "      <td>17841.0</td>\n",
              "      <td>USA</td>\n",
              "      <td>65</td>\n",
              "    </tr>\n",
              "    <tr>\n",
              "      <th>48</th>\n",
              "      <td>15862.0</td>\n",
              "      <td>USA</td>\n",
              "      <td>64</td>\n",
              "    </tr>\n",
              "    <tr>\n",
              "      <th>6</th>\n",
              "      <td>12838.0</td>\n",
              "      <td>USA</td>\n",
              "      <td>59</td>\n",
              "    </tr>\n",
              "    <tr>\n",
              "      <th>83</th>\n",
              "      <td>17908.0</td>\n",
              "      <td>USA</td>\n",
              "      <td>58</td>\n",
              "    </tr>\n",
              "  </tbody>\n",
              "</table>\n",
              "</div>"
            ],
            "text/plain": [
              "   id_cliente  pais  N_Transaccion\n",
              "87    17968.0   USA             85\n",
              "79    17850.0   USA             84\n",
              "84    17920.0   USA             81\n",
              "1     12433.0  Peru             73\n",
              "35    14729.0   USA             71\n",
              "57    16274.0   USA             67\n",
              "78    17841.0   USA             65\n",
              "48    15862.0   USA             64\n",
              "6     12838.0   USA             59\n",
              "83    17908.0   USA             58"
            ]
          },
          "metadata": {
            "tags": []
          },
          "execution_count": 48
        }
      ]
    },
    {
      "cell_type": "markdown",
      "metadata": {
        "id": "8d71K1k3GDZZ",
        "colab_type": "text"
      },
      "source": [
        "Más allá de la gráfica, el número de transacciones puede ser una variable relevante para pensar en un análisis de segmentación a futuro, ya que observamos diferentes tipos de consumidores según número de transacciones / compras."
      ]
    },
    {
      "cell_type": "markdown",
      "metadata": {
        "id": "h3gwr32qg6YA",
        "colab_type": "text"
      },
      "source": [
        "**¿Cuánto dinero gastan los clientes?**"
      ]
    },
    {
      "cell_type": "code",
      "metadata": {
        "id": "EJpWPZLagZQb",
        "colab_type": "code",
        "colab": {
          "base_uri": "https://localhost:8080/",
          "height": 373
        },
        "outputId": "6f388976-e697-4f6a-cbe3-719e0844b37c"
      },
      "source": [
        "money_spent = df_new.groupby(by=['id_cliente','pais'], as_index=False)['venta_total'].sum()\n",
        "print('Top 10 de clientes con mayor consumo en dólares')\n",
        "money_spent.sort_values(by='venta_total', ascending=False).head(10)"
      ],
      "execution_count": null,
      "outputs": [
        {
          "output_type": "stream",
          "text": [
            "Top 10 de clientes con mayor consumo en dólares\n"
          ],
          "name": "stdout"
        },
        {
          "output_type": "execute_result",
          "data": {
            "text/html": [
              "<div>\n",
              "<style scoped>\n",
              "    .dataframe tbody tr th:only-of-type {\n",
              "        vertical-align: middle;\n",
              "    }\n",
              "\n",
              "    .dataframe tbody tr th {\n",
              "        vertical-align: top;\n",
              "    }\n",
              "\n",
              "    .dataframe thead th {\n",
              "        text-align: right;\n",
              "    }\n",
              "</style>\n",
              "<table border=\"1\" class=\"dataframe\">\n",
              "  <thead>\n",
              "    <tr style=\"text-align: right;\">\n",
              "      <th></th>\n",
              "      <th>id_cliente</th>\n",
              "      <th>pais</th>\n",
              "      <th>venta_total</th>\n",
              "    </tr>\n",
              "  </thead>\n",
              "  <tbody>\n",
              "    <tr>\n",
              "      <th>24</th>\n",
              "      <td>13777.0</td>\n",
              "      <td>USA</td>\n",
              "      <td>2561.20</td>\n",
              "    </tr>\n",
              "    <tr>\n",
              "      <th>1</th>\n",
              "      <td>12433.0</td>\n",
              "      <td>Peru</td>\n",
              "      <td>1919.14</td>\n",
              "    </tr>\n",
              "    <tr>\n",
              "      <th>72</th>\n",
              "      <td>17511.0</td>\n",
              "      <td>USA</td>\n",
              "      <td>1825.74</td>\n",
              "    </tr>\n",
              "    <tr>\n",
              "      <th>79</th>\n",
              "      <td>17850.0</td>\n",
              "      <td>USA</td>\n",
              "      <td>1499.34</td>\n",
              "    </tr>\n",
              "    <tr>\n",
              "      <th>14</th>\n",
              "      <td>13408.0</td>\n",
              "      <td>USA</td>\n",
              "      <td>1024.68</td>\n",
              "    </tr>\n",
              "    <tr>\n",
              "      <th>44</th>\n",
              "      <td>15485.0</td>\n",
              "      <td>USA</td>\n",
              "      <td>950.09</td>\n",
              "    </tr>\n",
              "    <tr>\n",
              "      <th>2</th>\n",
              "      <td>12583.0</td>\n",
              "      <td>Mexico</td>\n",
              "      <td>855.86</td>\n",
              "    </tr>\n",
              "    <tr>\n",
              "      <th>54</th>\n",
              "      <td>16210.0</td>\n",
              "      <td>USA</td>\n",
              "      <td>847.54</td>\n",
              "    </tr>\n",
              "    <tr>\n",
              "      <th>12</th>\n",
              "      <td>13093.0</td>\n",
              "      <td>USA</td>\n",
              "      <td>799.40</td>\n",
              "    </tr>\n",
              "    <tr>\n",
              "      <th>58</th>\n",
              "      <td>16456.0</td>\n",
              "      <td>USA</td>\n",
              "      <td>787.40</td>\n",
              "    </tr>\n",
              "  </tbody>\n",
              "</table>\n",
              "</div>"
            ],
            "text/plain": [
              "   id_cliente    pais  venta_total\n",
              "24    13777.0     USA      2561.20\n",
              "1     12433.0    Peru      1919.14\n",
              "72    17511.0     USA      1825.74\n",
              "79    17850.0     USA      1499.34\n",
              "14    13408.0     USA      1024.68\n",
              "44    15485.0     USA       950.09\n",
              "2     12583.0  Mexico       855.86\n",
              "54    16210.0     USA       847.54\n",
              "12    13093.0     USA       799.40\n",
              "58    16456.0     USA       787.40"
            ]
          },
          "metadata": {
            "tags": []
          },
          "execution_count": 49
        }
      ]
    },
    {
      "cell_type": "markdown",
      "metadata": {
        "id": "uNKp9oPQKowj",
        "colab_type": "text"
      },
      "source": [
        "De los 10 clientes con mayor consumo total en dólares, 8 son de USA, ¿Te animas a ver que tipo de productos compran este top de clientes?"
      ]
    },
    {
      "cell_type": "markdown",
      "metadata": {
        "id": "9WJlqVVVLRIx",
        "colab_type": "text"
      },
      "source": [
        "**Descubriendo patrones por país**"
      ]
    },
    {
      "cell_type": "markdown",
      "metadata": {
        "id": "s63hdazvNOsL",
        "colab_type": "text"
      },
      "source": [
        "Vemos la distribucion de cantidad de compras por país\n",
        "\n"
      ]
    },
    {
      "cell_type": "code",
      "metadata": {
        "id": "gADGBHtLLbHs",
        "colab_type": "code",
        "colab": {
          "base_uri": "https://localhost:8080/",
          "height": 521
        },
        "outputId": "0f216df5-ecfa-48de-9b00-85c6528d490c"
      },
      "source": [
        "group_country_orders = df_new.groupby('pais')['N_Transaccion'].count().sort_values()\n",
        "\n",
        "plt.subplots(figsize=(15,8))\n",
        "group_country_orders.plot(kind='barh', fontsize=12, color=color[0])\n",
        "plt.xlabel('Numero de compras', fontsize=12)\n",
        "plt.ylabel('Pais', fontsize=12)\n",
        "plt.title('Numero de compras por país', fontsize=12)\n",
        "plt.show()"
      ],
      "execution_count": null,
      "outputs": [
        {
          "output_type": "display_data",
          "data": {
            "image/png": "[encoded data removed]",
            "text/plain": [
              "<Figure size 1080x576 with 1 Axes>"
            ]
          },
          "metadata": {
            "tags": []
          }
        }
      ]
    },
    {
      "cell_type": "markdown",
      "metadata": {
        "id": "_a5j6148NVcG",
        "colab_type": "text"
      },
      "source": [
        "Ahora veamos la distribucion por cantidad de ventas totales\n"
      ]
    },
    {
      "cell_type": "code",
      "metadata": {
        "id": "KWlsL-NCNZvo",
        "colab_type": "code",
        "colab": {
          "base_uri": "https://localhost:8080/",
          "height": 521
        },
        "outputId": "500141d3-b843-4fd0-89c8-955f5254de1b"
      },
      "source": [
        "group_country_amount_spent = df_new.groupby('pais')['venta_total'].sum().sort_values()\n",
        "\n",
        "plt.subplots(figsize=(15,8))\n",
        "group_country_amount_spent.plot(kind='barh', fontsize=12, color=color[0])\n",
        "plt.xlabel('Cantidad de compra en dólares', fontsize=12)\n",
        "plt.ylabel('País', fontsize=12)\n",
        "plt.title('Cantidad de compra en dólares por país', fontsize=12)\n",
        "plt.show()"
      ],
      "execution_count": null,
      "outputs": [
        {
          "output_type": "display_data",
          "data": {
            "image/png": "[encoded data removed]",
            "text/plain": [
              "<Figure size 1080x576 with 1 Axes>"
            ]
          },
          "metadata": {
            "tags": []
          }
        }
      ]
    },
    {
      "cell_type": "markdown",
      "metadata": {
        "id": "vtPeLw9iLXv-",
        "colab_type": "text"
      },
      "source": [
        "Observando ambas distribuciones, aparentemente el gasto total tiene una relación con el número de compras. ¿Lo verificamos?"
      ]
    },
    {
      "cell_type": "code",
      "metadata": {
        "id": "b-VQakULN_nD",
        "colab_type": "code",
        "colab": {
          "base_uri": "https://localhost:8080/",
          "height": 139
        },
        "outputId": "a0cacd64-9863-4cd6-ecca-7d3c1d2109ba"
      },
      "source": [
        "correlacion = df_new.corr()\n",
        "correlacion.head()"
      ],
      "execution_count": null,
      "outputs": [
        {
          "output_type": "execute_result",
          "data": {
            "text/html": [
              "<div>\n",
              "<style scoped>\n",
              "    .dataframe tbody tr th:only-of-type {\n",
              "        vertical-align: middle;\n",
              "    }\n",
              "\n",
              "    .dataframe tbody tr th {\n",
              "        vertical-align: top;\n",
              "    }\n",
              "\n",
              "    .dataframe thead th {\n",
              "        text-align: right;\n",
              "    }\n",
              "</style>\n",
              "<table border=\"1\" class=\"dataframe\">\n",
              "  <thead>\n",
              "    <tr style=\"text-align: right;\">\n",
              "      <th></th>\n",
              "      <th>cantidad</th>\n",
              "      <th>precio_unitario</th>\n",
              "      <th>venta_total</th>\n",
              "    </tr>\n",
              "  </thead>\n",
              "  <tbody>\n",
              "    <tr>\n",
              "      <th>cantidad</th>\n",
              "      <td>1.000000</td>\n",
              "      <td>-0.128090</td>\n",
              "      <td>0.623181</td>\n",
              "    </tr>\n",
              "    <tr>\n",
              "      <th>precio_unitario</th>\n",
              "      <td>-0.128090</td>\n",
              "      <td>1.000000</td>\n",
              "      <td>0.170909</td>\n",
              "    </tr>\n",
              "    <tr>\n",
              "      <th>venta_total</th>\n",
              "      <td>0.623181</td>\n",
              "      <td>0.170909</td>\n",
              "      <td>1.000000</td>\n",
              "    </tr>\n",
              "  </tbody>\n",
              "</table>\n",
              "</div>"
            ],
            "text/plain": [
              "                 cantidad  precio_unitario  venta_total\n",
              "cantidad         1.000000        -0.128090     0.623181\n",
              "precio_unitario -0.128090         1.000000     0.170909\n",
              "venta_total      0.623181         0.170909     1.000000"
            ]
          },
          "metadata": {
            "tags": []
          },
          "execution_count": 94
        }
      ]
    },
    {
      "cell_type": "markdown",
      "metadata": {
        "id": "go8uKX1xOPPa",
        "colab_type": "text"
      },
      "source": [
        "***Mapa de calor - heatmap***\n",
        "\n",
        "Los mapas de calor tienen gran número de aplicaciones en contexto de sistemas físicos, campo donde surgieron. Sin embargo en la actualidad y para nuestro proposito han encontrado una funcionalidad particular, analisis y representacion de correlaciones.\n"
      ]
    },
    {
      "cell_type": "code",
      "metadata": {
        "id": "1qnEbjCQOTHr",
        "colab_type": "code",
        "colab": {
          "base_uri": "https://localhost:8080/",
          "height": 399
        },
        "outputId": "3b842a09-7186-438e-83b7-a912d26e6c6a"
      },
      "source": [
        "fig = plt.figure(figsize=(8,6)) \n",
        "sns.heatmap(correlacion,annot=correlacion,fmt='.1f')"
      ],
      "execution_count": null,
      "outputs": [
        {
          "output_type": "execute_result",
          "data": {
            "text/plain": [
              "<matplotlib.axes._subplots.AxesSubplot at 0x7ff2466f6e10>"
            ]
          },
          "metadata": {
            "tags": []
          },
          "execution_count": 53
        },
        {
          "output_type": "display_data",
          "data": {
            "image/png": "[encoded data removed]",
            "text/plain": [
              "<Figure size 576x432 with 2 Axes>"
            ]
          },
          "metadata": {
            "tags": []
          }
        }
      ]
    },
    {
      "cell_type": "markdown",
      "metadata": {
        "id": "jYCOotvhO4Wq",
        "colab_type": "text"
      },
      "source": [
        "Si queremos verlo con otros tipos de diseños"
      ]
    },
    {
      "cell_type": "code",
      "metadata": {
        "id": "OxxBMt5GOwyk",
        "colab_type": "code",
        "colab": {
          "base_uri": "https://localhost:8080/",
          "height": 453
        },
        "outputId": "c927b866-e460-46dd-c50d-1c664f13441c"
      },
      "source": [
        "fig = plt.figure(figsize=(8,7)) \n",
        "sns.heatmap(correlacion,annot=correlacion,fmt='.1f',linewidth=0.2,cmap='bwr')"
      ],
      "execution_count": null,
      "outputs": [
        {
          "output_type": "execute_result",
          "data": {
            "text/plain": [
              "<matplotlib.axes._subplots.AxesSubplot at 0x7ff241bce6d8>"
            ]
          },
          "metadata": {
            "tags": []
          },
          "execution_count": 54
        },
        {
          "output_type": "display_data",
          "data": {
            "image/png": "[encoded data removed]",
            "text/plain": [
              "<Figure size 576x504 with 2 Axes>"
            ]
          },
          "metadata": {
            "tags": []
          }
        }
      ]
    },
    {
      "cell_type": "code",
      "metadata": {
        "id": "JvyPwwX0PIeD",
        "colab_type": "code",
        "colab": {
          "base_uri": "https://localhost:8080/",
          "height": 399
        },
        "outputId": "8212e91d-ec39-49e5-ef7c-21c1a9593457"
      },
      "source": [
        "fig = plt.figure(figsize=(8,6)) \n",
        "sns.heatmap(correlacion,linewidth=0.2,cmap='YlGnBu')"
      ],
      "execution_count": null,
      "outputs": [
        {
          "output_type": "execute_result",
          "data": {
            "text/plain": [
              "<matplotlib.axes._subplots.AxesSubplot at 0x7ff241bce240>"
            ]
          },
          "metadata": {
            "tags": []
          },
          "execution_count": 55
        },
        {
          "output_type": "display_data",
          "data": {
            "image/png": "[encoded data removed]",
            "text/plain": [
              "<Figure size 576x432 with 2 Axes>"
            ]
          },
          "metadata": {
            "tags": []
          }
        }
      ]
    },
    {
      "cell_type": "markdown",
      "metadata": {
        "id": "VE8ScXvkQSl5",
        "colab_type": "text"
      },
      "source": [
        "**Descubriendo patrones por fecha**"
      ]
    },
    {
      "cell_type": "code",
      "metadata": {
        "id": "EMgTXkXZQnUI",
        "colab_type": "code",
        "colab": {
          "base_uri": "https://localhost:8080/",
          "height": 208
        },
        "outputId": "ba84d559-64cd-4e09-ea50-d0664fcd3f46"
      },
      "source": [
        "df_new['hora'].value_counts()"
      ],
      "execution_count": null,
      "outputs": [
        {
          "output_type": "execute_result",
          "data": {
            "text/plain": [
              "12    418\n",
              "11    368\n",
              "13    268\n",
              "15    187\n",
              "14    181\n",
              "16    149\n",
              "9     143\n",
              "10    113\n",
              "8      46\n",
              "17     13\n",
              "Name: hora, dtype: int64"
            ]
          },
          "metadata": {
            "tags": []
          },
          "execution_count": 56
        }
      ]
    },
    {
      "cell_type": "code",
      "metadata": {
        "id": "avCUtbOBqjrJ",
        "colab_type": "code",
        "colab": {
          "base_uri": "https://localhost:8080/",
          "height": 420
        },
        "outputId": "dea25755-97d0-420e-854a-0b30420d34c3"
      },
      "source": [
        "ax = df_new.groupby('N_Transaccion')['hora'].unique().value_counts().iloc[:-1].sort_index().plot(kind='bar',color=color[0],figsize=(15,6))\n",
        "ax.set_xlabel('Hora',fontsize=15)\n",
        "ax.set_ylabel('Número de compras',fontsize=15)\n",
        "ax.set_title('Número de compras por horas',fontsize=15)\n",
        "ax.set_xticklabels(range(6,21), rotation='horizontal', fontsize=15)\n",
        "plt.show()"
      ],
      "execution_count": null,
      "outputs": [
        {
          "output_type": "display_data",
          "data": {
            "image/png": "[encoded data removed]",
            "text/plain": [
              "<Figure size 1080x432 with 1 Axes>"
            ]
          },
          "metadata": {
            "tags": []
          }
        }
      ]
    },
    {
      "cell_type": "markdown",
      "metadata": {
        "id": "2yBTC7UVSXIh",
        "colab_type": "text"
      },
      "source": [
        "¿Qué insights puedo sacar de acá? Quizás hacer ofertas en las horas que entra más gente a comprar como a las 8 am."
      ]
    },
    {
      "cell_type": "markdown",
      "metadata": {
        "id": "675miuQtSpdr",
        "colab_type": "text"
      },
      "source": [
        "##**Hallazgos encontrados**"
      ]
    },
    {
      "cell_type": "markdown",
      "metadata": {
        "id": "HUIvf9s8TvBD",
        "colab_type": "text"
      },
      "source": [
        "1. El cliente con el mayor número de pedidos y dinero gastado en compras proviene de USA, en monto es seguido por un peruano.\n",
        "2. El horario con mayor número de compras es el de las 8 am.\n",
        "3. Existe una relación directa entre la cantidad de compras y el monto gastado por lo cual deberíamos incentivar que se compren productos inclusive de bajo precio.\n",
        "4. Existen 19 clientes que en cada compra que realizan gastan por lo menos 220 dolares (Percentil 99), los cuales podrían formar parte de un segmento Platino.\n",
        "5. Hay un 9% de clientes que gasta entre 45 a 219 dólares por transacción, ellos son clientes con un potencial interesante, a los cuales podríamos implementar un algoritmo de recomendación para que se acerquen a los clientes del segmento Platino ¿Qué les puede estar faltando para tener un monto más cercano al segmento Platino?\n",
        "\n"
      ]
    }
  ]
}